{
 "cells": [
  {
   "cell_type": "markdown",
   "metadata": {
    "toc": true
   },
   "source": [
    "<h1>Содержание<span class=\"tocSkip\"></span></h1>\n",
    "<div class=\"toc\"><ul class=\"toc-item\"><li><span><a href=\"#Подготовка\" data-toc-modified-id=\"Подготовка-1\"><span class=\"toc-item-num\">1&nbsp;&nbsp;</span>Подготовка</a></span></li><li><span><a href=\"#Обучение\" data-toc-modified-id=\"Обучение-2\"><span class=\"toc-item-num\">2&nbsp;&nbsp;</span>Обучение</a></span></li><li><span><a href=\"#Выводы\" data-toc-modified-id=\"Выводы-3\"><span class=\"toc-item-num\">3&nbsp;&nbsp;</span>Выводы</a></span></li><li><span><a href=\"#Чек-лист-проверки\" data-toc-modified-id=\"Чек-лист-проверки-4\"><span class=\"toc-item-num\">4&nbsp;&nbsp;</span>Чек-лист проверки</a></span></li></ul></div>"
   ]
  },
  {
   "cell_type": "markdown",
   "metadata": {},
   "source": [
    "# Проект для «Викишоп»"
   ]
  },
  {
   "cell_type": "markdown",
   "metadata": {},
   "source": [
    "Интернет-магазин «Викишоп» запускает новый сервис. Теперь пользователи могут редактировать и дополнять описания товаров, как в вики-сообществах. То есть клиенты предлагают свои правки и комментируют изменения других. Магазину нужен инструмент, который будет искать токсичные комментарии и отправлять их на модерацию. \n",
    "\n",
    "Обучите модель классифицировать комментарии на позитивные и негативные. В вашем распоряжении набор данных с разметкой о токсичности правок.\n",
    "\n",
    "Постройте модель со значением метрики качества *F1* не меньше 0.75. \n",
    "\n",
    "**Инструкция по выполнению проекта**\n",
    "\n",
    "1. Загрузите и подготовьте данные.\n",
    "2. Обучите разные модели. \n",
    "3. Сделайте выводы.\n",
    "\n",
    "Для выполнения проекта применять *BERT* необязательно, но вы можете попробовать.\n",
    "\n",
    "**Описание данных**\n",
    "\n",
    "Данные находятся в файле `toxic_comments.csv`. Столбец *text* в нём содержит текст комментария, а *toxic* — целевой признак."
   ]
  },
  {
   "cell_type": "markdown",
   "metadata": {},
   "source": [
    "## Подготовка"
   ]
  },
  {
   "cell_type": "code",
   "execution_count": 1,
   "metadata": {},
   "outputs": [],
   "source": [
    "import pandas as pd\n",
    "import nltk\n",
    "import re\n",
    "from nltk.corpus import stopwords as nltk_stopwords\n",
    "from sklearn.feature_extraction.text import TfidfVectorizer \n",
    "from pymystem3 import Mystem\n",
    "import spacy\n",
    "from sklearn.model_selection import train_test_split\n",
    "from sklearn.experimental import enable_halving_search_cv\n",
    "from sklearn.model_selection import GridSearchCV\n",
    "from sklearn.linear_model import LogisticRegression\n",
    "from sklearn.ensemble import RandomForestClassifier\n",
    "from sklearn.tree import DecisionTreeClassifier\n",
    "from sklearn.metrics import f1_score\n",
    "\n",
    "from sklearn.metrics import make_scorer\n",
    "import numpy as np\n",
    "\n"
   ]
  },
  {
   "cell_type": "code",
   "execution_count": 2,
   "metadata": {},
   "outputs": [],
   "source": [
    "data = pd.read_csv('/datasets/toxic_comments.csv')"
   ]
  },
  {
   "cell_type": "code",
   "execution_count": 3,
   "metadata": {},
   "outputs": [
    {
     "name": "stdout",
     "output_type": "stream",
     "text": [
      "<class 'pandas.core.frame.DataFrame'>\n",
      "RangeIndex: 159292 entries, 0 to 159291\n",
      "Data columns (total 3 columns):\n",
      " #   Column      Non-Null Count   Dtype \n",
      "---  ------      --------------   ----- \n",
      " 0   Unnamed: 0  159292 non-null  int64 \n",
      " 1   text        159292 non-null  object\n",
      " 2   toxic       159292 non-null  int64 \n",
      "dtypes: int64(2), object(1)\n",
      "memory usage: 3.6+ MB\n"
     ]
    }
   ],
   "source": [
    "data.info()"
   ]
  },
  {
   "cell_type": "code",
   "execution_count": 4,
   "metadata": {},
   "outputs": [
    {
     "data": {
      "text/html": [
       "<div>\n",
       "<style scoped>\n",
       "    .dataframe tbody tr th:only-of-type {\n",
       "        vertical-align: middle;\n",
       "    }\n",
       "\n",
       "    .dataframe tbody tr th {\n",
       "        vertical-align: top;\n",
       "    }\n",
       "\n",
       "    .dataframe thead th {\n",
       "        text-align: right;\n",
       "    }\n",
       "</style>\n",
       "<table border=\"1\" class=\"dataframe\">\n",
       "  <thead>\n",
       "    <tr style=\"text-align: right;\">\n",
       "      <th></th>\n",
       "      <th>Unnamed: 0</th>\n",
       "      <th>text</th>\n",
       "      <th>toxic</th>\n",
       "    </tr>\n",
       "  </thead>\n",
       "  <tbody>\n",
       "    <tr>\n",
       "      <th>0</th>\n",
       "      <td>0</td>\n",
       "      <td>Explanation\\nWhy the edits made under my usern...</td>\n",
       "      <td>0</td>\n",
       "    </tr>\n",
       "    <tr>\n",
       "      <th>1</th>\n",
       "      <td>1</td>\n",
       "      <td>D'aww! He matches this background colour I'm s...</td>\n",
       "      <td>0</td>\n",
       "    </tr>\n",
       "    <tr>\n",
       "      <th>2</th>\n",
       "      <td>2</td>\n",
       "      <td>Hey man, I'm really not trying to edit war. It...</td>\n",
       "      <td>0</td>\n",
       "    </tr>\n",
       "    <tr>\n",
       "      <th>3</th>\n",
       "      <td>3</td>\n",
       "      <td>\"\\nMore\\nI can't make any real suggestions on ...</td>\n",
       "      <td>0</td>\n",
       "    </tr>\n",
       "    <tr>\n",
       "      <th>4</th>\n",
       "      <td>4</td>\n",
       "      <td>You, sir, are my hero. Any chance you remember...</td>\n",
       "      <td>0</td>\n",
       "    </tr>\n",
       "  </tbody>\n",
       "</table>\n",
       "</div>"
      ],
      "text/plain": [
       "   Unnamed: 0                                               text  toxic\n",
       "0           0  Explanation\\nWhy the edits made under my usern...      0\n",
       "1           1  D'aww! He matches this background colour I'm s...      0\n",
       "2           2  Hey man, I'm really not trying to edit war. It...      0\n",
       "3           3  \"\\nMore\\nI can't make any real suggestions on ...      0\n",
       "4           4  You, sir, are my hero. Any chance you remember...      0"
      ]
     },
     "execution_count": 4,
     "metadata": {},
     "output_type": "execute_result"
    }
   ],
   "source": [
    "data.head()"
   ]
  },
  {
   "cell_type": "markdown",
   "metadata": {},
   "source": [
    "Проверим на дубликаты "
   ]
  },
  {
   "cell_type": "code",
   "execution_count": 5,
   "metadata": {},
   "outputs": [
    {
     "data": {
      "text/plain": [
       "0"
      ]
     },
     "execution_count": 5,
     "metadata": {},
     "output_type": "execute_result"
    }
   ],
   "source": [
    "data.duplicated().sum()"
   ]
  },
  {
   "cell_type": "markdown",
   "metadata": {},
   "source": [
    "Функция для очистки текста."
   ]
  },
  {
   "cell_type": "code",
   "execution_count": 6,
   "metadata": {},
   "outputs": [],
   "source": [
    "def clear_text(text):\n",
    "    return \" \".join(re.sub(r'[^a-zA-Z]',' ',text).split())"
   ]
  },
  {
   "cell_type": "markdown",
   "metadata": {},
   "source": [
    "Функция для лематизации"
   ]
  },
  {
   "cell_type": "code",
   "execution_count": 7,
   "metadata": {},
   "outputs": [],
   "source": [
    "parse = spacy.load('en_core_web_sm')\n",
    "\n",
    "def lemmatize(s, exceptions={\"PUNCT\", \"SPACE\"}): \n",
    "    doc = parse(s)\n",
    "    return \" \".join([token.lemma_ for token in doc if token.pos_ not in exceptions])"
   ]
  },
  {
   "cell_type": "markdown",
   "metadata": {},
   "source": [
    "Тут умерает ядро , пару раз сработало пока писал код , как только начал тестить всё умерло. \n",
    "Что делать О_О?"
   ]
  },
  {
   "cell_type": "code",
   "execution_count": 8,
   "metadata": {},
   "outputs": [
    {
     "data": {
      "text/plain": [
       "0    explanation why the edit make under my usernam...\n",
       "1    d aww he match this background colour I m seem...\n",
       "2    hey man I m really not try to edit war it s ju...\n",
       "3    More I can t make any real suggestion on impro...\n",
       "4    you sir be my hero any chance you remember wha...\n",
       "Name: text, dtype: object"
      ]
     },
     "execution_count": 8,
     "metadata": {},
     "output_type": "execute_result"
    }
   ],
   "source": [
    "data_lemm = data['text'].apply(lambda x: clear_text(x))\n",
    "data_lemm = data_lemm.apply(lambda x: lemmatize(x))\n",
    "data_lemm.head()"
   ]
  },
  {
   "cell_type": "markdown",
   "metadata": {},
   "source": [
    "## Обучение"
   ]
  },
  {
   "cell_type": "markdown",
   "metadata": {},
   "source": [
    "Разделим данные на тестовые и тренировачные. "
   ]
  },
  {
   "cell_type": "code",
   "execution_count": 9,
   "metadata": {},
   "outputs": [],
   "source": [
    "train , test  = train_test_split(data_lemm, test_size=0.25, random_state=12345)"
   ]
  },
  {
   "cell_type": "markdown",
   "metadata": {},
   "source": [
    "Векторезируем данные."
   ]
  },
  {
   "cell_type": "code",
   "execution_count": 10,
   "metadata": {},
   "outputs": [],
   "source": [
    "stopwords = set(nltk_stopwords.words('english'))\n",
    "\n",
    "count_tf_idf = TfidfVectorizer(stop_words=stopwords) \n",
    "\n",
    "tf_idf_train = count_tf_idf.fit_transform(train) \n",
    "tf_idf_test = count_tf_idf.transform(test) "
   ]
  },
  {
   "cell_type": "markdown",
   "metadata": {},
   "source": [
    "Выделим признаки и цели."
   ]
  },
  {
   "cell_type": "code",
   "execution_count": 11,
   "metadata": {},
   "outputs": [],
   "source": [
    "features_train = tf_idf_train\n",
    "features_test = tf_idf_test\n",
    "target_train = data.loc[train.index]['toxic']\n",
    "target_test = data.loc[test.index]['toxic']"
   ]
  },
  {
   "cell_type": "markdown",
   "metadata": {},
   "source": [
    "Функция для подбора парметров."
   ]
  },
  {
   "cell_type": "code",
   "execution_count": 12,
   "metadata": {},
   "outputs": [],
   "source": [
    "results = pd.DataFrame(columns=['model','parametrs','f1'])     \n",
    "score = make_scorer(f1_score, greater_is_better=False)\n",
    "\n",
    "def trainer (model_train, parameters):\n",
    "    \n",
    "    \n",
    "    model = GridSearchCV(model_train, parameters, cv=3, scoring='f1', n_jobs=-1)\n",
    "    results = pd.DataFrame(columns=['model','parametrs','f1'])\n",
    "    \n",
    "    model.fit(features_train,target_train)\n",
    "\n",
    "    results = results.append({'model': model_train,\n",
    "                              'parametrs': model.best_params_,\n",
    "                              'f1': -model.best_score_}, ignore_index=True)\n",
    "\n",
    "    return results"
   ]
  },
  {
   "cell_type": "markdown",
   "metadata": {},
   "source": [
    "LogisticRegression"
   ]
  },
  {
   "cell_type": "code",
   "execution_count": 13,
   "metadata": {},
   "outputs": [],
   "source": [
    "parametrs = {}\n",
    "model = LogisticRegression(max_iter = 200, class_weight='balanced')\n",
    "results = results.append(trainer(model,parametrs),  ignore_index=True)"
   ]
  },
  {
   "cell_type": "markdown",
   "metadata": {},
   "source": [
    "DecisionTreeClassifier"
   ]
  },
  {
   "cell_type": "code",
   "execution_count": 14,
   "metadata": {},
   "outputs": [],
   "source": [
    "parametrs = {'max_depth': range(2, 5),'random_state': [12345]}\n",
    "model = DecisionTreeClassifier(class_weight='balanced')\n",
    "results = results.append(trainer(model,parametrs),  ignore_index=True)"
   ]
  },
  {
   "cell_type": "markdown",
   "metadata": {},
   "source": [
    "RandomForestClassifier"
   ]
  },
  {
   "cell_type": "code",
   "execution_count": 16,
   "metadata": {},
   "outputs": [],
   "source": [
    "parametrs = {'n_estimators':[100,150,200],'max_depth': range(2, 5),'random_state': [12345]}\n",
    "model = RandomForestClassifier(class_weight='balanced')\n",
    "results = results.append(trainer(model,parametrs),  ignore_index=True)"
   ]
  },
  {
   "cell_type": "markdown",
   "metadata": {},
   "source": [
    "Лучшая модель."
   ]
  },
  {
   "cell_type": "code",
   "execution_count": 18,
   "metadata": {},
   "outputs": [
    {
     "data": {
      "text/html": [
       "<div>\n",
       "<style scoped>\n",
       "    .dataframe tbody tr th:only-of-type {\n",
       "        vertical-align: middle;\n",
       "    }\n",
       "\n",
       "    .dataframe tbody tr th {\n",
       "        vertical-align: top;\n",
       "    }\n",
       "\n",
       "    .dataframe thead th {\n",
       "        text-align: right;\n",
       "    }\n",
       "</style>\n",
       "<table border=\"1\" class=\"dataframe\">\n",
       "  <thead>\n",
       "    <tr style=\"text-align: right;\">\n",
       "      <th></th>\n",
       "      <th>model</th>\n",
       "      <th>parametrs</th>\n",
       "      <th>f1</th>\n",
       "    </tr>\n",
       "  </thead>\n",
       "  <tbody>\n",
       "    <tr>\n",
       "      <th>0</th>\n",
       "      <td>LogisticRegression(class_weight='balanced', max_iter=200)</td>\n",
       "      <td>{}</td>\n",
       "      <td>-0.748348</td>\n",
       "    </tr>\n",
       "  </tbody>\n",
       "</table>\n",
       "</div>"
      ],
      "text/plain": [
       "                                                       model parametrs  \\\n",
       "0  LogisticRegression(class_weight='balanced', max_iter=200)        {}   \n",
       "\n",
       "         f1  \n",
       "0 -0.748348  "
      ]
     },
     "execution_count": 18,
     "metadata": {},
     "output_type": "execute_result"
    }
   ],
   "source": [
    "pd.options.display.max_colwidth = 90\n",
    "results[results['f1'].min() == results['f1']]"
   ]
  },
  {
   "cell_type": "markdown",
   "metadata": {},
   "source": [
    "Проверим на тестовой выборке."
   ]
  },
  {
   "cell_type": "code",
   "execution_count": 19,
   "metadata": {},
   "outputs": [
    {
     "name": "stdout",
     "output_type": "stream",
     "text": [
      "0.7537450156266838\n"
     ]
    }
   ],
   "source": [
    "model = LogisticRegression(class_weight='balanced',random_state=12345, max_iter = 200) \n",
    "model.fit(features_train, target_train)\n",
    "predictions = model.predict(features_test)\n",
    "print(f1_score(target_test,predictions))"
   ]
  },
  {
   "cell_type": "markdown",
   "metadata": {},
   "source": [
    "## Выводы"
   ]
  },
  {
   "cell_type": "markdown",
   "metadata": {},
   "source": [
    "Лучшая модель LogisticRegression f1 = 0.7537"
   ]
  }
 ],
 "metadata": {
  "ExecuteTimeLog": [
   {
    "duration": 405,
    "start_time": "2022-11-28T16:02:20.596Z"
   },
   {
    "duration": 98,
    "start_time": "2022-11-28T16:02:46.611Z"
   },
   {
    "duration": 3279,
    "start_time": "2022-11-28T16:03:16.367Z"
   },
   {
    "duration": 32,
    "start_time": "2022-11-28T16:06:11.795Z"
   },
   {
    "duration": 13,
    "start_time": "2022-11-28T16:06:30.421Z"
   },
   {
    "duration": 849,
    "start_time": "2022-11-28T16:08:24.713Z"
   },
   {
    "duration": 230,
    "start_time": "2022-11-28T16:08:43.519Z"
   },
   {
    "duration": 27,
    "start_time": "2022-11-28T16:09:05.971Z"
   },
   {
    "duration": 2115,
    "start_time": "2022-11-28T16:19:27.240Z"
   },
   {
    "duration": 22,
    "start_time": "2022-11-28T16:19:43.651Z"
   },
   {
    "duration": 51,
    "start_time": "2022-11-28T16:20:01.616Z"
   },
   {
    "duration": 1431,
    "start_time": "2022-11-28T16:20:07.694Z"
   },
   {
    "duration": 3341,
    "start_time": "2022-11-28T16:20:09.127Z"
   },
   {
    "duration": 35,
    "start_time": "2022-11-28T16:20:12.470Z"
   },
   {
    "duration": 17,
    "start_time": "2022-11-28T16:20:12.507Z"
   },
   {
    "duration": 245,
    "start_time": "2022-11-28T16:20:12.527Z"
   },
   {
    "duration": 2755,
    "start_time": "2022-11-28T16:20:12.773Z"
   },
   {
    "duration": 1445,
    "start_time": "2022-11-28T16:22:44.320Z"
   },
   {
    "duration": 3370,
    "start_time": "2022-11-28T16:22:45.768Z"
   },
   {
    "duration": 34,
    "start_time": "2022-11-28T16:22:49.140Z"
   },
   {
    "duration": 16,
    "start_time": "2022-11-28T16:22:49.175Z"
   },
   {
    "duration": 237,
    "start_time": "2022-11-28T16:22:49.193Z"
   },
   {
    "duration": 2786,
    "start_time": "2022-11-28T16:22:49.437Z"
   },
   {
    "duration": 1339,
    "start_time": "2022-11-28T16:29:55.036Z"
   },
   {
    "duration": 3321,
    "start_time": "2022-11-28T16:29:56.377Z"
   },
   {
    "duration": 31,
    "start_time": "2022-11-28T16:29:59.700Z"
   },
   {
    "duration": 14,
    "start_time": "2022-11-28T16:29:59.732Z"
   },
   {
    "duration": 243,
    "start_time": "2022-11-28T16:29:59.748Z"
   },
   {
    "duration": 2444,
    "start_time": "2022-11-28T16:29:59.993Z"
   },
   {
    "duration": 1336,
    "start_time": "2022-11-28T16:31:39.531Z"
   },
   {
    "duration": 3276,
    "start_time": "2022-11-28T16:31:40.869Z"
   },
   {
    "duration": 37,
    "start_time": "2022-11-28T16:31:44.147Z"
   },
   {
    "duration": 16,
    "start_time": "2022-11-28T16:31:44.185Z"
   },
   {
    "duration": 241,
    "start_time": "2022-11-28T16:31:44.204Z"
   },
   {
    "duration": 1302,
    "start_time": "2022-11-28T16:33:19.726Z"
   },
   {
    "duration": 3248,
    "start_time": "2022-11-28T16:33:21.030Z"
   },
   {
    "duration": 33,
    "start_time": "2022-11-28T16:33:24.280Z"
   },
   {
    "duration": 13,
    "start_time": "2022-11-28T16:33:24.315Z"
   },
   {
    "duration": 235,
    "start_time": "2022-11-28T16:33:24.336Z"
   },
   {
    "duration": 1290618,
    "start_time": "2022-11-28T16:33:24.573Z"
   },
   {
    "duration": 1286,
    "start_time": "2022-11-28T16:55:28.369Z"
   },
   {
    "duration": 3301,
    "start_time": "2022-11-28T16:55:29.657Z"
   },
   {
    "duration": 34,
    "start_time": "2022-11-28T16:55:32.960Z"
   },
   {
    "duration": 22,
    "start_time": "2022-11-28T16:55:32.996Z"
   },
   {
    "duration": 248,
    "start_time": "2022-11-28T16:55:33.020Z"
   },
   {
    "duration": 3,
    "start_time": "2022-11-28T16:55:33.269Z"
   },
   {
    "duration": 6205,
    "start_time": "2022-11-28T16:55:33.273Z"
   },
   {
    "duration": 425,
    "start_time": "2022-11-28T17:12:37.438Z"
   },
   {
    "duration": 3,
    "start_time": "2022-11-28T17:12:58.280Z"
   },
   {
    "duration": 3923,
    "start_time": "2022-11-28T17:13:05.615Z"
   },
   {
    "duration": 4031,
    "start_time": "2022-11-28T17:19:39.531Z"
   },
   {
    "duration": 5,
    "start_time": "2022-11-28T17:19:51.970Z"
   },
   {
    "duration": 7,
    "start_time": "2022-11-28T17:28:03.171Z"
   },
   {
    "duration": 224,
    "start_time": "2022-11-28T17:28:04.590Z"
   },
   {
    "duration": 3,
    "start_time": "2022-11-28T17:29:03.451Z"
   },
   {
    "duration": 20,
    "start_time": "2022-11-28T17:29:08.363Z"
   },
   {
    "duration": 22,
    "start_time": "2022-11-28T17:29:44.978Z"
   },
   {
    "duration": 22,
    "start_time": "2022-11-28T17:30:10.504Z"
   },
   {
    "duration": 6,
    "start_time": "2022-11-28T17:30:17.029Z"
   },
   {
    "duration": 21,
    "start_time": "2022-11-28T17:34:48.189Z"
   },
   {
    "duration": 18,
    "start_time": "2022-11-28T17:34:50.573Z"
   },
   {
    "duration": 10,
    "start_time": "2022-11-28T17:38:29.654Z"
   },
   {
    "duration": 19,
    "start_time": "2022-11-28T17:38:35.918Z"
   },
   {
    "duration": 32,
    "start_time": "2022-11-28T17:39:00.774Z"
   },
   {
    "duration": 5,
    "start_time": "2022-11-28T17:39:07.081Z"
   },
   {
    "duration": 34,
    "start_time": "2022-11-28T17:39:08.423Z"
   },
   {
    "duration": 5,
    "start_time": "2022-11-28T17:39:27.136Z"
   },
   {
    "duration": 31,
    "start_time": "2022-11-28T17:39:29.542Z"
   },
   {
    "duration": 4027,
    "start_time": "2022-11-28T17:40:16.410Z"
   },
   {
    "duration": 812,
    "start_time": "2022-11-28T17:40:20.439Z"
   },
   {
    "duration": 31,
    "start_time": "2022-11-28T17:40:21.253Z"
   },
   {
    "duration": 14,
    "start_time": "2022-11-28T17:40:21.286Z"
   },
   {
    "duration": 251,
    "start_time": "2022-11-28T17:40:21.302Z"
   },
   {
    "duration": 3,
    "start_time": "2022-11-28T17:40:21.555Z"
   },
   {
    "duration": 507,
    "start_time": "2022-11-28T17:40:21.559Z"
   },
   {
    "duration": 340,
    "start_time": "2022-11-28T17:40:22.068Z"
   },
   {
    "duration": 8,
    "start_time": "2022-11-28T17:40:22.409Z"
   },
   {
    "duration": 352,
    "start_time": "2022-11-28T17:40:22.419Z"
   },
   {
    "duration": 0,
    "start_time": "2022-11-28T17:40:22.773Z"
   },
   {
    "duration": 0,
    "start_time": "2022-11-28T17:40:22.774Z"
   },
   {
    "duration": 0,
    "start_time": "2022-11-28T17:40:22.775Z"
   },
   {
    "duration": 0,
    "start_time": "2022-11-28T17:40:22.776Z"
   },
   {
    "duration": 0,
    "start_time": "2022-11-28T17:40:22.777Z"
   },
   {
    "duration": 5,
    "start_time": "2022-11-28T17:40:35.494Z"
   },
   {
    "duration": 4030,
    "start_time": "2022-11-28T17:40:41.212Z"
   },
   {
    "duration": 807,
    "start_time": "2022-11-28T17:40:45.243Z"
   },
   {
    "duration": 31,
    "start_time": "2022-11-28T17:40:46.051Z"
   },
   {
    "duration": 34,
    "start_time": "2022-11-28T17:40:46.083Z"
   },
   {
    "duration": 221,
    "start_time": "2022-11-28T17:40:46.119Z"
   },
   {
    "duration": 3,
    "start_time": "2022-11-28T17:40:46.341Z"
   },
   {
    "duration": 494,
    "start_time": "2022-11-28T17:40:46.345Z"
   },
   {
    "duration": 338,
    "start_time": "2022-11-28T17:40:46.840Z"
   },
   {
    "duration": 8,
    "start_time": "2022-11-28T17:40:47.180Z"
   },
   {
    "duration": 5,
    "start_time": "2022-11-28T17:40:47.190Z"
   },
   {
    "duration": 11,
    "start_time": "2022-11-28T17:40:47.197Z"
   },
   {
    "duration": 59,
    "start_time": "2022-11-28T17:40:47.210Z"
   },
   {
    "duration": 7086,
    "start_time": "2022-11-28T17:40:47.270Z"
   },
   {
    "duration": 323,
    "start_time": "2022-11-28T17:40:54.358Z"
   },
   {
    "duration": 0,
    "start_time": "2022-11-28T17:40:54.683Z"
   },
   {
    "duration": 9,
    "start_time": "2022-11-28T17:41:03.230Z"
   },
   {
    "duration": 4,
    "start_time": "2022-11-28T17:44:00.254Z"
   },
   {
    "duration": 35,
    "start_time": "2022-11-28T17:44:09.302Z"
   },
   {
    "duration": 32,
    "start_time": "2022-11-28T17:44:15.540Z"
   },
   {
    "duration": 3895,
    "start_time": "2022-11-28T17:44:33.602Z"
   },
   {
    "duration": 810,
    "start_time": "2022-11-28T17:44:37.500Z"
   },
   {
    "duration": 39,
    "start_time": "2022-11-28T17:44:38.312Z"
   },
   {
    "duration": 15,
    "start_time": "2022-11-28T17:44:38.353Z"
   },
   {
    "duration": 263,
    "start_time": "2022-11-28T17:44:38.370Z"
   },
   {
    "duration": 4,
    "start_time": "2022-11-28T17:44:38.637Z"
   },
   {
    "duration": 539,
    "start_time": "2022-11-28T17:44:38.643Z"
   },
   {
    "duration": 3174,
    "start_time": "2022-11-28T17:44:39.183Z"
   },
   {
    "duration": 19,
    "start_time": "2022-11-28T17:44:42.358Z"
   },
   {
    "duration": 327,
    "start_time": "2022-11-28T17:44:42.378Z"
   },
   {
    "duration": 0,
    "start_time": "2022-11-28T17:44:42.706Z"
   },
   {
    "duration": 0,
    "start_time": "2022-11-28T17:44:42.707Z"
   },
   {
    "duration": 0,
    "start_time": "2022-11-28T17:44:42.708Z"
   },
   {
    "duration": 0,
    "start_time": "2022-11-28T17:44:42.710Z"
   },
   {
    "duration": 0,
    "start_time": "2022-11-28T17:44:42.711Z"
   },
   {
    "duration": 21,
    "start_time": "2022-11-28T17:44:47.204Z"
   },
   {
    "duration": 5,
    "start_time": "2022-11-28T17:44:49.975Z"
   },
   {
    "duration": 7,
    "start_time": "2022-11-28T17:44:51.163Z"
   },
   {
    "duration": 80,
    "start_time": "2022-11-28T17:44:52.639Z"
   },
   {
    "duration": 12332,
    "start_time": "2022-11-28T17:44:54.167Z"
   },
   {
    "duration": 10,
    "start_time": "2022-11-28T17:47:45.521Z"
   },
   {
    "duration": 5,
    "start_time": "2022-11-28T18:00:28.291Z"
   },
   {
    "duration": 64,
    "start_time": "2022-11-28T18:00:30.026Z"
   },
   {
    "duration": 7832,
    "start_time": "2022-11-28T18:00:31.260Z"
   },
   {
    "duration": 9,
    "start_time": "2022-11-28T18:00:41.439Z"
   },
   {
    "duration": 5,
    "start_time": "2022-11-28T18:02:04.824Z"
   },
   {
    "duration": 4,
    "start_time": "2022-11-28T18:02:18.081Z"
   },
   {
    "duration": 4,
    "start_time": "2022-11-28T18:02:30.344Z"
   },
   {
    "duration": 457,
    "start_time": "2022-11-28T18:04:20.721Z"
   },
   {
    "duration": 5,
    "start_time": "2022-11-28T18:04:30.771Z"
   },
   {
    "duration": 4,
    "start_time": "2022-11-28T18:04:33.453Z"
   },
   {
    "duration": 6,
    "start_time": "2022-11-28T18:04:35.535Z"
   },
   {
    "duration": 58,
    "start_time": "2022-11-28T18:04:36.773Z"
   },
   {
    "duration": 2400,
    "start_time": "2022-11-28T18:04:38.345Z"
   },
   {
    "duration": 4,
    "start_time": "2022-11-28T18:08:34.347Z"
   },
   {
    "duration": 4049,
    "start_time": "2022-11-28T18:09:12.076Z"
   },
   {
    "duration": 820,
    "start_time": "2022-11-28T18:09:16.127Z"
   },
   {
    "duration": 34,
    "start_time": "2022-11-28T18:09:16.949Z"
   },
   {
    "duration": 14,
    "start_time": "2022-11-28T18:09:16.985Z"
   },
   {
    "duration": 260,
    "start_time": "2022-11-28T18:09:17.001Z"
   },
   {
    "duration": 2,
    "start_time": "2022-11-28T18:09:17.263Z"
   },
   {
    "duration": 482,
    "start_time": "2022-11-28T18:09:17.267Z"
   },
   {
    "duration": 3343,
    "start_time": "2022-11-28T18:09:17.751Z"
   },
   {
    "duration": 157,
    "start_time": "2022-11-28T18:09:21.097Z"
   },
   {
    "duration": 5,
    "start_time": "2022-11-28T18:09:21.256Z"
   },
   {
    "duration": 19,
    "start_time": "2022-11-28T18:09:21.263Z"
   },
   {
    "duration": 24,
    "start_time": "2022-11-28T18:09:21.283Z"
   },
   {
    "duration": 81,
    "start_time": "2022-11-28T18:09:21.309Z"
   },
   {
    "duration": 7887,
    "start_time": "2022-11-28T18:09:21.393Z"
   },
   {
    "duration": 10,
    "start_time": "2022-11-28T18:09:29.282Z"
   },
   {
    "duration": 1529,
    "start_time": "2022-11-28T18:09:29.293Z"
   },
   {
    "duration": 15,
    "start_time": "2022-11-28T18:11:51.004Z"
   },
   {
    "duration": 6,
    "start_time": "2022-11-28T18:11:54.263Z"
   },
   {
    "duration": 3956,
    "start_time": "2022-11-28T18:12:02.837Z"
   },
   {
    "duration": 802,
    "start_time": "2022-11-28T18:12:06.795Z"
   },
   {
    "duration": 41,
    "start_time": "2022-11-28T18:12:07.599Z"
   },
   {
    "duration": 15,
    "start_time": "2022-11-28T18:12:07.642Z"
   },
   {
    "duration": 247,
    "start_time": "2022-11-28T18:12:07.660Z"
   },
   {
    "duration": 3,
    "start_time": "2022-11-28T18:12:07.909Z"
   },
   {
    "duration": 482,
    "start_time": "2022-11-28T18:12:07.914Z"
   },
   {
    "duration": 3110,
    "start_time": "2022-11-28T18:12:08.398Z"
   },
   {
    "duration": 27,
    "start_time": "2022-11-28T18:12:11.510Z"
   },
   {
    "duration": 6,
    "start_time": "2022-11-28T18:12:11.539Z"
   },
   {
    "duration": 5,
    "start_time": "2022-11-28T18:12:11.546Z"
   },
   {
    "duration": 9,
    "start_time": "2022-11-28T18:12:11.553Z"
   },
   {
    "duration": 74,
    "start_time": "2022-11-28T18:12:11.564Z"
   },
   {
    "duration": 7547,
    "start_time": "2022-11-28T18:12:11.640Z"
   },
   {
    "duration": 10,
    "start_time": "2022-11-28T18:12:19.189Z"
   },
   {
    "duration": 1650,
    "start_time": "2022-11-28T18:12:19.201Z"
   },
   {
    "duration": 6,
    "start_time": "2022-11-28T18:13:07.618Z"
   },
   {
    "duration": 61,
    "start_time": "2022-11-28T18:13:10.559Z"
   },
   {
    "duration": 6683,
    "start_time": "2022-11-28T18:13:13.256Z"
   },
   {
    "duration": 9,
    "start_time": "2022-11-28T18:14:10.551Z"
   },
   {
    "duration": 6,
    "start_time": "2022-11-28T18:14:43.028Z"
   },
   {
    "duration": 59,
    "start_time": "2022-11-28T18:14:44.755Z"
   },
   {
    "duration": 61,
    "start_time": "2022-11-28T18:14:49.641Z"
   },
   {
    "duration": 56,
    "start_time": "2022-11-28T18:14:50.044Z"
   },
   {
    "duration": 58,
    "start_time": "2022-11-28T18:14:50.357Z"
   },
   {
    "duration": 59,
    "start_time": "2022-11-28T18:14:50.596Z"
   },
   {
    "duration": 57,
    "start_time": "2022-11-28T18:14:50.821Z"
   },
   {
    "duration": 57,
    "start_time": "2022-11-28T18:14:51.172Z"
   },
   {
    "duration": 58,
    "start_time": "2022-11-28T18:14:51.617Z"
   },
   {
    "duration": 60,
    "start_time": "2022-11-28T18:14:52.035Z"
   },
   {
    "duration": 58,
    "start_time": "2022-11-28T18:14:52.669Z"
   },
   {
    "duration": 4,
    "start_time": "2022-11-28T18:16:21.998Z"
   },
   {
    "duration": 21,
    "start_time": "2022-11-28T18:16:28.226Z"
   },
   {
    "duration": 4,
    "start_time": "2022-11-28T18:16:54.471Z"
   },
   {
    "duration": 7,
    "start_time": "2022-11-28T18:17:01.021Z"
   },
   {
    "duration": 291,
    "start_time": "2022-11-28T18:17:02.472Z"
   },
   {
    "duration": 7,
    "start_time": "2022-11-28T18:17:51.955Z"
   },
   {
    "duration": 63,
    "start_time": "2022-11-28T18:17:56.300Z"
   },
   {
    "duration": 3912,
    "start_time": "2022-11-28T18:18:56.604Z"
   },
   {
    "duration": 820,
    "start_time": "2022-11-28T18:19:00.518Z"
   },
   {
    "duration": 35,
    "start_time": "2022-11-28T18:19:01.340Z"
   },
   {
    "duration": 15,
    "start_time": "2022-11-28T18:19:01.376Z"
   },
   {
    "duration": 253,
    "start_time": "2022-11-28T18:19:01.394Z"
   },
   {
    "duration": 2,
    "start_time": "2022-11-28T18:19:01.649Z"
   },
   {
    "duration": 495,
    "start_time": "2022-11-28T18:19:01.653Z"
   },
   {
    "duration": 9703,
    "start_time": "2022-11-28T18:19:02.150Z"
   },
   {
    "duration": 0,
    "start_time": "2022-11-28T18:19:11.855Z"
   },
   {
    "duration": 0,
    "start_time": "2022-11-28T18:19:11.857Z"
   },
   {
    "duration": 0,
    "start_time": "2022-11-28T18:19:11.858Z"
   },
   {
    "duration": 0,
    "start_time": "2022-11-28T18:19:11.859Z"
   },
   {
    "duration": 0,
    "start_time": "2022-11-28T18:19:11.860Z"
   },
   {
    "duration": 0,
    "start_time": "2022-11-28T18:19:11.861Z"
   },
   {
    "duration": 0,
    "start_time": "2022-11-28T18:19:11.862Z"
   },
   {
    "duration": 0,
    "start_time": "2022-11-28T18:19:11.863Z"
   },
   {
    "duration": 3939,
    "start_time": "2022-11-28T18:19:26.905Z"
   },
   {
    "duration": 786,
    "start_time": "2022-11-28T18:19:30.846Z"
   },
   {
    "duration": 30,
    "start_time": "2022-11-28T18:19:31.634Z"
   },
   {
    "duration": 12,
    "start_time": "2022-11-28T18:19:31.666Z"
   },
   {
    "duration": 243,
    "start_time": "2022-11-28T18:19:31.679Z"
   },
   {
    "duration": 2,
    "start_time": "2022-11-28T18:19:31.924Z"
   },
   {
    "duration": 482,
    "start_time": "2022-11-28T18:19:31.927Z"
   },
   {
    "duration": 102048,
    "start_time": "2022-11-28T18:19:32.410Z"
   },
   {
    "duration": 0,
    "start_time": "2022-11-28T18:21:14.461Z"
   },
   {
    "duration": 0,
    "start_time": "2022-11-28T18:21:14.462Z"
   },
   {
    "duration": 0,
    "start_time": "2022-11-28T18:21:14.464Z"
   },
   {
    "duration": 0,
    "start_time": "2022-11-28T18:21:14.465Z"
   },
   {
    "duration": 0,
    "start_time": "2022-11-28T18:21:14.467Z"
   },
   {
    "duration": 0,
    "start_time": "2022-11-28T18:21:14.469Z"
   },
   {
    "duration": 0,
    "start_time": "2022-11-28T18:21:14.470Z"
   },
   {
    "duration": 0,
    "start_time": "2022-11-28T18:21:14.471Z"
   },
   {
    "duration": 3913,
    "start_time": "2022-11-28T18:21:25.398Z"
   },
   {
    "duration": 803,
    "start_time": "2022-11-28T18:21:29.313Z"
   },
   {
    "duration": 38,
    "start_time": "2022-11-28T18:21:30.118Z"
   },
   {
    "duration": 30,
    "start_time": "2022-11-28T18:21:30.158Z"
   },
   {
    "duration": 225,
    "start_time": "2022-11-28T18:21:30.190Z"
   },
   {
    "duration": 2,
    "start_time": "2022-11-28T18:21:30.417Z"
   },
   {
    "duration": 479,
    "start_time": "2022-11-28T18:21:30.421Z"
   },
   {
    "duration": 343,
    "start_time": "2022-11-28T18:21:30.902Z"
   },
   {
    "duration": 0,
    "start_time": "2022-11-28T18:21:31.247Z"
   },
   {
    "duration": 0,
    "start_time": "2022-11-28T18:21:31.248Z"
   },
   {
    "duration": 0,
    "start_time": "2022-11-28T18:21:31.249Z"
   },
   {
    "duration": 0,
    "start_time": "2022-11-28T18:21:31.250Z"
   },
   {
    "duration": 0,
    "start_time": "2022-11-28T18:21:31.252Z"
   },
   {
    "duration": 0,
    "start_time": "2022-11-28T18:21:31.254Z"
   },
   {
    "duration": 0,
    "start_time": "2022-11-28T18:21:31.255Z"
   },
   {
    "duration": 0,
    "start_time": "2022-11-28T18:21:31.257Z"
   },
   {
    "duration": 3985,
    "start_time": "2022-11-28T18:22:29.432Z"
   },
   {
    "duration": 826,
    "start_time": "2022-11-28T18:22:33.419Z"
   },
   {
    "duration": 29,
    "start_time": "2022-11-28T18:22:34.247Z"
   },
   {
    "duration": 16,
    "start_time": "2022-11-28T18:22:34.278Z"
   },
   {
    "duration": 238,
    "start_time": "2022-11-28T18:22:34.296Z"
   },
   {
    "duration": 2,
    "start_time": "2022-11-28T18:22:34.538Z"
   },
   {
    "duration": 488,
    "start_time": "2022-11-28T18:22:34.542Z"
   },
   {
    "duration": 136181,
    "start_time": "2022-11-28T18:22:35.032Z"
   },
   {
    "duration": 0,
    "start_time": "2022-11-28T18:24:51.215Z"
   },
   {
    "duration": 0,
    "start_time": "2022-11-28T18:24:51.216Z"
   },
   {
    "duration": 0,
    "start_time": "2022-11-28T18:24:51.217Z"
   },
   {
    "duration": 0,
    "start_time": "2022-11-28T18:24:51.218Z"
   },
   {
    "duration": 0,
    "start_time": "2022-11-28T18:24:51.219Z"
   },
   {
    "duration": 0,
    "start_time": "2022-11-28T18:24:51.220Z"
   },
   {
    "duration": 0,
    "start_time": "2022-11-28T18:24:51.221Z"
   },
   {
    "duration": 0,
    "start_time": "2022-11-28T18:24:51.223Z"
   },
   {
    "duration": 159,
    "start_time": "2022-11-28T18:25:02.137Z"
   },
   {
    "duration": 19,
    "start_time": "2022-11-28T18:25:04.389Z"
   },
   {
    "duration": 4464,
    "start_time": "2022-11-28T18:25:15.017Z"
   },
   {
    "duration": 4,
    "start_time": "2022-11-28T18:25:23.756Z"
   },
   {
    "duration": 6569,
    "start_time": "2022-11-28T18:26:05.187Z"
   },
   {
    "duration": 137,
    "start_time": "2022-11-28T18:26:19.734Z"
   },
   {
    "duration": 76,
    "start_time": "2022-11-28T18:26:23.427Z"
   },
   {
    "duration": 4117,
    "start_time": "2022-11-28T18:26:36.562Z"
   },
   {
    "duration": 789,
    "start_time": "2022-11-28T18:26:40.681Z"
   },
   {
    "duration": 33,
    "start_time": "2022-11-28T18:26:41.472Z"
   },
   {
    "duration": 18,
    "start_time": "2022-11-28T18:26:41.507Z"
   },
   {
    "duration": 234,
    "start_time": "2022-11-28T18:26:41.538Z"
   },
   {
    "duration": 2,
    "start_time": "2022-11-28T18:26:41.774Z"
   },
   {
    "duration": 487,
    "start_time": "2022-11-28T18:26:41.778Z"
   },
   {
    "duration": 7401,
    "start_time": "2022-11-28T18:26:42.267Z"
   },
   {
    "duration": 0,
    "start_time": "2022-11-28T18:26:49.671Z"
   },
   {
    "duration": 0,
    "start_time": "2022-11-28T18:26:49.673Z"
   },
   {
    "duration": 0,
    "start_time": "2022-11-28T18:26:49.674Z"
   },
   {
    "duration": 0,
    "start_time": "2022-11-28T18:26:49.675Z"
   },
   {
    "duration": 0,
    "start_time": "2022-11-28T18:26:49.677Z"
   },
   {
    "duration": 0,
    "start_time": "2022-11-28T18:26:49.678Z"
   },
   {
    "duration": 1,
    "start_time": "2022-11-28T18:26:49.679Z"
   },
   {
    "duration": 0,
    "start_time": "2022-11-28T18:26:49.681Z"
   },
   {
    "duration": 3938,
    "start_time": "2022-11-28T18:27:56.466Z"
   },
   {
    "duration": 789,
    "start_time": "2022-11-28T18:28:00.406Z"
   },
   {
    "duration": 31,
    "start_time": "2022-11-28T18:28:01.197Z"
   },
   {
    "duration": 14,
    "start_time": "2022-11-28T18:28:01.238Z"
   },
   {
    "duration": 232,
    "start_time": "2022-11-28T18:28:01.254Z"
   },
   {
    "duration": 2,
    "start_time": "2022-11-28T18:28:01.488Z"
   },
   {
    "duration": 493,
    "start_time": "2022-11-28T18:28:01.492Z"
   },
   {
    "duration": 2240039,
    "start_time": "2022-11-28T18:28:01.986Z"
   },
   {
    "duration": 7884,
    "start_time": "2022-11-28T19:05:22.027Z"
   },
   {
    "duration": 53,
    "start_time": "2022-11-28T19:05:29.913Z"
   },
   {
    "duration": 5,
    "start_time": "2022-11-28T19:05:29.968Z"
   },
   {
    "duration": 8,
    "start_time": "2022-11-28T19:05:29.975Z"
   },
   {
    "duration": 192956,
    "start_time": "2022-11-28T19:05:29.985Z"
   },
   {
    "duration": 123920,
    "start_time": "2022-11-28T19:08:42.950Z"
   },
   {
    "duration": 10,
    "start_time": "2022-11-28T19:10:46.873Z"
   },
   {
    "duration": 1811,
    "start_time": "2022-11-28T19:10:46.884Z"
   },
   {
    "duration": 25,
    "start_time": "2022-11-28T19:27:34.957Z"
   },
   {
    "duration": 19260,
    "start_time": "2022-11-28T19:27:52.859Z"
   },
   {
    "duration": 5,
    "start_time": "2022-11-28T19:28:23.533Z"
   },
   {
    "duration": 6,
    "start_time": "2022-11-28T19:28:28.804Z"
   },
   {
    "duration": 31,
    "start_time": "2022-11-28T19:29:56.187Z"
   },
   {
    "duration": 82,
    "start_time": "2022-11-28T19:30:10.195Z"
   },
   {
    "duration": 195005,
    "start_time": "2022-11-28T19:30:21.887Z"
   },
   {
    "duration": 4768,
    "start_time": "2022-11-28T19:33:42.643Z"
   },
   {
    "duration": 1006,
    "start_time": "2022-11-28T19:33:47.414Z"
   },
   {
    "duration": 45,
    "start_time": "2022-11-28T19:33:48.422Z"
   },
   {
    "duration": 21,
    "start_time": "2022-11-28T19:33:48.469Z"
   },
   {
    "duration": 305,
    "start_time": "2022-11-28T19:33:48.493Z"
   },
   {
    "duration": 4,
    "start_time": "2022-11-28T19:33:48.805Z"
   },
   {
    "duration": 681,
    "start_time": "2022-11-28T19:33:48.811Z"
   },
   {
    "duration": 40155,
    "start_time": "2022-11-28T19:33:49.494Z"
   },
   {
    "duration": 179,
    "start_time": "2022-11-28T19:34:29.658Z"
   },
   {
    "duration": 7,
    "start_time": "2022-11-28T19:34:29.841Z"
   },
   {
    "duration": 39,
    "start_time": "2022-11-28T19:34:29.851Z"
   },
   {
    "duration": 10045,
    "start_time": "2022-11-28T19:34:29.893Z"
   },
   {
    "duration": 9762,
    "start_time": "2022-11-28T19:34:39.941Z"
   },
   {
    "duration": 14,
    "start_time": "2022-11-28T19:34:49.705Z"
   },
   {
    "duration": 28,
    "start_time": "2022-11-28T19:34:49.721Z"
   },
   {
    "duration": 449,
    "start_time": "2022-11-28T19:34:49.751Z"
   },
   {
    "duration": 4,
    "start_time": "2022-11-28T19:34:50.202Z"
   },
   {
    "duration": 6,
    "start_time": "2022-11-28T19:35:35.490Z"
   },
   {
    "duration": 4,
    "start_time": "2022-11-28T19:35:40.287Z"
   },
   {
    "duration": 385,
    "start_time": "2022-11-28T19:36:21.075Z"
   },
   {
    "duration": 38,
    "start_time": "2022-11-28T19:36:26.498Z"
   },
   {
    "duration": 6,
    "start_time": "2022-11-28T19:36:50.271Z"
   },
   {
    "duration": 4,
    "start_time": "2022-11-28T19:41:10.613Z"
   },
   {
    "duration": 5,
    "start_time": "2022-11-28T19:51:15.155Z"
   },
   {
    "duration": 34,
    "start_time": "2022-11-28T19:51:16.721Z"
   },
   {
    "duration": 6,
    "start_time": "2022-11-28T19:52:02.314Z"
   },
   {
    "duration": 36,
    "start_time": "2022-11-28T19:52:03.790Z"
   },
   {
    "duration": 33,
    "start_time": "2022-11-28T19:54:10.264Z"
   },
   {
    "duration": 20,
    "start_time": "2022-11-28T19:56:46.377Z"
   },
   {
    "duration": 44,
    "start_time": "2022-11-28T19:57:25.058Z"
   },
   {
    "duration": 421,
    "start_time": "2022-11-28T19:57:47.809Z"
   },
   {
    "duration": 40,
    "start_time": "2022-11-28T19:58:12.728Z"
   },
   {
    "duration": 30,
    "start_time": "2022-11-28T19:58:29.570Z"
   },
   {
    "duration": 35,
    "start_time": "2022-11-28T19:58:51.396Z"
   },
   {
    "duration": 3,
    "start_time": "2022-11-28T20:01:24.471Z"
   },
   {
    "duration": 37,
    "start_time": "2022-11-28T20:01:33.628Z"
   },
   {
    "duration": 7,
    "start_time": "2022-11-28T20:01:51.731Z"
   },
   {
    "duration": 38,
    "start_time": "2022-11-28T20:01:56.356Z"
   },
   {
    "duration": 202,
    "start_time": "2022-11-28T20:02:39.158Z"
   },
   {
    "duration": 110,
    "start_time": "2022-11-28T20:02:44.598Z"
   },
   {
    "duration": 1890,
    "start_time": "2022-11-28T20:02:50.698Z"
   },
   {
    "duration": 2792,
    "start_time": "2022-11-28T20:02:56.012Z"
   },
   {
    "duration": 46,
    "start_time": "2022-11-28T20:03:34.019Z"
   },
   {
    "duration": 27,
    "start_time": "2022-11-28T20:03:39.955Z"
   },
   {
    "duration": 6,
    "start_time": "2022-11-28T20:03:44.377Z"
   },
   {
    "duration": 10071,
    "start_time": "2022-11-28T20:03:45.379Z"
   },
   {
    "duration": 8756,
    "start_time": "2022-11-28T20:04:05.594Z"
   },
   {
    "duration": 7290,
    "start_time": "2022-11-28T20:04:17.561Z"
   },
   {
    "duration": 10,
    "start_time": "2022-11-28T20:04:31.525Z"
   },
   {
    "duration": 1999,
    "start_time": "2022-11-28T20:11:34.590Z"
   },
   {
    "duration": 4850,
    "start_time": "2022-11-28T20:19:49.656Z"
   },
   {
    "duration": 3161,
    "start_time": "2022-11-28T20:19:54.509Z"
   },
   {
    "duration": 33,
    "start_time": "2022-11-28T20:19:57.672Z"
   },
   {
    "duration": 15,
    "start_time": "2022-11-28T20:19:57.706Z"
   },
   {
    "duration": 254,
    "start_time": "2022-11-28T20:19:57.723Z"
   },
   {
    "duration": 3,
    "start_time": "2022-11-28T20:19:57.978Z"
   },
   {
    "duration": 711,
    "start_time": "2022-11-28T20:19:57.982Z"
   },
   {
    "duration": 2316511,
    "start_time": "2022-11-28T20:19:58.695Z"
   },
   {
    "duration": 4862,
    "start_time": "2022-11-28T21:04:28.814Z"
   },
   {
    "duration": 3191,
    "start_time": "2022-11-28T21:04:33.678Z"
   },
   {
    "duration": 33,
    "start_time": "2022-11-28T21:04:36.871Z"
   },
   {
    "duration": 15,
    "start_time": "2022-11-28T21:04:36.906Z"
   },
   {
    "duration": 233,
    "start_time": "2022-11-28T21:04:36.923Z"
   },
   {
    "duration": 3,
    "start_time": "2022-11-28T21:04:37.158Z"
   },
   {
    "duration": 613,
    "start_time": "2022-11-28T21:04:37.163Z"
   },
   {
    "duration": 2206860,
    "start_time": "2022-11-28T21:04:37.778Z"
   },
   {
    "duration": 48,
    "start_time": "2022-11-28T21:47:16.106Z"
   },
   {
    "duration": 4825,
    "start_time": "2022-11-28T21:48:01.444Z"
   },
   {
    "duration": 3220,
    "start_time": "2022-11-28T21:48:06.271Z"
   },
   {
    "duration": 36,
    "start_time": "2022-11-28T21:48:09.493Z"
   },
   {
    "duration": 17,
    "start_time": "2022-11-28T21:48:09.531Z"
   },
   {
    "duration": 242,
    "start_time": "2022-11-28T21:48:09.551Z"
   },
   {
    "duration": 4,
    "start_time": "2022-11-28T21:48:09.795Z"
   },
   {
    "duration": 636,
    "start_time": "2022-11-28T21:48:09.800Z"
   },
   {
    "duration": 45696,
    "start_time": "2022-11-28T21:48:10.438Z"
   },
   {
    "duration": 0,
    "start_time": "2022-11-28T21:48:56.136Z"
   },
   {
    "duration": 0,
    "start_time": "2022-11-28T21:48:56.137Z"
   },
   {
    "duration": 0,
    "start_time": "2022-11-28T21:48:56.138Z"
   },
   {
    "duration": 0,
    "start_time": "2022-11-28T21:48:56.139Z"
   },
   {
    "duration": 0,
    "start_time": "2022-11-28T21:48:56.140Z"
   },
   {
    "duration": 0,
    "start_time": "2022-11-28T21:48:56.141Z"
   },
   {
    "duration": 0,
    "start_time": "2022-11-28T21:48:56.142Z"
   },
   {
    "duration": 0,
    "start_time": "2022-11-28T21:48:56.143Z"
   },
   {
    "duration": 0,
    "start_time": "2022-11-28T21:48:56.144Z"
   },
   {
    "duration": 46,
    "start_time": "2022-11-28T21:49:37.792Z"
   },
   {
    "duration": 24,
    "start_time": "2022-11-28T21:52:19.500Z"
   },
   {
    "duration": 25,
    "start_time": "2022-11-28T21:52:55.808Z"
   },
   {
    "duration": 346,
    "start_time": "2022-11-28T21:53:00.648Z"
   },
   {
    "duration": 324,
    "start_time": "2022-11-28T21:53:10.204Z"
   },
   {
    "duration": 307,
    "start_time": "2022-11-28T21:53:28.888Z"
   },
   {
    "duration": 43,
    "start_time": "2022-11-28T21:53:47.573Z"
   },
   {
    "duration": 3977,
    "start_time": "2022-11-28T22:01:51.729Z"
   },
   {
    "duration": 818,
    "start_time": "2022-11-28T22:01:55.708Z"
   },
   {
    "duration": 43,
    "start_time": "2022-11-28T22:01:56.527Z"
   },
   {
    "duration": 15,
    "start_time": "2022-11-28T22:01:56.572Z"
   },
   {
    "duration": 256,
    "start_time": "2022-11-28T22:01:56.589Z"
   },
   {
    "duration": 3,
    "start_time": "2022-11-28T22:01:56.847Z"
   },
   {
    "duration": 492,
    "start_time": "2022-11-28T22:01:56.851Z"
   },
   {
    "duration": 2221842,
    "start_time": "2022-11-28T22:01:57.344Z"
   },
   {
    "duration": 4927,
    "start_time": "2022-11-28T22:41:03.118Z"
   },
   {
    "duration": 3201,
    "start_time": "2022-11-28T22:41:08.046Z"
   },
   {
    "duration": 34,
    "start_time": "2022-11-28T22:41:11.249Z"
   },
   {
    "duration": 15,
    "start_time": "2022-11-28T22:41:11.284Z"
   },
   {
    "duration": 237,
    "start_time": "2022-11-28T22:41:11.301Z"
   },
   {
    "duration": 3,
    "start_time": "2022-11-28T22:41:11.540Z"
   },
   {
    "duration": 630,
    "start_time": "2022-11-28T22:41:11.545Z"
   },
   {
    "duration": 2153783,
    "start_time": "2022-11-28T22:41:12.177Z"
   },
   {
    "duration": 4741,
    "start_time": "2022-11-29T13:00:18.327Z"
   },
   {
    "duration": 3260,
    "start_time": "2022-11-29T13:00:23.070Z"
   },
   {
    "duration": 32,
    "start_time": "2022-11-29T13:00:26.332Z"
   },
   {
    "duration": 13,
    "start_time": "2022-11-29T13:00:26.365Z"
   },
   {
    "duration": 230,
    "start_time": "2022-11-29T13:00:26.380Z"
   },
   {
    "duration": 3,
    "start_time": "2022-11-29T13:00:26.612Z"
   },
   {
    "duration": 629,
    "start_time": "2022-11-29T13:00:26.616Z"
   },
   {
    "duration": 2169387,
    "start_time": "2022-11-29T13:00:27.247Z"
   },
   {
    "duration": 28,
    "start_time": "2022-11-29T13:36:36.637Z"
   },
   {
    "duration": 1359,
    "start_time": "2022-11-29T13:36:36.667Z"
   },
   {
    "duration": 0,
    "start_time": "2022-11-29T13:36:38.027Z"
   },
   {
    "duration": 0,
    "start_time": "2022-11-29T13:36:38.028Z"
   },
   {
    "duration": 0,
    "start_time": "2022-11-29T13:36:38.030Z"
   },
   {
    "duration": 0,
    "start_time": "2022-11-29T13:36:38.031Z"
   },
   {
    "duration": 0,
    "start_time": "2022-11-29T13:36:38.033Z"
   },
   {
    "duration": 0,
    "start_time": "2022-11-29T13:36:38.034Z"
   },
   {
    "duration": 0,
    "start_time": "2022-11-29T13:36:38.035Z"
   },
   {
    "duration": 0,
    "start_time": "2022-11-29T13:36:38.036Z"
   },
   {
    "duration": 5,
    "start_time": "2022-11-29T13:39:12.560Z"
   },
   {
    "duration": 6269,
    "start_time": "2022-11-29T13:39:39.523Z"
   },
   {
    "duration": 1096,
    "start_time": "2022-11-29T13:41:00.086Z"
   },
   {
    "duration": 22,
    "start_time": "2022-11-29T13:42:19.743Z"
   },
   {
    "duration": 7,
    "start_time": "2022-11-29T13:44:23.385Z"
   },
   {
    "duration": 21,
    "start_time": "2022-11-29T13:44:50.223Z"
   },
   {
    "duration": 19,
    "start_time": "2022-11-29T13:48:22.047Z"
   },
   {
    "duration": 11,
    "start_time": "2022-11-29T13:48:33.146Z"
   },
   {
    "duration": 21,
    "start_time": "2022-11-29T13:48:43.933Z"
   },
   {
    "duration": 5,
    "start_time": "2022-11-29T13:48:48.431Z"
   },
   {
    "duration": 30,
    "start_time": "2022-11-29T13:49:47.951Z"
   },
   {
    "duration": 6,
    "start_time": "2022-11-29T13:49:50.185Z"
   },
   {
    "duration": 134433,
    "start_time": "2022-11-29T13:49:52.008Z"
   },
   {
    "duration": 198346,
    "start_time": "2022-11-29T13:52:06.447Z"
   },
   {
    "duration": 10,
    "start_time": "2022-11-29T13:55:24.794Z"
   },
   {
    "duration": 15,
    "start_time": "2022-11-29T13:55:24.806Z"
   },
   {
    "duration": 39593,
    "start_time": "2022-11-29T13:55:24.823Z"
   },
   {
    "duration": 14950,
    "start_time": "2022-11-29T14:08:22.725Z"
   },
   {
    "duration": 47936,
    "start_time": "2022-11-29T14:10:21.615Z"
   },
   {
    "duration": 85,
    "start_time": "2022-11-29T14:11:28.294Z"
   },
   {
    "duration": 48073,
    "start_time": "2022-11-29T14:11:34.772Z"
   },
   {
    "duration": 5,
    "start_time": "2022-11-29T14:15:08.188Z"
   },
   {
    "duration": 51,
    "start_time": "2022-11-29T14:15:35.935Z"
   },
   {
    "duration": 53,
    "start_time": "2022-11-29T14:15:49.794Z"
   },
   {
    "duration": 54848,
    "start_time": "2022-11-29T14:16:17.229Z"
   },
   {
    "duration": 10,
    "start_time": "2022-11-29T14:17:12.079Z"
   },
   {
    "duration": 7,
    "start_time": "2022-11-29T14:18:40.252Z"
   },
   {
    "duration": 54473,
    "start_time": "2022-11-29T14:18:49.325Z"
   },
   {
    "duration": 8,
    "start_time": "2022-11-29T14:20:04.247Z"
   },
   {
    "duration": 10,
    "start_time": "2022-11-29T14:21:13.300Z"
   },
   {
    "duration": 10,
    "start_time": "2022-11-29T14:21:18.365Z"
   },
   {
    "duration": 6,
    "start_time": "2022-11-29T14:29:44.332Z"
   },
   {
    "duration": 3609,
    "start_time": "2022-11-29T14:29:49.794Z"
   },
   {
    "duration": 55657,
    "start_time": "2022-11-29T14:29:58.080Z"
   },
   {
    "duration": 10,
    "start_time": "2022-11-29T14:30:56.993Z"
   },
   {
    "duration": 143989,
    "start_time": "2022-11-29T14:31:19.853Z"
   },
   {
    "duration": 9,
    "start_time": "2022-11-29T14:33:47.310Z"
   },
   {
    "duration": 4156,
    "start_time": "2022-11-29T14:36:15.661Z"
   },
   {
    "duration": 852,
    "start_time": "2022-11-29T14:36:19.819Z"
   },
   {
    "duration": 36,
    "start_time": "2022-11-29T14:36:20.674Z"
   },
   {
    "duration": 30,
    "start_time": "2022-11-29T14:36:20.713Z"
   },
   {
    "duration": 263,
    "start_time": "2022-11-29T14:36:20.745Z"
   },
   {
    "duration": 3,
    "start_time": "2022-11-29T14:36:21.009Z"
   },
   {
    "duration": 509,
    "start_time": "2022-11-29T14:36:21.013Z"
   },
   {
    "duration": 2215217,
    "start_time": "2022-11-29T14:36:21.524Z"
   },
   {
    "duration": 29,
    "start_time": "2022-11-29T15:13:16.743Z"
   },
   {
    "duration": 6591,
    "start_time": "2022-11-29T15:13:16.774Z"
   },
   {
    "duration": 29,
    "start_time": "2022-11-29T15:13:23.367Z"
   },
   {
    "duration": 7,
    "start_time": "2022-11-29T15:13:23.398Z"
   },
   {
    "duration": 135037,
    "start_time": "2022-11-29T15:13:23.406Z"
   },
   {
    "duration": 54850,
    "start_time": "2022-11-29T15:15:38.445Z"
   },
   {
    "duration": 4,
    "start_time": "2022-11-29T15:16:33.297Z"
   },
   {
    "duration": 202681,
    "start_time": "2022-11-29T15:16:33.302Z"
   },
   {
    "duration": 10,
    "start_time": "2022-11-29T15:19:55.985Z"
   },
   {
    "duration": 13,
    "start_time": "2022-11-29T15:19:55.996Z"
   },
   {
    "duration": 53039,
    "start_time": "2022-11-29T15:19:56.011Z"
   }
  ],
  "kernelspec": {
   "display_name": "Python 3 (ipykernel)",
   "language": "python",
   "name": "python3"
  },
  "language_info": {
   "codemirror_mode": {
    "name": "ipython",
    "version": 3
   },
   "file_extension": ".py",
   "mimetype": "text/x-python",
   "name": "python",
   "nbconvert_exporter": "python",
   "pygments_lexer": "ipython3",
   "version": "3.9.6"
  },
  "toc": {
   "base_numbering": 1,
   "nav_menu": {},
   "number_sections": true,
   "sideBar": true,
   "skip_h1_title": true,
   "title_cell": "Содержание",
   "title_sidebar": "Contents",
   "toc_cell": true,
   "toc_position": {
    "height": "calc(100% - 180px)",
    "left": "10px",
    "top": "150px",
    "width": "302.391px"
   },
   "toc_section_display": true,
   "toc_window_display": false
  }
 },
 "nbformat": 4,
 "nbformat_minor": 4
}
