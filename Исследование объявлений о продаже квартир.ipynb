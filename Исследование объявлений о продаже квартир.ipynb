{
 "cells": [
  {
   "cell_type": "markdown",
   "metadata": {
    "toc": true
   },
   "source": [
    "<h1>Содержание<span class=\"tocSkip\"></span></h1>\n",
    "<div class=\"toc\"><ul class=\"toc-item\"><li><span><a href=\"#Изучение-данных-из-файла\" data-toc-modified-id=\"Изучение-данных-из-файла-1\"><span class=\"toc-item-num\">1&nbsp;&nbsp;</span>Изучение данных из файла</a></span><ul class=\"toc-item\"><li><span><a href=\"#Вывод\" data-toc-modified-id=\"Вывод-1.1\"><span class=\"toc-item-num\">1.1&nbsp;&nbsp;</span>Вывод</a></span></li></ul></li><li><span><a href=\"#Предобработка-данных\" data-toc-modified-id=\"Предобработка-данных-2\"><span class=\"toc-item-num\">2&nbsp;&nbsp;</span>Предобработка данных</a></span></li><li><span><a href=\"#Расчёты-и-добавление-результатов-в-таблицу\" data-toc-modified-id=\"Расчёты-и-добавление-результатов-в-таблицу-3\"><span class=\"toc-item-num\">3&nbsp;&nbsp;</span>Расчёты и добавление результатов в таблицу</a></span></li><li><span><a href=\"#Исследовательский-анализ-данных\" data-toc-modified-id=\"Исследовательский-анализ-данных-4\"><span class=\"toc-item-num\">4&nbsp;&nbsp;</span>Исследовательский анализ данных</a></span></li><li><span><a href=\"#Общий-вывод\" data-toc-modified-id=\"Общий-вывод-5\"><span class=\"toc-item-num\">5&nbsp;&nbsp;</span>Общий вывод</a></span></li><li><span><a href=\"#Чек-лист-готовности-проекта\" data-toc-modified-id=\"Чек-лист-готовности-проекта-6\"><span class=\"toc-item-num\">6&nbsp;&nbsp;</span>Чек-лист готовности проекта</a></span></li></ul></div>"
   ]
  },
  {
   "cell_type": "markdown",
   "metadata": {},
   "source": [
    "# Исследование объявлений о продаже квартир\n",
    "\n",
    "В вашем распоряжении данные сервиса Яндекc Недвижимость — архив объявлений о продаже квартир в Санкт-Петербурге и соседних населённых пунктах за несколько лет. Нужно научиться определять рыночную стоимость объектов недвижимости. Ваша задача — установить параметры. Это позволит построить автоматизированную систему: она отследит аномалии и мошенническую деятельность. \n",
    "\n",
    "По каждой квартире на продажу доступны два вида данных. Первые вписаны пользователем, вторые получены автоматически на основе картографических данных. Например, расстояние до центра, аэропорта, ближайшего парка и водоёма. "
   ]
  },
  {
   "cell_type": "markdown",
   "metadata": {},
   "source": [
    "## Изучение данных из файла"
   ]
  },
  {
   "cell_type": "code",
   "execution_count": 1,
   "metadata": {},
   "outputs": [
    {
     "name": "stdout",
     "output_type": "stream",
     "text": [
      "<class 'pandas.core.frame.DataFrame'>\n",
      "RangeIndex: 23699 entries, 0 to 23698\n",
      "Data columns (total 22 columns):\n",
      " #   Column                Non-Null Count  Dtype  \n",
      "---  ------                --------------  -----  \n",
      " 0   total_images          23699 non-null  int64  \n",
      " 1   last_price            23699 non-null  float64\n",
      " 2   total_area            23699 non-null  float64\n",
      " 3   first_day_exposition  23699 non-null  object \n",
      " 4   rooms                 23699 non-null  int64  \n",
      " 5   ceiling_height        14504 non-null  float64\n",
      " 6   floors_total          23613 non-null  float64\n",
      " 7   living_area           21796 non-null  float64\n",
      " 8   floor                 23699 non-null  int64  \n",
      " 9   is_apartment          2775 non-null   object \n",
      " 10  studio                23699 non-null  bool   \n",
      " 11  open_plan             23699 non-null  bool   \n",
      " 12  kitchen_area          21421 non-null  float64\n",
      " 13  balcony               12180 non-null  float64\n",
      " 14  locality_name         23650 non-null  object \n",
      " 15  airports_nearest      18157 non-null  float64\n",
      " 16  cityCenters_nearest   18180 non-null  float64\n",
      " 17  parks_around3000      18181 non-null  float64\n",
      " 18  parks_nearest         8079 non-null   float64\n",
      " 19  ponds_around3000      18181 non-null  float64\n",
      " 20  ponds_nearest         9110 non-null   float64\n",
      " 21  days_exposition       20518 non-null  float64\n",
      "dtypes: bool(2), float64(14), int64(3), object(3)\n",
      "memory usage: 3.7+ MB\n",
      "Index(['total_images', 'last_price', 'total_area', 'first_day_exposition',\n",
      "       'rooms', 'ceiling_height', 'floors_total', 'living_area', 'floor',\n",
      "       'is_apartment', 'studio', 'open_plan', 'kitchen_area', 'balcony',\n",
      "       'locality_name', 'airports_nearest', 'cityCenters_nearest',\n",
      "       'parks_around3000', 'parks_nearest', 'ponds_around3000',\n",
      "       'ponds_nearest', 'days_exposition'],\n",
      "      dtype='object')\n"
     ]
    },
    {
     "data": {
      "text/html": [
       "<div>\n",
       "<style scoped>\n",
       "    .dataframe tbody tr th:only-of-type {\n",
       "        vertical-align: middle;\n",
       "    }\n",
       "\n",
       "    .dataframe tbody tr th {\n",
       "        vertical-align: top;\n",
       "    }\n",
       "\n",
       "    .dataframe thead th {\n",
       "        text-align: right;\n",
       "    }\n",
       "</style>\n",
       "<table border=\"1\" class=\"dataframe\">\n",
       "  <thead>\n",
       "    <tr style=\"text-align: right;\">\n",
       "      <th></th>\n",
       "      <th>total_images</th>\n",
       "      <th>last_price</th>\n",
       "      <th>total_area</th>\n",
       "      <th>first_day_exposition</th>\n",
       "      <th>rooms</th>\n",
       "      <th>ceiling_height</th>\n",
       "      <th>floors_total</th>\n",
       "      <th>living_area</th>\n",
       "      <th>floor</th>\n",
       "      <th>is_apartment</th>\n",
       "      <th>...</th>\n",
       "      <th>kitchen_area</th>\n",
       "      <th>balcony</th>\n",
       "      <th>locality_name</th>\n",
       "      <th>airports_nearest</th>\n",
       "      <th>cityCenters_nearest</th>\n",
       "      <th>parks_around3000</th>\n",
       "      <th>parks_nearest</th>\n",
       "      <th>ponds_around3000</th>\n",
       "      <th>ponds_nearest</th>\n",
       "      <th>days_exposition</th>\n",
       "    </tr>\n",
       "  </thead>\n",
       "  <tbody>\n",
       "    <tr>\n",
       "      <th>0</th>\n",
       "      <td>20</td>\n",
       "      <td>13000000.0</td>\n",
       "      <td>108.00</td>\n",
       "      <td>2019-03-07T00:00:00</td>\n",
       "      <td>3</td>\n",
       "      <td>2.70</td>\n",
       "      <td>16.0</td>\n",
       "      <td>51.00</td>\n",
       "      <td>8</td>\n",
       "      <td>NaN</td>\n",
       "      <td>...</td>\n",
       "      <td>25.00</td>\n",
       "      <td>NaN</td>\n",
       "      <td>Санкт-Петербург</td>\n",
       "      <td>18863.0</td>\n",
       "      <td>16028.0</td>\n",
       "      <td>1.0</td>\n",
       "      <td>482.0</td>\n",
       "      <td>2.0</td>\n",
       "      <td>755.0</td>\n",
       "      <td>NaN</td>\n",
       "    </tr>\n",
       "    <tr>\n",
       "      <th>1</th>\n",
       "      <td>7</td>\n",
       "      <td>3350000.0</td>\n",
       "      <td>40.40</td>\n",
       "      <td>2018-12-04T00:00:00</td>\n",
       "      <td>1</td>\n",
       "      <td>NaN</td>\n",
       "      <td>11.0</td>\n",
       "      <td>18.60</td>\n",
       "      <td>1</td>\n",
       "      <td>NaN</td>\n",
       "      <td>...</td>\n",
       "      <td>11.00</td>\n",
       "      <td>2.0</td>\n",
       "      <td>посёлок Шушары</td>\n",
       "      <td>12817.0</td>\n",
       "      <td>18603.0</td>\n",
       "      <td>0.0</td>\n",
       "      <td>NaN</td>\n",
       "      <td>0.0</td>\n",
       "      <td>NaN</td>\n",
       "      <td>81.0</td>\n",
       "    </tr>\n",
       "    <tr>\n",
       "      <th>2</th>\n",
       "      <td>10</td>\n",
       "      <td>5196000.0</td>\n",
       "      <td>56.00</td>\n",
       "      <td>2015-08-20T00:00:00</td>\n",
       "      <td>2</td>\n",
       "      <td>NaN</td>\n",
       "      <td>5.0</td>\n",
       "      <td>34.30</td>\n",
       "      <td>4</td>\n",
       "      <td>NaN</td>\n",
       "      <td>...</td>\n",
       "      <td>8.30</td>\n",
       "      <td>0.0</td>\n",
       "      <td>Санкт-Петербург</td>\n",
       "      <td>21741.0</td>\n",
       "      <td>13933.0</td>\n",
       "      <td>1.0</td>\n",
       "      <td>90.0</td>\n",
       "      <td>2.0</td>\n",
       "      <td>574.0</td>\n",
       "      <td>558.0</td>\n",
       "    </tr>\n",
       "    <tr>\n",
       "      <th>3</th>\n",
       "      <td>0</td>\n",
       "      <td>64900000.0</td>\n",
       "      <td>159.00</td>\n",
       "      <td>2015-07-24T00:00:00</td>\n",
       "      <td>3</td>\n",
       "      <td>NaN</td>\n",
       "      <td>14.0</td>\n",
       "      <td>NaN</td>\n",
       "      <td>9</td>\n",
       "      <td>NaN</td>\n",
       "      <td>...</td>\n",
       "      <td>NaN</td>\n",
       "      <td>0.0</td>\n",
       "      <td>Санкт-Петербург</td>\n",
       "      <td>28098.0</td>\n",
       "      <td>6800.0</td>\n",
       "      <td>2.0</td>\n",
       "      <td>84.0</td>\n",
       "      <td>3.0</td>\n",
       "      <td>234.0</td>\n",
       "      <td>424.0</td>\n",
       "    </tr>\n",
       "    <tr>\n",
       "      <th>4</th>\n",
       "      <td>2</td>\n",
       "      <td>10000000.0</td>\n",
       "      <td>100.00</td>\n",
       "      <td>2018-06-19T00:00:00</td>\n",
       "      <td>2</td>\n",
       "      <td>3.03</td>\n",
       "      <td>14.0</td>\n",
       "      <td>32.00</td>\n",
       "      <td>13</td>\n",
       "      <td>NaN</td>\n",
       "      <td>...</td>\n",
       "      <td>41.00</td>\n",
       "      <td>NaN</td>\n",
       "      <td>Санкт-Петербург</td>\n",
       "      <td>31856.0</td>\n",
       "      <td>8098.0</td>\n",
       "      <td>2.0</td>\n",
       "      <td>112.0</td>\n",
       "      <td>1.0</td>\n",
       "      <td>48.0</td>\n",
       "      <td>121.0</td>\n",
       "    </tr>\n",
       "    <tr>\n",
       "      <th>5</th>\n",
       "      <td>10</td>\n",
       "      <td>2890000.0</td>\n",
       "      <td>30.40</td>\n",
       "      <td>2018-09-10T00:00:00</td>\n",
       "      <td>1</td>\n",
       "      <td>NaN</td>\n",
       "      <td>12.0</td>\n",
       "      <td>14.40</td>\n",
       "      <td>5</td>\n",
       "      <td>NaN</td>\n",
       "      <td>...</td>\n",
       "      <td>9.10</td>\n",
       "      <td>NaN</td>\n",
       "      <td>городской посёлок Янино-1</td>\n",
       "      <td>NaN</td>\n",
       "      <td>NaN</td>\n",
       "      <td>NaN</td>\n",
       "      <td>NaN</td>\n",
       "      <td>NaN</td>\n",
       "      <td>NaN</td>\n",
       "      <td>55.0</td>\n",
       "    </tr>\n",
       "    <tr>\n",
       "      <th>6</th>\n",
       "      <td>6</td>\n",
       "      <td>3700000.0</td>\n",
       "      <td>37.30</td>\n",
       "      <td>2017-11-02T00:00:00</td>\n",
       "      <td>1</td>\n",
       "      <td>NaN</td>\n",
       "      <td>26.0</td>\n",
       "      <td>10.60</td>\n",
       "      <td>6</td>\n",
       "      <td>NaN</td>\n",
       "      <td>...</td>\n",
       "      <td>14.40</td>\n",
       "      <td>1.0</td>\n",
       "      <td>посёлок Парголово</td>\n",
       "      <td>52996.0</td>\n",
       "      <td>19143.0</td>\n",
       "      <td>0.0</td>\n",
       "      <td>NaN</td>\n",
       "      <td>0.0</td>\n",
       "      <td>NaN</td>\n",
       "      <td>155.0</td>\n",
       "    </tr>\n",
       "    <tr>\n",
       "      <th>7</th>\n",
       "      <td>5</td>\n",
       "      <td>7915000.0</td>\n",
       "      <td>71.60</td>\n",
       "      <td>2019-04-18T00:00:00</td>\n",
       "      <td>2</td>\n",
       "      <td>NaN</td>\n",
       "      <td>24.0</td>\n",
       "      <td>NaN</td>\n",
       "      <td>22</td>\n",
       "      <td>NaN</td>\n",
       "      <td>...</td>\n",
       "      <td>18.90</td>\n",
       "      <td>2.0</td>\n",
       "      <td>Санкт-Петербург</td>\n",
       "      <td>23982.0</td>\n",
       "      <td>11634.0</td>\n",
       "      <td>0.0</td>\n",
       "      <td>NaN</td>\n",
       "      <td>0.0</td>\n",
       "      <td>NaN</td>\n",
       "      <td>NaN</td>\n",
       "    </tr>\n",
       "    <tr>\n",
       "      <th>8</th>\n",
       "      <td>20</td>\n",
       "      <td>2900000.0</td>\n",
       "      <td>33.16</td>\n",
       "      <td>2018-05-23T00:00:00</td>\n",
       "      <td>1</td>\n",
       "      <td>NaN</td>\n",
       "      <td>27.0</td>\n",
       "      <td>15.43</td>\n",
       "      <td>26</td>\n",
       "      <td>NaN</td>\n",
       "      <td>...</td>\n",
       "      <td>8.81</td>\n",
       "      <td>NaN</td>\n",
       "      <td>посёлок Мурино</td>\n",
       "      <td>NaN</td>\n",
       "      <td>NaN</td>\n",
       "      <td>NaN</td>\n",
       "      <td>NaN</td>\n",
       "      <td>NaN</td>\n",
       "      <td>NaN</td>\n",
       "      <td>189.0</td>\n",
       "    </tr>\n",
       "    <tr>\n",
       "      <th>9</th>\n",
       "      <td>18</td>\n",
       "      <td>5400000.0</td>\n",
       "      <td>61.00</td>\n",
       "      <td>2017-02-26T00:00:00</td>\n",
       "      <td>3</td>\n",
       "      <td>2.50</td>\n",
       "      <td>9.0</td>\n",
       "      <td>43.60</td>\n",
       "      <td>7</td>\n",
       "      <td>NaN</td>\n",
       "      <td>...</td>\n",
       "      <td>6.50</td>\n",
       "      <td>2.0</td>\n",
       "      <td>Санкт-Петербург</td>\n",
       "      <td>50898.0</td>\n",
       "      <td>15008.0</td>\n",
       "      <td>0.0</td>\n",
       "      <td>NaN</td>\n",
       "      <td>0.0</td>\n",
       "      <td>NaN</td>\n",
       "      <td>289.0</td>\n",
       "    </tr>\n",
       "  </tbody>\n",
       "</table>\n",
       "<p>10 rows × 22 columns</p>\n",
       "</div>"
      ],
      "text/plain": [
       "   total_images  last_price  total_area first_day_exposition  rooms  \\\n",
       "0            20  13000000.0      108.00  2019-03-07T00:00:00      3   \n",
       "1             7   3350000.0       40.40  2018-12-04T00:00:00      1   \n",
       "2            10   5196000.0       56.00  2015-08-20T00:00:00      2   \n",
       "3             0  64900000.0      159.00  2015-07-24T00:00:00      3   \n",
       "4             2  10000000.0      100.00  2018-06-19T00:00:00      2   \n",
       "5            10   2890000.0       30.40  2018-09-10T00:00:00      1   \n",
       "6             6   3700000.0       37.30  2017-11-02T00:00:00      1   \n",
       "7             5   7915000.0       71.60  2019-04-18T00:00:00      2   \n",
       "8            20   2900000.0       33.16  2018-05-23T00:00:00      1   \n",
       "9            18   5400000.0       61.00  2017-02-26T00:00:00      3   \n",
       "\n",
       "   ceiling_height  floors_total  living_area  floor is_apartment  ...  \\\n",
       "0            2.70          16.0        51.00      8          NaN  ...   \n",
       "1             NaN          11.0        18.60      1          NaN  ...   \n",
       "2             NaN           5.0        34.30      4          NaN  ...   \n",
       "3             NaN          14.0          NaN      9          NaN  ...   \n",
       "4            3.03          14.0        32.00     13          NaN  ...   \n",
       "5             NaN          12.0        14.40      5          NaN  ...   \n",
       "6             NaN          26.0        10.60      6          NaN  ...   \n",
       "7             NaN          24.0          NaN     22          NaN  ...   \n",
       "8             NaN          27.0        15.43     26          NaN  ...   \n",
       "9            2.50           9.0        43.60      7          NaN  ...   \n",
       "\n",
       "   kitchen_area  balcony              locality_name  airports_nearest  \\\n",
       "0         25.00      NaN            Санкт-Петербург           18863.0   \n",
       "1         11.00      2.0             посёлок Шушары           12817.0   \n",
       "2          8.30      0.0            Санкт-Петербург           21741.0   \n",
       "3           NaN      0.0            Санкт-Петербург           28098.0   \n",
       "4         41.00      NaN            Санкт-Петербург           31856.0   \n",
       "5          9.10      NaN  городской посёлок Янино-1               NaN   \n",
       "6         14.40      1.0          посёлок Парголово           52996.0   \n",
       "7         18.90      2.0            Санкт-Петербург           23982.0   \n",
       "8          8.81      NaN             посёлок Мурино               NaN   \n",
       "9          6.50      2.0            Санкт-Петербург           50898.0   \n",
       "\n",
       "  cityCenters_nearest  parks_around3000  parks_nearest  ponds_around3000  \\\n",
       "0             16028.0               1.0          482.0               2.0   \n",
       "1             18603.0               0.0            NaN               0.0   \n",
       "2             13933.0               1.0           90.0               2.0   \n",
       "3              6800.0               2.0           84.0               3.0   \n",
       "4              8098.0               2.0          112.0               1.0   \n",
       "5                 NaN               NaN            NaN               NaN   \n",
       "6             19143.0               0.0            NaN               0.0   \n",
       "7             11634.0               0.0            NaN               0.0   \n",
       "8                 NaN               NaN            NaN               NaN   \n",
       "9             15008.0               0.0            NaN               0.0   \n",
       "\n",
       "   ponds_nearest  days_exposition  \n",
       "0          755.0              NaN  \n",
       "1            NaN             81.0  \n",
       "2          574.0            558.0  \n",
       "3          234.0            424.0  \n",
       "4           48.0            121.0  \n",
       "5            NaN             55.0  \n",
       "6            NaN            155.0  \n",
       "7            NaN              NaN  \n",
       "8            NaN            189.0  \n",
       "9            NaN            289.0  \n",
       "\n",
       "[10 rows x 22 columns]"
      ]
     },
     "execution_count": 1,
     "metadata": {},
     "output_type": "execute_result"
    }
   ],
   "source": [
    "import pandas as pd \n",
    "import matplotlib.pyplot as plt\n",
    "# Загружаем данные из файла, и посмотрим основную информацю о них\n",
    "data = pd.read_csv('/datasets/real_estate_data.csv',sep='\\t')\n",
    "\n",
    "data.info()\n",
    "print(data.columns)\n",
    "data.head(10)\n"
   ]
  },
  {
   "cell_type": "markdown",
   "metadata": {},
   "source": [
    "### Вывод"
   ]
  },
  {
   "cell_type": "markdown",
   "metadata": {},
   "source": [
    "1) В названии колонки \"cityCenters_nearest\" видно нарушение стиля.\n",
    "\n",
    "2) Количество значений в столбцах различается, соответственно в них есть пропуски. \n",
    "\n",
    "3)  Колонки \"first_day_exposition\",  \"is_apartment\", \"floors_total\", \"balcony\", \"parks_around3000\", \"ponds_around3000\",  \"days_exposition\" не соответствуют типу представленных в них данных.\n"
   ]
  },
  {
   "cell_type": "markdown",
   "metadata": {},
   "source": [
    "## Предобработка данных"
   ]
  },
  {
   "cell_type": "code",
   "execution_count": 2,
   "metadata": {},
   "outputs": [
    {
     "data": {
      "text/plain": [
       "Index(['total_images', 'last_price', 'total_area', 'first_day_exposition',\n",
       "       'rooms', 'ceiling_height', 'floors_total', 'living_area', 'floor',\n",
       "       'is_apartment', 'studio', 'open_plan', 'kitchen_area', 'balcony',\n",
       "       'locality_name', 'airports_nearest', 'city_centers_nearest',\n",
       "       'parks_around3000', 'parks_nearest', 'ponds_around3000',\n",
       "       'ponds_nearest', 'days_exposition'],\n",
       "      dtype='object')"
      ]
     },
     "execution_count": 2,
     "metadata": {},
     "output_type": "execute_result"
    }
   ],
   "source": [
    "data = data.rename(columns={'cityCenters_nearest':'city_centers_nearest'}) # переименуем колонку 'cityCenters_nearest'\n",
    "\n",
    "\n",
    "data.columns"
   ]
  },
  {
   "cell_type": "code",
   "execution_count": 3,
   "metadata": {},
   "outputs": [
    {
     "data": {
      "text/plain": [
       "total_images                0\n",
       "last_price                  0\n",
       "total_area                  0\n",
       "first_day_exposition        0\n",
       "rooms                       0\n",
       "ceiling_height           9195\n",
       "floors_total               86\n",
       "living_area              1903\n",
       "floor                       0\n",
       "is_apartment            20924\n",
       "studio                      0\n",
       "open_plan                   0\n",
       "kitchen_area             2278\n",
       "balcony                 11519\n",
       "locality_name              49\n",
       "airports_nearest         5542\n",
       "city_centers_nearest     5519\n",
       "parks_around3000         5518\n",
       "parks_nearest           15620\n",
       "ponds_around3000         5518\n",
       "ponds_nearest           14589\n",
       "days_exposition          3181\n",
       "dtype: int64"
      ]
     },
     "execution_count": 3,
     "metadata": {},
     "output_type": "execute_result"
    }
   ],
   "source": [
    "data.isna().sum() # Посмотрим количество пропусков\n"
   ]
  },
  {
   "cell_type": "code",
   "execution_count": 4,
   "metadata": {},
   "outputs": [
    {
     "data": {
      "text/plain": [
       "count    14504.000000\n",
       "mean         2.771499\n",
       "std          1.261056\n",
       "min          1.000000\n",
       "25%          2.520000\n",
       "50%          2.650000\n",
       "75%          2.800000\n",
       "max        100.000000\n",
       "Name: ceiling_height, dtype: float64"
      ]
     },
     "execution_count": 4,
     "metadata": {},
     "output_type": "execute_result"
    },
    {
     "data": {
      "image/png": "[encoded data removed]",
      "text/plain": [
       "<Figure size 432x288 with 1 Axes>"
      ]
     },
     "metadata": {
      "needs_background": "light"
     },
     "output_type": "display_data"
    }
   ],
   "source": [
    "#Посмотрим за из себя представляют данные, посмтроим график. \n",
    "data['ceiling_height'].plot(y = 'ceiling_height', kind = 'hist', bins = 20, range=(2,5))\n",
    "data['ceiling_height'].describe()\n"
   ]
  },
  {
   "cell_type": "markdown",
   "metadata": {},
   "source": [
    "Видем аномально большие значения, но их не много. Медиана не сильно отеклоняется от среднего значения."
   ]
  },
  {
   "cell_type": "code",
   "execution_count": 5,
   "metadata": {},
   "outputs": [],
   "source": [
    "data['ceiling_height'] = data['ceiling_height'].fillna(data['ceiling_height'].median()) # заполним пропуски медианой значением"
   ]
  },
  {
   "cell_type": "markdown",
   "metadata": {},
   "source": [
    "Доля пропусков в столбце \"floors_total\" очень мала, так что можем от них избавиться"
   ]
  },
  {
   "cell_type": "code",
   "execution_count": 6,
   "metadata": {},
   "outputs": [],
   "source": [
    "data = data.dropna(subset=['floors_total']) # Удаляем строки с пропусками\n"
   ]
  },
  {
   "cell_type": "markdown",
   "metadata": {},
   "source": [
    "Пропуски в столбцах \"kitchen_area\" и \"living_area\" корректно заполнить мы не можем, так как среднее заначение или медианное будет брать не корректно, так же как и коэффициент отношения жилой площади или площади кухне к общей площади. Оставим значения без изменений. "
   ]
  },
  {
   "cell_type": "markdown",
   "metadata": {},
   "source": [
    "Можно предположить что пропуски в столбце \"is_apartment\" говорят о том что это не апартаменты."
   ]
  },
  {
   "cell_type": "code",
   "execution_count": 7,
   "metadata": {},
   "outputs": [
    {
     "data": {
      "text/plain": [
       "array([False,  True])"
      ]
     },
     "execution_count": 7,
     "metadata": {},
     "output_type": "execute_result"
    }
   ],
   "source": [
    "data['is_apartment'] = data['is_apartment'].fillna(False) # Заменим пропуски на False\n",
    "data['is_apartment'].unique()"
   ]
  },
  {
   "cell_type": "markdown",
   "metadata": {},
   "source": [
    "Так же можно предположить что пропуски в \"balcony\" означают отсутствие балкона"
   ]
  },
  {
   "cell_type": "code",
   "execution_count": 8,
   "metadata": {},
   "outputs": [
    {
     "data": {
      "text/plain": [
       "0    15193\n",
       "1     4195\n",
       "2     3657\n",
       "5      304\n",
       "4      183\n",
       "3       81\n",
       "Name: balcony, dtype: int64"
      ]
     },
     "execution_count": 8,
     "metadata": {},
     "output_type": "execute_result"
    }
   ],
   "source": [
    "# Заполним пропуски и сменим типа данных\n",
    "data['balcony'] = data['balcony'].fillna(0)\n",
    "data['balcony'] = data['balcony'].astype('int')\n",
    "data['balcony'].value_counts()"
   ]
  },
  {
   "cell_type": "markdown",
   "metadata": {},
   "source": [
    "Пропущенных значений в \"locality_name\" мало и причина пропуска скорей всего человеческий фактор, можем избавиться от них"
   ]
  },
  {
   "cell_type": "code",
   "execution_count": 9,
   "metadata": {},
   "outputs": [
    {
     "data": {
      "text/plain": [
       "0"
      ]
     },
     "execution_count": 9,
     "metadata": {},
     "output_type": "execute_result"
    }
   ],
   "source": [
    "data = data.dropna(subset=['locality_name']) #Удаляем пропущенные занчения \n",
    "data['locality_name'].isna().sum()"
   ]
  },
  {
   "cell_type": "code",
   "execution_count": 10,
   "metadata": {},
   "outputs": [
    {
     "name": "stdout",
     "output_type": "stream",
     "text": [
      "Пропущено 0.4%\n"
     ]
    }
   ],
   "source": [
    "# Посчитаем процент колличества пропусков в колонке \"city_centers_nearest\" по Санкт-Петербургу\n",
    "print('Пропущено {:.1%}'.format(data[data['locality_name'] == 'Санкт-Петербург']['city_centers_nearest'].isna().sum() /\n",
    "      data[data['locality_name'] == 'Санкт-Петербург']['locality_name'].count()))\n",
    "      "
   ]
  },
  {
   "cell_type": "markdown",
   "metadata": {},
   "source": [
    "Так как доля пропущеных значений колонки \"city_centers_nearest\" для квартир из Санкт-Петербурга не велика оставим их без изменений."
   ]
  },
  {
   "cell_type": "markdown",
   "metadata": {},
   "source": [
    "Столбцы \"airports_nearest\", \"parks_around3000\", \"parks_nearest\", \"ponds_around3000\", \"ponds_nearest\" оставим без изменений данны из них нам не понадобятся.        \n"
   ]
  },
  {
   "cell_type": "markdown",
   "metadata": {},
   "source": [
    "Для столбца \"days_exposition\" среднее или медианное значение не подойдут так как пропусков слишком много и такая замена будет занчительно влиять на данные и может исказить дальнейшее исследование, так что заменим пропуски и приведёнм к корректному типу данных."
   ]
  },
  {
   "cell_type": "code",
   "execution_count": 11,
   "metadata": {},
   "outputs": [],
   "source": [
    "data['days_exposition'] = data['days_exposition'].fillna(0).astype(int) "
   ]
  },
  {
   "cell_type": "markdown",
   "metadata": {},
   "source": [
    "Столбец \"first_day_exposition\" преобразуем к формату datetime, отбросив время за ненадобностью."
   ]
  },
  {
   "cell_type": "code",
   "execution_count": 12,
   "metadata": {},
   "outputs": [],
   "source": [
    "data['first_day_exposition'] = pd.to_datetime(data['first_day_exposition'], format='%Y-%m-%d')"
   ]
  },
  {
   "cell_type": "markdown",
   "metadata": {},
   "source": [
    "Столбец floors_total преобразуем к формату целого числа."
   ]
  },
  {
   "cell_type": "code",
   "execution_count": 13,
   "metadata": {},
   "outputs": [
    {
     "name": "stdout",
     "output_type": "stream",
     "text": [
      "<class 'pandas.core.frame.DataFrame'>\n",
      "Int64Index: 23565 entries, 0 to 23698\n",
      "Data columns (total 22 columns):\n",
      " #   Column                Non-Null Count  Dtype         \n",
      "---  ------                --------------  -----         \n",
      " 0   total_images          23565 non-null  int64         \n",
      " 1   last_price            23565 non-null  float64       \n",
      " 2   total_area            23565 non-null  float64       \n",
      " 3   first_day_exposition  23565 non-null  datetime64[ns]\n",
      " 4   rooms                 23565 non-null  int64         \n",
      " 5   ceiling_height        23565 non-null  float64       \n",
      " 6   floors_total          23565 non-null  int64         \n",
      " 7   living_area           21700 non-null  float64       \n",
      " 8   floor                 23565 non-null  int64         \n",
      " 9   is_apartment          23565 non-null  bool          \n",
      " 10  studio                23565 non-null  bool          \n",
      " 11  open_plan             23565 non-null  bool          \n",
      " 12  kitchen_area          21343 non-null  float64       \n",
      " 13  balcony               23565 non-null  int64         \n",
      " 14  locality_name         23565 non-null  object        \n",
      " 15  airports_nearest      18041 non-null  float64       \n",
      " 16  city_centers_nearest  18064 non-null  float64       \n",
      " 17  parks_around3000      18065 non-null  float64       \n",
      " 18  parks_nearest         8030 non-null   float64       \n",
      " 19  ponds_around3000      18065 non-null  float64       \n",
      " 20  ponds_nearest         9036 non-null   float64       \n",
      " 21  days_exposition       23565 non-null  int64         \n",
      "dtypes: bool(3), datetime64[ns](1), float64(11), int64(6), object(1)\n",
      "memory usage: 3.7+ MB\n"
     ]
    }
   ],
   "source": [
    "data['floors_total'] = data['floors_total'].astype(int)\n",
    "data.info()"
   ]
  },
  {
   "cell_type": "markdown",
   "metadata": {},
   "source": [
    "## Расчёты и добавление результатов в таблицу"
   ]
  },
  {
   "cell_type": "markdown",
   "metadata": {},
   "source": [
    "Цена квадратного метра квартиры.\n"
   ]
  },
  {
   "cell_type": "code",
   "execution_count": 14,
   "metadata": {},
   "outputs": [],
   "source": [
    "data['price_sqm'] = round(data['last_price'] / data['total_area'])"
   ]
  },
  {
   "cell_type": "markdown",
   "metadata": {},
   "source": [
    "Добавим день недели, месяц и год публикации объявления."
   ]
  },
  {
   "cell_type": "code",
   "execution_count": 15,
   "metadata": {},
   "outputs": [],
   "source": [
    "data['weekday'] = data['first_day_exposition'].dt.weekday\n",
    "data['month'] = data['first_day_exposition'].dt.month\n",
    "data['year'] = data['first_day_exposition'].dt.year"
   ]
  },
  {
   "cell_type": "markdown",
   "metadata": {},
   "source": [
    "Добавим этаж квартиры; варианты — первый, последний, другой."
   ]
  },
  {
   "cell_type": "code",
   "execution_count": 16,
   "metadata": {
    "scrolled": true
   },
   "outputs": [
    {
     "data": {
      "text/html": [
       "<div>\n",
       "<style scoped>\n",
       "    .dataframe tbody tr th:only-of-type {\n",
       "        vertical-align: middle;\n",
       "    }\n",
       "\n",
       "    .dataframe tbody tr th {\n",
       "        vertical-align: top;\n",
       "    }\n",
       "\n",
       "    .dataframe thead th {\n",
       "        text-align: right;\n",
       "    }\n",
       "</style>\n",
       "<table border=\"1\" class=\"dataframe\">\n",
       "  <thead>\n",
       "    <tr style=\"text-align: right;\">\n",
       "      <th></th>\n",
       "      <th>total_images</th>\n",
       "      <th>last_price</th>\n",
       "      <th>total_area</th>\n",
       "      <th>first_day_exposition</th>\n",
       "      <th>rooms</th>\n",
       "      <th>ceiling_height</th>\n",
       "      <th>floors_total</th>\n",
       "      <th>living_area</th>\n",
       "      <th>floor</th>\n",
       "      <th>is_apartment</th>\n",
       "      <th>...</th>\n",
       "      <th>parks_around3000</th>\n",
       "      <th>parks_nearest</th>\n",
       "      <th>ponds_around3000</th>\n",
       "      <th>ponds_nearest</th>\n",
       "      <th>days_exposition</th>\n",
       "      <th>price_sqm</th>\n",
       "      <th>weekday</th>\n",
       "      <th>month</th>\n",
       "      <th>year</th>\n",
       "      <th>floor_category</th>\n",
       "    </tr>\n",
       "  </thead>\n",
       "  <tbody>\n",
       "    <tr>\n",
       "      <th>0</th>\n",
       "      <td>20</td>\n",
       "      <td>13000000.0</td>\n",
       "      <td>108.0</td>\n",
       "      <td>2019-03-07</td>\n",
       "      <td>3</td>\n",
       "      <td>2.70</td>\n",
       "      <td>16</td>\n",
       "      <td>51.0</td>\n",
       "      <td>8</td>\n",
       "      <td>False</td>\n",
       "      <td>...</td>\n",
       "      <td>1.0</td>\n",
       "      <td>482.0</td>\n",
       "      <td>2.0</td>\n",
       "      <td>755.0</td>\n",
       "      <td>0</td>\n",
       "      <td>120370.0</td>\n",
       "      <td>3</td>\n",
       "      <td>3</td>\n",
       "      <td>2019</td>\n",
       "      <td>другой</td>\n",
       "    </tr>\n",
       "    <tr>\n",
       "      <th>1</th>\n",
       "      <td>7</td>\n",
       "      <td>3350000.0</td>\n",
       "      <td>40.4</td>\n",
       "      <td>2018-12-04</td>\n",
       "      <td>1</td>\n",
       "      <td>2.65</td>\n",
       "      <td>11</td>\n",
       "      <td>18.6</td>\n",
       "      <td>1</td>\n",
       "      <td>False</td>\n",
       "      <td>...</td>\n",
       "      <td>0.0</td>\n",
       "      <td>NaN</td>\n",
       "      <td>0.0</td>\n",
       "      <td>NaN</td>\n",
       "      <td>81</td>\n",
       "      <td>82921.0</td>\n",
       "      <td>1</td>\n",
       "      <td>12</td>\n",
       "      <td>2018</td>\n",
       "      <td>первый</td>\n",
       "    </tr>\n",
       "    <tr>\n",
       "      <th>2</th>\n",
       "      <td>10</td>\n",
       "      <td>5196000.0</td>\n",
       "      <td>56.0</td>\n",
       "      <td>2015-08-20</td>\n",
       "      <td>2</td>\n",
       "      <td>2.65</td>\n",
       "      <td>5</td>\n",
       "      <td>34.3</td>\n",
       "      <td>4</td>\n",
       "      <td>False</td>\n",
       "      <td>...</td>\n",
       "      <td>1.0</td>\n",
       "      <td>90.0</td>\n",
       "      <td>2.0</td>\n",
       "      <td>574.0</td>\n",
       "      <td>558</td>\n",
       "      <td>92786.0</td>\n",
       "      <td>3</td>\n",
       "      <td>8</td>\n",
       "      <td>2015</td>\n",
       "      <td>другой</td>\n",
       "    </tr>\n",
       "    <tr>\n",
       "      <th>3</th>\n",
       "      <td>0</td>\n",
       "      <td>64900000.0</td>\n",
       "      <td>159.0</td>\n",
       "      <td>2015-07-24</td>\n",
       "      <td>3</td>\n",
       "      <td>2.65</td>\n",
       "      <td>14</td>\n",
       "      <td>NaN</td>\n",
       "      <td>9</td>\n",
       "      <td>False</td>\n",
       "      <td>...</td>\n",
       "      <td>2.0</td>\n",
       "      <td>84.0</td>\n",
       "      <td>3.0</td>\n",
       "      <td>234.0</td>\n",
       "      <td>424</td>\n",
       "      <td>408176.0</td>\n",
       "      <td>4</td>\n",
       "      <td>7</td>\n",
       "      <td>2015</td>\n",
       "      <td>другой</td>\n",
       "    </tr>\n",
       "    <tr>\n",
       "      <th>4</th>\n",
       "      <td>2</td>\n",
       "      <td>10000000.0</td>\n",
       "      <td>100.0</td>\n",
       "      <td>2018-06-19</td>\n",
       "      <td>2</td>\n",
       "      <td>3.03</td>\n",
       "      <td>14</td>\n",
       "      <td>32.0</td>\n",
       "      <td>13</td>\n",
       "      <td>False</td>\n",
       "      <td>...</td>\n",
       "      <td>2.0</td>\n",
       "      <td>112.0</td>\n",
       "      <td>1.0</td>\n",
       "      <td>48.0</td>\n",
       "      <td>121</td>\n",
       "      <td>100000.0</td>\n",
       "      <td>1</td>\n",
       "      <td>6</td>\n",
       "      <td>2018</td>\n",
       "      <td>другой</td>\n",
       "    </tr>\n",
       "  </tbody>\n",
       "</table>\n",
       "<p>5 rows × 27 columns</p>\n",
       "</div>"
      ],
      "text/plain": [
       "   total_images  last_price  total_area first_day_exposition  rooms  \\\n",
       "0            20  13000000.0       108.0           2019-03-07      3   \n",
       "1             7   3350000.0        40.4           2018-12-04      1   \n",
       "2            10   5196000.0        56.0           2015-08-20      2   \n",
       "3             0  64900000.0       159.0           2015-07-24      3   \n",
       "4             2  10000000.0       100.0           2018-06-19      2   \n",
       "\n",
       "   ceiling_height  floors_total  living_area  floor  is_apartment  ...  \\\n",
       "0            2.70            16         51.0      8         False  ...   \n",
       "1            2.65            11         18.6      1         False  ...   \n",
       "2            2.65             5         34.3      4         False  ...   \n",
       "3            2.65            14          NaN      9         False  ...   \n",
       "4            3.03            14         32.0     13         False  ...   \n",
       "\n",
       "   parks_around3000  parks_nearest  ponds_around3000  ponds_nearest  \\\n",
       "0               1.0          482.0               2.0          755.0   \n",
       "1               0.0            NaN               0.0            NaN   \n",
       "2               1.0           90.0               2.0          574.0   \n",
       "3               2.0           84.0               3.0          234.0   \n",
       "4               2.0          112.0               1.0           48.0   \n",
       "\n",
       "  days_exposition  price_sqm  weekday  month  year  floor_category  \n",
       "0               0   120370.0        3      3  2019          другой  \n",
       "1              81    82921.0        1     12  2018          первый  \n",
       "2             558    92786.0        3      8  2015          другой  \n",
       "3             424   408176.0        4      7  2015          другой  \n",
       "4             121   100000.0        1      6  2018          другой  \n",
       "\n",
       "[5 rows x 27 columns]"
      ]
     },
     "execution_count": 16,
     "metadata": {},
     "output_type": "execute_result"
    }
   ],
   "source": [
    "# Создадим функцию категоризации этажей\n",
    "def floors (dp):\n",
    "    if dp['floor'] == 1:\n",
    "        return 'первый'\n",
    "    elif dp['floor'] == dp['floors_total']:\n",
    "        return 'последний'\n",
    "    else:\n",
    "        return 'другой'\n",
    "\n",
    "data['floor_category'] = data.apply(floors, axis=1)\n",
    "data.head(5)"
   ]
  },
  {
   "cell_type": "markdown",
   "metadata": {},
   "source": [
    "Добавим соотношение жилой и общей площади, а также отношение площади кухни к общей."
   ]
  },
  {
   "cell_type": "code",
   "execution_count": 17,
   "metadata": {},
   "outputs": [
    {
     "data": {
      "text/html": [
       "<div>\n",
       "<style scoped>\n",
       "    .dataframe tbody tr th:only-of-type {\n",
       "        vertical-align: middle;\n",
       "    }\n",
       "\n",
       "    .dataframe tbody tr th {\n",
       "        vertical-align: top;\n",
       "    }\n",
       "\n",
       "    .dataframe thead th {\n",
       "        text-align: right;\n",
       "    }\n",
       "</style>\n",
       "<table border=\"1\" class=\"dataframe\">\n",
       "  <thead>\n",
       "    <tr style=\"text-align: right;\">\n",
       "      <th></th>\n",
       "      <th>total_images</th>\n",
       "      <th>last_price</th>\n",
       "      <th>total_area</th>\n",
       "      <th>first_day_exposition</th>\n",
       "      <th>rooms</th>\n",
       "      <th>ceiling_height</th>\n",
       "      <th>floors_total</th>\n",
       "      <th>living_area</th>\n",
       "      <th>floor</th>\n",
       "      <th>is_apartment</th>\n",
       "      <th>...</th>\n",
       "      <th>ponds_around3000</th>\n",
       "      <th>ponds_nearest</th>\n",
       "      <th>days_exposition</th>\n",
       "      <th>price_sqm</th>\n",
       "      <th>weekday</th>\n",
       "      <th>month</th>\n",
       "      <th>year</th>\n",
       "      <th>floor_category</th>\n",
       "      <th>ratio_living_total</th>\n",
       "      <th>ratio_total_kitchen</th>\n",
       "    </tr>\n",
       "  </thead>\n",
       "  <tbody>\n",
       "    <tr>\n",
       "      <th>0</th>\n",
       "      <td>20</td>\n",
       "      <td>13000000.0</td>\n",
       "      <td>108.0</td>\n",
       "      <td>2019-03-07</td>\n",
       "      <td>3</td>\n",
       "      <td>2.70</td>\n",
       "      <td>16</td>\n",
       "      <td>51.0</td>\n",
       "      <td>8</td>\n",
       "      <td>False</td>\n",
       "      <td>...</td>\n",
       "      <td>2.0</td>\n",
       "      <td>755.0</td>\n",
       "      <td>0</td>\n",
       "      <td>120370.0</td>\n",
       "      <td>3</td>\n",
       "      <td>3</td>\n",
       "      <td>2019</td>\n",
       "      <td>другой</td>\n",
       "      <td>0.47</td>\n",
       "      <td>0.23</td>\n",
       "    </tr>\n",
       "    <tr>\n",
       "      <th>1</th>\n",
       "      <td>7</td>\n",
       "      <td>3350000.0</td>\n",
       "      <td>40.4</td>\n",
       "      <td>2018-12-04</td>\n",
       "      <td>1</td>\n",
       "      <td>2.65</td>\n",
       "      <td>11</td>\n",
       "      <td>18.6</td>\n",
       "      <td>1</td>\n",
       "      <td>False</td>\n",
       "      <td>...</td>\n",
       "      <td>0.0</td>\n",
       "      <td>NaN</td>\n",
       "      <td>81</td>\n",
       "      <td>82921.0</td>\n",
       "      <td>1</td>\n",
       "      <td>12</td>\n",
       "      <td>2018</td>\n",
       "      <td>первый</td>\n",
       "      <td>0.46</td>\n",
       "      <td>0.27</td>\n",
       "    </tr>\n",
       "    <tr>\n",
       "      <th>2</th>\n",
       "      <td>10</td>\n",
       "      <td>5196000.0</td>\n",
       "      <td>56.0</td>\n",
       "      <td>2015-08-20</td>\n",
       "      <td>2</td>\n",
       "      <td>2.65</td>\n",
       "      <td>5</td>\n",
       "      <td>34.3</td>\n",
       "      <td>4</td>\n",
       "      <td>False</td>\n",
       "      <td>...</td>\n",
       "      <td>2.0</td>\n",
       "      <td>574.0</td>\n",
       "      <td>558</td>\n",
       "      <td>92786.0</td>\n",
       "      <td>3</td>\n",
       "      <td>8</td>\n",
       "      <td>2015</td>\n",
       "      <td>другой</td>\n",
       "      <td>0.61</td>\n",
       "      <td>0.15</td>\n",
       "    </tr>\n",
       "    <tr>\n",
       "      <th>3</th>\n",
       "      <td>0</td>\n",
       "      <td>64900000.0</td>\n",
       "      <td>159.0</td>\n",
       "      <td>2015-07-24</td>\n",
       "      <td>3</td>\n",
       "      <td>2.65</td>\n",
       "      <td>14</td>\n",
       "      <td>NaN</td>\n",
       "      <td>9</td>\n",
       "      <td>False</td>\n",
       "      <td>...</td>\n",
       "      <td>3.0</td>\n",
       "      <td>234.0</td>\n",
       "      <td>424</td>\n",
       "      <td>408176.0</td>\n",
       "      <td>4</td>\n",
       "      <td>7</td>\n",
       "      <td>2015</td>\n",
       "      <td>другой</td>\n",
       "      <td>NaN</td>\n",
       "      <td>NaN</td>\n",
       "    </tr>\n",
       "    <tr>\n",
       "      <th>4</th>\n",
       "      <td>2</td>\n",
       "      <td>10000000.0</td>\n",
       "      <td>100.0</td>\n",
       "      <td>2018-06-19</td>\n",
       "      <td>2</td>\n",
       "      <td>3.03</td>\n",
       "      <td>14</td>\n",
       "      <td>32.0</td>\n",
       "      <td>13</td>\n",
       "      <td>False</td>\n",
       "      <td>...</td>\n",
       "      <td>1.0</td>\n",
       "      <td>48.0</td>\n",
       "      <td>121</td>\n",
       "      <td>100000.0</td>\n",
       "      <td>1</td>\n",
       "      <td>6</td>\n",
       "      <td>2018</td>\n",
       "      <td>другой</td>\n",
       "      <td>0.32</td>\n",
       "      <td>0.41</td>\n",
       "    </tr>\n",
       "  </tbody>\n",
       "</table>\n",
       "<p>5 rows × 29 columns</p>\n",
       "</div>"
      ],
      "text/plain": [
       "   total_images  last_price  total_area first_day_exposition  rooms  \\\n",
       "0            20  13000000.0       108.0           2019-03-07      3   \n",
       "1             7   3350000.0        40.4           2018-12-04      1   \n",
       "2            10   5196000.0        56.0           2015-08-20      2   \n",
       "3             0  64900000.0       159.0           2015-07-24      3   \n",
       "4             2  10000000.0       100.0           2018-06-19      2   \n",
       "\n",
       "   ceiling_height  floors_total  living_area  floor  is_apartment  ...  \\\n",
       "0            2.70            16         51.0      8         False  ...   \n",
       "1            2.65            11         18.6      1         False  ...   \n",
       "2            2.65             5         34.3      4         False  ...   \n",
       "3            2.65            14          NaN      9         False  ...   \n",
       "4            3.03            14         32.0     13         False  ...   \n",
       "\n",
       "   ponds_around3000  ponds_nearest  days_exposition  price_sqm weekday  month  \\\n",
       "0               2.0          755.0                0   120370.0       3      3   \n",
       "1               0.0            NaN               81    82921.0       1     12   \n",
       "2               2.0          574.0              558    92786.0       3      8   \n",
       "3               3.0          234.0              424   408176.0       4      7   \n",
       "4               1.0           48.0              121   100000.0       1      6   \n",
       "\n",
       "   year  floor_category  ratio_living_total  ratio_total_kitchen  \n",
       "0  2019          другой                0.47                 0.23  \n",
       "1  2018          первый                0.46                 0.27  \n",
       "2  2015          другой                0.61                 0.15  \n",
       "3  2015          другой                 NaN                  NaN  \n",
       "4  2018          другой                0.32                 0.41  \n",
       "\n",
       "[5 rows x 29 columns]"
      ]
     },
     "execution_count": 17,
     "metadata": {},
     "output_type": "execute_result"
    }
   ],
   "source": [
    "data['ratio_living_total'] =round(data['living_area'] / data['total_area'], 2)\n",
    "\n",
    "data['ratio_total_kitchen'] = round(data['kitchen_area'] / data['total_area'], 2)\n",
    "\n",
    "data.head(5)"
   ]
  },
  {
   "cell_type": "markdown",
   "metadata": {},
   "source": [
    "## Исследовательский анализ данных"
   ]
  },
  {
   "cell_type": "markdown",
   "metadata": {},
   "source": [
    "Изучим следующие параметры: площадь, цена, число комнат, высота потолков."
   ]
  },
  {
   "cell_type": "code",
   "execution_count": 18,
   "metadata": {},
   "outputs": [
    {
     "data": {
      "text/plain": [
       "count    23565.000000\n",
       "mean        60.322824\n",
       "std         35.657060\n",
       "min         12.000000\n",
       "25%         40.000000\n",
       "50%         52.000000\n",
       "75%         69.700000\n",
       "max        900.000000\n",
       "Name: total_area, dtype: float64"
      ]
     },
     "execution_count": 18,
     "metadata": {},
     "output_type": "execute_result"
    },
    {
     "data": {
      "image/png": "[encoded data removed]",
      "text/plain": [
       "<Figure size 432x288 with 1 Axes>"
      ]
     },
     "metadata": {
      "needs_background": "light"
     },
     "output_type": "display_data"
    }
   ],
   "source": [
    "# Визуалезируем данные для наглядности \n",
    "data.hist('total_area', bins=200, range=(0,400))\n",
    "data['total_area'].describe()"
   ]
  },
  {
   "cell_type": "markdown",
   "metadata": {},
   "source": [
    "Из полученных данных сделаем вывод что распределение нормальное, выбросы есть но они не значительные, средний размер квартиры 60 м2 , медиана 52 м2."
   ]
  },
  {
   "cell_type": "code",
   "execution_count": 19,
   "metadata": {},
   "outputs": [
    {
     "data": {
      "text/plain": [
       "count    23565.000000\n",
       "mean         6.540058\n",
       "std         10.910935\n",
       "min          0.012190\n",
       "25%          3.400000\n",
       "50%          4.646000\n",
       "75%          6.790000\n",
       "max        763.000000\n",
       "Name: last_price, dtype: float64"
      ]
     },
     "execution_count": 19,
     "metadata": {},
     "output_type": "execute_result"
    },
    {
     "data": {
      "image/png": "[encoded data removed]",
      "text/plain": [
       "<Figure size 432x288 with 1 Axes>"
      ]
     },
     "metadata": {
      "needs_background": "light"
     },
     "output_type": "display_data"
    }
   ],
   "source": [
    "data['last_price'] = data['last_price'] / 1000000 #Для удобства переведём занчения в миллионы\n",
    "\n",
    "data.hist('last_price', bins=200, range=(0,50)) #Построим гостограмму\n",
    "data['last_price'].describe()"
   ]
  },
  {
   "cell_type": "markdown",
   "metadata": {},
   "source": [
    "Распределение нормальное. Среднее цена 6540000, медиана 4646000"
   ]
  },
  {
   "cell_type": "code",
   "execution_count": 20,
   "metadata": {},
   "outputs": [
    {
     "data": {
      "text/plain": [
       "count    23565.000000\n",
       "mean         2.070656\n",
       "std          1.078591\n",
       "min          0.000000\n",
       "25%          1.000000\n",
       "50%          2.000000\n",
       "75%          3.000000\n",
       "max         19.000000\n",
       "Name: rooms, dtype: float64"
      ]
     },
     "execution_count": 20,
     "metadata": {},
     "output_type": "execute_result"
    },
    {
     "data": {
      "image/png": "[encoded data removed]",
      "text/plain": [
       "<Figure size 432x288 with 1 Axes>"
      ]
     },
     "metadata": {
      "needs_background": "light"
     },
     "output_type": "display_data"
    }
   ],
   "source": [
    "# Визуалезируем данные для наглядности\n",
    "data.hist('rooms', bins=20, range=(0,10))\n",
    "data['rooms'].describe()"
   ]
  },
  {
   "cell_type": "markdown",
   "metadata": {},
   "source": [
    "Распределение нормальное."
   ]
  },
  {
   "cell_type": "code",
   "execution_count": 21,
   "metadata": {},
   "outputs": [
    {
     "data": {
      "text/plain": [
       "count    23565.000000\n",
       "mean         2.724530\n",
       "std          0.991026\n",
       "min          1.000000\n",
       "25%          2.600000\n",
       "50%          2.650000\n",
       "75%          2.700000\n",
       "max        100.000000\n",
       "Name: ceiling_height, dtype: float64"
      ]
     },
     "execution_count": 21,
     "metadata": {},
     "output_type": "execute_result"
    },
    {
     "data": {
      "image/png": "[encoded data removed]",
      "text/plain": [
       "<Figure size 432x288 with 1 Axes>"
      ]
     },
     "metadata": {
      "needs_background": "light"
     },
     "output_type": "display_data"
    }
   ],
   "source": [
    "# Визуалезируем данные для наглядности\n",
    "data.hist('ceiling_height', bins=50, range=(0,6))\n",
    "data['ceiling_height'].describe()"
   ]
  },
  {
   "cell_type": "markdown",
   "metadata": {},
   "source": [
    "Распределение нормальное, выбросы есть но их мало."
   ]
  },
  {
   "cell_type": "markdown",
   "metadata": {},
   "source": [
    "Изучим время продажи квартиры."
   ]
  },
  {
   "cell_type": "code",
   "execution_count": 22,
   "metadata": {},
   "outputs": [
    {
     "data": {
      "text/plain": [
       "count    23565.000000\n",
       "mean       156.420115\n",
       "std        213.517293\n",
       "min          0.000000\n",
       "25%         22.000000\n",
       "50%         73.000000\n",
       "75%        198.000000\n",
       "max       1580.000000\n",
       "Name: days_exposition, dtype: float64"
      ]
     },
     "execution_count": 22,
     "metadata": {},
     "output_type": "execute_result"
    },
    {
     "data": {
      "image/png": "[encoded data removed]",
      "text/plain": [
       "<Figure size 432x288 with 1 Axes>"
      ]
     },
     "metadata": {
      "needs_background": "light"
     },
     "output_type": "display_data"
    }
   ],
   "source": [
    "# Визуалезируем данные для наглядности\n",
    "data.hist('days_exposition', bins=100, range=(0,400))\n",
    "data['days_exposition'].describe()"
   ]
  },
  {
   "cell_type": "markdown",
   "metadata": {},
   "source": [
    "Видим выбросы на 45, 60, 90 дней и они значительные. Изучив правила размещения объявлений \n",
    "(до 4,5 млн — 45 дней\n",
    "от 4,5 до 10 млн — 60 дней\n",
    "от 10 млн — 90 дней)\n",
    "можем предположить что это скорей всего объявления снятые автоматически за истечением срока давности, также не будем учитывать данные с 0 дней.\n",
    "Создадим новый датафрэйм с очищенными данными."
   ]
  },
  {
   "cell_type": "code",
   "execution_count": 23,
   "metadata": {},
   "outputs": [],
   "source": [
    "# Создадим новый датафрэйм убрав из него не корректные данные\n",
    "new_data = data.query('days_exposition != 45 and days_exposition != 60 and days_exposition != 90 and days_exposition != 0')"
   ]
  },
  {
   "cell_type": "code",
   "execution_count": 24,
   "metadata": {},
   "outputs": [
    {
     "name": "stdout",
     "output_type": "stream",
     "text": [
      "count    18777.000000\n",
      "mean        59.029201\n",
      "std         34.541100\n",
      "min         12.000000\n",
      "25%         39.500000\n",
      "50%         50.700000\n",
      "75%         68.000000\n",
      "max        900.000000\n",
      "Name: total_area, dtype: float64\n"
     ]
    },
    {
     "data": {
      "image/png": "[encoded data removed]",
      "text/plain": [
       "<Figure size 432x288 with 1 Axes>"
      ]
     },
     "metadata": {
      "needs_background": "light"
     },
     "output_type": "display_data"
    },
    {
     "name": "stdout",
     "output_type": "stream",
     "text": [
      "count    18777.000000\n",
      "mean         2.028972\n",
      "std          1.060792\n",
      "min          0.000000\n",
      "25%          1.000000\n",
      "50%          2.000000\n",
      "75%          3.000000\n",
      "max         19.000000\n",
      "Name: rooms, dtype: float64\n"
     ]
    },
    {
     "data": {
      "image/png": "[encoded data removed]",
      "text/plain": [
       "<Figure size 432x288 with 1 Axes>"
      ]
     },
     "metadata": {
      "needs_background": "light"
     },
     "output_type": "display_data"
    },
    {
     "name": "stdout",
     "output_type": "stream",
     "text": [
      "count    18777.000000\n",
      "mean         6.325486\n",
      "std         11.186216\n",
      "min          0.012190\n",
      "25%          3.400000\n",
      "50%          4.550000\n",
      "75%          6.500000\n",
      "max        763.000000\n",
      "Name: last_price, dtype: float64\n"
     ]
    },
    {
     "data": {
      "image/png": "[encoded data removed]",
      "text/plain": [
       "<Figure size 432x288 with 1 Axes>"
      ]
     },
     "metadata": {
      "needs_background": "light"
     },
     "output_type": "display_data"
    }
   ],
   "source": [
    "# Построим диагрмму размаха площади \n",
    "new_data.boxplot('total_area')\n",
    "plt.ylim(0,120)\n",
    "print(new_data['total_area'].describe())\n",
    "plt.show()\n",
    "\n",
    "# Построим диагрмму размаха количества комнат \n",
    "new_data.boxplot('rooms')\n",
    "plt.ylim(0,10)\n",
    "print(new_data['rooms'].describe())\n",
    "plt.show()\n",
    "\n",
    "# Построим диагрмму размаха последней цены\n",
    "new_data.boxplot('last_price')\n",
    "plt.ylim(0,20)\n",
    "print(new_data['last_price'].describe())\n",
    "plt.show()\n"
   ]
  },
  {
   "cell_type": "markdown",
   "metadata": {},
   "source": [
    "Исходя их диограм размаха отсеим аномальные данные"
   ]
  },
  {
   "cell_type": "code",
   "execution_count": 25,
   "metadata": {},
   "outputs": [],
   "source": [
    "new_data = new_data.query('10 < total_area < 110 and rooms <= 6 and last_price <= 11')"
   ]
  },
  {
   "cell_type": "code",
   "execution_count": 26,
   "metadata": {},
   "outputs": [
    {
     "data": {
      "text/plain": [
       "count    17042.000000\n",
       "mean       181.100458\n",
       "std        214.166881\n",
       "min          1.000000\n",
       "25%         39.000000\n",
       "50%        104.000000\n",
       "75%        236.000000\n",
       "max       1580.000000\n",
       "Name: days_exposition, dtype: float64"
      ]
     },
     "execution_count": 26,
     "metadata": {},
     "output_type": "execute_result"
    },
    {
     "data": {
      "image/png": "[encoded data removed]",
      "text/plain": [
       "<Figure size 432x288 with 1 Axes>"
      ]
     },
     "metadata": {
      "needs_background": "light"
     },
     "output_type": "display_data"
    },
    {
     "data": {
      "image/png": "[encoded data removed]",
      "text/plain": [
       "<Figure size 432x288 with 1 Axes>"
      ]
     },
     "metadata": {
      "needs_background": "light"
     },
     "output_type": "display_data"
    }
   ],
   "source": [
    "\n",
    "# Построим диагрмму размаха\n",
    "new_data.boxplot('days_exposition')\n",
    "plt.ylim(0,1000)\n",
    "# Посмтрим гистограмму\n",
    "new_data.hist('days_exposition', bins=100, range=(0,500))\n",
    "new_data['days_exposition'].describe()"
   ]
  },
  {
   "cell_type": "markdown",
   "metadata": {},
   "source": [
    "Середняя продолжительность продажи составляет 181 день , в то время как медианно значение 104 дней, Нормальным считается значения от 1 до 575 дней."
   ]
  },
  {
   "cell_type": "markdown",
   "metadata": {},
   "source": [
    "Выясним какие факторы больше всего влияют на стоимость квартиры. Изучим, зависит ли цена от площади, числа комнат, удалённости от центра. Изучис зависимость цены от того, на каком этаже расположена квартира: первом, последнем или другом. Также изучим зависимость от даты размещения: дня недели, месяца и года."
   ]
  },
  {
   "cell_type": "code",
   "execution_count": 27,
   "metadata": {},
   "outputs": [
    {
     "data": {
      "text/plain": [
       "0.6536213939252805"
      ]
     },
     "execution_count": 27,
     "metadata": {},
     "output_type": "execute_result"
    },
    {
     "data": {
      "image/png": "[encoded data removed]",
      "text/plain": [
       "<Figure size 432x288 with 1 Axes>"
      ]
     },
     "metadata": {
      "needs_background": "light"
     },
     "output_type": "display_data"
    }
   ],
   "source": [
    "#построим график разброса\n",
    "data.plot(x='total_area', y='last_price', kind = 'scatter', alpha=0.2)\n",
    "plt.xlim(0,500)\n",
    "plt.ylim(0,300)\n",
    "# Посчитаем коэффициент Пирсона\n",
    "data['total_area'].corr(data['last_price'])"
   ]
  },
  {
   "cell_type": "markdown",
   "metadata": {},
   "source": [
    "Из полученной диаграммы рассеяния и коэффициент Пирсона 0.65 видим что зависимость есть и занчительная."
   ]
  },
  {
   "cell_type": "code",
   "execution_count": 28,
   "metadata": {},
   "outputs": [
    {
     "data": {
      "text/plain": [
       "0.3669269184120539"
      ]
     },
     "execution_count": 28,
     "metadata": {},
     "output_type": "execute_result"
    },
    {
     "data": {
      "image/png": "[encoded data removed]",
      "text/plain": [
       "<Figure size 432x288 with 1 Axes>"
      ]
     },
     "metadata": {
      "needs_background": "light"
     },
     "output_type": "display_data"
    },
    {
     "data": {
      "image/png": "[encoded data removed]",
      "text/plain": [
       "<Figure size 432x288 with 1 Axes>"
      ]
     },
     "metadata": {
      "needs_background": "light"
     },
     "output_type": "display_data"
    }
   ],
   "source": [
    "#построим Series где индыксы это кол-во комнат, а значения средняя цена квартиры\n",
    "pivot_rooms_price = data.pivot_table(index='rooms', values='last_price') \n",
    "\n",
    "data.boxplot('rooms') # на ящике с усами посмотрим какие данные можно считать корректными\n",
    "\n",
    "pivot_rooms_price.query('index < 7').plot(kind='bar') # посмотроим гистрограмму для наглядности \n",
    "\n",
    "\n",
    "data.query('rooms < 7')['rooms'].corr(data['last_price'])# посчитаем коэффициент Пирсона"
   ]
  },
  {
   "cell_type": "markdown",
   "metadata": {},
   "source": [
    "Рост цены наблюдается но точно утверждать об имеющйся зависимости мы не можем, коэффициент Пирсона 0.36."
   ]
  },
  {
   "cell_type": "code",
   "execution_count": 29,
   "metadata": {},
   "outputs": [
    {
     "data": {
      "text/plain": [
       "-0.3214400496577961"
      ]
     },
     "execution_count": 29,
     "metadata": {},
     "output_type": "execute_result"
    },
    {
     "data": {
      "image/png": "[encoded data removed]",
      "text/plain": [
       "<Figure size 432x288 with 1 Axes>"
      ]
     },
     "metadata": {
      "needs_background": "light"
     },
     "output_type": "display_data"
    },
    {
     "data": {
      "image/png": "[encoded data removed]",
      "text/plain": [
       "<Figure size 432x288 with 1 Axes>"
      ]
     },
     "metadata": {
      "needs_background": "light"
     },
     "output_type": "display_data"
    }
   ],
   "source": [
    "data.boxplot('city_centers_nearest') # на ящике с усами посмотрим какие данные можно считать корректными\n",
    "plt.ylim(0,30000)\n",
    "data.plot(x='city_centers_nearest', y='price_sqm', kind = 'scatter', alpha=0.2)\n",
    "# Посчитаем коэффициент Пирсона\n",
    "data.query('city_centers_nearest<26850')['city_centers_nearest'].corr(data['price_sqm'])\n"
   ]
  },
  {
   "cell_type": "markdown",
   "metadata": {},
   "source": [
    "В данном случа ожидаемо имеется отрицательная зависимость , чем дальше от центра тем ниже цена за квадратный метр согласно коэффициенту Пирсона -0.32"
   ]
  },
  {
   "cell_type": "code",
   "execution_count": 30,
   "metadata": {},
   "outputs": [
    {
     "data": {
      "text/html": [
       "<div>\n",
       "<style scoped>\n",
       "    .dataframe tbody tr th:only-of-type {\n",
       "        vertical-align: middle;\n",
       "    }\n",
       "\n",
       "    .dataframe tbody tr th {\n",
       "        vertical-align: top;\n",
       "    }\n",
       "\n",
       "    .dataframe thead th {\n",
       "        text-align: right;\n",
       "    }\n",
       "</style>\n",
       "<table border=\"1\" class=\"dataframe\">\n",
       "  <thead>\n",
       "    <tr style=\"text-align: right;\">\n",
       "      <th></th>\n",
       "      <th>price_sqm</th>\n",
       "    </tr>\n",
       "    <tr>\n",
       "      <th>floor_category</th>\n",
       "      <th></th>\n",
       "    </tr>\n",
       "  </thead>\n",
       "  <tbody>\n",
       "    <tr>\n",
       "      <th>другой</th>\n",
       "      <td>103486.316461</td>\n",
       "    </tr>\n",
       "    <tr>\n",
       "      <th>первый</th>\n",
       "      <td>82001.604331</td>\n",
       "    </tr>\n",
       "    <tr>\n",
       "      <th>последний</th>\n",
       "      <td>93378.959159</td>\n",
       "    </tr>\n",
       "  </tbody>\n",
       "</table>\n",
       "</div>"
      ],
      "text/plain": [
       "                    price_sqm\n",
       "floor_category               \n",
       "другой          103486.316461\n",
       "первый           82001.604331\n",
       "последний        93378.959159"
      ]
     },
     "execution_count": 30,
     "metadata": {},
     "output_type": "execute_result"
    },
    {
     "data": {
      "image/png": "[encoded data removed]",
      "text/plain": [
       "<Figure size 432x288 with 1 Axes>"
      ]
     },
     "metadata": {
      "needs_background": "light"
     },
     "output_type": "display_data"
    }
   ],
   "source": [
    "#построим Series где индыксы это категория этажа, а значения средняя цена квартного метра\n",
    "pivot_floor_price = data.pivot_table(index='floor_category', values='price_sqm') \n",
    "\n",
    "pivot_floor_price.query('floor_category').plot() # посмотроим график для наглядности \n",
    "pivot_floor_price"
   ]
  },
  {
   "cell_type": "markdown",
   "metadata": {},
   "source": [
    "Квартиры на первом этаже самые дешовые, дороже квартиры на последнем, самые дорогоие кровартиры из категории другой."
   ]
  },
  {
   "cell_type": "code",
   "execution_count": 31,
   "metadata": {},
   "outputs": [
    {
     "name": "stdout",
     "output_type": "stream",
     "text": [
      "Разница между самой большой и самой маленьекой ценой по дням недели:2.1%\n",
      "Разница между самой большой и самой маленьекой ценой по месяцам:4.1%\n",
      "Разница между самой большой и самой маленьекой ценой по годам:13.7%\n"
     ]
    },
    {
     "data": {
      "text/plain": [
       "<AxesSubplot:xlabel='year'>"
      ]
     },
     "execution_count": 31,
     "metadata": {},
     "output_type": "execute_result"
    },
    {
     "data": {
      "image/png": "[encoded data removed]",
      "text/plain": [
       "<Figure size 432x288 with 1 Axes>"
      ]
     },
     "metadata": {
      "needs_background": "light"
     },
     "output_type": "display_data"
    },
    {
     "data": {
      "image/png": "[encoded data removed]",
      "text/plain": [
       "<Figure size 432x288 with 1 Axes>"
      ]
     },
     "metadata": {
      "needs_background": "light"
     },
     "output_type": "display_data"
    },
    {
     "data": {
      "image/png": "[encoded data removed]",
      "text/plain": [
       "<Figure size 432x288 with 1 Axes>"
      ]
     },
     "metadata": {
      "needs_background": "light"
     },
     "output_type": "display_data"
    },
    {
     "data": {
      "image/png": "[encoded data removed]",
      "text/plain": [
       "<Figure size 432x288 with 1 Axes>"
      ]
     },
     "metadata": {
      "needs_background": "light"
     },
     "output_type": "display_data"
    }
   ],
   "source": [
    "data.boxplot('price_sqm') # Посмотрм какие данные можно считать крректными\n",
    "plt.ylim(0,180000)\n",
    "# Посмотрим среднюю цену км2 за каждый день недели\n",
    "data_pivot_weelday = data.query('20000<price_sqm<170000').pivot_table(index='weekday', values='price_sqm')\n",
    "\n",
    "print('Разница между самой большой и самой маленьекой ценой по дням недели:{:.1%}'.format((data_pivot_weelday['price_sqm'].max()-\n",
    "                                                                           data_pivot_weelday['price_sqm'].min())/\n",
    "                                                                           data_pivot_weelday['price_sqm'].max()\n",
    "                                                                          ))\n",
    "data_pivot_weelday.plot() # Для наглядности построим график\n",
    "\n",
    "data_pivot_month = data.query('20000<price_sqm<170000').pivot_table(index='month', values='price_sqm')\n",
    "print('Разница между самой большой и самой маленьекой ценой по месяцам:{:.1%}'.format((data_pivot_month['price_sqm'].max()-\n",
    "                                                                           data_pivot_month['price_sqm'].min())/\n",
    "                                                                           data_pivot_month['price_sqm'].max()\n",
    "                                                                          ))\n",
    "data_pivot_month.plot()\n",
    "\n",
    "data_pivot_year = data.query('20000<price_sqm<170000').pivot_table(index='year', values='price_sqm')\n",
    "print('Разница между самой большой и самой маленьекой ценой по годам:{:.1%}'.format((data_pivot_year['price_sqm'].max()-\n",
    "                                                                           data_pivot_year['price_sqm'].min())/\n",
    "                                                                           data_pivot_year['price_sqm'].max()\n",
    "                                                                          ))\n",
    "data_pivot_year.plot()"
   ]
  },
  {
   "cell_type": "markdown",
   "metadata": {},
   "source": [
    "При размещение объявления в вторник цена самая большая в то время как в субботу сама низкая,в целом откланение составляет 2.1%.\n",
    "Самая большая цена в апреле и августе , самая низка в июне, разница между самой большой и самой низкой ценой 4.1%.\n",
    "Самый большие цены были в 2014 затем снижались вплоть до 2016 и далее только росли. Можно предположить что такое поведение связанно с повышением ключевой ставки в 2014 и падением курса рубля в результате чего цены выросли а покупательская способность снизилась, что привело к падению цен. В дальнейшем ключевая ставка падала и рубль стал более надёжным так же появлялись льготные ипотеки что привело к повышению покупательской способности и соответственно росту цен.Разница между максимальной и минимальной ценами 13.7%"
   ]
  },
  {
   "cell_type": "code",
   "execution_count": 32,
   "metadata": {},
   "outputs": [
    {
     "data": {
      "text/html": [
       "<div>\n",
       "<style scoped>\n",
       "    .dataframe tbody tr th:only-of-type {\n",
       "        vertical-align: middle;\n",
       "    }\n",
       "\n",
       "    .dataframe tbody tr th {\n",
       "        vertical-align: top;\n",
       "    }\n",
       "\n",
       "    .dataframe thead th {\n",
       "        text-align: right;\n",
       "    }\n",
       "</style>\n",
       "<table border=\"1\" class=\"dataframe\">\n",
       "  <thead>\n",
       "    <tr style=\"text-align: right;\">\n",
       "      <th></th>\n",
       "      <th>count</th>\n",
       "      <th>mean</th>\n",
       "    </tr>\n",
       "    <tr>\n",
       "      <th>locality_name</th>\n",
       "      <th></th>\n",
       "      <th></th>\n",
       "    </tr>\n",
       "  </thead>\n",
       "  <tbody>\n",
       "    <tr>\n",
       "      <th>Санкт-Петербург</th>\n",
       "      <td>15651</td>\n",
       "      <td>114868.874257</td>\n",
       "    </tr>\n",
       "    <tr>\n",
       "      <th>посёлок Мурино</th>\n",
       "      <td>520</td>\n",
       "      <td>85673.253846</td>\n",
       "    </tr>\n",
       "    <tr>\n",
       "      <th>посёлок Шушары</th>\n",
       "      <td>439</td>\n",
       "      <td>78551.359909</td>\n",
       "    </tr>\n",
       "    <tr>\n",
       "      <th>Всеволожск</th>\n",
       "      <td>398</td>\n",
       "      <td>68654.474874</td>\n",
       "    </tr>\n",
       "    <tr>\n",
       "      <th>Пушкин</th>\n",
       "      <td>369</td>\n",
       "      <td>103125.818428</td>\n",
       "    </tr>\n",
       "    <tr>\n",
       "      <th>Колпино</th>\n",
       "      <td>338</td>\n",
       "      <td>75424.571006</td>\n",
       "    </tr>\n",
       "    <tr>\n",
       "      <th>посёлок Парголово</th>\n",
       "      <td>327</td>\n",
       "      <td>90175.886850</td>\n",
       "    </tr>\n",
       "    <tr>\n",
       "      <th>Гатчина</th>\n",
       "      <td>307</td>\n",
       "      <td>68746.110749</td>\n",
       "    </tr>\n",
       "    <tr>\n",
       "      <th>деревня Кудрово</th>\n",
       "      <td>299</td>\n",
       "      <td>92473.588629</td>\n",
       "    </tr>\n",
       "    <tr>\n",
       "      <th>Выборг</th>\n",
       "      <td>237</td>\n",
       "      <td>58141.919831</td>\n",
       "    </tr>\n",
       "  </tbody>\n",
       "</table>\n",
       "</div>"
      ],
      "text/plain": [
       "                   count           mean\n",
       "locality_name                          \n",
       "Санкт-Петербург    15651  114868.874257\n",
       "посёлок Мурино       520   85673.253846\n",
       "посёлок Шушары       439   78551.359909\n",
       "Всеволожск           398   68654.474874\n",
       "Пушкин               369  103125.818428\n",
       "Колпино              338   75424.571006\n",
       "посёлок Парголово    327   90175.886850\n",
       "Гатчина              307   68746.110749\n",
       "деревня Кудрово      299   92473.588629\n",
       "Выборг               237   58141.919831"
      ]
     },
     "execution_count": 32,
     "metadata": {},
     "output_type": "execute_result"
    }
   ],
   "source": [
    "#Выделим топ 10 насёлнных пунктов пол колличеству объявлений\n",
    "data_pivot_locality = (data.pivot_table(index='locality_name', values='price_sqm', aggfunc=('mean','count'))\n",
    "                       .sort_values('count', ascending=False)\n",
    "                      [:10])\n",
    "                       \n",
    "data_pivot_locality"
   ]
  },
  {
   "cell_type": "markdown",
   "metadata": {},
   "source": [
    "Самые дорогие квартиры из десятка самых популярных населённых пунктов в Санкт-Петербурге самые дешевые Выборге"
   ]
  },
  {
   "cell_type": "markdown",
   "metadata": {},
   "source": [
    "Изучим предложения квартир: для каждой квартиры есть информация о расстоянии до центра. Выделим квартиры в Санкт-Петербурге (locality_name). Наша задача — выяснить, какая область входит в центр."
   ]
  },
  {
   "cell_type": "code",
   "execution_count": 33,
   "metadata": {},
   "outputs": [
    {
     "data": {
      "text/plain": [
       "<AxesSubplot:xlabel='city_centers_nearest_km'>"
      ]
     },
     "execution_count": 33,
     "metadata": {},
     "output_type": "execute_result"
    },
    {
     "data": {
      "image/png": "[encoded data removed]",
      "text/plain": [
       "<Figure size 432x288 with 1 Axes>"
      ]
     },
     "metadata": {
      "needs_background": "light"
     },
     "output_type": "display_data"
    }
   ],
   "source": [
    "data['city_centers_nearest_km'] = round(data['city_centers_nearest'] / 1000) # Добавим столбец с расстоянием в км от центра \n",
    "\n",
    "# Делаем сводную таблицу с срезом по Санкт-Петербургу\n",
    "data_pivot_centers_nearest = (data.query('locality_name == \"Санкт-Петербург\"')\n",
    "                              .pivot_table(index='city_centers_nearest_km', values='price_sqm')) \n",
    "# построим график\n",
    "data_pivot_centers_nearest.plot()\n"
   ]
  },
  {
   "cell_type": "markdown",
   "metadata": {},
   "source": [
    "График сильно меняется на 7 километре так что будем считать за центр область с радиусом в 3 км "
   ]
  },
  {
   "cell_type": "code",
   "execution_count": 34,
   "metadata": {},
   "outputs": [
    {
     "name": "stdout",
     "output_type": "stream",
     "text": [
      "count    3518.000000\n",
      "mean       93.083411\n",
      "std        59.429173\n",
      "min        12.000000\n",
      "25%        56.925000\n",
      "50%        78.600000\n",
      "75%       110.000000\n",
      "max       631.200000\n",
      "Name: total_area, dtype: float64\n"
     ]
    },
    {
     "data": {
      "image/png": "[encoded data removed]",
      "text/plain": [
       "<Figure size 432x288 with 1 Axes>"
      ]
     },
     "metadata": {
      "needs_background": "light"
     },
     "output_type": "display_data"
    },
    {
     "name": "stdout",
     "output_type": "stream",
     "text": [
      "count    3518.000000\n",
      "mean       14.888089\n",
      "std        24.340473\n",
      "min         1.600000\n",
      "25%         6.667500\n",
      "50%         9.200000\n",
      "75%        14.497500\n",
      "max       763.000000\n",
      "Name: last_price, dtype: float64\n"
     ]
    },
    {
     "data": {
      "image/png": "[encoded data removed]",
      "text/plain": [
       "<Figure size 432x288 with 1 Axes>"
      ]
     },
     "metadata": {
      "needs_background": "light"
     },
     "output_type": "display_data"
    },
    {
     "name": "stdout",
     "output_type": "stream",
     "text": [
      "count    3518.000000\n",
      "mean        2.833712\n",
      "std         1.450317\n",
      "min         0.000000\n",
      "25%         2.000000\n",
      "50%         3.000000\n",
      "75%         3.000000\n",
      "max        19.000000\n",
      "Name: rooms, dtype: float64\n"
     ]
    },
    {
     "data": {
      "image/png": "[encoded data removed]",
      "text/plain": [
       "<Figure size 432x288 with 1 Axes>"
      ]
     },
     "metadata": {
      "needs_background": "light"
     },
     "output_type": "display_data"
    },
    {
     "name": "stdout",
     "output_type": "stream",
     "text": [
      "count    3518.000000\n",
      "mean        2.833712\n",
      "std         1.450317\n",
      "min         0.000000\n",
      "25%         2.000000\n",
      "50%         3.000000\n",
      "75%         3.000000\n",
      "max        19.000000\n",
      "Name: rooms, dtype: float64\n"
     ]
    },
    {
     "data": {
      "image/png": "[encoded data removed]",
      "text/plain": [
       "<Figure size 432x288 with 1 Axes>"
      ]
     },
     "metadata": {
      "needs_background": "light"
     },
     "output_type": "display_data"
    }
   ],
   "source": [
    "data_centr = data.query('city_centers_nearest_km <= 7 and locality_name == \"Санкт-Петербург\"')\n",
    "data_centr['total_area'].plot(kind='hist', bins=100, title='Распределение по площади')\n",
    "print(data_centr['total_area'].describe())\n",
    "plt.show()\n",
    "\n",
    "data_centr['last_price'].plot(kind='hist', bins=100, title='Распределение по цене',range=(0,40))\n",
    "print(data_centr['last_price'].describe())       \n",
    "plt.show()\n",
    "\n",
    "data_centr['rooms'].plot(kind='hist', bins=100, title='Распределение по числу комнат')\n",
    "print(data_centr['rooms'].describe())       \n",
    "plt.show()\n",
    "\n",
    "data_centr['ceiling_height'].plot(kind='hist', bins=100, title='Распределение по высоте потолков',range=(2,5))\n",
    "print(data_centr['rooms'].describe())       \n",
    "plt.show()\n",
    "                             "
   ]
  },
  {
   "cell_type": "code",
   "execution_count": 35,
   "metadata": {},
   "outputs": [
    {
     "name": "stdout",
     "output_type": "stream",
     "text": [
      "Коэффициент Пирсона для количества комнат: 0.26955227992107816\n"
     ]
    },
    {
     "data": {
      "image/png": "[encoded data removed]",
      "text/plain": [
       "<Figure size 432x288 with 1 Axes>"
      ]
     },
     "metadata": {
      "needs_background": "light"
     },
     "output_type": "display_data"
    },
    {
     "data": {
      "image/png": "[encoded data removed]",
      "text/plain": [
       "<Figure size 432x288 with 1 Axes>"
      ]
     },
     "metadata": {
      "needs_background": "light"
     },
     "output_type": "display_data"
    },
    {
     "name": "stdout",
     "output_type": "stream",
     "text": [
      "Коэффициент Пирсона удалённости от центра: -0.01747422189857633\n"
     ]
    },
    {
     "data": {
      "image/png": "[encoded data removed]",
      "text/plain": [
       "<Figure size 432x288 with 1 Axes>"
      ]
     },
     "metadata": {
      "needs_background": "light"
     },
     "output_type": "display_data"
    },
    {
     "data": {
      "image/png": "[encoded data removed]",
      "text/plain": [
       "<Figure size 432x288 with 1 Axes>"
      ]
     },
     "metadata": {
      "needs_background": "light"
     },
     "output_type": "display_data"
    },
    {
     "data": {
      "image/png": "[encoded data removed]",
      "text/plain": [
       "<Figure size 432x288 with 1 Axes>"
      ]
     },
     "metadata": {
      "needs_background": "light"
     },
     "output_type": "display_data"
    },
    {
     "data": {
      "text/html": [
       "<div>\n",
       "<style scoped>\n",
       "    .dataframe tbody tr th:only-of-type {\n",
       "        vertical-align: middle;\n",
       "    }\n",
       "\n",
       "    .dataframe tbody tr th {\n",
       "        vertical-align: top;\n",
       "    }\n",
       "\n",
       "    .dataframe thead th {\n",
       "        text-align: right;\n",
       "    }\n",
       "</style>\n",
       "<table border=\"1\" class=\"dataframe\">\n",
       "  <thead>\n",
       "    <tr style=\"text-align: right;\">\n",
       "      <th></th>\n",
       "      <th>price_sqm</th>\n",
       "    </tr>\n",
       "    <tr>\n",
       "      <th>floor_category</th>\n",
       "      <th></th>\n",
       "    </tr>\n",
       "  </thead>\n",
       "  <tbody>\n",
       "    <tr>\n",
       "      <th>другой</th>\n",
       "      <td>148927.818690</td>\n",
       "    </tr>\n",
       "    <tr>\n",
       "      <th>первый</th>\n",
       "      <td>122900.825974</td>\n",
       "    </tr>\n",
       "    <tr>\n",
       "      <th>последний</th>\n",
       "      <td>144264.189189</td>\n",
       "    </tr>\n",
       "  </tbody>\n",
       "</table>\n",
       "</div>"
      ],
      "text/plain": [
       "                    price_sqm\n",
       "floor_category               \n",
       "другой          148927.818690\n",
       "первый          122900.825974\n",
       "последний       144264.189189"
      ]
     },
     "execution_count": 35,
     "metadata": {},
     "output_type": "execute_result"
    }
   ],
   "source": [
    "#построим Series где индыксы это кол-во комнат, а значения средняя цена квартиры\n",
    "pivot_rooms_price_centr = data_centr.pivot_table(index='rooms', values='last_price') \n",
    "\n",
    "data_centr.boxplot('rooms') # на ящике с усами посмотрим какие данные можно считать корректными\n",
    "plt.ylim(0,5)\n",
    "pivot_rooms_price_centr.query(' 1<= index <= 4').plot(kind='bar') # посмотроим гистрограмму для наглядности \n",
    "\n",
    "# посчитаем коэффициент Пирсона\n",
    "print('Коэффициент Пирсона для количества комнат:',\n",
    "      data_centr.query('1<= rooms <= 4')['rooms'].corr(data_centr['last_price']))\n",
    "plt.show()\n",
    "\n",
    "\n",
    "data_centr.boxplot('city_centers_nearest') # на ящике с усами посмотрим какие данные можно считать корректными\n",
    "plt.ylim(0,8000)\n",
    "data_centr.plot(x='city_centers_nearest', y='price_sqm', kind = 'scatter', alpha=0.2)\n",
    "\n",
    "# посчитаем коэффициент Пирсона\n",
    "print('Коэффициент Пирсона удалённости от центра:',\n",
    "      data_centr.query('city_centers_nearest<7500')['city_centers_nearest'].corr(data_centr['price_sqm']))\n",
    "plt.show()\n",
    "\n",
    "#построим Series где индексы это категория этажа, а значения средняя цена квартного метра\n",
    "pivot_floor_price_centr = data_centr.pivot_table(index='floor_category', values='price_sqm') \n",
    "\n",
    "pivot_floor_price_centr.query('floor_category').plot() # посмотроим график для наглядности \n",
    "plt.show()\n",
    "pivot_floor_price_centr"
   ]
  },
  {
   "cell_type": "markdown",
   "metadata": {},
   "source": [
    "Данные из центра очень схожи с общеми данными, однако различия всё таки есть. Коэффициент Пирсона для комнат слегка отличается \n",
    "0.27 для центра и 0.366 для общих данных. Коэффициент Пирсона для удалённости от центра также отличается -0.02 для центра и -0.32 для общих данных. По этажам всё тоже , самы дешёвые квартиры на первом этаже, самые дорогие из котегории дргой этаж , между ними квартиры на последнем этаже. "
   ]
  },
  {
   "cell_type": "code",
   "execution_count": 36,
   "metadata": {},
   "outputs": [
    {
     "name": "stdout",
     "output_type": "stream",
     "text": [
      "Разница между самой большой и самой маленьекой ценой по дням недели:5.1%\n",
      "Разница между самой большой и самой маленьекой ценой по месяцам:5.3%\n",
      "Разница между самой большой и самой маленьекой ценой по годам:11.7%\n"
     ]
    },
    {
     "data": {
      "text/plain": [
       "<AxesSubplot:xlabel='year'>"
      ]
     },
     "execution_count": 36,
     "metadata": {},
     "output_type": "execute_result"
    },
    {
     "data": {
      "image/png": "[encoded data removed]",
      "text/plain": [
       "<Figure size 432x288 with 1 Axes>"
      ]
     },
     "metadata": {
      "needs_background": "light"
     },
     "output_type": "display_data"
    },
    {
     "data": {
      "image/png": "[encoded data removed]",
      "text/plain": [
       "<Figure size 432x288 with 1 Axes>"
      ]
     },
     "metadata": {
      "needs_background": "light"
     },
     "output_type": "display_data"
    },
    {
     "data": {
      "image/png": "[encoded data removed]",
      "text/plain": [
       "<Figure size 432x288 with 1 Axes>"
      ]
     },
     "metadata": {
      "needs_background": "light"
     },
     "output_type": "display_data"
    },
    {
     "data": {
      "image/png": "[encoded data removed]",
      "text/plain": [
       "<Figure size 432x288 with 1 Axes>"
      ]
     },
     "metadata": {
      "needs_background": "light"
     },
     "output_type": "display_data"
    }
   ],
   "source": [
    "data_centr.boxplot('price_sqm') # Посмотрм какие данные можно считать крректными\n",
    "plt.ylim(0,240000)\n",
    "# Посмотрим среднюю цену км2 за каждый день недели\n",
    "data_centr_pivot_weelday = data_centr.query('20000<price_sqm<235000').pivot_table(index='weekday', values='price_sqm')\n",
    "\n",
    "print('Разница между самой большой и самой маленьекой ценой по дням недели:{:.1%}'.format((data_centr_pivot_weelday['price_sqm'].max()-\n",
    "                                                                           data_centr_pivot_weelday['price_sqm'].min())/\n",
    "                                                                           data_centr_pivot_weelday['price_sqm'].max()\n",
    "                                                                         ))\n",
    "data_centr_pivot_weelday.plot() # Для наглядности построим график\n",
    "\n",
    "data_centr_pivot_month = data_centr.query('20000<price_sqm<240000').pivot_table(index='month', values='price_sqm')\n",
    "print('Разница между самой большой и самой маленьекой ценой по месяцам:{:.1%}'.format((data_centr_pivot_month['price_sqm'].max()-\n",
    "                                                                           data_centr_pivot_month['price_sqm'].min())/\n",
    "                                                                           data_centr_pivot_month['price_sqm'].max()\n",
    "                                                                          ))\n",
    "data_centr_pivot_month.plot()\n",
    "\n",
    "data_centr_pivot_year = data_centr.query('20000<price_sqm<240000').pivot_table(index='year', values='price_sqm')\n",
    "print('Разница между самой большой и самой маленьекой ценой по годам:{:.1%}'.format((data_centr_pivot_year['price_sqm'].max()-\n",
    "                                                                           data_centr_pivot_year['price_sqm'].min())/\n",
    "                                                                           data_centr_pivot_year['price_sqm'].max()\n",
    "                                                                          ))\n",
    "data_centr_pivot_year.plot()"
   ]
  },
  {
   "cell_type": "markdown",
   "metadata": {},
   "source": [
    "По дням недели, самые высокие цены в воскресенье самые низкие в вторник разница в цене 5.1% , но график в целом не однородный и отличается от графика по общим данным. Нельзя хоть как то использовать полученные даные. \n",
    "По месяцам, самые низкие цены в декабре самые высокие в январе, разница между ними 5.3%, график так же сильно отличается от графика по общим данным, имеется общая тенденция падения цен летом. \n",
    "По годам данные довольно схожи, самые высокие цены были в 2014 затем резкий спад с дальнейшим ростом, причины такого поведения думаю схожи. "
   ]
  },
  {
   "cell_type": "markdown",
   "metadata": {},
   "source": [
    "## Общий вывод"
   ]
  },
  {
   "cell_type": "markdown",
   "metadata": {},
   "source": [
    "Мы изучили данные , очистили их от не корректных значений и заполнили пропуски по мере возможности , так же изменили типы данных на корректные для удобно работы. Из изученных данных мы выяснили  факторы влияющие на цену. В большей стеапени на цену влияет площадь квартиры, количество комнта и удалённость от ценра влияет но мы не можем точно утверждать о такой тенденции. Так же есть зависимость от времяни года, летом квартиры немного дешевле, а так же в конце года хотя и точно это утверждать нельзя так как мы расчитывали стоимость отталкиваясь от последней цены, а время года брали из времяни размещения объявлений, а как мы выяснили ранее продаваться квартира будет в среднем 181 день и цена могла меняться. Так же выснили что с годами цена значительно менялась, и во времена кризиса падала а в благополучное время росла. \n"
   ]
  }
 ],
 "metadata": {
  "ExecuteTimeLog": [
   {
    "duration": 930,
    "start_time": "2022-02-25T10:54:42.889Z"
   },
   {
    "duration": 82,
    "start_time": "2022-02-25T10:54:54.730Z"
   },
   {
    "duration": 145,
    "start_time": "2022-02-25T10:58:08.920Z"
   },
   {
    "duration": 131,
    "start_time": "2022-02-25T11:15:19.789Z"
   },
   {
    "duration": 125,
    "start_time": "2022-02-25T11:15:27.812Z"
   },
   {
    "duration": 411,
    "start_time": "2022-02-25T11:19:26.584Z"
   },
   {
    "duration": 133,
    "start_time": "2022-02-25T11:19:58.366Z"
   },
   {
    "duration": 11,
    "start_time": "2022-02-25T11:21:31.358Z"
   },
   {
    "duration": 9,
    "start_time": "2022-02-25T11:21:33.005Z"
   },
   {
    "duration": 309,
    "start_time": "2022-02-25T11:25:15.966Z"
   },
   {
    "duration": 390,
    "start_time": "2022-02-25T11:25:34.553Z"
   },
   {
    "duration": 316,
    "start_time": "2022-02-25T11:25:39.858Z"
   },
   {
    "duration": 17,
    "start_time": "2022-02-25T11:26:00.168Z"
   },
   {
    "duration": 82,
    "start_time": "2022-02-25T11:26:44.354Z"
   },
   {
    "duration": 51,
    "start_time": "2022-02-25T11:29:57.570Z"
   },
   {
    "duration": 101,
    "start_time": "2022-02-25T11:34:47.314Z"
   },
   {
    "duration": 54,
    "start_time": "2022-02-25T11:34:52.205Z"
   },
   {
    "duration": 54,
    "start_time": "2022-02-25T11:35:07.874Z"
   },
   {
    "duration": 6,
    "start_time": "2022-02-25T11:39:05.439Z"
   },
   {
    "duration": 39,
    "start_time": "2022-02-25T11:40:48.432Z"
   },
   {
    "duration": 114,
    "start_time": "2022-02-25T11:41:03.952Z"
   },
   {
    "duration": 56,
    "start_time": "2022-02-25T11:41:45.298Z"
   },
   {
    "duration": 57,
    "start_time": "2022-02-25T11:41:57.069Z"
   },
   {
    "duration": 61,
    "start_time": "2022-02-25T11:47:40.575Z"
   },
   {
    "duration": 61,
    "start_time": "2022-02-25T11:47:58.536Z"
   },
   {
    "duration": 103,
    "start_time": "2022-02-25T11:48:05.427Z"
   },
   {
    "duration": -368441,
    "start_time": "2022-02-25T11:54:13.975Z"
   },
   {
    "duration": 933,
    "start_time": "2022-02-25T11:48:26.371Z"
   },
   {
    "duration": 63,
    "start_time": "2022-02-25T11:48:31.479Z"
   },
   {
    "duration": 73,
    "start_time": "2022-02-25T11:49:04.155Z"
   },
   {
    "duration": 8,
    "start_time": "2022-02-25T11:55:20.190Z"
   },
   {
    "duration": 9,
    "start_time": "2022-02-25T11:56:38.035Z"
   },
   {
    "duration": 8,
    "start_time": "2022-02-25T11:56:46.649Z"
   },
   {
    "duration": 11,
    "start_time": "2022-02-25T12:19:39.894Z"
   },
   {
    "duration": 58,
    "start_time": "2022-02-25T12:19:56.102Z"
   },
   {
    "duration": 7,
    "start_time": "2022-02-25T12:20:06.006Z"
   },
   {
    "duration": 842,
    "start_time": "2022-02-25T12:22:22.797Z"
   },
   {
    "duration": 79,
    "start_time": "2022-02-25T12:22:23.643Z"
   },
   {
    "duration": 9,
    "start_time": "2022-02-25T12:22:23.726Z"
   },
   {
    "duration": 29,
    "start_time": "2022-02-25T12:22:23.737Z"
   },
   {
    "duration": 62,
    "start_time": "2022-02-25T12:22:28.718Z"
   },
   {
    "duration": 1077,
    "start_time": "2022-02-25T12:23:10.191Z"
   },
   {
    "duration": 64,
    "start_time": "2022-02-25T12:23:11.271Z"
   },
   {
    "duration": 7,
    "start_time": "2022-02-25T12:23:11.364Z"
   },
   {
    "duration": 17,
    "start_time": "2022-02-25T12:23:11.374Z"
   },
   {
    "duration": 6,
    "start_time": "2022-02-25T12:23:15.653Z"
   },
   {
    "duration": 916,
    "start_time": "2022-02-25T12:23:32.113Z"
   },
   {
    "duration": 69,
    "start_time": "2022-02-25T12:23:33.032Z"
   },
   {
    "duration": 9,
    "start_time": "2022-02-25T12:23:33.105Z"
   },
   {
    "duration": 23,
    "start_time": "2022-02-25T12:23:33.117Z"
   },
   {
    "duration": 7,
    "start_time": "2022-02-25T12:23:37.755Z"
   },
   {
    "duration": 57,
    "start_time": "2022-02-25T12:28:40.603Z"
   },
   {
    "duration": 13,
    "start_time": "2022-02-25T12:30:26.099Z"
   },
   {
    "duration": 11,
    "start_time": "2022-02-25T12:32:38.856Z"
   },
   {
    "duration": 16,
    "start_time": "2022-02-25T12:32:53.189Z"
   },
   {
    "duration": 918,
    "start_time": "2022-02-25T12:33:00.951Z"
   },
   {
    "duration": 13,
    "start_time": "2022-02-25T12:33:01.871Z"
   },
   {
    "duration": 24,
    "start_time": "2022-02-25T12:33:01.887Z"
   },
   {
    "duration": 8,
    "start_time": "2022-02-25T12:33:01.914Z"
   },
   {
    "duration": 896,
    "start_time": "2022-02-25T12:57:24.853Z"
   },
   {
    "duration": 17,
    "start_time": "2022-02-25T12:57:25.752Z"
   },
   {
    "duration": 12,
    "start_time": "2022-02-25T12:57:25.772Z"
   },
   {
    "duration": 12,
    "start_time": "2022-02-25T12:57:25.787Z"
   },
   {
    "duration": 411,
    "start_time": "2022-02-25T12:59:40.365Z"
   },
   {
    "duration": 308,
    "start_time": "2022-02-25T13:01:43.710Z"
   },
   {
    "duration": 302,
    "start_time": "2022-02-25T13:01:57.233Z"
   },
   {
    "duration": 450,
    "start_time": "2022-02-25T13:03:11.041Z"
   },
   {
    "duration": 370,
    "start_time": "2022-02-25T13:03:19.880Z"
   },
   {
    "duration": 313,
    "start_time": "2022-02-25T13:03:54.845Z"
   },
   {
    "duration": 338,
    "start_time": "2022-02-25T13:04:00.600Z"
   },
   {
    "duration": 491,
    "start_time": "2022-02-25T13:04:14.696Z"
   },
   {
    "duration": 928,
    "start_time": "2022-02-25T13:04:34.327Z"
   },
   {
    "duration": 376,
    "start_time": "2022-02-25T13:04:40.096Z"
   },
   {
    "duration": 329,
    "start_time": "2022-02-25T13:04:56.720Z"
   },
   {
    "duration": 354,
    "start_time": "2022-02-25T13:05:21.435Z"
   },
   {
    "duration": 348,
    "start_time": "2022-02-25T13:07:29.453Z"
   },
   {
    "duration": 5,
    "start_time": "2022-02-25T13:26:18.720Z"
   },
   {
    "duration": 7,
    "start_time": "2022-02-25T13:30:32.297Z"
   },
   {
    "duration": 446,
    "start_time": "2022-02-25T13:30:46.372Z"
   },
   {
    "duration": 14,
    "start_time": "2022-02-25T13:30:54.921Z"
   },
   {
    "duration": 1035,
    "start_time": "2022-02-25T13:31:00.737Z"
   },
   {
    "duration": 14,
    "start_time": "2022-02-25T13:31:01.775Z"
   },
   {
    "duration": 12,
    "start_time": "2022-02-25T13:31:01.792Z"
   },
   {
    "duration": 459,
    "start_time": "2022-02-25T13:31:01.807Z"
   },
   {
    "duration": 6,
    "start_time": "2022-02-25T13:31:02.269Z"
   },
   {
    "duration": 25,
    "start_time": "2022-02-25T13:31:02.277Z"
   },
   {
    "duration": 13,
    "start_time": "2022-02-25T13:31:18.601Z"
   },
   {
    "duration": 15,
    "start_time": "2022-02-25T13:33:01.162Z"
   },
   {
    "duration": 206,
    "start_time": "2022-03-25T11:04:49.051Z"
   },
   {
    "duration": 40,
    "start_time": "2022-03-25T11:05:52.133Z"
   },
   {
    "duration": 45,
    "start_time": "2022-03-25T11:07:34.199Z"
   },
   {
    "duration": 5,
    "start_time": "2022-03-25T11:07:39.912Z"
   },
   {
    "duration": 45,
    "start_time": "2022-03-25T11:07:59.651Z"
   },
   {
    "duration": 478,
    "start_time": "2022-03-25T11:08:14.819Z"
   },
   {
    "duration": 5,
    "start_time": "2022-03-25T11:08:18.826Z"
   },
   {
    "duration": 10,
    "start_time": "2022-03-25T11:08:24.403Z"
   },
   {
    "duration": 568,
    "start_time": "2022-03-25T11:08:26.141Z"
   },
   {
    "duration": 5,
    "start_time": "2022-03-25T11:08:28.914Z"
   },
   {
    "duration": 14,
    "start_time": "2022-03-25T11:08:29.948Z"
   },
   {
    "duration": 36,
    "start_time": "2022-03-25T11:08:31.068Z"
   },
   {
    "duration": 59,
    "start_time": "2022-03-25T11:08:53.963Z"
   },
   {
    "duration": 66,
    "start_time": "2022-03-25T11:09:31.796Z"
   },
   {
    "duration": 8,
    "start_time": "2022-03-25T11:09:49.560Z"
   },
   {
    "duration": 5,
    "start_time": "2022-03-25T11:10:37.753Z"
   },
   {
    "duration": 5,
    "start_time": "2022-03-25T11:12:05.325Z"
   },
   {
    "duration": 2421,
    "start_time": "2022-03-25T11:12:19.525Z"
   },
   {
    "duration": 2285,
    "start_time": "2022-03-25T11:13:15.891Z"
   },
   {
    "duration": 5,
    "start_time": "2022-03-25T11:13:32.249Z"
   },
   {
    "duration": 585,
    "start_time": "2022-03-25T11:14:52.877Z"
   },
   {
    "duration": 5,
    "start_time": "2022-03-25T11:14:53.464Z"
   },
   {
    "duration": 11,
    "start_time": "2022-03-25T11:14:53.480Z"
   },
   {
    "duration": 404,
    "start_time": "2022-03-25T11:14:53.493Z"
   },
   {
    "duration": 5,
    "start_time": "2022-03-25T11:14:53.898Z"
   },
   {
    "duration": 14,
    "start_time": "2022-03-25T11:14:53.905Z"
   },
   {
    "duration": 30,
    "start_time": "2022-03-25T11:14:53.921Z"
   },
   {
    "duration": 7,
    "start_time": "2022-03-25T11:15:11.313Z"
   },
   {
    "duration": 546,
    "start_time": "2022-03-25T11:15:50.163Z"
   },
   {
    "duration": 4,
    "start_time": "2022-03-25T11:15:50.711Z"
   },
   {
    "duration": 8,
    "start_time": "2022-03-25T11:15:50.716Z"
   },
   {
    "duration": 410,
    "start_time": "2022-03-25T11:15:50.726Z"
   },
   {
    "duration": 4,
    "start_time": "2022-03-25T11:15:51.138Z"
   },
   {
    "duration": 15,
    "start_time": "2022-03-25T11:15:51.143Z"
   },
   {
    "duration": 32,
    "start_time": "2022-03-25T11:15:51.159Z"
   },
   {
    "duration": 24,
    "start_time": "2022-03-25T11:15:58.768Z"
   },
   {
    "duration": 70,
    "start_time": "2022-03-25T11:16:20.032Z"
   },
   {
    "duration": 7,
    "start_time": "2022-03-25T11:16:34.864Z"
   },
   {
    "duration": 7,
    "start_time": "2022-03-25T11:17:20.768Z"
   },
   {
    "duration": 7,
    "start_time": "2022-03-25T11:17:23.924Z"
   },
   {
    "duration": 566,
    "start_time": "2022-03-25T11:17:29.066Z"
   },
   {
    "duration": 5,
    "start_time": "2022-03-25T11:17:29.634Z"
   },
   {
    "duration": 14,
    "start_time": "2022-03-25T11:17:29.640Z"
   },
   {
    "duration": 431,
    "start_time": "2022-03-25T11:17:29.656Z"
   },
   {
    "duration": 4,
    "start_time": "2022-03-25T11:17:30.089Z"
   },
   {
    "duration": 23,
    "start_time": "2022-03-25T11:17:30.094Z"
   },
   {
    "duration": 11,
    "start_time": "2022-03-25T11:17:30.118Z"
   },
   {
    "duration": 102,
    "start_time": "2022-03-25T11:24:04.289Z"
   },
   {
    "duration": 10,
    "start_time": "2022-03-25T11:24:29.294Z"
   },
   {
    "duration": 8,
    "start_time": "2022-03-25T11:24:49.438Z"
   },
   {
    "duration": 13,
    "start_time": "2022-03-25T11:24:53.560Z"
   },
   {
    "duration": 11,
    "start_time": "2022-03-25T11:25:04.128Z"
   },
   {
    "duration": 10,
    "start_time": "2022-03-25T11:25:11.809Z"
   },
   {
    "duration": 25,
    "start_time": "2022-03-25T11:25:26.331Z"
   },
   {
    "duration": 16,
    "start_time": "2022-03-25T11:25:44.981Z"
   },
   {
    "duration": 5,
    "start_time": "2022-03-25T11:25:57.056Z"
   },
   {
    "duration": 6,
    "start_time": "2022-03-25T11:27:01.701Z"
   },
   {
    "duration": 6,
    "start_time": "2022-03-25T11:30:37.636Z"
   },
   {
    "duration": 7,
    "start_time": "2022-03-25T11:31:02.744Z"
   },
   {
    "duration": 460,
    "start_time": "2022-03-25T11:31:24.321Z"
   },
   {
    "duration": 5,
    "start_time": "2022-03-25T11:31:24.782Z"
   },
   {
    "duration": 8,
    "start_time": "2022-03-25T11:31:24.791Z"
   },
   {
    "duration": 400,
    "start_time": "2022-03-25T11:31:24.800Z"
   },
   {
    "duration": 4,
    "start_time": "2022-03-25T11:31:25.201Z"
   },
   {
    "duration": 12,
    "start_time": "2022-03-25T11:31:25.207Z"
   },
   {
    "duration": 7,
    "start_time": "2022-03-25T11:31:25.220Z"
   },
   {
    "duration": 6,
    "start_time": "2022-03-25T11:31:25.229Z"
   },
   {
    "duration": 9,
    "start_time": "2022-03-25T11:31:38.335Z"
   },
   {
    "duration": 457,
    "start_time": "2022-03-25T11:32:46.833Z"
   },
   {
    "duration": 5,
    "start_time": "2022-03-25T11:32:47.292Z"
   },
   {
    "duration": 27,
    "start_time": "2022-03-25T11:32:47.299Z"
   },
   {
    "duration": 441,
    "start_time": "2022-03-25T11:32:47.328Z"
   },
   {
    "duration": 4,
    "start_time": "2022-03-25T11:32:47.780Z"
   },
   {
    "duration": 45,
    "start_time": "2022-03-25T11:32:47.785Z"
   },
   {
    "duration": 35,
    "start_time": "2022-03-25T11:32:47.831Z"
   },
   {
    "duration": 23,
    "start_time": "2022-03-25T11:32:47.867Z"
   },
   {
    "duration": 4,
    "start_time": "2022-03-25T11:33:01.094Z"
   },
   {
    "duration": 9,
    "start_time": "2022-03-25T11:33:17.368Z"
   },
   {
    "duration": 6,
    "start_time": "2022-03-25T11:42:54.585Z"
   },
   {
    "duration": 8,
    "start_time": "2022-03-25T11:43:05.881Z"
   },
   {
    "duration": 10,
    "start_time": "2022-03-25T11:43:13.748Z"
   },
   {
    "duration": 8,
    "start_time": "2022-03-25T11:43:38.982Z"
   },
   {
    "duration": 8,
    "start_time": "2022-03-25T11:43:46.840Z"
   },
   {
    "duration": 7,
    "start_time": "2022-03-25T11:43:50.233Z"
   },
   {
    "duration": 2441,
    "start_time": "2022-03-25T11:44:34.185Z"
   },
   {
    "duration": 2352,
    "start_time": "2022-03-25T11:44:41.831Z"
   },
   {
    "duration": 500,
    "start_time": "2022-03-25T11:44:50.799Z"
   },
   {
    "duration": 5,
    "start_time": "2022-03-25T11:44:51.301Z"
   },
   {
    "duration": 9,
    "start_time": "2022-03-25T11:44:51.309Z"
   },
   {
    "duration": 532,
    "start_time": "2022-03-25T11:44:51.320Z"
   },
   {
    "duration": 5,
    "start_time": "2022-03-25T11:44:51.853Z"
   },
   {
    "duration": 21,
    "start_time": "2022-03-25T11:44:51.860Z"
   },
   {
    "duration": 7,
    "start_time": "2022-03-25T11:44:51.882Z"
   },
   {
    "duration": 10,
    "start_time": "2022-03-25T11:44:51.891Z"
   },
   {
    "duration": 10,
    "start_time": "2022-03-25T11:44:51.903Z"
   },
   {
    "duration": 13,
    "start_time": "2022-03-25T11:45:42.972Z"
   },
   {
    "duration": 6,
    "start_time": "2022-03-25T12:11:40.769Z"
   },
   {
    "duration": 201,
    "start_time": "2022-03-25T12:17:45.578Z"
   },
   {
    "duration": 379,
    "start_time": "2022-03-25T12:19:53.012Z"
   },
   {
    "duration": 255,
    "start_time": "2022-03-25T12:20:01.070Z"
   },
   {
    "duration": 194,
    "start_time": "2022-03-25T12:21:14.668Z"
   },
   {
    "duration": 243,
    "start_time": "2022-03-25T12:22:43.910Z"
   },
   {
    "duration": 81,
    "start_time": "2022-03-25T12:22:49.409Z"
   },
   {
    "duration": 11,
    "start_time": "2022-03-25T12:23:21.336Z"
   },
   {
    "duration": 219,
    "start_time": "2022-03-25T12:23:37.162Z"
   },
   {
    "duration": 7,
    "start_time": "2022-03-25T12:23:55.349Z"
   },
   {
    "duration": 205,
    "start_time": "2022-03-25T12:24:22.607Z"
   },
   {
    "duration": 12,
    "start_time": "2022-03-25T12:24:28.337Z"
   },
   {
    "duration": 12,
    "start_time": "2022-03-25T12:25:15.292Z"
   },
   {
    "duration": 11,
    "start_time": "2022-03-25T12:26:06.064Z"
   },
   {
    "duration": 203,
    "start_time": "2022-03-25T12:30:14.822Z"
   },
   {
    "duration": 217,
    "start_time": "2022-03-25T12:31:47.434Z"
   },
   {
    "duration": 190,
    "start_time": "2022-03-25T12:31:51.132Z"
   },
   {
    "duration": 17,
    "start_time": "2022-03-25T12:32:32.540Z"
   },
   {
    "duration": 12,
    "start_time": "2022-03-25T12:37:28.524Z"
   },
   {
    "duration": 22,
    "start_time": "2022-03-25T12:39:40.218Z"
   },
   {
    "duration": 4,
    "start_time": "2022-03-25T12:47:28.859Z"
   },
   {
    "duration": 8,
    "start_time": "2022-03-25T12:48:09.432Z"
   },
   {
    "duration": 6,
    "start_time": "2022-03-25T12:48:16.409Z"
   },
   {
    "duration": 22,
    "start_time": "2022-03-25T12:49:11.953Z"
   },
   {
    "duration": 25,
    "start_time": "2022-03-25T12:50:11.006Z"
   },
   {
    "duration": 627,
    "start_time": "2022-03-25T12:50:19.286Z"
   },
   {
    "duration": 6,
    "start_time": "2022-03-25T12:50:19.915Z"
   },
   {
    "duration": 15,
    "start_time": "2022-03-25T12:50:19.923Z"
   },
   {
    "duration": 590,
    "start_time": "2022-03-25T12:50:19.940Z"
   },
   {
    "duration": 4,
    "start_time": "2022-03-25T12:50:20.532Z"
   },
   {
    "duration": 14,
    "start_time": "2022-03-25T12:50:20.538Z"
   },
   {
    "duration": 27,
    "start_time": "2022-03-25T12:50:20.554Z"
   },
   {
    "duration": 11,
    "start_time": "2022-03-25T12:50:20.582Z"
   },
   {
    "duration": 14,
    "start_time": "2022-03-25T12:50:20.595Z"
   },
   {
    "duration": 15,
    "start_time": "2022-03-25T12:50:20.611Z"
   },
   {
    "duration": 91,
    "start_time": "2022-03-25T12:50:20.627Z"
   },
   {
    "duration": 13,
    "start_time": "2022-03-25T12:51:39.052Z"
   },
   {
    "duration": 602,
    "start_time": "2022-03-25T12:51:49.821Z"
   },
   {
    "duration": 6,
    "start_time": "2022-03-25T12:51:50.425Z"
   },
   {
    "duration": 12,
    "start_time": "2022-03-25T12:51:50.435Z"
   },
   {
    "duration": 573,
    "start_time": "2022-03-25T12:51:50.448Z"
   },
   {
    "duration": 6,
    "start_time": "2022-03-25T12:51:51.023Z"
   },
   {
    "duration": 19,
    "start_time": "2022-03-25T12:51:51.031Z"
   },
   {
    "duration": 10,
    "start_time": "2022-03-25T12:51:51.052Z"
   },
   {
    "duration": 21,
    "start_time": "2022-03-25T12:51:51.063Z"
   },
   {
    "duration": 14,
    "start_time": "2022-03-25T12:51:51.086Z"
   },
   {
    "duration": 12,
    "start_time": "2022-03-25T12:51:51.101Z"
   },
   {
    "duration": 200,
    "start_time": "2022-03-25T12:51:51.114Z"
   },
   {
    "duration": 212,
    "start_time": "2022-03-25T12:52:09.936Z"
   },
   {
    "duration": 73,
    "start_time": "2022-03-25T12:52:30.190Z"
   },
   {
    "duration": 634,
    "start_time": "2022-03-25T12:52:54.967Z"
   },
   {
    "duration": 6,
    "start_time": "2022-03-25T12:52:55.604Z"
   },
   {
    "duration": 16,
    "start_time": "2022-03-25T12:52:55.611Z"
   },
   {
    "duration": 442,
    "start_time": "2022-03-25T12:52:55.629Z"
   },
   {
    "duration": 4,
    "start_time": "2022-03-25T12:52:56.081Z"
   },
   {
    "duration": 13,
    "start_time": "2022-03-25T12:52:56.087Z"
   },
   {
    "duration": 16,
    "start_time": "2022-03-25T12:52:56.101Z"
   },
   {
    "duration": 10,
    "start_time": "2022-03-25T12:52:56.119Z"
   },
   {
    "duration": 25,
    "start_time": "2022-03-25T12:52:56.130Z"
   },
   {
    "duration": 23,
    "start_time": "2022-03-25T12:52:56.159Z"
   },
   {
    "duration": 93,
    "start_time": "2022-03-25T12:52:56.183Z"
   },
   {
    "duration": 15,
    "start_time": "2022-03-25T12:53:21.358Z"
   },
   {
    "duration": 27,
    "start_time": "2022-03-25T12:54:09.004Z"
   },
   {
    "duration": 10,
    "start_time": "2022-03-25T14:05:42.314Z"
   },
   {
    "duration": 1652,
    "start_time": "2022-03-25T14:06:07.791Z"
   },
   {
    "duration": 29,
    "start_time": "2022-03-25T14:06:25.768Z"
   },
   {
    "duration": 6,
    "start_time": "2022-03-25T14:08:21.371Z"
   },
   {
    "duration": 223,
    "start_time": "2022-03-25T14:08:31.504Z"
   },
   {
    "duration": 24,
    "start_time": "2022-03-25T14:08:42.760Z"
   },
   {
    "duration": 14,
    "start_time": "2022-03-25T14:08:50.466Z"
   },
   {
    "duration": 5,
    "start_time": "2022-03-25T14:15:45.616Z"
   },
   {
    "duration": 4,
    "start_time": "2022-03-25T14:16:26.790Z"
   },
   {
    "duration": 25,
    "start_time": "2022-03-25T14:16:40.865Z"
   },
   {
    "duration": 23,
    "start_time": "2022-03-25T14:16:57.619Z"
   },
   {
    "duration": 11,
    "start_time": "2022-03-25T14:21:58.087Z"
   },
   {
    "duration": 29,
    "start_time": "2022-03-25T14:22:05.802Z"
   },
   {
    "duration": 189,
    "start_time": "2022-03-25T14:38:43.301Z"
   },
   {
    "duration": 531,
    "start_time": "2022-03-25T14:43:20.775Z"
   },
   {
    "duration": 5,
    "start_time": "2022-03-25T14:43:21.308Z"
   },
   {
    "duration": 11,
    "start_time": "2022-03-25T14:43:21.315Z"
   },
   {
    "duration": 413,
    "start_time": "2022-03-25T14:43:21.328Z"
   },
   {
    "duration": 5,
    "start_time": "2022-03-25T14:43:21.743Z"
   },
   {
    "duration": 12,
    "start_time": "2022-03-25T14:43:21.750Z"
   },
   {
    "duration": 24,
    "start_time": "2022-03-25T14:43:21.764Z"
   },
   {
    "duration": 9,
    "start_time": "2022-03-25T14:43:21.790Z"
   },
   {
    "duration": 21,
    "start_time": "2022-03-25T14:43:21.801Z"
   },
   {
    "duration": 13,
    "start_time": "2022-03-25T14:43:21.824Z"
   },
   {
    "duration": 7,
    "start_time": "2022-03-25T14:43:21.839Z"
   },
   {
    "duration": 34,
    "start_time": "2022-03-25T14:43:21.847Z"
   },
   {
    "duration": 20,
    "start_time": "2022-03-25T14:43:21.882Z"
   },
   {
    "duration": 4,
    "start_time": "2022-03-25T14:43:21.903Z"
   },
   {
    "duration": 16,
    "start_time": "2022-03-25T14:43:21.909Z"
   },
   {
    "duration": 194,
    "start_time": "2022-03-25T14:43:21.927Z"
   },
   {
    "duration": 3176,
    "start_time": "2022-03-25T14:43:46.784Z"
   },
   {
    "duration": 2372,
    "start_time": "2022-03-25T14:44:15.243Z"
   },
   {
    "duration": 2359,
    "start_time": "2022-03-25T14:44:58.442Z"
   },
   {
    "duration": 40,
    "start_time": "2022-03-25T14:45:18.688Z"
   },
   {
    "duration": 8,
    "start_time": "2022-03-25T14:45:33.487Z"
   },
   {
    "duration": 27,
    "start_time": "2022-03-25T14:45:42.088Z"
   },
   {
    "duration": 62,
    "start_time": "2022-03-25T14:45:48.027Z"
   },
   {
    "duration": 538,
    "start_time": "2022-03-25T14:47:05.657Z"
   },
   {
    "duration": 6,
    "start_time": "2022-03-25T14:47:06.198Z"
   },
   {
    "duration": 9,
    "start_time": "2022-03-25T14:47:06.205Z"
   },
   {
    "duration": 444,
    "start_time": "2022-03-25T14:47:06.216Z"
   },
   {
    "duration": 5,
    "start_time": "2022-03-25T14:47:06.662Z"
   },
   {
    "duration": 26,
    "start_time": "2022-03-25T14:47:06.668Z"
   },
   {
    "duration": 8,
    "start_time": "2022-03-25T14:47:06.696Z"
   },
   {
    "duration": 14,
    "start_time": "2022-03-25T14:47:06.705Z"
   },
   {
    "duration": 35,
    "start_time": "2022-03-25T14:47:06.721Z"
   },
   {
    "duration": 16,
    "start_time": "2022-03-25T14:47:06.758Z"
   },
   {
    "duration": 6,
    "start_time": "2022-03-25T14:47:06.781Z"
   },
   {
    "duration": 9,
    "start_time": "2022-03-25T14:47:06.789Z"
   },
   {
    "duration": 26,
    "start_time": "2022-03-25T14:47:06.799Z"
   },
   {
    "duration": 14,
    "start_time": "2022-03-25T14:47:06.828Z"
   },
   {
    "duration": 17,
    "start_time": "2022-03-25T14:47:06.844Z"
   },
   {
    "duration": 68,
    "start_time": "2022-03-25T14:47:06.862Z"
   },
   {
    "duration": 43,
    "start_time": "2022-03-25T15:17:29.231Z"
   },
   {
    "duration": 526,
    "start_time": "2022-03-25T15:17:36.940Z"
   },
   {
    "duration": 13,
    "start_time": "2022-03-25T15:17:37.468Z"
   },
   {
    "duration": 8,
    "start_time": "2022-03-25T15:17:37.482Z"
   },
   {
    "duration": 551,
    "start_time": "2022-03-25T15:17:37.492Z"
   },
   {
    "duration": 4,
    "start_time": "2022-03-25T15:17:38.045Z"
   },
   {
    "duration": 12,
    "start_time": "2022-03-25T15:17:38.050Z"
   },
   {
    "duration": 18,
    "start_time": "2022-03-25T15:17:38.063Z"
   },
   {
    "duration": 7,
    "start_time": "2022-03-25T15:17:38.082Z"
   },
   {
    "duration": 11,
    "start_time": "2022-03-25T15:17:38.091Z"
   },
   {
    "duration": 10,
    "start_time": "2022-03-25T15:17:38.104Z"
   },
   {
    "duration": 11,
    "start_time": "2022-03-25T15:17:38.115Z"
   },
   {
    "duration": 8,
    "start_time": "2022-03-25T15:17:38.127Z"
   },
   {
    "duration": 14,
    "start_time": "2022-03-25T15:17:38.136Z"
   },
   {
    "duration": 3,
    "start_time": "2022-03-25T15:17:38.152Z"
   },
   {
    "duration": 33,
    "start_time": "2022-03-25T15:17:38.157Z"
   },
   {
    "duration": 855,
    "start_time": "2022-03-25T15:17:38.191Z"
   },
   {
    "duration": 330,
    "start_time": "2022-03-25T15:20:31.602Z"
   },
   {
    "duration": 300,
    "start_time": "2022-03-25T15:20:40.841Z"
   },
   {
    "duration": 677,
    "start_time": "2022-04-04T10:39:08.152Z"
   },
   {
    "duration": 9,
    "start_time": "2022-04-04T10:39:08.832Z"
   },
   {
    "duration": 36,
    "start_time": "2022-04-04T10:39:08.844Z"
   },
   {
    "duration": 811,
    "start_time": "2022-04-04T10:39:08.884Z"
   },
   {
    "duration": 7,
    "start_time": "2022-04-04T10:39:09.698Z"
   },
   {
    "duration": 28,
    "start_time": "2022-04-04T10:39:09.707Z"
   },
   {
    "duration": 102,
    "start_time": "2022-04-04T10:39:09.737Z"
   },
   {
    "duration": 0,
    "start_time": "2022-04-04T10:39:09.842Z"
   },
   {
    "duration": 0,
    "start_time": "2022-04-04T10:39:09.843Z"
   },
   {
    "duration": 0,
    "start_time": "2022-04-04T10:39:09.845Z"
   },
   {
    "duration": 0,
    "start_time": "2022-04-04T10:39:09.846Z"
   },
   {
    "duration": 0,
    "start_time": "2022-04-04T10:39:09.847Z"
   },
   {
    "duration": 0,
    "start_time": "2022-04-04T10:39:09.849Z"
   },
   {
    "duration": 0,
    "start_time": "2022-04-04T10:39:09.850Z"
   },
   {
    "duration": 0,
    "start_time": "2022-04-04T10:39:09.851Z"
   },
   {
    "duration": 0,
    "start_time": "2022-04-04T10:39:09.853Z"
   },
   {
    "duration": 0,
    "start_time": "2022-04-04T10:39:09.854Z"
   },
   {
    "duration": 912,
    "start_time": "2022-04-04T10:39:19.199Z"
   },
   {
    "duration": 7,
    "start_time": "2022-04-04T10:39:20.114Z"
   },
   {
    "duration": 30,
    "start_time": "2022-04-04T10:39:20.124Z"
   },
   {
    "duration": 589,
    "start_time": "2022-04-04T10:39:20.158Z"
   },
   {
    "duration": 7,
    "start_time": "2022-04-04T10:39:20.749Z"
   },
   {
    "duration": 28,
    "start_time": "2022-04-04T10:39:20.758Z"
   },
   {
    "duration": 16,
    "start_time": "2022-04-04T10:39:20.788Z"
   },
   {
    "duration": 28,
    "start_time": "2022-04-04T10:39:20.806Z"
   },
   {
    "duration": 19,
    "start_time": "2022-04-04T10:39:20.836Z"
   },
   {
    "duration": 31,
    "start_time": "2022-04-04T10:39:20.858Z"
   },
   {
    "duration": 26,
    "start_time": "2022-04-04T10:39:20.892Z"
   },
   {
    "duration": 20,
    "start_time": "2022-04-04T10:39:20.920Z"
   },
   {
    "duration": 42,
    "start_time": "2022-04-04T10:39:20.942Z"
   },
   {
    "duration": 6,
    "start_time": "2022-04-04T10:39:20.986Z"
   },
   {
    "duration": 40,
    "start_time": "2022-04-04T10:39:20.994Z"
   },
   {
    "duration": 573,
    "start_time": "2022-04-04T10:39:21.036Z"
   },
   {
    "duration": 61,
    "start_time": "2022-04-04T10:42:15.964Z"
   },
   {
    "duration": 1843,
    "start_time": "2022-04-04T10:43:06.206Z"
   },
   {
    "duration": 24,
    "start_time": "2022-04-04T10:43:51.084Z"
   },
   {
    "duration": 17,
    "start_time": "2022-04-04T10:44:01.074Z"
   },
   {
    "duration": 104,
    "start_time": "2022-04-04T11:09:22.981Z"
   },
   {
    "duration": 477,
    "start_time": "2022-04-04T11:09:34.821Z"
   },
   {
    "duration": 763,
    "start_time": "2022-04-04T11:10:03.676Z"
   },
   {
    "duration": 244,
    "start_time": "2022-04-04T11:10:13.094Z"
   },
   {
    "duration": 260,
    "start_time": "2022-04-04T11:11:16.562Z"
   },
   {
    "duration": 359,
    "start_time": "2022-04-04T11:11:26.357Z"
   },
   {
    "duration": 240,
    "start_time": "2022-04-04T11:11:59.978Z"
   },
   {
    "duration": 615,
    "start_time": "2022-04-04T11:12:09.090Z"
   },
   {
    "duration": 427,
    "start_time": "2022-04-04T11:12:32.981Z"
   },
   {
    "duration": 442,
    "start_time": "2022-04-04T11:16:01.878Z"
   },
   {
    "duration": 425,
    "start_time": "2022-04-04T11:16:11.591Z"
   },
   {
    "duration": 441,
    "start_time": "2022-04-04T11:16:17.785Z"
   },
   {
    "duration": 104,
    "start_time": "2022-04-04T11:17:08.494Z"
   },
   {
    "duration": 444,
    "start_time": "2022-04-04T11:17:15.229Z"
   },
   {
    "duration": 561,
    "start_time": "2022-04-04T11:18:06.459Z"
   },
   {
    "duration": 438,
    "start_time": "2022-04-04T11:20:11.381Z"
   },
   {
    "duration": 97,
    "start_time": "2022-04-04T11:20:36.897Z"
   },
   {
    "duration": 434,
    "start_time": "2022-04-04T11:20:51.720Z"
   },
   {
    "duration": 452,
    "start_time": "2022-04-04T11:21:03.054Z"
   },
   {
    "duration": 427,
    "start_time": "2022-04-04T11:21:42.308Z"
   },
   {
    "duration": 824,
    "start_time": "2022-04-04T11:22:01.211Z"
   },
   {
    "duration": 455,
    "start_time": "2022-04-04T11:22:24.954Z"
   },
   {
    "duration": 471,
    "start_time": "2022-04-04T11:23:07.127Z"
   },
   {
    "duration": 440,
    "start_time": "2022-04-04T11:23:14.563Z"
   },
   {
    "duration": 6,
    "start_time": "2022-04-04T11:25:31.603Z"
   },
   {
    "duration": 8,
    "start_time": "2022-04-04T11:26:03.435Z"
   },
   {
    "duration": 13,
    "start_time": "2022-04-04T12:16:18.591Z"
   },
   {
    "duration": 22,
    "start_time": "2022-04-04T12:16:27.343Z"
   },
   {
    "duration": 24,
    "start_time": "2022-04-04T12:19:57.249Z"
   },
   {
    "duration": 28,
    "start_time": "2022-04-04T12:31:01.916Z"
   },
   {
    "duration": 29,
    "start_time": "2022-04-04T12:40:19.527Z"
   },
   {
    "duration": 264,
    "start_time": "2022-04-04T12:40:28.209Z"
   },
   {
    "duration": 29,
    "start_time": "2022-04-04T12:42:46.425Z"
   },
   {
    "duration": 27,
    "start_time": "2022-04-04T12:43:03.632Z"
   },
   {
    "duration": 22,
    "start_time": "2022-04-04T12:44:23.413Z"
   },
   {
    "duration": 6,
    "start_time": "2022-04-04T13:01:58.939Z"
   },
   {
    "duration": 24,
    "start_time": "2022-04-04T13:02:30.657Z"
   },
   {
    "duration": 13,
    "start_time": "2022-04-04T13:03:33.999Z"
   },
   {
    "duration": 10,
    "start_time": "2022-04-04T13:04:34.661Z"
   },
   {
    "duration": 19,
    "start_time": "2022-04-04T13:05:08.170Z"
   },
   {
    "duration": 9,
    "start_time": "2022-04-04T13:06:00.326Z"
   },
   {
    "duration": 1466,
    "start_time": "2022-04-04T13:06:05.087Z"
   },
   {
    "duration": 8,
    "start_time": "2022-04-04T13:06:23.447Z"
   },
   {
    "duration": 1315,
    "start_time": "2022-04-04T13:07:59.811Z"
   },
   {
    "duration": 693,
    "start_time": "2022-04-04T13:08:05.147Z"
   },
   {
    "duration": 9,
    "start_time": "2022-04-04T13:08:05.842Z"
   },
   {
    "duration": 28,
    "start_time": "2022-04-04T13:08:05.853Z"
   },
   {
    "duration": 566,
    "start_time": "2022-04-04T13:08:05.884Z"
   },
   {
    "duration": 5,
    "start_time": "2022-04-04T13:08:06.454Z"
   },
   {
    "duration": 25,
    "start_time": "2022-04-04T13:08:06.461Z"
   },
   {
    "duration": 452,
    "start_time": "2022-04-04T13:08:06.488Z"
   },
   {
    "duration": 5,
    "start_time": "2022-04-04T13:08:06.942Z"
   },
   {
    "duration": 41,
    "start_time": "2022-04-04T13:08:06.949Z"
   },
   {
    "duration": 126,
    "start_time": "2022-04-04T13:08:06.992Z"
   },
   {
    "duration": 0,
    "start_time": "2022-04-04T13:08:07.120Z"
   },
   {
    "duration": 0,
    "start_time": "2022-04-04T13:08:07.122Z"
   },
   {
    "duration": 0,
    "start_time": "2022-04-04T13:08:07.123Z"
   },
   {
    "duration": 0,
    "start_time": "2022-04-04T13:08:07.125Z"
   },
   {
    "duration": 0,
    "start_time": "2022-04-04T13:08:07.126Z"
   },
   {
    "duration": 0,
    "start_time": "2022-04-04T13:08:07.128Z"
   },
   {
    "duration": 0,
    "start_time": "2022-04-04T13:08:07.130Z"
   },
   {
    "duration": 0,
    "start_time": "2022-04-04T13:08:07.131Z"
   },
   {
    "duration": 0,
    "start_time": "2022-04-04T13:08:07.132Z"
   },
   {
    "duration": 0,
    "start_time": "2022-04-04T13:08:07.134Z"
   },
   {
    "duration": 23,
    "start_time": "2022-04-04T13:10:13.046Z"
   },
   {
    "duration": 677,
    "start_time": "2022-04-06T10:39:44.257Z"
   },
   {
    "duration": 8,
    "start_time": "2022-04-06T10:39:44.937Z"
   },
   {
    "duration": 36,
    "start_time": "2022-04-06T10:39:44.947Z"
   },
   {
    "duration": 842,
    "start_time": "2022-04-06T10:39:44.986Z"
   },
   {
    "duration": 6,
    "start_time": "2022-04-06T10:39:45.831Z"
   },
   {
    "duration": 15,
    "start_time": "2022-04-06T10:39:45.839Z"
   },
   {
    "duration": 440,
    "start_time": "2022-04-06T10:39:45.875Z"
   },
   {
    "duration": 5,
    "start_time": "2022-04-06T10:39:46.317Z"
   },
   {
    "duration": 27,
    "start_time": "2022-04-06T10:39:46.324Z"
   },
   {
    "duration": 10,
    "start_time": "2022-04-06T10:39:46.373Z"
   },
   {
    "duration": 10,
    "start_time": "2022-04-06T10:39:46.386Z"
   },
   {
    "duration": 13,
    "start_time": "2022-04-06T10:39:46.398Z"
   },
   {
    "duration": 18,
    "start_time": "2022-04-06T10:39:46.413Z"
   },
   {
    "duration": 55,
    "start_time": "2022-04-06T10:39:46.433Z"
   },
   {
    "duration": 9,
    "start_time": "2022-04-06T10:39:46.490Z"
   },
   {
    "duration": 98,
    "start_time": "2022-04-06T10:39:46.501Z"
   },
   {
    "duration": 22,
    "start_time": "2022-04-06T10:39:46.602Z"
   },
   {
    "duration": 5,
    "start_time": "2022-04-06T10:39:46.626Z"
   },
   {
    "duration": 46,
    "start_time": "2022-04-06T10:39:46.633Z"
   },
   {
    "duration": 598,
    "start_time": "2022-04-06T10:39:46.681Z"
   },
   {
    "duration": 41,
    "start_time": "2022-04-06T10:40:12.177Z"
   },
   {
    "duration": 58,
    "start_time": "2022-04-06T10:40:58.184Z"
   },
   {
    "duration": 66,
    "start_time": "2022-04-06T10:42:28.097Z"
   },
   {
    "duration": 24,
    "start_time": "2022-04-06T10:48:50.748Z"
   },
   {
    "duration": 681,
    "start_time": "2022-04-06T10:49:00.398Z"
   },
   {
    "duration": 8,
    "start_time": "2022-04-06T10:49:01.081Z"
   },
   {
    "duration": 31,
    "start_time": "2022-04-06T10:49:01.091Z"
   },
   {
    "duration": 667,
    "start_time": "2022-04-06T10:49:01.124Z"
   },
   {
    "duration": 7,
    "start_time": "2022-04-06T10:49:01.796Z"
   },
   {
    "duration": 38,
    "start_time": "2022-04-06T10:49:01.806Z"
   },
   {
    "duration": 473,
    "start_time": "2022-04-06T10:49:01.847Z"
   },
   {
    "duration": 6,
    "start_time": "2022-04-06T10:49:02.323Z"
   },
   {
    "duration": 52,
    "start_time": "2022-04-06T10:49:02.332Z"
   },
   {
    "duration": 89,
    "start_time": "2022-04-06T10:49:02.387Z"
   },
   {
    "duration": 11,
    "start_time": "2022-04-06T10:49:02.479Z"
   },
   {
    "duration": 44,
    "start_time": "2022-04-06T10:49:02.492Z"
   },
   {
    "duration": 42,
    "start_time": "2022-04-06T10:49:02.538Z"
   },
   {
    "duration": 27,
    "start_time": "2022-04-06T10:49:02.584Z"
   },
   {
    "duration": 42,
    "start_time": "2022-04-06T10:49:02.614Z"
   },
   {
    "duration": 59,
    "start_time": "2022-04-06T10:49:02.659Z"
   },
   {
    "duration": 49,
    "start_time": "2022-04-06T10:49:02.721Z"
   },
   {
    "duration": 10,
    "start_time": "2022-04-06T10:49:02.773Z"
   },
   {
    "duration": 33,
    "start_time": "2022-04-06T10:49:02.786Z"
   },
   {
    "duration": 642,
    "start_time": "2022-04-06T10:49:02.821Z"
   },
   {
    "duration": 100,
    "start_time": "2022-04-06T11:04:19.438Z"
   },
   {
    "duration": 92,
    "start_time": "2022-04-06T11:05:18.594Z"
   },
   {
    "duration": 117,
    "start_time": "2022-04-06T11:05:30.193Z"
   },
   {
    "duration": 1801,
    "start_time": "2022-04-06T11:05:49.634Z"
   },
   {
    "duration": 1615,
    "start_time": "2022-04-06T11:06:11.317Z"
   },
   {
    "duration": 676,
    "start_time": "2022-04-06T11:06:17.658Z"
   },
   {
    "duration": 8,
    "start_time": "2022-04-06T11:06:18.336Z"
   },
   {
    "duration": 30,
    "start_time": "2022-04-06T11:06:18.346Z"
   },
   {
    "duration": 575,
    "start_time": "2022-04-06T11:06:18.379Z"
   },
   {
    "duration": 5,
    "start_time": "2022-04-06T11:06:18.956Z"
   },
   {
    "duration": 17,
    "start_time": "2022-04-06T11:06:18.974Z"
   },
   {
    "duration": 446,
    "start_time": "2022-04-06T11:06:18.993Z"
   },
   {
    "duration": 6,
    "start_time": "2022-04-06T11:06:19.441Z"
   },
   {
    "duration": 1998,
    "start_time": "2022-04-06T11:06:19.449Z"
   },
   {
    "duration": 0,
    "start_time": "2022-04-06T11:06:21.449Z"
   },
   {
    "duration": 0,
    "start_time": "2022-04-06T11:06:21.452Z"
   },
   {
    "duration": 0,
    "start_time": "2022-04-06T11:06:21.453Z"
   },
   {
    "duration": 0,
    "start_time": "2022-04-06T11:06:21.455Z"
   },
   {
    "duration": 0,
    "start_time": "2022-04-06T11:06:21.456Z"
   },
   {
    "duration": 0,
    "start_time": "2022-04-06T11:06:21.458Z"
   },
   {
    "duration": 0,
    "start_time": "2022-04-06T11:06:21.459Z"
   },
   {
    "duration": 0,
    "start_time": "2022-04-06T11:06:21.461Z"
   },
   {
    "duration": 0,
    "start_time": "2022-04-06T11:06:21.462Z"
   },
   {
    "duration": 0,
    "start_time": "2022-04-06T11:06:21.463Z"
   },
   {
    "duration": 0,
    "start_time": "2022-04-06T11:06:21.465Z"
   },
   {
    "duration": 36,
    "start_time": "2022-04-06T11:07:16.339Z"
   },
   {
    "duration": 29,
    "start_time": "2022-04-06T11:08:13.137Z"
   },
   {
    "duration": 502,
    "start_time": "2022-04-06T11:15:45.090Z"
   },
   {
    "duration": 694,
    "start_time": "2022-04-06T11:16:41.029Z"
   },
   {
    "duration": 9,
    "start_time": "2022-04-06T11:16:41.725Z"
   },
   {
    "duration": 43,
    "start_time": "2022-04-06T11:16:41.739Z"
   },
   {
    "duration": 641,
    "start_time": "2022-04-06T11:16:41.786Z"
   },
   {
    "duration": 6,
    "start_time": "2022-04-06T11:16:42.430Z"
   },
   {
    "duration": 16,
    "start_time": "2022-04-06T11:16:42.438Z"
   },
   {
    "duration": 473,
    "start_time": "2022-04-06T11:16:42.456Z"
   },
   {
    "duration": 5,
    "start_time": "2022-04-06T11:16:42.931Z"
   },
   {
    "duration": 44,
    "start_time": "2022-04-06T11:16:42.938Z"
   },
   {
    "duration": 107,
    "start_time": "2022-04-06T11:16:42.985Z"
   },
   {
    "duration": 0,
    "start_time": "2022-04-06T11:16:43.095Z"
   },
   {
    "duration": 0,
    "start_time": "2022-04-06T11:16:43.097Z"
   },
   {
    "duration": 0,
    "start_time": "2022-04-06T11:16:43.099Z"
   },
   {
    "duration": 0,
    "start_time": "2022-04-06T11:16:43.100Z"
   },
   {
    "duration": 0,
    "start_time": "2022-04-06T11:16:43.102Z"
   },
   {
    "duration": 0,
    "start_time": "2022-04-06T11:16:43.103Z"
   },
   {
    "duration": 0,
    "start_time": "2022-04-06T11:16:43.105Z"
   },
   {
    "duration": 0,
    "start_time": "2022-04-06T11:16:43.107Z"
   },
   {
    "duration": 0,
    "start_time": "2022-04-06T11:16:43.108Z"
   },
   {
    "duration": 0,
    "start_time": "2022-04-06T11:16:43.110Z"
   },
   {
    "duration": 526,
    "start_time": "2022-04-06T11:22:40.605Z"
   },
   {
    "duration": 558,
    "start_time": "2022-04-06T11:23:14.884Z"
   },
   {
    "duration": 5,
    "start_time": "2022-04-06T11:25:20.512Z"
   },
   {
    "duration": 64,
    "start_time": "2022-04-06T11:25:27.160Z"
   },
   {
    "duration": 482,
    "start_time": "2022-04-06T11:25:32.503Z"
   },
   {
    "duration": 143,
    "start_time": "2022-04-06T11:26:02.430Z"
   },
   {
    "duration": 482,
    "start_time": "2022-04-06T11:29:18.477Z"
   },
   {
    "duration": 697,
    "start_time": "2022-04-06T11:29:29.750Z"
   },
   {
    "duration": 7,
    "start_time": "2022-04-06T11:29:30.450Z"
   },
   {
    "duration": 26,
    "start_time": "2022-04-06T11:29:30.459Z"
   },
   {
    "duration": 579,
    "start_time": "2022-04-06T11:29:30.487Z"
   },
   {
    "duration": 6,
    "start_time": "2022-04-06T11:29:31.074Z"
   },
   {
    "duration": 30,
    "start_time": "2022-04-06T11:29:31.082Z"
   },
   {
    "duration": 467,
    "start_time": "2022-04-06T11:29:31.114Z"
   },
   {
    "duration": 143,
    "start_time": "2022-04-06T11:29:31.584Z"
   },
   {
    "duration": 48,
    "start_time": "2022-04-06T11:29:31.730Z"
   },
   {
    "duration": 151,
    "start_time": "2022-04-06T11:29:31.781Z"
   },
   {
    "duration": 0,
    "start_time": "2022-04-06T11:29:31.935Z"
   },
   {
    "duration": 0,
    "start_time": "2022-04-06T11:29:31.936Z"
   },
   {
    "duration": 0,
    "start_time": "2022-04-06T11:29:31.938Z"
   },
   {
    "duration": 0,
    "start_time": "2022-04-06T11:29:31.940Z"
   },
   {
    "duration": 0,
    "start_time": "2022-04-06T11:29:31.941Z"
   },
   {
    "duration": 0,
    "start_time": "2022-04-06T11:29:31.942Z"
   },
   {
    "duration": 0,
    "start_time": "2022-04-06T11:29:31.944Z"
   },
   {
    "duration": 0,
    "start_time": "2022-04-06T11:29:31.945Z"
   },
   {
    "duration": 0,
    "start_time": "2022-04-06T11:29:31.946Z"
   },
   {
    "duration": 0,
    "start_time": "2022-04-06T11:29:31.948Z"
   },
   {
    "duration": 621,
    "start_time": "2022-04-06T11:29:41.627Z"
   },
   {
    "duration": 624,
    "start_time": "2022-04-06T11:31:09.818Z"
   },
   {
    "duration": 7,
    "start_time": "2022-04-06T11:31:10.445Z"
   },
   {
    "duration": 30,
    "start_time": "2022-04-06T11:31:10.454Z"
   },
   {
    "duration": 577,
    "start_time": "2022-04-06T11:31:10.486Z"
   },
   {
    "duration": 10,
    "start_time": "2022-04-06T11:31:11.066Z"
   },
   {
    "duration": 24,
    "start_time": "2022-04-06T11:31:11.078Z"
   },
   {
    "duration": 477,
    "start_time": "2022-04-06T11:31:11.105Z"
   },
   {
    "duration": 145,
    "start_time": "2022-04-06T11:31:11.585Z"
   },
   {
    "duration": 49,
    "start_time": "2022-04-06T11:31:11.732Z"
   },
   {
    "duration": 98,
    "start_time": "2022-04-06T11:31:11.783Z"
   },
   {
    "duration": 0,
    "start_time": "2022-04-06T11:31:11.883Z"
   },
   {
    "duration": 0,
    "start_time": "2022-04-06T11:31:11.885Z"
   },
   {
    "duration": 0,
    "start_time": "2022-04-06T11:31:11.886Z"
   },
   {
    "duration": 0,
    "start_time": "2022-04-06T11:31:11.888Z"
   },
   {
    "duration": 1,
    "start_time": "2022-04-06T11:31:11.889Z"
   },
   {
    "duration": 0,
    "start_time": "2022-04-06T11:31:11.891Z"
   },
   {
    "duration": 0,
    "start_time": "2022-04-06T11:31:11.892Z"
   },
   {
    "duration": 1,
    "start_time": "2022-04-06T11:31:11.893Z"
   },
   {
    "duration": 0,
    "start_time": "2022-04-06T11:31:11.895Z"
   },
   {
    "duration": 0,
    "start_time": "2022-04-06T11:31:11.896Z"
   },
   {
    "duration": 123,
    "start_time": "2022-04-06T11:33:39.473Z"
   },
   {
    "duration": 531,
    "start_time": "2022-04-06T11:33:47.834Z"
   },
   {
    "duration": 24,
    "start_time": "2022-04-06T11:34:03.295Z"
   },
   {
    "duration": 467,
    "start_time": "2022-04-06T11:34:19.324Z"
   },
   {
    "duration": 503,
    "start_time": "2022-04-06T11:37:09.249Z"
   },
   {
    "duration": 780,
    "start_time": "2022-04-06T11:37:14.767Z"
   },
   {
    "duration": 7,
    "start_time": "2022-04-06T11:37:15.550Z"
   },
   {
    "duration": 30,
    "start_time": "2022-04-06T11:37:15.559Z"
   },
   {
    "duration": 670,
    "start_time": "2022-04-06T11:37:15.591Z"
   },
   {
    "duration": 12,
    "start_time": "2022-04-06T11:37:16.264Z"
   },
   {
    "duration": 38,
    "start_time": "2022-04-06T11:37:16.278Z"
   },
   {
    "duration": 475,
    "start_time": "2022-04-06T11:37:16.319Z"
   },
   {
    "duration": 138,
    "start_time": "2022-04-06T11:37:16.796Z"
   },
   {
    "duration": 48,
    "start_time": "2022-04-06T11:37:16.936Z"
   },
   {
    "duration": 154,
    "start_time": "2022-04-06T11:37:16.986Z"
   },
   {
    "duration": 0,
    "start_time": "2022-04-06T11:37:17.143Z"
   },
   {
    "duration": 0,
    "start_time": "2022-04-06T11:37:17.144Z"
   },
   {
    "duration": 0,
    "start_time": "2022-04-06T11:37:17.145Z"
   },
   {
    "duration": 0,
    "start_time": "2022-04-06T11:37:17.147Z"
   },
   {
    "duration": 0,
    "start_time": "2022-04-06T11:37:17.149Z"
   },
   {
    "duration": 0,
    "start_time": "2022-04-06T11:37:17.151Z"
   },
   {
    "duration": 0,
    "start_time": "2022-04-06T11:37:17.152Z"
   },
   {
    "duration": 0,
    "start_time": "2022-04-06T11:37:17.154Z"
   },
   {
    "duration": 0,
    "start_time": "2022-04-06T11:37:17.155Z"
   },
   {
    "duration": 0,
    "start_time": "2022-04-06T11:37:17.156Z"
   },
   {
    "duration": 665,
    "start_time": "2022-04-06T11:54:43.284Z"
   },
   {
    "duration": 8,
    "start_time": "2022-04-06T11:54:43.952Z"
   },
   {
    "duration": 13,
    "start_time": "2022-04-06T11:54:43.974Z"
   },
   {
    "duration": 799,
    "start_time": "2022-04-06T11:54:43.990Z"
   },
   {
    "duration": 5,
    "start_time": "2022-04-06T11:54:44.791Z"
   },
   {
    "duration": 18,
    "start_time": "2022-04-06T11:54:44.798Z"
   },
   {
    "duration": 10,
    "start_time": "2022-04-06T11:54:44.818Z"
   },
   {
    "duration": 44,
    "start_time": "2022-04-06T11:54:44.831Z"
   },
   {
    "duration": 21,
    "start_time": "2022-04-06T11:54:44.878Z"
   },
   {
    "duration": 18,
    "start_time": "2022-04-06T11:54:44.902Z"
   },
   {
    "duration": 8,
    "start_time": "2022-04-06T11:54:44.922Z"
   },
   {
    "duration": 48,
    "start_time": "2022-04-06T11:54:44.932Z"
   },
   {
    "duration": 29,
    "start_time": "2022-04-06T11:54:44.982Z"
   },
   {
    "duration": 6,
    "start_time": "2022-04-06T11:54:45.013Z"
   },
   {
    "duration": 41,
    "start_time": "2022-04-06T11:54:45.021Z"
   },
   {
    "duration": 546,
    "start_time": "2022-04-06T11:54:45.064Z"
   },
   {
    "duration": 691,
    "start_time": "2022-04-09T12:48:25.358Z"
   },
   {
    "duration": 27,
    "start_time": "2022-04-09T12:48:26.052Z"
   },
   {
    "duration": 19,
    "start_time": "2022-04-09T12:48:26.082Z"
   },
   {
    "duration": 900,
    "start_time": "2022-04-09T12:48:26.104Z"
   },
   {
    "duration": 7,
    "start_time": "2022-04-09T12:48:27.009Z"
   },
   {
    "duration": 16,
    "start_time": "2022-04-09T12:48:27.019Z"
   },
   {
    "duration": 45,
    "start_time": "2022-04-09T12:48:27.037Z"
   },
   {
    "duration": 26,
    "start_time": "2022-04-09T12:48:27.085Z"
   },
   {
    "duration": 19,
    "start_time": "2022-04-09T12:48:27.114Z"
   },
   {
    "duration": 40,
    "start_time": "2022-04-09T12:48:27.136Z"
   },
   {
    "duration": 12,
    "start_time": "2022-04-09T12:48:27.178Z"
   },
   {
    "duration": 13,
    "start_time": "2022-04-09T12:48:27.193Z"
   },
   {
    "duration": 22,
    "start_time": "2022-04-09T12:48:27.208Z"
   },
   {
    "duration": 8,
    "start_time": "2022-04-09T12:48:27.269Z"
   },
   {
    "duration": 23,
    "start_time": "2022-04-09T12:48:27.280Z"
   },
   {
    "duration": 790,
    "start_time": "2022-04-09T12:48:27.306Z"
   },
   {
    "duration": 1844,
    "start_time": "2022-04-09T12:48:28.098Z"
   },
   {
    "duration": 8,
    "start_time": "2022-04-09T12:50:01.767Z"
   },
   {
    "duration": 41,
    "start_time": "2022-04-09T12:50:13.848Z"
   },
   {
    "duration": 374,
    "start_time": "2022-04-09T12:54:27.476Z"
   },
   {
    "duration": 397,
    "start_time": "2022-04-09T12:55:28.773Z"
   },
   {
    "duration": 430,
    "start_time": "2022-04-09T12:55:41.819Z"
   },
   {
    "duration": 405,
    "start_time": "2022-04-09T12:55:54.408Z"
   },
   {
    "duration": 445,
    "start_time": "2022-04-09T12:56:22.870Z"
   },
   {
    "duration": 742,
    "start_time": "2022-04-09T12:57:50.954Z"
   },
   {
    "duration": 557,
    "start_time": "2022-04-09T12:58:11.764Z"
   },
   {
    "duration": 440,
    "start_time": "2022-04-09T12:58:27.817Z"
   },
   {
    "duration": 12,
    "start_time": "2022-04-09T13:06:57.681Z"
   },
   {
    "duration": 506,
    "start_time": "2022-04-09T13:07:04.820Z"
   },
   {
    "duration": 422,
    "start_time": "2022-04-09T13:07:31.775Z"
   },
   {
    "duration": 508,
    "start_time": "2022-04-09T13:10:59.151Z"
   },
   {
    "duration": 396,
    "start_time": "2022-04-09T13:11:41.722Z"
   },
   {
    "duration": 395,
    "start_time": "2022-04-09T13:11:57.935Z"
   },
   {
    "duration": 148,
    "start_time": "2022-04-09T13:12:32.871Z"
   },
   {
    "duration": 381,
    "start_time": "2022-04-09T13:13:04.245Z"
   },
   {
    "duration": 420,
    "start_time": "2022-04-09T13:13:24.238Z"
   },
   {
    "duration": 392,
    "start_time": "2022-04-09T13:16:20.482Z"
   },
   {
    "duration": 517,
    "start_time": "2022-04-09T13:16:38.915Z"
   },
   {
    "duration": 390,
    "start_time": "2022-04-09T13:16:50.425Z"
   },
   {
    "duration": 382,
    "start_time": "2022-04-09T13:16:55.429Z"
   },
   {
    "duration": 205,
    "start_time": "2022-04-09T13:17:19.505Z"
   },
   {
    "duration": 220,
    "start_time": "2022-04-09T13:18:29.874Z"
   },
   {
    "duration": 2228,
    "start_time": "2022-04-09T13:19:22.725Z"
   },
   {
    "duration": 29,
    "start_time": "2022-04-09T13:19:24.956Z"
   },
   {
    "duration": 14,
    "start_time": "2022-04-09T13:19:24.994Z"
   },
   {
    "duration": 776,
    "start_time": "2022-04-09T13:19:25.011Z"
   },
   {
    "duration": 6,
    "start_time": "2022-04-09T13:19:25.790Z"
   },
   {
    "duration": 17,
    "start_time": "2022-04-09T13:19:25.798Z"
   },
   {
    "duration": 14,
    "start_time": "2022-04-09T13:19:25.817Z"
   },
   {
    "duration": 44,
    "start_time": "2022-04-09T13:19:25.833Z"
   },
   {
    "duration": 19,
    "start_time": "2022-04-09T13:19:25.881Z"
   },
   {
    "duration": 17,
    "start_time": "2022-04-09T13:19:25.902Z"
   },
   {
    "duration": 8,
    "start_time": "2022-04-09T13:19:25.922Z"
   },
   {
    "duration": 46,
    "start_time": "2022-04-09T13:19:25.932Z"
   },
   {
    "duration": 24,
    "start_time": "2022-04-09T13:19:25.981Z"
   },
   {
    "duration": 5,
    "start_time": "2022-04-09T13:19:26.008Z"
   },
   {
    "duration": 17,
    "start_time": "2022-04-09T13:19:26.015Z"
   },
   {
    "duration": 598,
    "start_time": "2022-04-09T13:19:26.034Z"
   },
   {
    "duration": 53,
    "start_time": "2022-04-09T13:19:26.634Z"
   },
   {
    "duration": 436,
    "start_time": "2022-04-09T13:19:26.689Z"
   },
   {
    "duration": 247,
    "start_time": "2022-04-09T13:19:27.127Z"
   },
   {
    "duration": 730,
    "start_time": "2022-04-09T13:19:42.031Z"
   },
   {
    "duration": 8,
    "start_time": "2022-04-09T13:19:42.773Z"
   },
   {
    "duration": 17,
    "start_time": "2022-04-09T13:19:42.783Z"
   },
   {
    "duration": 597,
    "start_time": "2022-04-09T13:19:42.802Z"
   },
   {
    "duration": 6,
    "start_time": "2022-04-09T13:19:43.402Z"
   },
   {
    "duration": 14,
    "start_time": "2022-04-09T13:19:43.410Z"
   },
   {
    "duration": 11,
    "start_time": "2022-04-09T13:19:43.425Z"
   },
   {
    "duration": 46,
    "start_time": "2022-04-09T13:19:43.437Z"
   },
   {
    "duration": 18,
    "start_time": "2022-04-09T13:19:43.486Z"
   },
   {
    "duration": 17,
    "start_time": "2022-04-09T13:19:43.506Z"
   },
   {
    "duration": 46,
    "start_time": "2022-04-09T13:19:43.525Z"
   },
   {
    "duration": 13,
    "start_time": "2022-04-09T13:19:43.573Z"
   },
   {
    "duration": 22,
    "start_time": "2022-04-09T13:19:43.588Z"
   },
   {
    "duration": 4,
    "start_time": "2022-04-09T13:19:43.615Z"
   },
   {
    "duration": 24,
    "start_time": "2022-04-09T13:19:43.621Z"
   },
   {
    "duration": 590,
    "start_time": "2022-04-09T13:19:43.668Z"
   },
   {
    "duration": 47,
    "start_time": "2022-04-09T13:19:44.260Z"
   },
   {
    "duration": 461,
    "start_time": "2022-04-09T13:19:44.309Z"
   },
   {
    "duration": 420,
    "start_time": "2022-04-09T13:19:44.772Z"
   },
   {
    "duration": 699,
    "start_time": "2022-04-09T13:20:15.942Z"
   },
   {
    "duration": 8,
    "start_time": "2022-04-09T13:20:16.644Z"
   },
   {
    "duration": 30,
    "start_time": "2022-04-09T13:20:16.654Z"
   },
   {
    "duration": 594,
    "start_time": "2022-04-09T13:20:16.686Z"
   },
   {
    "duration": 8,
    "start_time": "2022-04-09T13:20:17.284Z"
   },
   {
    "duration": 13,
    "start_time": "2022-04-09T13:20:17.294Z"
   },
   {
    "duration": 12,
    "start_time": "2022-04-09T13:20:17.309Z"
   },
   {
    "duration": 48,
    "start_time": "2022-04-09T13:20:17.323Z"
   },
   {
    "duration": 20,
    "start_time": "2022-04-09T13:20:17.374Z"
   },
   {
    "duration": 17,
    "start_time": "2022-04-09T13:20:17.396Z"
   },
   {
    "duration": 7,
    "start_time": "2022-04-09T13:20:17.415Z"
   },
   {
    "duration": 10,
    "start_time": "2022-04-09T13:20:17.424Z"
   },
   {
    "duration": 24,
    "start_time": "2022-04-09T13:20:17.474Z"
   },
   {
    "duration": 5,
    "start_time": "2022-04-09T13:20:17.502Z"
   },
   {
    "duration": 17,
    "start_time": "2022-04-09T13:20:17.509Z"
   },
   {
    "duration": 581,
    "start_time": "2022-04-09T13:20:17.528Z"
   },
   {
    "duration": 38,
    "start_time": "2022-04-09T13:20:18.112Z"
   },
   {
    "duration": 430,
    "start_time": "2022-04-09T13:20:18.166Z"
   },
   {
    "duration": 383,
    "start_time": "2022-04-09T13:20:18.599Z"
   },
   {
    "duration": 203,
    "start_time": "2022-04-09T13:25:58.473Z"
   },
   {
    "duration": 237,
    "start_time": "2022-04-09T13:26:09.908Z"
   },
   {
    "duration": 404,
    "start_time": "2022-04-09T13:26:26.827Z"
   },
   {
    "duration": 226,
    "start_time": "2022-04-09T13:26:34.805Z"
   },
   {
    "duration": 245,
    "start_time": "2022-04-09T13:27:46.861Z"
   },
   {
    "duration": 201,
    "start_time": "2022-04-09T13:44:16.923Z"
   },
   {
    "duration": 329,
    "start_time": "2022-04-09T13:44:21.865Z"
   },
   {
    "duration": 708,
    "start_time": "2022-04-09T13:49:09.353Z"
   },
   {
    "duration": 350,
    "start_time": "2022-04-09T13:49:18.649Z"
   },
   {
    "duration": 295,
    "start_time": "2022-04-09T13:49:27.855Z"
   },
   {
    "duration": 324,
    "start_time": "2022-04-09T13:55:38.390Z"
   },
   {
    "duration": 388,
    "start_time": "2022-04-09T13:55:55.768Z"
   },
   {
    "duration": 725,
    "start_time": "2022-04-09T14:05:35.343Z"
   },
   {
    "duration": 14,
    "start_time": "2022-04-09T14:05:36.072Z"
   },
   {
    "duration": 13,
    "start_time": "2022-04-09T14:05:36.089Z"
   },
   {
    "duration": 619,
    "start_time": "2022-04-09T14:05:36.105Z"
   },
   {
    "duration": 8,
    "start_time": "2022-04-09T14:05:36.729Z"
   },
   {
    "duration": 32,
    "start_time": "2022-04-09T14:05:36.740Z"
   },
   {
    "duration": 15,
    "start_time": "2022-04-09T14:05:36.776Z"
   },
   {
    "duration": 12,
    "start_time": "2022-04-09T14:05:36.793Z"
   },
   {
    "duration": 17,
    "start_time": "2022-04-09T14:05:36.808Z"
   },
   {
    "duration": 57,
    "start_time": "2022-04-09T14:05:36.829Z"
   },
   {
    "duration": 10,
    "start_time": "2022-04-09T14:05:36.888Z"
   },
   {
    "duration": 28,
    "start_time": "2022-04-09T14:05:36.900Z"
   },
   {
    "duration": 26,
    "start_time": "2022-04-09T14:05:36.931Z"
   },
   {
    "duration": 8,
    "start_time": "2022-04-09T14:05:36.967Z"
   },
   {
    "duration": 28,
    "start_time": "2022-04-09T14:05:36.978Z"
   },
   {
    "duration": 612,
    "start_time": "2022-04-09T14:05:37.008Z"
   },
   {
    "duration": 60,
    "start_time": "2022-04-09T14:05:37.622Z"
   },
   {
    "duration": 455,
    "start_time": "2022-04-09T14:05:37.685Z"
   },
   {
    "duration": 396,
    "start_time": "2022-04-09T14:05:38.143Z"
   },
   {
    "duration": 248,
    "start_time": "2022-04-09T14:05:38.541Z"
   },
   {
    "duration": 479,
    "start_time": "2022-04-09T14:05:38.792Z"
   },
   {
    "duration": 111,
    "start_time": "2022-04-09T14:05:39.274Z"
   },
   {
    "duration": 0,
    "start_time": "2022-04-09T14:05:39.390Z"
   },
   {
    "duration": 702,
    "start_time": "2022-04-09T14:09:50.548Z"
   },
   {
    "duration": 25,
    "start_time": "2022-04-09T14:09:51.254Z"
   },
   {
    "duration": 24,
    "start_time": "2022-04-09T14:09:51.282Z"
   },
   {
    "duration": 593,
    "start_time": "2022-04-09T14:09:51.308Z"
   },
   {
    "duration": 6,
    "start_time": "2022-04-09T14:09:51.904Z"
   },
   {
    "duration": 21,
    "start_time": "2022-04-09T14:09:51.913Z"
   },
   {
    "duration": 10,
    "start_time": "2022-04-09T14:09:51.936Z"
   },
   {
    "duration": 21,
    "start_time": "2022-04-09T14:09:51.968Z"
   },
   {
    "duration": 19,
    "start_time": "2022-04-09T14:09:51.992Z"
   },
   {
    "duration": 57,
    "start_time": "2022-04-09T14:09:52.017Z"
   },
   {
    "duration": 10,
    "start_time": "2022-04-09T14:09:52.080Z"
   },
   {
    "duration": 12,
    "start_time": "2022-04-09T14:09:52.092Z"
   },
   {
    "duration": 23,
    "start_time": "2022-04-09T14:09:52.106Z"
   },
   {
    "duration": 6,
    "start_time": "2022-04-09T14:09:52.131Z"
   },
   {
    "duration": 20,
    "start_time": "2022-04-09T14:09:52.170Z"
   },
   {
    "duration": 595,
    "start_time": "2022-04-09T14:09:52.192Z"
   },
   {
    "duration": 40,
    "start_time": "2022-04-09T14:09:52.789Z"
   },
   {
    "duration": 486,
    "start_time": "2022-04-09T14:09:52.831Z"
   },
   {
    "duration": 414,
    "start_time": "2022-04-09T14:09:53.320Z"
   },
   {
    "duration": 263,
    "start_time": "2022-04-09T14:09:53.737Z"
   },
   {
    "duration": 317,
    "start_time": "2022-04-09T14:09:54.003Z"
   },
   {
    "duration": 105,
    "start_time": "2022-04-09T14:09:54.322Z"
   },
   {
    "duration": 0,
    "start_time": "2022-04-09T14:09:54.430Z"
   },
   {
    "duration": 59,
    "start_time": "2022-04-12T10:49:13.674Z"
   },
   {
    "duration": 603,
    "start_time": "2022-04-12T10:49:19.072Z"
   },
   {
    "duration": 6,
    "start_time": "2022-04-12T10:49:19.678Z"
   },
   {
    "duration": 34,
    "start_time": "2022-04-12T10:49:19.686Z"
   },
   {
    "duration": 736,
    "start_time": "2022-04-12T10:49:19.723Z"
   },
   {
    "duration": 5,
    "start_time": "2022-04-12T10:49:20.461Z"
   },
   {
    "duration": 14,
    "start_time": "2022-04-12T10:49:20.468Z"
   },
   {
    "duration": 27,
    "start_time": "2022-04-12T10:49:20.484Z"
   },
   {
    "duration": 31,
    "start_time": "2022-04-12T10:49:20.513Z"
   },
   {
    "duration": 17,
    "start_time": "2022-04-12T10:49:20.546Z"
   },
   {
    "duration": 14,
    "start_time": "2022-04-12T10:49:20.566Z"
   },
   {
    "duration": 6,
    "start_time": "2022-04-12T10:49:20.581Z"
   },
   {
    "duration": 13,
    "start_time": "2022-04-12T10:49:20.588Z"
   },
   {
    "duration": 39,
    "start_time": "2022-04-12T10:49:20.603Z"
   },
   {
    "duration": 20,
    "start_time": "2022-04-12T10:49:20.644Z"
   },
   {
    "duration": 17,
    "start_time": "2022-04-12T10:49:20.666Z"
   },
   {
    "duration": 566,
    "start_time": "2022-04-12T10:49:20.685Z"
   },
   {
    "duration": 31,
    "start_time": "2022-04-12T10:49:21.253Z"
   },
   {
    "duration": 343,
    "start_time": "2022-04-12T10:49:21.285Z"
   },
   {
    "duration": 331,
    "start_time": "2022-04-12T10:49:21.631Z"
   },
   {
    "duration": 160,
    "start_time": "2022-04-12T10:49:21.965Z"
   },
   {
    "duration": 197,
    "start_time": "2022-04-12T10:49:22.128Z"
   },
   {
    "duration": 211,
    "start_time": "2022-04-12T10:49:22.329Z"
   },
   {
    "duration": 0,
    "start_time": "2022-04-12T10:49:22.543Z"
   },
   {
    "duration": 263,
    "start_time": "2022-04-12T10:50:20.726Z"
   },
   {
    "duration": 171,
    "start_time": "2022-04-12T11:42:45.849Z"
   },
   {
    "duration": 166,
    "start_time": "2022-04-12T11:43:27.776Z"
   },
   {
    "duration": 239,
    "start_time": "2022-04-12T11:43:35.120Z"
   },
   {
    "duration": 171,
    "start_time": "2022-04-12T11:47:29.709Z"
   },
   {
    "duration": 199,
    "start_time": "2022-04-12T11:47:48.522Z"
   },
   {
    "duration": 184,
    "start_time": "2022-04-12T11:49:39.453Z"
   },
   {
    "duration": 115,
    "start_time": "2022-04-12T11:49:57.056Z"
   },
   {
    "duration": 238,
    "start_time": "2022-04-12T11:50:01.992Z"
   },
   {
    "duration": 220,
    "start_time": "2022-04-12T11:50:18.885Z"
   },
   {
    "duration": 286,
    "start_time": "2022-04-12T11:50:27.391Z"
   },
   {
    "duration": 210,
    "start_time": "2022-04-12T11:50:37.296Z"
   },
   {
    "duration": 224,
    "start_time": "2022-04-12T11:50:44.165Z"
   },
   {
    "duration": 208,
    "start_time": "2022-04-12T11:54:14.062Z"
   },
   {
    "duration": 226,
    "start_time": "2022-04-12T11:54:29.169Z"
   },
   {
    "duration": 243,
    "start_time": "2022-04-12T11:54:41.454Z"
   },
   {
    "duration": 91,
    "start_time": "2022-04-12T12:11:27.470Z"
   },
   {
    "duration": 238,
    "start_time": "2022-04-12T12:12:52.996Z"
   },
   {
    "duration": 235,
    "start_time": "2022-04-12T12:13:03.125Z"
   },
   {
    "duration": 204,
    "start_time": "2022-04-12T12:13:23.468Z"
   },
   {
    "duration": 231,
    "start_time": "2022-04-12T12:13:56.462Z"
   },
   {
    "duration": 220,
    "start_time": "2022-04-12T12:14:23.506Z"
   },
   {
    "duration": 503,
    "start_time": "2022-04-12T12:29:21.223Z"
   },
   {
    "duration": 5,
    "start_time": "2022-04-12T12:29:21.727Z"
   },
   {
    "duration": 10,
    "start_time": "2022-04-12T12:29:21.734Z"
   },
   {
    "duration": 436,
    "start_time": "2022-04-12T12:29:21.746Z"
   },
   {
    "duration": 4,
    "start_time": "2022-04-12T12:29:22.184Z"
   },
   {
    "duration": 23,
    "start_time": "2022-04-12T12:29:22.189Z"
   },
   {
    "duration": 7,
    "start_time": "2022-04-12T12:29:22.215Z"
   },
   {
    "duration": 8,
    "start_time": "2022-04-12T12:29:22.223Z"
   },
   {
    "duration": 10,
    "start_time": "2022-04-12T12:29:22.233Z"
   },
   {
    "duration": 11,
    "start_time": "2022-04-12T12:29:22.245Z"
   },
   {
    "duration": 93,
    "start_time": "2022-04-12T12:29:22.257Z"
   },
   {
    "duration": 0,
    "start_time": "2022-04-12T12:29:22.352Z"
   },
   {
    "duration": 0,
    "start_time": "2022-04-12T12:29:22.353Z"
   },
   {
    "duration": 0,
    "start_time": "2022-04-12T12:29:22.353Z"
   },
   {
    "duration": 0,
    "start_time": "2022-04-12T12:29:22.354Z"
   },
   {
    "duration": 0,
    "start_time": "2022-04-12T12:29:22.355Z"
   },
   {
    "duration": 0,
    "start_time": "2022-04-12T12:29:22.356Z"
   },
   {
    "duration": 0,
    "start_time": "2022-04-12T12:29:22.357Z"
   },
   {
    "duration": 0,
    "start_time": "2022-04-12T12:29:22.358Z"
   },
   {
    "duration": 0,
    "start_time": "2022-04-12T12:29:22.358Z"
   },
   {
    "duration": 0,
    "start_time": "2022-04-12T12:29:22.359Z"
   },
   {
    "duration": 0,
    "start_time": "2022-04-12T12:29:22.360Z"
   },
   {
    "duration": 0,
    "start_time": "2022-04-12T12:29:22.361Z"
   },
   {
    "duration": 15,
    "start_time": "2022-04-12T12:31:17.549Z"
   },
   {
    "duration": 14,
    "start_time": "2022-04-12T12:31:29.273Z"
   },
   {
    "duration": 18,
    "start_time": "2022-04-12T12:33:00.192Z"
   },
   {
    "duration": 33,
    "start_time": "2022-04-12T12:33:07.826Z"
   },
   {
    "duration": 64,
    "start_time": "2022-04-12T12:33:24.250Z"
   },
   {
    "duration": 16,
    "start_time": "2022-04-12T12:33:37.716Z"
   },
   {
    "duration": 474,
    "start_time": "2022-04-12T12:34:31.149Z"
   },
   {
    "duration": 5,
    "start_time": "2022-04-12T12:34:31.625Z"
   },
   {
    "duration": 18,
    "start_time": "2022-04-12T12:34:31.631Z"
   },
   {
    "duration": 468,
    "start_time": "2022-04-12T12:34:31.651Z"
   },
   {
    "duration": 4,
    "start_time": "2022-04-12T12:34:32.121Z"
   },
   {
    "duration": 17,
    "start_time": "2022-04-12T12:34:32.127Z"
   },
   {
    "duration": 8,
    "start_time": "2022-04-12T12:34:32.145Z"
   },
   {
    "duration": 10,
    "start_time": "2022-04-12T12:34:32.155Z"
   },
   {
    "duration": 12,
    "start_time": "2022-04-12T12:34:32.167Z"
   },
   {
    "duration": 15,
    "start_time": "2022-04-12T12:34:32.200Z"
   },
   {
    "duration": 10,
    "start_time": "2022-04-12T12:34:32.217Z"
   },
   {
    "duration": 16,
    "start_time": "2022-04-12T12:34:32.228Z"
   },
   {
    "duration": 4,
    "start_time": "2022-04-12T12:34:32.245Z"
   },
   {
    "duration": 12,
    "start_time": "2022-04-12T12:34:32.251Z"
   },
   {
    "duration": 339,
    "start_time": "2022-04-12T12:34:32.264Z"
   },
   {
    "duration": 25,
    "start_time": "2022-04-12T12:34:32.605Z"
   },
   {
    "duration": 272,
    "start_time": "2022-04-12T12:34:32.631Z"
   },
   {
    "duration": 213,
    "start_time": "2022-04-12T12:34:32.905Z"
   },
   {
    "duration": 137,
    "start_time": "2022-04-12T12:34:33.119Z"
   },
   {
    "duration": 183,
    "start_time": "2022-04-12T12:34:33.257Z"
   },
   {
    "duration": 216,
    "start_time": "2022-04-12T12:34:33.441Z"
   },
   {
    "duration": 256,
    "start_time": "2022-04-12T12:34:33.659Z"
   },
   {
    "duration": 290,
    "start_time": "2022-04-12T12:35:17.031Z"
   },
   {
    "duration": 220,
    "start_time": "2022-04-12T12:35:38.446Z"
   },
   {
    "duration": 220,
    "start_time": "2022-04-12T12:36:12.928Z"
   },
   {
    "duration": 389,
    "start_time": "2022-04-12T12:37:31.726Z"
   },
   {
    "duration": 81,
    "start_time": "2022-04-12T12:45:12.052Z"
   },
   {
    "duration": 45,
    "start_time": "2022-04-12T12:45:58.130Z"
   },
   {
    "duration": 24,
    "start_time": "2022-04-12T12:46:28.019Z"
   },
   {
    "duration": 52,
    "start_time": "2022-04-12T12:48:07.843Z"
   },
   {
    "duration": 98,
    "start_time": "2022-04-12T12:48:33.295Z"
   },
   {
    "duration": 18,
    "start_time": "2022-04-12T12:48:55.452Z"
   },
   {
    "duration": 58,
    "start_time": "2022-04-12T12:49:14.789Z"
   },
   {
    "duration": 13,
    "start_time": "2022-04-12T12:50:22.327Z"
   },
   {
    "duration": 12,
    "start_time": "2022-04-12T12:50:33.434Z"
   },
   {
    "duration": 12,
    "start_time": "2022-04-12T12:50:53.194Z"
   },
   {
    "duration": 15,
    "start_time": "2022-04-12T12:51:29.251Z"
   },
   {
    "duration": 528,
    "start_time": "2022-04-12T12:52:20.664Z"
   },
   {
    "duration": 7,
    "start_time": "2022-04-12T12:52:21.194Z"
   },
   {
    "duration": 11,
    "start_time": "2022-04-12T12:52:21.202Z"
   },
   {
    "duration": 463,
    "start_time": "2022-04-12T12:52:21.215Z"
   },
   {
    "duration": 4,
    "start_time": "2022-04-12T12:52:21.679Z"
   },
   {
    "duration": 22,
    "start_time": "2022-04-12T12:52:21.684Z"
   },
   {
    "duration": 7,
    "start_time": "2022-04-12T12:52:21.708Z"
   },
   {
    "duration": 8,
    "start_time": "2022-04-12T12:52:21.717Z"
   },
   {
    "duration": 12,
    "start_time": "2022-04-12T12:52:21.727Z"
   },
   {
    "duration": 11,
    "start_time": "2022-04-12T12:52:21.741Z"
   },
   {
    "duration": 7,
    "start_time": "2022-04-12T12:52:21.754Z"
   },
   {
    "duration": 44,
    "start_time": "2022-04-12T12:52:21.763Z"
   },
   {
    "duration": 4,
    "start_time": "2022-04-12T12:52:21.809Z"
   },
   {
    "duration": 17,
    "start_time": "2022-04-12T12:52:21.815Z"
   },
   {
    "duration": 325,
    "start_time": "2022-04-12T12:52:21.834Z"
   },
   {
    "duration": 22,
    "start_time": "2022-04-12T12:52:22.161Z"
   },
   {
    "duration": 257,
    "start_time": "2022-04-12T12:52:22.184Z"
   },
   {
    "duration": 203,
    "start_time": "2022-04-12T12:52:22.442Z"
   },
   {
    "duration": 132,
    "start_time": "2022-04-12T12:52:22.647Z"
   },
   {
    "duration": 173,
    "start_time": "2022-04-12T12:52:22.780Z"
   },
   {
    "duration": 233,
    "start_time": "2022-04-12T12:52:22.954Z"
   },
   {
    "duration": 228,
    "start_time": "2022-04-12T12:52:23.189Z"
   },
   {
    "duration": 129,
    "start_time": "2022-04-12T12:52:45.555Z"
   },
   {
    "duration": 198,
    "start_time": "2022-04-12T12:53:43.852Z"
   },
   {
    "duration": 181,
    "start_time": "2022-04-12T12:54:19.729Z"
   },
   {
    "duration": 184,
    "start_time": "2022-04-12T12:54:33.384Z"
   },
   {
    "duration": 268,
    "start_time": "2022-04-12T12:55:23.852Z"
   },
   {
    "duration": 195,
    "start_time": "2022-04-12T12:55:41.286Z"
   },
   {
    "duration": 126,
    "start_time": "2022-04-12T12:58:00.147Z"
   },
   {
    "duration": 127,
    "start_time": "2022-04-12T12:58:26.074Z"
   },
   {
    "duration": 124,
    "start_time": "2022-04-12T12:59:19.260Z"
   },
   {
    "duration": 127,
    "start_time": "2022-04-12T12:59:27.670Z"
   },
   {
    "duration": 126,
    "start_time": "2022-04-12T12:59:32.765Z"
   },
   {
    "duration": 124,
    "start_time": "2022-04-12T12:59:49.119Z"
   },
   {
    "duration": 124,
    "start_time": "2022-04-12T12:59:53.455Z"
   },
   {
    "duration": 126,
    "start_time": "2022-04-12T13:00:13.642Z"
   },
   {
    "duration": 281,
    "start_time": "2022-04-12T13:00:20.689Z"
   },
   {
    "duration": 200,
    "start_time": "2022-04-12T13:01:00.193Z"
   },
   {
    "duration": 207,
    "start_time": "2022-04-12T13:01:35.378Z"
   },
   {
    "duration": 216,
    "start_time": "2022-04-12T13:01:49.368Z"
   },
   {
    "duration": 213,
    "start_time": "2022-04-12T13:03:06.289Z"
   },
   {
    "duration": 214,
    "start_time": "2022-04-12T13:15:49.443Z"
   },
   {
    "duration": 278,
    "start_time": "2022-04-12T13:16:14.583Z"
   },
   {
    "duration": 202,
    "start_time": "2022-04-12T13:16:21.191Z"
   },
   {
    "duration": 349,
    "start_time": "2022-04-12T13:19:08.849Z"
   },
   {
    "duration": 429,
    "start_time": "2022-04-12T13:20:41.315Z"
   },
   {
    "duration": 313,
    "start_time": "2022-04-12T13:21:11.081Z"
   },
   {
    "duration": 18,
    "start_time": "2022-04-12T13:21:27.039Z"
   },
   {
    "duration": 27,
    "start_time": "2022-04-12T13:21:35.620Z"
   },
   {
    "duration": 46,
    "start_time": "2022-04-12T13:21:42.019Z"
   },
   {
    "duration": 93,
    "start_time": "2022-04-12T13:27:35.706Z"
   },
   {
    "duration": 20,
    "start_time": "2022-04-12T13:27:57.578Z"
   },
   {
    "duration": 44,
    "start_time": "2022-04-12T13:29:51.150Z"
   },
   {
    "duration": 41,
    "start_time": "2022-04-12T13:30:24.628Z"
   },
   {
    "duration": 89,
    "start_time": "2022-04-12T13:30:48.437Z"
   },
   {
    "duration": 42,
    "start_time": "2022-04-12T13:31:05.339Z"
   },
   {
    "duration": 299,
    "start_time": "2022-04-12T13:31:11.890Z"
   },
   {
    "duration": 216,
    "start_time": "2022-04-12T13:31:28.556Z"
   },
   {
    "duration": 6,
    "start_time": "2022-04-12T13:34:23.713Z"
   },
   {
    "duration": 688,
    "start_time": "2022-04-12T13:34:29.278Z"
   },
   {
    "duration": 6,
    "start_time": "2022-04-12T13:34:29.969Z"
   },
   {
    "duration": 10,
    "start_time": "2022-04-12T13:34:29.977Z"
   },
   {
    "duration": 424,
    "start_time": "2022-04-12T13:34:30.000Z"
   },
   {
    "duration": 4,
    "start_time": "2022-04-12T13:34:30.427Z"
   },
   {
    "duration": 13,
    "start_time": "2022-04-12T13:34:30.432Z"
   },
   {
    "duration": 11,
    "start_time": "2022-04-12T13:34:30.446Z"
   },
   {
    "duration": 15,
    "start_time": "2022-04-12T13:34:30.458Z"
   },
   {
    "duration": 12,
    "start_time": "2022-04-12T13:34:30.474Z"
   },
   {
    "duration": 12,
    "start_time": "2022-04-12T13:34:30.487Z"
   },
   {
    "duration": 7,
    "start_time": "2022-04-12T13:34:30.501Z"
   },
   {
    "duration": 11,
    "start_time": "2022-04-12T13:34:30.510Z"
   },
   {
    "duration": 25,
    "start_time": "2022-04-12T13:34:30.523Z"
   },
   {
    "duration": 4,
    "start_time": "2022-04-12T13:34:30.551Z"
   },
   {
    "duration": 26,
    "start_time": "2022-04-12T13:34:30.557Z"
   },
   {
    "duration": 347,
    "start_time": "2022-04-12T13:34:30.584Z"
   },
   {
    "duration": 25,
    "start_time": "2022-04-12T13:34:30.932Z"
   },
   {
    "duration": 448,
    "start_time": "2022-04-12T13:34:30.959Z"
   },
   {
    "duration": 227,
    "start_time": "2022-04-12T13:34:31.409Z"
   },
   {
    "duration": 141,
    "start_time": "2022-04-12T13:34:31.638Z"
   },
   {
    "duration": 216,
    "start_time": "2022-04-12T13:34:31.780Z"
   },
   {
    "duration": 305,
    "start_time": "2022-04-12T13:34:32.005Z"
   },
   {
    "duration": 231,
    "start_time": "2022-04-12T13:34:32.312Z"
   },
   {
    "duration": 295,
    "start_time": "2022-04-12T13:36:25.802Z"
   },
   {
    "duration": 107,
    "start_time": "2022-04-12T13:39:05.493Z"
   },
   {
    "duration": 211,
    "start_time": "2022-04-12T13:39:21.559Z"
   },
   {
    "duration": 213,
    "start_time": "2022-04-12T13:39:32.678Z"
   },
   {
    "duration": 207,
    "start_time": "2022-04-12T13:39:44.586Z"
   },
   {
    "duration": 3621,
    "start_time": "2022-04-12T13:40:17.979Z"
   },
   {
    "duration": 3766,
    "start_time": "2022-04-12T13:41:02.416Z"
   },
   {
    "duration": 277,
    "start_time": "2022-04-12T13:41:30.390Z"
   },
   {
    "duration": 258,
    "start_time": "2022-04-12T13:41:38.561Z"
   },
   {
    "duration": 507,
    "start_time": "2022-04-12T13:41:50.114Z"
   },
   {
    "duration": 209,
    "start_time": "2022-04-12T13:48:42.270Z"
   },
   {
    "duration": 221,
    "start_time": "2022-04-12T13:49:12.544Z"
   },
   {
    "duration": 208,
    "start_time": "2022-04-12T13:51:36.848Z"
   },
   {
    "duration": 265,
    "start_time": "2022-04-12T13:51:57.449Z"
   },
   {
    "duration": 185,
    "start_time": "2022-04-12T13:52:05.534Z"
   },
   {
    "duration": 172,
    "start_time": "2022-04-12T13:53:48.497Z"
   },
   {
    "duration": 97,
    "start_time": "2022-04-12T13:53:55.520Z"
   },
   {
    "duration": 456,
    "start_time": "2022-04-12T13:54:01.762Z"
   },
   {
    "duration": 299,
    "start_time": "2022-04-12T14:35:16.872Z"
   },
   {
    "duration": 677,
    "start_time": "2022-04-12T14:37:40.223Z"
   },
   {
    "duration": 303,
    "start_time": "2022-04-12T14:39:11.417Z"
   },
   {
    "duration": 296,
    "start_time": "2022-04-12T14:40:55.775Z"
   },
   {
    "duration": 299,
    "start_time": "2022-04-12T14:41:20.699Z"
   },
   {
    "duration": 288,
    "start_time": "2022-04-12T14:41:25.581Z"
   },
   {
    "duration": 336,
    "start_time": "2022-04-12T14:41:29.154Z"
   },
   {
    "duration": 406,
    "start_time": "2022-04-12T14:41:33.334Z"
   },
   {
    "duration": 293,
    "start_time": "2022-04-12T14:41:36.875Z"
   },
   {
    "duration": 174,
    "start_time": "2022-04-12T14:41:40.141Z"
   },
   {
    "duration": 300,
    "start_time": "2022-04-12T14:41:42.998Z"
   },
   {
    "duration": 288,
    "start_time": "2022-04-12T14:41:47.333Z"
   },
   {
    "duration": 293,
    "start_time": "2022-04-12T14:41:53.982Z"
   },
   {
    "duration": 397,
    "start_time": "2022-04-12T14:42:15.370Z"
   },
   {
    "duration": 297,
    "start_time": "2022-04-12T14:42:22.536Z"
   },
   {
    "duration": 304,
    "start_time": "2022-04-12T14:42:32.991Z"
   },
   {
    "duration": 293,
    "start_time": "2022-04-12T14:43:09.283Z"
   },
   {
    "duration": 287,
    "start_time": "2022-04-12T14:44:26.796Z"
   },
   {
    "duration": 288,
    "start_time": "2022-04-12T14:44:32.639Z"
   },
   {
    "duration": 386,
    "start_time": "2022-04-12T14:44:38.852Z"
   },
   {
    "duration": 291,
    "start_time": "2022-04-12T14:44:51.750Z"
   },
   {
    "duration": 2920,
    "start_time": "2022-04-12T14:53:52.132Z"
   },
   {
    "duration": 141,
    "start_time": "2022-04-12T14:54:07.658Z"
   },
   {
    "duration": 155,
    "start_time": "2022-04-12T15:07:14.292Z"
   },
   {
    "duration": 284,
    "start_time": "2022-04-12T15:11:57.758Z"
   },
   {
    "duration": 223,
    "start_time": "2022-04-12T15:19:37.891Z"
   },
   {
    "duration": 145,
    "start_time": "2022-04-12T15:19:43.571Z"
   },
   {
    "duration": 232,
    "start_time": "2022-04-12T15:22:44.986Z"
   },
   {
    "duration": 155,
    "start_time": "2022-04-12T15:46:32.492Z"
   },
   {
    "duration": 361,
    "start_time": "2022-04-12T15:46:39.876Z"
   },
   {
    "duration": 360,
    "start_time": "2022-04-12T15:47:16.778Z"
   },
   {
    "duration": 328,
    "start_time": "2022-04-12T15:47:28.300Z"
   },
   {
    "duration": 330,
    "start_time": "2022-04-12T15:47:40.877Z"
   },
   {
    "duration": 146,
    "start_time": "2022-04-12T15:48:29.075Z"
   },
   {
    "duration": 230,
    "start_time": "2022-04-12T15:55:40.162Z"
   },
   {
    "duration": 144,
    "start_time": "2022-04-12T15:55:52.059Z"
   },
   {
    "duration": 148,
    "start_time": "2022-04-12T15:56:16.805Z"
   },
   {
    "duration": 204,
    "start_time": "2022-04-12T15:57:10.043Z"
   },
   {
    "duration": 145,
    "start_time": "2022-04-12T15:57:54.053Z"
   },
   {
    "duration": 153,
    "start_time": "2022-04-12T16:14:31.536Z"
   },
   {
    "duration": 157,
    "start_time": "2022-04-12T16:15:03.432Z"
   },
   {
    "duration": 165,
    "start_time": "2022-04-12T16:15:48.083Z"
   },
   {
    "duration": 168,
    "start_time": "2022-04-12T16:19:10.758Z"
   },
   {
    "duration": 125,
    "start_time": "2022-04-12T16:19:27.757Z"
   },
   {
    "duration": 369,
    "start_time": "2022-04-12T16:20:10.371Z"
   },
   {
    "duration": 166,
    "start_time": "2022-04-12T16:23:53.682Z"
   },
   {
    "duration": 505,
    "start_time": "2022-04-12T16:23:58.541Z"
   },
   {
    "duration": 445,
    "start_time": "2022-04-12T16:25:50.927Z"
   },
   {
    "duration": 294,
    "start_time": "2022-04-12T16:26:33.015Z"
   },
   {
    "duration": 12,
    "start_time": "2022-04-12T16:27:23.239Z"
   },
   {
    "duration": 9,
    "start_time": "2022-04-12T16:27:30.242Z"
   },
   {
    "duration": 9,
    "start_time": "2022-04-12T16:27:37.151Z"
   },
   {
    "duration": 9,
    "start_time": "2022-04-12T16:27:56.355Z"
   },
   {
    "duration": 312,
    "start_time": "2022-04-12T16:28:20.277Z"
   },
   {
    "duration": 184,
    "start_time": "2022-04-12T16:30:32.348Z"
   },
   {
    "duration": 171,
    "start_time": "2022-04-12T16:30:39.426Z"
   },
   {
    "duration": 308,
    "start_time": "2022-04-12T16:30:44.672Z"
   },
   {
    "duration": 290,
    "start_time": "2022-04-12T16:30:56.658Z"
   },
   {
    "duration": 248,
    "start_time": "2022-04-12T16:31:18.040Z"
   },
   {
    "duration": 2802,
    "start_time": "2022-04-12T16:32:18.682Z"
   },
   {
    "duration": 2760,
    "start_time": "2022-04-12T16:32:25.552Z"
   },
   {
    "duration": 2895,
    "start_time": "2022-04-12T16:32:56.428Z"
   },
   {
    "duration": 267,
    "start_time": "2022-04-12T16:33:05.251Z"
   },
   {
    "duration": 357,
    "start_time": "2022-04-12T16:34:07.320Z"
   },
   {
    "duration": 277,
    "start_time": "2022-04-12T16:34:26.418Z"
   },
   {
    "duration": 265,
    "start_time": "2022-04-12T16:34:28.005Z"
   },
   {
    "duration": 268,
    "start_time": "2022-04-12T16:34:28.514Z"
   },
   {
    "duration": 270,
    "start_time": "2022-04-12T16:34:46.940Z"
   },
   {
    "duration": 173,
    "start_time": "2022-04-12T16:34:55.556Z"
   },
   {
    "duration": 31,
    "start_time": "2022-04-12T16:36:42.205Z"
   },
   {
    "duration": 313,
    "start_time": "2022-04-12T16:37:00.335Z"
   },
   {
    "duration": 364,
    "start_time": "2022-04-12T16:37:09.993Z"
   },
   {
    "duration": 352,
    "start_time": "2022-04-12T16:39:11.167Z"
   },
   {
    "duration": 435,
    "start_time": "2022-04-12T16:39:22.422Z"
   },
   {
    "duration": 364,
    "start_time": "2022-04-12T16:43:12.182Z"
   },
   {
    "duration": 372,
    "start_time": "2022-04-12T16:46:49.183Z"
   },
   {
    "duration": 365,
    "start_time": "2022-04-12T16:46:57.967Z"
   },
   {
    "duration": 232,
    "start_time": "2022-04-12T16:47:44.607Z"
   },
   {
    "duration": 2788,
    "start_time": "2022-04-12T16:53:51.062Z"
   },
   {
    "duration": 121,
    "start_time": "2022-04-12T16:54:07.384Z"
   },
   {
    "duration": 237,
    "start_time": "2022-04-12T16:54:25.759Z"
   },
   {
    "duration": 105,
    "start_time": "2022-04-12T16:54:50.680Z"
   },
   {
    "duration": 105,
    "start_time": "2022-04-12T16:55:02.309Z"
   },
   {
    "duration": 109,
    "start_time": "2022-04-12T16:55:10.036Z"
   },
   {
    "duration": 150,
    "start_time": "2022-04-12T16:55:24.188Z"
   },
   {
    "duration": 155,
    "start_time": "2022-04-12T16:55:51.589Z"
   },
   {
    "duration": 161,
    "start_time": "2022-04-12T16:57:09.145Z"
   },
   {
    "duration": 8,
    "start_time": "2022-04-12T16:57:13.559Z"
   },
   {
    "duration": 5,
    "start_time": "2022-04-12T16:57:24.285Z"
   },
   {
    "duration": 157,
    "start_time": "2022-04-12T16:57:32.387Z"
   },
   {
    "duration": 108,
    "start_time": "2022-04-12T16:59:02.895Z"
   },
   {
    "duration": 92,
    "start_time": "2022-04-12T16:59:40.647Z"
   },
   {
    "duration": 90,
    "start_time": "2022-04-12T16:59:49.882Z"
   },
   {
    "duration": 102,
    "start_time": "2022-04-12T17:00:01.346Z"
   },
   {
    "duration": 176,
    "start_time": "2022-04-12T17:00:25.509Z"
   },
   {
    "duration": 103,
    "start_time": "2022-04-12T17:00:29.365Z"
   },
   {
    "duration": 183,
    "start_time": "2022-04-12T17:00:47.836Z"
   },
   {
    "duration": 91,
    "start_time": "2022-04-12T17:01:09.546Z"
   },
   {
    "duration": 93,
    "start_time": "2022-04-12T17:01:16.774Z"
   },
   {
    "duration": 163,
    "start_time": "2022-04-12T17:01:32.184Z"
   },
   {
    "duration": 95,
    "start_time": "2022-04-12T17:01:34.843Z"
   },
   {
    "duration": 99,
    "start_time": "2022-04-12T17:02:07.414Z"
   },
   {
    "duration": 327,
    "start_time": "2022-04-12T17:03:06.949Z"
   },
   {
    "duration": 328,
    "start_time": "2022-04-12T17:03:24.454Z"
   },
   {
    "duration": 248,
    "start_time": "2022-04-12T17:03:52.010Z"
   },
   {
    "duration": 275,
    "start_time": "2022-04-12T17:05:16.278Z"
   },
   {
    "duration": 274,
    "start_time": "2022-04-12T17:06:35.564Z"
   },
   {
    "duration": 365,
    "start_time": "2022-04-12T17:06:50.295Z"
   },
   {
    "duration": 262,
    "start_time": "2022-04-12T17:06:54.891Z"
   },
   {
    "duration": 33,
    "start_time": "2022-04-12T17:09:57.801Z"
   },
   {
    "duration": 619,
    "start_time": "2022-04-13T10:57:24.521Z"
   },
   {
    "duration": 8,
    "start_time": "2022-04-13T10:57:25.143Z"
   },
   {
    "duration": 25,
    "start_time": "2022-04-13T10:57:25.153Z"
   },
   {
    "duration": 763,
    "start_time": "2022-04-13T10:57:25.181Z"
   },
   {
    "duration": 7,
    "start_time": "2022-04-13T10:57:25.946Z"
   },
   {
    "duration": 27,
    "start_time": "2022-04-13T10:57:25.955Z"
   },
   {
    "duration": 10,
    "start_time": "2022-04-13T10:57:25.986Z"
   },
   {
    "duration": 22,
    "start_time": "2022-04-13T10:57:25.999Z"
   },
   {
    "duration": 20,
    "start_time": "2022-04-13T10:57:26.024Z"
   },
   {
    "duration": 39,
    "start_time": "2022-04-13T10:57:26.048Z"
   },
   {
    "duration": 7,
    "start_time": "2022-04-13T10:57:26.092Z"
   },
   {
    "duration": 14,
    "start_time": "2022-04-13T10:57:26.102Z"
   },
   {
    "duration": 54,
    "start_time": "2022-04-13T10:57:26.120Z"
   },
   {
    "duration": 7,
    "start_time": "2022-04-13T10:57:26.176Z"
   },
   {
    "duration": 22,
    "start_time": "2022-04-13T10:57:26.186Z"
   },
   {
    "duration": 681,
    "start_time": "2022-04-13T10:57:26.210Z"
   },
   {
    "duration": 49,
    "start_time": "2022-04-13T10:57:26.893Z"
   },
   {
    "duration": 416,
    "start_time": "2022-04-13T10:57:26.945Z"
   },
   {
    "duration": 313,
    "start_time": "2022-04-13T10:57:27.363Z"
   },
   {
    "duration": 241,
    "start_time": "2022-04-13T10:57:27.679Z"
   },
   {
    "duration": 207,
    "start_time": "2022-04-13T10:57:27.922Z"
   },
   {
    "duration": 270,
    "start_time": "2022-04-13T10:57:28.132Z"
   },
   {
    "duration": 372,
    "start_time": "2022-04-13T10:57:28.404Z"
   },
   {
    "duration": 310,
    "start_time": "2022-04-13T10:57:28.778Z"
   },
   {
    "duration": 374,
    "start_time": "2022-04-13T10:57:29.090Z"
   },
   {
    "duration": 376,
    "start_time": "2022-04-13T10:57:29.467Z"
   },
   {
    "duration": 38,
    "start_time": "2022-04-13T10:57:29.844Z"
   },
   {
    "duration": 765,
    "start_time": "2022-04-13T11:31:41.774Z"
   },
   {
    "duration": 133,
    "start_time": "2022-04-13T11:32:00.827Z"
   },
   {
    "duration": 137,
    "start_time": "2022-04-13T11:33:47.433Z"
   },
   {
    "duration": 22,
    "start_time": "2022-04-13T11:33:54.614Z"
   },
   {
    "duration": 24,
    "start_time": "2022-04-13T11:34:09.910Z"
   },
   {
    "duration": 161,
    "start_time": "2022-04-13T11:34:13.602Z"
   },
   {
    "duration": 190,
    "start_time": "2022-04-13T11:36:30.960Z"
   },
   {
    "duration": 179,
    "start_time": "2022-04-13T11:36:59.269Z"
   },
   {
    "duration": 176,
    "start_time": "2022-04-13T11:37:18.646Z"
   },
   {
    "duration": 288,
    "start_time": "2022-04-13T11:37:29.971Z"
   },
   {
    "duration": 181,
    "start_time": "2022-04-13T11:37:51.939Z"
   },
   {
    "duration": 173,
    "start_time": "2022-04-13T11:38:00.664Z"
   },
   {
    "duration": 167,
    "start_time": "2022-04-13T11:38:05.400Z"
   },
   {
    "duration": 139,
    "start_time": "2022-04-13T11:38:33.035Z"
   },
   {
    "duration": 144,
    "start_time": "2022-04-13T11:39:12.003Z"
   },
   {
    "duration": 157,
    "start_time": "2022-04-13T11:40:08.104Z"
   },
   {
    "duration": 40,
    "start_time": "2022-04-13T11:42:08.838Z"
   },
   {
    "duration": 15,
    "start_time": "2022-04-13T11:45:40.151Z"
   },
   {
    "duration": 136,
    "start_time": "2022-04-13T11:45:48.117Z"
   },
   {
    "duration": 155,
    "start_time": "2022-04-13T11:46:21.998Z"
   },
   {
    "duration": 25,
    "start_time": "2022-04-13T11:48:10.224Z"
   },
   {
    "duration": 160,
    "start_time": "2022-04-13T11:48:35.035Z"
   },
   {
    "duration": 38,
    "start_time": "2022-04-13T11:49:26.530Z"
   },
   {
    "duration": 267,
    "start_time": "2022-04-13T11:49:35.514Z"
   },
   {
    "duration": 341,
    "start_time": "2022-04-13T11:52:32.030Z"
   },
   {
    "duration": 260,
    "start_time": "2022-04-13T11:53:05.261Z"
   },
   {
    "duration": 130,
    "start_time": "2022-04-13T11:56:00.757Z"
   },
   {
    "duration": 122,
    "start_time": "2022-04-13T13:31:41.124Z"
   },
   {
    "duration": 25,
    "start_time": "2022-04-13T13:33:57.286Z"
   },
   {
    "duration": 10,
    "start_time": "2022-04-13T13:40:46.818Z"
   },
   {
    "duration": 9,
    "start_time": "2022-04-13T13:40:52.189Z"
   },
   {
    "duration": 149,
    "start_time": "2022-04-13T13:41:19.155Z"
   },
   {
    "duration": 114,
    "start_time": "2022-04-13T13:41:47.728Z"
   },
   {
    "duration": 104,
    "start_time": "2022-04-13T13:41:55.788Z"
   },
   {
    "duration": 103,
    "start_time": "2022-04-13T13:41:59.823Z"
   },
   {
    "duration": 108,
    "start_time": "2022-04-13T13:42:03.759Z"
   },
   {
    "duration": 117,
    "start_time": "2022-04-13T13:42:09.310Z"
   },
   {
    "duration": 105,
    "start_time": "2022-04-13T13:42:51.585Z"
   },
   {
    "duration": 183,
    "start_time": "2022-04-13T13:44:26.918Z"
   },
   {
    "duration": 244,
    "start_time": "2022-04-13T13:44:40.767Z"
   },
   {
    "duration": 117,
    "start_time": "2022-04-13T13:44:47.940Z"
   },
   {
    "duration": 140,
    "start_time": "2022-04-13T13:45:00.148Z"
   },
   {
    "duration": 148,
    "start_time": "2022-04-13T13:45:08.107Z"
   },
   {
    "duration": 128,
    "start_time": "2022-04-13T13:45:12.395Z"
   },
   {
    "duration": 111,
    "start_time": "2022-04-13T13:45:17.714Z"
   },
   {
    "duration": 134,
    "start_time": "2022-04-13T13:45:23.831Z"
   },
   {
    "duration": 121,
    "start_time": "2022-04-13T13:45:28.698Z"
   },
   {
    "duration": 158,
    "start_time": "2022-04-13T13:45:43.965Z"
   },
   {
    "duration": 161,
    "start_time": "2022-04-13T13:45:57.246Z"
   },
   {
    "duration": 168,
    "start_time": "2022-04-13T13:46:02.797Z"
   },
   {
    "duration": 141,
    "start_time": "2022-04-13T13:46:09.825Z"
   },
   {
    "duration": 150,
    "start_time": "2022-04-13T13:47:51.211Z"
   },
   {
    "duration": 145,
    "start_time": "2022-04-13T13:48:02.321Z"
   },
   {
    "duration": 2086,
    "start_time": "2022-04-13T13:49:01.187Z"
   },
   {
    "duration": 1845,
    "start_time": "2022-04-13T13:49:24.342Z"
   },
   {
    "duration": 201,
    "start_time": "2022-04-13T13:49:33.565Z"
   },
   {
    "duration": 286,
    "start_time": "2022-04-13T13:49:38.940Z"
   },
   {
    "duration": 276,
    "start_time": "2022-04-13T13:55:35.161Z"
   },
   {
    "duration": 109,
    "start_time": "2022-04-13T13:56:26.740Z"
   },
   {
    "duration": 141,
    "start_time": "2022-04-13T13:56:44.334Z"
   },
   {
    "duration": 303,
    "start_time": "2022-04-13T13:58:20.222Z"
   },
   {
    "duration": 304,
    "start_time": "2022-04-13T13:58:46.523Z"
   },
   {
    "duration": 44,
    "start_time": "2022-04-14T11:24:38.835Z"
   },
   {
    "duration": 491,
    "start_time": "2022-04-14T11:25:10.357Z"
   },
   {
    "duration": 6,
    "start_time": "2022-04-14T11:25:10.849Z"
   },
   {
    "duration": 11,
    "start_time": "2022-04-14T11:25:10.856Z"
   },
   {
    "duration": 580,
    "start_time": "2022-04-14T11:25:10.869Z"
   },
   {
    "duration": 5,
    "start_time": "2022-04-14T11:25:11.450Z"
   },
   {
    "duration": 12,
    "start_time": "2022-04-14T11:25:11.456Z"
   },
   {
    "duration": 7,
    "start_time": "2022-04-14T11:25:11.469Z"
   },
   {
    "duration": 27,
    "start_time": "2022-04-14T11:25:11.477Z"
   },
   {
    "duration": 12,
    "start_time": "2022-04-14T11:25:11.505Z"
   },
   {
    "duration": 11,
    "start_time": "2022-04-14T11:25:11.520Z"
   },
   {
    "duration": 4,
    "start_time": "2022-04-14T11:25:11.533Z"
   },
   {
    "duration": 9,
    "start_time": "2022-04-14T11:25:11.539Z"
   },
   {
    "duration": 17,
    "start_time": "2022-04-14T11:25:11.549Z"
   },
   {
    "duration": 3,
    "start_time": "2022-04-14T11:25:11.567Z"
   },
   {
    "duration": 11,
    "start_time": "2022-04-14T11:25:11.600Z"
   },
   {
    "duration": 374,
    "start_time": "2022-04-14T11:25:11.613Z"
   },
   {
    "duration": 28,
    "start_time": "2022-04-14T11:25:11.988Z"
   },
   {
    "duration": 229,
    "start_time": "2022-04-14T11:25:12.017Z"
   },
   {
    "duration": 209,
    "start_time": "2022-04-14T11:25:12.248Z"
   },
   {
    "duration": 142,
    "start_time": "2022-04-14T11:25:12.458Z"
   },
   {
    "duration": 169,
    "start_time": "2022-04-14T11:25:12.601Z"
   },
   {
    "duration": 234,
    "start_time": "2022-04-14T11:25:12.772Z"
   },
   {
    "duration": 312,
    "start_time": "2022-04-14T11:25:13.008Z"
   },
   {
    "duration": 232,
    "start_time": "2022-04-14T11:25:13.322Z"
   },
   {
    "duration": 246,
    "start_time": "2022-04-14T11:25:13.556Z"
   },
   {
    "duration": 284,
    "start_time": "2022-04-14T11:25:13.803Z"
   },
   {
    "duration": 131,
    "start_time": "2022-04-14T11:25:14.089Z"
   },
   {
    "duration": 263,
    "start_time": "2022-04-14T11:25:14.223Z"
   },
   {
    "duration": 195,
    "start_time": "2022-04-14T11:26:23.254Z"
   },
   {
    "duration": 189,
    "start_time": "2022-04-14T11:26:57.938Z"
   },
   {
    "duration": 240,
    "start_time": "2022-04-14T11:27:08.644Z"
   },
   {
    "duration": 245,
    "start_time": "2022-04-14T11:33:09.445Z"
   },
   {
    "duration": 254,
    "start_time": "2022-04-14T11:38:01.172Z"
   },
   {
    "duration": 231,
    "start_time": "2022-04-14T11:38:19.072Z"
   },
   {
    "duration": 240,
    "start_time": "2022-04-14T11:38:31.936Z"
   },
   {
    "duration": 231,
    "start_time": "2022-04-14T11:39:14.937Z"
   },
   {
    "duration": 250,
    "start_time": "2022-04-14T11:39:26.900Z"
   },
   {
    "duration": 481,
    "start_time": "2022-04-14T11:47:06.119Z"
   },
   {
    "duration": 508,
    "start_time": "2022-04-14T11:48:55.671Z"
   },
   {
    "duration": 500,
    "start_time": "2022-04-14T11:49:41.186Z"
   },
   {
    "duration": 36,
    "start_time": "2022-04-14T12:01:15.828Z"
   },
   {
    "duration": 0,
    "start_time": "2022-04-14T12:17:36.575Z"
   },
   {
    "duration": 19,
    "start_time": "2022-04-14T12:22:07.369Z"
   },
   {
    "duration": 27,
    "start_time": "2022-04-14T12:23:41.523Z"
   },
   {
    "duration": 30,
    "start_time": "2022-04-14T12:24:07.615Z"
   },
   {
    "duration": 28,
    "start_time": "2022-04-14T12:24:12.088Z"
   },
   {
    "duration": 27,
    "start_time": "2022-04-14T12:24:23.983Z"
   },
   {
    "duration": 20,
    "start_time": "2022-04-14T12:25:28.793Z"
   },
   {
    "duration": 19,
    "start_time": "2022-04-14T12:26:03.756Z"
   },
   {
    "duration": 20,
    "start_time": "2022-04-14T12:29:15.566Z"
   },
   {
    "duration": 18,
    "start_time": "2022-04-14T12:33:00.071Z"
   },
   {
    "duration": 19,
    "start_time": "2022-04-14T12:33:09.798Z"
   },
   {
    "duration": 15,
    "start_time": "2022-04-14T12:33:18.898Z"
   },
   {
    "duration": 15,
    "start_time": "2022-04-14T12:33:23.687Z"
   },
   {
    "duration": 14,
    "start_time": "2022-04-14T12:33:49.222Z"
   },
   {
    "duration": 18,
    "start_time": "2022-04-14T12:33:55.451Z"
   },
   {
    "duration": 192,
    "start_time": "2022-04-14T12:45:39.060Z"
   },
   {
    "duration": 205,
    "start_time": "2022-04-14T12:45:47.287Z"
   },
   {
    "duration": 207,
    "start_time": "2022-04-14T12:50:01.768Z"
   },
   {
    "duration": 204,
    "start_time": "2022-04-14T12:50:26.984Z"
   },
   {
    "duration": 4,
    "start_time": "2022-04-14T12:51:30.657Z"
   },
   {
    "duration": 21,
    "start_time": "2022-04-14T12:51:40.965Z"
   },
   {
    "duration": 19,
    "start_time": "2022-04-14T12:55:37.897Z"
   },
   {
    "duration": 132,
    "start_time": "2022-04-14T12:55:53.818Z"
   },
   {
    "duration": 131,
    "start_time": "2022-04-14T12:56:51.458Z"
   },
   {
    "duration": 128,
    "start_time": "2022-04-14T12:57:03.348Z"
   },
   {
    "duration": 206,
    "start_time": "2022-04-14T12:59:34.729Z"
   },
   {
    "duration": 134,
    "start_time": "2022-04-14T13:03:36.062Z"
   },
   {
    "duration": 132,
    "start_time": "2022-04-14T13:04:07.819Z"
   },
   {
    "duration": 141,
    "start_time": "2022-04-14T13:04:47.434Z"
   },
   {
    "duration": 137,
    "start_time": "2022-04-14T13:04:57.411Z"
   },
   {
    "duration": 142,
    "start_time": "2022-04-14T13:05:35.384Z"
   },
   {
    "duration": 140,
    "start_time": "2022-04-14T13:06:02.083Z"
   },
   {
    "duration": 130,
    "start_time": "2022-04-14T13:06:09.642Z"
   },
   {
    "duration": 140,
    "start_time": "2022-04-14T13:06:17.938Z"
   },
   {
    "duration": 9,
    "start_time": "2022-04-14T13:09:50.429Z"
   },
   {
    "duration": 129,
    "start_time": "2022-04-14T13:16:31.616Z"
   },
   {
    "duration": 269,
    "start_time": "2022-04-14T13:17:02.817Z"
   },
   {
    "duration": 299,
    "start_time": "2022-04-14T13:22:00.361Z"
   },
   {
    "duration": 293,
    "start_time": "2022-04-14T13:22:21.480Z"
   },
   {
    "duration": 485,
    "start_time": "2022-04-14T13:23:50.317Z"
   },
   {
    "duration": 290,
    "start_time": "2022-04-14T13:25:19.264Z"
   },
   {
    "duration": 199,
    "start_time": "2022-04-14T13:25:32.236Z"
   },
   {
    "duration": 229,
    "start_time": "2022-04-14T13:26:04.387Z"
   },
   {
    "duration": 429,
    "start_time": "2022-04-14T13:26:23.321Z"
   },
   {
    "duration": 549,
    "start_time": "2022-04-14T13:26:48.133Z"
   },
   {
    "duration": 187,
    "start_time": "2022-04-14T13:27:24.192Z"
   },
   {
    "duration": 422,
    "start_time": "2022-04-14T13:27:33.058Z"
   },
   {
    "duration": 406,
    "start_time": "2022-04-14T13:27:44.709Z"
   },
   {
    "duration": 557,
    "start_time": "2022-04-14T13:29:07.071Z"
   },
   {
    "duration": 437,
    "start_time": "2022-04-14T13:29:19.440Z"
   },
   {
    "duration": 806,
    "start_time": "2022-04-14T13:29:43.724Z"
   },
   {
    "duration": 444,
    "start_time": "2022-04-14T13:30:02.000Z"
   },
   {
    "duration": 895,
    "start_time": "2022-04-14T13:30:25.139Z"
   },
   {
    "duration": 665,
    "start_time": "2022-04-14T13:32:21.520Z"
   },
   {
    "duration": 498,
    "start_time": "2022-04-14T13:32:36.389Z"
   },
   {
    "duration": 6473,
    "start_time": "2022-04-14T13:32:43.292Z"
   },
   {
    "duration": 260,
    "start_time": "2022-04-14T13:36:48.337Z"
   },
   {
    "duration": 716,
    "start_time": "2022-04-14T13:37:03.421Z"
   },
   {
    "duration": 1096,
    "start_time": "2022-04-14T13:39:16.215Z"
   },
   {
    "duration": 963,
    "start_time": "2022-04-14T13:39:53.316Z"
   },
   {
    "duration": 990,
    "start_time": "2022-04-14T13:40:02.228Z"
   },
   {
    "duration": 482,
    "start_time": "2022-04-15T09:01:07.234Z"
   },
   {
    "duration": 5,
    "start_time": "2022-04-15T09:01:07.718Z"
   },
   {
    "duration": 14,
    "start_time": "2022-04-15T09:01:07.725Z"
   },
   {
    "duration": 550,
    "start_time": "2022-04-15T09:01:07.740Z"
   },
   {
    "duration": 11,
    "start_time": "2022-04-15T09:01:08.291Z"
   },
   {
    "duration": 12,
    "start_time": "2022-04-15T09:01:08.304Z"
   },
   {
    "duration": 7,
    "start_time": "2022-04-15T09:01:08.317Z"
   },
   {
    "duration": 8,
    "start_time": "2022-04-15T09:01:08.325Z"
   },
   {
    "duration": 12,
    "start_time": "2022-04-15T09:01:08.334Z"
   },
   {
    "duration": 11,
    "start_time": "2022-04-15T09:01:08.348Z"
   },
   {
    "duration": 4,
    "start_time": "2022-04-15T09:01:08.361Z"
   },
   {
    "duration": 8,
    "start_time": "2022-04-15T09:01:08.399Z"
   },
   {
    "duration": 21,
    "start_time": "2022-04-15T09:01:08.408Z"
   },
   {
    "duration": 8,
    "start_time": "2022-04-15T09:01:08.430Z"
   },
   {
    "duration": 20,
    "start_time": "2022-04-15T09:01:08.440Z"
   },
   {
    "duration": 353,
    "start_time": "2022-04-15T09:01:08.462Z"
   },
   {
    "duration": 22,
    "start_time": "2022-04-15T09:01:08.817Z"
   },
   {
    "duration": 222,
    "start_time": "2022-04-15T09:01:08.840Z"
   },
   {
    "duration": 203,
    "start_time": "2022-04-15T09:01:09.063Z"
   },
   {
    "duration": 134,
    "start_time": "2022-04-15T09:01:09.268Z"
   },
   {
    "duration": 176,
    "start_time": "2022-04-15T09:01:09.403Z"
   },
   {
    "duration": 223,
    "start_time": "2022-04-15T09:01:09.581Z"
   },
   {
    "duration": 310,
    "start_time": "2022-04-15T09:01:09.806Z"
   },
   {
    "duration": 229,
    "start_time": "2022-04-15T09:01:10.118Z"
   },
   {
    "duration": 234,
    "start_time": "2022-04-15T09:01:10.348Z"
   },
   {
    "duration": 281,
    "start_time": "2022-04-15T09:01:10.583Z"
   },
   {
    "duration": 114,
    "start_time": "2022-04-15T09:01:10.865Z"
   },
   {
    "duration": 534,
    "start_time": "2022-04-15T09:01:10.982Z"
   },
   {
    "duration": 20,
    "start_time": "2022-04-15T09:01:11.518Z"
   },
   {
    "duration": 150,
    "start_time": "2022-04-15T09:01:11.540Z"
   },
   {
    "duration": 887,
    "start_time": "2022-04-15T09:01:11.692Z"
   },
   {
    "duration": 148,
    "start_time": "2022-04-15T09:03:45.325Z"
   },
   {
    "duration": 111,
    "start_time": "2022-04-15T09:05:29.356Z"
   },
   {
    "duration": 236,
    "start_time": "2022-04-15T09:05:56.391Z"
   },
   {
    "duration": 216,
    "start_time": "2022-04-15T09:16:27.845Z"
   },
   {
    "duration": 213,
    "start_time": "2022-04-15T09:16:43.055Z"
   },
   {
    "duration": 204,
    "start_time": "2022-04-15T09:16:54.336Z"
   },
   {
    "duration": 199,
    "start_time": "2022-04-15T09:17:03.987Z"
   },
   {
    "duration": 219,
    "start_time": "2022-04-15T09:17:27.168Z"
   },
   {
    "duration": 710,
    "start_time": "2022-04-15T09:17:43.311Z"
   },
   {
    "duration": 658,
    "start_time": "2022-04-15T09:18:35.293Z"
   },
   {
    "duration": 706,
    "start_time": "2022-04-15T09:18:48.122Z"
   },
   {
    "duration": 653,
    "start_time": "2022-04-15T09:19:18.106Z"
   },
   {
    "duration": 550,
    "start_time": "2022-04-15T09:24:47.225Z"
   },
   {
    "duration": 619,
    "start_time": "2022-04-15T09:25:11.343Z"
   },
   {
    "duration": 471,
    "start_time": "2022-04-15T09:45:04.006Z"
   },
   {
    "duration": 474,
    "start_time": "2022-04-15T09:47:00.183Z"
   },
   {
    "duration": 441,
    "start_time": "2022-04-15T09:47:04.231Z"
   },
   {
    "duration": 448,
    "start_time": "2022-04-15T09:47:10.801Z"
   },
   {
    "duration": 555,
    "start_time": "2022-04-15T09:47:17.608Z"
   },
   {
    "duration": 466,
    "start_time": "2022-04-15T09:47:22.778Z"
   },
   {
    "duration": 437,
    "start_time": "2022-04-15T09:47:26.894Z"
   },
   {
    "duration": 437,
    "start_time": "2022-04-15T09:47:31.538Z"
   },
   {
    "duration": 439,
    "start_time": "2022-04-15T09:48:02.163Z"
   },
   {
    "duration": 610,
    "start_time": "2022-04-15T09:50:43.216Z"
   },
   {
    "duration": 649,
    "start_time": "2022-04-15T10:07:11.303Z"
   },
   {
    "duration": 613,
    "start_time": "2022-04-15T10:07:44.209Z"
   },
   {
    "duration": 238,
    "start_time": "2022-04-15T10:08:41.001Z"
   },
   {
    "duration": 606,
    "start_time": "2022-04-15T10:10:23.633Z"
   },
   {
    "duration": 125,
    "start_time": "2022-04-15T10:12:32.529Z"
   },
   {
    "duration": 428,
    "start_time": "2022-04-15T10:13:22.035Z"
   },
   {
    "duration": 421,
    "start_time": "2022-04-15T10:13:37.355Z"
   },
   {
    "duration": 618,
    "start_time": "2022-04-15T10:15:19.119Z"
   },
   {
    "duration": 196,
    "start_time": "2022-04-15T10:25:59.854Z"
   },
   {
    "duration": 116,
    "start_time": "2022-04-15T10:26:06.407Z"
   },
   {
    "duration": 539,
    "start_time": "2022-04-15T10:26:52.115Z"
   },
   {
    "duration": 422,
    "start_time": "2022-04-15T10:27:12.915Z"
   },
   {
    "duration": 617,
    "start_time": "2022-04-15T10:27:24.210Z"
   },
   {
    "duration": 201,
    "start_time": "2022-04-15T10:35:41.135Z"
   },
   {
    "duration": 534,
    "start_time": "2022-04-15T10:39:40.116Z"
   },
   {
    "duration": 534,
    "start_time": "2022-04-15T10:42:39.497Z"
   },
   {
    "duration": 7,
    "start_time": "2022-04-15T10:42:40.033Z"
   },
   {
    "duration": 266,
    "start_time": "2022-04-15T10:42:40.041Z"
   },
   {
    "duration": 1315,
    "start_time": "2022-04-15T10:42:40.309Z"
   },
   {
    "duration": 3,
    "start_time": "2022-04-15T10:42:41.626Z"
   },
   {
    "duration": 9,
    "start_time": "2022-04-15T10:42:41.631Z"
   },
   {
    "duration": 9,
    "start_time": "2022-04-15T10:42:41.642Z"
   },
   {
    "duration": 9,
    "start_time": "2022-04-15T10:42:41.653Z"
   },
   {
    "duration": 38,
    "start_time": "2022-04-15T10:42:41.663Z"
   },
   {
    "duration": 12,
    "start_time": "2022-04-15T10:42:41.702Z"
   },
   {
    "duration": 4,
    "start_time": "2022-04-15T10:42:41.716Z"
   },
   {
    "duration": 8,
    "start_time": "2022-04-15T10:42:41.722Z"
   },
   {
    "duration": 15,
    "start_time": "2022-04-15T10:42:41.731Z"
   },
   {
    "duration": 3,
    "start_time": "2022-04-15T10:42:41.749Z"
   },
   {
    "duration": 13,
    "start_time": "2022-04-15T10:42:41.753Z"
   },
   {
    "duration": 334,
    "start_time": "2022-04-15T10:42:41.799Z"
   },
   {
    "duration": 23,
    "start_time": "2022-04-15T10:42:42.134Z"
   },
   {
    "duration": 256,
    "start_time": "2022-04-15T10:42:42.158Z"
   },
   {
    "duration": 203,
    "start_time": "2022-04-15T10:42:42.415Z"
   },
   {
    "duration": 129,
    "start_time": "2022-04-15T10:42:42.620Z"
   },
   {
    "duration": 164,
    "start_time": "2022-04-15T10:42:42.750Z"
   },
   {
    "duration": 219,
    "start_time": "2022-04-15T10:42:42.916Z"
   },
   {
    "duration": 284,
    "start_time": "2022-04-15T10:42:43.137Z"
   },
   {
    "duration": 226,
    "start_time": "2022-04-15T10:42:43.423Z"
   },
   {
    "duration": 227,
    "start_time": "2022-04-15T10:42:43.650Z"
   },
   {
    "duration": 287,
    "start_time": "2022-04-15T10:42:43.878Z"
   },
   {
    "duration": 115,
    "start_time": "2022-04-15T10:42:44.167Z"
   },
   {
    "duration": 499,
    "start_time": "2022-04-15T10:42:44.284Z"
   },
   {
    "duration": 27,
    "start_time": "2022-04-15T10:42:44.784Z"
   },
   {
    "duration": 145,
    "start_time": "2022-04-15T10:42:44.812Z"
   },
   {
    "duration": 862,
    "start_time": "2022-04-15T10:42:44.958Z"
   },
   {
    "duration": 561,
    "start_time": "2022-04-15T10:42:45.822Z"
   },
   {
    "duration": 474,
    "start_time": "2022-04-15T10:42:46.385Z"
   },
   {
    "duration": 247,
    "start_time": "2022-04-15T10:44:22.709Z"
   },
   {
    "duration": 420,
    "start_time": "2022-04-15T10:47:36.274Z"
   },
   {
    "duration": 292,
    "start_time": "2022-04-15T11:35:16.411Z"
   },
   {
    "duration": 292,
    "start_time": "2022-04-15T11:35:23.431Z"
   },
   {
    "duration": 289,
    "start_time": "2022-04-15T11:35:29.030Z"
   },
   {
    "duration": 732,
    "start_time": "2022-04-24T17:30:03.637Z"
   },
   {
    "duration": 6,
    "start_time": "2022-04-24T17:30:04.371Z"
   },
   {
    "duration": 21,
    "start_time": "2022-04-24T17:30:04.378Z"
   },
   {
    "duration": 617,
    "start_time": "2022-04-24T17:30:04.402Z"
   },
   {
    "duration": 6,
    "start_time": "2022-04-24T17:30:05.022Z"
   },
   {
    "duration": 31,
    "start_time": "2022-04-24T17:30:05.030Z"
   },
   {
    "duration": 11,
    "start_time": "2022-04-24T17:30:05.064Z"
   },
   {
    "duration": 17,
    "start_time": "2022-04-24T17:30:05.078Z"
   },
   {
    "duration": 18,
    "start_time": "2022-04-24T17:30:05.097Z"
   },
   {
    "duration": 44,
    "start_time": "2022-04-24T17:30:05.119Z"
   },
   {
    "duration": 6,
    "start_time": "2022-04-24T17:30:05.165Z"
   },
   {
    "duration": 11,
    "start_time": "2022-04-24T17:30:05.173Z"
   },
   {
    "duration": 28,
    "start_time": "2022-04-24T17:30:05.186Z"
   },
   {
    "duration": 5,
    "start_time": "2022-04-24T17:30:05.216Z"
   },
   {
    "duration": 33,
    "start_time": "2022-04-24T17:30:05.222Z"
   },
   {
    "duration": 556,
    "start_time": "2022-04-24T17:30:05.257Z"
   },
   {
    "duration": 26,
    "start_time": "2022-04-24T17:30:05.815Z"
   },
   {
    "duration": 299,
    "start_time": "2022-04-24T17:30:05.855Z"
   },
   {
    "duration": 230,
    "start_time": "2022-04-24T17:30:06.156Z"
   },
   {
    "duration": 230,
    "start_time": "2022-04-24T17:30:06.388Z"
   },
   {
    "duration": 297,
    "start_time": "2022-04-24T17:30:06.620Z"
   },
   {
    "duration": 255,
    "start_time": "2022-04-24T17:30:06.919Z"
   },
   {
    "duration": 338,
    "start_time": "2022-04-24T17:30:07.176Z"
   },
   {
    "duration": 270,
    "start_time": "2022-04-24T17:30:07.516Z"
   },
   {
    "duration": 257,
    "start_time": "2022-04-24T17:30:07.788Z"
   },
   {
    "duration": 295,
    "start_time": "2022-04-24T17:30:08.055Z"
   },
   {
    "duration": 198,
    "start_time": "2022-04-24T17:30:08.351Z"
   },
   {
    "duration": 853,
    "start_time": "2022-04-24T17:30:08.557Z"
   },
   {
    "duration": 43,
    "start_time": "2022-04-24T17:30:09.412Z"
   },
   {
    "duration": 231,
    "start_time": "2022-04-24T17:30:09.457Z"
   },
   {
    "duration": 1703,
    "start_time": "2022-04-24T17:30:09.690Z"
   },
   {
    "duration": 829,
    "start_time": "2022-04-24T17:30:11.396Z"
   },
   {
    "duration": 521,
    "start_time": "2022-04-24T17:30:12.227Z"
   },
   {
    "duration": 73,
    "start_time": "2022-04-25T13:51:45.308Z"
   },
   {
    "duration": 659,
    "start_time": "2022-04-25T13:51:49.785Z"
   },
   {
    "duration": 8,
    "start_time": "2022-04-25T13:51:50.454Z"
   },
   {
    "duration": 16,
    "start_time": "2022-04-25T13:51:50.467Z"
   },
   {
    "duration": 880,
    "start_time": "2022-04-25T13:51:50.486Z"
   },
   {
    "duration": 91,
    "start_time": "2022-04-25T13:51:51.369Z"
   },
   {
    "duration": 0,
    "start_time": "2022-04-25T13:51:51.466Z"
   },
   {
    "duration": 0,
    "start_time": "2022-04-25T13:51:51.467Z"
   },
   {
    "duration": 0,
    "start_time": "2022-04-25T13:51:51.469Z"
   },
   {
    "duration": 0,
    "start_time": "2022-04-25T13:51:51.471Z"
   },
   {
    "duration": 0,
    "start_time": "2022-04-25T13:51:51.473Z"
   },
   {
    "duration": 0,
    "start_time": "2022-04-25T13:51:51.474Z"
   },
   {
    "duration": 0,
    "start_time": "2022-04-25T13:51:51.476Z"
   },
   {
    "duration": 0,
    "start_time": "2022-04-25T13:51:51.478Z"
   },
   {
    "duration": 0,
    "start_time": "2022-04-25T13:51:51.480Z"
   },
   {
    "duration": 0,
    "start_time": "2022-04-25T13:51:51.481Z"
   },
   {
    "duration": 0,
    "start_time": "2022-04-25T13:51:51.483Z"
   },
   {
    "duration": 0,
    "start_time": "2022-04-25T13:51:51.485Z"
   },
   {
    "duration": 0,
    "start_time": "2022-04-25T13:51:51.487Z"
   },
   {
    "duration": 0,
    "start_time": "2022-04-25T13:51:51.489Z"
   },
   {
    "duration": 1,
    "start_time": "2022-04-25T13:51:51.493Z"
   },
   {
    "duration": 0,
    "start_time": "2022-04-25T13:51:51.496Z"
   },
   {
    "duration": 0,
    "start_time": "2022-04-25T13:51:51.498Z"
   },
   {
    "duration": 1,
    "start_time": "2022-04-25T13:51:51.500Z"
   },
   {
    "duration": 0,
    "start_time": "2022-04-25T13:51:51.503Z"
   },
   {
    "duration": 0,
    "start_time": "2022-04-25T13:51:51.554Z"
   },
   {
    "duration": 0,
    "start_time": "2022-04-25T13:51:51.555Z"
   },
   {
    "duration": 0,
    "start_time": "2022-04-25T13:51:51.556Z"
   },
   {
    "duration": 0,
    "start_time": "2022-04-25T13:51:51.557Z"
   },
   {
    "duration": 0,
    "start_time": "2022-04-25T13:51:51.559Z"
   },
   {
    "duration": 0,
    "start_time": "2022-04-25T13:51:51.562Z"
   },
   {
    "duration": 0,
    "start_time": "2022-04-25T13:51:51.567Z"
   },
   {
    "duration": 0,
    "start_time": "2022-04-25T13:51:51.568Z"
   },
   {
    "duration": 0,
    "start_time": "2022-04-25T13:51:51.570Z"
   },
   {
    "duration": 6,
    "start_time": "2022-04-25T13:52:24.401Z"
   },
   {
    "duration": 18,
    "start_time": "2022-04-25T13:52:29.026Z"
   },
   {
    "duration": 11,
    "start_time": "2022-04-25T13:52:31.165Z"
   },
   {
    "duration": 13,
    "start_time": "2022-04-25T13:52:32.721Z"
   },
   {
    "duration": 18,
    "start_time": "2022-04-25T13:52:34.298Z"
   },
   {
    "duration": 18,
    "start_time": "2022-04-25T13:52:35.367Z"
   },
   {
    "duration": 8,
    "start_time": "2022-04-25T13:52:36.591Z"
   },
   {
    "duration": 18,
    "start_time": "2022-04-25T13:52:37.248Z"
   },
   {
    "duration": 23,
    "start_time": "2022-04-25T13:52:37.950Z"
   },
   {
    "duration": 7,
    "start_time": "2022-04-25T13:52:40.896Z"
   },
   {
    "duration": 16,
    "start_time": "2022-04-25T13:52:41.965Z"
   },
   {
    "duration": 625,
    "start_time": "2022-04-25T13:52:55.183Z"
   },
   {
    "duration": 43,
    "start_time": "2022-04-25T13:53:22.132Z"
   },
   {
    "duration": 401,
    "start_time": "2022-04-25T13:53:23.667Z"
   },
   {
    "duration": 400,
    "start_time": "2022-04-25T13:53:26.148Z"
   },
   {
    "duration": 322,
    "start_time": "2022-04-25T13:53:28.610Z"
   },
   {
    "duration": 1137,
    "start_time": "2022-04-25T13:53:52.038Z"
   },
   {
    "duration": 685,
    "start_time": "2022-04-25T13:54:32.878Z"
   },
   {
    "duration": 8,
    "start_time": "2022-04-25T13:54:33.566Z"
   },
   {
    "duration": 14,
    "start_time": "2022-04-25T13:54:33.576Z"
   },
   {
    "duration": 632,
    "start_time": "2022-04-25T13:54:33.593Z"
   },
   {
    "duration": 8,
    "start_time": "2022-04-25T13:54:34.227Z"
   },
   {
    "duration": 30,
    "start_time": "2022-04-25T13:54:34.237Z"
   },
   {
    "duration": 13,
    "start_time": "2022-04-25T13:54:34.269Z"
   },
   {
    "duration": 14,
    "start_time": "2022-04-25T13:54:34.284Z"
   },
   {
    "duration": 59,
    "start_time": "2022-04-25T13:54:34.301Z"
   },
   {
    "duration": 19,
    "start_time": "2022-04-25T13:54:34.366Z"
   },
   {
    "duration": 19,
    "start_time": "2022-04-25T13:54:34.387Z"
   },
   {
    "duration": 16,
    "start_time": "2022-04-25T13:54:34.409Z"
   },
   {
    "duration": 45,
    "start_time": "2022-04-25T13:54:34.427Z"
   },
   {
    "duration": 6,
    "start_time": "2022-04-25T13:54:34.475Z"
   },
   {
    "duration": 22,
    "start_time": "2022-04-25T13:54:34.482Z"
   },
   {
    "duration": 605,
    "start_time": "2022-04-25T13:54:34.506Z"
   },
   {
    "duration": 55,
    "start_time": "2022-04-25T13:54:35.113Z"
   },
   {
    "duration": 660,
    "start_time": "2022-04-25T13:54:35.170Z"
   },
   {
    "duration": 596,
    "start_time": "2022-04-25T13:54:35.832Z"
   },
   {
    "duration": 244,
    "start_time": "2022-04-25T13:54:36.430Z"
   },
   {
    "duration": 330,
    "start_time": "2022-04-25T13:54:36.677Z"
   },
   {
    "duration": 433,
    "start_time": "2022-04-25T13:54:37.009Z"
   },
   {
    "duration": 654,
    "start_time": "2022-04-25T13:54:37.444Z"
   },
   {
    "duration": 282,
    "start_time": "2022-04-25T13:54:38.100Z"
   },
   {
    "duration": 420,
    "start_time": "2022-04-25T13:54:38.384Z"
   },
   {
    "duration": 528,
    "start_time": "2022-04-25T13:54:38.807Z"
   },
   {
    "duration": 232,
    "start_time": "2022-04-25T13:54:39.337Z"
   },
   {
    "duration": 934,
    "start_time": "2022-04-25T13:54:39.576Z"
   },
   {
    "duration": 45,
    "start_time": "2022-04-25T13:54:40.512Z"
   },
   {
    "duration": 270,
    "start_time": "2022-04-25T13:54:40.560Z"
   },
   {
    "duration": 1639,
    "start_time": "2022-04-25T13:54:40.831Z"
   },
   {
    "duration": 1020,
    "start_time": "2022-04-25T13:54:42.473Z"
   },
   {
    "duration": 945,
    "start_time": "2022-04-25T13:54:43.496Z"
   },
   {
    "duration": 313,
    "start_time": "2022-04-25T13:55:26.950Z"
   },
   {
    "duration": 98,
    "start_time": "2022-04-25T13:56:31.636Z"
   },
   {
    "duration": 495,
    "start_time": "2022-04-27T10:15:39.265Z"
   },
   {
    "duration": 6,
    "start_time": "2022-04-27T10:15:39.762Z"
   },
   {
    "duration": 29,
    "start_time": "2022-04-27T10:15:39.769Z"
   },
   {
    "duration": 636,
    "start_time": "2022-04-27T10:15:39.800Z"
   },
   {
    "duration": 5,
    "start_time": "2022-04-27T10:15:40.438Z"
   },
   {
    "duration": 12,
    "start_time": "2022-04-27T10:15:40.444Z"
   },
   {
    "duration": 8,
    "start_time": "2022-04-27T10:15:40.458Z"
   },
   {
    "duration": 11,
    "start_time": "2022-04-27T10:15:40.468Z"
   },
   {
    "duration": 12,
    "start_time": "2022-04-27T10:15:40.480Z"
   },
   {
    "duration": 12,
    "start_time": "2022-04-27T10:15:40.523Z"
   },
   {
    "duration": 7,
    "start_time": "2022-04-27T10:15:40.537Z"
   },
   {
    "duration": 10,
    "start_time": "2022-04-27T10:15:40.545Z"
   },
   {
    "duration": 23,
    "start_time": "2022-04-27T10:15:40.557Z"
   },
   {
    "duration": 4,
    "start_time": "2022-04-27T10:15:40.582Z"
   },
   {
    "duration": 36,
    "start_time": "2022-04-27T10:15:40.588Z"
   },
   {
    "duration": 447,
    "start_time": "2022-04-27T10:15:40.627Z"
   },
   {
    "duration": 33,
    "start_time": "2022-04-27T10:15:41.075Z"
   },
   {
    "duration": 383,
    "start_time": "2022-04-27T10:15:41.110Z"
   },
   {
    "duration": 361,
    "start_time": "2022-04-27T10:15:41.495Z"
   },
   {
    "duration": 165,
    "start_time": "2022-04-27T10:15:41.858Z"
   },
   {
    "duration": 190,
    "start_time": "2022-04-27T10:15:42.025Z"
   },
   {
    "duration": 253,
    "start_time": "2022-04-27T10:15:42.217Z"
   },
   {
    "duration": 461,
    "start_time": "2022-04-27T10:15:42.472Z"
   },
   {
    "duration": 477,
    "start_time": "2022-04-27T10:15:42.934Z"
   },
   {
    "duration": 173,
    "start_time": "2022-04-27T10:15:43.414Z"
   },
   {
    "duration": 314,
    "start_time": "2022-04-27T10:15:43.588Z"
   },
   {
    "duration": 364,
    "start_time": "2022-04-27T10:15:43.903Z"
   },
   {
    "duration": 141,
    "start_time": "2022-04-27T10:15:44.271Z"
   },
   {
    "duration": 593,
    "start_time": "2022-04-27T10:15:44.414Z"
   },
   {
    "duration": 27,
    "start_time": "2022-04-27T10:15:45.008Z"
   },
   {
    "duration": 205,
    "start_time": "2022-04-27T10:15:45.037Z"
   },
   {
    "duration": 1004,
    "start_time": "2022-04-27T10:15:45.243Z"
   },
   {
    "duration": 658,
    "start_time": "2022-04-27T10:15:46.248Z"
   },
   {
    "duration": 618,
    "start_time": "2022-04-27T10:15:46.908Z"
   },
   {
    "duration": 72,
    "start_time": "2022-04-27T10:16:05.843Z"
   },
   {
    "duration": 509,
    "start_time": "2022-04-27T10:16:11.515Z"
   },
   {
    "duration": 11,
    "start_time": "2022-04-27T10:16:12.026Z"
   },
   {
    "duration": 14,
    "start_time": "2022-04-27T10:16:12.045Z"
   },
   {
    "duration": 422,
    "start_time": "2022-04-27T10:16:12.062Z"
   },
   {
    "duration": 5,
    "start_time": "2022-04-27T10:16:12.485Z"
   },
   {
    "duration": 12,
    "start_time": "2022-04-27T10:16:12.492Z"
   },
   {
    "duration": 17,
    "start_time": "2022-04-27T10:16:12.506Z"
   },
   {
    "duration": 12,
    "start_time": "2022-04-27T10:16:12.526Z"
   },
   {
    "duration": 18,
    "start_time": "2022-04-27T10:16:12.540Z"
   },
   {
    "duration": 15,
    "start_time": "2022-04-27T10:16:12.562Z"
   },
   {
    "duration": 4,
    "start_time": "2022-04-27T10:16:12.579Z"
   },
   {
    "duration": 9,
    "start_time": "2022-04-27T10:16:12.585Z"
   },
   {
    "duration": 44,
    "start_time": "2022-04-27T10:16:12.595Z"
   },
   {
    "duration": 7,
    "start_time": "2022-04-27T10:16:12.641Z"
   },
   {
    "duration": 18,
    "start_time": "2022-04-27T10:16:12.650Z"
   },
   {
    "duration": 373,
    "start_time": "2022-04-27T10:16:12.669Z"
   },
   {
    "duration": 25,
    "start_time": "2022-04-27T10:16:13.045Z"
   },
   {
    "duration": 412,
    "start_time": "2022-04-27T10:16:13.072Z"
   },
   {
    "duration": 421,
    "start_time": "2022-04-27T10:16:13.485Z"
   },
   {
    "duration": 195,
    "start_time": "2022-04-27T10:16:13.908Z"
   },
   {
    "duration": 196,
    "start_time": "2022-04-27T10:16:14.105Z"
   },
   {
    "duration": 256,
    "start_time": "2022-04-27T10:16:14.303Z"
   },
   {
    "duration": 428,
    "start_time": "2022-04-27T10:16:14.561Z"
   },
   {
    "duration": 77,
    "start_time": "2022-04-27T10:16:14.991Z"
   },
   {
    "duration": 0,
    "start_time": "2022-04-27T10:16:15.070Z"
   },
   {
    "duration": 0,
    "start_time": "2022-04-27T10:16:15.072Z"
   },
   {
    "duration": 0,
    "start_time": "2022-04-27T10:16:15.073Z"
   },
   {
    "duration": 0,
    "start_time": "2022-04-27T10:16:15.074Z"
   },
   {
    "duration": 0,
    "start_time": "2022-04-27T10:16:15.076Z"
   },
   {
    "duration": 0,
    "start_time": "2022-04-27T10:16:15.077Z"
   },
   {
    "duration": 0,
    "start_time": "2022-04-27T10:16:15.079Z"
   },
   {
    "duration": 0,
    "start_time": "2022-04-27T10:16:15.080Z"
   },
   {
    "duration": 0,
    "start_time": "2022-04-27T10:16:15.081Z"
   },
   {
    "duration": 0,
    "start_time": "2022-04-27T10:16:15.083Z"
   },
   {
    "duration": 817,
    "start_time": "2022-04-28T09:45:38.556Z"
   },
   {
    "duration": 9,
    "start_time": "2022-04-28T09:45:39.376Z"
   },
   {
    "duration": 46,
    "start_time": "2022-04-28T09:45:39.388Z"
   },
   {
    "duration": 1025,
    "start_time": "2022-04-28T09:45:39.436Z"
   },
   {
    "duration": 7,
    "start_time": "2022-04-28T09:45:40.465Z"
   },
   {
    "duration": 26,
    "start_time": "2022-04-28T09:45:40.474Z"
   },
   {
    "duration": 41,
    "start_time": "2022-04-28T09:45:40.503Z"
   },
   {
    "duration": 19,
    "start_time": "2022-04-28T09:45:40.548Z"
   },
   {
    "duration": 19,
    "start_time": "2022-04-28T09:45:40.569Z"
   },
   {
    "duration": 44,
    "start_time": "2022-04-28T09:45:40.591Z"
   },
   {
    "duration": 15,
    "start_time": "2022-04-28T09:45:40.646Z"
   },
   {
    "duration": 14,
    "start_time": "2022-04-28T09:45:40.664Z"
   },
   {
    "duration": 30,
    "start_time": "2022-04-28T09:45:40.680Z"
   },
   {
    "duration": 17,
    "start_time": "2022-04-28T09:45:40.714Z"
   },
   {
    "duration": 41,
    "start_time": "2022-04-28T09:45:40.734Z"
   },
   {
    "duration": 717,
    "start_time": "2022-04-28T09:45:40.777Z"
   },
   {
    "duration": 72,
    "start_time": "2022-04-28T09:45:41.496Z"
   },
   {
    "duration": 912,
    "start_time": "2022-04-28T09:45:41.570Z"
   },
   {
    "duration": 864,
    "start_time": "2022-04-28T09:45:42.485Z"
   },
   {
    "duration": 341,
    "start_time": "2022-04-28T09:45:43.352Z"
   },
   {
    "duration": 365,
    "start_time": "2022-04-28T09:45:43.695Z"
   },
   {
    "duration": 494,
    "start_time": "2022-04-28T09:45:44.062Z"
   },
   {
    "duration": 116,
    "start_time": "2022-04-28T09:45:44.559Z"
   },
   {
    "duration": 625,
    "start_time": "2022-04-28T09:45:44.678Z"
   },
   {
    "duration": 140,
    "start_time": "2022-04-28T09:45:45.305Z"
   },
   {
    "duration": 0,
    "start_time": "2022-04-28T09:45:45.448Z"
   },
   {
    "duration": 0,
    "start_time": "2022-04-28T09:45:45.452Z"
   },
   {
    "duration": 0,
    "start_time": "2022-04-28T09:45:45.454Z"
   },
   {
    "duration": 0,
    "start_time": "2022-04-28T09:45:45.455Z"
   },
   {
    "duration": 0,
    "start_time": "2022-04-28T09:45:45.458Z"
   },
   {
    "duration": 0,
    "start_time": "2022-04-28T09:45:45.459Z"
   },
   {
    "duration": 0,
    "start_time": "2022-04-28T09:45:45.461Z"
   },
   {
    "duration": 0,
    "start_time": "2022-04-28T09:45:45.463Z"
   },
   {
    "duration": 0,
    "start_time": "2022-04-28T09:45:45.464Z"
   },
   {
    "duration": 0,
    "start_time": "2022-04-28T09:45:45.465Z"
   },
   {
    "duration": 1253,
    "start_time": "2022-05-05T11:29:11.696Z"
   },
   {
    "duration": 7,
    "start_time": "2022-05-05T11:29:12.951Z"
   },
   {
    "duration": 15,
    "start_time": "2022-05-05T11:29:12.960Z"
   },
   {
    "duration": 642,
    "start_time": "2022-05-05T11:29:12.978Z"
   },
   {
    "duration": 11,
    "start_time": "2022-05-05T11:29:13.622Z"
   },
   {
    "duration": 15,
    "start_time": "2022-05-05T11:29:13.635Z"
   },
   {
    "duration": 8,
    "start_time": "2022-05-05T11:29:13.652Z"
   },
   {
    "duration": 13,
    "start_time": "2022-05-05T11:29:13.662Z"
   },
   {
    "duration": 14,
    "start_time": "2022-05-05T11:29:13.677Z"
   },
   {
    "duration": 46,
    "start_time": "2022-05-05T11:29:13.694Z"
   },
   {
    "duration": 5,
    "start_time": "2022-05-05T11:29:13.742Z"
   },
   {
    "duration": 11,
    "start_time": "2022-05-05T11:29:13.749Z"
   },
   {
    "duration": 21,
    "start_time": "2022-05-05T11:29:13.762Z"
   },
   {
    "duration": 4,
    "start_time": "2022-05-05T11:29:13.785Z"
   },
   {
    "duration": 42,
    "start_time": "2022-05-05T11:29:13.791Z"
   },
   {
    "duration": 425,
    "start_time": "2022-05-05T11:29:13.835Z"
   },
   {
    "duration": 29,
    "start_time": "2022-05-05T11:29:14.261Z"
   },
   {
    "duration": 493,
    "start_time": "2022-05-05T11:29:14.292Z"
   },
   {
    "duration": 413,
    "start_time": "2022-05-05T11:29:14.787Z"
   },
   {
    "duration": 185,
    "start_time": "2022-05-05T11:29:15.202Z"
   },
   {
    "duration": 212,
    "start_time": "2022-05-05T11:29:15.389Z"
   },
   {
    "duration": 291,
    "start_time": "2022-05-05T11:29:15.603Z"
   },
   {
    "duration": 94,
    "start_time": "2022-05-05T11:29:15.895Z"
   },
   {
    "duration": 383,
    "start_time": "2022-05-05T11:29:15.990Z"
   },
   {
    "duration": 87,
    "start_time": "2022-05-05T11:29:16.375Z"
   },
   {
    "duration": 0,
    "start_time": "2022-05-05T11:29:16.464Z"
   },
   {
    "duration": 0,
    "start_time": "2022-05-05T11:29:16.466Z"
   },
   {
    "duration": 0,
    "start_time": "2022-05-05T11:29:16.467Z"
   },
   {
    "duration": 0,
    "start_time": "2022-05-05T11:29:16.469Z"
   },
   {
    "duration": 0,
    "start_time": "2022-05-05T11:29:16.471Z"
   },
   {
    "duration": 0,
    "start_time": "2022-05-05T11:29:16.472Z"
   },
   {
    "duration": 0,
    "start_time": "2022-05-05T11:29:16.474Z"
   },
   {
    "duration": 0,
    "start_time": "2022-05-05T11:29:16.475Z"
   },
   {
    "duration": 0,
    "start_time": "2022-05-05T11:29:16.477Z"
   },
   {
    "duration": 0,
    "start_time": "2022-05-05T11:29:16.478Z"
   },
   {
    "duration": 104,
    "start_time": "2022-05-05T11:39:31.476Z"
   },
   {
    "duration": 92,
    "start_time": "2022-05-05T11:40:42.214Z"
   },
   {
    "duration": 115,
    "start_time": "2022-05-05T11:41:04.469Z"
   },
   {
    "duration": 101,
    "start_time": "2022-05-05T11:41:14.354Z"
   },
   {
    "duration": 108,
    "start_time": "2022-05-05T11:41:24.384Z"
   },
   {
    "duration": 100,
    "start_time": "2022-05-05T11:41:29.527Z"
   },
   {
    "duration": 95,
    "start_time": "2022-05-05T11:41:40.789Z"
   },
   {
    "duration": 124,
    "start_time": "2022-05-05T11:43:52.954Z"
   },
   {
    "duration": 108,
    "start_time": "2022-05-05T11:44:07.832Z"
   },
   {
    "duration": 178,
    "start_time": "2022-05-05T11:44:24.834Z"
   },
   {
    "duration": 894,
    "start_time": "2022-05-05T11:44:30.604Z"
   },
   {
    "duration": 8,
    "start_time": "2022-05-05T11:44:31.500Z"
   },
   {
    "duration": 25,
    "start_time": "2022-05-05T11:44:31.510Z"
   },
   {
    "duration": 213,
    "start_time": "2022-05-05T11:44:31.537Z"
   },
   {
    "duration": 6,
    "start_time": "2022-05-05T11:44:31.752Z"
   },
   {
    "duration": 16,
    "start_time": "2022-05-05T11:44:31.760Z"
   },
   {
    "duration": 9,
    "start_time": "2022-05-05T11:44:31.778Z"
   },
   {
    "duration": 14,
    "start_time": "2022-05-05T11:44:31.790Z"
   },
   {
    "duration": 46,
    "start_time": "2022-05-05T11:44:31.807Z"
   },
   {
    "duration": 16,
    "start_time": "2022-05-05T11:44:31.858Z"
   },
   {
    "duration": 8,
    "start_time": "2022-05-05T11:44:31.876Z"
   },
   {
    "duration": 11,
    "start_time": "2022-05-05T11:44:31.886Z"
   },
   {
    "duration": 44,
    "start_time": "2022-05-05T11:44:31.899Z"
   },
   {
    "duration": 4,
    "start_time": "2022-05-05T11:44:31.945Z"
   },
   {
    "duration": 19,
    "start_time": "2022-05-05T11:44:31.951Z"
   },
   {
    "duration": 390,
    "start_time": "2022-05-05T11:44:31.971Z"
   },
   {
    "duration": 29,
    "start_time": "2022-05-05T11:44:32.363Z"
   },
   {
    "duration": 474,
    "start_time": "2022-05-05T11:44:32.393Z"
   },
   {
    "duration": 400,
    "start_time": "2022-05-05T11:44:32.869Z"
   },
   {
    "duration": 189,
    "start_time": "2022-05-05T11:44:33.271Z"
   },
   {
    "duration": 223,
    "start_time": "2022-05-05T11:44:33.462Z"
   },
   {
    "duration": 354,
    "start_time": "2022-05-05T11:44:33.687Z"
   },
   {
    "duration": 11,
    "start_time": "2022-05-05T11:44:34.043Z"
   },
   {
    "duration": 132,
    "start_time": "2022-05-05T11:44:34.056Z"
   },
   {
    "duration": 482,
    "start_time": "2022-05-05T11:44:34.189Z"
   },
   {
    "duration": 194,
    "start_time": "2022-05-05T11:44:34.673Z"
   },
   {
    "duration": 299,
    "start_time": "2022-05-05T11:44:34.869Z"
   },
   {
    "duration": 339,
    "start_time": "2022-05-05T11:44:35.172Z"
   },
   {
    "duration": 154,
    "start_time": "2022-05-05T11:44:35.513Z"
   },
   {
    "duration": 664,
    "start_time": "2022-05-05T11:44:35.669Z"
   },
   {
    "duration": 37,
    "start_time": "2022-05-05T11:44:36.336Z"
   },
   {
    "duration": 208,
    "start_time": "2022-05-05T11:44:36.375Z"
   },
   {
    "duration": 1175,
    "start_time": "2022-05-05T11:44:36.586Z"
   },
   {
    "duration": 727,
    "start_time": "2022-05-05T11:44:37.763Z"
   },
   {
    "duration": 683,
    "start_time": "2022-05-05T11:44:38.492Z"
   },
   {
    "duration": 104,
    "start_time": "2022-05-05T11:45:18.814Z"
   },
   {
    "duration": 133,
    "start_time": "2022-05-05T11:45:24.418Z"
   },
   {
    "duration": 100,
    "start_time": "2022-05-05T11:45:28.499Z"
   },
   {
    "duration": 116,
    "start_time": "2022-05-05T11:46:43.502Z"
   },
   {
    "duration": 182,
    "start_time": "2022-05-05T11:48:25.553Z"
   },
   {
    "duration": 213,
    "start_time": "2022-05-05T11:48:45.341Z"
   },
   {
    "duration": 268,
    "start_time": "2022-05-05T11:48:55.534Z"
   },
   {
    "duration": 11655,
    "start_time": "2022-05-05T11:50:19.282Z"
   },
   {
    "duration": 275,
    "start_time": "2022-05-05T11:50:51.698Z"
   },
   {
    "duration": 306,
    "start_time": "2022-05-05T11:51:01.075Z"
   },
   {
    "duration": 361,
    "start_time": "2022-05-05T11:51:12.693Z"
   },
   {
    "duration": 328,
    "start_time": "2022-05-05T11:53:04.211Z"
   },
   {
    "duration": 180,
    "start_time": "2022-05-05T11:53:41.913Z"
   },
   {
    "duration": 375,
    "start_time": "2022-05-05T11:53:50.227Z"
   },
   {
    "duration": 339,
    "start_time": "2022-05-05T11:54:25.966Z"
   },
   {
    "duration": 411,
    "start_time": "2022-05-05T11:54:42.113Z"
   },
   {
    "duration": 397,
    "start_time": "2022-05-05T11:56:50.089Z"
   },
   {
    "duration": 347,
    "start_time": "2022-05-05T11:56:56.726Z"
   },
   {
    "duration": 361,
    "start_time": "2022-05-05T11:57:06.513Z"
   },
   {
    "duration": 439,
    "start_time": "2022-05-05T11:57:15.187Z"
   },
   {
    "duration": 336,
    "start_time": "2022-05-05T12:04:38.716Z"
   },
   {
    "duration": 338,
    "start_time": "2022-05-05T12:04:51.109Z"
   },
   {
    "duration": 444,
    "start_time": "2022-05-05T12:05:09.955Z"
   },
   {
    "duration": 335,
    "start_time": "2022-05-05T12:05:18.190Z"
   },
   {
    "duration": 330,
    "start_time": "2022-05-05T12:05:32.643Z"
   },
   {
    "duration": 355,
    "start_time": "2022-05-05T12:07:36.280Z"
   },
   {
    "duration": 1157,
    "start_time": "2022-05-05T12:07:46.874Z"
   },
   {
    "duration": 6,
    "start_time": "2022-05-05T12:07:48.033Z"
   },
   {
    "duration": 13,
    "start_time": "2022-05-05T12:07:48.040Z"
   },
   {
    "duration": 174,
    "start_time": "2022-05-05T12:07:48.055Z"
   },
   {
    "duration": 6,
    "start_time": "2022-05-05T12:07:48.231Z"
   },
   {
    "duration": 13,
    "start_time": "2022-05-05T12:07:48.238Z"
   },
   {
    "duration": 9,
    "start_time": "2022-05-05T12:07:48.252Z"
   },
   {
    "duration": 9,
    "start_time": "2022-05-05T12:07:48.262Z"
   },
   {
    "duration": 12,
    "start_time": "2022-05-05T12:07:48.273Z"
   },
   {
    "duration": 48,
    "start_time": "2022-05-05T12:07:48.288Z"
   },
   {
    "duration": 5,
    "start_time": "2022-05-05T12:07:48.338Z"
   },
   {
    "duration": 10,
    "start_time": "2022-05-05T12:07:48.344Z"
   },
   {
    "duration": 17,
    "start_time": "2022-05-05T12:07:48.355Z"
   },
   {
    "duration": 4,
    "start_time": "2022-05-05T12:07:48.373Z"
   },
   {
    "duration": 15,
    "start_time": "2022-05-05T12:07:48.379Z"
   },
   {
    "duration": 366,
    "start_time": "2022-05-05T12:07:48.396Z"
   },
   {
    "duration": 27,
    "start_time": "2022-05-05T12:07:48.763Z"
   },
   {
    "duration": 490,
    "start_time": "2022-05-05T12:07:48.791Z"
   },
   {
    "duration": 380,
    "start_time": "2022-05-05T12:07:49.283Z"
   },
   {
    "duration": 175,
    "start_time": "2022-05-05T12:07:49.664Z"
   },
   {
    "duration": 203,
    "start_time": "2022-05-05T12:07:49.841Z"
   },
   {
    "duration": 278,
    "start_time": "2022-05-05T12:07:50.046Z"
   },
   {
    "duration": 15,
    "start_time": "2022-05-05T12:07:50.325Z"
   },
   {
    "duration": 432,
    "start_time": "2022-05-05T12:07:50.341Z"
   },
   {
    "duration": 370,
    "start_time": "2022-05-05T12:07:50.774Z"
   },
   {
    "duration": 184,
    "start_time": "2022-05-05T12:07:51.145Z"
   },
   {
    "duration": 279,
    "start_time": "2022-05-05T12:07:51.334Z"
   },
   {
    "duration": 323,
    "start_time": "2022-05-05T12:07:51.617Z"
   },
   {
    "duration": 146,
    "start_time": "2022-05-05T12:07:51.942Z"
   },
   {
    "duration": 613,
    "start_time": "2022-05-05T12:07:52.090Z"
   },
   {
    "duration": 31,
    "start_time": "2022-05-05T12:07:52.704Z"
   },
   {
    "duration": 232,
    "start_time": "2022-05-05T12:07:52.736Z"
   },
   {
    "duration": 1007,
    "start_time": "2022-05-05T12:07:52.970Z"
   },
   {
    "duration": 731,
    "start_time": "2022-05-05T12:07:53.979Z"
   },
   {
    "duration": 574,
    "start_time": "2022-05-05T12:07:54.712Z"
   },
   {
    "duration": 448,
    "start_time": "2022-05-05T12:08:41.608Z"
   },
   {
    "duration": 456,
    "start_time": "2022-05-05T12:12:40.443Z"
   },
   {
    "duration": 563,
    "start_time": "2022-05-05T12:13:07.883Z"
   },
   {
    "duration": 371,
    "start_time": "2022-05-05T12:13:54.198Z"
   },
   {
    "duration": 367,
    "start_time": "2022-05-05T12:14:10.797Z"
   },
   {
    "duration": 465,
    "start_time": "2022-05-05T12:17:26.645Z"
   },
   {
    "duration": 358,
    "start_time": "2022-05-05T12:17:32.368Z"
   },
   {
    "duration": 358,
    "start_time": "2022-05-05T12:18:16.583Z"
   },
   {
    "duration": 361,
    "start_time": "2022-05-05T12:19:37.874Z"
   },
   {
    "duration": 435,
    "start_time": "2022-05-05T12:19:46.317Z"
   },
   {
    "duration": 391,
    "start_time": "2022-05-05T12:19:52.851Z"
   },
   {
    "duration": 10,
    "start_time": "2022-05-05T12:20:32.511Z"
   },
   {
    "duration": 2710,
    "start_time": "2022-05-05T18:40:04.699Z"
   },
   {
    "duration": 6,
    "start_time": "2022-05-05T18:40:07.412Z"
   },
   {
    "duration": 13,
    "start_time": "2022-05-05T18:40:07.420Z"
   },
   {
    "duration": 178,
    "start_time": "2022-05-05T18:40:07.435Z"
   },
   {
    "duration": 5,
    "start_time": "2022-05-05T18:40:07.615Z"
   },
   {
    "duration": 12,
    "start_time": "2022-05-05T18:40:07.622Z"
   },
   {
    "duration": 8,
    "start_time": "2022-05-05T18:40:07.635Z"
   },
   {
    "duration": 35,
    "start_time": "2022-05-05T18:40:07.645Z"
   },
   {
    "duration": 15,
    "start_time": "2022-05-05T18:40:07.682Z"
   },
   {
    "duration": 13,
    "start_time": "2022-05-05T18:40:07.699Z"
   },
   {
    "duration": 5,
    "start_time": "2022-05-05T18:40:07.713Z"
   },
   {
    "duration": 9,
    "start_time": "2022-05-05T18:40:07.719Z"
   },
   {
    "duration": 45,
    "start_time": "2022-05-05T18:40:07.730Z"
   },
   {
    "duration": 5,
    "start_time": "2022-05-05T18:40:07.778Z"
   },
   {
    "duration": 17,
    "start_time": "2022-05-05T18:40:07.784Z"
   },
   {
    "duration": 339,
    "start_time": "2022-05-05T18:40:07.802Z"
   },
   {
    "duration": 35,
    "start_time": "2022-05-05T18:40:08.143Z"
   },
   {
    "duration": 436,
    "start_time": "2022-05-05T18:40:08.180Z"
   },
   {
    "duration": 376,
    "start_time": "2022-05-05T18:40:08.618Z"
   },
   {
    "duration": 239,
    "start_time": "2022-05-05T18:40:08.996Z"
   },
   {
    "duration": 202,
    "start_time": "2022-05-05T18:40:09.236Z"
   },
   {
    "duration": 266,
    "start_time": "2022-05-05T18:40:09.440Z"
   },
   {
    "duration": 11,
    "start_time": "2022-05-05T18:40:09.707Z"
   },
   {
    "duration": 455,
    "start_time": "2022-05-05T18:40:09.720Z"
   },
   {
    "duration": 9,
    "start_time": "2022-05-05T18:40:10.176Z"
   },
   {
    "duration": 338,
    "start_time": "2022-05-05T18:40:10.186Z"
   },
   {
    "duration": 188,
    "start_time": "2022-05-05T18:40:10.526Z"
   },
   {
    "duration": 276,
    "start_time": "2022-05-05T18:40:10.716Z"
   },
   {
    "duration": 313,
    "start_time": "2022-05-05T18:40:10.994Z"
   },
   {
    "duration": 139,
    "start_time": "2022-05-05T18:40:11.309Z"
   },
   {
    "duration": 598,
    "start_time": "2022-05-05T18:40:11.450Z"
   },
   {
    "duration": 31,
    "start_time": "2022-05-05T18:40:12.050Z"
   },
   {
    "duration": 243,
    "start_time": "2022-05-05T18:40:12.083Z"
   },
   {
    "duration": 927,
    "start_time": "2022-05-05T18:40:12.328Z"
   },
   {
    "duration": 705,
    "start_time": "2022-05-05T18:40:13.257Z"
   },
   {
    "duration": 510,
    "start_time": "2022-05-05T18:40:13.972Z"
   },
   {
    "duration": 53,
    "start_time": "2022-05-05T22:05:43.602Z"
   },
   {
    "duration": 972,
    "start_time": "2022-05-05T22:05:49.608Z"
   },
   {
    "duration": 6,
    "start_time": "2022-05-05T22:05:50.583Z"
   },
   {
    "duration": 10,
    "start_time": "2022-05-05T22:05:50.592Z"
   },
   {
    "duration": 157,
    "start_time": "2022-05-05T22:05:50.604Z"
   },
   {
    "duration": 4,
    "start_time": "2022-05-05T22:05:50.763Z"
   },
   {
    "duration": 24,
    "start_time": "2022-05-05T22:05:50.769Z"
   },
   {
    "duration": 7,
    "start_time": "2022-05-05T22:05:50.795Z"
   },
   {
    "duration": 8,
    "start_time": "2022-05-05T22:05:50.804Z"
   },
   {
    "duration": 13,
    "start_time": "2022-05-05T22:05:50.814Z"
   },
   {
    "duration": 11,
    "start_time": "2022-05-05T22:05:50.830Z"
   },
   {
    "duration": 5,
    "start_time": "2022-05-05T22:05:50.843Z"
   },
   {
    "duration": 43,
    "start_time": "2022-05-05T22:05:50.849Z"
   },
   {
    "duration": 14,
    "start_time": "2022-05-05T22:05:50.894Z"
   },
   {
    "duration": 3,
    "start_time": "2022-05-05T22:05:50.910Z"
   },
   {
    "duration": 17,
    "start_time": "2022-05-05T22:05:50.915Z"
   },
   {
    "duration": 342,
    "start_time": "2022-05-05T22:05:50.933Z"
   },
   {
    "duration": 27,
    "start_time": "2022-05-05T22:05:51.277Z"
   },
   {
    "duration": 387,
    "start_time": "2022-05-05T22:05:51.306Z"
   },
   {
    "duration": 335,
    "start_time": "2022-05-05T22:05:51.694Z"
   },
   {
    "duration": 154,
    "start_time": "2022-05-05T22:05:52.031Z"
   },
   {
    "duration": 182,
    "start_time": "2022-05-05T22:05:52.192Z"
   },
   {
    "duration": 236,
    "start_time": "2022-05-05T22:05:52.375Z"
   },
   {
    "duration": 10,
    "start_time": "2022-05-05T22:05:52.613Z"
   },
   {
    "duration": 389,
    "start_time": "2022-05-05T22:05:52.624Z"
   },
   {
    "duration": 8,
    "start_time": "2022-05-05T22:05:53.015Z"
   },
   {
    "duration": 300,
    "start_time": "2022-05-05T22:05:53.024Z"
   },
   {
    "duration": 165,
    "start_time": "2022-05-05T22:05:53.326Z"
   },
   {
    "duration": 243,
    "start_time": "2022-05-05T22:05:53.494Z"
   },
   {
    "duration": 286,
    "start_time": "2022-05-05T22:05:53.739Z"
   },
   {
    "duration": 125,
    "start_time": "2022-05-05T22:05:54.026Z"
   },
   {
    "duration": 523,
    "start_time": "2022-05-05T22:05:54.153Z"
   },
   {
    "duration": 30,
    "start_time": "2022-05-05T22:05:54.677Z"
   },
   {
    "duration": 222,
    "start_time": "2022-05-05T22:05:54.708Z"
   },
   {
    "duration": 881,
    "start_time": "2022-05-05T22:05:54.933Z"
   },
   {
    "duration": 656,
    "start_time": "2022-05-05T22:05:55.816Z"
   },
   {
    "duration": 497,
    "start_time": "2022-05-05T22:05:56.474Z"
   },
   {
    "duration": 1085,
    "start_time": "2022-05-05T22:06:43.887Z"
   },
   {
    "duration": 730,
    "start_time": "2022-05-05T22:06:52.026Z"
   },
   {
    "duration": 5,
    "start_time": "2022-05-05T22:06:52.758Z"
   },
   {
    "duration": 14,
    "start_time": "2022-05-05T22:06:52.765Z"
   },
   {
    "duration": 149,
    "start_time": "2022-05-05T22:06:52.781Z"
   },
   {
    "duration": 5,
    "start_time": "2022-05-05T22:06:52.931Z"
   },
   {
    "duration": 8,
    "start_time": "2022-05-05T22:06:52.938Z"
   },
   {
    "duration": 7,
    "start_time": "2022-05-05T22:06:52.947Z"
   },
   {
    "duration": 7,
    "start_time": "2022-05-05T22:06:52.956Z"
   },
   {
    "duration": 38,
    "start_time": "2022-05-05T22:06:52.965Z"
   },
   {
    "duration": 12,
    "start_time": "2022-05-05T22:06:53.006Z"
   },
   {
    "duration": 4,
    "start_time": "2022-05-05T22:06:53.020Z"
   },
   {
    "duration": 12,
    "start_time": "2022-05-05T22:06:53.025Z"
   },
   {
    "duration": 19,
    "start_time": "2022-05-05T22:06:53.038Z"
   },
   {
    "duration": 4,
    "start_time": "2022-05-05T22:06:53.058Z"
   },
   {
    "duration": 34,
    "start_time": "2022-05-05T22:06:53.063Z"
   },
   {
    "duration": 324,
    "start_time": "2022-05-05T22:06:53.098Z"
   },
   {
    "duration": 24,
    "start_time": "2022-05-05T22:06:53.424Z"
   },
   {
    "duration": 389,
    "start_time": "2022-05-05T22:06:53.449Z"
   },
   {
    "duration": 338,
    "start_time": "2022-05-05T22:06:53.840Z"
   },
   {
    "duration": 148,
    "start_time": "2022-05-05T22:06:54.180Z"
   },
   {
    "duration": 198,
    "start_time": "2022-05-05T22:06:54.330Z"
   },
   {
    "duration": 264,
    "start_time": "2022-05-05T22:06:54.530Z"
   },
   {
    "duration": 10,
    "start_time": "2022-05-05T22:06:54.796Z"
   },
   {
    "duration": 396,
    "start_time": "2022-05-05T22:06:54.807Z"
   },
   {
    "duration": 8,
    "start_time": "2022-05-05T22:06:55.205Z"
   },
   {
    "duration": 296,
    "start_time": "2022-05-05T22:06:55.214Z"
   },
   {
    "duration": 168,
    "start_time": "2022-05-05T22:06:55.512Z"
   },
   {
    "duration": 240,
    "start_time": "2022-05-05T22:06:55.683Z"
   },
   {
    "duration": 279,
    "start_time": "2022-05-05T22:06:55.925Z"
   },
   {
    "duration": 123,
    "start_time": "2022-05-05T22:06:56.205Z"
   },
   {
    "duration": 527,
    "start_time": "2022-05-05T22:06:56.330Z"
   },
   {
    "duration": 20,
    "start_time": "2022-05-05T22:06:56.858Z"
   },
   {
    "duration": 230,
    "start_time": "2022-05-05T22:06:56.879Z"
   },
   {
    "duration": 912,
    "start_time": "2022-05-05T22:06:57.110Z"
   },
   {
    "duration": 694,
    "start_time": "2022-05-05T22:06:58.024Z"
   },
   {
    "duration": 500,
    "start_time": "2022-05-05T22:06:58.719Z"
   },
   {
    "duration": 542,
    "start_time": "2022-05-05T22:08:50.053Z"
   },
   {
    "duration": 563,
    "start_time": "2022-05-05T22:11:04.892Z"
   },
   {
    "duration": 167,
    "start_time": "2022-05-05T22:11:09.336Z"
   },
   {
    "duration": 633,
    "start_time": "2022-05-05T22:11:14.337Z"
   },
   {
    "duration": 545,
    "start_time": "2022-05-05T22:11:32.278Z"
   },
   {
    "duration": 551,
    "start_time": "2022-05-05T22:11:53.298Z"
   },
   {
    "duration": 606,
    "start_time": "2022-05-05T22:12:20.264Z"
   },
   {
    "duration": 598,
    "start_time": "2022-05-05T22:12:42.648Z"
   },
   {
    "duration": 571,
    "start_time": "2022-05-05T22:12:47.424Z"
   },
   {
    "duration": 859,
    "start_time": "2022-05-05T22:13:55.842Z"
   },
   {
    "duration": 567,
    "start_time": "2022-05-05T22:17:35.116Z"
   },
   {
    "duration": 290,
    "start_time": "2022-05-05T22:22:30.153Z"
   },
   {
    "duration": 294,
    "start_time": "2022-05-05T22:23:01.146Z"
   },
   {
    "duration": 8,
    "start_time": "2022-05-05T22:23:18.181Z"
   },
   {
    "duration": 286,
    "start_time": "2022-05-05T22:23:20.378Z"
   },
   {
    "duration": 798,
    "start_time": "2022-05-05T22:23:26.866Z"
   },
   {
    "duration": 6,
    "start_time": "2022-05-05T22:23:27.666Z"
   },
   {
    "duration": 20,
    "start_time": "2022-05-05T22:23:27.673Z"
   },
   {
    "duration": 160,
    "start_time": "2022-05-05T22:23:27.696Z"
   },
   {
    "duration": 5,
    "start_time": "2022-05-05T22:23:27.857Z"
   },
   {
    "duration": 11,
    "start_time": "2022-05-05T22:23:27.864Z"
   },
   {
    "duration": 19,
    "start_time": "2022-05-05T22:23:27.877Z"
   },
   {
    "duration": 9,
    "start_time": "2022-05-05T22:23:27.898Z"
   },
   {
    "duration": 13,
    "start_time": "2022-05-05T22:23:27.909Z"
   },
   {
    "duration": 12,
    "start_time": "2022-05-05T22:23:27.925Z"
   },
   {
    "duration": 4,
    "start_time": "2022-05-05T22:23:27.939Z"
   },
   {
    "duration": 8,
    "start_time": "2022-05-05T22:23:27.945Z"
   },
   {
    "duration": 48,
    "start_time": "2022-05-05T22:23:27.955Z"
   },
   {
    "duration": 4,
    "start_time": "2022-05-05T22:23:28.005Z"
   },
   {
    "duration": 16,
    "start_time": "2022-05-05T22:23:28.010Z"
   },
   {
    "duration": 341,
    "start_time": "2022-05-05T22:23:28.028Z"
   },
   {
    "duration": 31,
    "start_time": "2022-05-05T22:23:28.371Z"
   },
   {
    "duration": 383,
    "start_time": "2022-05-05T22:23:28.404Z"
   },
   {
    "duration": 334,
    "start_time": "2022-05-05T22:23:28.792Z"
   },
   {
    "duration": 156,
    "start_time": "2022-05-05T22:23:29.127Z"
   },
   {
    "duration": 173,
    "start_time": "2022-05-05T22:23:29.292Z"
   },
   {
    "duration": 226,
    "start_time": "2022-05-05T22:23:29.466Z"
   },
   {
    "duration": 9,
    "start_time": "2022-05-05T22:23:29.694Z"
   },
   {
    "duration": 393,
    "start_time": "2022-05-05T22:23:29.705Z"
   },
   {
    "duration": 11,
    "start_time": "2022-05-05T22:23:30.099Z"
   },
   {
    "duration": 329,
    "start_time": "2022-05-05T22:23:30.112Z"
   },
   {
    "duration": 173,
    "start_time": "2022-05-05T22:23:30.442Z"
   },
   {
    "duration": 247,
    "start_time": "2022-05-05T22:23:30.618Z"
   },
   {
    "duration": 295,
    "start_time": "2022-05-05T22:23:30.866Z"
   },
   {
    "duration": 130,
    "start_time": "2022-05-05T22:23:31.162Z"
   },
   {
    "duration": 525,
    "start_time": "2022-05-05T22:23:31.294Z"
   },
   {
    "duration": 22,
    "start_time": "2022-05-05T22:23:31.821Z"
   },
   {
    "duration": 215,
    "start_time": "2022-05-05T22:23:31.844Z"
   },
   {
    "duration": 857,
    "start_time": "2022-05-05T22:23:32.061Z"
   },
   {
    "duration": 631,
    "start_time": "2022-05-05T22:23:32.920Z"
   },
   {
    "duration": 472,
    "start_time": "2022-05-05T22:23:33.552Z"
   },
   {
    "duration": 290,
    "start_time": "2022-05-05T22:25:53.142Z"
   },
   {
    "duration": 1079,
    "start_time": "2022-05-06T09:49:56.764Z"
   },
   {
    "duration": 9,
    "start_time": "2022-05-06T09:49:57.847Z"
   },
   {
    "duration": 35,
    "start_time": "2022-05-06T09:49:57.858Z"
   },
   {
    "duration": 253,
    "start_time": "2022-05-06T09:49:57.895Z"
   },
   {
    "duration": 6,
    "start_time": "2022-05-06T09:49:58.151Z"
   },
   {
    "duration": 14,
    "start_time": "2022-05-06T09:49:58.160Z"
   },
   {
    "duration": 12,
    "start_time": "2022-05-06T09:49:58.193Z"
   },
   {
    "duration": 13,
    "start_time": "2022-05-06T09:49:58.208Z"
   },
   {
    "duration": 18,
    "start_time": "2022-05-06T09:49:58.223Z"
   },
   {
    "duration": 58,
    "start_time": "2022-05-06T09:49:58.243Z"
   },
   {
    "duration": 7,
    "start_time": "2022-05-06T09:49:58.303Z"
   },
   {
    "duration": 13,
    "start_time": "2022-05-06T09:49:58.312Z"
   },
   {
    "duration": 25,
    "start_time": "2022-05-06T09:49:58.327Z"
   },
   {
    "duration": 5,
    "start_time": "2022-05-06T09:49:58.357Z"
   },
   {
    "duration": 17,
    "start_time": "2022-05-06T09:49:58.393Z"
   },
   {
    "duration": 566,
    "start_time": "2022-05-06T09:49:58.412Z"
   },
   {
    "duration": 46,
    "start_time": "2022-05-06T09:49:58.980Z"
   },
   {
    "duration": 684,
    "start_time": "2022-05-06T09:49:59.028Z"
   },
   {
    "duration": 570,
    "start_time": "2022-05-06T09:49:59.715Z"
   },
   {
    "duration": 260,
    "start_time": "2022-05-06T09:50:00.288Z"
   },
   {
    "duration": 319,
    "start_time": "2022-05-06T09:50:00.550Z"
   },
   {
    "duration": 422,
    "start_time": "2022-05-06T09:50:00.871Z"
   },
   {
    "duration": 16,
    "start_time": "2022-05-06T09:50:01.295Z"
   },
   {
    "duration": 637,
    "start_time": "2022-05-06T09:50:01.313Z"
   },
   {
    "duration": 16,
    "start_time": "2022-05-06T09:50:01.952Z"
   },
   {
    "duration": 574,
    "start_time": "2022-05-06T09:50:01.970Z"
   },
   {
    "duration": 274,
    "start_time": "2022-05-06T09:50:02.547Z"
   },
   {
    "duration": 415,
    "start_time": "2022-05-06T09:50:02.824Z"
   },
   {
    "duration": 480,
    "start_time": "2022-05-06T09:50:03.242Z"
   },
   {
    "duration": 212,
    "start_time": "2022-05-06T09:50:03.725Z"
   },
   {
    "duration": 897,
    "start_time": "2022-05-06T09:50:03.940Z"
   },
   {
    "duration": 31,
    "start_time": "2022-05-06T09:50:04.839Z"
   },
   {
    "duration": 327,
    "start_time": "2022-05-06T09:50:04.872Z"
   },
   {
    "duration": 1496,
    "start_time": "2022-05-06T09:50:05.201Z"
   },
   {
    "duration": 1244,
    "start_time": "2022-05-06T09:50:06.699Z"
   },
   {
    "duration": 824,
    "start_time": "2022-05-06T09:50:07.945Z"
   }
  ],
  "kernelspec": {
   "display_name": "Python 3 (ipykernel)",
   "language": "python",
   "name": "python3"
  },
  "language_info": {
   "codemirror_mode": {
    "name": "ipython",
    "version": 3
   },
   "file_extension": ".py",
   "mimetype": "text/x-python",
   "name": "python",
   "nbconvert_exporter": "python",
   "pygments_lexer": "ipython3",
   "version": "3.9.6"
  },
  "toc": {
   "base_numbering": 1,
   "nav_menu": {},
   "number_sections": true,
   "sideBar": true,
   "skip_h1_title": true,
   "title_cell": "Содержание",
   "title_sidebar": "Contents",
   "toc_cell": true,
   "toc_position": {
    "height": "calc(100% - 180px)",
    "left": "10px",
    "top": "150px",
    "width": "178.047px"
   },
   "toc_section_display": true,
   "toc_window_display": true
  }
 },
 "nbformat": 4,
 "nbformat_minor": 4
}
