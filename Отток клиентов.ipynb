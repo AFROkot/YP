{
 "cells": [
  {
   "cell_type": "markdown",
   "metadata": {
    "toc": true
   },
   "source": [
    "<h1>Содержание<span class=\"tocSkip\"></span></h1>\n",
    "<div class=\"toc\"><ul class=\"toc-item\"><li><span><a href=\"#Подготовка-данных\" data-toc-modified-id=\"Подготовка-данных-1\"><span class=\"toc-item-num\">1&nbsp;&nbsp;</span>Подготовка данных</a></span></li><li><span><a href=\"#Исследование-задачи\" data-toc-modified-id=\"Исследование-задачи-2\"><span class=\"toc-item-num\">2&nbsp;&nbsp;</span>Исследование задачи</a></span></li><li><span><a href=\"#Борьба-с-дисбалансом\" data-toc-modified-id=\"Борьба-с-дисбалансом-3\"><span class=\"toc-item-num\">3&nbsp;&nbsp;</span>Борьба с дисбалансом</a></span></li><li><span><a href=\"#Тестирование-модели\" data-toc-modified-id=\"Тестирование-модели-4\"><span class=\"toc-item-num\">4&nbsp;&nbsp;</span>Тестирование модели</a></span></li><li><span><a href=\"#Чек-лист-готовности-проекта\" data-toc-modified-id=\"Чек-лист-готовности-проекта-5\"><span class=\"toc-item-num\">5&nbsp;&nbsp;</span>Чек-лист готовности проекта</a></span></li></ul></div>"
   ]
  },
  {
   "cell_type": "markdown",
   "metadata": {},
   "source": [
    "# Отток клиентов"
   ]
  },
  {
   "cell_type": "markdown",
   "metadata": {},
   "source": [
    "Из «Бета-Банка» стали уходить клиенты. Каждый месяц. Немного, но заметно. Банковские маркетологи посчитали: сохранять текущих клиентов дешевле, чем привлекать новых.\n",
    "\n",
    "Нужно спрогнозировать, уйдёт клиент из банка в ближайшее время или нет. Вам предоставлены исторические данные о поведении клиентов и расторжении договоров с банком. \n",
    "\n",
    "Постройте модель с предельно большим значением *F1*-меры. Чтобы сдать проект успешно, нужно довести метрику до 0.59. Проверьте *F1*-меру на тестовой выборке самостоятельно.\n",
    "\n",
    "Дополнительно измеряйте *AUC-ROC*, сравнивайте её значение с *F1*-мерой.\n",
    "\n",
    "Источник данных: [https://www.kaggle.com/barelydedicated/bank-customer-churn-modeling](https://www.kaggle.com/barelydedicated/bank-customer-churn-modeling)"
   ]
  },
  {
   "cell_type": "markdown",
   "metadata": {},
   "source": [
    "## Подготовка данных"
   ]
  },
  {
   "cell_type": "code",
   "execution_count": 1,
   "metadata": {},
   "outputs": [],
   "source": [
    "import pandas as pd\n",
    "from sklearn.model_selection import train_test_split\n",
    "from sklearn.tree import DecisionTreeClassifier\n",
    "from sklearn.ensemble import RandomForestClassifier\n",
    "from sklearn.linear_model import LogisticRegression\n",
    "from sklearn.metrics import accuracy_score\n",
    "from sklearn.metrics import f1_score\n",
    "from sklearn.metrics import roc_auc_score\n",
    "from sklearn.utils import shuffle"
   ]
  },
  {
   "cell_type": "code",
   "execution_count": 2,
   "metadata": {},
   "outputs": [
    {
     "data": {
      "text/html": [
       "<div>\n",
       "<style scoped>\n",
       "    .dataframe tbody tr th:only-of-type {\n",
       "        vertical-align: middle;\n",
       "    }\n",
       "\n",
       "    .dataframe tbody tr th {\n",
       "        vertical-align: top;\n",
       "    }\n",
       "\n",
       "    .dataframe thead th {\n",
       "        text-align: right;\n",
       "    }\n",
       "</style>\n",
       "<table border=\"1\" class=\"dataframe\">\n",
       "  <thead>\n",
       "    <tr style=\"text-align: right;\">\n",
       "      <th></th>\n",
       "      <th>RowNumber</th>\n",
       "      <th>CustomerId</th>\n",
       "      <th>Surname</th>\n",
       "      <th>CreditScore</th>\n",
       "      <th>Geography</th>\n",
       "      <th>Gender</th>\n",
       "      <th>Age</th>\n",
       "      <th>Tenure</th>\n",
       "      <th>Balance</th>\n",
       "      <th>NumOfProducts</th>\n",
       "      <th>HasCrCard</th>\n",
       "      <th>IsActiveMember</th>\n",
       "      <th>EstimatedSalary</th>\n",
       "      <th>Exited</th>\n",
       "    </tr>\n",
       "  </thead>\n",
       "  <tbody>\n",
       "    <tr>\n",
       "      <th>0</th>\n",
       "      <td>1</td>\n",
       "      <td>15634602</td>\n",
       "      <td>Hargrave</td>\n",
       "      <td>619</td>\n",
       "      <td>France</td>\n",
       "      <td>Female</td>\n",
       "      <td>42</td>\n",
       "      <td>2.0</td>\n",
       "      <td>0.00</td>\n",
       "      <td>1</td>\n",
       "      <td>1</td>\n",
       "      <td>1</td>\n",
       "      <td>101348.88</td>\n",
       "      <td>1</td>\n",
       "    </tr>\n",
       "    <tr>\n",
       "      <th>1</th>\n",
       "      <td>2</td>\n",
       "      <td>15647311</td>\n",
       "      <td>Hill</td>\n",
       "      <td>608</td>\n",
       "      <td>Spain</td>\n",
       "      <td>Female</td>\n",
       "      <td>41</td>\n",
       "      <td>1.0</td>\n",
       "      <td>83807.86</td>\n",
       "      <td>1</td>\n",
       "      <td>0</td>\n",
       "      <td>1</td>\n",
       "      <td>112542.58</td>\n",
       "      <td>0</td>\n",
       "    </tr>\n",
       "    <tr>\n",
       "      <th>2</th>\n",
       "      <td>3</td>\n",
       "      <td>15619304</td>\n",
       "      <td>Onio</td>\n",
       "      <td>502</td>\n",
       "      <td>France</td>\n",
       "      <td>Female</td>\n",
       "      <td>42</td>\n",
       "      <td>8.0</td>\n",
       "      <td>159660.80</td>\n",
       "      <td>3</td>\n",
       "      <td>1</td>\n",
       "      <td>0</td>\n",
       "      <td>113931.57</td>\n",
       "      <td>1</td>\n",
       "    </tr>\n",
       "    <tr>\n",
       "      <th>3</th>\n",
       "      <td>4</td>\n",
       "      <td>15701354</td>\n",
       "      <td>Boni</td>\n",
       "      <td>699</td>\n",
       "      <td>France</td>\n",
       "      <td>Female</td>\n",
       "      <td>39</td>\n",
       "      <td>1.0</td>\n",
       "      <td>0.00</td>\n",
       "      <td>2</td>\n",
       "      <td>0</td>\n",
       "      <td>0</td>\n",
       "      <td>93826.63</td>\n",
       "      <td>0</td>\n",
       "    </tr>\n",
       "    <tr>\n",
       "      <th>4</th>\n",
       "      <td>5</td>\n",
       "      <td>15737888</td>\n",
       "      <td>Mitchell</td>\n",
       "      <td>850</td>\n",
       "      <td>Spain</td>\n",
       "      <td>Female</td>\n",
       "      <td>43</td>\n",
       "      <td>2.0</td>\n",
       "      <td>125510.82</td>\n",
       "      <td>1</td>\n",
       "      <td>1</td>\n",
       "      <td>1</td>\n",
       "      <td>79084.10</td>\n",
       "      <td>0</td>\n",
       "    </tr>\n",
       "  </tbody>\n",
       "</table>\n",
       "</div>"
      ],
      "text/plain": [
       "   RowNumber  CustomerId   Surname  CreditScore Geography  Gender  Age  \\\n",
       "0          1    15634602  Hargrave          619    France  Female   42   \n",
       "1          2    15647311      Hill          608     Spain  Female   41   \n",
       "2          3    15619304      Onio          502    France  Female   42   \n",
       "3          4    15701354      Boni          699    France  Female   39   \n",
       "4          5    15737888  Mitchell          850     Spain  Female   43   \n",
       "\n",
       "   Tenure    Balance  NumOfProducts  HasCrCard  IsActiveMember  \\\n",
       "0     2.0       0.00              1          1               1   \n",
       "1     1.0   83807.86              1          0               1   \n",
       "2     8.0  159660.80              3          1               0   \n",
       "3     1.0       0.00              2          0               0   \n",
       "4     2.0  125510.82              1          1               1   \n",
       "\n",
       "   EstimatedSalary  Exited  \n",
       "0        101348.88       1  \n",
       "1        112542.58       0  \n",
       "2        113931.57       1  \n",
       "3         93826.63       0  \n",
       "4         79084.10       0  "
      ]
     },
     "execution_count": 2,
     "metadata": {},
     "output_type": "execute_result"
    }
   ],
   "source": [
    "data = pd.read_csv('/datasets/Churn.csv')\n",
    "\n",
    "data.head(5)"
   ]
  },
  {
   "cell_type": "code",
   "execution_count": 3,
   "metadata": {},
   "outputs": [
    {
     "name": "stdout",
     "output_type": "stream",
     "text": [
      "<class 'pandas.core.frame.DataFrame'>\n",
      "RangeIndex: 10000 entries, 0 to 9999\n",
      "Data columns (total 14 columns):\n",
      " #   Column           Non-Null Count  Dtype  \n",
      "---  ------           --------------  -----  \n",
      " 0   RowNumber        10000 non-null  int64  \n",
      " 1   CustomerId       10000 non-null  int64  \n",
      " 2   Surname          10000 non-null  object \n",
      " 3   CreditScore      10000 non-null  int64  \n",
      " 4   Geography        10000 non-null  object \n",
      " 5   Gender           10000 non-null  object \n",
      " 6   Age              10000 non-null  int64  \n",
      " 7   Tenure           9091 non-null   float64\n",
      " 8   Balance          10000 non-null  float64\n",
      " 9   NumOfProducts    10000 non-null  int64  \n",
      " 10  HasCrCard        10000 non-null  int64  \n",
      " 11  IsActiveMember   10000 non-null  int64  \n",
      " 12  EstimatedSalary  10000 non-null  float64\n",
      " 13  Exited           10000 non-null  int64  \n",
      "dtypes: float64(3), int64(8), object(3)\n",
      "memory usage: 1.1+ MB\n"
     ]
    }
   ],
   "source": [
    "data.info()"
   ]
  },
  {
   "cell_type": "markdown",
   "metadata": {},
   "source": [
    "Есть пропуски в столбце \"Tenure\" около 9%, заменим пропуски медианным значением. "
   ]
  },
  {
   "cell_type": "code",
   "execution_count": 4,
   "metadata": {},
   "outputs": [],
   "source": [
    "data['Tenure'] = data['Tenure'].fillna(data['Tenure'].median())"
   ]
  },
  {
   "cell_type": "markdown",
   "metadata": {},
   "source": [
    "Уберём столбцы 'RowNumber', 'CustomerId', 'Surname' за ненадобностью и что бы они не влияли на предсказания."
   ]
  },
  {
   "cell_type": "code",
   "execution_count": 5,
   "metadata": {},
   "outputs": [],
   "source": [
    "data = data.drop(['RowNumber', 'CustomerId', 'Surname'], axis=1)"
   ]
  },
  {
   "cell_type": "markdown",
   "metadata": {},
   "source": [
    "Преобразуем категореальные признаки в численные "
   ]
  },
  {
   "cell_type": "code",
   "execution_count": 6,
   "metadata": {},
   "outputs": [],
   "source": [
    "data_ohe = pd.get_dummies(data, drop_first=True)"
   ]
  },
  {
   "cell_type": "markdown",
   "metadata": {},
   "source": [
    "## Исследование задачи"
   ]
  },
  {
   "cell_type": "markdown",
   "metadata": {},
   "source": [
    "Разделим данные на обучающие и валидационные."
   ]
  },
  {
   "cell_type": "code",
   "execution_count": 7,
   "metadata": {},
   "outputs": [],
   "source": [
    "features = data_ohe.drop('Exited', axis=1)\n",
    "target = data_ohe['Exited']\n",
    "\n",
    "f, features_valid, t, target_valid = train_test_split(features, target, test_size=0.20, random_state=12345)\n",
    "\n",
    "features_train, features_test, target_train, target_test = train_test_split(f,t, test_size=0.25, random_state=12345)\n"
   ]
  },
  {
   "cell_type": "markdown",
   "metadata": {},
   "source": [
    "Обучим модели без учета дисбаланса классов. Напишем функцию для выбора лучше модели."
   ]
  },
  {
   "cell_type": "code",
   "execution_count": 8,
   "metadata": {},
   "outputs": [],
   "source": [
    "# Создадим функцию для проверки сразу всех моделей с разными гиперпараметрами которая вернёт нам датафрэйм с колонками \n",
    "# 'models','results_f1','result_accuracy' в которых будут лучшие модели и их результаты.\n",
    "def test_models(f_train, t_train, f_valid, t_valid, class_weight=None):\n",
    "    depth = 1\n",
    "    estimators = 1\n",
    "    \n",
    "    def metod_list_form(depth, estimators):\n",
    "        metod_list = [[DecisionTreeClassifier(random_state=12345, class_weight=class_weight, max_depth=depth),20,2],\n",
    "                      [RandomForestClassifier(random_state=12345,class_weight=class_weight,\n",
    "                                              max_depth=depth, n_estimators=estimators),50,100],\n",
    "                      [LogisticRegression(random_state=12345,class_weight=class_weight),2,2]]\n",
    "        return metod_list\n",
    "    \n",
    "    result_df = pd.DataFrame(columns=['models','results_f1','result_accuracy','roc_auc'])\n",
    "    metod_list = metod_list_form(depth, estimators)\n",
    "    \n",
    "    for i in range(len(metod_list)):\n",
    "        best_model = None\n",
    "        best_result_f1 = 0\n",
    "        \n",
    "        for depth in range(1, metod_list[i][1],5):\n",
    "            \n",
    "            for estimators in range(1, metod_list[i][2],5):\n",
    "                model = metod_list[i][0]\n",
    "                model.fit(f_train,t_train) \n",
    "                predictions = model.predict(f_valid) \n",
    "                f1 = f1_score(t_valid, predictions) \n",
    "                metod_list = metod_list_form(depth, estimators)\n",
    "                \n",
    "                if f1 > best_result_f1:\n",
    "                    best_model = model\n",
    "                    best_result_f1 = f1\n",
    "                    best_result_accuracy = accuracy_score(t_valid, predictions)\n",
    "                    roc_auc = roc_auc_score(t_valid, model.predict_proba(f_valid)[:,1])\n",
    "                    \n",
    "                    \n",
    "        result_df.loc[len(result_df.index)] = [best_model, best_result_f1, best_result_accuracy,roc_auc] \n",
    "    return result_df"
   ]
  },
  {
   "cell_type": "code",
   "execution_count": 9,
   "metadata": {},
   "outputs": [],
   "source": [
    "best_top_models = test_models(features_train, target_train, features_valid, target_valid)"
   ]
  },
  {
   "cell_type": "code",
   "execution_count": 10,
   "metadata": {},
   "outputs": [
    {
     "name": "stdout",
     "output_type": "stream",
     "text": [
      "DecisionTreeClassifier(max_depth=6, random_state=12345) :f1  0.5096153846153846 :accuracy  0.847 :roc_auc 0.8415772007426254\n",
      "RandomForestClassifier(max_depth=31, n_estimators=81, random_state=12345) :f1  0.5824964131994261 :accuracy  0.8545 :roc_auc 0.859376093355229\n",
      "LogisticRegression(random_state=12345) :f1  0.102880658436214 :accuracy  0.782 :roc_auc 0.6709058452724622\n"
     ]
    }
   ],
   "source": [
    "print(best_top_models['models'][0],\n",
    "      ':f1 ',best_top_models['results_f1'][0],\n",
    "      ':accuracy ',best_top_models['result_accuracy'][0], \n",
    "      ':roc_auc',best_top_models['roc_auc'][0])\n",
    "\n",
    "print(best_top_models['models'][1],\n",
    "      ':f1 ',best_top_models['results_f1'][1],\n",
    "      ':accuracy ',best_top_models['result_accuracy'][1], \n",
    "      ':roc_auc',best_top_models['roc_auc'][1])\n",
    "\n",
    "print(best_top_models['models'][2],\n",
    "      ':f1 ',best_top_models['results_f1'][2],\n",
    "      ':accuracy ',best_top_models['result_accuracy'][2],\n",
    "      ':roc_auc',best_top_models['roc_auc'][2])"
   ]
  },
  {
   "cell_type": "markdown",
   "metadata": {},
   "source": [
    "Лучьший результат у модели с параметрами \"RandomForestClassifier(max_depth=31, n_estimators=81, random_state=12345)\" f1: 0.5824964131994261 accuracy: 0.8545  roc_auc: 0.859376093355229. Даже на валидационной выборки не выдаёт нужный нам результат, нужно улучшать модель."
   ]
  },
  {
   "cell_type": "markdown",
   "metadata": {},
   "source": [
    "## Борьба с дисбалансом"
   ]
  },
  {
   "cell_type": "markdown",
   "metadata": {},
   "source": [
    "Попробуем все три метода борьбы с дисбалансом. \n",
    "Для начала опробуем параметр class_weight='balanced'"
   ]
  },
  {
   "cell_type": "code",
   "execution_count": 11,
   "metadata": {},
   "outputs": [],
   "source": [
    "best_top_balance = test_models(features_train, target_train, features_valid, target_valid, 'balanced')"
   ]
  },
  {
   "cell_type": "code",
   "execution_count": 12,
   "metadata": {},
   "outputs": [
    {
     "name": "stdout",
     "output_type": "stream",
     "text": [
      "DecisionTreeClassifier(class_weight='balanced', max_depth=6, random_state=12345) :f1  0.5933852140077821 accuracy  0.791\n",
      "RandomForestClassifier(class_weight='balanced', max_depth=11, n_estimators=86,\n",
      "                       random_state=12345) :f1  0.6461916461916462 accuracy  0.856\n",
      "LogisticRegression(class_weight='balanced', random_state=12345) :f1  0.4550345887778632 accuracy  0.6455\n"
     ]
    }
   ],
   "source": [
    "print(best_top_balance['models'][0],':f1 ',best_top_balance['results_f1'][0],'accuracy ',best_top_balance['result_accuracy'][0])\n",
    "print(best_top_balance['models'][1],':f1 ',best_top_balance['results_f1'][1],'accuracy ',best_top_balance['result_accuracy'][1])\n",
    "print(best_top_balance['models'][2],':f1 ',best_top_balance['results_f1'][2],'accuracy ',best_top_balance['result_accuracy'][2])"
   ]
  },
  {
   "cell_type": "markdown",
   "metadata": {},
   "source": [
    "Увеличение выборки."
   ]
  },
  {
   "cell_type": "code",
   "execution_count": 13,
   "metadata": {},
   "outputs": [
    {
     "data": {
      "text/plain": [
       "Exited\n",
       "0    7963\n",
       "1    2037\n",
       "Name: Gender, dtype: int64"
      ]
     },
     "execution_count": 13,
     "metadata": {},
     "output_type": "execute_result"
    }
   ],
   "source": [
    "data.groupby('Exited').count()['Gender'] #Узнаем какой перекос и в какую сторону в нашей выборке"
   ]
  },
  {
   "cell_type": "markdown",
   "metadata": {},
   "source": [
    "Отрицательных значений в 4 раза больше положительных."
   ]
  },
  {
   "cell_type": "code",
   "execution_count": 14,
   "metadata": {},
   "outputs": [],
   "source": [
    "#Создадим функцияю для увелечения выборки\n",
    "def upsample(features, target, repeat):\n",
    "    features_zeros = features[target == 0]\n",
    "    features_ones = features[target == 1]\n",
    "    target_zeros = target[target == 0]\n",
    "    target_ones = target[target == 1]\n",
    "\n",
    "    features_upsampled = pd.concat([features_zeros] + [features_ones] * repeat)\n",
    "    target_upsampled = pd.concat([target_zeros] + [target_ones] * repeat)\n",
    "    \n",
    "    features_upsampled, target_upsampled = shuffle(\n",
    "        features_upsampled, target_upsampled, random_state=12345)\n",
    "    \n",
    "    return features_upsampled, target_upsampled"
   ]
  },
  {
   "cell_type": "code",
   "execution_count": 15,
   "metadata": {},
   "outputs": [],
   "source": [
    "features_upsampled, target_upsampled = upsample(features_train, target_train, 4)\n",
    "best_top_up = test_models(features_upsampled, target_upsampled, features_valid, target_valid)"
   ]
  },
  {
   "cell_type": "code",
   "execution_count": 16,
   "metadata": {},
   "outputs": [
    {
     "name": "stdout",
     "output_type": "stream",
     "text": [
      "DecisionTreeClassifier(max_depth=6, random_state=12345) :f1  0.5933852140077821 :accuracy  0.791\n",
      "RandomForestClassifier(max_depth=11, n_estimators=76, random_state=12345) :f1  0.6487695749440715 :accuracy  0.843\n",
      "LogisticRegression(random_state=12345) :f1  0.4511733535200605 :accuracy  0.6375\n"
     ]
    }
   ],
   "source": [
    "print(best_top_up['models'][0],':f1 ',best_top_up['results_f1'][0],':accuracy ',best_top_up['result_accuracy'][0])\n",
    "print(best_top_up['models'][1],':f1 ',best_top_up['results_f1'][1],':accuracy ',best_top_up['result_accuracy'][1])\n",
    "print(best_top_up['models'][2],':f1 ',best_top_up['results_f1'][2],':accuracy ',best_top_up['result_accuracy'][2])"
   ]
  },
  {
   "cell_type": "markdown",
   "metadata": {},
   "source": [
    "Уменьшения выборки."
   ]
  },
  {
   "cell_type": "code",
   "execution_count": 17,
   "metadata": {},
   "outputs": [],
   "source": [
    "#Создадим функцияю для уменьшения выборки\n",
    "def downsample(features, target, fraction):\n",
    "    features_zeros = features[target == 0]\n",
    "    features_ones = features[target == 1]\n",
    "    target_zeros = target[target == 0]\n",
    "    target_ones = target[target == 1]\n",
    "\n",
    "    features_downsampled = pd.concat(\n",
    "        [features_zeros.sample(frac=fraction, random_state=12345)] + [features_ones])\n",
    "    target_downsampled = pd.concat(\n",
    "        [target_zeros.sample(frac=fraction, random_state=12345)] + [target_ones])\n",
    "    \n",
    "    features_downsampled, target_downsampled = shuffle(\n",
    "        features_downsampled, target_downsampled, random_state=12345)\n",
    "    \n",
    "    return features_downsampled, target_downsampled\n",
    "\n"
   ]
  },
  {
   "cell_type": "code",
   "execution_count": 18,
   "metadata": {},
   "outputs": [],
   "source": [
    "features_downsampled, target_downsampled = downsample(features_train,target_train, 0.25)\n",
    "best_top_down = test_models(features_downsampled, target_downsampled, features_valid, target_valid)"
   ]
  },
  {
   "cell_type": "code",
   "execution_count": 19,
   "metadata": {},
   "outputs": [
    {
     "name": "stdout",
     "output_type": "stream",
     "text": [
      "DecisionTreeClassifier(max_depth=6, random_state=12345) :f1  0.5745062836624776 :accuracy  0.763\n",
      "RandomForestClassifier(max_depth=6, n_estimators=86, random_state=12345) :f1  0.6171003717472119 :accuracy  0.794\n",
      "LogisticRegression(random_state=12345) :f1  0.44879518072289154 :accuracy  0.634\n"
     ]
    }
   ],
   "source": [
    "print(best_top_down['models'][0],':f1 ',best_top_down['results_f1'][0],':accuracy ',best_top_down['result_accuracy'][0])\n",
    "print(best_top_down['models'][1],':f1 ',best_top_down['results_f1'][1],':accuracy ',best_top_down['result_accuracy'][1])\n",
    "print(best_top_down['models'][2],':f1 ',best_top_down['results_f1'][2],':accuracy ',best_top_down['result_accuracy'][2])"
   ]
  },
  {
   "cell_type": "code",
   "execution_count": 20,
   "metadata": {},
   "outputs": [
    {
     "data": {
      "text/html": [
       "<div>\n",
       "<style scoped>\n",
       "    .dataframe tbody tr th:only-of-type {\n",
       "        vertical-align: middle;\n",
       "    }\n",
       "\n",
       "    .dataframe tbody tr th {\n",
       "        vertical-align: top;\n",
       "    }\n",
       "\n",
       "    .dataframe thead th {\n",
       "        text-align: right;\n",
       "    }\n",
       "</style>\n",
       "<table border=\"1\" class=\"dataframe\">\n",
       "  <thead>\n",
       "    <tr style=\"text-align: right;\">\n",
       "      <th></th>\n",
       "      <th>models</th>\n",
       "      <th>results_f1</th>\n",
       "      <th>result_accuracy</th>\n",
       "      <th>roc_auc</th>\n",
       "    </tr>\n",
       "  </thead>\n",
       "  <tbody>\n",
       "    <tr>\n",
       "      <th>0</th>\n",
       "      <td>(DecisionTreeClassifier(max_depth=11, max_feat...</td>\n",
       "      <td>0.648770</td>\n",
       "      <td>0.8430</td>\n",
       "      <td>0.862984</td>\n",
       "    </tr>\n",
       "    <tr>\n",
       "      <th>1</th>\n",
       "      <td>(DecisionTreeClassifier(max_depth=11, max_feat...</td>\n",
       "      <td>0.646192</td>\n",
       "      <td>0.8560</td>\n",
       "      <td>0.862445</td>\n",
       "    </tr>\n",
       "    <tr>\n",
       "      <th>2</th>\n",
       "      <td>(DecisionTreeClassifier(max_depth=6, max_featu...</td>\n",
       "      <td>0.617100</td>\n",
       "      <td>0.7940</td>\n",
       "      <td>0.861498</td>\n",
       "    </tr>\n",
       "    <tr>\n",
       "      <th>3</th>\n",
       "      <td>DecisionTreeClassifier(class_weight='balanced'...</td>\n",
       "      <td>0.593385</td>\n",
       "      <td>0.7910</td>\n",
       "      <td>0.819066</td>\n",
       "    </tr>\n",
       "    <tr>\n",
       "      <th>4</th>\n",
       "      <td>DecisionTreeClassifier(max_depth=6, random_sta...</td>\n",
       "      <td>0.593385</td>\n",
       "      <td>0.7910</td>\n",
       "      <td>0.819026</td>\n",
       "    </tr>\n",
       "    <tr>\n",
       "      <th>5</th>\n",
       "      <td>DecisionTreeClassifier(max_depth=6, random_sta...</td>\n",
       "      <td>0.574506</td>\n",
       "      <td>0.7630</td>\n",
       "      <td>0.829786</td>\n",
       "    </tr>\n",
       "    <tr>\n",
       "      <th>6</th>\n",
       "      <td>LogisticRegression(class_weight='balanced', ra...</td>\n",
       "      <td>0.455035</td>\n",
       "      <td>0.6455</td>\n",
       "      <td>0.712009</td>\n",
       "    </tr>\n",
       "    <tr>\n",
       "      <th>7</th>\n",
       "      <td>LogisticRegression(random_state=12345)</td>\n",
       "      <td>0.451173</td>\n",
       "      <td>0.6375</td>\n",
       "      <td>0.712554</td>\n",
       "    </tr>\n",
       "    <tr>\n",
       "      <th>8</th>\n",
       "      <td>LogisticRegression(random_state=12345)</td>\n",
       "      <td>0.448795</td>\n",
       "      <td>0.6340</td>\n",
       "      <td>0.712749</td>\n",
       "    </tr>\n",
       "  </tbody>\n",
       "</table>\n",
       "</div>"
      ],
      "text/plain": [
       "                                              models  results_f1  \\\n",
       "0  (DecisionTreeClassifier(max_depth=11, max_feat...    0.648770   \n",
       "1  (DecisionTreeClassifier(max_depth=11, max_feat...    0.646192   \n",
       "2  (DecisionTreeClassifier(max_depth=6, max_featu...    0.617100   \n",
       "3  DecisionTreeClassifier(class_weight='balanced'...    0.593385   \n",
       "4  DecisionTreeClassifier(max_depth=6, random_sta...    0.593385   \n",
       "5  DecisionTreeClassifier(max_depth=6, random_sta...    0.574506   \n",
       "6  LogisticRegression(class_weight='balanced', ra...    0.455035   \n",
       "7             LogisticRegression(random_state=12345)    0.451173   \n",
       "8             LogisticRegression(random_state=12345)    0.448795   \n",
       "\n",
       "   result_accuracy   roc_auc  \n",
       "0           0.8430  0.862984  \n",
       "1           0.8560  0.862445  \n",
       "2           0.7940  0.861498  \n",
       "3           0.7910  0.819066  \n",
       "4           0.7910  0.819026  \n",
       "5           0.7630  0.829786  \n",
       "6           0.6455  0.712009  \n",
       "7           0.6375  0.712554  \n",
       "8           0.6340  0.712749  "
      ]
     },
     "execution_count": 20,
     "metadata": {},
     "output_type": "execute_result"
    }
   ],
   "source": [
    "top_model = (pd.concat([best_top_balance]+[best_top_up]+[best_top_down])\n",
    "             .sort_values(by=['results_f1'], ascending=False)\n",
    "            .reset_index(drop=True))\n",
    "top_model"
   ]
  },
  {
   "cell_type": "markdown",
   "metadata": {},
   "source": [
    "## Тестирование модели"
   ]
  },
  {
   "cell_type": "markdown",
   "metadata": {},
   "source": [
    "Лучше всего себя показал метод борьбы с дисбаланосм по принцыпу увеличения выборки, c параметрами\n",
    "RandomForestClassifier(max_depth=11, n_estimators=76, random_state=12345). Лучший результат f1: 0.648770"
   ]
  },
  {
   "cell_type": "code",
   "execution_count": 21,
   "metadata": {},
   "outputs": [
    {
     "name": "stdout",
     "output_type": "stream",
     "text": [
      "f1: 0.5938967136150236 accuracy: 0.827 roc_auc: 0.8459369372090176\n"
     ]
    }
   ],
   "source": [
    "model = top_model['models'][0]\n",
    "predictions = model.predict(features_test)\n",
    "print('f1:', f1_score(target_test, predictions), \n",
    "      'accuracy:', accuracy_score(target_test, predictions), \n",
    "      'roc_auc:', roc_auc_score(target_test, model.predict_proba(features_test)[:,1])) "
   ]
  },
  {
   "cell_type": "markdown",
   "metadata": {},
   "source": [
    "Результат тестовой на тестовой выборке нам подходит f1: 0.5938967136150236 accuracy: 0.827 roc_auc: 0.8459369372090176"
   ]
  }
 ],
 "metadata": {
  "ExecuteTimeLog": [
   {
    "duration": 392,
    "start_time": "2022-09-01T07:12:14.315Z"
   },
   {
    "duration": 69,
    "start_time": "2022-09-01T07:13:15.947Z"
   },
   {
    "duration": 164,
    "start_time": "2022-09-01T07:13:22.848Z"
   },
   {
    "duration": 57,
    "start_time": "2022-09-01T07:13:41.212Z"
   },
   {
    "duration": 17,
    "start_time": "2022-09-01T07:14:01.857Z"
   },
   {
    "duration": 15,
    "start_time": "2022-09-01T07:14:13.377Z"
   },
   {
    "duration": 55,
    "start_time": "2022-09-01T07:47:36.582Z"
   },
   {
    "duration": 67,
    "start_time": "2022-09-01T07:47:47.227Z"
   },
   {
    "duration": 6,
    "start_time": "2022-09-01T07:50:34.028Z"
   },
   {
    "duration": 4,
    "start_time": "2022-09-01T07:51:05.785Z"
   },
   {
    "duration": 8,
    "start_time": "2022-09-01T07:57:47.071Z"
   },
   {
    "duration": 5,
    "start_time": "2022-09-01T07:58:07.548Z"
   },
   {
    "duration": 4,
    "start_time": "2022-09-01T08:44:54.251Z"
   },
   {
    "duration": 4,
    "start_time": "2022-09-01T08:56:11.115Z"
   },
   {
    "duration": 12,
    "start_time": "2022-09-01T08:56:15.139Z"
   },
   {
    "duration": 17,
    "start_time": "2022-09-01T09:01:10.480Z"
   },
   {
    "duration": 7,
    "start_time": "2022-09-01T09:01:22.067Z"
   },
   {
    "duration": 14,
    "start_time": "2022-09-01T09:01:35.431Z"
   },
   {
    "duration": 6,
    "start_time": "2022-09-01T09:15:25.994Z"
   },
   {
    "duration": 5,
    "start_time": "2022-09-01T09:19:19.366Z"
   },
   {
    "duration": 7,
    "start_time": "2022-09-01T09:20:35.515Z"
   },
   {
    "duration": 10,
    "start_time": "2022-09-01T09:29:28.243Z"
   },
   {
    "duration": 47,
    "start_time": "2022-09-01T09:41:37.432Z"
   },
   {
    "duration": 3,
    "start_time": "2022-09-01T09:42:00.084Z"
   },
   {
    "duration": 7,
    "start_time": "2022-09-01T09:56:43.451Z"
   },
   {
    "duration": 60,
    "start_time": "2022-09-01T09:56:48.842Z"
   },
   {
    "duration": 11,
    "start_time": "2022-09-01T10:09:19.600Z"
   },
   {
    "duration": 14,
    "start_time": "2022-09-01T10:09:34.916Z"
   },
   {
    "duration": 14,
    "start_time": "2022-09-01T10:10:20.036Z"
   },
   {
    "duration": 12,
    "start_time": "2022-09-01T10:10:32.623Z"
   },
   {
    "duration": 22,
    "start_time": "2022-09-01T10:13:29.296Z"
   },
   {
    "duration": 1082,
    "start_time": "2022-09-01T10:13:42.344Z"
   },
   {
    "duration": 59,
    "start_time": "2022-09-01T10:13:43.428Z"
   },
   {
    "duration": 13,
    "start_time": "2022-09-01T10:13:43.488Z"
   },
   {
    "duration": 15,
    "start_time": "2022-09-01T10:13:43.503Z"
   },
   {
    "duration": 19,
    "start_time": "2022-09-01T10:13:43.520Z"
   },
   {
    "duration": 30,
    "start_time": "2022-09-01T10:13:43.541Z"
   },
   {
    "duration": 42,
    "start_time": "2022-09-01T10:13:43.573Z"
   },
   {
    "duration": 23,
    "start_time": "2022-09-01T10:13:43.617Z"
   },
   {
    "duration": 140,
    "start_time": "2022-09-01T10:13:43.642Z"
   },
   {
    "duration": 3,
    "start_time": "2022-09-01T10:14:14.306Z"
   },
   {
    "duration": 7,
    "start_time": "2022-09-01T10:14:18.283Z"
   },
   {
    "duration": 56272,
    "start_time": "2022-09-01T10:14:21.520Z"
   },
   {
    "duration": 17,
    "start_time": "2022-09-01T10:15:58.612Z"
   },
   {
    "duration": 7,
    "start_time": "2022-09-01T10:16:51.736Z"
   },
   {
    "duration": 7,
    "start_time": "2022-09-01T10:22:47.884Z"
   },
   {
    "duration": 167,
    "start_time": "2022-09-01T10:22:49.115Z"
   },
   {
    "duration": 7,
    "start_time": "2022-09-01T10:23:57.915Z"
   },
   {
    "duration": 56367,
    "start_time": "2022-09-01T10:23:59.425Z"
   },
   {
    "duration": 1214,
    "start_time": "2022-09-01T10:25:16.796Z"
   },
   {
    "duration": 1450,
    "start_time": "2022-09-01T10:26:46.587Z"
   },
   {
    "duration": 1401,
    "start_time": "2022-09-01T10:27:01.418Z"
   },
   {
    "duration": 6,
    "start_time": "2022-09-01T10:27:47.244Z"
   },
   {
    "duration": 1073,
    "start_time": "2022-09-02T12:46:44.373Z"
   },
   {
    "duration": 382,
    "start_time": "2022-09-02T12:46:45.448Z"
   },
   {
    "duration": 15,
    "start_time": "2022-09-02T12:46:45.832Z"
   },
   {
    "duration": 5,
    "start_time": "2022-09-02T12:46:45.849Z"
   },
   {
    "duration": 6,
    "start_time": "2022-09-02T12:46:45.856Z"
   },
   {
    "duration": 17,
    "start_time": "2022-09-02T12:46:45.863Z"
   },
   {
    "duration": 11,
    "start_time": "2022-09-02T12:46:45.882Z"
   },
   {
    "duration": 7,
    "start_time": "2022-09-02T12:46:45.895Z"
   },
   {
    "duration": 51164,
    "start_time": "2022-09-02T12:46:45.904Z"
   },
   {
    "duration": 96,
    "start_time": "2022-09-02T12:47:37.072Z"
   },
   {
    "duration": 6,
    "start_time": "2022-09-02T12:49:15.469Z"
   },
   {
    "duration": 52507,
    "start_time": "2022-09-02T12:49:17.367Z"
   },
   {
    "duration": 8,
    "start_time": "2022-09-02T12:58:41.440Z"
   },
   {
    "duration": 7,
    "start_time": "2022-09-02T13:21:04.972Z"
   },
   {
    "duration": 107,
    "start_time": "2022-09-02T13:21:08.841Z"
   },
   {
    "duration": 9,
    "start_time": "2022-09-02T13:21:28.894Z"
   },
   {
    "duration": 54225,
    "start_time": "2022-09-02T13:21:31.143Z"
   },
   {
    "duration": 7,
    "start_time": "2022-09-02T13:22:29.611Z"
   },
   {
    "duration": 53804,
    "start_time": "2022-09-02T13:22:46.465Z"
   },
   {
    "duration": 7,
    "start_time": "2022-09-02T13:23:43.146Z"
   },
   {
    "duration": 54198,
    "start_time": "2022-09-02T13:41:45.178Z"
   },
   {
    "duration": 8,
    "start_time": "2022-09-02T13:43:10.947Z"
   },
   {
    "duration": 3,
    "start_time": "2022-09-02T13:48:21.878Z"
   },
   {
    "duration": 9,
    "start_time": "2022-09-02T13:54:24.927Z"
   },
   {
    "duration": 9,
    "start_time": "2022-09-02T13:54:34.392Z"
   },
   {
    "duration": 39,
    "start_time": "2022-09-02T13:54:40.622Z"
   },
   {
    "duration": 21,
    "start_time": "2022-09-02T13:54:59.835Z"
   },
   {
    "duration": 47,
    "start_time": "2022-09-02T14:01:51.689Z"
   },
   {
    "duration": 42,
    "start_time": "2022-09-02T14:03:26.858Z"
   },
   {
    "duration": 8,
    "start_time": "2022-09-02T14:14:53.224Z"
   },
   {
    "duration": 4,
    "start_time": "2022-09-02T14:14:57.800Z"
   },
   {
    "duration": 5,
    "start_time": "2022-09-02T14:15:07.614Z"
   },
   {
    "duration": 4,
    "start_time": "2022-09-02T14:15:16.234Z"
   },
   {
    "duration": 9,
    "start_time": "2022-09-02T14:16:27.791Z"
   },
   {
    "duration": 9,
    "start_time": "2022-09-02T14:16:37.198Z"
   },
   {
    "duration": 9,
    "start_time": "2022-09-02T14:16:44.835Z"
   },
   {
    "duration": 14,
    "start_time": "2022-09-02T14:17:06.572Z"
   },
   {
    "duration": 1424,
    "start_time": "2022-09-02T14:17:41.491Z"
   },
   {
    "duration": 13,
    "start_time": "2022-09-02T14:18:01.199Z"
   },
   {
    "duration": 13,
    "start_time": "2022-09-02T14:18:08.378Z"
   },
   {
    "duration": 9,
    "start_time": "2022-09-02T14:18:31.331Z"
   },
   {
    "duration": 8,
    "start_time": "2022-09-02T14:25:08.383Z"
   },
   {
    "duration": 4,
    "start_time": "2022-09-02T14:25:12.275Z"
   },
   {
    "duration": 19,
    "start_time": "2022-09-02T14:25:14.193Z"
   },
   {
    "duration": 4,
    "start_time": "2022-09-02T14:25:31.538Z"
   },
   {
    "duration": 5,
    "start_time": "2022-09-02T14:25:35.482Z"
   },
   {
    "duration": 69583,
    "start_time": "2022-09-02T14:25:37.499Z"
   },
   {
    "duration": 7,
    "start_time": "2022-09-02T14:28:37.965Z"
   },
   {
    "duration": 17,
    "start_time": "2022-09-02T14:32:25.834Z"
   },
   {
    "duration": 20,
    "start_time": "2022-09-02T14:33:06.598Z"
   },
   {
    "duration": 10,
    "start_time": "2022-09-02T14:34:59.384Z"
   },
   {
    "duration": 11,
    "start_time": "2022-09-02T14:36:14.240Z"
   },
   {
    "duration": 33069,
    "start_time": "2022-09-02T14:36:58.409Z"
   },
   {
    "duration": 7,
    "start_time": "2022-09-02T14:38:14.956Z"
   },
   {
    "duration": 17,
    "start_time": "2022-09-02T14:38:34.957Z"
   },
   {
    "duration": 9,
    "start_time": "2022-09-02T14:39:38.062Z"
   },
   {
    "duration": 11,
    "start_time": "2022-09-02T14:39:53.114Z"
   },
   {
    "duration": 12,
    "start_time": "2022-09-02T14:40:03.490Z"
   },
   {
    "duration": 10,
    "start_time": "2022-09-02T14:41:05.876Z"
   },
   {
    "duration": 9,
    "start_time": "2022-09-02T14:42:24.739Z"
   },
   {
    "duration": 9,
    "start_time": "2022-09-02T14:42:57.289Z"
   },
   {
    "duration": 27,
    "start_time": "2022-09-02T14:43:06.428Z"
   },
   {
    "duration": 9,
    "start_time": "2022-09-02T14:43:39.534Z"
   },
   {
    "duration": 26,
    "start_time": "2022-09-02T14:43:55.665Z"
   },
   {
    "duration": 1111,
    "start_time": "2022-09-02T14:44:45.015Z"
   },
   {
    "duration": 58,
    "start_time": "2022-09-02T14:44:46.128Z"
   },
   {
    "duration": 14,
    "start_time": "2022-09-02T14:44:46.188Z"
   },
   {
    "duration": 5,
    "start_time": "2022-09-02T14:44:46.205Z"
   },
   {
    "duration": 8,
    "start_time": "2022-09-02T14:44:46.211Z"
   },
   {
    "duration": 14,
    "start_time": "2022-09-02T14:44:46.220Z"
   },
   {
    "duration": 40,
    "start_time": "2022-09-02T14:44:46.236Z"
   },
   {
    "duration": 7,
    "start_time": "2022-09-02T14:44:46.278Z"
   },
   {
    "duration": 53687,
    "start_time": "2022-09-02T14:44:46.287Z"
   },
   {
    "duration": 97,
    "start_time": "2022-09-02T14:45:39.977Z"
   },
   {
    "duration": 52598,
    "start_time": "2022-09-02T14:45:40.076Z"
   },
   {
    "duration": 92,
    "start_time": "2022-09-02T14:46:32.678Z"
   },
   {
    "duration": 103,
    "start_time": "2022-09-02T14:46:32.772Z"
   },
   {
    "duration": 37,
    "start_time": "2022-09-02T14:46:32.876Z"
   },
   {
    "duration": 8,
    "start_time": "2022-09-02T14:46:32.915Z"
   },
   {
    "duration": 4,
    "start_time": "2022-09-02T14:46:32.925Z"
   },
   {
    "duration": 71844,
    "start_time": "2022-09-02T14:46:32.931Z"
   },
   {
    "duration": 96,
    "start_time": "2022-09-02T14:47:44.776Z"
   },
   {
    "duration": 123,
    "start_time": "2022-09-02T14:47:44.874Z"
   },
   {
    "duration": 4,
    "start_time": "2022-09-02T14:47:44.999Z"
   },
   {
    "duration": 34563,
    "start_time": "2022-09-02T14:47:45.005Z"
   },
   {
    "duration": 98,
    "start_time": "2022-09-02T14:48:19.570Z"
   },
   {
    "duration": 27,
    "start_time": "2022-09-02T14:48:19.670Z"
   },
   {
    "duration": 27,
    "start_time": "2022-09-02T15:01:43.978Z"
   },
   {
    "duration": 19604,
    "start_time": "2022-09-02T15:03:49.272Z"
   },
   {
    "duration": 8,
    "start_time": "2022-09-02T15:04:13.173Z"
   },
   {
    "duration": 34741,
    "start_time": "2022-09-02T15:04:18.027Z"
   },
   {
    "duration": 1061,
    "start_time": "2022-09-02T15:07:16.704Z"
   },
   {
    "duration": 56,
    "start_time": "2022-09-02T15:07:17.766Z"
   },
   {
    "duration": 13,
    "start_time": "2022-09-02T15:07:17.824Z"
   },
   {
    "duration": 5,
    "start_time": "2022-09-02T15:07:17.839Z"
   },
   {
    "duration": 8,
    "start_time": "2022-09-02T15:07:17.845Z"
   },
   {
    "duration": 22,
    "start_time": "2022-09-02T15:07:17.854Z"
   },
   {
    "duration": 11,
    "start_time": "2022-09-02T15:07:17.877Z"
   },
   {
    "duration": 6,
    "start_time": "2022-09-02T15:07:17.890Z"
   },
   {
    "duration": 129977,
    "start_time": "2022-09-02T15:07:17.898Z"
   },
   {
    "duration": 97,
    "start_time": "2022-09-02T15:09:27.878Z"
   },
   {
    "duration": 128097,
    "start_time": "2022-09-02T15:09:27.977Z"
   },
   {
    "duration": 93,
    "start_time": "2022-09-02T15:11:36.076Z"
   },
   {
    "duration": 116,
    "start_time": "2022-09-02T15:11:36.171Z"
   },
   {
    "duration": 8,
    "start_time": "2022-09-02T15:11:36.289Z"
   },
   {
    "duration": 4,
    "start_time": "2022-09-02T15:11:36.299Z"
   },
   {
    "duration": 171564,
    "start_time": "2022-09-02T15:11:36.304Z"
   },
   {
    "duration": 7,
    "start_time": "2022-09-02T15:14:27.870Z"
   },
   {
    "duration": 48,
    "start_time": "2022-09-02T15:14:27.968Z"
   },
   {
    "duration": 4,
    "start_time": "2022-09-02T15:14:28.018Z"
   },
   {
    "duration": 76444,
    "start_time": "2022-09-02T15:14:28.024Z"
   },
   {
    "duration": 98,
    "start_time": "2022-09-02T15:15:44.471Z"
   },
   {
    "duration": 29,
    "start_time": "2022-09-02T15:15:44.571Z"
   },
   {
    "duration": 7,
    "start_time": "2022-09-02T15:18:02.210Z"
   },
   {
    "duration": 1113,
    "start_time": "2022-09-02T15:18:17.681Z"
   },
   {
    "duration": 55,
    "start_time": "2022-09-02T15:18:18.796Z"
   },
   {
    "duration": 14,
    "start_time": "2022-09-02T15:18:18.853Z"
   },
   {
    "duration": 5,
    "start_time": "2022-09-02T15:18:18.869Z"
   },
   {
    "duration": 8,
    "start_time": "2022-09-02T15:18:18.875Z"
   },
   {
    "duration": 15,
    "start_time": "2022-09-02T15:18:18.884Z"
   },
   {
    "duration": 10,
    "start_time": "2022-09-02T15:18:18.901Z"
   },
   {
    "duration": 6,
    "start_time": "2022-09-02T15:18:18.913Z"
   },
   {
    "duration": 58848,
    "start_time": "2022-09-02T15:18:18.921Z"
   },
   {
    "duration": 97,
    "start_time": "2022-09-02T15:19:17.772Z"
   },
   {
    "duration": 58301,
    "start_time": "2022-09-02T15:19:17.870Z"
   },
   {
    "duration": 96,
    "start_time": "2022-09-02T15:20:16.173Z"
   },
   {
    "duration": 98,
    "start_time": "2022-09-02T15:20:16.271Z"
   },
   {
    "duration": 9,
    "start_time": "2022-09-02T15:20:16.370Z"
   },
   {
    "duration": 5,
    "start_time": "2022-09-02T15:20:16.380Z"
   },
   {
    "duration": 82481,
    "start_time": "2022-09-02T15:20:16.387Z"
   },
   {
    "duration": 100,
    "start_time": "2022-09-02T15:21:38.870Z"
   },
   {
    "duration": 75,
    "start_time": "2022-09-02T15:21:38.972Z"
   },
   {
    "duration": 4,
    "start_time": "2022-09-02T15:21:39.067Z"
   },
   {
    "duration": 32599,
    "start_time": "2022-09-02T15:21:39.073Z"
   },
   {
    "duration": 98,
    "start_time": "2022-09-02T15:22:11.674Z"
   },
   {
    "duration": 68,
    "start_time": "2022-09-02T15:22:11.773Z"
   },
   {
    "duration": 1096,
    "start_time": "2022-09-02T16:34:07.699Z"
   },
   {
    "duration": 60,
    "start_time": "2022-09-02T16:34:08.797Z"
   },
   {
    "duration": 13,
    "start_time": "2022-09-02T16:34:08.859Z"
   },
   {
    "duration": 4,
    "start_time": "2022-09-02T16:34:08.874Z"
   },
   {
    "duration": 7,
    "start_time": "2022-09-02T16:34:08.879Z"
   },
   {
    "duration": 14,
    "start_time": "2022-09-02T16:34:08.888Z"
   },
   {
    "duration": 10,
    "start_time": "2022-09-02T16:34:08.904Z"
   },
   {
    "duration": 7,
    "start_time": "2022-09-02T16:34:08.915Z"
   },
   {
    "duration": 55044,
    "start_time": "2022-09-02T16:34:08.924Z"
   },
   {
    "duration": 96,
    "start_time": "2022-09-02T16:35:03.974Z"
   },
   {
    "duration": 55397,
    "start_time": "2022-09-02T16:35:04.072Z"
   },
   {
    "duration": 97,
    "start_time": "2022-09-02T16:35:59.471Z"
   },
   {
    "duration": 8,
    "start_time": "2022-09-02T16:35:59.570Z"
   },
   {
    "duration": 4,
    "start_time": "2022-09-02T16:35:59.579Z"
   },
   {
    "duration": 75291,
    "start_time": "2022-09-02T16:35:59.585Z"
   },
   {
    "duration": 9,
    "start_time": "2022-09-02T16:37:14.968Z"
   },
   {
    "duration": 5,
    "start_time": "2022-09-02T16:37:15.068Z"
   },
   {
    "duration": 30994,
    "start_time": "2022-09-02T16:37:15.074Z"
   },
   {
    "duration": 97,
    "start_time": "2022-09-02T16:37:46.070Z"
   },
   {
    "duration": 126,
    "start_time": "2022-09-02T16:37:46.169Z"
   },
   {
    "duration": 0,
    "start_time": "2022-09-02T16:37:46.296Z"
   },
   {
    "duration": 0,
    "start_time": "2022-09-02T16:37:46.298Z"
   },
   {
    "duration": 89,
    "start_time": "2022-09-02T16:43:19.847Z"
   },
   {
    "duration": 72,
    "start_time": "2022-09-02T16:43:22.078Z"
   },
   {
    "duration": 63,
    "start_time": "2022-09-02T16:43:24.438Z"
   },
   {
    "duration": 74,
    "start_time": "2022-09-02T16:55:59.090Z"
   },
   {
    "duration": 10,
    "start_time": "2022-09-02T16:56:24.323Z"
   },
   {
    "duration": 91,
    "start_time": "2022-09-02T16:56:32.165Z"
   },
   {
    "duration": 1054,
    "start_time": "2022-09-05T09:26:12.891Z"
   },
   {
    "duration": 96,
    "start_time": "2022-09-05T09:26:13.946Z"
   },
   {
    "duration": 11,
    "start_time": "2022-09-05T09:26:14.043Z"
   },
   {
    "duration": 5,
    "start_time": "2022-09-05T09:26:14.055Z"
   },
   {
    "duration": 10,
    "start_time": "2022-09-05T09:26:14.061Z"
   },
   {
    "duration": 11,
    "start_time": "2022-09-05T09:26:14.072Z"
   },
   {
    "duration": 8,
    "start_time": "2022-09-05T09:26:14.085Z"
   },
   {
    "duration": 6,
    "start_time": "2022-09-05T09:26:14.094Z"
   },
   {
    "duration": 0,
    "start_time": "2022-09-05T09:26:14.102Z"
   },
   {
    "duration": 0,
    "start_time": "2022-09-05T09:26:14.103Z"
   },
   {
    "duration": 0,
    "start_time": "2022-09-05T09:26:14.104Z"
   },
   {
    "duration": 0,
    "start_time": "2022-09-05T09:26:14.106Z"
   },
   {
    "duration": 0,
    "start_time": "2022-09-05T09:26:14.106Z"
   },
   {
    "duration": 0,
    "start_time": "2022-09-05T09:26:14.107Z"
   },
   {
    "duration": 0,
    "start_time": "2022-09-05T09:26:14.108Z"
   },
   {
    "duration": 0,
    "start_time": "2022-09-05T09:26:14.110Z"
   },
   {
    "duration": 0,
    "start_time": "2022-09-05T09:26:14.110Z"
   },
   {
    "duration": 0,
    "start_time": "2022-09-05T09:26:14.111Z"
   },
   {
    "duration": 0,
    "start_time": "2022-09-05T09:26:14.113Z"
   },
   {
    "duration": 0,
    "start_time": "2022-09-05T09:26:14.113Z"
   },
   {
    "duration": 1068,
    "start_time": "2022-09-05T09:46:22.541Z"
   },
   {
    "duration": 52,
    "start_time": "2022-09-05T09:46:23.611Z"
   },
   {
    "duration": 10,
    "start_time": "2022-09-05T09:46:23.664Z"
   },
   {
    "duration": 4,
    "start_time": "2022-09-05T09:46:23.676Z"
   },
   {
    "duration": 19,
    "start_time": "2022-09-05T09:46:23.681Z"
   },
   {
    "duration": 17,
    "start_time": "2022-09-05T09:46:23.701Z"
   },
   {
    "duration": 9,
    "start_time": "2022-09-05T09:46:23.719Z"
   },
   {
    "duration": 7,
    "start_time": "2022-09-05T09:46:23.729Z"
   },
   {
    "duration": 56767,
    "start_time": "2022-09-05T09:46:23.737Z"
   },
   {
    "duration": 17,
    "start_time": "2022-09-05T09:47:20.590Z"
   },
   {
    "duration": 58112,
    "start_time": "2022-09-05T09:47:20.686Z"
   },
   {
    "duration": 16,
    "start_time": "2022-09-05T09:48:18.890Z"
   },
   {
    "duration": 105,
    "start_time": "2022-09-05T09:48:18.907Z"
   },
   {
    "duration": 4,
    "start_time": "2022-09-05T09:48:19.014Z"
   },
   {
    "duration": 77068,
    "start_time": "2022-09-05T09:48:19.020Z"
   },
   {
    "duration": 21,
    "start_time": "2022-09-05T09:49:36.089Z"
   },
   {
    "duration": 90,
    "start_time": "2022-09-05T09:49:36.112Z"
   },
   {
    "duration": 31586,
    "start_time": "2022-09-05T09:49:36.204Z"
   },
   {
    "duration": 13,
    "start_time": "2022-09-05T09:50:07.791Z"
   },
   {
    "duration": 167,
    "start_time": "2022-09-05T09:50:07.807Z"
   },
   {
    "duration": 6,
    "start_time": "2022-09-05T09:51:40.639Z"
   },
   {
    "duration": 7,
    "start_time": "2022-09-05T09:52:06.398Z"
   },
   {
    "duration": 4,
    "start_time": "2022-09-05T10:00:25.455Z"
   },
   {
    "duration": 95,
    "start_time": "2022-09-05T10:00:34.762Z"
   },
   {
    "duration": 119,
    "start_time": "2022-09-05T10:00:40.132Z"
   },
   {
    "duration": 10,
    "start_time": "2022-09-05T10:01:19.719Z"
   },
   {
    "duration": 129,
    "start_time": "2022-09-05T10:01:45.604Z"
   },
   {
    "duration": 115,
    "start_time": "2022-09-05T10:01:51.878Z"
   },
   {
    "duration": 9,
    "start_time": "2022-09-05T10:05:12.729Z"
   },
   {
    "duration": 5,
    "start_time": "2022-09-05T10:06:04.991Z"
   },
   {
    "duration": 5,
    "start_time": "2022-09-05T10:06:10.682Z"
   },
   {
    "duration": 15,
    "start_time": "2022-09-05T10:07:34.391Z"
   },
   {
    "duration": 115,
    "start_time": "2022-09-05T10:07:51.876Z"
   },
   {
    "duration": 118,
    "start_time": "2022-09-05T10:08:20.615Z"
   },
   {
    "duration": 75,
    "start_time": "2022-09-05T10:08:37.769Z"
   },
   {
    "duration": 7,
    "start_time": "2022-09-05T10:09:35.072Z"
   },
   {
    "duration": 81,
    "start_time": "2022-09-05T10:10:35.665Z"
   },
   {
    "duration": 65,
    "start_time": "2022-09-05T10:11:23.074Z"
   },
   {
    "duration": 119,
    "start_time": "2022-09-05T10:12:04.050Z"
   },
   {
    "duration": 67,
    "start_time": "2022-09-05T10:14:52.120Z"
   },
   {
    "duration": 1114,
    "start_time": "2022-09-05T10:15:03.732Z"
   },
   {
    "duration": 51,
    "start_time": "2022-09-05T10:15:04.848Z"
   },
   {
    "duration": 11,
    "start_time": "2022-09-05T10:15:04.901Z"
   },
   {
    "duration": 12,
    "start_time": "2022-09-05T10:15:04.914Z"
   },
   {
    "duration": 10,
    "start_time": "2022-09-05T10:15:04.927Z"
   },
   {
    "duration": 28,
    "start_time": "2022-09-05T10:15:04.939Z"
   },
   {
    "duration": 19,
    "start_time": "2022-09-05T10:15:04.969Z"
   },
   {
    "duration": 10,
    "start_time": "2022-09-05T10:15:04.989Z"
   },
   {
    "duration": 53990,
    "start_time": "2022-09-05T10:15:05.000Z"
   },
   {
    "duration": 94,
    "start_time": "2022-09-05T10:15:58.993Z"
   },
   {
    "duration": 52596,
    "start_time": "2022-09-05T10:15:59.088Z"
   },
   {
    "duration": 7,
    "start_time": "2022-09-05T10:16:51.686Z"
   },
   {
    "duration": 105,
    "start_time": "2022-09-05T10:16:51.695Z"
   },
   {
    "duration": 3,
    "start_time": "2022-09-05T10:16:51.801Z"
   },
   {
    "duration": 71689,
    "start_time": "2022-09-05T10:16:51.806Z"
   },
   {
    "duration": 8,
    "start_time": "2022-09-05T10:18:03.586Z"
   },
   {
    "duration": 14,
    "start_time": "2022-09-05T10:18:03.685Z"
   },
   {
    "duration": 29484,
    "start_time": "2022-09-05T10:18:03.701Z"
   },
   {
    "duration": 99,
    "start_time": "2022-09-05T10:18:33.187Z"
   },
   {
    "duration": 128,
    "start_time": "2022-09-05T10:18:33.288Z"
   },
   {
    "duration": 88,
    "start_time": "2022-09-05T10:18:33.418Z"
   },
   {
    "duration": 1246,
    "start_time": "2022-09-05T14:21:25.525Z"
   },
   {
    "duration": 99,
    "start_time": "2022-09-05T14:21:26.773Z"
   },
   {
    "duration": 12,
    "start_time": "2022-09-05T14:21:26.873Z"
   },
   {
    "duration": 4,
    "start_time": "2022-09-05T14:21:26.886Z"
   },
   {
    "duration": 5,
    "start_time": "2022-09-05T14:21:26.892Z"
   },
   {
    "duration": 15,
    "start_time": "2022-09-05T14:21:26.898Z"
   },
   {
    "duration": 8,
    "start_time": "2022-09-05T14:21:26.915Z"
   },
   {
    "duration": 6,
    "start_time": "2022-09-05T14:21:26.925Z"
   },
   {
    "duration": 56326,
    "start_time": "2022-09-05T14:21:26.932Z"
   },
   {
    "duration": 102,
    "start_time": "2022-09-05T14:22:23.261Z"
   },
   {
    "duration": 56997,
    "start_time": "2022-09-05T14:22:23.364Z"
   },
   {
    "duration": 98,
    "start_time": "2022-09-05T14:23:20.363Z"
   },
   {
    "duration": 9,
    "start_time": "2022-09-05T14:23:20.463Z"
   },
   {
    "duration": 6,
    "start_time": "2022-09-05T14:23:20.473Z"
   },
   {
    "duration": 77777,
    "start_time": "2022-09-05T14:23:20.480Z"
   },
   {
    "duration": 95,
    "start_time": "2022-09-05T14:24:38.263Z"
   },
   {
    "duration": 6,
    "start_time": "2022-09-05T14:24:38.360Z"
   },
   {
    "duration": 31590,
    "start_time": "2022-09-05T14:24:38.368Z"
   },
   {
    "duration": 98,
    "start_time": "2022-09-05T14:25:09.959Z"
   },
   {
    "duration": 134,
    "start_time": "2022-09-05T14:25:10.059Z"
   },
   {
    "duration": 91,
    "start_time": "2022-09-05T14:25:10.195Z"
   }
  ],
  "kernelspec": {
   "display_name": "Python 3 (ipykernel)",
   "language": "python",
   "name": "python3"
  },
  "language_info": {
   "codemirror_mode": {
    "name": "ipython",
    "version": 3
   },
   "file_extension": ".py",
   "mimetype": "text/x-python",
   "name": "python",
   "nbconvert_exporter": "python",
   "pygments_lexer": "ipython3",
   "version": "3.9.6"
  },
  "toc": {
   "base_numbering": 1,
   "nav_menu": {},
   "number_sections": true,
   "sideBar": true,
   "skip_h1_title": true,
   "title_cell": "Содержание",
   "title_sidebar": "Contents",
   "toc_cell": true,
   "toc_position": {},
   "toc_section_display": true,
   "toc_window_display": true
  }
 },
 "nbformat": 4,
 "nbformat_minor": 4
}
