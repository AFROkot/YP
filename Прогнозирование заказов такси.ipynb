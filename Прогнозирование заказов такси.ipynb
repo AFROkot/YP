{
 "cells": [
  {
   "cell_type": "markdown",
   "metadata": {
    "toc": true
   },
   "source": [
    "<h1>Содержание<span class=\"tocSkip\"></span></h1>\n",
    "<div class=\"toc\"><ul class=\"toc-item\"><li><span><a href=\"#Подготовка\" data-toc-modified-id=\"Подготовка-1\"><span class=\"toc-item-num\">1&nbsp;&nbsp;</span>Подготовка</a></span></li><li><span><a href=\"#Анализ\" data-toc-modified-id=\"Анализ-2\"><span class=\"toc-item-num\">2&nbsp;&nbsp;</span>Анализ</a></span></li><li><span><a href=\"#Обучение\" data-toc-modified-id=\"Обучение-3\"><span class=\"toc-item-num\">3&nbsp;&nbsp;</span>Обучение</a></span></li><li><span><a href=\"#Тестирование\" data-toc-modified-id=\"Тестирование-4\"><span class=\"toc-item-num\">4&nbsp;&nbsp;</span>Тестирование</a></span></li><li><span><a href=\"#Чек-лист-проверки\" data-toc-modified-id=\"Чек-лист-проверки-5\"><span class=\"toc-item-num\">5&nbsp;&nbsp;</span>Чек-лист проверки</a></span></li></ul></div>"
   ]
  },
  {
   "cell_type": "markdown",
   "metadata": {},
   "source": [
    "#  Прогнозирование заказов такси"
   ]
  },
  {
   "cell_type": "markdown",
   "metadata": {},
   "source": [
    "Компания «Чётенькое такси» собрала исторические данные о заказах такси в аэропортах. Чтобы привлекать больше водителей в период пиковой нагрузки, нужно спрогнозировать количество заказов такси на следующий час. Постройте модель для такого предсказания.\n",
    "\n",
    "Значение метрики *RMSE* на тестовой выборке должно быть не больше 48.\n",
    "\n",
    "Вам нужно:\n",
    "\n",
    "1. Загрузить данные и выполнить их ресемплирование по одному часу.\n",
    "2. Проанализировать данные.\n",
    "3. Обучить разные модели с различными гиперпараметрами. Сделать тестовую выборку размером 10% от исходных данных.\n",
    "4. Проверить данные на тестовой выборке и сделать выводы.\n",
    "\n",
    "\n",
    "Данные лежат в файле `taxi.csv`. Количество заказов находится в столбце `num_orders` (от англ. *number of orders*, «число заказов»)."
   ]
  },
  {
   "cell_type": "markdown",
   "metadata": {},
   "source": [
    "## Подготовка"
   ]
  },
  {
   "cell_type": "code",
   "execution_count": 1,
   "metadata": {},
   "outputs": [],
   "source": [
    "import pandas as pd\n",
    "import matplotlib.pyplot as plt\n",
    "import numpy as np\n",
    "from statsmodels.tsa.seasonal import seasonal_decompose\n",
    "from sklearn.model_selection import train_test_split\n",
    "from sklearn.linear_model import LinearRegression\n",
    "from sklearn.metrics import mean_squared_error\n",
    "from sklearn.metrics import make_scorer\n",
    "from sklearn.tree import DecisionTreeRegressor\n",
    "from sklearn.ensemble import RandomForestRegressor\n",
    "from lightgbm import LGBMRegressor\n",
    "from sklearn.experimental import enable_halving_search_cv\n",
    "from sklearn.model_selection import HalvingGridSearchCV\n",
    "from sklearn.model_selection import TimeSeriesSplit"
   ]
  },
  {
   "cell_type": "code",
   "execution_count": 2,
   "metadata": {},
   "outputs": [],
   "source": [
    "data = pd.read_csv('/datasets/taxi.csv', parse_dates=[0], index_col=[0])"
   ]
  },
  {
   "cell_type": "code",
   "execution_count": 3,
   "metadata": {},
   "outputs": [
    {
     "name": "stdout",
     "output_type": "stream",
     "text": [
      "<class 'pandas.core.frame.DataFrame'>\n",
      "DatetimeIndex: 26496 entries, 2018-03-01 00:00:00 to 2018-08-31 23:50:00\n",
      "Data columns (total 1 columns):\n",
      " #   Column      Non-Null Count  Dtype\n",
      "---  ------      --------------  -----\n",
      " 0   num_orders  26496 non-null  int64\n",
      "dtypes: int64(1)\n",
      "memory usage: 414.0 KB\n"
     ]
    }
   ],
   "source": [
    "data.info()\n"
   ]
  },
  {
   "cell_type": "code",
   "execution_count": 4,
   "metadata": {},
   "outputs": [
    {
     "name": "stdout",
     "output_type": "stream",
     "text": [
      "True\n"
     ]
    },
    {
     "data": {
      "text/html": [
       "<div>\n",
       "<style scoped>\n",
       "    .dataframe tbody tr th:only-of-type {\n",
       "        vertical-align: middle;\n",
       "    }\n",
       "\n",
       "    .dataframe tbody tr th {\n",
       "        vertical-align: top;\n",
       "    }\n",
       "\n",
       "    .dataframe thead th {\n",
       "        text-align: right;\n",
       "    }\n",
       "</style>\n",
       "<table border=\"1\" class=\"dataframe\">\n",
       "  <thead>\n",
       "    <tr style=\"text-align: right;\">\n",
       "      <th></th>\n",
       "      <th>num_orders</th>\n",
       "    </tr>\n",
       "    <tr>\n",
       "      <th>datetime</th>\n",
       "      <th></th>\n",
       "    </tr>\n",
       "  </thead>\n",
       "  <tbody>\n",
       "    <tr>\n",
       "      <th>2018-03-01 00:00:00</th>\n",
       "      <td>9</td>\n",
       "    </tr>\n",
       "    <tr>\n",
       "      <th>2018-03-01 00:10:00</th>\n",
       "      <td>14</td>\n",
       "    </tr>\n",
       "    <tr>\n",
       "      <th>2018-03-01 00:20:00</th>\n",
       "      <td>28</td>\n",
       "    </tr>\n",
       "    <tr>\n",
       "      <th>2018-03-01 00:30:00</th>\n",
       "      <td>20</td>\n",
       "    </tr>\n",
       "    <tr>\n",
       "      <th>2018-03-01 00:40:00</th>\n",
       "      <td>32</td>\n",
       "    </tr>\n",
       "  </tbody>\n",
       "</table>\n",
       "</div>"
      ],
      "text/plain": [
       "                     num_orders\n",
       "datetime                       \n",
       "2018-03-01 00:00:00           9\n",
       "2018-03-01 00:10:00          14\n",
       "2018-03-01 00:20:00          28\n",
       "2018-03-01 00:30:00          20\n",
       "2018-03-01 00:40:00          32"
      ]
     },
     "execution_count": 4,
     "metadata": {},
     "output_type": "execute_result"
    }
   ],
   "source": [
    "print(data.index.is_monotonic)\n",
    "data.head()"
   ]
  },
  {
   "cell_type": "markdown",
   "metadata": {},
   "source": [
    "Проверим на пропуски"
   ]
  },
  {
   "cell_type": "code",
   "execution_count": 5,
   "metadata": {},
   "outputs": [
    {
     "data": {
      "text/plain": [
       "num_orders    0\n",
       "dtype: int64"
      ]
     },
     "execution_count": 5,
     "metadata": {},
     "output_type": "execute_result"
    }
   ],
   "source": [
    "data.isna().sum()"
   ]
  },
  {
   "cell_type": "markdown",
   "metadata": {},
   "source": [
    "## Анализ"
   ]
  },
  {
   "cell_type": "markdown",
   "metadata": {},
   "source": [
    "Ресемплируем по 1 часу исходя из условия задачи"
   ]
  },
  {
   "cell_type": "code",
   "execution_count": 6,
   "metadata": {},
   "outputs": [],
   "source": [
    "data = data.resample('1H').sum()"
   ]
  },
  {
   "cell_type": "markdown",
   "metadata": {},
   "source": [
    "Проверим на стационарность "
   ]
  },
  {
   "cell_type": "code",
   "execution_count": 7,
   "metadata": {
    "scrolled": true
   },
   "outputs": [
    {
     "data": {
      "image/png": "[encoded data removed]",
      "text/plain": [
       "<Figure size 1080x288 with 1 Axes>"
      ]
     },
     "metadata": {
      "needs_background": "light"
     },
     "output_type": "display_data"
    },
    {
     "data": {
      "image/png": "[encoded data removed]",
      "text/plain": [
       "<Figure size 1080x288 with 1 Axes>"
      ]
     },
     "metadata": {
      "needs_background": "light"
     },
     "output_type": "display_data"
    },
    {
     "data": {
      "image/png": "[encoded data removed]",
      "text/plain": [
       "<Figure size 1080x288 with 1 Axes>"
      ]
     },
     "metadata": {
      "needs_background": "light"
     },
     "output_type": "display_data"
    },
    {
     "data": {
      "text/plain": [
       "(422184.0, 422928.0)"
      ]
     },
     "execution_count": 7,
     "metadata": {},
     "output_type": "execute_result"
    },
    {
     "data": {
      "image/png": "[encoded data removed]",
      "text/plain": [
       "<Figure size 1080x288 with 1 Axes>"
      ]
     },
     "metadata": {
      "needs_background": "light"
     },
     "output_type": "display_data"
    }
   ],
   "source": [
    "data['rolling_mean'] = data.rolling(7).mean()\n",
    "data.plot(figsize = (15,4))\n",
    "plt.show()\n",
    "\n",
    "decomposed = seasonal_decompose(data['num_orders'])\n",
    "\n",
    "decomposed.trend.plot(figsize = (15,4))\n",
    "plt.title('trend')\n",
    "plt.show()\n",
    "\n",
    "decomposed.seasonal.plot(figsize = (15,4))\n",
    "plt.title('seasonal')\n",
    "plt.show()\n",
    "\n",
    "decomposed.seasonal.plot(figsize = (15,4))\n",
    "plt.title('seasonal 2018-03:2018-04')\n",
    "plt.xlim('2018-03','2018-04')\n",
    "\n",
    "\n",
    "\n"
   ]
  },
  {
   "cell_type": "markdown",
   "metadata": {},
   "source": [
    "Времянной ряд не стационарен, тренд постепенно ростёт , наблюдается суточная сезонность. "
   ]
  },
  {
   "cell_type": "markdown",
   "metadata": {},
   "source": [
    "## Обучение"
   ]
  },
  {
   "cell_type": "markdown",
   "metadata": {},
   "source": [
    "Сделаем функцию, добавляющую дни месяца и дни недели так как по ним может быть цикличность, так же добавим отстающие значения и скользящее среднее"
   ]
  },
  {
   "cell_type": "code",
   "execution_count": 9,
   "metadata": {},
   "outputs": [],
   "source": [
    "def make_features(data, max_lag, rolling_mean_size):\n",
    "    data['hour'] = data.index.hour\n",
    "    data['dayofweek'] = data.index.dayofweek\n",
    "    \n",
    "    for lag in range(1, max_lag + 1):\n",
    "        data['lag_{}'.format(lag)] = data['num_orders'].shift(lag)\n",
    "\n",
    "    data['rolling_mean'] = data['num_orders'].shift().rolling(rolling_mean_size).mean()"
   ]
  },
  {
   "cell_type": "markdown",
   "metadata": {},
   "source": [
    "Функция для подсчета RMSE"
   ]
  },
  {
   "cell_type": "code",
   "execution_count": 10,
   "metadata": {},
   "outputs": [],
   "source": [
    "def rmse(target,predict):\n",
    "    return np.sqrt(mean_squared_error(target,predict))\n"
   ]
  },
  {
   "cell_type": "markdown",
   "metadata": {},
   "source": [
    "Разделим данные на признаки и цели а также выделим среди них тренировочную и тестовую выдборки."
   ]
  },
  {
   "cell_type": "code",
   "execution_count": 11,
   "metadata": {},
   "outputs": [],
   "source": [
    "make_features(data, 24, 60)\n",
    "\n",
    "data = data.dropna()\n",
    "\n",
    "features = data.drop('num_orders', axis=1)\n",
    "target = data['num_orders']\n",
    "\n",
    "features_train, features_test, target_train, target_test = train_test_split(features, target, shuffle=False, test_size=0.1)"
   ]
  },
  {
   "cell_type": "markdown",
   "metadata": {},
   "source": [
    "Добавим датафрейм results в котором будут содержаться результаты"
   ]
  },
  {
   "cell_type": "code",
   "execution_count": 12,
   "metadata": {},
   "outputs": [],
   "source": [
    "results = pd.DataFrame(columns=['model','parametrs','rmse'])"
   ]
  },
  {
   "cell_type": "markdown",
   "metadata": {},
   "source": [
    "Обучем модель LinearRegression"
   ]
  },
  {
   "cell_type": "code",
   "execution_count": 13,
   "metadata": {},
   "outputs": [
    {
     "data": {
      "text/plain": [
       "\"\\nmodel = LinearRegression()\\nmodel.fit(features_train,target_train)\\npredictions = model.predict(features_train)\\nresults = results.append({'model': model,\\n                          'parametrs': '',\\n                          'rmse': rmse(target_train, predictions)},ignore_index=True)\""
      ]
     },
     "execution_count": 13,
     "metadata": {},
     "output_type": "execute_result"
    }
   ],
   "source": [
    "\"\"\"\n",
    "model = LinearRegression()\n",
    "model.fit(features_train,target_train)\n",
    "predictions = model.predict(features_train)\n",
    "results = results.append({'model': model,\n",
    "                          'parametrs': '',\n",
    "                          'rmse': rmse(target_train, predictions)},ignore_index=True)\"\"\""
   ]
  },
  {
   "cell_type": "markdown",
   "metadata": {},
   "source": [
    "Функцуя для вычесления лучшего результата по HalvingGridSearchCV, возвращает results с лучшими парамтрами."
   ]
  },
  {
   "cell_type": "code",
   "execution_count": 14,
   "metadata": {},
   "outputs": [],
   "source": [
    "score = make_scorer(rmse, greater_is_better=False)\n",
    "     \n",
    "def trainer (model_train, parameters):\n",
    "    \n",
    "    tscv = TimeSeriesSplit(n_splits=5)\n",
    "    model = HalvingGridSearchCV(model_train, parameters, cv=tscv, scoring=score, n_jobs=-1)\n",
    "    results = pd.DataFrame(columns=['model','parametrs','rmse'])\n",
    "    \n",
    "    model.fit(features_train,target_train)\n",
    "\n",
    "    results = results.append({'model': model_train,\n",
    "                              'parametrs': model.best_params_,\n",
    "                              'rmse': -model.best_score_}, ignore_index=True)\n",
    "\n",
    "    return results"
   ]
  },
  {
   "cell_type": "markdown",
   "metadata": {},
   "source": [
    "LinearRegression"
   ]
  },
  {
   "cell_type": "code",
   "execution_count": 15,
   "metadata": {},
   "outputs": [],
   "source": [
    "parametrs = {}\n",
    "model = LinearRegression()\n",
    "results = results.append(trainer(model,parametrs),  ignore_index=True)"
   ]
  },
  {
   "cell_type": "markdown",
   "metadata": {},
   "source": [
    "DecisionTreeRegressor"
   ]
  },
  {
   "cell_type": "code",
   "execution_count": 16,
   "metadata": {},
   "outputs": [],
   "source": [
    "parametrs = {'max_depth': range(2, 12, 2),'random_state': [12345]}\n",
    "model = DecisionTreeRegressor()\n",
    "results = results.append(trainer(model,parametrs),  ignore_index=True)"
   ]
  },
  {
   "cell_type": "markdown",
   "metadata": {},
   "source": [
    "RandomForestRegressor"
   ]
  },
  {
   "cell_type": "code",
   "execution_count": 17,
   "metadata": {},
   "outputs": [],
   "source": [
    "parametrs = {'n_estimators':[100,150,200],'max_depth': range(2, 5),'random_state': [12345]}\n",
    "model = RandomForestRegressor()\n",
    "results = results.append(trainer(model,parametrs),  ignore_index=True)"
   ]
  },
  {
   "cell_type": "markdown",
   "metadata": {},
   "source": [
    "LGBMRegressor"
   ]
  },
  {
   "cell_type": "code",
   "execution_count": 18,
   "metadata": {},
   "outputs": [],
   "source": [
    "parametrs = {'n_estimators':[100,150,200],'max_depth': [2,4,8],'learning_rate': [1, 2],'random_state': [12345]}\n",
    "model = LGBMRegressor()\n",
    "results = results.append(trainer(model,parametrs),  ignore_index=True)"
   ]
  },
  {
   "cell_type": "code",
   "execution_count": 19,
   "metadata": {},
   "outputs": [
    {
     "data": {
      "text/html": [
       "<div>\n",
       "<style scoped>\n",
       "    .dataframe tbody tr th:only-of-type {\n",
       "        vertical-align: middle;\n",
       "    }\n",
       "\n",
       "    .dataframe tbody tr th {\n",
       "        vertical-align: top;\n",
       "    }\n",
       "\n",
       "    .dataframe thead th {\n",
       "        text-align: right;\n",
       "    }\n",
       "</style>\n",
       "<table border=\"1\" class=\"dataframe\">\n",
       "  <thead>\n",
       "    <tr style=\"text-align: right;\">\n",
       "      <th></th>\n",
       "      <th>model</th>\n",
       "      <th>parametrs</th>\n",
       "      <th>rmse</th>\n",
       "    </tr>\n",
       "  </thead>\n",
       "  <tbody>\n",
       "    <tr>\n",
       "      <th>0</th>\n",
       "      <td>LinearRegression()</td>\n",
       "      <td>{}</td>\n",
       "      <td>27.243203</td>\n",
       "    </tr>\n",
       "    <tr>\n",
       "      <th>1</th>\n",
       "      <td>DecisionTreeRegressor()</td>\n",
       "      <td>{'max_depth': 4, 'random_state': 12345}</td>\n",
       "      <td>30.500916</td>\n",
       "    </tr>\n",
       "    <tr>\n",
       "      <th>2</th>\n",
       "      <td>RandomForestRegressor()</td>\n",
       "      <td>{'max_depth': 4, 'n_estimators': 200, 'random_...</td>\n",
       "      <td>28.027225</td>\n",
       "    </tr>\n",
       "    <tr>\n",
       "      <th>3</th>\n",
       "      <td>LGBMRegressor()</td>\n",
       "      <td>{'learning_rate': 1, 'max_depth': 2, 'n_estima...</td>\n",
       "      <td>28.624146</td>\n",
       "    </tr>\n",
       "  </tbody>\n",
       "</table>\n",
       "</div>"
      ],
      "text/plain": [
       "                     model                                          parametrs  \\\n",
       "0       LinearRegression()                                                 {}   \n",
       "1  DecisionTreeRegressor()            {'max_depth': 4, 'random_state': 12345}   \n",
       "2  RandomForestRegressor()  {'max_depth': 4, 'n_estimators': 200, 'random_...   \n",
       "3          LGBMRegressor()  {'learning_rate': 1, 'max_depth': 2, 'n_estima...   \n",
       "\n",
       "        rmse  \n",
       "0  27.243203  \n",
       "1  30.500916  \n",
       "2  28.027225  \n",
       "3  28.624146  "
      ]
     },
     "execution_count": 19,
     "metadata": {},
     "output_type": "execute_result"
    }
   ],
   "source": [
    "results"
   ]
  },
  {
   "cell_type": "markdown",
   "metadata": {},
   "source": [
    "Выделим лучший результат."
   ]
  },
  {
   "cell_type": "code",
   "execution_count": 20,
   "metadata": {},
   "outputs": [
    {
     "data": {
      "text/html": [
       "<div>\n",
       "<style scoped>\n",
       "    .dataframe tbody tr th:only-of-type {\n",
       "        vertical-align: middle;\n",
       "    }\n",
       "\n",
       "    .dataframe tbody tr th {\n",
       "        vertical-align: top;\n",
       "    }\n",
       "\n",
       "    .dataframe thead th {\n",
       "        text-align: right;\n",
       "    }\n",
       "</style>\n",
       "<table border=\"1\" class=\"dataframe\">\n",
       "  <thead>\n",
       "    <tr style=\"text-align: right;\">\n",
       "      <th></th>\n",
       "      <th>model</th>\n",
       "      <th>parametrs</th>\n",
       "      <th>rmse</th>\n",
       "    </tr>\n",
       "  </thead>\n",
       "  <tbody>\n",
       "    <tr>\n",
       "      <th>0</th>\n",
       "      <td>LinearRegression()</td>\n",
       "      <td>{}</td>\n",
       "      <td>27.243203</td>\n",
       "    </tr>\n",
       "  </tbody>\n",
       "</table>\n",
       "</div>"
      ],
      "text/plain": [
       "                model parametrs       rmse\n",
       "0  LinearRegression()        {}  27.243203"
      ]
     },
     "execution_count": 20,
     "metadata": {},
     "output_type": "execute_result"
    }
   ],
   "source": [
    "pd.options.display.max_colwidth = 90\n",
    "results[results['rmse'].min() == results['rmse']]"
   ]
  },
  {
   "cell_type": "markdown",
   "metadata": {},
   "source": [
    "## Тестирование"
   ]
  },
  {
   "cell_type": "markdown",
   "metadata": {},
   "source": [
    "Тестируем лучшую модель. "
   ]
  },
  {
   "cell_type": "code",
   "execution_count": 21,
   "metadata": {},
   "outputs": [
    {
     "name": "stdout",
     "output_type": "stream",
     "text": [
      "RMSE 45.24583692779998\n"
     ]
    }
   ],
   "source": [
    "model = LinearRegression()\n",
    "model.fit(features_train, target_train)\n",
    "\n",
    "predictions = model.predict(features_test)\n",
    "\n",
    "print('RMSE', rmse(target_test, predictions))"
   ]
  }
 ],
 "metadata": {
  "ExecuteTimeLog": [
   {
    "duration": 1566,
    "start_time": "2022-11-23T10:50:14.063Z"
   },
   {
    "duration": 1345,
    "start_time": "2022-11-23T10:55:49.463Z"
   },
   {
    "duration": 134,
    "start_time": "2022-11-23T10:55:50.810Z"
   },
   {
    "duration": 12,
    "start_time": "2022-11-23T10:55:50.946Z"
   },
   {
    "duration": 10,
    "start_time": "2022-11-23T10:55:50.960Z"
   },
   {
    "duration": 7,
    "start_time": "2022-11-23T10:55:50.973Z"
   },
   {
    "duration": 27,
    "start_time": "2022-11-23T10:55:50.982Z"
   },
   {
    "duration": 286,
    "start_time": "2022-11-23T10:55:51.010Z"
   },
   {
    "duration": 4,
    "start_time": "2022-11-23T10:55:51.298Z"
   },
   {
    "duration": 20,
    "start_time": "2022-11-23T10:55:51.304Z"
   },
   {
    "duration": 25,
    "start_time": "2022-11-23T10:55:51.325Z"
   },
   {
    "duration": 33,
    "start_time": "2022-11-23T10:55:51.352Z"
   },
   {
    "duration": 4,
    "start_time": "2022-11-23T10:55:51.387Z"
   },
   {
    "duration": 148,
    "start_time": "2022-11-23T10:55:51.392Z"
   },
   {
    "duration": 99,
    "start_time": "2022-11-23T10:55:51.543Z"
   },
   {
    "duration": 609,
    "start_time": "2022-11-23T10:55:51.644Z"
   },
   {
    "duration": 16433,
    "start_time": "2022-11-23T10:55:52.255Z"
   },
   {
    "duration": 0,
    "start_time": "2022-11-23T10:56:08.689Z"
   },
   {
    "duration": 0,
    "start_time": "2022-11-23T10:56:08.691Z"
   },
   {
    "duration": 0,
    "start_time": "2022-11-23T10:56:08.691Z"
   },
   {
    "duration": 0,
    "start_time": "2022-11-23T10:56:08.693Z"
   },
   {
    "duration": 1368,
    "start_time": "2022-11-23T10:57:04.900Z"
   },
   {
    "duration": 47,
    "start_time": "2022-11-23T10:57:06.270Z"
   },
   {
    "duration": 17,
    "start_time": "2022-11-23T10:57:06.319Z"
   },
   {
    "duration": 12,
    "start_time": "2022-11-23T10:57:06.340Z"
   },
   {
    "duration": 5,
    "start_time": "2022-11-23T10:57:06.353Z"
   },
   {
    "duration": 5,
    "start_time": "2022-11-23T10:57:06.359Z"
   },
   {
    "duration": 12,
    "start_time": "2022-11-23T10:57:06.365Z"
   },
   {
    "duration": 318,
    "start_time": "2022-11-23T10:57:06.378Z"
   },
   {
    "duration": 4,
    "start_time": "2022-11-23T10:57:06.698Z"
   },
   {
    "duration": 5,
    "start_time": "2022-11-23T10:57:06.705Z"
   },
   {
    "duration": 4,
    "start_time": "2022-11-23T10:57:06.711Z"
   },
   {
    "duration": 48,
    "start_time": "2022-11-23T10:57:06.717Z"
   },
   {
    "duration": 5,
    "start_time": "2022-11-23T10:57:06.766Z"
   },
   {
    "duration": 149,
    "start_time": "2022-11-23T10:57:06.773Z"
   },
   {
    "duration": 14,
    "start_time": "2022-11-23T10:57:06.924Z"
   },
   {
    "duration": 595,
    "start_time": "2022-11-23T10:57:06.940Z"
   },
   {
    "duration": 36053,
    "start_time": "2022-11-23T10:57:07.539Z"
   },
   {
    "duration": 410162,
    "start_time": "2022-11-23T10:57:43.594Z"
   },
   {
    "duration": 0,
    "start_time": "2022-11-23T11:04:33.758Z"
   },
   {
    "duration": 0,
    "start_time": "2022-11-23T11:04:33.759Z"
   },
   {
    "duration": 0,
    "start_time": "2022-11-23T11:04:33.760Z"
   },
   {
    "duration": 0,
    "start_time": "2022-11-23T11:04:33.762Z"
   },
   {
    "duration": 32,
    "start_time": "2022-11-23T11:04:35.636Z"
   },
   {
    "duration": 57,
    "start_time": "2022-11-23T11:04:57.285Z"
   },
   {
    "duration": 1345,
    "start_time": "2022-11-23T11:14:03.739Z"
   },
   {
    "duration": 55,
    "start_time": "2022-11-23T11:14:05.086Z"
   },
   {
    "duration": 11,
    "start_time": "2022-11-23T11:14:05.143Z"
   },
   {
    "duration": 11,
    "start_time": "2022-11-23T11:14:05.157Z"
   },
   {
    "duration": 5,
    "start_time": "2022-11-23T11:14:05.169Z"
   },
   {
    "duration": 9,
    "start_time": "2022-11-23T11:14:05.176Z"
   },
   {
    "duration": 385,
    "start_time": "2022-11-23T11:14:05.187Z"
   },
   {
    "duration": 4,
    "start_time": "2022-11-23T11:14:05.574Z"
   },
   {
    "duration": 11,
    "start_time": "2022-11-23T11:14:05.580Z"
   },
   {
    "duration": 6,
    "start_time": "2022-11-23T11:14:05.594Z"
   },
   {
    "duration": 37,
    "start_time": "2022-11-23T11:14:05.602Z"
   },
   {
    "duration": 4,
    "start_time": "2022-11-23T11:14:05.640Z"
   },
   {
    "duration": 81,
    "start_time": "2022-11-23T11:14:05.646Z"
   },
   {
    "duration": 7,
    "start_time": "2022-11-23T11:14:05.820Z"
   },
   {
    "duration": 584,
    "start_time": "2022-11-23T11:14:05.828Z"
   },
   {
    "duration": 32687,
    "start_time": "2022-11-23T11:14:06.414Z"
   },
   {
    "duration": 2290850,
    "start_time": "2022-11-23T11:14:39.102Z"
   },
   {
    "duration": 18,
    "start_time": "2022-11-23T11:52:50.020Z"
   },
   {
    "duration": 13,
    "start_time": "2022-11-23T11:52:50.040Z"
   },
   {
    "duration": 81,
    "start_time": "2022-11-23T11:52:50.055Z"
   },
   {
    "duration": 1457,
    "start_time": "2022-11-23T12:11:25.308Z"
   },
   {
    "duration": 56,
    "start_time": "2022-11-23T12:12:09.795Z"
   },
   {
    "duration": 13,
    "start_time": "2022-11-23T12:13:02.902Z"
   },
   {
    "duration": 758,
    "start_time": "2022-11-24T22:11:44.479Z"
   },
   {
    "duration": 154,
    "start_time": "2022-11-24T22:16:05.853Z"
   },
   {
    "duration": 21,
    "start_time": "2022-11-24T22:16:06.627Z"
   },
   {
    "duration": 12,
    "start_time": "2022-11-24T22:16:07.773Z"
   },
   {
    "duration": 6,
    "start_time": "2022-11-24T22:16:09.903Z"
   },
   {
    "duration": 13,
    "start_time": "2022-11-24T22:16:39.902Z"
   },
   {
    "duration": 66,
    "start_time": "2022-11-24T22:16:56.874Z"
   },
   {
    "duration": 87,
    "start_time": "2022-11-24T22:17:00.967Z"
   },
   {
    "duration": 68,
    "start_time": "2022-11-24T22:17:28.866Z"
   },
   {
    "duration": 85,
    "start_time": "2022-11-24T22:17:41.162Z"
   },
   {
    "duration": 309,
    "start_time": "2022-11-24T22:17:44.057Z"
   },
   {
    "duration": 244,
    "start_time": "2022-11-24T22:17:57.247Z"
   },
   {
    "duration": 408,
    "start_time": "2022-11-24T22:18:03.538Z"
   },
   {
    "duration": 242,
    "start_time": "2022-11-24T22:18:09.329Z"
   },
   {
    "duration": 76,
    "start_time": "2022-11-24T22:18:25.610Z"
   },
   {
    "duration": 359,
    "start_time": "2022-11-24T22:18:37.796Z"
   },
   {
    "duration": 289,
    "start_time": "2022-11-24T22:18:56.969Z"
   },
   {
    "duration": 260,
    "start_time": "2022-11-24T22:19:06.293Z"
   },
   {
    "duration": 302,
    "start_time": "2022-11-24T22:19:10.427Z"
   },
   {
    "duration": 686,
    "start_time": "2022-11-24T22:19:23.598Z"
   },
   {
    "duration": 484,
    "start_time": "2022-11-24T22:19:51.495Z"
   },
   {
    "duration": 404,
    "start_time": "2022-11-24T22:21:01.575Z"
   },
   {
    "duration": 305,
    "start_time": "2022-11-24T22:21:44.263Z"
   },
   {
    "duration": 309,
    "start_time": "2022-11-24T22:21:57.798Z"
   },
   {
    "duration": 375,
    "start_time": "2022-11-24T22:22:07.729Z"
   },
   {
    "duration": 734,
    "start_time": "2022-11-24T22:22:25.652Z"
   },
   {
    "duration": 4,
    "start_time": "2022-11-24T22:25:13.499Z"
   },
   {
    "duration": 839,
    "start_time": "2022-11-24T22:25:17.087Z"
   },
   {
    "duration": 6,
    "start_time": "2022-11-24T22:26:27.292Z"
   },
   {
    "duration": 531,
    "start_time": "2022-11-24T22:26:46.868Z"
   },
   {
    "duration": 1024,
    "start_time": "2022-11-24T22:27:43.262Z"
   },
   {
    "duration": 732,
    "start_time": "2022-11-24T22:28:32.336Z"
   },
   {
    "duration": 716,
    "start_time": "2022-11-24T22:28:41.407Z"
   },
   {
    "duration": 943,
    "start_time": "2022-11-24T22:29:45.228Z"
   },
   {
    "duration": 802,
    "start_time": "2022-11-24T22:29:48.767Z"
   },
   {
    "duration": 110,
    "start_time": "2022-11-24T22:33:12.158Z"
   },
   {
    "duration": 83,
    "start_time": "2022-11-24T22:33:18.410Z"
   },
   {
    "duration": 698,
    "start_time": "2022-11-24T22:33:32.878Z"
   },
   {
    "duration": 984,
    "start_time": "2022-11-24T22:34:32.159Z"
   },
   {
    "duration": 984,
    "start_time": "2022-11-24T22:35:00.465Z"
   },
   {
    "duration": 1181,
    "start_time": "2022-11-24T22:36:59.933Z"
   },
   {
    "duration": 42,
    "start_time": "2022-11-24T22:39:46.315Z"
   },
   {
    "duration": 11,
    "start_time": "2022-11-24T22:39:47.111Z"
   },
   {
    "duration": 9,
    "start_time": "2022-11-24T22:39:48.449Z"
   },
   {
    "duration": 6,
    "start_time": "2022-11-24T22:39:50.009Z"
   },
   {
    "duration": 7,
    "start_time": "2022-11-24T22:39:50.973Z"
   },
   {
    "duration": 893,
    "start_time": "2022-11-24T22:39:51.982Z"
   },
   {
    "duration": 42,
    "start_time": "2022-11-24T22:42:01.271Z"
   },
   {
    "duration": 11,
    "start_time": "2022-11-24T22:42:02.148Z"
   },
   {
    "duration": 8,
    "start_time": "2022-11-24T22:42:03.153Z"
   },
   {
    "duration": 7,
    "start_time": "2022-11-24T22:42:04.158Z"
   },
   {
    "duration": 7,
    "start_time": "2022-11-24T22:42:05.110Z"
   },
   {
    "duration": 951,
    "start_time": "2022-11-24T22:42:06.037Z"
   },
   {
    "duration": 1177,
    "start_time": "2022-11-24T22:42:46.568Z"
   },
   {
    "duration": 1488,
    "start_time": "2022-11-24T22:53:17.225Z"
   },
   {
    "duration": 49,
    "start_time": "2022-11-24T22:53:18.716Z"
   },
   {
    "duration": 11,
    "start_time": "2022-11-24T22:53:18.769Z"
   },
   {
    "duration": 11,
    "start_time": "2022-11-24T22:53:18.782Z"
   },
   {
    "duration": 7,
    "start_time": "2022-11-24T22:53:18.795Z"
   },
   {
    "duration": 36,
    "start_time": "2022-11-24T22:53:18.804Z"
   },
   {
    "duration": 1270,
    "start_time": "2022-11-24T22:53:18.842Z"
   },
   {
    "duration": 3,
    "start_time": "2022-11-24T22:53:20.114Z"
   },
   {
    "duration": 4,
    "start_time": "2022-11-24T22:53:20.121Z"
   },
   {
    "duration": 3,
    "start_time": "2022-11-24T22:53:20.138Z"
   },
   {
    "duration": 33,
    "start_time": "2022-11-24T22:53:20.143Z"
   },
   {
    "duration": 5,
    "start_time": "2022-11-24T22:53:20.178Z"
   },
   {
    "duration": 6,
    "start_time": "2022-11-24T22:53:20.185Z"
   },
   {
    "duration": 7,
    "start_time": "2022-11-24T22:53:20.193Z"
   },
   {
    "duration": 836,
    "start_time": "2022-11-24T22:53:20.202Z"
   },
   {
    "duration": 642,
    "start_time": "2022-11-24T22:53:21.041Z"
   },
   {
    "duration": 27522,
    "start_time": "2022-11-24T22:53:21.684Z"
   },
   {
    "duration": 95541,
    "start_time": "2022-11-24T22:53:49.207Z"
   },
   {
    "duration": 12,
    "start_time": "2022-11-24T22:55:24.750Z"
   },
   {
    "duration": 78,
    "start_time": "2022-11-24T22:55:24.764Z"
   },
   {
    "duration": 1483,
    "start_time": "2022-11-24T22:55:24.844Z"
   },
   {
    "duration": 115,
    "start_time": "2022-11-24T22:55:26.329Z"
   },
   {
    "duration": 4,
    "start_time": "2022-11-24T23:00:06.612Z"
   },
   {
    "duration": 1431,
    "start_time": "2022-11-24T23:00:51.625Z"
   },
   {
    "duration": 46,
    "start_time": "2022-11-24T23:00:53.058Z"
   },
   {
    "duration": 11,
    "start_time": "2022-11-24T23:00:53.106Z"
   },
   {
    "duration": 11,
    "start_time": "2022-11-24T23:00:53.119Z"
   },
   {
    "duration": 6,
    "start_time": "2022-11-24T23:00:53.132Z"
   },
   {
    "duration": 14,
    "start_time": "2022-11-24T23:00:53.140Z"
   },
   {
    "duration": 1091,
    "start_time": "2022-11-24T23:00:53.156Z"
   },
   {
    "duration": 3,
    "start_time": "2022-11-24T23:00:54.249Z"
   },
   {
    "duration": 10,
    "start_time": "2022-11-24T23:00:54.253Z"
   },
   {
    "duration": 7,
    "start_time": "2022-11-24T23:00:54.265Z"
   },
   {
    "duration": 30,
    "start_time": "2022-11-24T23:00:54.274Z"
   },
   {
    "duration": 4,
    "start_time": "2022-11-24T23:00:54.306Z"
   },
   {
    "duration": 6,
    "start_time": "2022-11-24T23:00:54.312Z"
   },
   {
    "duration": 21,
    "start_time": "2022-11-24T23:00:54.319Z"
   },
   {
    "duration": 805,
    "start_time": "2022-11-24T23:00:54.342Z"
   },
   {
    "duration": 563,
    "start_time": "2022-11-24T23:00:55.240Z"
   },
   {
    "duration": 30307,
    "start_time": "2022-11-24T23:00:55.804Z"
   },
   {
    "duration": 63134,
    "start_time": "2022-11-24T23:01:26.113Z"
   },
   {
    "duration": 12,
    "start_time": "2022-11-24T23:02:29.249Z"
   },
   {
    "duration": 79,
    "start_time": "2022-11-24T23:02:29.263Z"
   },
   {
    "duration": 95,
    "start_time": "2022-11-24T23:02:29.344Z"
   },
   {
    "duration": 56,
    "start_time": "2022-12-20T17:47:55.794Z"
   },
   {
    "duration": 41,
    "start_time": "2022-12-20T17:55:14.932Z"
   },
   {
    "duration": 7,
    "start_time": "2022-12-20T17:55:33.219Z"
   },
   {
    "duration": 128887,
    "start_time": "2022-12-20T17:56:19.218Z"
   },
   {
    "duration": 9433,
    "start_time": "2022-12-20T17:58:39.303Z"
   },
   {
    "duration": 4527,
    "start_time": "2022-12-20T18:00:02.599Z"
   },
   {
    "duration": 4,
    "start_time": "2022-12-20T18:08:19.226Z"
   },
   {
    "duration": 3,
    "start_time": "2022-12-20T18:12:25.002Z"
   },
   {
    "duration": 3,
    "start_time": "2022-12-20T18:12:32.271Z"
   },
   {
    "duration": 4,
    "start_time": "2022-12-20T18:12:36.923Z"
   },
   {
    "duration": 4,
    "start_time": "2022-12-20T21:09:49.553Z"
   },
   {
    "duration": 4,
    "start_time": "2022-12-20T21:10:48.033Z"
   },
   {
    "duration": 3,
    "start_time": "2022-12-20T21:12:15.841Z"
   }
  ],
  "kernelspec": {
   "display_name": "Python 3 (ipykernel)",
   "language": "python",
   "name": "python3"
  },
  "language_info": {
   "codemirror_mode": {
    "name": "ipython",
    "version": 3
   },
   "file_extension": ".py",
   "mimetype": "text/x-python",
   "name": "python",
   "nbconvert_exporter": "python",
   "pygments_lexer": "ipython3",
   "version": "3.9.6"
  },
  "toc": {
   "base_numbering": 1,
   "nav_menu": {},
   "number_sections": true,
   "sideBar": true,
   "skip_h1_title": true,
   "title_cell": "Содержание",
   "title_sidebar": "Contents",
   "toc_cell": true,
   "toc_position": {},
   "toc_section_display": true,
   "toc_window_display": true
  }
 },
 "nbformat": 4,
 "nbformat_minor": 4
}
