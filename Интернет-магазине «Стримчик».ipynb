{
 "cells": [
  {
   "cell_type": "markdown",
   "metadata": {},
   "source": [
    "# интернет-магазине «Стримчик»"
   ]
  },
  {
   "cell_type": "code",
   "execution_count": 1,
   "metadata": {},
   "outputs": [],
   "source": [
    "import pandas as pd\n",
    "import numpy as np\n",
    "import matplotlib.pyplot as plt\n",
    "import seaborn as sns\n",
    "from scipy import stats as st"
   ]
  },
  {
   "cell_type": "markdown",
   "metadata": {},
   "source": [
    "## Шаг 1. Изучим общую информацию"
   ]
  },
  {
   "cell_type": "code",
   "execution_count": 2,
   "metadata": {},
   "outputs": [
    {
     "data": {
      "text/html": [
       "<div>\n",
       "<style scoped>\n",
       "    .dataframe tbody tr th:only-of-type {\n",
       "        vertical-align: middle;\n",
       "    }\n",
       "\n",
       "    .dataframe tbody tr th {\n",
       "        vertical-align: top;\n",
       "    }\n",
       "\n",
       "    .dataframe thead th {\n",
       "        text-align: right;\n",
       "    }\n",
       "</style>\n",
       "<table border=\"1\" class=\"dataframe\">\n",
       "  <thead>\n",
       "    <tr style=\"text-align: right;\">\n",
       "      <th></th>\n",
       "      <th>Name</th>\n",
       "      <th>Platform</th>\n",
       "      <th>Year_of_Release</th>\n",
       "      <th>Genre</th>\n",
       "      <th>NA_sales</th>\n",
       "      <th>EU_sales</th>\n",
       "      <th>JP_sales</th>\n",
       "      <th>Other_sales</th>\n",
       "      <th>Critic_Score</th>\n",
       "      <th>User_Score</th>\n",
       "      <th>Rating</th>\n",
       "    </tr>\n",
       "  </thead>\n",
       "  <tbody>\n",
       "    <tr>\n",
       "      <th>0</th>\n",
       "      <td>Wii Sports</td>\n",
       "      <td>Wii</td>\n",
       "      <td>2006.0</td>\n",
       "      <td>Sports</td>\n",
       "      <td>41.36</td>\n",
       "      <td>28.96</td>\n",
       "      <td>3.77</td>\n",
       "      <td>8.45</td>\n",
       "      <td>76.0</td>\n",
       "      <td>8</td>\n",
       "      <td>E</td>\n",
       "    </tr>\n",
       "    <tr>\n",
       "      <th>1</th>\n",
       "      <td>Super Mario Bros.</td>\n",
       "      <td>NES</td>\n",
       "      <td>1985.0</td>\n",
       "      <td>Platform</td>\n",
       "      <td>29.08</td>\n",
       "      <td>3.58</td>\n",
       "      <td>6.81</td>\n",
       "      <td>0.77</td>\n",
       "      <td>NaN</td>\n",
       "      <td>NaN</td>\n",
       "      <td>NaN</td>\n",
       "    </tr>\n",
       "    <tr>\n",
       "      <th>2</th>\n",
       "      <td>Mario Kart Wii</td>\n",
       "      <td>Wii</td>\n",
       "      <td>2008.0</td>\n",
       "      <td>Racing</td>\n",
       "      <td>15.68</td>\n",
       "      <td>12.76</td>\n",
       "      <td>3.79</td>\n",
       "      <td>3.29</td>\n",
       "      <td>82.0</td>\n",
       "      <td>8.3</td>\n",
       "      <td>E</td>\n",
       "    </tr>\n",
       "    <tr>\n",
       "      <th>3</th>\n",
       "      <td>Wii Sports Resort</td>\n",
       "      <td>Wii</td>\n",
       "      <td>2009.0</td>\n",
       "      <td>Sports</td>\n",
       "      <td>15.61</td>\n",
       "      <td>10.93</td>\n",
       "      <td>3.28</td>\n",
       "      <td>2.95</td>\n",
       "      <td>80.0</td>\n",
       "      <td>8</td>\n",
       "      <td>E</td>\n",
       "    </tr>\n",
       "    <tr>\n",
       "      <th>4</th>\n",
       "      <td>Pokemon Red/Pokemon Blue</td>\n",
       "      <td>GB</td>\n",
       "      <td>1996.0</td>\n",
       "      <td>Role-Playing</td>\n",
       "      <td>11.27</td>\n",
       "      <td>8.89</td>\n",
       "      <td>10.22</td>\n",
       "      <td>1.00</td>\n",
       "      <td>NaN</td>\n",
       "      <td>NaN</td>\n",
       "      <td>NaN</td>\n",
       "    </tr>\n",
       "    <tr>\n",
       "      <th>5</th>\n",
       "      <td>Tetris</td>\n",
       "      <td>GB</td>\n",
       "      <td>1989.0</td>\n",
       "      <td>Puzzle</td>\n",
       "      <td>23.20</td>\n",
       "      <td>2.26</td>\n",
       "      <td>4.22</td>\n",
       "      <td>0.58</td>\n",
       "      <td>NaN</td>\n",
       "      <td>NaN</td>\n",
       "      <td>NaN</td>\n",
       "    </tr>\n",
       "    <tr>\n",
       "      <th>6</th>\n",
       "      <td>New Super Mario Bros.</td>\n",
       "      <td>DS</td>\n",
       "      <td>2006.0</td>\n",
       "      <td>Platform</td>\n",
       "      <td>11.28</td>\n",
       "      <td>9.14</td>\n",
       "      <td>6.50</td>\n",
       "      <td>2.88</td>\n",
       "      <td>89.0</td>\n",
       "      <td>8.5</td>\n",
       "      <td>E</td>\n",
       "    </tr>\n",
       "    <tr>\n",
       "      <th>7</th>\n",
       "      <td>Wii Play</td>\n",
       "      <td>Wii</td>\n",
       "      <td>2006.0</td>\n",
       "      <td>Misc</td>\n",
       "      <td>13.96</td>\n",
       "      <td>9.18</td>\n",
       "      <td>2.93</td>\n",
       "      <td>2.84</td>\n",
       "      <td>58.0</td>\n",
       "      <td>6.6</td>\n",
       "      <td>E</td>\n",
       "    </tr>\n",
       "    <tr>\n",
       "      <th>8</th>\n",
       "      <td>New Super Mario Bros. Wii</td>\n",
       "      <td>Wii</td>\n",
       "      <td>2009.0</td>\n",
       "      <td>Platform</td>\n",
       "      <td>14.44</td>\n",
       "      <td>6.94</td>\n",
       "      <td>4.70</td>\n",
       "      <td>2.24</td>\n",
       "      <td>87.0</td>\n",
       "      <td>8.4</td>\n",
       "      <td>E</td>\n",
       "    </tr>\n",
       "    <tr>\n",
       "      <th>9</th>\n",
       "      <td>Duck Hunt</td>\n",
       "      <td>NES</td>\n",
       "      <td>1984.0</td>\n",
       "      <td>Shooter</td>\n",
       "      <td>26.93</td>\n",
       "      <td>0.63</td>\n",
       "      <td>0.28</td>\n",
       "      <td>0.47</td>\n",
       "      <td>NaN</td>\n",
       "      <td>NaN</td>\n",
       "      <td>NaN</td>\n",
       "    </tr>\n",
       "  </tbody>\n",
       "</table>\n",
       "</div>"
      ],
      "text/plain": [
       "                        Name Platform  Year_of_Release         Genre  \\\n",
       "0                 Wii Sports      Wii           2006.0        Sports   \n",
       "1          Super Mario Bros.      NES           1985.0      Platform   \n",
       "2             Mario Kart Wii      Wii           2008.0        Racing   \n",
       "3          Wii Sports Resort      Wii           2009.0        Sports   \n",
       "4   Pokemon Red/Pokemon Blue       GB           1996.0  Role-Playing   \n",
       "5                     Tetris       GB           1989.0        Puzzle   \n",
       "6      New Super Mario Bros.       DS           2006.0      Platform   \n",
       "7                   Wii Play      Wii           2006.0          Misc   \n",
       "8  New Super Mario Bros. Wii      Wii           2009.0      Platform   \n",
       "9                  Duck Hunt      NES           1984.0       Shooter   \n",
       "\n",
       "   NA_sales  EU_sales  JP_sales  Other_sales  Critic_Score User_Score Rating  \n",
       "0     41.36     28.96      3.77         8.45          76.0          8      E  \n",
       "1     29.08      3.58      6.81         0.77           NaN        NaN    NaN  \n",
       "2     15.68     12.76      3.79         3.29          82.0        8.3      E  \n",
       "3     15.61     10.93      3.28         2.95          80.0          8      E  \n",
       "4     11.27      8.89     10.22         1.00           NaN        NaN    NaN  \n",
       "5     23.20      2.26      4.22         0.58           NaN        NaN    NaN  \n",
       "6     11.28      9.14      6.50         2.88          89.0        8.5      E  \n",
       "7     13.96      9.18      2.93         2.84          58.0        6.6      E  \n",
       "8     14.44      6.94      4.70         2.24          87.0        8.4      E  \n",
       "9     26.93      0.63      0.28         0.47           NaN        NaN    NaN  "
      ]
     },
     "metadata": {},
     "output_type": "display_data"
    },
    {
     "name": "stdout",
     "output_type": "stream",
     "text": [
      "<class 'pandas.core.frame.DataFrame'>\n",
      "RangeIndex: 16715 entries, 0 to 16714\n",
      "Data columns (total 11 columns):\n",
      " #   Column           Non-Null Count  Dtype  \n",
      "---  ------           --------------  -----  \n",
      " 0   Name             16713 non-null  object \n",
      " 1   Platform         16715 non-null  object \n",
      " 2   Year_of_Release  16446 non-null  float64\n",
      " 3   Genre            16713 non-null  object \n",
      " 4   NA_sales         16715 non-null  float64\n",
      " 5   EU_sales         16715 non-null  float64\n",
      " 6   JP_sales         16715 non-null  float64\n",
      " 7   Other_sales      16715 non-null  float64\n",
      " 8   Critic_Score     8137 non-null   float64\n",
      " 9   User_Score       10014 non-null  object \n",
      " 10  Rating           9949 non-null   object \n",
      "dtypes: float64(6), object(5)\n",
      "memory usage: 1.4+ MB\n"
     ]
    }
   ],
   "source": [
    "data = pd.read_csv('/datasets/games.csv')\n",
    "display(data.head(10))\n",
    "data.info()"
   ]
  },
  {
   "cell_type": "markdown",
   "metadata": {},
   "source": [
    "## Шаг 2. Подготока данных"
   ]
  },
  {
   "cell_type": "markdown",
   "metadata": {},
   "source": [
    "Переименуем столбцы в соответствии с стилем snake_case."
   ]
  },
  {
   "cell_type": "code",
   "execution_count": 3,
   "metadata": {},
   "outputs": [],
   "source": [
    "data = data.rename(columns ={'Name':'name', 'Platform':'platform', 'Year_of_Release':'year_of_release', 'Genre':'genre',\n",
    "                      'NA_sales':'na_sales', 'EU_sales':'eu_sales', 'JP_sales':'jp_sales', 'Other_sales':'other_sales',\n",
    "                     'Critic_Score':'critic_score', 'User_Score':'user_score', 'Rating':'rating'})\n"
   ]
  },
  {
   "cell_type": "markdown",
   "metadata": {},
   "source": [
    "Посмотрим колличество пропусков."
   ]
  },
  {
   "cell_type": "code",
   "execution_count": 4,
   "metadata": {},
   "outputs": [
    {
     "data": {
      "text/plain": [
       "name                  2\n",
       "platform              0\n",
       "year_of_release     269\n",
       "genre                 2\n",
       "na_sales              0\n",
       "eu_sales              0\n",
       "jp_sales              0\n",
       "other_sales           0\n",
       "critic_score       8578\n",
       "user_score         6701\n",
       "rating             6766\n",
       "dtype: int64"
      ]
     },
     "execution_count": 4,
     "metadata": {},
     "output_type": "execute_result"
    }
   ],
   "source": [
    "data.isna().sum()"
   ]
  },
  {
   "cell_type": "markdown",
   "metadata": {},
   "source": [
    "Заменим пропуски в калонках name и genre на пустые строки, остальные пропуски оставим без изменения так как это может иказить результаты дальнейших исследований. \n",
    "Пропуски в столбце с оценкой критиков могли появиться в следствии того что обзоров на некоторые игры не делали по причинам не актуальности. Так же игровая журналистика появилась не так давно как игры. Ещё нельзя забывать что и такого количества агригаторов оценок да и вообще ресурсов где могли быть размещены оценки не было, а когда то их и не было вовсе. Аналогичными причинами можно описат и пропуски в колонке с оценками пользователей. \n",
    "Пропуски в столбце с рейтингом можно объяснить тем что сама организация Entertainment Software Rating Board (ESRB) появилась только в 1994 году. Так же эта организация действует в США и Канаде и игры не выходившие в этих странах могли не проходить оценку."
   ]
  },
  {
   "cell_type": "code",
   "execution_count": 5,
   "metadata": {},
   "outputs": [],
   "source": [
    "data = data.fillna({'name':' ', 'genre':' '})"
   ]
  },
  {
   "cell_type": "markdown",
   "metadata": {},
   "source": [
    "Приведём знечения в столбце year_of_release к типу int.\n",
    "Заменим значения tbd('To Be Determined' что значит что не оценки не определены ) в столбце user_score на NaN, что бы они не мешели в дальнейшем, иак де приведём данные к типу данных Float"
   ]
  },
  {
   "cell_type": "code",
   "execution_count": 6,
   "metadata": {},
   "outputs": [],
   "source": [
    "data['year_of_release'] = data['year_of_release'].astype('Int64')\n",
    "data['user_score'] = data['user_score'].replace('tbd', np.NaN)\n",
    "\n",
    "data['user_score'] = pd.to_numeric(data['user_score']).astype('Float64')"
   ]
  },
  {
   "cell_type": "markdown",
   "metadata": {},
   "source": [
    "Посчитаем суммарные продажи во всех регионах и запишим их в отдельный столбец."
   ]
  },
  {
   "cell_type": "code",
   "execution_count": 7,
   "metadata": {},
   "outputs": [],
   "source": [
    "data['all_sales'] = data['eu_sales'] + data['jp_sales'] + data['other_sales'] + data['na_sales']"
   ]
  },
  {
   "cell_type": "markdown",
   "metadata": {},
   "source": [
    "Попробуем определить наличие дубликатов по связке колонок name и platform"
   ]
  },
  {
   "cell_type": "code",
   "execution_count": 8,
   "metadata": {},
   "outputs": [
    {
     "data": {
      "text/html": [
       "<div>\n",
       "<style scoped>\n",
       "    .dataframe tbody tr th:only-of-type {\n",
       "        vertical-align: middle;\n",
       "    }\n",
       "\n",
       "    .dataframe tbody tr th {\n",
       "        vertical-align: top;\n",
       "    }\n",
       "\n",
       "    .dataframe thead th {\n",
       "        text-align: right;\n",
       "    }\n",
       "</style>\n",
       "<table border=\"1\" class=\"dataframe\">\n",
       "  <thead>\n",
       "    <tr style=\"text-align: right;\">\n",
       "      <th></th>\n",
       "      <th>name</th>\n",
       "      <th>platform</th>\n",
       "      <th>year_of_release</th>\n",
       "      <th>genre</th>\n",
       "      <th>na_sales</th>\n",
       "      <th>eu_sales</th>\n",
       "      <th>jp_sales</th>\n",
       "      <th>other_sales</th>\n",
       "      <th>critic_score</th>\n",
       "      <th>user_score</th>\n",
       "      <th>rating</th>\n",
       "      <th>all_sales</th>\n",
       "    </tr>\n",
       "  </thead>\n",
       "  <tbody>\n",
       "    <tr>\n",
       "      <th>604</th>\n",
       "      <td>Madden NFL 13</td>\n",
       "      <td>PS3</td>\n",
       "      <td>2012</td>\n",
       "      <td>Sports</td>\n",
       "      <td>2.11</td>\n",
       "      <td>0.22</td>\n",
       "      <td>0.00</td>\n",
       "      <td>0.23</td>\n",
       "      <td>83.0</td>\n",
       "      <td>5.5</td>\n",
       "      <td>E</td>\n",
       "      <td>2.56</td>\n",
       "    </tr>\n",
       "    <tr>\n",
       "      <th>659</th>\n",
       "      <td></td>\n",
       "      <td>GEN</td>\n",
       "      <td>1993</td>\n",
       "      <td></td>\n",
       "      <td>1.78</td>\n",
       "      <td>0.53</td>\n",
       "      <td>0.00</td>\n",
       "      <td>0.08</td>\n",
       "      <td>NaN</td>\n",
       "      <td>&lt;NA&gt;</td>\n",
       "      <td>NaN</td>\n",
       "      <td>2.39</td>\n",
       "    </tr>\n",
       "    <tr>\n",
       "      <th>1190</th>\n",
       "      <td>Need for Speed: Most Wanted</td>\n",
       "      <td>X360</td>\n",
       "      <td>2012</td>\n",
       "      <td>Racing</td>\n",
       "      <td>0.62</td>\n",
       "      <td>0.78</td>\n",
       "      <td>0.01</td>\n",
       "      <td>0.15</td>\n",
       "      <td>83.0</td>\n",
       "      <td>8.5</td>\n",
       "      <td>T</td>\n",
       "      <td>1.56</td>\n",
       "    </tr>\n",
       "    <tr>\n",
       "      <th>1591</th>\n",
       "      <td>Need for Speed: Most Wanted</td>\n",
       "      <td>X360</td>\n",
       "      <td>2005</td>\n",
       "      <td>Racing</td>\n",
       "      <td>1.00</td>\n",
       "      <td>0.13</td>\n",
       "      <td>0.02</td>\n",
       "      <td>0.10</td>\n",
       "      <td>83.0</td>\n",
       "      <td>8.5</td>\n",
       "      <td>T</td>\n",
       "      <td>1.25</td>\n",
       "    </tr>\n",
       "    <tr>\n",
       "      <th>1745</th>\n",
       "      <td>Sonic the Hedgehog</td>\n",
       "      <td>PS3</td>\n",
       "      <td>2006</td>\n",
       "      <td>Platform</td>\n",
       "      <td>0.41</td>\n",
       "      <td>0.06</td>\n",
       "      <td>0.04</td>\n",
       "      <td>0.66</td>\n",
       "      <td>43.0</td>\n",
       "      <td>4.1</td>\n",
       "      <td>E10+</td>\n",
       "      <td>1.17</td>\n",
       "    </tr>\n",
       "    <tr>\n",
       "      <th>4127</th>\n",
       "      <td>Sonic the Hedgehog</td>\n",
       "      <td>PS3</td>\n",
       "      <td>&lt;NA&gt;</td>\n",
       "      <td>Platform</td>\n",
       "      <td>0.00</td>\n",
       "      <td>0.48</td>\n",
       "      <td>0.00</td>\n",
       "      <td>0.00</td>\n",
       "      <td>43.0</td>\n",
       "      <td>4.1</td>\n",
       "      <td>E10+</td>\n",
       "      <td>0.48</td>\n",
       "    </tr>\n",
       "    <tr>\n",
       "      <th>5972</th>\n",
       "      <td>Need for Speed: Most Wanted</td>\n",
       "      <td>PC</td>\n",
       "      <td>2005</td>\n",
       "      <td>Racing</td>\n",
       "      <td>0.02</td>\n",
       "      <td>0.23</td>\n",
       "      <td>0.00</td>\n",
       "      <td>0.04</td>\n",
       "      <td>82.0</td>\n",
       "      <td>8.5</td>\n",
       "      <td>T</td>\n",
       "      <td>0.29</td>\n",
       "    </tr>\n",
       "    <tr>\n",
       "      <th>11715</th>\n",
       "      <td>Need for Speed: Most Wanted</td>\n",
       "      <td>PC</td>\n",
       "      <td>2012</td>\n",
       "      <td>Racing</td>\n",
       "      <td>0.00</td>\n",
       "      <td>0.06</td>\n",
       "      <td>0.00</td>\n",
       "      <td>0.02</td>\n",
       "      <td>82.0</td>\n",
       "      <td>8.5</td>\n",
       "      <td>T</td>\n",
       "      <td>0.08</td>\n",
       "    </tr>\n",
       "    <tr>\n",
       "      <th>14244</th>\n",
       "      <td></td>\n",
       "      <td>GEN</td>\n",
       "      <td>1993</td>\n",
       "      <td></td>\n",
       "      <td>0.00</td>\n",
       "      <td>0.00</td>\n",
       "      <td>0.03</td>\n",
       "      <td>0.00</td>\n",
       "      <td>NaN</td>\n",
       "      <td>&lt;NA&gt;</td>\n",
       "      <td>NaN</td>\n",
       "      <td>0.03</td>\n",
       "    </tr>\n",
       "    <tr>\n",
       "      <th>16230</th>\n",
       "      <td>Madden NFL 13</td>\n",
       "      <td>PS3</td>\n",
       "      <td>2012</td>\n",
       "      <td>Sports</td>\n",
       "      <td>0.00</td>\n",
       "      <td>0.01</td>\n",
       "      <td>0.00</td>\n",
       "      <td>0.00</td>\n",
       "      <td>83.0</td>\n",
       "      <td>5.5</td>\n",
       "      <td>E</td>\n",
       "      <td>0.01</td>\n",
       "    </tr>\n",
       "  </tbody>\n",
       "</table>\n",
       "</div>"
      ],
      "text/plain": [
       "                              name platform  year_of_release     genre  \\\n",
       "604                  Madden NFL 13      PS3             2012    Sports   \n",
       "659                                     GEN             1993             \n",
       "1190   Need for Speed: Most Wanted     X360             2012    Racing   \n",
       "1591   Need for Speed: Most Wanted     X360             2005    Racing   \n",
       "1745            Sonic the Hedgehog      PS3             2006  Platform   \n",
       "4127            Sonic the Hedgehog      PS3             <NA>  Platform   \n",
       "5972   Need for Speed: Most Wanted       PC             2005    Racing   \n",
       "11715  Need for Speed: Most Wanted       PC             2012    Racing   \n",
       "14244                                   GEN             1993             \n",
       "16230                Madden NFL 13      PS3             2012    Sports   \n",
       "\n",
       "       na_sales  eu_sales  jp_sales  other_sales  critic_score  user_score  \\\n",
       "604        2.11      0.22      0.00         0.23          83.0         5.5   \n",
       "659        1.78      0.53      0.00         0.08           NaN        <NA>   \n",
       "1190       0.62      0.78      0.01         0.15          83.0         8.5   \n",
       "1591       1.00      0.13      0.02         0.10          83.0         8.5   \n",
       "1745       0.41      0.06      0.04         0.66          43.0         4.1   \n",
       "4127       0.00      0.48      0.00         0.00          43.0         4.1   \n",
       "5972       0.02      0.23      0.00         0.04          82.0         8.5   \n",
       "11715      0.00      0.06      0.00         0.02          82.0         8.5   \n",
       "14244      0.00      0.00      0.03         0.00           NaN        <NA>   \n",
       "16230      0.00      0.01      0.00         0.00          83.0         5.5   \n",
       "\n",
       "      rating  all_sales  \n",
       "604        E       2.56  \n",
       "659      NaN       2.39  \n",
       "1190       T       1.56  \n",
       "1591       T       1.25  \n",
       "1745    E10+       1.17  \n",
       "4127    E10+       0.48  \n",
       "5972       T       0.29  \n",
       "11715      T       0.08  \n",
       "14244    NaN       0.03  \n",
       "16230      E       0.01  "
      ]
     },
     "execution_count": 8,
     "metadata": {},
     "output_type": "execute_result"
    }
   ],
   "source": [
    "data[data.duplicated(subset=['name','platform'], keep=False)]"
   ]
  },
  {
   "cell_type": "markdown",
   "metadata": {},
   "source": [
    "Из полученных данных видим что что есть задвоение а именно  \"Madden NFL 13\", \"Sonic the Hedgehog\", а так же игра без наименования. Просто удалим дублированные значения добавив в subset колоку с годом релиза, оставим только первые в списке так как они более похожи на правду тогда как вторые почти не садержат информации и в данном случае не повлияют на ход исследований. \"Sonic the Hedgehog\" удалим в ручную."
   ]
  },
  {
   "cell_type": "code",
   "execution_count": 9,
   "metadata": {},
   "outputs": [],
   "source": [
    "data = data.drop_duplicates(subset=['name','platform','year_of_release'],keep='first', inplace=False) #удаляем дубли\n",
    "\n",
    "data = data.drop(axis=0, index=4127) #удалим строку с данными по игре \"Sonic the Hedgehog\""
   ]
  },
  {
   "cell_type": "markdown",
   "metadata": {},
   "source": [
    "## Шаг 3. Исследовательский анализ данных"
   ]
  },
  {
   "cell_type": "markdown",
   "metadata": {},
   "source": [
    "Посмотрим, сколько игр выпускалось в разные годы и как изменялись продажи. "
   ]
  },
  {
   "cell_type": "code",
   "execution_count": 10,
   "metadata": {},
   "outputs": [
    {
     "data": {
      "text/plain": [
       "(1979.0, 2017.0)"
      ]
     },
     "execution_count": 10,
     "metadata": {},
     "output_type": "execute_result"
    },
    {
     "data": {
      "image/png": "[encoded data removed]",
      "text/plain": [
       "<Figure size 1080x360 with 1 Axes>"
      ]
     },
     "metadata": {
      "needs_background": "light"
     },
     "output_type": "display_data"
    }
   ],
   "source": [
    "# Создадим сводную таблицу\n",
    "sales_games_years = data.pivot_table(index=['year_of_release'], values=['name','all_sales'],\n",
    "                                     aggfunc={'name':'count', 'all_sales':'sum'})\n",
    "\n",
    "sales_games_years = sales_games_years.rename(columns = {'name':'games_amount'}) #переименуем для наглядности \n",
    "\n",
    "sales_games_years.plot( y=['games_amount','all_sales'],figsize=(15,5))  \n",
    "plt.xlim(1979,2017)\n"
   ]
  },
  {
   "cell_type": "markdown",
   "metadata": {},
   "source": [
    "С 1995 г. наблюдается рост количества игр и ещё больший рост продаж , однако в 2009 тенденция меняется в обратную сторону."
   ]
  },
  {
   "cell_type": "markdown",
   "metadata": {},
   "source": [
    "Определим топ5 платформ за всё время и определим  как менялись продажи по платформам. Выберим платформы с наибольшими\n",
    "суммарными продажами и пострим распределение по годам,за какой характерный срок появляются новые и исчезают старые платформы."
   ]
  },
  {
   "cell_type": "code",
   "execution_count": 11,
   "metadata": {},
   "outputs": [
    {
     "data": {
      "text/html": [
       "<div>\n",
       "<style scoped>\n",
       "    .dataframe tbody tr th:only-of-type {\n",
       "        vertical-align: middle;\n",
       "    }\n",
       "\n",
       "    .dataframe tbody tr th {\n",
       "        vertical-align: top;\n",
       "    }\n",
       "\n",
       "    .dataframe thead th {\n",
       "        text-align: right;\n",
       "    }\n",
       "</style>\n",
       "<table border=\"1\" class=\"dataframe\">\n",
       "  <thead>\n",
       "    <tr style=\"text-align: right;\">\n",
       "      <th></th>\n",
       "      <th>all_sales</th>\n",
       "    </tr>\n",
       "    <tr>\n",
       "      <th>platform</th>\n",
       "      <th></th>\n",
       "    </tr>\n",
       "  </thead>\n",
       "  <tbody>\n",
       "    <tr>\n",
       "      <th>PS2</th>\n",
       "      <td>1255.77</td>\n",
       "    </tr>\n",
       "    <tr>\n",
       "      <th>X360</th>\n",
       "      <td>971.42</td>\n",
       "    </tr>\n",
       "    <tr>\n",
       "      <th>PS3</th>\n",
       "      <td>939.16</td>\n",
       "    </tr>\n",
       "    <tr>\n",
       "      <th>Wii</th>\n",
       "      <td>907.51</td>\n",
       "    </tr>\n",
       "    <tr>\n",
       "      <th>DS</th>\n",
       "      <td>806.12</td>\n",
       "    </tr>\n",
       "  </tbody>\n",
       "</table>\n",
       "</div>"
      ],
      "text/plain": [
       "          all_sales\n",
       "platform           \n",
       "PS2         1255.77\n",
       "X360         971.42\n",
       "PS3          939.16\n",
       "Wii          907.51\n",
       "DS           806.12"
      ]
     },
     "metadata": {},
     "output_type": "display_data"
    },
    {
     "data": {
      "text/plain": [
       "(1999.0, 2017.0)"
      ]
     },
     "execution_count": 11,
     "metadata": {},
     "output_type": "execute_result"
    },
    {
     "data": {
      "image/png": "[encoded data removed]",
      "text/plain": [
       "<Figure size 432x288 with 1 Axes>"
      ]
     },
     "metadata": {
      "needs_background": "light"
     },
     "output_type": "display_data"
    }
   ],
   "source": [
    "#Создадим сводную таблицу \n",
    "sales_platforms_years = data.pivot_table(index=['year_of_release'], columns=['platform'], values=['all_sales'], \n",
    "                                     aggfunc=('sum'))\n",
    "#Определяем топ5 платформ\n",
    "sales_top_platforms = data.pivot_table(index=['platform'], values=['all_sales'], aggfunc=('sum')).sort_values(by=['all_sales'],\n",
    "                                                                                                             ascending = False)\n",
    "display(sales_top_platforms.head(5))\n",
    "\n",
    "#Построим наглядный график\n",
    "top_sales_platforms_years = data.loc[data['platform'].isin(['PS2','X360','PS3','Wii','DS'])].pivot_table(index=['year_of_release'],\n",
    "                                                                                                     columns=['platform'], \n",
    "                                                                                                     values=['all_sales'], \n",
    "                                                                                                     aggfunc=('sum'))\n",
    "top_sales_platforms_years.plot(y='all_sales')\n",
    "\n",
    "\n",
    "plt.xlim(1999,2017)\n",
    "\n"
   ]
  },
  {
   "cell_type": "markdown",
   "metadata": {},
   "source": [
    "Срок жизни платформ примерно 10 лет , оставим данные только за актуальный период."
   ]
  },
  {
   "cell_type": "code",
   "execution_count": 12,
   "metadata": {},
   "outputs": [],
   "source": [
    "data_cut = data[data['year_of_release'] >= 2014] #создадим новый dataframe с актуальными данными"
   ]
  },
  {
   "cell_type": "markdown",
   "metadata": {},
   "source": [
    "Посмотрим наиболее актуальные платформы."
   ]
  },
  {
   "cell_type": "code",
   "execution_count": 13,
   "metadata": {},
   "outputs": [
    {
     "data": {
      "text/plain": [
       "(2014.0, 2016.0)"
      ]
     },
     "execution_count": 13,
     "metadata": {},
     "output_type": "execute_result"
    },
    {
     "data": {
      "image/png": "[encoded data removed]",
      "text/plain": [
       "<Figure size 720x360 with 1 Axes>"
      ]
     },
     "metadata": {
      "needs_background": "light"
     },
     "output_type": "display_data"
    }
   ],
   "source": [
    "#создадим сводную таблицу\n",
    "sales_platforms_years = data_cut.pivot_table(index=['year_of_release'], columns=['platform'], values=['all_sales'], \n",
    "                                     aggfunc=('sum'))\n",
    "#составим график изменения продаж с теченим времяни по платформам \n",
    "sales_platforms_years.plot(y='all_sales',figsize=(10,5))\n",
    "plt.xlim(2014,2016)"
   ]
  },
  {
   "cell_type": "markdown",
   "metadata": {},
   "source": [
    "Продажи игр на всех платформах снижаются, наиболее актуальные на данный момент PS4, Xone, 3DS."
   ]
  },
  {
   "cell_type": "markdown",
   "metadata": {},
   "source": [
    "Построим график «ящик с усами» по глобальным продажам игр в разбивке по платформам."
   ]
  },
  {
   "cell_type": "code",
   "execution_count": 14,
   "metadata": {},
   "outputs": [
    {
     "data": {
      "text/plain": [
       "(0.0, 1.0)"
      ]
     },
     "execution_count": 14,
     "metadata": {},
     "output_type": "execute_result"
    },
    {
     "data": {
      "image/png": "[encoded data removed]",
      "text/plain": [
       "<Figure size 1080x360 with 1 Axes>"
      ]
     },
     "metadata": {
      "needs_background": "light"
     },
     "output_type": "display_data"
    }
   ],
   "source": [
    "plt.figure(figsize=(15,5))\n",
    "sns.boxplot(data=data_cut, x='platform', y='all_sales')\n",
    "plt.ylim(0,1)"
   ]
  },
  {
   "cell_type": "code",
   "execution_count": 15,
   "metadata": {},
   "outputs": [
    {
     "data": {
      "text/html": [
       "<div>\n",
       "<style scoped>\n",
       "    .dataframe tbody tr th:only-of-type {\n",
       "        vertical-align: middle;\n",
       "    }\n",
       "\n",
       "    .dataframe tbody tr th {\n",
       "        vertical-align: top;\n",
       "    }\n",
       "\n",
       "    .dataframe thead th {\n",
       "        text-align: right;\n",
       "    }\n",
       "</style>\n",
       "<table border=\"1\" class=\"dataframe\">\n",
       "  <thead>\n",
       "    <tr style=\"text-align: right;\">\n",
       "      <th>platform</th>\n",
       "      <th>3DS</th>\n",
       "      <th>PC</th>\n",
       "      <th>PS3</th>\n",
       "      <th>PS4</th>\n",
       "      <th>PSP</th>\n",
       "      <th>PSV</th>\n",
       "      <th>Wii</th>\n",
       "      <th>WiiU</th>\n",
       "      <th>X360</th>\n",
       "      <th>XOne</th>\n",
       "    </tr>\n",
       "  </thead>\n",
       "  <tbody>\n",
       "    <tr>\n",
       "      <th>count</th>\n",
       "      <td>212.000000</td>\n",
       "      <td>151.000000</td>\n",
       "      <td>219.000000</td>\n",
       "      <td>376.000000</td>\n",
       "      <td>13.000000</td>\n",
       "      <td>295.000000</td>\n",
       "      <td>11.000000</td>\n",
       "      <td>73.000000</td>\n",
       "      <td>111.000000</td>\n",
       "      <td>228.000000</td>\n",
       "    </tr>\n",
       "    <tr>\n",
       "      <th>mean</th>\n",
       "      <td>0.408868</td>\n",
       "      <td>0.179139</td>\n",
       "      <td>0.311324</td>\n",
       "      <td>0.766356</td>\n",
       "      <td>0.027692</td>\n",
       "      <td>0.075932</td>\n",
       "      <td>0.460909</td>\n",
       "      <td>0.588767</td>\n",
       "      <td>0.434414</td>\n",
       "      <td>0.615614</td>\n",
       "    </tr>\n",
       "    <tr>\n",
       "      <th>std</th>\n",
       "      <td>1.188368</td>\n",
       "      <td>0.329359</td>\n",
       "      <td>0.633059</td>\n",
       "      <td>1.614969</td>\n",
       "      <td>0.027735</td>\n",
       "      <td>0.141591</td>\n",
       "      <td>0.625451</td>\n",
       "      <td>1.161467</td>\n",
       "      <td>0.628967</td>\n",
       "      <td>1.046513</td>\n",
       "    </tr>\n",
       "    <tr>\n",
       "      <th>min</th>\n",
       "      <td>0.010000</td>\n",
       "      <td>0.010000</td>\n",
       "      <td>0.010000</td>\n",
       "      <td>0.010000</td>\n",
       "      <td>0.010000</td>\n",
       "      <td>0.010000</td>\n",
       "      <td>0.010000</td>\n",
       "      <td>0.010000</td>\n",
       "      <td>0.010000</td>\n",
       "      <td>0.010000</td>\n",
       "    </tr>\n",
       "    <tr>\n",
       "      <th>25%</th>\n",
       "      <td>0.030000</td>\n",
       "      <td>0.020000</td>\n",
       "      <td>0.040000</td>\n",
       "      <td>0.057500</td>\n",
       "      <td>0.010000</td>\n",
       "      <td>0.020000</td>\n",
       "      <td>0.035000</td>\n",
       "      <td>0.050000</td>\n",
       "      <td>0.070000</td>\n",
       "      <td>0.050000</td>\n",
       "    </tr>\n",
       "    <tr>\n",
       "      <th>50%</th>\n",
       "      <td>0.090000</td>\n",
       "      <td>0.060000</td>\n",
       "      <td>0.110000</td>\n",
       "      <td>0.185000</td>\n",
       "      <td>0.020000</td>\n",
       "      <td>0.040000</td>\n",
       "      <td>0.180000</td>\n",
       "      <td>0.190000</td>\n",
       "      <td>0.180000</td>\n",
       "      <td>0.205000</td>\n",
       "    </tr>\n",
       "    <tr>\n",
       "      <th>75%</th>\n",
       "      <td>0.250000</td>\n",
       "      <td>0.200000</td>\n",
       "      <td>0.325000</td>\n",
       "      <td>0.690000</td>\n",
       "      <td>0.020000</td>\n",
       "      <td>0.090000</td>\n",
       "      <td>0.755000</td>\n",
       "      <td>0.570000</td>\n",
       "      <td>0.505000</td>\n",
       "      <td>0.632500</td>\n",
       "    </tr>\n",
       "    <tr>\n",
       "      <th>max</th>\n",
       "      <td>11.680000</td>\n",
       "      <td>3.050000</td>\n",
       "      <td>5.270000</td>\n",
       "      <td>14.630000</td>\n",
       "      <td>0.090000</td>\n",
       "      <td>1.960000</td>\n",
       "      <td>2.010000</td>\n",
       "      <td>7.090000</td>\n",
       "      <td>4.280000</td>\n",
       "      <td>7.390000</td>\n",
       "    </tr>\n",
       "  </tbody>\n",
       "</table>\n",
       "</div>"
      ],
      "text/plain": [
       "platform         3DS          PC         PS3         PS4        PSP  \\\n",
       "count     212.000000  151.000000  219.000000  376.000000  13.000000   \n",
       "mean        0.408868    0.179139    0.311324    0.766356   0.027692   \n",
       "std         1.188368    0.329359    0.633059    1.614969   0.027735   \n",
       "min         0.010000    0.010000    0.010000    0.010000   0.010000   \n",
       "25%         0.030000    0.020000    0.040000    0.057500   0.010000   \n",
       "50%         0.090000    0.060000    0.110000    0.185000   0.020000   \n",
       "75%         0.250000    0.200000    0.325000    0.690000   0.020000   \n",
       "max        11.680000    3.050000    5.270000   14.630000   0.090000   \n",
       "\n",
       "platform         PSV        Wii       WiiU        X360        XOne  \n",
       "count     295.000000  11.000000  73.000000  111.000000  228.000000  \n",
       "mean        0.075932   0.460909   0.588767    0.434414    0.615614  \n",
       "std         0.141591   0.625451   1.161467    0.628967    1.046513  \n",
       "min         0.010000   0.010000   0.010000    0.010000    0.010000  \n",
       "25%         0.020000   0.035000   0.050000    0.070000    0.050000  \n",
       "50%         0.040000   0.180000   0.190000    0.180000    0.205000  \n",
       "75%         0.090000   0.755000   0.570000    0.505000    0.632500  \n",
       "max         1.960000   2.010000   7.090000    4.280000    7.390000  "
      ]
     },
     "execution_count": 15,
     "metadata": {},
     "output_type": "execute_result"
    }
   ],
   "source": [
    "describe_data = data_cut.pivot_table(index='name', columns='platform', values='all_sales')\n",
    "describe_data.describe()"
   ]
  },
  {
   "cell_type": "markdown",
   "metadata": {},
   "source": [
    "Наибольшие медианные продажи у платформ XboxOne, WiiU, X360, Wii, PS4 наименьшие у PSP. У всех платформ есть игры которые очень хорошо продавались."
   ]
  },
  {
   "cell_type": "markdown",
   "metadata": {},
   "source": [
    "Посмотрим, как влияют на продажи внутри платформы PS4 отзывы пользователей и критиков. Построим диаграмму рассеяния и посчитаем корреляцию между отзывами и продажами."
   ]
  },
  {
   "cell_type": "code",
   "execution_count": 17,
   "metadata": {},
   "outputs": [
    {
     "data": {
      "text/plain": [
       "<seaborn.axisgrid.PairGrid at 0x7f974217d9a0>"
      ]
     },
     "execution_count": 17,
     "metadata": {},
     "output_type": "execute_result"
    },
    {
     "data": {
      "image/png": "[encoded data removed]",
      "text/plain": [
       "<Figure size 540x540 with 12 Axes>"
      ]
     },
     "metadata": {
      "needs_background": "light"
     },
     "output_type": "display_data"
    }
   ],
   "source": [
    "sns.pairplot(data_cut[data_cut['platform'] == \"PS4\"][['all_sales', 'critic_score', 'user_score']])\n"
   ]
  },
  {
   "cell_type": "code",
   "execution_count": 18,
   "metadata": {},
   "outputs": [
    {
     "data": {
      "text/html": [
       "<div>\n",
       "<style scoped>\n",
       "    .dataframe tbody tr th:only-of-type {\n",
       "        vertical-align: middle;\n",
       "    }\n",
       "\n",
       "    .dataframe tbody tr th {\n",
       "        vertical-align: top;\n",
       "    }\n",
       "\n",
       "    .dataframe thead th {\n",
       "        text-align: right;\n",
       "    }\n",
       "</style>\n",
       "<table border=\"1\" class=\"dataframe\">\n",
       "  <thead>\n",
       "    <tr style=\"text-align: right;\">\n",
       "      <th></th>\n",
       "      <th>all_sales</th>\n",
       "      <th>critic_score</th>\n",
       "      <th>user_score</th>\n",
       "    </tr>\n",
       "  </thead>\n",
       "  <tbody>\n",
       "    <tr>\n",
       "      <th>all_sales</th>\n",
       "      <td>1.000000</td>\n",
       "      <td>0.402661</td>\n",
       "      <td>-0.040132</td>\n",
       "    </tr>\n",
       "    <tr>\n",
       "      <th>critic_score</th>\n",
       "      <td>0.402661</td>\n",
       "      <td>1.000000</td>\n",
       "      <td>0.546434</td>\n",
       "    </tr>\n",
       "    <tr>\n",
       "      <th>user_score</th>\n",
       "      <td>-0.040132</td>\n",
       "      <td>0.546434</td>\n",
       "      <td>1.000000</td>\n",
       "    </tr>\n",
       "  </tbody>\n",
       "</table>\n",
       "</div>"
      ],
      "text/plain": [
       "              all_sales  critic_score  user_score\n",
       "all_sales      1.000000      0.402661   -0.040132\n",
       "critic_score   0.402661      1.000000    0.546434\n",
       "user_score    -0.040132      0.546434    1.000000"
      ]
     },
     "execution_count": 18,
     "metadata": {},
     "output_type": "execute_result"
    }
   ],
   "source": [
    "data_cut[data_cut['platform'] == \"PS4\"][['all_sales', 'critic_score', 'user_score']].corr()"
   ]
  },
  {
   "cell_type": "markdown",
   "metadata": {},
   "source": [
    "Рассмотрим ещё пару платформ например Xbox360 и XboxOne."
   ]
  },
  {
   "cell_type": "code",
   "execution_count": 19,
   "metadata": {},
   "outputs": [
    {
     "data": {
      "text/html": [
       "<div>\n",
       "<style scoped>\n",
       "    .dataframe tbody tr th:only-of-type {\n",
       "        vertical-align: middle;\n",
       "    }\n",
       "\n",
       "    .dataframe tbody tr th {\n",
       "        vertical-align: top;\n",
       "    }\n",
       "\n",
       "    .dataframe thead th {\n",
       "        text-align: right;\n",
       "    }\n",
       "</style>\n",
       "<table border=\"1\" class=\"dataframe\">\n",
       "  <thead>\n",
       "    <tr style=\"text-align: right;\">\n",
       "      <th></th>\n",
       "      <th>all_sales</th>\n",
       "      <th>critic_score</th>\n",
       "      <th>user_score</th>\n",
       "    </tr>\n",
       "  </thead>\n",
       "  <tbody>\n",
       "    <tr>\n",
       "      <th>all_sales</th>\n",
       "      <td>1.000000</td>\n",
       "      <td>0.525723</td>\n",
       "      <td>-0.138445</td>\n",
       "    </tr>\n",
       "    <tr>\n",
       "      <th>critic_score</th>\n",
       "      <td>0.525723</td>\n",
       "      <td>1.000000</td>\n",
       "      <td>0.625309</td>\n",
       "    </tr>\n",
       "    <tr>\n",
       "      <th>user_score</th>\n",
       "      <td>-0.138445</td>\n",
       "      <td>0.625309</td>\n",
       "      <td>1.000000</td>\n",
       "    </tr>\n",
       "  </tbody>\n",
       "</table>\n",
       "</div>"
      ],
      "text/plain": [
       "              all_sales  critic_score  user_score\n",
       "all_sales      1.000000      0.525723   -0.138445\n",
       "critic_score   0.525723      1.000000    0.625309\n",
       "user_score    -0.138445      0.625309    1.000000"
      ]
     },
     "execution_count": 19,
     "metadata": {},
     "output_type": "execute_result"
    },
    {
     "data": {
      "image/png": "[encoded data removed]",
      "text/plain": [
       "<Figure size 540x540 with 12 Axes>"
      ]
     },
     "metadata": {
      "needs_background": "light"
     },
     "output_type": "display_data"
    }
   ],
   "source": [
    "sns.pairplot(data_cut[data_cut['platform'] == \"X360\"][['all_sales', 'critic_score', 'user_score']])\n",
    "\n",
    "data_cut[data_cut['platform'] == \"X360\"][['all_sales', 'critic_score', 'user_score']].corr()"
   ]
  },
  {
   "cell_type": "code",
   "execution_count": 20,
   "metadata": {},
   "outputs": [
    {
     "data": {
      "text/html": [
       "<div>\n",
       "<style scoped>\n",
       "    .dataframe tbody tr th:only-of-type {\n",
       "        vertical-align: middle;\n",
       "    }\n",
       "\n",
       "    .dataframe tbody tr th {\n",
       "        vertical-align: top;\n",
       "    }\n",
       "\n",
       "    .dataframe thead th {\n",
       "        text-align: right;\n",
       "    }\n",
       "</style>\n",
       "<table border=\"1\" class=\"dataframe\">\n",
       "  <thead>\n",
       "    <tr style=\"text-align: right;\">\n",
       "      <th></th>\n",
       "      <th>all_sales</th>\n",
       "      <th>critic_score</th>\n",
       "      <th>user_score</th>\n",
       "    </tr>\n",
       "  </thead>\n",
       "  <tbody>\n",
       "    <tr>\n",
       "      <th>all_sales</th>\n",
       "      <td>1.000000</td>\n",
       "      <td>0.428677</td>\n",
       "      <td>-0.070384</td>\n",
       "    </tr>\n",
       "    <tr>\n",
       "      <th>critic_score</th>\n",
       "      <td>0.428677</td>\n",
       "      <td>1.000000</td>\n",
       "      <td>0.440977</td>\n",
       "    </tr>\n",
       "    <tr>\n",
       "      <th>user_score</th>\n",
       "      <td>-0.070384</td>\n",
       "      <td>0.440977</td>\n",
       "      <td>1.000000</td>\n",
       "    </tr>\n",
       "  </tbody>\n",
       "</table>\n",
       "</div>"
      ],
      "text/plain": [
       "              all_sales  critic_score  user_score\n",
       "all_sales      1.000000      0.428677   -0.070384\n",
       "critic_score   0.428677      1.000000    0.440977\n",
       "user_score    -0.070384      0.440977    1.000000"
      ]
     },
     "execution_count": 20,
     "metadata": {},
     "output_type": "execute_result"
    },
    {
     "data": {
      "image/png": "[encoded data removed]",
      "text/plain": [
       "<Figure size 540x540 with 12 Axes>"
      ]
     },
     "metadata": {
      "needs_background": "light"
     },
     "output_type": "display_data"
    }
   ],
   "source": [
    "sns.pairplot(data_cut[data_cut['platform'] == \"XOne\"][['all_sales', 'critic_score', 'user_score']])\n",
    "\n",
    "data_cut[data_cut['platform'] == \"XOne\"][['all_sales', 'critic_score', 'user_score']].corr()"
   ]
  },
  {
   "cell_type": "markdown",
   "metadata": {},
   "source": [
    "Игры у которых высокие оценки критиков как правило продаются лучше, корреляция между all_sales и critic_score в районе 0.4 . С оценками пользователей наблюдается подобная тенденция, но горздо больше выбросов, данные корреляция говорят что зависимости и вовсе нет."
   ]
  },
  {
   "cell_type": "markdown",
   "metadata": {},
   "source": [
    "Посмотрим на общее распределение игр по жанрам. "
   ]
  },
  {
   "cell_type": "code",
   "execution_count": 21,
   "metadata": {},
   "outputs": [
    {
     "data": {
      "image/png": "[encoded data removed]",
      "text/plain": [
       "<Figure size 504x504 with 1 Axes>"
      ]
     },
     "metadata": {},
     "output_type": "display_data"
    },
    {
     "data": {
      "text/html": [
       "<div>\n",
       "<style scoped>\n",
       "    .dataframe tbody tr th:only-of-type {\n",
       "        vertical-align: middle;\n",
       "    }\n",
       "\n",
       "    .dataframe tbody tr th {\n",
       "        vertical-align: top;\n",
       "    }\n",
       "\n",
       "    .dataframe thead th {\n",
       "        text-align: right;\n",
       "    }\n",
       "</style>\n",
       "<table border=\"1\" class=\"dataframe\">\n",
       "  <thead>\n",
       "    <tr style=\"text-align: right;\">\n",
       "      <th></th>\n",
       "      <th>all_sales</th>\n",
       "    </tr>\n",
       "    <tr>\n",
       "      <th>genre</th>\n",
       "      <th></th>\n",
       "    </tr>\n",
       "  </thead>\n",
       "  <tbody>\n",
       "    <tr>\n",
       "      <th>Action</th>\n",
       "      <td>199.36</td>\n",
       "    </tr>\n",
       "    <tr>\n",
       "      <th>Shooter</th>\n",
       "      <td>170.94</td>\n",
       "    </tr>\n",
       "    <tr>\n",
       "      <th>Sports</th>\n",
       "      <td>109.48</td>\n",
       "    </tr>\n",
       "    <tr>\n",
       "      <th>Role-Playing</th>\n",
       "      <td>101.44</td>\n",
       "    </tr>\n",
       "    <tr>\n",
       "      <th>Misc</th>\n",
       "      <td>37.55</td>\n",
       "    </tr>\n",
       "    <tr>\n",
       "      <th>Fighting</th>\n",
       "      <td>28.22</td>\n",
       "    </tr>\n",
       "    <tr>\n",
       "      <th>Racing</th>\n",
       "      <td>27.52</td>\n",
       "    </tr>\n",
       "    <tr>\n",
       "      <th>Platform</th>\n",
       "      <td>18.09</td>\n",
       "    </tr>\n",
       "    <tr>\n",
       "      <th>Adventure</th>\n",
       "      <td>17.55</td>\n",
       "    </tr>\n",
       "    <tr>\n",
       "      <th>Simulation</th>\n",
       "      <td>13.13</td>\n",
       "    </tr>\n",
       "    <tr>\n",
       "      <th>Strategy</th>\n",
       "      <td>3.96</td>\n",
       "    </tr>\n",
       "    <tr>\n",
       "      <th>Puzzle</th>\n",
       "      <td>2.21</td>\n",
       "    </tr>\n",
       "  </tbody>\n",
       "</table>\n",
       "</div>"
      ],
      "text/plain": [
       "              all_sales\n",
       "genre                  \n",
       "Action           199.36\n",
       "Shooter          170.94\n",
       "Sports           109.48\n",
       "Role-Playing     101.44\n",
       "Misc              37.55\n",
       "Fighting          28.22\n",
       "Racing            27.52\n",
       "Platform          18.09\n",
       "Adventure         17.55\n",
       "Simulation        13.13\n",
       "Strategy           3.96\n",
       "Puzzle             2.21"
      ]
     },
     "execution_count": 21,
     "metadata": {},
     "output_type": "execute_result"
    }
   ],
   "source": [
    "pie_genre = data_cut.groupby('genre')['genre'].count()\n",
    "pie_genre.plot(kind='pie', autopct=\"%.2f\", figsize=(7,7))\n",
    "plt.show()\n",
    "sales_genre = data_cut.pivot_table(index='genre',values='all_sales',aggfunc=('sum')).sort_values('all_sales',ascending=False)\n",
    "sales_genre"
   ]
  },
  {
   "cell_type": "markdown",
   "metadata": {},
   "source": [
    "Самый больше продажи игр в жанре Action,но и производится этих игр на много больше чем остальных. Можно предположить что самые прибыльные игры в жанре Shooter так как произвидтся их относительно не много а в продажах они занимают 3 строчку, на обратные мысли наталкивает положение игр в жанре Adventure продажи совсем не велеки относительно количества призведённых игр."
   ]
  },
  {
   "cell_type": "markdown",
   "metadata": {},
   "source": [
    "## Шаг 4. Составим портрет пользователя каждого региона"
   ]
  },
  {
   "cell_type": "markdown",
   "metadata": {},
   "source": [
    "Определим для пользователя каждого региона топ-5 популярных платформ"
   ]
  },
  {
   "cell_type": "code",
   "execution_count": 22,
   "metadata": {},
   "outputs": [
    {
     "name": "stdout",
     "output_type": "stream",
     "text": [
      "Топ 5 продаж по платформам в регионе na\n"
     ]
    },
    {
     "data": {
      "text/html": [
       "<div>\n",
       "<style scoped>\n",
       "    .dataframe tbody tr th:only-of-type {\n",
       "        vertical-align: middle;\n",
       "    }\n",
       "\n",
       "    .dataframe tbody tr th {\n",
       "        vertical-align: top;\n",
       "    }\n",
       "\n",
       "    .dataframe thead th {\n",
       "        text-align: right;\n",
       "    }\n",
       "</style>\n",
       "<table border=\"1\" class=\"dataframe\">\n",
       "  <thead>\n",
       "    <tr style=\"text-align: right;\">\n",
       "      <th></th>\n",
       "      <th>na_sales</th>\n",
       "    </tr>\n",
       "    <tr>\n",
       "      <th>platform</th>\n",
       "      <th></th>\n",
       "    </tr>\n",
       "  </thead>\n",
       "  <tbody>\n",
       "    <tr>\n",
       "      <th>PS4</th>\n",
       "      <td>98.61</td>\n",
       "    </tr>\n",
       "    <tr>\n",
       "      <th>XOne</th>\n",
       "      <td>81.27</td>\n",
       "    </tr>\n",
       "    <tr>\n",
       "      <th>X360</th>\n",
       "      <td>28.30</td>\n",
       "    </tr>\n",
       "    <tr>\n",
       "      <th>3DS</th>\n",
       "      <td>22.64</td>\n",
       "    </tr>\n",
       "    <tr>\n",
       "      <th>PS3</th>\n",
       "      <td>22.05</td>\n",
       "    </tr>\n",
       "  </tbody>\n",
       "</table>\n",
       "</div>"
      ],
      "text/plain": [
       "          na_sales\n",
       "platform          \n",
       "PS4          98.61\n",
       "XOne         81.27\n",
       "X360         28.30\n",
       "3DS          22.64\n",
       "PS3          22.05"
      ]
     },
     "metadata": {},
     "output_type": "display_data"
    },
    {
     "data": {
      "image/png": "[encoded data removed]",
      "text/plain": [
       "<Figure size 360x360 with 1 Axes>"
      ]
     },
     "metadata": {},
     "output_type": "display_data"
    },
    {
     "name": "stdout",
     "output_type": "stream",
     "text": [
      "Топ 5 продаж по платформам в регионе eu\n"
     ]
    },
    {
     "data": {
      "text/html": [
       "<div>\n",
       "<style scoped>\n",
       "    .dataframe tbody tr th:only-of-type {\n",
       "        vertical-align: middle;\n",
       "    }\n",
       "\n",
       "    .dataframe tbody tr th {\n",
       "        vertical-align: top;\n",
       "    }\n",
       "\n",
       "    .dataframe thead th {\n",
       "        text-align: right;\n",
       "    }\n",
       "</style>\n",
       "<table border=\"1\" class=\"dataframe\">\n",
       "  <thead>\n",
       "    <tr style=\"text-align: right;\">\n",
       "      <th></th>\n",
       "      <th>eu_sales</th>\n",
       "    </tr>\n",
       "    <tr>\n",
       "      <th>platform</th>\n",
       "      <th></th>\n",
       "    </tr>\n",
       "  </thead>\n",
       "  <tbody>\n",
       "    <tr>\n",
       "      <th>PS4</th>\n",
       "      <td>130.04</td>\n",
       "    </tr>\n",
       "    <tr>\n",
       "      <th>XOne</th>\n",
       "      <td>46.25</td>\n",
       "    </tr>\n",
       "    <tr>\n",
       "      <th>PS3</th>\n",
       "      <td>25.54</td>\n",
       "    </tr>\n",
       "    <tr>\n",
       "      <th>PC</th>\n",
       "      <td>17.97</td>\n",
       "    </tr>\n",
       "    <tr>\n",
       "      <th>3DS</th>\n",
       "      <td>16.12</td>\n",
       "    </tr>\n",
       "  </tbody>\n",
       "</table>\n",
       "</div>"
      ],
      "text/plain": [
       "          eu_sales\n",
       "platform          \n",
       "PS4         130.04\n",
       "XOne         46.25\n",
       "PS3          25.54\n",
       "PC           17.97\n",
       "3DS          16.12"
      ]
     },
     "metadata": {},
     "output_type": "display_data"
    },
    {
     "data": {
      "image/png": "[encoded data removed]",
      "text/plain": [
       "<Figure size 360x360 with 1 Axes>"
      ]
     },
     "metadata": {},
     "output_type": "display_data"
    },
    {
     "name": "stdout",
     "output_type": "stream",
     "text": [
      "Топ 5 продаж по платформам в регионе jp\n"
     ]
    },
    {
     "data": {
      "text/html": [
       "<div>\n",
       "<style scoped>\n",
       "    .dataframe tbody tr th:only-of-type {\n",
       "        vertical-align: middle;\n",
       "    }\n",
       "\n",
       "    .dataframe tbody tr th {\n",
       "        vertical-align: top;\n",
       "    }\n",
       "\n",
       "    .dataframe thead th {\n",
       "        text-align: right;\n",
       "    }\n",
       "</style>\n",
       "<table border=\"1\" class=\"dataframe\">\n",
       "  <thead>\n",
       "    <tr style=\"text-align: right;\">\n",
       "      <th></th>\n",
       "      <th>jp_sales</th>\n",
       "    </tr>\n",
       "    <tr>\n",
       "      <th>platform</th>\n",
       "      <th></th>\n",
       "    </tr>\n",
       "  </thead>\n",
       "  <tbody>\n",
       "    <tr>\n",
       "      <th>3DS</th>\n",
       "      <td>44.24</td>\n",
       "    </tr>\n",
       "    <tr>\n",
       "      <th>PS4</th>\n",
       "      <td>15.02</td>\n",
       "    </tr>\n",
       "    <tr>\n",
       "      <th>PSV</th>\n",
       "      <td>14.54</td>\n",
       "    </tr>\n",
       "    <tr>\n",
       "      <th>PS3</th>\n",
       "      <td>11.22</td>\n",
       "    </tr>\n",
       "    <tr>\n",
       "      <th>WiiU</th>\n",
       "      <td>7.31</td>\n",
       "    </tr>\n",
       "  </tbody>\n",
       "</table>\n",
       "</div>"
      ],
      "text/plain": [
       "          jp_sales\n",
       "platform          \n",
       "3DS          44.24\n",
       "PS4          15.02\n",
       "PSV          14.54\n",
       "PS3          11.22\n",
       "WiiU          7.31"
      ]
     },
     "metadata": {},
     "output_type": "display_data"
    },
    {
     "data": {
      "image/png": "[encoded data removed]",
      "text/plain": [
       "<Figure size 360x360 with 1 Axes>"
      ]
     },
     "metadata": {},
     "output_type": "display_data"
    }
   ],
   "source": [
    "#Сделаем цик для автоматического формирования  нужных нам данных по регионам\n",
    "for reg in ['na','eu', 'jp']:\n",
    "    reg_platform = (data_cut.pivot_table(index='platform',values=reg+'_sales',aggfunc=('sum'))\n",
    "                    .sort_values(reg+'_sales', ascending=False)\n",
    "                   .head(5))\n",
    "    print('Топ 5 продаж по платформам в регионе', reg)\n",
    "    display(reg_platform)\n",
    "    reg_platform.plot(kind='pie', subplots=True, autopct=\"%.2f\", figsize=(5,5), title='Доля продаж по региону '+reg)\n",
    "    plt.show()"
   ]
  },
  {
   "cell_type": "markdown",
   "metadata": {},
   "source": [
    "В регионе NA популярна платформа Xbox360 , в европе PS3, в японии DS."
   ]
  },
  {
   "cell_type": "markdown",
   "metadata": {},
   "source": [
    "Определите для пользователя каждого региона топ-5 популярных жанров."
   ]
  },
  {
   "cell_type": "code",
   "execution_count": 23,
   "metadata": {},
   "outputs": [
    {
     "name": "stdout",
     "output_type": "stream",
     "text": [
      "Топ 5 продаж по жанрам в регионе na\n"
     ]
    },
    {
     "data": {
      "text/html": [
       "<div>\n",
       "<style scoped>\n",
       "    .dataframe tbody tr th:only-of-type {\n",
       "        vertical-align: middle;\n",
       "    }\n",
       "\n",
       "    .dataframe tbody tr th {\n",
       "        vertical-align: top;\n",
       "    }\n",
       "\n",
       "    .dataframe thead th {\n",
       "        text-align: right;\n",
       "    }\n",
       "</style>\n",
       "<table border=\"1\" class=\"dataframe\">\n",
       "  <thead>\n",
       "    <tr style=\"text-align: right;\">\n",
       "      <th></th>\n",
       "      <th>na_sales</th>\n",
       "    </tr>\n",
       "    <tr>\n",
       "      <th>genre</th>\n",
       "      <th></th>\n",
       "    </tr>\n",
       "  </thead>\n",
       "  <tbody>\n",
       "    <tr>\n",
       "      <th>Shooter</th>\n",
       "      <td>79.02</td>\n",
       "    </tr>\n",
       "    <tr>\n",
       "      <th>Action</th>\n",
       "      <td>72.53</td>\n",
       "    </tr>\n",
       "    <tr>\n",
       "      <th>Sports</th>\n",
       "      <td>46.13</td>\n",
       "    </tr>\n",
       "    <tr>\n",
       "      <th>Role-Playing</th>\n",
       "      <td>33.47</td>\n",
       "    </tr>\n",
       "    <tr>\n",
       "      <th>Misc</th>\n",
       "      <td>15.05</td>\n",
       "    </tr>\n",
       "  </tbody>\n",
       "</table>\n",
       "</div>"
      ],
      "text/plain": [
       "              na_sales\n",
       "genre                 \n",
       "Shooter          79.02\n",
       "Action           72.53\n",
       "Sports           46.13\n",
       "Role-Playing     33.47\n",
       "Misc             15.05"
      ]
     },
     "metadata": {},
     "output_type": "display_data"
    },
    {
     "data": {
      "image/png": "[encoded data removed]",
      "text/plain": [
       "<Figure size 360x360 with 1 Axes>"
      ]
     },
     "metadata": {},
     "output_type": "display_data"
    },
    {
     "name": "stdout",
     "output_type": "stream",
     "text": [
      "Топ 5 продаж по жанрам в регионе eu\n"
     ]
    },
    {
     "data": {
      "text/html": [
       "<div>\n",
       "<style scoped>\n",
       "    .dataframe tbody tr th:only-of-type {\n",
       "        vertical-align: middle;\n",
       "    }\n",
       "\n",
       "    .dataframe tbody tr th {\n",
       "        vertical-align: top;\n",
       "    }\n",
       "\n",
       "    .dataframe thead th {\n",
       "        text-align: right;\n",
       "    }\n",
       "</style>\n",
       "<table border=\"1\" class=\"dataframe\">\n",
       "  <thead>\n",
       "    <tr style=\"text-align: right;\">\n",
       "      <th></th>\n",
       "      <th>eu_sales</th>\n",
       "    </tr>\n",
       "    <tr>\n",
       "      <th>genre</th>\n",
       "      <th></th>\n",
       "    </tr>\n",
       "  </thead>\n",
       "  <tbody>\n",
       "    <tr>\n",
       "      <th>Action</th>\n",
       "      <td>74.68</td>\n",
       "    </tr>\n",
       "    <tr>\n",
       "      <th>Shooter</th>\n",
       "      <td>65.52</td>\n",
       "    </tr>\n",
       "    <tr>\n",
       "      <th>Sports</th>\n",
       "      <td>45.73</td>\n",
       "    </tr>\n",
       "    <tr>\n",
       "      <th>Role-Playing</th>\n",
       "      <td>28.17</td>\n",
       "    </tr>\n",
       "    <tr>\n",
       "      <th>Racing</th>\n",
       "      <td>14.13</td>\n",
       "    </tr>\n",
       "  </tbody>\n",
       "</table>\n",
       "</div>"
      ],
      "text/plain": [
       "              eu_sales\n",
       "genre                 \n",
       "Action           74.68\n",
       "Shooter          65.52\n",
       "Sports           45.73\n",
       "Role-Playing     28.17\n",
       "Racing           14.13"
      ]
     },
     "metadata": {},
     "output_type": "display_data"
    },
    {
     "data": {
      "image/png": "[encoded data removed]",
      "text/plain": [
       "<Figure size 360x360 with 1 Axes>"
      ]
     },
     "metadata": {},
     "output_type": "display_data"
    },
    {
     "name": "stdout",
     "output_type": "stream",
     "text": [
      "Топ 5 продаж по жанрам в регионе jp\n"
     ]
    },
    {
     "data": {
      "text/html": [
       "<div>\n",
       "<style scoped>\n",
       "    .dataframe tbody tr th:only-of-type {\n",
       "        vertical-align: middle;\n",
       "    }\n",
       "\n",
       "    .dataframe tbody tr th {\n",
       "        vertical-align: top;\n",
       "    }\n",
       "\n",
       "    .dataframe thead th {\n",
       "        text-align: right;\n",
       "    }\n",
       "</style>\n",
       "<table border=\"1\" class=\"dataframe\">\n",
       "  <thead>\n",
       "    <tr style=\"text-align: right;\">\n",
       "      <th></th>\n",
       "      <th>jp_sales</th>\n",
       "    </tr>\n",
       "    <tr>\n",
       "      <th>genre</th>\n",
       "      <th></th>\n",
       "    </tr>\n",
       "  </thead>\n",
       "  <tbody>\n",
       "    <tr>\n",
       "      <th>Role-Playing</th>\n",
       "      <td>31.16</td>\n",
       "    </tr>\n",
       "    <tr>\n",
       "      <th>Action</th>\n",
       "      <td>29.58</td>\n",
       "    </tr>\n",
       "    <tr>\n",
       "      <th>Fighting</th>\n",
       "      <td>6.37</td>\n",
       "    </tr>\n",
       "    <tr>\n",
       "      <th>Misc</th>\n",
       "      <td>5.61</td>\n",
       "    </tr>\n",
       "    <tr>\n",
       "      <th>Shooter</th>\n",
       "      <td>4.87</td>\n",
       "    </tr>\n",
       "  </tbody>\n",
       "</table>\n",
       "</div>"
      ],
      "text/plain": [
       "              jp_sales\n",
       "genre                 \n",
       "Role-Playing     31.16\n",
       "Action           29.58\n",
       "Fighting          6.37\n",
       "Misc              5.61\n",
       "Shooter           4.87"
      ]
     },
     "metadata": {},
     "output_type": "display_data"
    },
    {
     "data": {
      "image/png": "[encoded data removed]",
      "text/plain": [
       "<Figure size 360x360 with 1 Axes>"
      ]
     },
     "metadata": {},
     "output_type": "display_data"
    }
   ],
   "source": [
    "#Сделаем цик для автоматического формирования  нужных нам данных по регионам\n",
    "for reg in ['na','eu', 'jp']:\n",
    "    reg_genre = (data_cut.pivot_table(index='genre',values=reg+'_sales',aggfunc=('sum'))\n",
    "                    .sort_values(reg+'_sales', ascending=False)\n",
    "                   .head(5))\n",
    "    print('Топ 5 продаж по жанрам в регионе', reg)\n",
    "    display(reg_genre)\n",
    "    reg_genre.plot(kind='pie', subplots=True, autopct=\"%.2f\", figsize=(5,5), title='Доля продаж по региону '+reg)\n",
    "    plt.show()"
   ]
  },
  {
   "cell_type": "markdown",
   "metadata": {},
   "source": [
    "В Европе и америки вкусы совпадают отличаются лиш последние строчки топа, тогда как в японии горазда большей популярностью обладают игры в жанре РПГ, спортивные симуляторы вообще не попали в топ зато попали игры в жанре файтинг."
   ]
  },
  {
   "cell_type": "markdown",
   "metadata": {},
   "source": [
    "Проверим влияет ли рейтинг ESRB на продажи по регионам"
   ]
  },
  {
   "cell_type": "code",
   "execution_count": 24,
   "metadata": {},
   "outputs": [
    {
     "name": "stderr",
     "output_type": "stream",
     "text": [
      "/tmp/ipykernel_48/283407007.py:2: SettingWithCopyWarning: \n",
      "A value is trying to be set on a copy of a slice from a DataFrame.\n",
      "Try using .loc[row_indexer,col_indexer] = value instead\n",
      "\n",
      "See the caveats in the documentation: https://pandas.pydata.org/pandas-docs/stable/user_guide/indexing.html#returning-a-view-versus-a-copy\n",
      "  data_cut['rating'] = data_cut['rating'].fillna('missing')\n"
     ]
    }
   ],
   "source": [
    "#Для начала заменим пропуски в рейтинге на \"missing\" что бы не потерять данные с пропущеным рейтенгом\n",
    "data_cut['rating'] = data_cut['rating'].fillna('missing')\n",
    "\n"
   ]
  },
  {
   "cell_type": "code",
   "execution_count": 25,
   "metadata": {},
   "outputs": [
    {
     "name": "stdout",
     "output_type": "stream",
     "text": [
      "Продаж по рейтенгу ESRB в регионе na\n"
     ]
    },
    {
     "data": {
      "text/html": [
       "<div>\n",
       "<style scoped>\n",
       "    .dataframe tbody tr th:only-of-type {\n",
       "        vertical-align: middle;\n",
       "    }\n",
       "\n",
       "    .dataframe tbody tr th {\n",
       "        vertical-align: top;\n",
       "    }\n",
       "\n",
       "    .dataframe thead th {\n",
       "        text-align: right;\n",
       "    }\n",
       "</style>\n",
       "<table border=\"1\" class=\"dataframe\">\n",
       "  <thead>\n",
       "    <tr style=\"text-align: right;\">\n",
       "      <th></th>\n",
       "      <th>na_sales</th>\n",
       "    </tr>\n",
       "    <tr>\n",
       "      <th>rating</th>\n",
       "      <th></th>\n",
       "    </tr>\n",
       "  </thead>\n",
       "  <tbody>\n",
       "    <tr>\n",
       "      <th>M</th>\n",
       "      <td>96.42</td>\n",
       "    </tr>\n",
       "    <tr>\n",
       "      <th>missing</th>\n",
       "      <td>64.72</td>\n",
       "    </tr>\n",
       "    <tr>\n",
       "      <th>E</th>\n",
       "      <td>50.74</td>\n",
       "    </tr>\n",
       "    <tr>\n",
       "      <th>T</th>\n",
       "      <td>38.95</td>\n",
       "    </tr>\n",
       "    <tr>\n",
       "      <th>E10+</th>\n",
       "      <td>33.23</td>\n",
       "    </tr>\n",
       "  </tbody>\n",
       "</table>\n",
       "</div>"
      ],
      "text/plain": [
       "         na_sales\n",
       "rating           \n",
       "M           96.42\n",
       "missing     64.72\n",
       "E           50.74\n",
       "T           38.95\n",
       "E10+        33.23"
      ]
     },
     "metadata": {},
     "output_type": "display_data"
    },
    {
     "data": {
      "image/png": "[encoded data removed]",
      "text/plain": [
       "<Figure size 432x288 with 1 Axes>"
      ]
     },
     "metadata": {
      "needs_background": "light"
     },
     "output_type": "display_data"
    },
    {
     "name": "stdout",
     "output_type": "stream",
     "text": [
      "Продаж по рейтенгу ESRB в регионе eu\n"
     ]
    },
    {
     "data": {
      "text/html": [
       "<div>\n",
       "<style scoped>\n",
       "    .dataframe tbody tr th:only-of-type {\n",
       "        vertical-align: middle;\n",
       "    }\n",
       "\n",
       "    .dataframe tbody tr th {\n",
       "        vertical-align: top;\n",
       "    }\n",
       "\n",
       "    .dataframe thead th {\n",
       "        text-align: right;\n",
       "    }\n",
       "</style>\n",
       "<table border=\"1\" class=\"dataframe\">\n",
       "  <thead>\n",
       "    <tr style=\"text-align: right;\">\n",
       "      <th></th>\n",
       "      <th>eu_sales</th>\n",
       "    </tr>\n",
       "    <tr>\n",
       "      <th>rating</th>\n",
       "      <th></th>\n",
       "    </tr>\n",
       "  </thead>\n",
       "  <tbody>\n",
       "    <tr>\n",
       "      <th>M</th>\n",
       "      <td>93.44</td>\n",
       "    </tr>\n",
       "    <tr>\n",
       "      <th>missing</th>\n",
       "      <td>58.95</td>\n",
       "    </tr>\n",
       "    <tr>\n",
       "      <th>E</th>\n",
       "      <td>58.06</td>\n",
       "    </tr>\n",
       "    <tr>\n",
       "      <th>T</th>\n",
       "      <td>34.07</td>\n",
       "    </tr>\n",
       "    <tr>\n",
       "      <th>E10+</th>\n",
       "      <td>26.16</td>\n",
       "    </tr>\n",
       "  </tbody>\n",
       "</table>\n",
       "</div>"
      ],
      "text/plain": [
       "         eu_sales\n",
       "rating           \n",
       "M           93.44\n",
       "missing     58.95\n",
       "E           58.06\n",
       "T           34.07\n",
       "E10+        26.16"
      ]
     },
     "metadata": {},
     "output_type": "display_data"
    },
    {
     "data": {
      "image/png": "[encoded data removed]",
      "text/plain": [
       "<Figure size 432x288 with 1 Axes>"
      ]
     },
     "metadata": {
      "needs_background": "light"
     },
     "output_type": "display_data"
    },
    {
     "name": "stdout",
     "output_type": "stream",
     "text": [
      "Продаж по рейтенгу ESRB в регионе jp\n"
     ]
    },
    {
     "data": {
      "text/html": [
       "<div>\n",
       "<style scoped>\n",
       "    .dataframe tbody tr th:only-of-type {\n",
       "        vertical-align: middle;\n",
       "    }\n",
       "\n",
       "    .dataframe tbody tr th {\n",
       "        vertical-align: top;\n",
       "    }\n",
       "\n",
       "    .dataframe thead th {\n",
       "        text-align: right;\n",
       "    }\n",
       "</style>\n",
       "<table border=\"1\" class=\"dataframe\">\n",
       "  <thead>\n",
       "    <tr style=\"text-align: right;\">\n",
       "      <th></th>\n",
       "      <th>jp_sales</th>\n",
       "    </tr>\n",
       "    <tr>\n",
       "      <th>rating</th>\n",
       "      <th></th>\n",
       "    </tr>\n",
       "  </thead>\n",
       "  <tbody>\n",
       "    <tr>\n",
       "      <th>missing</th>\n",
       "      <td>56.90</td>\n",
       "    </tr>\n",
       "    <tr>\n",
       "      <th>T</th>\n",
       "      <td>14.78</td>\n",
       "    </tr>\n",
       "    <tr>\n",
       "      <th>E</th>\n",
       "      <td>8.94</td>\n",
       "    </tr>\n",
       "    <tr>\n",
       "      <th>M</th>\n",
       "      <td>8.01</td>\n",
       "    </tr>\n",
       "    <tr>\n",
       "      <th>E10+</th>\n",
       "      <td>4.46</td>\n",
       "    </tr>\n",
       "  </tbody>\n",
       "</table>\n",
       "</div>"
      ],
      "text/plain": [
       "         jp_sales\n",
       "rating           \n",
       "missing     56.90\n",
       "T           14.78\n",
       "E            8.94\n",
       "M            8.01\n",
       "E10+         4.46"
      ]
     },
     "metadata": {},
     "output_type": "display_data"
    },
    {
     "data": {
      "image/png": "[encoded data removed]",
      "text/plain": [
       "<Figure size 432x288 with 1 Axes>"
      ]
     },
     "metadata": {
      "needs_background": "light"
     },
     "output_type": "display_data"
    }
   ],
   "source": [
    "#Сделаем цик для автоматического формирования  нужных нам данных по регионам\n",
    "for reg in ['na','eu', 'jp']:\n",
    "    reg_esrb = (data_cut.pivot_table(index='rating',values=reg+'_sales',aggfunc=('sum'))\n",
    "                    .sort_values(reg+'_sales', ascending=False))\n",
    "    \n",
    "    print('Продаж по рейтенгу ESRB в регионе', reg)\n",
    "    display(reg_esrb)\n",
    "    reg_esrb.plot(kind='bar', subplots=True, title='Продажи по региону '+reg)\n",
    "    plt.show()"
   ]
  },
  {
   "cell_type": "markdown",
   "metadata": {},
   "source": [
    "В Америке и Европе лидируют игры с рейтингом M - \"Для взрослы\" что можно объяснить тем что взрослые более платежеспособны. На втором месте игры с без рейтинга .В Японии же на первом месте игры без рейтенга что связано с тем что игры данного региона за частую не выходят на другие рынки, а по этому и не получают возрастной рейтинг. \n"
   ]
  },
  {
   "cell_type": "markdown",
   "metadata": {},
   "source": [
    "## Шаг 5. Проверка гипотезы"
   ]
  },
  {
   "cell_type": "markdown",
   "metadata": {},
   "source": [
    "H0 - Средние пользовательские рейтинги платформ Xbox One и PC одинаковые\n",
    "H1 - Средние пользовательские рейтинги платформ Xbox One и PC отличаются"
   ]
  },
  {
   "cell_type": "code",
   "execution_count": 26,
   "metadata": {},
   "outputs": [
    {
     "name": "stdout",
     "output_type": "stream",
     "text": [
      "p-value: 0.11601398086668938\n",
      "Не получилось отвергнуть нулевую гипотезу \n"
     ]
    }
   ],
   "source": [
    "#формируем новые dataframe с интересующими нас данными , отбросив пропуски\n",
    "xbox_rating = data_cut[data_cut['platform'] == 'XOne']['user_score'].dropna()\n",
    "pc_rating = data_cut[data_cut['platform'] == 'PC']['user_score'].dropna()\n",
    "\n",
    "#вызов метода для проверки гипотезы\n",
    "results = st.ttest_ind(xbox_rating, pc_rating, equal_var = False)\n",
    "#Уровень значимости\n",
    "alpha = 0.05\n",
    "\n",
    "print('p-value:',results.pvalue)\n",
    "#выводим результат \n",
    "if results.pvalue < alpha:\n",
    "    print('Отвергаем нулевую гипотезу')\n",
    "else:\n",
    "    print('Не получилось отвергнуть нулевую гипотезу ')"
   ]
  },
  {
   "cell_type": "markdown",
   "metadata": {},
   "source": [
    "H0 - Средние пользовательские рейтинги жанров Action  и Sports  разные."
   ]
  },
  {
   "cell_type": "code",
   "execution_count": 27,
   "metadata": {},
   "outputs": [
    {
     "name": "stdout",
     "output_type": "stream",
     "text": [
      "p-value: 1.1825550382646265e-14\n",
      "Отвергаем нулевую гипотезу\n"
     ]
    }
   ],
   "source": [
    "#формируем новые dataframe с интересующими нас данными , отбросив пропуски\n",
    "action_rating = data_cut[data_cut['genre'] == 'Action']['user_score'].dropna()\n",
    "sports_rating = data_cut[data_cut['genre'] == 'Sports']['user_score'].dropna()\n",
    "\n",
    "#вызов метода для проверки гипотезы\n",
    "results = st.ttest_ind(action_rating, sports_rating, equal_var = False)\n",
    "\n",
    "#Уровень значимости\n",
    "alpha = 0.05\n",
    "\n",
    "print('p-value:',results.pvalue)\n",
    "#выводим результат \n",
    "if results.pvalue < alpha:\n",
    "    print('Отвергаем нулевую гипотезу')\n",
    "else:\n",
    "    print('Не получилось отвергнуть нулевую гипотезу ')"
   ]
  },
  {
   "cell_type": "markdown",
   "metadata": {},
   "source": [
    "## Шаг 6. Общий вывод"
   ]
  },
  {
   "cell_type": "markdown",
   "metadata": {},
   "source": [
    "С 1995 г. наблюдается рост количества игр и ещё больший рост продаж , однако в 2009 тенденция меняется в обратную сторону, на данный момент продажи на всех платформах падают. \n",
    "\n",
    "Наиболее актуальные на данный момент платформы PS4, Xone, 3DS. Однака у каждой платформы были своих хиты с хорошими продажами.\n",
    "\n",
    "Отзывы критиков как правило влияют на продажи игр, скорей всего это из за того что они печатаются в игровых СМИ и к ним прислушиваются множество игроков, а ещё не надо забывать что чаще всего обзоры от критиков выходят до старта продаж, что сильно влияет на продаже в первоем время после выхода. Оценки пользователей же вовсе не влияют на продажи.\n",
    "\n",
    "Самые большие продажи игр в жанрек Action их и чаще всего производят, Shooter же выглядят очень перспективно при не сильно частом выходе новых игр у них хорошие продажи.\n",
    "\n",
    "В зависмости от региона меняются и предпочтения как в платформах так и в жанрах, так например в японии очень популярны РПГ и в пятёрку попали файтенги, в европе и америки значительных различий в любимых жанрах нету.\n",
    "\n",
    "В Амрике наибольшей популярностью пользуются платформы PS4 и XboxOne, суммарные продажи составляют более 71%.\n",
    "В Европе болеше всего продаются игры на платформа PS4 более 55%, на втором месте XboxOne 19%.Так же это единственный регион где в топ-5 попали PC игры .\n",
    "в Японии же самой популярной платформой является 3DS 47% , дальше в сопастовимых долях идут PS4, PSV, PS3, WiiU.\n",
    "\n",
    "В Америке и Европе лидирующие места занимают жанры Action и Shooter в обоих регионах продажи составили более 60%,на втором месте игры жанра Sports, далее с сопоставимыми долями идут Role-Playing,\tMisc, Racing.\n",
    "В Японии преобладают игры в жанре Role-Playing 40% и Action\t38%, далее идут намного менее заначимы жанры Fighting, Misc, Shooter.\n",
    "\n",
    "В значительной мере на продажи игр влияет их возрастной рейтенг , так в Европе и Америке более популярны игры для взрослых, как мне кажется в виду большей платежеспособности, на втором мете игры без рейтинга. \n",
    "В Японии же исследовать данный вопрос до конца не возможно ибо нету данных от их рейтенгового агенства а именно Computer Entertainment Rating Organization.\n",
    "\n",
    "Гипотезы: \n",
    "Средние пользовательские рейтинги платформ Xbox One и PC одинаковые: Гипотеза не была опровергнута.\n",
    "Средние пользовательские рейтинги жанров Action и Sports разные: Гипотеза отвергнута.\n"
   ]
  }
 ],
 "metadata": {
  "ExecuteTimeLog": [
   {
    "duration": 445,
    "start_time": "2022-08-03T10:04:02.086Z"
   },
   {
    "duration": 202,
    "start_time": "2022-08-03T10:04:18.481Z"
   },
   {
    "duration": 77,
    "start_time": "2022-08-03T10:04:41.165Z"
   },
   {
    "duration": 80,
    "start_time": "2022-08-03T10:04:52.125Z"
   },
   {
    "duration": 21,
    "start_time": "2022-08-03T10:13:48.853Z"
   },
   {
    "duration": 1475,
    "start_time": "2022-08-03T10:15:57.929Z"
   },
   {
    "duration": 11,
    "start_time": "2022-08-03T10:16:19.737Z"
   },
   {
    "duration": 16,
    "start_time": "2022-08-03T10:16:26.868Z"
   },
   {
    "duration": 17,
    "start_time": "2022-08-03T10:16:31.422Z"
   },
   {
    "duration": 5,
    "start_time": "2022-08-03T10:16:40.241Z"
   },
   {
    "duration": 15,
    "start_time": "2022-08-03T10:16:43.569Z"
   },
   {
    "duration": 6,
    "start_time": "2022-08-03T10:18:45.222Z"
   },
   {
    "duration": 23,
    "start_time": "2022-08-03T10:19:37.735Z"
   },
   {
    "duration": 10,
    "start_time": "2022-08-03T10:22:46.066Z"
   },
   {
    "duration": 10,
    "start_time": "2022-08-03T10:23:23.969Z"
   },
   {
    "duration": 9,
    "start_time": "2022-08-03T10:23:28.192Z"
   },
   {
    "duration": 82,
    "start_time": "2022-08-03T10:26:27.490Z"
   },
   {
    "duration": 33,
    "start_time": "2022-08-03T10:26:46.618Z"
   },
   {
    "duration": 7,
    "start_time": "2022-08-03T10:26:56.449Z"
   },
   {
    "duration": 7,
    "start_time": "2022-08-03T10:27:04.723Z"
   },
   {
    "duration": 21,
    "start_time": "2022-08-03T10:27:27.470Z"
   },
   {
    "duration": 9,
    "start_time": "2022-08-03T10:27:33.628Z"
   },
   {
    "duration": 15,
    "start_time": "2022-08-03T10:28:37.916Z"
   },
   {
    "duration": 5,
    "start_time": "2022-08-03T10:28:46.336Z"
   },
   {
    "duration": 21,
    "start_time": "2022-08-03T10:29:39.213Z"
   },
   {
    "duration": 18,
    "start_time": "2022-08-03T10:31:14.050Z"
   },
   {
    "duration": 8,
    "start_time": "2022-08-03T10:34:10.876Z"
   },
   {
    "duration": 2,
    "start_time": "2022-08-03T10:34:17.079Z"
   },
   {
    "duration": 5,
    "start_time": "2022-08-03T10:34:19.315Z"
   },
   {
    "duration": 3,
    "start_time": "2022-08-03T10:34:51.671Z"
   },
   {
    "duration": 16,
    "start_time": "2022-08-03T10:34:55.842Z"
   },
   {
    "duration": 5,
    "start_time": "2022-08-03T10:35:06.217Z"
   },
   {
    "duration": 18,
    "start_time": "2022-08-03T10:35:47.389Z"
   },
   {
    "duration": 8,
    "start_time": "2022-08-03T10:43:11.917Z"
   },
   {
    "duration": 18,
    "start_time": "2022-08-03T10:43:24.605Z"
   },
   {
    "duration": 20,
    "start_time": "2022-08-03T10:43:43.221Z"
   },
   {
    "duration": 21,
    "start_time": "2022-08-03T10:44:29.750Z"
   },
   {
    "duration": 17,
    "start_time": "2022-08-03T10:44:57.126Z"
   },
   {
    "duration": 18,
    "start_time": "2022-08-03T10:45:15.325Z"
   },
   {
    "duration": 17,
    "start_time": "2022-08-03T10:48:30.445Z"
   },
   {
    "duration": 10,
    "start_time": "2022-08-03T10:49:09.589Z"
   },
   {
    "duration": 9,
    "start_time": "2022-08-03T10:49:32.268Z"
   },
   {
    "duration": 654,
    "start_time": "2022-08-03T10:54:47.748Z"
   },
   {
    "duration": 602,
    "start_time": "2022-08-03T10:55:22.135Z"
   },
   {
    "duration": 13,
    "start_time": "2022-08-03T10:55:43.548Z"
   },
   {
    "duration": 20,
    "start_time": "2022-08-03T10:56:03.927Z"
   },
   {
    "duration": 26,
    "start_time": "2022-08-03T10:56:46.528Z"
   },
   {
    "duration": 14,
    "start_time": "2022-08-03T10:57:16.539Z"
   },
   {
    "duration": 12,
    "start_time": "2022-08-03T10:57:25.328Z"
   },
   {
    "duration": 358,
    "start_time": "2022-08-03T10:59:09.723Z"
   },
   {
    "duration": 82,
    "start_time": "2022-08-03T10:59:10.083Z"
   },
   {
    "duration": 5,
    "start_time": "2022-08-03T10:59:10.167Z"
   },
   {
    "duration": 13,
    "start_time": "2022-08-03T10:59:10.174Z"
   },
   {
    "duration": 6,
    "start_time": "2022-08-03T10:59:10.189Z"
   },
   {
    "duration": 6,
    "start_time": "2022-08-03T10:59:10.197Z"
   },
   {
    "duration": 9,
    "start_time": "2022-08-03T10:59:57.287Z"
   },
   {
    "duration": 62,
    "start_time": "2022-08-03T11:00:10.144Z"
   },
   {
    "duration": 5,
    "start_time": "2022-08-03T11:00:18.785Z"
   },
   {
    "duration": 17,
    "start_time": "2022-08-03T11:00:26.859Z"
   },
   {
    "duration": 18,
    "start_time": "2022-08-03T11:00:34.606Z"
   },
   {
    "duration": 18,
    "start_time": "2022-08-03T11:01:21.433Z"
   },
   {
    "duration": 13,
    "start_time": "2022-08-03T11:01:47.223Z"
   },
   {
    "duration": 17,
    "start_time": "2022-08-03T11:01:56.045Z"
   },
   {
    "duration": 9,
    "start_time": "2022-08-03T11:02:17.631Z"
   },
   {
    "duration": 423,
    "start_time": "2022-08-03T11:02:37.134Z"
   },
   {
    "duration": 85,
    "start_time": "2022-08-03T11:02:37.559Z"
   },
   {
    "duration": 4,
    "start_time": "2022-08-03T11:02:37.646Z"
   },
   {
    "duration": 11,
    "start_time": "2022-08-03T11:02:37.652Z"
   },
   {
    "duration": 7,
    "start_time": "2022-08-03T11:02:37.665Z"
   },
   {
    "duration": 10,
    "start_time": "2022-08-03T11:02:37.674Z"
   },
   {
    "duration": 6,
    "start_time": "2022-08-03T11:05:21.844Z"
   },
   {
    "duration": 388,
    "start_time": "2022-08-03T11:12:10.989Z"
   },
   {
    "duration": 82,
    "start_time": "2022-08-03T11:12:11.379Z"
   },
   {
    "duration": 4,
    "start_time": "2022-08-03T11:12:11.462Z"
   },
   {
    "duration": 12,
    "start_time": "2022-08-03T11:12:11.468Z"
   },
   {
    "duration": 7,
    "start_time": "2022-08-03T11:12:11.482Z"
   },
   {
    "duration": 25,
    "start_time": "2022-08-03T11:12:11.491Z"
   },
   {
    "duration": 13,
    "start_time": "2022-08-03T11:12:11.518Z"
   },
   {
    "duration": 456,
    "start_time": "2022-08-03T11:12:27.576Z"
   },
   {
    "duration": 86,
    "start_time": "2022-08-03T11:12:28.034Z"
   },
   {
    "duration": 5,
    "start_time": "2022-08-03T11:12:28.122Z"
   },
   {
    "duration": 10,
    "start_time": "2022-08-03T11:12:28.129Z"
   },
   {
    "duration": 27,
    "start_time": "2022-08-03T11:12:28.141Z"
   },
   {
    "duration": 12,
    "start_time": "2022-08-03T11:12:28.170Z"
   },
   {
    "duration": 12,
    "start_time": "2022-08-03T11:12:28.184Z"
   },
   {
    "duration": 13,
    "start_time": "2022-08-03T11:29:52.841Z"
   },
   {
    "duration": 20,
    "start_time": "2022-08-03T11:29:59.675Z"
   },
   {
    "duration": 992,
    "start_time": "2022-08-03T11:31:19.384Z"
   },
   {
    "duration": 21,
    "start_time": "2022-08-03T11:32:40.484Z"
   },
   {
    "duration": 1397,
    "start_time": "2022-08-03T11:37:35.714Z"
   },
   {
    "duration": 22,
    "start_time": "2022-08-03T11:43:32.686Z"
   },
   {
    "duration": 20,
    "start_time": "2022-08-03T11:44:32.442Z"
   },
   {
    "duration": 13,
    "start_time": "2022-08-03T11:46:10.652Z"
   },
   {
    "duration": 14,
    "start_time": "2022-08-03T11:46:13.822Z"
   },
   {
    "duration": 12,
    "start_time": "2022-08-03T11:48:01.156Z"
   },
   {
    "duration": 1248,
    "start_time": "2022-08-03T11:48:07.444Z"
   },
   {
    "duration": 325,
    "start_time": "2022-08-03T11:50:05.412Z"
   },
   {
    "duration": 168,
    "start_time": "2022-08-03T11:52:23.574Z"
   },
   {
    "duration": 191,
    "start_time": "2022-08-03T11:52:50.356Z"
   },
   {
    "duration": 182,
    "start_time": "2022-08-03T11:53:19.261Z"
   },
   {
    "duration": 3,
    "start_time": "2022-08-03T11:53:32.286Z"
   },
   {
    "duration": 173,
    "start_time": "2022-08-03T11:53:35.616Z"
   },
   {
    "duration": 189,
    "start_time": "2022-08-03T11:53:53.267Z"
   },
   {
    "duration": 173,
    "start_time": "2022-08-03T11:54:05.579Z"
   },
   {
    "duration": 177,
    "start_time": "2022-08-03T11:54:23.751Z"
   },
   {
    "duration": 75,
    "start_time": "2022-08-03T12:04:42.286Z"
   },
   {
    "duration": 79,
    "start_time": "2022-08-03T12:05:38.957Z"
   },
   {
    "duration": 24,
    "start_time": "2022-08-03T12:05:50.830Z"
   },
   {
    "duration": 176,
    "start_time": "2022-08-03T12:05:57.620Z"
   },
   {
    "duration": 77,
    "start_time": "2022-08-03T12:11:35.449Z"
   },
   {
    "duration": 81,
    "start_time": "2022-08-03T12:11:42.326Z"
   },
   {
    "duration": 71,
    "start_time": "2022-08-03T12:12:07.558Z"
   },
   {
    "duration": 81,
    "start_time": "2022-08-03T12:12:36.326Z"
   },
   {
    "duration": 9,
    "start_time": "2022-08-03T12:12:55.151Z"
   },
   {
    "duration": 512,
    "start_time": "2022-08-03T12:13:04.725Z"
   },
   {
    "duration": 29,
    "start_time": "2022-08-03T12:28:16.163Z"
   },
   {
    "duration": 545,
    "start_time": "2022-08-03T12:28:24.440Z"
   },
   {
    "duration": 574,
    "start_time": "2022-08-03T12:28:39.088Z"
   },
   {
    "duration": 753,
    "start_time": "2022-08-03T12:29:40.345Z"
   },
   {
    "duration": 527,
    "start_time": "2022-08-03T12:29:53.723Z"
   },
   {
    "duration": 40,
    "start_time": "2022-08-03T12:33:19.377Z"
   },
   {
    "duration": 36,
    "start_time": "2022-08-03T12:34:22.484Z"
   },
   {
    "duration": 157,
    "start_time": "2022-08-03T12:34:28.638Z"
   },
   {
    "duration": 6356,
    "start_time": "2022-08-03T12:35:06.278Z"
   },
   {
    "duration": 4679,
    "start_time": "2022-08-03T12:35:14.645Z"
   },
   {
    "duration": 155,
    "start_time": "2022-08-03T12:35:44.623Z"
   },
   {
    "duration": 1276,
    "start_time": "2022-08-03T12:37:24.972Z"
   },
   {
    "duration": 37,
    "start_time": "2022-08-03T12:37:35.620Z"
   },
   {
    "duration": 154,
    "start_time": "2022-08-03T12:39:31.045Z"
   },
   {
    "duration": 31,
    "start_time": "2022-08-03T12:41:16.052Z"
   },
   {
    "duration": 557,
    "start_time": "2022-08-03T12:42:24.192Z"
   },
   {
    "duration": 12,
    "start_time": "2022-08-03T12:43:20.222Z"
   },
   {
    "duration": 11,
    "start_time": "2022-08-03T12:47:28.227Z"
   },
   {
    "duration": 12,
    "start_time": "2022-08-03T12:47:40.027Z"
   },
   {
    "duration": 546,
    "start_time": "2022-08-03T12:48:37.283Z"
   },
   {
    "duration": 614,
    "start_time": "2022-08-03T12:52:06.959Z"
   },
   {
    "duration": 551,
    "start_time": "2022-08-03T12:52:27.949Z"
   },
   {
    "duration": 154,
    "start_time": "2022-08-03T12:52:38.934Z"
   },
   {
    "duration": 1419,
    "start_time": "2022-08-03T12:52:49.715Z"
   },
   {
    "duration": 1220,
    "start_time": "2022-08-03T12:53:05.823Z"
   },
   {
    "duration": 34,
    "start_time": "2022-08-03T12:53:23.819Z"
   },
   {
    "duration": 977,
    "start_time": "2022-08-06T14:04:46.668Z"
   },
   {
    "duration": 211,
    "start_time": "2022-08-06T14:04:47.648Z"
   },
   {
    "duration": 5,
    "start_time": "2022-08-06T14:04:47.861Z"
   },
   {
    "duration": 14,
    "start_time": "2022-08-06T14:04:47.869Z"
   },
   {
    "duration": 9,
    "start_time": "2022-08-06T14:04:47.885Z"
   },
   {
    "duration": 13,
    "start_time": "2022-08-06T14:04:47.896Z"
   },
   {
    "duration": 8,
    "start_time": "2022-08-06T14:04:47.910Z"
   },
   {
    "duration": 239,
    "start_time": "2022-08-06T14:04:47.920Z"
   },
   {
    "duration": 1383,
    "start_time": "2022-08-06T14:04:48.160Z"
   },
   {
    "duration": 1411,
    "start_time": "2022-08-06T14:05:35.649Z"
   },
   {
    "duration": 1507,
    "start_time": "2022-08-06T14:06:20.009Z"
   },
   {
    "duration": 160,
    "start_time": "2022-08-06T14:07:34.943Z"
   },
   {
    "duration": 83,
    "start_time": "2022-08-06T14:10:18.176Z"
   },
   {
    "duration": 213,
    "start_time": "2022-08-06T14:10:24.754Z"
   },
   {
    "duration": 35,
    "start_time": "2022-08-06T14:17:55.739Z"
   },
   {
    "duration": 38,
    "start_time": "2022-08-06T14:19:00.041Z"
   },
   {
    "duration": 50,
    "start_time": "2022-08-06T14:19:21.364Z"
   },
   {
    "duration": 50,
    "start_time": "2022-08-06T14:21:33.689Z"
   },
   {
    "duration": 40,
    "start_time": "2022-08-06T14:21:40.044Z"
   },
   {
    "duration": 49,
    "start_time": "2022-08-06T14:21:50.600Z"
   },
   {
    "duration": 33,
    "start_time": "2022-08-06T14:22:09.895Z"
   },
   {
    "duration": 30,
    "start_time": "2022-08-06T14:22:15.757Z"
   },
   {
    "duration": 31,
    "start_time": "2022-08-06T14:24:24.213Z"
   },
   {
    "duration": 36,
    "start_time": "2022-08-06T14:24:55.266Z"
   },
   {
    "duration": 20,
    "start_time": "2022-08-06T14:28:37.001Z"
   },
   {
    "duration": 16,
    "start_time": "2022-08-06T14:29:13.601Z"
   },
   {
    "duration": 14,
    "start_time": "2022-08-06T14:29:24.859Z"
   },
   {
    "duration": 21,
    "start_time": "2022-08-06T14:29:48.225Z"
   },
   {
    "duration": 6,
    "start_time": "2022-08-06T14:30:06.537Z"
   },
   {
    "duration": 30,
    "start_time": "2022-08-06T14:39:27.471Z"
   },
   {
    "duration": 1474,
    "start_time": "2022-08-06T14:39:54.004Z"
   },
   {
    "duration": 2152,
    "start_time": "2022-08-06T14:40:04.552Z"
   },
   {
    "duration": 5535,
    "start_time": "2022-08-06T14:40:12.835Z"
   },
   {
    "duration": 33,
    "start_time": "2022-08-06T14:43:27.287Z"
   },
   {
    "duration": 40,
    "start_time": "2022-08-06T14:46:01.550Z"
   },
   {
    "duration": 48,
    "start_time": "2022-08-06T14:46:54.887Z"
   },
   {
    "duration": 66,
    "start_time": "2022-08-06T14:48:03.102Z"
   },
   {
    "duration": 50,
    "start_time": "2022-08-06T14:48:20.853Z"
   },
   {
    "duration": 224,
    "start_time": "2022-08-06T14:49:00.207Z"
   },
   {
    "duration": 664,
    "start_time": "2022-08-06T14:51:41.760Z"
   },
   {
    "duration": 77,
    "start_time": "2022-08-06T14:51:42.426Z"
   },
   {
    "duration": 5,
    "start_time": "2022-08-06T14:51:42.505Z"
   },
   {
    "duration": 13,
    "start_time": "2022-08-06T14:51:42.511Z"
   },
   {
    "duration": 8,
    "start_time": "2022-08-06T14:51:42.526Z"
   },
   {
    "duration": 10,
    "start_time": "2022-08-06T14:51:42.535Z"
   },
   {
    "duration": 24,
    "start_time": "2022-08-06T14:51:42.546Z"
   },
   {
    "duration": 191,
    "start_time": "2022-08-06T14:51:42.572Z"
   },
   {
    "duration": 71,
    "start_time": "2022-08-06T14:51:42.767Z"
   },
   {
    "duration": 207,
    "start_time": "2022-08-06T14:51:55.001Z"
   },
   {
    "duration": 6,
    "start_time": "2022-08-06T14:52:30.809Z"
   },
   {
    "duration": 230,
    "start_time": "2022-08-06T14:54:52.317Z"
   },
   {
    "duration": 217,
    "start_time": "2022-08-06T14:54:57.744Z"
   },
   {
    "duration": 321,
    "start_time": "2022-08-06T14:55:02.361Z"
   },
   {
    "duration": 6,
    "start_time": "2022-08-06T14:57:43.980Z"
   },
   {
    "duration": 218,
    "start_time": "2022-08-06T15:02:47.579Z"
   },
   {
    "duration": 531,
    "start_time": "2022-08-06T15:03:08.162Z"
   },
   {
    "duration": 323,
    "start_time": "2022-08-06T15:04:37.337Z"
   },
   {
    "duration": 319,
    "start_time": "2022-08-06T15:05:36.959Z"
   },
   {
    "duration": 408,
    "start_time": "2022-08-06T15:05:41.456Z"
   },
   {
    "duration": 347,
    "start_time": "2022-08-06T15:05:46.191Z"
   },
   {
    "duration": 332,
    "start_time": "2022-08-06T15:05:57.486Z"
   },
   {
    "duration": 319,
    "start_time": "2022-08-06T15:06:25.072Z"
   },
   {
    "duration": 332,
    "start_time": "2022-08-06T15:06:35.497Z"
   },
   {
    "duration": 136,
    "start_time": "2022-08-06T15:09:00.004Z"
   },
   {
    "duration": 276,
    "start_time": "2022-08-06T15:09:07.043Z"
   },
   {
    "duration": 289,
    "start_time": "2022-08-06T15:09:28.737Z"
   },
   {
    "duration": 440,
    "start_time": "2022-08-06T15:09:40.577Z"
   },
   {
    "duration": 167,
    "start_time": "2022-08-06T15:10:20.245Z"
   },
   {
    "duration": 378,
    "start_time": "2022-08-06T15:12:56.282Z"
   },
   {
    "duration": 9,
    "start_time": "2022-08-06T15:13:37.954Z"
   },
   {
    "duration": 330,
    "start_time": "2022-08-06T15:13:47.738Z"
   },
   {
    "duration": 10,
    "start_time": "2022-08-06T15:24:45.783Z"
   },
   {
    "duration": 9,
    "start_time": "2022-08-06T15:25:12.692Z"
   },
   {
    "duration": 11,
    "start_time": "2022-08-06T15:25:23.135Z"
   },
   {
    "duration": 11,
    "start_time": "2022-08-06T15:26:13.497Z"
   },
   {
    "duration": 5,
    "start_time": "2022-08-06T15:26:18.260Z"
   },
   {
    "duration": 1293,
    "start_time": "2022-08-06T15:26:20.869Z"
   },
   {
    "duration": 51,
    "start_time": "2022-08-06T15:26:39.231Z"
   },
   {
    "duration": 3,
    "start_time": "2022-08-06T15:27:09.269Z"
   },
   {
    "duration": 678,
    "start_time": "2022-08-06T15:27:11.690Z"
   },
   {
    "duration": 318,
    "start_time": "2022-08-06T15:33:42.889Z"
   },
   {
    "duration": 321,
    "start_time": "2022-08-06T15:33:52.039Z"
   },
   {
    "duration": 146,
    "start_time": "2022-08-06T15:34:17.423Z"
   },
   {
    "duration": 312,
    "start_time": "2022-08-06T15:34:28.099Z"
   },
   {
    "duration": 338,
    "start_time": "2022-08-06T15:37:25.656Z"
   },
   {
    "duration": 360,
    "start_time": "2022-08-06T15:37:35.782Z"
   },
   {
    "duration": 55,
    "start_time": "2022-08-06T15:40:24.488Z"
   },
   {
    "duration": 12,
    "start_time": "2022-08-06T15:40:46.837Z"
   },
   {
    "duration": 21,
    "start_time": "2022-08-06T15:40:51.104Z"
   },
   {
    "duration": 32,
    "start_time": "2022-08-06T15:42:29.693Z"
   },
   {
    "duration": 19,
    "start_time": "2022-08-06T15:43:12.405Z"
   },
   {
    "duration": 356,
    "start_time": "2022-08-06T15:47:48.065Z"
   },
   {
    "duration": 75,
    "start_time": "2022-08-06T15:48:26.085Z"
   },
   {
    "duration": 79,
    "start_time": "2022-08-06T15:48:32.126Z"
   },
   {
    "duration": 367,
    "start_time": "2022-08-06T15:48:44.170Z"
   },
   {
    "duration": 636,
    "start_time": "2022-08-06T15:49:14.949Z"
   },
   {
    "duration": 390,
    "start_time": "2022-08-06T15:58:09.829Z"
   },
   {
    "duration": 441,
    "start_time": "2022-08-06T15:58:56.158Z"
   },
   {
    "duration": 80,
    "start_time": "2022-08-06T16:01:24.409Z"
   },
   {
    "duration": 47,
    "start_time": "2022-08-06T16:01:30.616Z"
   },
   {
    "duration": 161,
    "start_time": "2022-08-06T16:01:37.127Z"
   },
   {
    "duration": 10,
    "start_time": "2022-08-06T16:06:16.303Z"
   },
   {
    "duration": 195,
    "start_time": "2022-08-06T16:06:26.633Z"
   },
   {
    "duration": 14,
    "start_time": "2022-08-06T16:12:07.599Z"
   },
   {
    "duration": 417,
    "start_time": "2022-08-06T16:12:15.398Z"
   },
   {
    "duration": 331,
    "start_time": "2022-08-06T16:12:18.214Z"
   },
   {
    "duration": 39,
    "start_time": "2022-08-06T16:13:59.029Z"
   },
   {
    "duration": 13,
    "start_time": "2022-08-06T16:14:05.040Z"
   },
   {
    "duration": 152,
    "start_time": "2022-08-06T16:14:30.346Z"
   },
   {
    "duration": 15,
    "start_time": "2022-08-06T16:15:16.134Z"
   },
   {
    "duration": 308,
    "start_time": "2022-08-06T16:15:27.522Z"
   },
   {
    "duration": 137,
    "start_time": "2022-08-06T16:16:03.017Z"
   },
   {
    "duration": 18,
    "start_time": "2022-08-06T16:16:59.926Z"
   },
   {
    "duration": 587,
    "start_time": "2022-08-06T16:17:06.346Z"
   },
   {
    "duration": 582,
    "start_time": "2022-08-06T16:17:30.746Z"
   },
   {
    "duration": 913,
    "start_time": "2022-08-06T16:17:42.103Z"
   },
   {
    "duration": 586,
    "start_time": "2022-08-06T16:17:50.738Z"
   },
   {
    "duration": 544,
    "start_time": "2022-08-06T16:17:55.385Z"
   },
   {
    "duration": 558,
    "start_time": "2022-08-06T16:18:03.054Z"
   },
   {
    "duration": 348,
    "start_time": "2022-08-06T16:19:02.881Z"
   },
   {
    "duration": 347,
    "start_time": "2022-08-06T16:19:18.749Z"
   },
   {
    "duration": 380,
    "start_time": "2022-08-06T16:21:25.260Z"
   },
   {
    "duration": 429,
    "start_time": "2022-08-06T16:21:36.305Z"
   },
   {
    "duration": 353,
    "start_time": "2022-08-06T16:21:43.091Z"
   },
   {
    "duration": 10,
    "start_time": "2022-08-06T16:37:51.658Z"
   },
   {
    "duration": 11,
    "start_time": "2022-08-06T16:38:03.083Z"
   },
   {
    "duration": 15,
    "start_time": "2022-08-06T16:38:09.869Z"
   },
   {
    "duration": 2169,
    "start_time": "2022-08-06T16:38:16.235Z"
   },
   {
    "duration": 1652,
    "start_time": "2022-08-06T16:38:30.128Z"
   },
   {
    "duration": 11,
    "start_time": "2022-08-06T16:48:31.354Z"
   },
   {
    "duration": 18,
    "start_time": "2022-08-06T16:48:44.736Z"
   },
   {
    "duration": 6,
    "start_time": "2022-08-06T16:51:58.574Z"
   },
   {
    "duration": 135,
    "start_time": "2022-08-06T16:52:20.096Z"
   },
   {
    "duration": 155,
    "start_time": "2022-08-06T16:52:56.630Z"
   },
   {
    "duration": 142,
    "start_time": "2022-08-06T16:53:03.512Z"
   },
   {
    "duration": 166,
    "start_time": "2022-08-06T16:54:16.075Z"
   },
   {
    "duration": 202,
    "start_time": "2022-08-06T16:54:38.855Z"
   },
   {
    "duration": 168,
    "start_time": "2022-08-06T16:55:52.624Z"
   },
   {
    "duration": 183,
    "start_time": "2022-08-06T16:58:54.789Z"
   },
   {
    "duration": 194,
    "start_time": "2022-08-06T16:59:02.245Z"
   },
   {
    "duration": 188,
    "start_time": "2022-08-06T16:59:15.102Z"
   },
   {
    "duration": 195,
    "start_time": "2022-08-06T16:59:29.659Z"
   },
   {
    "duration": 193,
    "start_time": "2022-08-06T16:59:54.853Z"
   },
   {
    "duration": 190,
    "start_time": "2022-08-06T17:00:04.324Z"
   },
   {
    "duration": 224,
    "start_time": "2022-08-06T17:00:11.580Z"
   },
   {
    "duration": 25,
    "start_time": "2022-08-06T17:10:53.065Z"
   },
   {
    "duration": 19,
    "start_time": "2022-08-06T17:11:01.647Z"
   },
   {
    "duration": 17,
    "start_time": "2022-08-06T17:11:19.664Z"
   },
   {
    "duration": 501,
    "start_time": "2022-08-06T17:11:26.679Z"
   },
   {
    "duration": 448,
    "start_time": "2022-08-06T17:11:36.923Z"
   },
   {
    "duration": 23,
    "start_time": "2022-08-06T17:12:51.362Z"
   },
   {
    "duration": 1101,
    "start_time": "2022-08-06T17:13:21.193Z"
   },
   {
    "duration": 1114,
    "start_time": "2022-08-06T17:14:18.493Z"
   },
   {
    "duration": 1301,
    "start_time": "2022-08-06T17:14:32.234Z"
   },
   {
    "duration": 1914,
    "start_time": "2022-08-06T17:14:52.194Z"
   },
   {
    "duration": 659,
    "start_time": "2022-08-06T17:16:22.696Z"
   },
   {
    "duration": 620,
    "start_time": "2022-08-06T17:16:32.399Z"
   },
   {
    "duration": 658,
    "start_time": "2022-08-06T17:20:05.996Z"
   },
   {
    "duration": 612,
    "start_time": "2022-08-06T17:20:40.273Z"
   },
   {
    "duration": 607,
    "start_time": "2022-08-06T17:20:55.686Z"
   },
   {
    "duration": 645,
    "start_time": "2022-08-06T17:21:31.083Z"
   },
   {
    "duration": 582,
    "start_time": "2022-08-06T17:23:04.725Z"
   },
   {
    "duration": 650,
    "start_time": "2022-08-06T17:24:15.142Z"
   },
   {
    "duration": 658,
    "start_time": "2022-08-06T17:37:49.853Z"
   },
   {
    "duration": 191,
    "start_time": "2022-08-06T17:39:03.503Z"
   },
   {
    "duration": 599,
    "start_time": "2022-08-06T17:39:17.223Z"
   },
   {
    "duration": 36,
    "start_time": "2022-08-06T17:39:42.119Z"
   },
   {
    "duration": 604,
    "start_time": "2022-08-06T17:40:31.237Z"
   },
   {
    "duration": 525,
    "start_time": "2022-08-06T17:40:54.615Z"
   },
   {
    "duration": 573,
    "start_time": "2022-08-06T17:41:38.197Z"
   },
   {
    "duration": 1220,
    "start_time": "2022-08-06T17:55:26.048Z"
   },
   {
    "duration": 9,
    "start_time": "2022-08-06T17:55:34.815Z"
   },
   {
    "duration": 19,
    "start_time": "2022-08-06T18:02:02.183Z"
   },
   {
    "duration": 16,
    "start_time": "2022-08-06T18:02:52.780Z"
   },
   {
    "duration": 3,
    "start_time": "2022-08-06T18:02:57.650Z"
   },
   {
    "duration": 11,
    "start_time": "2022-08-06T18:03:02.590Z"
   },
   {
    "duration": 10,
    "start_time": "2022-08-06T18:08:31.680Z"
   },
   {
    "duration": 1259,
    "start_time": "2022-08-06T19:16:19.049Z"
   },
   {
    "duration": 95,
    "start_time": "2022-08-06T19:16:20.310Z"
   },
   {
    "duration": 5,
    "start_time": "2022-08-06T19:16:20.407Z"
   },
   {
    "duration": 17,
    "start_time": "2022-08-06T19:16:20.414Z"
   },
   {
    "duration": 7,
    "start_time": "2022-08-06T19:16:20.434Z"
   },
   {
    "duration": 41,
    "start_time": "2022-08-06T19:16:20.443Z"
   },
   {
    "duration": 8,
    "start_time": "2022-08-06T19:16:20.487Z"
   },
   {
    "duration": 240,
    "start_time": "2022-08-06T19:16:20.497Z"
   },
   {
    "duration": 254,
    "start_time": "2022-08-06T19:16:20.739Z"
   },
   {
    "duration": 8,
    "start_time": "2022-08-06T19:16:20.995Z"
   },
   {
    "duration": 404,
    "start_time": "2022-08-06T19:16:21.005Z"
   },
   {
    "duration": 417,
    "start_time": "2022-08-06T19:16:21.411Z"
   },
   {
    "duration": 1960,
    "start_time": "2022-08-06T19:16:21.830Z"
   },
   {
    "duration": 13,
    "start_time": "2022-08-06T19:16:23.795Z"
   },
   {
    "duration": 303,
    "start_time": "2022-08-06T19:16:23.810Z"
   },
   {
    "duration": 734,
    "start_time": "2022-08-06T19:16:24.114Z"
   },
   {
    "duration": 762,
    "start_time": "2022-08-06T19:16:24.849Z"
   },
   {
    "duration": 702,
    "start_time": "2022-08-06T19:16:25.613Z"
   },
   {
    "duration": 16,
    "start_time": "2022-08-06T19:16:26.317Z"
   },
   {
    "duration": 41,
    "start_time": "2022-08-06T19:16:26.336Z"
   },
   {
    "duration": 118,
    "start_time": "2022-08-06T19:31:00.102Z"
   },
   {
    "duration": 195,
    "start_time": "2022-08-06T19:31:06.851Z"
   },
   {
    "duration": 195,
    "start_time": "2022-08-06T19:37:31.789Z"
   },
   {
    "duration": 341,
    "start_time": "2022-08-06T19:53:31.796Z"
   },
   {
    "duration": 561,
    "start_time": "2022-08-06T20:11:30.617Z"
   },
   {
    "duration": 623,
    "start_time": "2022-08-06T20:13:33.959Z"
   },
   {
    "duration": 10,
    "start_time": "2022-08-06T20:31:18.630Z"
   },
   {
    "duration": 10,
    "start_time": "2022-08-06T20:33:07.720Z"
   },
   {
    "duration": 1167,
    "start_time": "2022-08-06T20:52:11.184Z"
   },
   {
    "duration": 84,
    "start_time": "2022-08-06T20:52:12.353Z"
   },
   {
    "duration": 5,
    "start_time": "2022-08-06T20:52:12.439Z"
   },
   {
    "duration": 42,
    "start_time": "2022-08-06T20:52:12.445Z"
   },
   {
    "duration": 33,
    "start_time": "2022-08-06T20:52:12.490Z"
   },
   {
    "duration": 31,
    "start_time": "2022-08-06T20:52:12.524Z"
   },
   {
    "duration": 12,
    "start_time": "2022-08-06T20:52:12.556Z"
   },
   {
    "duration": 216,
    "start_time": "2022-08-06T20:52:12.570Z"
   },
   {
    "duration": 77,
    "start_time": "2022-08-06T20:52:12.788Z"
   },
   {
    "duration": 0,
    "start_time": "2022-08-06T20:52:12.868Z"
   },
   {
    "duration": 0,
    "start_time": "2022-08-06T20:52:12.870Z"
   },
   {
    "duration": 0,
    "start_time": "2022-08-06T20:52:12.871Z"
   },
   {
    "duration": 0,
    "start_time": "2022-08-06T20:52:12.872Z"
   },
   {
    "duration": 0,
    "start_time": "2022-08-06T20:52:12.873Z"
   },
   {
    "duration": 0,
    "start_time": "2022-08-06T20:52:12.874Z"
   },
   {
    "duration": 0,
    "start_time": "2022-08-06T20:52:12.875Z"
   },
   {
    "duration": 0,
    "start_time": "2022-08-06T20:52:12.876Z"
   },
   {
    "duration": 0,
    "start_time": "2022-08-06T20:52:12.878Z"
   },
   {
    "duration": 0,
    "start_time": "2022-08-06T20:52:12.880Z"
   },
   {
    "duration": 0,
    "start_time": "2022-08-06T20:52:12.880Z"
   },
   {
    "duration": 0,
    "start_time": "2022-08-06T20:52:12.881Z"
   },
   {
    "duration": 0,
    "start_time": "2022-08-06T20:52:12.882Z"
   },
   {
    "duration": 1248,
    "start_time": "2022-08-06T20:52:36.825Z"
   },
   {
    "duration": 82,
    "start_time": "2022-08-06T20:52:38.076Z"
   },
   {
    "duration": 5,
    "start_time": "2022-08-06T20:52:38.160Z"
   },
   {
    "duration": 12,
    "start_time": "2022-08-06T20:52:38.167Z"
   },
   {
    "duration": 6,
    "start_time": "2022-08-06T20:52:38.181Z"
   },
   {
    "duration": 12,
    "start_time": "2022-08-06T20:52:38.189Z"
   },
   {
    "duration": 36,
    "start_time": "2022-08-06T20:52:38.203Z"
   },
   {
    "duration": 208,
    "start_time": "2022-08-06T20:52:38.241Z"
   },
   {
    "duration": 238,
    "start_time": "2022-08-06T20:52:38.451Z"
   },
   {
    "duration": 6,
    "start_time": "2022-08-06T20:52:38.691Z"
   },
   {
    "duration": 339,
    "start_time": "2022-08-06T20:52:38.698Z"
   },
   {
    "duration": 325,
    "start_time": "2022-08-06T20:52:39.039Z"
   },
   {
    "duration": 1639,
    "start_time": "2022-08-06T20:52:39.366Z"
   },
   {
    "duration": 13,
    "start_time": "2022-08-06T20:52:41.009Z"
   },
   {
    "duration": 209,
    "start_time": "2022-08-06T20:52:41.024Z"
   },
   {
    "duration": 647,
    "start_time": "2022-08-06T20:52:41.235Z"
   },
   {
    "duration": 621,
    "start_time": "2022-08-06T20:52:41.884Z"
   },
   {
    "duration": 107,
    "start_time": "2022-08-06T20:52:42.507Z"
   },
   {
    "duration": 0,
    "start_time": "2022-08-06T20:52:42.615Z"
   },
   {
    "duration": 0,
    "start_time": "2022-08-06T20:52:42.617Z"
   },
   {
    "duration": 0,
    "start_time": "2022-08-06T20:52:42.618Z"
   },
   {
    "duration": 1143,
    "start_time": "2022-08-06T20:52:56.812Z"
   },
   {
    "duration": 80,
    "start_time": "2022-08-06T20:52:57.957Z"
   },
   {
    "duration": 4,
    "start_time": "2022-08-06T20:52:58.039Z"
   },
   {
    "duration": 20,
    "start_time": "2022-08-06T20:52:58.044Z"
   },
   {
    "duration": 6,
    "start_time": "2022-08-06T20:52:58.067Z"
   },
   {
    "duration": 21,
    "start_time": "2022-08-06T20:52:58.075Z"
   },
   {
    "duration": 5,
    "start_time": "2022-08-06T20:52:58.098Z"
   },
   {
    "duration": 211,
    "start_time": "2022-08-06T20:52:58.105Z"
   },
   {
    "duration": 224,
    "start_time": "2022-08-06T20:52:58.318Z"
   },
   {
    "duration": 5,
    "start_time": "2022-08-06T20:52:58.544Z"
   },
   {
    "duration": 323,
    "start_time": "2022-08-06T20:52:58.550Z"
   },
   {
    "duration": 324,
    "start_time": "2022-08-06T20:52:58.875Z"
   },
   {
    "duration": 1542,
    "start_time": "2022-08-06T20:52:59.201Z"
   },
   {
    "duration": 11,
    "start_time": "2022-08-06T20:53:00.746Z"
   },
   {
    "duration": 173,
    "start_time": "2022-08-06T20:53:00.768Z"
   },
   {
    "duration": 604,
    "start_time": "2022-08-06T20:53:00.942Z"
   },
   {
    "duration": 651,
    "start_time": "2022-08-06T20:53:01.547Z"
   },
   {
    "duration": 549,
    "start_time": "2022-08-06T20:53:02.200Z"
   },
   {
    "duration": 17,
    "start_time": "2022-08-06T20:53:02.751Z"
   },
   {
    "duration": 9,
    "start_time": "2022-08-06T20:53:02.770Z"
   },
   {
    "duration": 1009,
    "start_time": "2022-08-07T12:46:10.601Z"
   },
   {
    "duration": 73,
    "start_time": "2022-08-07T12:46:11.611Z"
   },
   {
    "duration": 5,
    "start_time": "2022-08-07T12:46:11.686Z"
   },
   {
    "duration": 10,
    "start_time": "2022-08-07T12:46:11.693Z"
   },
   {
    "duration": 5,
    "start_time": "2022-08-07T12:46:11.704Z"
   },
   {
    "duration": 11,
    "start_time": "2022-08-07T12:46:11.710Z"
   },
   {
    "duration": 6,
    "start_time": "2022-08-07T12:46:11.722Z"
   },
   {
    "duration": 204,
    "start_time": "2022-08-07T12:46:11.730Z"
   },
   {
    "duration": 191,
    "start_time": "2022-08-07T12:46:11.936Z"
   },
   {
    "duration": 5,
    "start_time": "2022-08-07T12:46:12.130Z"
   },
   {
    "duration": 271,
    "start_time": "2022-08-07T12:46:12.136Z"
   },
   {
    "duration": 280,
    "start_time": "2022-08-07T12:46:12.408Z"
   },
   {
    "duration": 1406,
    "start_time": "2022-08-07T12:46:12.690Z"
   },
   {
    "duration": 10,
    "start_time": "2022-08-07T12:46:14.097Z"
   },
   {
    "duration": 166,
    "start_time": "2022-08-07T12:46:14.109Z"
   },
   {
    "duration": 494,
    "start_time": "2022-08-07T12:46:14.276Z"
   },
   {
    "duration": 517,
    "start_time": "2022-08-07T12:46:14.772Z"
   },
   {
    "duration": 468,
    "start_time": "2022-08-07T12:46:15.291Z"
   },
   {
    "duration": 9,
    "start_time": "2022-08-07T12:46:15.760Z"
   },
   {
    "duration": 8,
    "start_time": "2022-08-07T12:46:15.771Z"
   },
   {
    "duration": 82,
    "start_time": "2022-08-07T14:24:09.707Z"
   },
   {
    "duration": 39,
    "start_time": "2022-08-07T14:26:18.235Z"
   },
   {
    "duration": 1242,
    "start_time": "2022-08-07T14:26:29.944Z"
   },
   {
    "duration": 206,
    "start_time": "2022-08-07T14:26:31.188Z"
   },
   {
    "duration": 4,
    "start_time": "2022-08-07T14:26:31.396Z"
   },
   {
    "duration": 22,
    "start_time": "2022-08-07T14:26:31.402Z"
   },
   {
    "duration": 18,
    "start_time": "2022-08-07T14:26:31.425Z"
   },
   {
    "duration": 15,
    "start_time": "2022-08-07T14:26:31.444Z"
   },
   {
    "duration": 16,
    "start_time": "2022-08-07T14:26:31.460Z"
   },
   {
    "duration": 20,
    "start_time": "2022-08-07T14:26:31.478Z"
   },
   {
    "duration": 197,
    "start_time": "2022-08-07T14:26:31.499Z"
   },
   {
    "duration": 225,
    "start_time": "2022-08-07T14:26:31.698Z"
   },
   {
    "duration": 6,
    "start_time": "2022-08-07T14:26:31.924Z"
   },
   {
    "duration": 337,
    "start_time": "2022-08-07T14:26:31.931Z"
   },
   {
    "duration": 292,
    "start_time": "2022-08-07T14:26:32.270Z"
   },
   {
    "duration": 1495,
    "start_time": "2022-08-07T14:26:32.564Z"
   },
   {
    "duration": 12,
    "start_time": "2022-08-07T14:26:34.060Z"
   },
   {
    "duration": 181,
    "start_time": "2022-08-07T14:26:34.073Z"
   },
   {
    "duration": 522,
    "start_time": "2022-08-07T14:26:34.255Z"
   },
   {
    "duration": 537,
    "start_time": "2022-08-07T14:26:34.778Z"
   },
   {
    "duration": 515,
    "start_time": "2022-08-07T14:26:35.317Z"
   },
   {
    "duration": 10,
    "start_time": "2022-08-07T14:26:35.833Z"
   },
   {
    "duration": 10,
    "start_time": "2022-08-07T14:26:35.845Z"
   },
   {
    "duration": 90,
    "start_time": "2022-08-07T14:26:51.095Z"
   },
   {
    "duration": 20,
    "start_time": "2022-08-07T14:27:00.455Z"
   },
   {
    "duration": 24,
    "start_time": "2022-08-07T14:43:50.792Z"
   },
   {
    "duration": 9,
    "start_time": "2022-08-07T14:44:23.450Z"
   },
   {
    "duration": 21,
    "start_time": "2022-08-07T14:44:27.489Z"
   },
   {
    "duration": 1019,
    "start_time": "2022-08-07T14:45:21.356Z"
   },
   {
    "duration": 75,
    "start_time": "2022-08-07T14:45:22.377Z"
   },
   {
    "duration": 4,
    "start_time": "2022-08-07T14:45:22.454Z"
   },
   {
    "duration": 11,
    "start_time": "2022-08-07T14:45:22.459Z"
   },
   {
    "duration": 5,
    "start_time": "2022-08-07T14:45:22.472Z"
   },
   {
    "duration": 10,
    "start_time": "2022-08-07T14:45:22.478Z"
   },
   {
    "duration": 19,
    "start_time": "2022-08-07T14:45:22.490Z"
   },
   {
    "duration": 22,
    "start_time": "2022-08-07T14:45:22.510Z"
   },
   {
    "duration": 3,
    "start_time": "2022-08-07T14:45:22.533Z"
   },
   {
    "duration": 205,
    "start_time": "2022-08-07T14:45:22.537Z"
   },
   {
    "duration": 205,
    "start_time": "2022-08-07T14:45:22.744Z"
   },
   {
    "duration": 5,
    "start_time": "2022-08-07T14:45:22.950Z"
   },
   {
    "duration": 304,
    "start_time": "2022-08-07T14:45:22.956Z"
   },
   {
    "duration": 301,
    "start_time": "2022-08-07T14:45:23.263Z"
   },
   {
    "duration": 1538,
    "start_time": "2022-08-07T14:45:23.565Z"
   },
   {
    "duration": 10,
    "start_time": "2022-08-07T14:45:25.106Z"
   },
   {
    "duration": 189,
    "start_time": "2022-08-07T14:45:25.118Z"
   },
   {
    "duration": 601,
    "start_time": "2022-08-07T14:45:25.309Z"
   },
   {
    "duration": 652,
    "start_time": "2022-08-07T14:45:25.911Z"
   },
   {
    "duration": 527,
    "start_time": "2022-08-07T14:45:26.565Z"
   },
   {
    "duration": 12,
    "start_time": "2022-08-07T14:45:27.094Z"
   },
   {
    "duration": 10,
    "start_time": "2022-08-07T14:45:27.107Z"
   },
   {
    "duration": 10,
    "start_time": "2022-08-07T14:46:19.936Z"
   },
   {
    "duration": 29,
    "start_time": "2022-08-07T14:51:48.514Z"
   },
   {
    "duration": 13,
    "start_time": "2022-08-07T14:51:59.792Z"
   },
   {
    "duration": 19,
    "start_time": "2022-08-07T14:52:04.583Z"
   },
   {
    "duration": 5,
    "start_time": "2022-08-07T14:55:05.208Z"
   },
   {
    "duration": 1074,
    "start_time": "2022-08-07T14:55:14.023Z"
   },
   {
    "duration": 88,
    "start_time": "2022-08-07T14:55:15.099Z"
   },
   {
    "duration": 5,
    "start_time": "2022-08-07T14:55:15.189Z"
   },
   {
    "duration": 15,
    "start_time": "2022-08-07T14:55:15.196Z"
   },
   {
    "duration": 6,
    "start_time": "2022-08-07T14:55:15.214Z"
   },
   {
    "duration": 13,
    "start_time": "2022-08-07T14:55:15.221Z"
   },
   {
    "duration": 6,
    "start_time": "2022-08-07T14:55:15.235Z"
   },
   {
    "duration": 23,
    "start_time": "2022-08-07T14:55:15.243Z"
   },
   {
    "duration": 38,
    "start_time": "2022-08-07T14:55:15.268Z"
   },
   {
    "duration": 191,
    "start_time": "2022-08-07T14:55:15.307Z"
   },
   {
    "duration": 195,
    "start_time": "2022-08-07T14:55:15.500Z"
   },
   {
    "duration": 10,
    "start_time": "2022-08-07T14:55:15.696Z"
   },
   {
    "duration": 230,
    "start_time": "2022-08-07T14:55:15.707Z"
   },
   {
    "duration": 267,
    "start_time": "2022-08-07T14:55:15.939Z"
   },
   {
    "duration": 1500,
    "start_time": "2022-08-07T14:55:16.208Z"
   },
   {
    "duration": 11,
    "start_time": "2022-08-07T14:55:17.710Z"
   },
   {
    "duration": 190,
    "start_time": "2022-08-07T14:55:17.722Z"
   },
   {
    "duration": 539,
    "start_time": "2022-08-07T14:55:17.914Z"
   },
   {
    "duration": 565,
    "start_time": "2022-08-07T14:55:18.455Z"
   },
   {
    "duration": 463,
    "start_time": "2022-08-07T14:55:19.021Z"
   },
   {
    "duration": 8,
    "start_time": "2022-08-07T14:55:19.485Z"
   },
   {
    "duration": 16,
    "start_time": "2022-08-07T14:55:19.494Z"
   },
   {
    "duration": 232,
    "start_time": "2022-08-07T14:55:43.766Z"
   },
   {
    "duration": 254,
    "start_time": "2022-08-07T14:55:55.869Z"
   },
   {
    "duration": 223,
    "start_time": "2022-08-07T14:56:04.154Z"
   },
   {
    "duration": 67,
    "start_time": "2022-08-07T14:58:22.127Z"
   },
   {
    "duration": 250,
    "start_time": "2022-08-07T14:58:27.650Z"
   },
   {
    "duration": 238,
    "start_time": "2022-08-07T14:58:53.370Z"
   },
   {
    "duration": 72,
    "start_time": "2022-08-07T14:59:01.978Z"
   },
   {
    "duration": 124,
    "start_time": "2022-08-07T15:00:26.754Z"
   },
   {
    "duration": 260,
    "start_time": "2022-08-07T15:01:28.538Z"
   },
   {
    "duration": 250,
    "start_time": "2022-08-07T15:03:08.280Z"
   },
   {
    "duration": 159,
    "start_time": "2022-08-07T15:03:11.378Z"
   },
   {
    "duration": 240,
    "start_time": "2022-08-07T15:03:15.373Z"
   },
   {
    "duration": 246,
    "start_time": "2022-08-07T15:03:19.693Z"
   },
   {
    "duration": 162,
    "start_time": "2022-08-07T15:03:26.592Z"
   },
   {
    "duration": 148,
    "start_time": "2022-08-07T15:03:31.354Z"
   },
   {
    "duration": 159,
    "start_time": "2022-08-07T15:03:34.801Z"
   },
   {
    "duration": 240,
    "start_time": "2022-08-07T15:04:43.828Z"
   },
   {
    "duration": 249,
    "start_time": "2022-08-07T15:04:46.823Z"
   },
   {
    "duration": 246,
    "start_time": "2022-08-07T15:04:51.268Z"
   },
   {
    "duration": 247,
    "start_time": "2022-08-07T15:05:01.928Z"
   },
   {
    "duration": 515,
    "start_time": "2022-08-07T15:11:50.186Z"
   },
   {
    "duration": 8,
    "start_time": "2022-08-07T15:13:58.577Z"
   },
   {
    "duration": 16,
    "start_time": "2022-08-07T15:14:07.058Z"
   },
   {
    "duration": 43,
    "start_time": "2022-08-07T15:15:23.679Z"
   },
   {
    "duration": 206,
    "start_time": "2022-08-07T15:17:05.737Z"
   },
   {
    "duration": 86,
    "start_time": "2022-08-07T15:22:15.624Z"
   },
   {
    "duration": 139,
    "start_time": "2022-08-07T15:23:15.315Z"
   },
   {
    "duration": 1280,
    "start_time": "2022-08-07T15:25:06.934Z"
   },
   {
    "duration": 1404,
    "start_time": "2022-08-07T15:25:26.079Z"
   },
   {
    "duration": 1339,
    "start_time": "2022-08-07T15:26:12.122Z"
   },
   {
    "duration": 1593,
    "start_time": "2022-08-07T15:26:23.535Z"
   },
   {
    "duration": 1186,
    "start_time": "2022-08-07T15:26:38.385Z"
   },
   {
    "duration": 1331,
    "start_time": "2022-08-07T15:27:00.557Z"
   },
   {
    "duration": 93,
    "start_time": "2022-08-07T15:32:56.637Z"
   },
   {
    "duration": 13,
    "start_time": "2022-08-07T15:39:32.169Z"
   },
   {
    "duration": 4,
    "start_time": "2022-08-07T15:40:08.127Z"
   },
   {
    "duration": 4,
    "start_time": "2022-08-07T15:43:40.993Z"
   },
   {
    "duration": 4,
    "start_time": "2022-08-07T15:47:14.288Z"
   },
   {
    "duration": 343,
    "start_time": "2022-08-07T15:47:18.313Z"
   },
   {
    "duration": 122,
    "start_time": "2022-08-07T15:48:09.601Z"
   },
   {
    "duration": 1177,
    "start_time": "2022-08-07T15:48:16.088Z"
   },
   {
    "duration": 74,
    "start_time": "2022-08-07T15:48:17.267Z"
   },
   {
    "duration": 5,
    "start_time": "2022-08-07T15:48:17.346Z"
   },
   {
    "duration": 11,
    "start_time": "2022-08-07T15:48:17.352Z"
   },
   {
    "duration": 6,
    "start_time": "2022-08-07T15:48:17.365Z"
   },
   {
    "duration": 9,
    "start_time": "2022-08-07T15:48:17.372Z"
   },
   {
    "duration": 27,
    "start_time": "2022-08-07T15:48:17.382Z"
   },
   {
    "duration": 24,
    "start_time": "2022-08-07T15:48:17.410Z"
   },
   {
    "duration": 12,
    "start_time": "2022-08-07T15:48:17.437Z"
   },
   {
    "duration": 206,
    "start_time": "2022-08-07T15:48:17.450Z"
   },
   {
    "duration": 212,
    "start_time": "2022-08-07T15:48:17.657Z"
   },
   {
    "duration": 5,
    "start_time": "2022-08-07T15:48:17.871Z"
   },
   {
    "duration": 264,
    "start_time": "2022-08-07T15:48:17.877Z"
   },
   {
    "duration": 230,
    "start_time": "2022-08-07T15:48:18.143Z"
   },
   {
    "duration": 52,
    "start_time": "2022-08-07T15:48:18.375Z"
   },
   {
    "duration": 1488,
    "start_time": "2022-08-07T15:48:18.428Z"
   },
   {
    "duration": 11,
    "start_time": "2022-08-07T15:48:19.917Z"
   },
   {
    "duration": 1263,
    "start_time": "2022-08-07T15:48:19.929Z"
   },
   {
    "duration": 1440,
    "start_time": "2022-08-07T15:48:21.194Z"
   },
   {
    "duration": 178,
    "start_time": "2022-08-07T15:48:22.636Z"
   },
   {
    "duration": 553,
    "start_time": "2022-08-07T15:48:22.816Z"
   },
   {
    "duration": 575,
    "start_time": "2022-08-07T15:48:23.371Z"
   },
   {
    "duration": 106,
    "start_time": "2022-08-07T15:48:23.948Z"
   },
   {
    "duration": 0,
    "start_time": "2022-08-07T15:48:24.055Z"
   },
   {
    "duration": 0,
    "start_time": "2022-08-07T15:48:24.057Z"
   },
   {
    "duration": 0,
    "start_time": "2022-08-07T15:48:24.058Z"
   },
   {
    "duration": 3,
    "start_time": "2022-08-07T15:49:43.112Z"
   },
   {
    "duration": 97,
    "start_time": "2022-08-07T15:49:45.447Z"
   },
   {
    "duration": 1486,
    "start_time": "2022-08-07T15:50:56.769Z"
   },
   {
    "duration": 1087,
    "start_time": "2022-08-07T15:51:23.425Z"
   },
   {
    "duration": 74,
    "start_time": "2022-08-07T15:51:24.514Z"
   },
   {
    "duration": 3,
    "start_time": "2022-08-07T15:51:24.590Z"
   },
   {
    "duration": 27,
    "start_time": "2022-08-07T15:51:24.595Z"
   },
   {
    "duration": 20,
    "start_time": "2022-08-07T15:51:24.624Z"
   },
   {
    "duration": 28,
    "start_time": "2022-08-07T15:51:24.645Z"
   },
   {
    "duration": 17,
    "start_time": "2022-08-07T15:51:24.675Z"
   },
   {
    "duration": 39,
    "start_time": "2022-08-07T15:51:24.694Z"
   },
   {
    "duration": 11,
    "start_time": "2022-08-07T15:51:24.735Z"
   },
   {
    "duration": 197,
    "start_time": "2022-08-07T15:51:24.748Z"
   },
   {
    "duration": 214,
    "start_time": "2022-08-07T15:51:24.947Z"
   },
   {
    "duration": 5,
    "start_time": "2022-08-07T15:51:25.162Z"
   },
   {
    "duration": 271,
    "start_time": "2022-08-07T15:51:25.168Z"
   },
   {
    "duration": 271,
    "start_time": "2022-08-07T15:51:25.441Z"
   },
   {
    "duration": 41,
    "start_time": "2022-08-07T15:51:25.714Z"
   },
   {
    "duration": 1593,
    "start_time": "2022-08-07T15:51:25.756Z"
   },
   {
    "duration": 9,
    "start_time": "2022-08-07T15:51:27.351Z"
   },
   {
    "duration": 1297,
    "start_time": "2022-08-07T15:51:27.361Z"
   },
   {
    "duration": 1420,
    "start_time": "2022-08-07T15:51:28.659Z"
   },
   {
    "duration": 179,
    "start_time": "2022-08-07T15:51:30.080Z"
   },
   {
    "duration": 565,
    "start_time": "2022-08-07T15:51:30.260Z"
   },
   {
    "duration": 556,
    "start_time": "2022-08-07T15:51:30.827Z"
   },
   {
    "duration": 23,
    "start_time": "2022-08-07T15:51:31.384Z"
   },
   {
    "duration": 416,
    "start_time": "2022-08-07T15:51:31.409Z"
   },
   {
    "duration": 9,
    "start_time": "2022-08-07T15:51:31.826Z"
   },
   {
    "duration": 35,
    "start_time": "2022-08-07T15:51:31.836Z"
   },
   {
    "duration": 1679,
    "start_time": "2022-08-07T15:52:26.095Z"
   },
   {
    "duration": 1023,
    "start_time": "2022-08-07T15:52:40.757Z"
   },
   {
    "duration": 76,
    "start_time": "2022-08-07T15:52:41.782Z"
   },
   {
    "duration": 3,
    "start_time": "2022-08-07T15:52:41.860Z"
   },
   {
    "duration": 14,
    "start_time": "2022-08-07T15:52:41.865Z"
   },
   {
    "duration": 5,
    "start_time": "2022-08-07T15:52:41.880Z"
   },
   {
    "duration": 21,
    "start_time": "2022-08-07T15:52:41.887Z"
   },
   {
    "duration": 5,
    "start_time": "2022-08-07T15:52:41.909Z"
   },
   {
    "duration": 22,
    "start_time": "2022-08-07T15:52:41.915Z"
   },
   {
    "duration": 12,
    "start_time": "2022-08-07T15:52:41.939Z"
   },
   {
    "duration": 211,
    "start_time": "2022-08-07T15:52:41.954Z"
   },
   {
    "duration": 201,
    "start_time": "2022-08-07T15:52:42.167Z"
   },
   {
    "duration": 4,
    "start_time": "2022-08-07T15:52:42.370Z"
   },
   {
    "duration": 255,
    "start_time": "2022-08-07T15:52:42.376Z"
   },
   {
    "duration": 233,
    "start_time": "2022-08-07T15:52:42.632Z"
   },
   {
    "duration": 55,
    "start_time": "2022-08-07T15:52:42.866Z"
   },
   {
    "duration": 1454,
    "start_time": "2022-08-07T15:52:42.922Z"
   },
   {
    "duration": 11,
    "start_time": "2022-08-07T15:52:44.378Z"
   },
   {
    "duration": 1285,
    "start_time": "2022-08-07T15:52:44.390Z"
   },
   {
    "duration": 1456,
    "start_time": "2022-08-07T15:52:45.676Z"
   },
   {
    "duration": 174,
    "start_time": "2022-08-07T15:52:47.133Z"
   },
   {
    "duration": 554,
    "start_time": "2022-08-07T15:52:47.309Z"
   },
   {
    "duration": 561,
    "start_time": "2022-08-07T15:52:47.864Z"
   },
   {
    "duration": 1655,
    "start_time": "2022-08-07T15:52:48.427Z"
   },
   {
    "duration": 0,
    "start_time": "2022-08-07T15:52:50.085Z"
   },
   {
    "duration": 1,
    "start_time": "2022-08-07T15:52:50.086Z"
   },
   {
    "duration": 0,
    "start_time": "2022-08-07T15:52:50.088Z"
   },
   {
    "duration": 16,
    "start_time": "2022-08-07T15:53:17.247Z"
   },
   {
    "duration": 4,
    "start_time": "2022-08-07T15:53:27.031Z"
   },
   {
    "duration": 411,
    "start_time": "2022-08-07T15:53:29.418Z"
   },
   {
    "duration": 1028,
    "start_time": "2022-08-07T16:37:28.752Z"
   },
   {
    "duration": 75,
    "start_time": "2022-08-07T16:37:29.782Z"
   },
   {
    "duration": 5,
    "start_time": "2022-08-07T16:37:29.862Z"
   },
   {
    "duration": 10,
    "start_time": "2022-08-07T16:37:29.868Z"
   },
   {
    "duration": 6,
    "start_time": "2022-08-07T16:37:29.879Z"
   },
   {
    "duration": 25,
    "start_time": "2022-08-07T16:37:29.887Z"
   },
   {
    "duration": 6,
    "start_time": "2022-08-07T16:37:29.913Z"
   },
   {
    "duration": 20,
    "start_time": "2022-08-07T16:37:29.921Z"
   },
   {
    "duration": 11,
    "start_time": "2022-08-07T16:37:29.944Z"
   },
   {
    "duration": 211,
    "start_time": "2022-08-07T16:37:29.956Z"
   },
   {
    "duration": 206,
    "start_time": "2022-08-07T16:37:30.169Z"
   },
   {
    "duration": 4,
    "start_time": "2022-08-07T16:37:30.376Z"
   },
   {
    "duration": 246,
    "start_time": "2022-08-07T16:37:30.381Z"
   },
   {
    "duration": 226,
    "start_time": "2022-08-07T16:37:30.628Z"
   },
   {
    "duration": 52,
    "start_time": "2022-08-07T16:37:30.855Z"
   },
   {
    "duration": 1522,
    "start_time": "2022-08-07T16:37:30.908Z"
   },
   {
    "duration": 11,
    "start_time": "2022-08-07T16:37:32.432Z"
   },
   {
    "duration": 1244,
    "start_time": "2022-08-07T16:37:32.444Z"
   },
   {
    "duration": 1422,
    "start_time": "2022-08-07T16:37:33.690Z"
   },
   {
    "duration": 170,
    "start_time": "2022-08-07T16:37:35.114Z"
   },
   {
    "duration": 547,
    "start_time": "2022-08-07T16:37:35.286Z"
   },
   {
    "duration": 572,
    "start_time": "2022-08-07T16:37:35.835Z"
   },
   {
    "duration": 4,
    "start_time": "2022-08-07T16:37:36.409Z"
   },
   {
    "duration": 432,
    "start_time": "2022-08-07T16:37:36.414Z"
   },
   {
    "duration": 9,
    "start_time": "2022-08-07T16:37:36.847Z"
   },
   {
    "duration": 14,
    "start_time": "2022-08-07T16:37:36.857Z"
   },
   {
    "duration": 8,
    "start_time": "2022-08-07T16:39:06.344Z"
   },
   {
    "duration": 1398,
    "start_time": "2022-08-08T07:49:32.695Z"
   },
   {
    "duration": 201,
    "start_time": "2022-08-08T07:49:34.095Z"
   },
   {
    "duration": 5,
    "start_time": "2022-08-08T07:49:34.298Z"
   },
   {
    "duration": 22,
    "start_time": "2022-08-08T07:49:34.305Z"
   },
   {
    "duration": 8,
    "start_time": "2022-08-08T07:49:34.329Z"
   },
   {
    "duration": 16,
    "start_time": "2022-08-08T07:49:34.339Z"
   },
   {
    "duration": 7,
    "start_time": "2022-08-08T07:49:34.369Z"
   },
   {
    "duration": 33,
    "start_time": "2022-08-08T07:49:34.378Z"
   },
   {
    "duration": 18,
    "start_time": "2022-08-08T07:49:34.413Z"
   },
   {
    "duration": 253,
    "start_time": "2022-08-08T07:49:34.435Z"
   },
   {
    "duration": 237,
    "start_time": "2022-08-08T07:49:34.690Z"
   },
   {
    "duration": 5,
    "start_time": "2022-08-08T07:49:34.929Z"
   },
   {
    "duration": 304,
    "start_time": "2022-08-08T07:49:34.936Z"
   },
   {
    "duration": 274,
    "start_time": "2022-08-08T07:49:35.242Z"
   },
   {
    "duration": 62,
    "start_time": "2022-08-08T07:49:35.518Z"
   },
   {
    "duration": 344,
    "start_time": "2022-08-08T07:49:35.582Z"
   },
   {
    "duration": 1891,
    "start_time": "2022-08-08T07:49:35.928Z"
   },
   {
    "duration": 13,
    "start_time": "2022-08-08T07:49:37.821Z"
   },
   {
    "duration": 2542,
    "start_time": "2022-08-08T07:49:37.836Z"
   },
   {
    "duration": 1708,
    "start_time": "2022-08-08T07:49:40.380Z"
   },
   {
    "duration": 214,
    "start_time": "2022-08-08T07:49:42.090Z"
   },
   {
    "duration": 649,
    "start_time": "2022-08-08T07:49:42.306Z"
   },
   {
    "duration": 686,
    "start_time": "2022-08-08T07:49:42.957Z"
   },
   {
    "duration": 4,
    "start_time": "2022-08-08T07:49:43.645Z"
   },
   {
    "duration": 594,
    "start_time": "2022-08-08T07:49:43.651Z"
   },
   {
    "duration": 9,
    "start_time": "2022-08-08T07:49:44.247Z"
   },
   {
    "duration": 19,
    "start_time": "2022-08-08T07:49:44.257Z"
   }
  ],
  "kernelspec": {
   "display_name": "Python 3 (ipykernel)",
   "language": "python",
   "name": "python3"
  },
  "language_info": {
   "codemirror_mode": {
    "name": "ipython",
    "version": 3
   },
   "file_extension": ".py",
   "mimetype": "text/x-python",
   "name": "python",
   "nbconvert_exporter": "python",
   "pygments_lexer": "ipython3",
   "version": "3.9.6"
  },
  "toc": {
   "base_numbering": 1,
   "nav_menu": {},
   "number_sections": true,
   "sideBar": true,
   "skip_h1_title": true,
   "title_cell": "Table of Contents",
   "title_sidebar": "Contents",
   "toc_cell": false,
   "toc_position": {},
   "toc_section_display": true,
   "toc_window_display": true
  }
 },
 "nbformat": 4,
 "nbformat_minor": 4
}
