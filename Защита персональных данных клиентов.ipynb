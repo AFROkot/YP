{
 "cells": [
  {
   "cell_type": "markdown",
   "metadata": {
    "toc": true
   },
   "source": [
    "<h1>Содержание<span class=\"tocSkip\"></span></h1>\n",
    "<div class=\"toc\"><ul class=\"toc-item\"><li><span><a href=\"#Загрузка-данных\" data-toc-modified-id=\"Загрузка-данных-1\"><span class=\"toc-item-num\">1&nbsp;&nbsp;</span>Загрузка данных</a></span></li><li><span><a href=\"#Умножение-матриц\" data-toc-modified-id=\"Умножение-матриц-2\"><span class=\"toc-item-num\">2&nbsp;&nbsp;</span>Умножение матриц</a></span></li><li><span><a href=\"#Алгоритм-преобразования\" data-toc-modified-id=\"Алгоритм-преобразования-3\"><span class=\"toc-item-num\">3&nbsp;&nbsp;</span>Алгоритм преобразования</a></span></li><li><span><a href=\"#Проверка-алгоритма\" data-toc-modified-id=\"Проверка-алгоритма-4\"><span class=\"toc-item-num\">4&nbsp;&nbsp;</span>Проверка алгоритма</a></span></li><li><span><a href=\"#Чек-лист-проверки\" data-toc-modified-id=\"Чек-лист-проверки-5\"><span class=\"toc-item-num\">5&nbsp;&nbsp;</span>Чек-лист проверки</a></span></li></ul></div>"
   ]
  },
  {
   "cell_type": "markdown",
   "metadata": {},
   "source": [
    "# Защита персональных данных клиентов"
   ]
  },
  {
   "cell_type": "markdown",
   "metadata": {},
   "source": [
    "Вам нужно защитить данные клиентов страховой компании «Хоть потоп». Разработайте такой метод преобразования данных, чтобы по ним было сложно восстановить персональную информацию. Обоснуйте корректность его работы.\n",
    "\n",
    "Нужно защитить данные, чтобы при преобразовании качество моделей машинного обучения не ухудшилось. Подбирать наилучшую модель не требуется."
   ]
  },
  {
   "cell_type": "markdown",
   "metadata": {},
   "source": [
    "## Загрузка данных"
   ]
  },
  {
   "cell_type": "code",
   "execution_count": 1,
   "metadata": {},
   "outputs": [],
   "source": [
    "import pandas as pd\n",
    "import numpy as np\n",
    "from sklearn.linear_model import LinearRegression\n",
    "from sklearn.metrics import r2_score"
   ]
  },
  {
   "cell_type": "code",
   "execution_count": 2,
   "metadata": {},
   "outputs": [
    {
     "data": {
      "text/html": [
       "<div>\n",
       "<style scoped>\n",
       "    .dataframe tbody tr th:only-of-type {\n",
       "        vertical-align: middle;\n",
       "    }\n",
       "\n",
       "    .dataframe tbody tr th {\n",
       "        vertical-align: top;\n",
       "    }\n",
       "\n",
       "    .dataframe thead th {\n",
       "        text-align: right;\n",
       "    }\n",
       "</style>\n",
       "<table border=\"1\" class=\"dataframe\">\n",
       "  <thead>\n",
       "    <tr style=\"text-align: right;\">\n",
       "      <th></th>\n",
       "      <th>Пол</th>\n",
       "      <th>Возраст</th>\n",
       "      <th>Зарплата</th>\n",
       "      <th>Члены семьи</th>\n",
       "      <th>Страховые выплаты</th>\n",
       "    </tr>\n",
       "  </thead>\n",
       "  <tbody>\n",
       "    <tr>\n",
       "      <th>0</th>\n",
       "      <td>1</td>\n",
       "      <td>41.0</td>\n",
       "      <td>49600.0</td>\n",
       "      <td>1</td>\n",
       "      <td>0</td>\n",
       "    </tr>\n",
       "    <tr>\n",
       "      <th>1</th>\n",
       "      <td>0</td>\n",
       "      <td>46.0</td>\n",
       "      <td>38000.0</td>\n",
       "      <td>1</td>\n",
       "      <td>1</td>\n",
       "    </tr>\n",
       "    <tr>\n",
       "      <th>2</th>\n",
       "      <td>0</td>\n",
       "      <td>29.0</td>\n",
       "      <td>21000.0</td>\n",
       "      <td>0</td>\n",
       "      <td>0</td>\n",
       "    </tr>\n",
       "    <tr>\n",
       "      <th>3</th>\n",
       "      <td>0</td>\n",
       "      <td>21.0</td>\n",
       "      <td>41700.0</td>\n",
       "      <td>2</td>\n",
       "      <td>0</td>\n",
       "    </tr>\n",
       "    <tr>\n",
       "      <th>4</th>\n",
       "      <td>1</td>\n",
       "      <td>28.0</td>\n",
       "      <td>26100.0</td>\n",
       "      <td>0</td>\n",
       "      <td>0</td>\n",
       "    </tr>\n",
       "  </tbody>\n",
       "</table>\n",
       "</div>"
      ],
      "text/plain": [
       "   Пол  Возраст  Зарплата  Члены семьи  Страховые выплаты\n",
       "0    1     41.0   49600.0            1                  0\n",
       "1    0     46.0   38000.0            1                  1\n",
       "2    0     29.0   21000.0            0                  0\n",
       "3    0     21.0   41700.0            2                  0\n",
       "4    1     28.0   26100.0            0                  0"
      ]
     },
     "execution_count": 2,
     "metadata": {},
     "output_type": "execute_result"
    }
   ],
   "source": [
    "df = pd.read_csv('/datasets/insurance.csv')\n",
    "df.head(5)"
   ]
  },
  {
   "cell_type": "code",
   "execution_count": 3,
   "metadata": {},
   "outputs": [
    {
     "name": "stdout",
     "output_type": "stream",
     "text": [
      "<class 'pandas.core.frame.DataFrame'>\n",
      "RangeIndex: 5000 entries, 0 to 4999\n",
      "Data columns (total 5 columns):\n",
      " #   Column             Non-Null Count  Dtype  \n",
      "---  ------             --------------  -----  \n",
      " 0   Пол                5000 non-null   int64  \n",
      " 1   Возраст            5000 non-null   float64\n",
      " 2   Зарплата           5000 non-null   float64\n",
      " 3   Члены семьи        5000 non-null   int64  \n",
      " 4   Страховые выплаты  5000 non-null   int64  \n",
      "dtypes: float64(2), int64(3)\n",
      "memory usage: 195.4 KB\n"
     ]
    }
   ],
   "source": [
    "df.info()"
   ]
  },
  {
   "cell_type": "markdown",
   "metadata": {},
   "source": [
    "## Умножение матриц"
   ]
  },
  {
   "cell_type": "markdown",
   "metadata": {},
   "source": [
    "В этом задании вы можете записывать формулы в *Jupyter Notebook.*\n",
    "\n",
    "Чтобы записать формулу внутри текста, окружите её символами доллара \\\\$; если снаружи —  двойными символами \\\\$\\\\$. Эти формулы записываются на языке вёрстки *LaTeX.* \n",
    "\n",
    "Для примера мы записали формулы линейной регрессии. Можете их скопировать и отредактировать, чтобы решить задачу.\n",
    "\n",
    "Работать в *LaTeX* необязательно."
   ]
  },
  {
   "cell_type": "markdown",
   "metadata": {},
   "source": [
    "Обозначения:\n",
    "\n",
    "- $X$ — матрица признаков (нулевой столбец состоит из единиц)\n",
    "\n",
    "- $y$ — вектор целевого признака\n",
    "\n",
    "- $P$ — матрица, на которую умножаются признаки\n",
    "\n",
    "- $w$ — вектор весов линейной регрессии (нулевой элемент равен сдвигу)"
   ]
  },
  {
   "cell_type": "markdown",
   "metadata": {},
   "source": [
    "Предсказания:\n",
    "\n",
    "$$\n",
    "a = Xw\n",
    "$$\n",
    "\n",
    "Задача обучения:\n",
    "\n",
    "$$\n",
    "w = \\arg\\min_w MSE(Xw, y)\n",
    "$$\n",
    "\n",
    "Формула обучения:\n",
    "\n",
    "$$\n",
    "w = (X^T X)^{-1} X^T y\n",
    "$$"
   ]
  },
  {
   "cell_type": "markdown",
   "metadata": {},
   "source": [
    "$$\n",
    "XPw = XP((XP)^T XP)^{-1} (XP)^T y = XP(P^T X^T XP)^{-1} P^T X^T y= XP P^{-1}((P^T X^T) X)^{-1} P^T X^Ty = X (X^T X)^{-1}(P^T)^{-1} P^T X^T y\n",
    "$$\n",
    "$$\n",
    "= X (X^T X)^{-1} X^T y = Xw\n",
    "$$"
   ]
  },
  {
   "cell_type": "code",
   "execution_count": 4,
   "metadata": {},
   "outputs": [],
   "source": [
    "X = df.drop(['Страховые выплаты'], axis=1)\n",
    "y = df['Страховые выплаты']\n",
    "P = np.random.sample((4, 4))"
   ]
  },
  {
   "cell_type": "code",
   "execution_count": 5,
   "metadata": {},
   "outputs": [
    {
     "name": "stdout",
     "output_type": "stream",
     "text": [
      "[[-0.56564806 -0.72187962  1.49399775  0.94104156]\n",
      " [ 1.91398486 -3.39785709 -2.27303803  1.53497314]\n",
      " [-0.81521238  2.42071691  0.46238003 -0.41601958]\n",
      " [ 0.51703289  1.02855141  0.92429865 -1.58903139]]\n"
     ]
    }
   ],
   "source": [
    "print(np.linalg.inv(P))"
   ]
  },
  {
   "cell_type": "code",
   "execution_count": 6,
   "metadata": {},
   "outputs": [
    {
     "data": {
      "text/plain": [
       "0.4249455028666801"
      ]
     },
     "execution_count": 6,
     "metadata": {},
     "output_type": "execute_result"
    }
   ],
   "source": [
    "model = LinearRegression()\n",
    "model.fit(X,y)\n",
    "predictions = model.predict(X)\n",
    "r2_score(y,predictions)"
   ]
  },
  {
   "cell_type": "code",
   "execution_count": 7,
   "metadata": {},
   "outputs": [],
   "source": [
    "X_P = X @ P"
   ]
  },
  {
   "cell_type": "code",
   "execution_count": 8,
   "metadata": {},
   "outputs": [
    {
     "data": {
      "text/plain": [
       "0.4249455028666931"
      ]
     },
     "execution_count": 8,
     "metadata": {},
     "output_type": "execute_result"
    }
   ],
   "source": [
    "model.fit(X_P,y)\n",
    "predictions = model.predict(X_P)\n",
    "r2_score(y,predictions)"
   ]
  },
  {
   "cell_type": "markdown",
   "metadata": {},
   "source": [
    "**Ответ:** Качество линейной регрессии не изменится \n",
    "\n",
    "**Обоснование:** Так и не понял как обосновать О_о"
   ]
  },
  {
   "cell_type": "markdown",
   "metadata": {},
   "source": [
    "## Алгоритм преобразования"
   ]
  },
  {
   "cell_type": "markdown",
   "metadata": {},
   "source": [
    "**Алгоритм**\n",
    "- 1  Отделим целевые признаки от набора данных \n",
    "- 2  Создадим обратимую матрицу, проверим и сохраним её как ключ шифрования \n",
    "- 3  Умножим данные на ключ шифрования\n",
    "- 4  Проверим качетво линейной регрессии "
   ]
  },
  {
   "cell_type": "markdown",
   "metadata": {},
   "source": [
    "**Обоснование**\n",
    "\n",
    "..."
   ]
  },
  {
   "cell_type": "markdown",
   "metadata": {},
   "source": [
    "## Проверка алгоритма"
   ]
  },
  {
   "cell_type": "code",
   "execution_count": 9,
   "metadata": {},
   "outputs": [],
   "source": [
    "feature = df.drop(['Страховые выплаты'], axis=1)\n",
    "target = df['Страховые выплаты']"
   ]
  },
  {
   "cell_type": "code",
   "execution_count": 10,
   "metadata": {},
   "outputs": [
    {
     "name": "stdout",
     "output_type": "stream",
     "text": [
      "[[ 2.35844398 -0.90387989 -0.1768962  -0.80792501]\n",
      " [-0.75677453 -1.04203904  2.19714371  0.63104235]\n",
      " [-0.14363799  1.6234128  -0.81326382 -1.04873237]\n",
      " [ 0.34866772  0.78402867 -1.55894071  0.86695363]]\n"
     ]
    }
   ],
   "source": [
    "key = np.random.sample((feature.shape[1], feature.shape[1]))\n",
    "print(np.linalg.inv(key))"
   ]
  },
  {
   "cell_type": "code",
   "execution_count": 13,
   "metadata": {},
   "outputs": [
    {
     "data": {
      "text/plain": [
       "(5000, 4)"
      ]
     },
     "execution_count": 13,
     "metadata": {},
     "output_type": "execute_result"
    }
   ],
   "source": [
    "feature.shape"
   ]
  },
  {
   "cell_type": "code",
   "execution_count": 11,
   "metadata": {},
   "outputs": [],
   "source": [
    "feature_crypted = feature @ key"
   ]
  },
  {
   "cell_type": "code",
   "execution_count": 12,
   "metadata": {},
   "outputs": [
    {
     "name": "stdout",
     "output_type": "stream",
     "text": [
      "0.4249455028666801\n",
      "0.4249455028666692\n"
     ]
    }
   ],
   "source": [
    "model = LinearRegression()\n",
    "model.fit(feature,target)\n",
    "predictions = model.predict(feature)\n",
    "print(r2_score(target,predictions))\n",
    "model.fit(feature_crypted,target)\n",
    "predictions = model.predict(feature_crypted)\n",
    "print(r2_score(target,predictions))"
   ]
  }
 ],
 "metadata": {
  "ExecuteTimeLog": [
   {
    "duration": 77,
    "start_time": "2022-10-18T09:27:33.055Z"
   },
   {
    "duration": 410,
    "start_time": "2022-10-18T09:27:37.758Z"
   },
   {
    "duration": 99,
    "start_time": "2022-10-18T09:27:57.290Z"
   },
   {
    "duration": 42,
    "start_time": "2022-10-18T09:28:06.659Z"
   },
   {
    "duration": 12,
    "start_time": "2022-10-18T09:28:16.810Z"
   },
   {
    "duration": 798,
    "start_time": "2022-10-18T09:34:52.864Z"
   },
   {
    "duration": 65,
    "start_time": "2022-10-18T09:36:05.907Z"
   },
   {
    "duration": 4,
    "start_time": "2022-10-18T09:36:23.359Z"
   },
   {
    "duration": 4,
    "start_time": "2022-10-18T09:36:32.557Z"
   },
   {
    "duration": 1104,
    "start_time": "2022-10-20T12:40:09.868Z"
   },
   {
    "duration": 62,
    "start_time": "2022-10-20T12:40:10.974Z"
   },
   {
    "duration": 12,
    "start_time": "2022-10-20T12:40:11.038Z"
   },
   {
    "duration": 48,
    "start_time": "2022-10-20T12:40:11.052Z"
   },
   {
    "duration": 603,
    "start_time": "2022-10-20T12:42:41.260Z"
   },
   {
    "duration": 6,
    "start_time": "2022-10-20T12:43:32.326Z"
   },
   {
    "duration": 5,
    "start_time": "2022-10-20T13:00:35.097Z"
   },
   {
    "duration": 17,
    "start_time": "2022-10-20T13:03:42.497Z"
   },
   {
    "duration": 3,
    "start_time": "2022-10-20T13:04:48.403Z"
   },
   {
    "duration": 6,
    "start_time": "2022-10-20T13:04:51.546Z"
   },
   {
    "duration": 4,
    "start_time": "2022-10-20T13:04:53.056Z"
   },
   {
    "duration": 19,
    "start_time": "2022-10-20T13:04:54.802Z"
   },
   {
    "duration": 17,
    "start_time": "2022-10-20T13:05:05.410Z"
   },
   {
    "duration": 4,
    "start_time": "2022-10-20T13:06:20.067Z"
   },
   {
    "duration": 21,
    "start_time": "2022-10-20T13:06:51.670Z"
   },
   {
    "duration": 12,
    "start_time": "2022-10-20T13:07:27.001Z"
   },
   {
    "duration": 4,
    "start_time": "2022-10-20T13:40:34.107Z"
   },
   {
    "duration": 5,
    "start_time": "2022-10-20T13:40:53.701Z"
   },
   {
    "duration": 9,
    "start_time": "2022-10-20T13:41:48.463Z"
   },
   {
    "duration": 4,
    "start_time": "2022-10-20T13:41:55.582Z"
   },
   {
    "duration": 4,
    "start_time": "2022-10-20T13:41:59.788Z"
   },
   {
    "duration": 5,
    "start_time": "2022-10-20T13:43:58.883Z"
   },
   {
    "duration": 5,
    "start_time": "2022-10-20T13:49:12.114Z"
   },
   {
    "duration": 17,
    "start_time": "2022-10-20T13:52:05.100Z"
   },
   {
    "duration": 4,
    "start_time": "2022-10-20T13:54:37.617Z"
   },
   {
    "duration": 10,
    "start_time": "2022-10-20T13:55:36.027Z"
   },
   {
    "duration": 5,
    "start_time": "2022-10-20T13:55:41.277Z"
   },
   {
    "duration": 24,
    "start_time": "2022-10-20T13:56:06.384Z"
   },
   {
    "duration": 5,
    "start_time": "2022-10-20T14:01:27.037Z"
   },
   {
    "duration": 17,
    "start_time": "2022-10-20T14:01:28.611Z"
   },
   {
    "duration": 4,
    "start_time": "2022-10-20T14:01:41.240Z"
   },
   {
    "duration": 21,
    "start_time": "2022-10-20T14:01:44.268Z"
   },
   {
    "duration": 11,
    "start_time": "2022-10-20T14:02:25.468Z"
   },
   {
    "duration": 13,
    "start_time": "2022-10-20T14:02:33.314Z"
   },
   {
    "duration": 15,
    "start_time": "2022-10-20T14:02:40.573Z"
   },
   {
    "duration": 14,
    "start_time": "2022-10-20T14:03:07.359Z"
   },
   {
    "duration": 14,
    "start_time": "2022-10-20T14:03:12.202Z"
   },
   {
    "duration": 15,
    "start_time": "2022-10-20T14:03:32.022Z"
   },
   {
    "duration": 13,
    "start_time": "2022-10-20T14:03:38.919Z"
   },
   {
    "duration": 67,
    "start_time": "2022-10-20T14:03:46.439Z"
   },
   {
    "duration": 10,
    "start_time": "2022-10-20T14:03:58.792Z"
   },
   {
    "duration": 4,
    "start_time": "2022-10-20T14:04:04.199Z"
   },
   {
    "duration": 17,
    "start_time": "2022-10-20T14:04:08.198Z"
   },
   {
    "duration": 11,
    "start_time": "2022-10-20T14:05:39.258Z"
   },
   {
    "duration": 11,
    "start_time": "2022-10-20T14:05:53.326Z"
   },
   {
    "duration": 12,
    "start_time": "2022-10-20T14:06:05.714Z"
   },
   {
    "duration": 12,
    "start_time": "2022-10-20T14:06:10.217Z"
   },
   {
    "duration": 11,
    "start_time": "2022-10-20T14:06:38.901Z"
   },
   {
    "duration": 12,
    "start_time": "2022-10-20T14:09:33.395Z"
   },
   {
    "duration": 12,
    "start_time": "2022-10-20T14:09:43.677Z"
   },
   {
    "duration": 12,
    "start_time": "2022-10-20T14:11:30.266Z"
   },
   {
    "duration": 11,
    "start_time": "2022-10-20T14:11:50.741Z"
   },
   {
    "duration": 11,
    "start_time": "2022-10-20T14:12:40.130Z"
   },
   {
    "duration": 11,
    "start_time": "2022-10-20T14:13:00.622Z"
   },
   {
    "duration": 4,
    "start_time": "2022-10-20T14:13:07.134Z"
   },
   {
    "duration": 19,
    "start_time": "2022-10-20T14:13:19.322Z"
   },
   {
    "duration": 13,
    "start_time": "2022-10-20T14:15:59.718Z"
   },
   {
    "duration": 4,
    "start_time": "2022-10-20T14:22:21.998Z"
   },
   {
    "duration": 4,
    "start_time": "2022-10-20T14:22:30.605Z"
   },
   {
    "duration": 23,
    "start_time": "2022-10-20T14:22:32.673Z"
   },
   {
    "duration": 1166,
    "start_time": "2022-10-20T14:24:47.204Z"
   },
   {
    "duration": 30,
    "start_time": "2022-10-20T14:24:48.372Z"
   },
   {
    "duration": 12,
    "start_time": "2022-10-20T14:24:48.404Z"
   },
   {
    "duration": 19,
    "start_time": "2022-10-20T14:24:48.418Z"
   },
   {
    "duration": 16,
    "start_time": "2022-10-20T14:24:48.439Z"
   },
   {
    "duration": 97,
    "start_time": "2022-10-20T14:24:48.457Z"
   },
   {
    "duration": 4,
    "start_time": "2022-10-20T14:24:48.557Z"
   },
   {
    "duration": 118,
    "start_time": "2022-10-20T14:24:48.563Z"
   },
   {
    "duration": 74,
    "start_time": "2022-10-20T14:24:48.683Z"
   },
   {
    "duration": 97,
    "start_time": "2022-10-20T14:24:48.759Z"
   },
   {
    "duration": 9,
    "start_time": "2022-10-20T14:24:48.858Z"
   },
   {
    "duration": 188,
    "start_time": "2022-10-20T14:24:48.869Z"
   },
   {
    "duration": 70,
    "start_time": "2022-10-24T13:03:51.255Z"
   },
   {
    "duration": 1027,
    "start_time": "2022-10-25T17:42:47.207Z"
   },
   {
    "duration": 83,
    "start_time": "2022-10-25T17:42:48.236Z"
   },
   {
    "duration": 9,
    "start_time": "2022-10-25T17:42:48.321Z"
   },
   {
    "duration": 6,
    "start_time": "2022-10-25T17:42:48.332Z"
   },
   {
    "duration": 5,
    "start_time": "2022-10-25T17:42:48.339Z"
   },
   {
    "duration": 61,
    "start_time": "2022-10-25T17:42:48.346Z"
   },
   {
    "duration": 91,
    "start_time": "2022-10-25T17:42:48.410Z"
   },
   {
    "duration": 106,
    "start_time": "2022-10-25T17:42:48.504Z"
   },
   {
    "duration": 91,
    "start_time": "2022-10-25T17:42:48.612Z"
   },
   {
    "duration": 97,
    "start_time": "2022-10-25T17:42:48.705Z"
   },
   {
    "duration": 14,
    "start_time": "2022-10-25T17:42:48.804Z"
   },
   {
    "duration": 182,
    "start_time": "2022-10-25T17:42:48.820Z"
   },
   {
    "duration": 3,
    "start_time": "2022-10-25T17:43:25.264Z"
   }
  ],
  "kernelspec": {
   "display_name": "Python 3 (ipykernel)",
   "language": "python",
   "name": "python3"
  },
  "language_info": {
   "codemirror_mode": {
    "name": "ipython",
    "version": 3
   },
   "file_extension": ".py",
   "mimetype": "text/x-python",
   "name": "python",
   "nbconvert_exporter": "python",
   "pygments_lexer": "ipython3",
   "version": "3.9.6"
  },
  "toc": {
   "base_numbering": 1,
   "nav_menu": {},
   "number_sections": true,
   "sideBar": true,
   "skip_h1_title": true,
   "title_cell": "Содержание",
   "title_sidebar": "Contents",
   "toc_cell": true,
   "toc_position": {},
   "toc_section_display": true,
   "toc_window_display": true
  }
 },
 "nbformat": 4,
 "nbformat_minor": 4
}
