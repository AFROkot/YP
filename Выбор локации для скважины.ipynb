{
 "cells": [
  {
   "cell_type": "markdown",
   "metadata": {},
   "source": [
    "# Выбор локации для скважины"
   ]
  },
  {
   "cell_type": "markdown",
   "metadata": {},
   "source": [
    "Допустим, вы работаете в добывающей компании «ГлавРосГосНефть». Нужно решить, где бурить новую скважину.\n",
    "\n",
    "Вам предоставлены пробы нефти в трёх регионах: в каждом 10 000 месторождений, где измерили качество нефти и объём её запасов. Постройте модель машинного обучения, которая поможет определить регион, где добыча принесёт наибольшую прибыль. Проанализируйте возможную прибыль и риски техникой *Bootstrap.*\n",
    "\n",
    "Шаги для выбора локации:\n",
    "\n",
    "- В избранном регионе ищут месторождения, для каждого определяют значения признаков;\n",
    "- Строят модель и оценивают объём запасов;\n",
    "- Выбирают месторождения с самым высокими оценками значений. Количество месторождений зависит от бюджета компании и стоимости разработки одной скважины;\n",
    "- Прибыль равна суммарной прибыли отобранных месторождений."
   ]
  },
  {
   "cell_type": "markdown",
   "metadata": {},
   "source": [
    "## Загрузка и подготовка данных"
   ]
  },
  {
   "cell_type": "code",
   "execution_count": 1,
   "metadata": {},
   "outputs": [],
   "source": [
    "import pandas as pd\n",
    "from sklearn.model_selection import train_test_split\n",
    "from sklearn.linear_model import LinearRegression\n",
    "from sklearn.metrics import mean_squared_error\n",
    "import numpy as np"
   ]
  },
  {
   "cell_type": "code",
   "execution_count": 2,
   "metadata": {},
   "outputs": [],
   "source": [
    "geo_1 = pd.read_csv('/datasets/geo_data_0.csv')\n",
    "geo_2 = pd.read_csv('/datasets/geo_data_1.csv')\n",
    "geo_3 = pd.read_csv('/datasets/geo_data_2.csv')"
   ]
  },
  {
   "cell_type": "code",
   "execution_count": 3,
   "metadata": {},
   "outputs": [
    {
     "name": "stdout",
     "output_type": "stream",
     "text": [
      "<class 'pandas.core.frame.DataFrame'>\n",
      "RangeIndex: 100000 entries, 0 to 99999\n",
      "Data columns (total 5 columns):\n",
      " #   Column   Non-Null Count   Dtype  \n",
      "---  ------   --------------   -----  \n",
      " 0   id       100000 non-null  object \n",
      " 1   f0       100000 non-null  float64\n",
      " 2   f1       100000 non-null  float64\n",
      " 3   f2       100000 non-null  float64\n",
      " 4   product  100000 non-null  float64\n",
      "dtypes: float64(4), object(1)\n",
      "memory usage: 3.8+ MB\n"
     ]
    },
    {
     "data": {
      "text/plain": [
       "None"
      ]
     },
     "metadata": {},
     "output_type": "display_data"
    },
    {
     "data": {
      "text/html": [
       "<div>\n",
       "<style scoped>\n",
       "    .dataframe tbody tr th:only-of-type {\n",
       "        vertical-align: middle;\n",
       "    }\n",
       "\n",
       "    .dataframe tbody tr th {\n",
       "        vertical-align: top;\n",
       "    }\n",
       "\n",
       "    .dataframe thead th {\n",
       "        text-align: right;\n",
       "    }\n",
       "</style>\n",
       "<table border=\"1\" class=\"dataframe\">\n",
       "  <thead>\n",
       "    <tr style=\"text-align: right;\">\n",
       "      <th></th>\n",
       "      <th>id</th>\n",
       "      <th>f0</th>\n",
       "      <th>f1</th>\n",
       "      <th>f2</th>\n",
       "      <th>product</th>\n",
       "    </tr>\n",
       "  </thead>\n",
       "  <tbody>\n",
       "    <tr>\n",
       "      <th>0</th>\n",
       "      <td>txEyH</td>\n",
       "      <td>0.705745</td>\n",
       "      <td>-0.497823</td>\n",
       "      <td>1.221170</td>\n",
       "      <td>105.280062</td>\n",
       "    </tr>\n",
       "    <tr>\n",
       "      <th>1</th>\n",
       "      <td>2acmU</td>\n",
       "      <td>1.334711</td>\n",
       "      <td>-0.340164</td>\n",
       "      <td>4.365080</td>\n",
       "      <td>73.037750</td>\n",
       "    </tr>\n",
       "    <tr>\n",
       "      <th>2</th>\n",
       "      <td>409Wp</td>\n",
       "      <td>1.022732</td>\n",
       "      <td>0.151990</td>\n",
       "      <td>1.419926</td>\n",
       "      <td>85.265647</td>\n",
       "    </tr>\n",
       "    <tr>\n",
       "      <th>3</th>\n",
       "      <td>iJLyR</td>\n",
       "      <td>-0.032172</td>\n",
       "      <td>0.139033</td>\n",
       "      <td>2.978566</td>\n",
       "      <td>168.620776</td>\n",
       "    </tr>\n",
       "    <tr>\n",
       "      <th>4</th>\n",
       "      <td>Xdl7t</td>\n",
       "      <td>1.988431</td>\n",
       "      <td>0.155413</td>\n",
       "      <td>4.751769</td>\n",
       "      <td>154.036647</td>\n",
       "    </tr>\n",
       "  </tbody>\n",
       "</table>\n",
       "</div>"
      ],
      "text/plain": [
       "      id        f0        f1        f2     product\n",
       "0  txEyH  0.705745 -0.497823  1.221170  105.280062\n",
       "1  2acmU  1.334711 -0.340164  4.365080   73.037750\n",
       "2  409Wp  1.022732  0.151990  1.419926   85.265647\n",
       "3  iJLyR -0.032172  0.139033  2.978566  168.620776\n",
       "4  Xdl7t  1.988431  0.155413  4.751769  154.036647"
      ]
     },
     "execution_count": 3,
     "metadata": {},
     "output_type": "execute_result"
    }
   ],
   "source": [
    "display(geo_1.info())\n",
    "geo_1.head(5)"
   ]
  },
  {
   "cell_type": "code",
   "execution_count": 4,
   "metadata": {},
   "outputs": [
    {
     "name": "stdout",
     "output_type": "stream",
     "text": [
      "<class 'pandas.core.frame.DataFrame'>\n",
      "RangeIndex: 100000 entries, 0 to 99999\n",
      "Data columns (total 5 columns):\n",
      " #   Column   Non-Null Count   Dtype  \n",
      "---  ------   --------------   -----  \n",
      " 0   id       100000 non-null  object \n",
      " 1   f0       100000 non-null  float64\n",
      " 2   f1       100000 non-null  float64\n",
      " 3   f2       100000 non-null  float64\n",
      " 4   product  100000 non-null  float64\n",
      "dtypes: float64(4), object(1)\n",
      "memory usage: 3.8+ MB\n"
     ]
    },
    {
     "data": {
      "text/plain": [
       "None"
      ]
     },
     "metadata": {},
     "output_type": "display_data"
    },
    {
     "data": {
      "text/html": [
       "<div>\n",
       "<style scoped>\n",
       "    .dataframe tbody tr th:only-of-type {\n",
       "        vertical-align: middle;\n",
       "    }\n",
       "\n",
       "    .dataframe tbody tr th {\n",
       "        vertical-align: top;\n",
       "    }\n",
       "\n",
       "    .dataframe thead th {\n",
       "        text-align: right;\n",
       "    }\n",
       "</style>\n",
       "<table border=\"1\" class=\"dataframe\">\n",
       "  <thead>\n",
       "    <tr style=\"text-align: right;\">\n",
       "      <th></th>\n",
       "      <th>id</th>\n",
       "      <th>f0</th>\n",
       "      <th>f1</th>\n",
       "      <th>f2</th>\n",
       "      <th>product</th>\n",
       "    </tr>\n",
       "  </thead>\n",
       "  <tbody>\n",
       "    <tr>\n",
       "      <th>0</th>\n",
       "      <td>kBEdx</td>\n",
       "      <td>-15.001348</td>\n",
       "      <td>-8.276000</td>\n",
       "      <td>-0.005876</td>\n",
       "      <td>3.179103</td>\n",
       "    </tr>\n",
       "    <tr>\n",
       "      <th>1</th>\n",
       "      <td>62mP7</td>\n",
       "      <td>14.272088</td>\n",
       "      <td>-3.475083</td>\n",
       "      <td>0.999183</td>\n",
       "      <td>26.953261</td>\n",
       "    </tr>\n",
       "    <tr>\n",
       "      <th>2</th>\n",
       "      <td>vyE1P</td>\n",
       "      <td>6.263187</td>\n",
       "      <td>-5.948386</td>\n",
       "      <td>5.001160</td>\n",
       "      <td>134.766305</td>\n",
       "    </tr>\n",
       "    <tr>\n",
       "      <th>3</th>\n",
       "      <td>KcrkZ</td>\n",
       "      <td>-13.081196</td>\n",
       "      <td>-11.506057</td>\n",
       "      <td>4.999415</td>\n",
       "      <td>137.945408</td>\n",
       "    </tr>\n",
       "    <tr>\n",
       "      <th>4</th>\n",
       "      <td>AHL4O</td>\n",
       "      <td>12.702195</td>\n",
       "      <td>-8.147433</td>\n",
       "      <td>5.004363</td>\n",
       "      <td>134.766305</td>\n",
       "    </tr>\n",
       "  </tbody>\n",
       "</table>\n",
       "</div>"
      ],
      "text/plain": [
       "      id         f0         f1        f2     product\n",
       "0  kBEdx -15.001348  -8.276000 -0.005876    3.179103\n",
       "1  62mP7  14.272088  -3.475083  0.999183   26.953261\n",
       "2  vyE1P   6.263187  -5.948386  5.001160  134.766305\n",
       "3  KcrkZ -13.081196 -11.506057  4.999415  137.945408\n",
       "4  AHL4O  12.702195  -8.147433  5.004363  134.766305"
      ]
     },
     "execution_count": 4,
     "metadata": {},
     "output_type": "execute_result"
    }
   ],
   "source": [
    "display(geo_2.info())\n",
    "geo_2.head(5)"
   ]
  },
  {
   "cell_type": "code",
   "execution_count": 5,
   "metadata": {},
   "outputs": [
    {
     "name": "stdout",
     "output_type": "stream",
     "text": [
      "<class 'pandas.core.frame.DataFrame'>\n",
      "RangeIndex: 100000 entries, 0 to 99999\n",
      "Data columns (total 5 columns):\n",
      " #   Column   Non-Null Count   Dtype  \n",
      "---  ------   --------------   -----  \n",
      " 0   id       100000 non-null  object \n",
      " 1   f0       100000 non-null  float64\n",
      " 2   f1       100000 non-null  float64\n",
      " 3   f2       100000 non-null  float64\n",
      " 4   product  100000 non-null  float64\n",
      "dtypes: float64(4), object(1)\n",
      "memory usage: 3.8+ MB\n"
     ]
    },
    {
     "data": {
      "text/plain": [
       "None"
      ]
     },
     "metadata": {},
     "output_type": "display_data"
    },
    {
     "data": {
      "text/html": [
       "<div>\n",
       "<style scoped>\n",
       "    .dataframe tbody tr th:only-of-type {\n",
       "        vertical-align: middle;\n",
       "    }\n",
       "\n",
       "    .dataframe tbody tr th {\n",
       "        vertical-align: top;\n",
       "    }\n",
       "\n",
       "    .dataframe thead th {\n",
       "        text-align: right;\n",
       "    }\n",
       "</style>\n",
       "<table border=\"1\" class=\"dataframe\">\n",
       "  <thead>\n",
       "    <tr style=\"text-align: right;\">\n",
       "      <th></th>\n",
       "      <th>id</th>\n",
       "      <th>f0</th>\n",
       "      <th>f1</th>\n",
       "      <th>f2</th>\n",
       "      <th>product</th>\n",
       "    </tr>\n",
       "  </thead>\n",
       "  <tbody>\n",
       "    <tr>\n",
       "      <th>0</th>\n",
       "      <td>fwXo0</td>\n",
       "      <td>-1.146987</td>\n",
       "      <td>0.963328</td>\n",
       "      <td>-0.828965</td>\n",
       "      <td>27.758673</td>\n",
       "    </tr>\n",
       "    <tr>\n",
       "      <th>1</th>\n",
       "      <td>WJtFt</td>\n",
       "      <td>0.262778</td>\n",
       "      <td>0.269839</td>\n",
       "      <td>-2.530187</td>\n",
       "      <td>56.069697</td>\n",
       "    </tr>\n",
       "    <tr>\n",
       "      <th>2</th>\n",
       "      <td>ovLUW</td>\n",
       "      <td>0.194587</td>\n",
       "      <td>0.289035</td>\n",
       "      <td>-5.586433</td>\n",
       "      <td>62.871910</td>\n",
       "    </tr>\n",
       "    <tr>\n",
       "      <th>3</th>\n",
       "      <td>q6cA6</td>\n",
       "      <td>2.236060</td>\n",
       "      <td>-0.553760</td>\n",
       "      <td>0.930038</td>\n",
       "      <td>114.572842</td>\n",
       "    </tr>\n",
       "    <tr>\n",
       "      <th>4</th>\n",
       "      <td>WPMUX</td>\n",
       "      <td>-0.515993</td>\n",
       "      <td>1.716266</td>\n",
       "      <td>5.899011</td>\n",
       "      <td>149.600746</td>\n",
       "    </tr>\n",
       "  </tbody>\n",
       "</table>\n",
       "</div>"
      ],
      "text/plain": [
       "      id        f0        f1        f2     product\n",
       "0  fwXo0 -1.146987  0.963328 -0.828965   27.758673\n",
       "1  WJtFt  0.262778  0.269839 -2.530187   56.069697\n",
       "2  ovLUW  0.194587  0.289035 -5.586433   62.871910\n",
       "3  q6cA6  2.236060 -0.553760  0.930038  114.572842\n",
       "4  WPMUX -0.515993  1.716266  5.899011  149.600746"
      ]
     },
     "execution_count": 5,
     "metadata": {},
     "output_type": "execute_result"
    }
   ],
   "source": [
    "display(geo_3.info())\n",
    "geo_3.head(5)"
   ]
  },
  {
   "cell_type": "markdown",
   "metadata": {},
   "source": [
    "## Обучение и проверка модели"
   ]
  },
  {
   "cell_type": "code",
   "execution_count": 6,
   "metadata": {},
   "outputs": [],
   "source": [
    "#Функция, разделяет выборку на признаки и цели , отсеевает не нужные данные, делит на тренировочную и валидационную выборки,\n",
    "#Обучает модель и выводит показатели rmse и средний запас, возвращает датафрэйм с раельными и предсказанными данными\n",
    "def split_fit (data):\n",
    "    features = data.drop(['product','id'], axis=1)\n",
    "    target = data['product']\n",
    "    \n",
    "    features_train, features_valid, target_train, target_valid = train_test_split(features, \n",
    "                                                                                  target, \n",
    "                                                                                  test_size=0.25, \n",
    "                                                                                  random_state=12345)\n",
    "    model = LinearRegression()\n",
    "    model.fit(features_train, target_train)\n",
    "    \n",
    "    predictions = model.predict(features_valid)\n",
    "    \n",
    "    print('rmse = ',(mean_squared_error(predictions, target_valid))**(0.5))\n",
    "    print('Средняя запас = ',predictions.mean())\n",
    "    \n",
    "    real_predictions = pd.DataFrame()\n",
    "    real_predictions['real'] = target_valid\n",
    "    real_predictions['predictions'] = predictions\n",
    "    \n",
    "    return real_predictions"
   ]
  },
  {
   "cell_type": "code",
   "execution_count": 7,
   "metadata": {},
   "outputs": [
    {
     "name": "stdout",
     "output_type": "stream",
     "text": [
      "rmse =  37.5794217150813\n",
      "Средняя запас =  92.59256778438035\n"
     ]
    },
    {
     "data": {
      "text/html": [
       "<div>\n",
       "<style scoped>\n",
       "    .dataframe tbody tr th:only-of-type {\n",
       "        vertical-align: middle;\n",
       "    }\n",
       "\n",
       "    .dataframe tbody tr th {\n",
       "        vertical-align: top;\n",
       "    }\n",
       "\n",
       "    .dataframe thead th {\n",
       "        text-align: right;\n",
       "    }\n",
       "</style>\n",
       "<table border=\"1\" class=\"dataframe\">\n",
       "  <thead>\n",
       "    <tr style=\"text-align: right;\">\n",
       "      <th></th>\n",
       "      <th>real</th>\n",
       "      <th>predictions</th>\n",
       "    </tr>\n",
       "  </thead>\n",
       "  <tbody>\n",
       "    <tr>\n",
       "      <th>71751</th>\n",
       "      <td>10.038645</td>\n",
       "      <td>95.894952</td>\n",
       "    </tr>\n",
       "    <tr>\n",
       "      <th>80493</th>\n",
       "      <td>114.551489</td>\n",
       "      <td>77.572583</td>\n",
       "    </tr>\n",
       "    <tr>\n",
       "      <th>2655</th>\n",
       "      <td>132.603635</td>\n",
       "      <td>77.892640</td>\n",
       "    </tr>\n",
       "    <tr>\n",
       "      <th>53233</th>\n",
       "      <td>169.072125</td>\n",
       "      <td>90.175134</td>\n",
       "    </tr>\n",
       "    <tr>\n",
       "      <th>91141</th>\n",
       "      <td>122.325180</td>\n",
       "      <td>70.510088</td>\n",
       "    </tr>\n",
       "  </tbody>\n",
       "</table>\n",
       "</div>"
      ],
      "text/plain": [
       "             real  predictions\n",
       "71751   10.038645    95.894952\n",
       "80493  114.551489    77.572583\n",
       "2655   132.603635    77.892640\n",
       "53233  169.072125    90.175134\n",
       "91141  122.325180    70.510088"
      ]
     },
     "execution_count": 7,
     "metadata": {},
     "output_type": "execute_result"
    }
   ],
   "source": [
    "geo_pred_1 = split_fit(geo_1)\n",
    "geo_pred_1.head(5)"
   ]
  },
  {
   "cell_type": "code",
   "execution_count": 8,
   "metadata": {},
   "outputs": [
    {
     "name": "stdout",
     "output_type": "stream",
     "text": [
      "rmse =  0.893099286775617\n",
      "Средняя запас =  68.728546895446\n"
     ]
    },
    {
     "data": {
      "text/html": [
       "<div>\n",
       "<style scoped>\n",
       "    .dataframe tbody tr th:only-of-type {\n",
       "        vertical-align: middle;\n",
       "    }\n",
       "\n",
       "    .dataframe tbody tr th {\n",
       "        vertical-align: top;\n",
       "    }\n",
       "\n",
       "    .dataframe thead th {\n",
       "        text-align: right;\n",
       "    }\n",
       "</style>\n",
       "<table border=\"1\" class=\"dataframe\">\n",
       "  <thead>\n",
       "    <tr style=\"text-align: right;\">\n",
       "      <th></th>\n",
       "      <th>real</th>\n",
       "      <th>predictions</th>\n",
       "    </tr>\n",
       "  </thead>\n",
       "  <tbody>\n",
       "    <tr>\n",
       "      <th>71751</th>\n",
       "      <td>80.859783</td>\n",
       "      <td>82.663314</td>\n",
       "    </tr>\n",
       "    <tr>\n",
       "      <th>80493</th>\n",
       "      <td>53.906522</td>\n",
       "      <td>54.431786</td>\n",
       "    </tr>\n",
       "    <tr>\n",
       "      <th>2655</th>\n",
       "      <td>30.132364</td>\n",
       "      <td>29.748760</td>\n",
       "    </tr>\n",
       "    <tr>\n",
       "      <th>53233</th>\n",
       "      <td>53.906522</td>\n",
       "      <td>53.552133</td>\n",
       "    </tr>\n",
       "    <tr>\n",
       "      <th>91141</th>\n",
       "      <td>0.000000</td>\n",
       "      <td>1.243856</td>\n",
       "    </tr>\n",
       "  </tbody>\n",
       "</table>\n",
       "</div>"
      ],
      "text/plain": [
       "            real  predictions\n",
       "71751  80.859783    82.663314\n",
       "80493  53.906522    54.431786\n",
       "2655   30.132364    29.748760\n",
       "53233  53.906522    53.552133\n",
       "91141   0.000000     1.243856"
      ]
     },
     "execution_count": 8,
     "metadata": {},
     "output_type": "execute_result"
    }
   ],
   "source": [
    "geo_pred_2 = split_fit(geo_2)\n",
    "geo_pred_2.head(5)"
   ]
  },
  {
   "cell_type": "code",
   "execution_count": 9,
   "metadata": {},
   "outputs": [
    {
     "name": "stdout",
     "output_type": "stream",
     "text": [
      "rmse =  40.02970873393434\n",
      "Средняя запас =  94.96504596800489\n"
     ]
    },
    {
     "data": {
      "text/html": [
       "<div>\n",
       "<style scoped>\n",
       "    .dataframe tbody tr th:only-of-type {\n",
       "        vertical-align: middle;\n",
       "    }\n",
       "\n",
       "    .dataframe tbody tr th {\n",
       "        vertical-align: top;\n",
       "    }\n",
       "\n",
       "    .dataframe thead th {\n",
       "        text-align: right;\n",
       "    }\n",
       "</style>\n",
       "<table border=\"1\" class=\"dataframe\">\n",
       "  <thead>\n",
       "    <tr style=\"text-align: right;\">\n",
       "      <th></th>\n",
       "      <th>real</th>\n",
       "      <th>predictions</th>\n",
       "    </tr>\n",
       "  </thead>\n",
       "  <tbody>\n",
       "    <tr>\n",
       "      <th>71751</th>\n",
       "      <td>61.212375</td>\n",
       "      <td>93.599633</td>\n",
       "    </tr>\n",
       "    <tr>\n",
       "      <th>80493</th>\n",
       "      <td>41.850118</td>\n",
       "      <td>75.105159</td>\n",
       "    </tr>\n",
       "    <tr>\n",
       "      <th>2655</th>\n",
       "      <td>57.776581</td>\n",
       "      <td>90.066809</td>\n",
       "    </tr>\n",
       "    <tr>\n",
       "      <th>53233</th>\n",
       "      <td>100.053761</td>\n",
       "      <td>105.162375</td>\n",
       "    </tr>\n",
       "    <tr>\n",
       "      <th>91141</th>\n",
       "      <td>109.897122</td>\n",
       "      <td>115.303310</td>\n",
       "    </tr>\n",
       "  </tbody>\n",
       "</table>\n",
       "</div>"
      ],
      "text/plain": [
       "             real  predictions\n",
       "71751   61.212375    93.599633\n",
       "80493   41.850118    75.105159\n",
       "2655    57.776581    90.066809\n",
       "53233  100.053761   105.162375\n",
       "91141  109.897122   115.303310"
      ]
     },
     "execution_count": 9,
     "metadata": {},
     "output_type": "execute_result"
    }
   ],
   "source": [
    "geo_pred_3 = split_fit(geo_3)\n",
    "geo_pred_3.head(5)"
   ]
  },
  {
   "cell_type": "markdown",
   "metadata": {},
   "source": [
    "Предсказания оказались довольно близки к реальным данным, самый  высокий результат у второго региона RMSE 0.89 это очень подозрительный результат. Есть вероятность что есть прямая зависимость между какой то из характеристик и объемом запасов, судя по тому что зависмости в других регионах нету можно предположить что данный второго региона не корректны."
   ]
  },
  {
   "cell_type": "markdown",
   "metadata": {},
   "source": [
    "## Подготовка к расчёту прибыли"
   ]
  },
  {
   "cell_type": "code",
   "execution_count": 10,
   "metadata": {},
   "outputs": [],
   "source": [
    "BUDGET = 10**10 \n",
    "PRICE_BARREL = 450 * 10**3\n",
    "N = 200\n",
    "TOTAL_N = 500"
   ]
  },
  {
   "cell_type": "code",
   "execution_count": 11,
   "metadata": {},
   "outputs": [
    {
     "name": "stdout",
     "output_type": "stream",
     "text": [
      "Всего требудется: 22222.222222222223 тыс. баралей \n",
      "Стреднее двухсот лучших должен быть не менее: 111.11111111111111 тыс. баралей\n"
     ]
    }
   ],
   "source": [
    "total_required = BUDGET / PRICE_BARREL\n",
    "avg_top = total_required / N\n",
    "\n",
    "print('Всего требудется:', total_required,'тыс. баралей ')\n",
    "print('Стреднее двухсот лучших должен быть не менее:', avg_top,'тыс. баралей')"
   ]
  },
  {
   "cell_type": "markdown",
   "metadata": {},
   "source": [
    "Средний запас в каждом из регионов меньше необходимого."
   ]
  },
  {
   "cell_type": "markdown",
   "metadata": {},
   "source": [
    "## Расчёт прибыли и рисков "
   ]
  },
  {
   "cell_type": "code",
   "execution_count": 12,
   "metadata": {},
   "outputs": [],
   "source": [
    "#Функция для подщёта прибыли\n",
    "def revenue(volumes, price=PRICE_BARREL, min_volume=avg_top): \n",
    "    \n",
    "    revenue_per_well =  (volumes - min_volume) * price\n",
    "    \n",
    "    revenue_total = np.sum(revenue_per_well)\n",
    "    return revenue_total"
   ]
  },
  {
   "cell_type": "code",
   "execution_count": 13,
   "metadata": {},
   "outputs": [],
   "source": [
    "# находит и выводит доверительные интервалы, среднюю прибыли и риск убытка \n",
    "def risk (geo_pred):\n",
    "    risk_s = []\n",
    "    random = np.random.RandomState(54321)\n",
    "    for i in range(1000):\n",
    "        predictions_sample =(geo_pred.sample(500, replace=True, random_state=random)\n",
    "                             .sort_values(by='predictions', ascending=False)\n",
    "                             .head(200))\n",
    "        risk_s.append(revenue(predictions_sample['real']))\n",
    "        \n",
    "    risk_s = pd.Series(risk_s)   \n",
    "    lower = risk_s.quantile(0.025)\n",
    "    upper = risk_s.quantile(0.975)\n",
    "    \n",
    "    print('Доверительный интервал', lower, ' ', upper)\n",
    "    print('Средняя прибыли:',risk_s.mean(),'руб.')\n",
    "    print(f'Рис убытков: {(risk_s[risk_s < 0].count()/len(risk_s)*100)}%')\n",
    "    \n",
    "    return risk_s"
   ]
  },
  {
   "cell_type": "code",
   "execution_count": 14,
   "metadata": {
    "scrolled": true
   },
   "outputs": [
    {
     "name": "stdout",
     "output_type": "stream",
     "text": [
      "Доверительный интервал -110864002.8152088   903359833.6663692\n",
      "Средняя прибыли: 392082908.8547081 руб.\n",
      "Рис убытков: 6.4%\n"
     ]
    }
   ],
   "source": [
    "risk_geo_1 = risk(geo_pred_1)"
   ]
  },
  {
   "cell_type": "code",
   "execution_count": 15,
   "metadata": {},
   "outputs": [
    {
     "name": "stdout",
     "output_type": "stream",
     "text": [
      "Доверительный интервал 33826729.38230054   846567069.2162611\n",
      "Средняя прибыли: 437334151.9785654 руб.\n",
      "Рис убытков: 1.5%\n"
     ]
    }
   ],
   "source": [
    "risk_geo_2 = risk(geo_pred_2)"
   ]
  },
  {
   "cell_type": "code",
   "execution_count": 16,
   "metadata": {},
   "outputs": [
    {
     "name": "stdout",
     "output_type": "stream",
     "text": [
      "Доверительный интервал -174131176.37829503   893656461.3281599\n",
      "Средняя прибыли: 378510561.31141555 руб.\n",
      "Рис убытков: 9.0%\n"
     ]
    }
   ],
   "source": [
    "risk_geo_3 = risk(geo_pred_3)"
   ]
  },
  {
   "cell_type": "markdown",
   "metadata": {},
   "source": [
    "Для разработки лучше всего подходит второй регион , так как у него наименьший риск и наибольшая средняя прибыль."
   ]
  }
 ],
 "metadata": {
  "ExecuteTimeLog": [
   {
    "duration": 91,
    "start_time": "2022-09-16T15:40:47.330Z"
   },
   {
    "duration": 6,
    "start_time": "2022-09-16T15:41:00.430Z"
   },
   {
    "duration": 1210,
    "start_time": "2022-09-16T15:41:04.319Z"
   },
   {
    "duration": 1013,
    "start_time": "2022-09-16T15:41:07.502Z"
   },
   {
    "duration": 31,
    "start_time": "2022-09-16T15:41:25.646Z"
   },
   {
    "duration": 13,
    "start_time": "2022-09-16T15:41:37.234Z"
   },
   {
    "duration": 14,
    "start_time": "2022-09-16T15:41:39.421Z"
   },
   {
    "duration": 47,
    "start_time": "2022-09-25T14:54:40.688Z"
   },
   {
    "duration": 465,
    "start_time": "2022-09-25T14:54:45.863Z"
   },
   {
    "duration": 822,
    "start_time": "2022-09-25T14:54:47.818Z"
   },
   {
    "duration": 33,
    "start_time": "2022-09-25T14:54:50.053Z"
   },
   {
    "duration": 33,
    "start_time": "2022-09-25T14:55:21.532Z"
   },
   {
    "duration": 36,
    "start_time": "2022-09-25T14:55:23.688Z"
   },
   {
    "duration": 35,
    "start_time": "2022-09-25T15:00:13.225Z"
   },
   {
    "duration": 20,
    "start_time": "2022-09-25T15:00:28.104Z"
   },
   {
    "duration": 27,
    "start_time": "2022-09-25T15:01:45.113Z"
   },
   {
    "duration": 28,
    "start_time": "2022-09-25T15:01:53.045Z"
   },
   {
    "duration": 26,
    "start_time": "2022-09-25T15:04:40.382Z"
   },
   {
    "duration": 231,
    "start_time": "2022-09-25T15:04:46.266Z"
   },
   {
    "duration": 26,
    "start_time": "2022-09-25T15:05:27.882Z"
   },
   {
    "duration": 6,
    "start_time": "2022-09-25T15:05:37.605Z"
   },
   {
    "duration": 39,
    "start_time": "2022-09-25T15:06:04.478Z"
   },
   {
    "duration": 468,
    "start_time": "2022-09-25T15:07:02.335Z"
   },
   {
    "duration": 480,
    "start_time": "2022-09-25T15:07:02.805Z"
   },
   {
    "duration": 42,
    "start_time": "2022-09-25T15:07:03.288Z"
   },
   {
    "duration": 29,
    "start_time": "2022-09-25T15:07:03.332Z"
   },
   {
    "duration": 49,
    "start_time": "2022-09-25T15:07:03.364Z"
   },
   {
    "duration": 29,
    "start_time": "2022-09-25T15:07:03.416Z"
   },
   {
    "duration": 16,
    "start_time": "2022-09-25T15:07:31.388Z"
   },
   {
    "duration": 28,
    "start_time": "2022-09-25T15:08:24.282Z"
   },
   {
    "duration": 33,
    "start_time": "2022-09-25T15:08:52.129Z"
   },
   {
    "duration": 36,
    "start_time": "2022-09-25T15:09:02.669Z"
   },
   {
    "duration": 401,
    "start_time": "2022-09-25T15:12:59.688Z"
   },
   {
    "duration": 446,
    "start_time": "2022-09-25T15:13:00.096Z"
   },
   {
    "duration": 41,
    "start_time": "2022-09-25T15:13:00.543Z"
   },
   {
    "duration": 45,
    "start_time": "2022-09-25T15:13:00.589Z"
   },
   {
    "duration": 36,
    "start_time": "2022-09-25T15:13:00.638Z"
   },
   {
    "duration": 57,
    "start_time": "2022-09-25T15:13:00.676Z"
   },
   {
    "duration": 3,
    "start_time": "2022-09-25T15:40:33.015Z"
   },
   {
    "duration": 5,
    "start_time": "2022-09-25T15:50:30.553Z"
   },
   {
    "duration": 1255,
    "start_time": "2022-09-29T09:18:43.739Z"
   },
   {
    "duration": 2555,
    "start_time": "2022-09-29T09:18:45.001Z"
   },
   {
    "duration": 39,
    "start_time": "2022-09-29T09:18:47.558Z"
   },
   {
    "duration": 32,
    "start_time": "2022-09-29T09:18:47.604Z"
   },
   {
    "duration": 37,
    "start_time": "2022-09-29T09:18:47.638Z"
   },
   {
    "duration": 19,
    "start_time": "2022-09-29T09:18:47.678Z"
   },
   {
    "duration": 24,
    "start_time": "2022-09-29T09:28:07.234Z"
   },
   {
    "duration": 109,
    "start_time": "2022-09-29T10:07:39.472Z"
   },
   {
    "duration": 107,
    "start_time": "2022-09-29T10:07:42.452Z"
   },
   {
    "duration": 4,
    "start_time": "2022-09-29T10:07:50.726Z"
   },
   {
    "duration": 40,
    "start_time": "2022-09-29T10:07:52.821Z"
   },
   {
    "duration": 7,
    "start_time": "2022-09-29T10:07:58.020Z"
   },
   {
    "duration": 40,
    "start_time": "2022-09-29T10:08:02.809Z"
   },
   {
    "duration": 6,
    "start_time": "2022-09-29T10:08:26.872Z"
   },
   {
    "duration": 32,
    "start_time": "2022-09-29T10:08:28.733Z"
   },
   {
    "duration": 5,
    "start_time": "2022-09-29T10:08:52.155Z"
   },
   {
    "duration": 42,
    "start_time": "2022-09-29T10:08:54.281Z"
   },
   {
    "duration": 5,
    "start_time": "2022-09-29T10:18:12.206Z"
   },
   {
    "duration": 50,
    "start_time": "2022-09-29T10:18:18.946Z"
   },
   {
    "duration": 57,
    "start_time": "2022-09-29T10:18:38.352Z"
   },
   {
    "duration": 46,
    "start_time": "2022-09-29T10:18:43.168Z"
   },
   {
    "duration": 28,
    "start_time": "2022-09-29T10:44:57.649Z"
   },
   {
    "duration": 4,
    "start_time": "2022-09-29T10:48:03.773Z"
   },
   {
    "duration": 63,
    "start_time": "2022-09-29T10:48:06.641Z"
   },
   {
    "duration": 7,
    "start_time": "2022-09-29T10:51:17.903Z"
   },
   {
    "duration": 138,
    "start_time": "2022-09-29T10:51:24.373Z"
   },
   {
    "duration": 159,
    "start_time": "2022-09-29T10:51:34.637Z"
   },
   {
    "duration": 170,
    "start_time": "2022-09-29T10:51:49.129Z"
   },
   {
    "duration": 7,
    "start_time": "2022-09-29T10:51:51.432Z"
   },
   {
    "duration": 222,
    "start_time": "2022-09-29T10:51:52.779Z"
   },
   {
    "duration": 5,
    "start_time": "2022-09-29T11:03:50.862Z"
   },
   {
    "duration": 44,
    "start_time": "2022-09-29T11:03:52.268Z"
   },
   {
    "duration": 5,
    "start_time": "2022-09-29T11:04:09.958Z"
   },
   {
    "duration": 166,
    "start_time": "2022-09-29T11:04:11.337Z"
   },
   {
    "duration": 5,
    "start_time": "2022-09-29T11:06:36.254Z"
   },
   {
    "duration": 97,
    "start_time": "2022-09-29T11:06:37.616Z"
   },
   {
    "duration": 8,
    "start_time": "2022-09-30T10:00:05.711Z"
   },
   {
    "duration": 1093,
    "start_time": "2022-09-30T10:00:09.738Z"
   },
   {
    "duration": 1614,
    "start_time": "2022-09-30T10:00:10.833Z"
   },
   {
    "duration": 29,
    "start_time": "2022-09-30T10:00:12.449Z"
   },
   {
    "duration": 20,
    "start_time": "2022-09-30T10:00:12.480Z"
   },
   {
    "duration": 19,
    "start_time": "2022-09-30T10:00:12.502Z"
   },
   {
    "duration": 4,
    "start_time": "2022-09-30T10:00:12.523Z"
   },
   {
    "duration": 167,
    "start_time": "2022-09-30T10:00:12.529Z"
   },
   {
    "duration": 5,
    "start_time": "2022-09-30T10:01:05.058Z"
   },
   {
    "duration": 179,
    "start_time": "2022-09-30T10:01:07.217Z"
   },
   {
    "duration": 31,
    "start_time": "2022-09-30T10:12:28.545Z"
   },
   {
    "duration": 92,
    "start_time": "2022-09-30T10:12:35.304Z"
   },
   {
    "duration": 31,
    "start_time": "2022-09-30T10:12:43.208Z"
   },
   {
    "duration": 1114,
    "start_time": "2022-10-01T07:54:08.272Z"
   },
   {
    "duration": 1856,
    "start_time": "2022-10-01T07:54:09.388Z"
   },
   {
    "duration": 30,
    "start_time": "2022-10-01T07:54:11.245Z"
   },
   {
    "duration": 28,
    "start_time": "2022-10-01T07:54:11.276Z"
   },
   {
    "duration": 22,
    "start_time": "2022-10-01T07:54:11.307Z"
   },
   {
    "duration": 5,
    "start_time": "2022-10-01T07:54:11.332Z"
   },
   {
    "duration": 158,
    "start_time": "2022-10-01T07:54:11.338Z"
   },
   {
    "duration": 34,
    "start_time": "2022-10-01T07:54:11.498Z"
   },
   {
    "duration": 115,
    "start_time": "2022-10-01T07:54:11.595Z"
   },
   {
    "duration": 125,
    "start_time": "2022-10-01T08:01:45.373Z"
   },
   {
    "duration": 102,
    "start_time": "2022-10-01T08:01:56.896Z"
   },
   {
    "duration": 41,
    "start_time": "2022-10-01T08:01:58.755Z"
   },
   {
    "duration": 3,
    "start_time": "2022-10-01T08:33:22.057Z"
   },
   {
    "duration": 2,
    "start_time": "2022-10-01T08:34:58.399Z"
   },
   {
    "duration": 4,
    "start_time": "2022-10-01T08:35:01.452Z"
   },
   {
    "duration": 3,
    "start_time": "2022-10-01T08:37:44.231Z"
   },
   {
    "duration": 3,
    "start_time": "2022-10-01T08:38:31.134Z"
   },
   {
    "duration": 3,
    "start_time": "2022-10-01T08:39:47.573Z"
   },
   {
    "duration": 4,
    "start_time": "2022-10-01T09:04:48.973Z"
   },
   {
    "duration": 4,
    "start_time": "2022-10-01T09:05:26.256Z"
   },
   {
    "duration": 98,
    "start_time": "2022-10-01T09:21:59.148Z"
   },
   {
    "duration": 5,
    "start_time": "2022-10-01T09:25:42.044Z"
   },
   {
    "duration": 4,
    "start_time": "2022-10-01T09:26:24.458Z"
   },
   {
    "duration": 109,
    "start_time": "2022-10-01T09:27:32.139Z"
   },
   {
    "duration": 4,
    "start_time": "2022-10-01T09:27:47.662Z"
   },
   {
    "duration": 18,
    "start_time": "2022-10-01T09:27:49.467Z"
   },
   {
    "duration": 4,
    "start_time": "2022-10-01T09:28:09.376Z"
   },
   {
    "duration": 1319,
    "start_time": "2022-10-01T09:28:10.717Z"
   },
   {
    "duration": 1164,
    "start_time": "2022-10-01T09:28:25.180Z"
   },
   {
    "duration": 2,
    "start_time": "2022-10-01T09:28:34.610Z"
   },
   {
    "duration": 6,
    "start_time": "2022-10-01T09:29:27.200Z"
   },
   {
    "duration": 5,
    "start_time": "2022-10-01T09:29:35.621Z"
   },
   {
    "duration": 3,
    "start_time": "2022-10-01T09:29:37.756Z"
   },
   {
    "duration": 3,
    "start_time": "2022-10-01T09:29:38.077Z"
   },
   {
    "duration": 1244,
    "start_time": "2022-10-01T09:29:40.078Z"
   },
   {
    "duration": 6,
    "start_time": "2022-10-01T09:30:21.739Z"
   },
   {
    "duration": 43,
    "start_time": "2022-10-01T09:30:23.492Z"
   },
   {
    "duration": 6,
    "start_time": "2022-10-01T09:30:38.834Z"
   },
   {
    "duration": 1219,
    "start_time": "2022-10-01T09:30:39.953Z"
   },
   {
    "duration": 5,
    "start_time": "2022-10-01T09:31:08.659Z"
   },
   {
    "duration": 1222,
    "start_time": "2022-10-01T09:31:10.128Z"
   },
   {
    "duration": 6,
    "start_time": "2022-10-01T09:31:24.717Z"
   },
   {
    "duration": 1376,
    "start_time": "2022-10-01T09:31:26.254Z"
   },
   {
    "duration": 3956,
    "start_time": "2022-10-01T09:31:43.363Z"
   },
   {
    "duration": 5,
    "start_time": "2022-10-01T09:42:06.177Z"
   },
   {
    "duration": 9,
    "start_time": "2022-10-01T09:42:13.192Z"
   },
   {
    "duration": 6,
    "start_time": "2022-10-01T10:12:02.673Z"
   },
   {
    "duration": 1251,
    "start_time": "2022-10-01T10:12:04.558Z"
   },
   {
    "duration": 1216,
    "start_time": "2022-10-01T10:12:15.019Z"
   },
   {
    "duration": 1124,
    "start_time": "2022-10-01T10:12:22.468Z"
   },
   {
    "duration": 1271,
    "start_time": "2022-10-01T10:12:26.321Z"
   },
   {
    "duration": 1175,
    "start_time": "2022-10-01T10:25:48.332Z"
   },
   {
    "duration": 5,
    "start_time": "2022-10-01T10:25:51.942Z"
   },
   {
    "duration": 1156,
    "start_time": "2022-10-01T10:25:53.195Z"
   },
   {
    "duration": 1120,
    "start_time": "2022-10-01T10:27:22.741Z"
   },
   {
    "duration": 1111,
    "start_time": "2022-10-01T10:27:24.149Z"
   },
   {
    "duration": 6,
    "start_time": "2022-10-01T10:31:50.509Z"
   },
   {
    "duration": 1771,
    "start_time": "2022-10-01T10:31:52.713Z"
   },
   {
    "duration": 8,
    "start_time": "2022-10-01T10:33:33.723Z"
   },
   {
    "duration": 1752,
    "start_time": "2022-10-01T10:33:34.923Z"
   },
   {
    "duration": 1676,
    "start_time": "2022-10-01T10:33:45.032Z"
   },
   {
    "duration": 1757,
    "start_time": "2022-10-01T10:33:56.765Z"
   },
   {
    "duration": 6,
    "start_time": "2022-10-01T10:39:17.326Z"
   },
   {
    "duration": 1726,
    "start_time": "2022-10-01T10:39:19.236Z"
   },
   {
    "duration": 7,
    "start_time": "2022-10-01T10:39:30.880Z"
   },
   {
    "duration": 1746,
    "start_time": "2022-10-01T10:39:37.140Z"
   },
   {
    "duration": 6,
    "start_time": "2022-10-01T10:39:54.215Z"
   },
   {
    "duration": 1796,
    "start_time": "2022-10-01T10:39:56.109Z"
   },
   {
    "duration": 6,
    "start_time": "2022-10-01T10:40:16.221Z"
   },
   {
    "duration": 1683,
    "start_time": "2022-10-01T10:40:17.954Z"
   },
   {
    "duration": 149,
    "start_time": "2022-10-01T10:44:36.541Z"
   },
   {
    "duration": 6,
    "start_time": "2022-10-01T10:45:06.635Z"
   },
   {
    "duration": 1723,
    "start_time": "2022-10-01T10:45:08.706Z"
   },
   {
    "duration": 120,
    "start_time": "2022-10-01T10:50:38.963Z"
   },
   {
    "duration": 4,
    "start_time": "2022-10-01T10:50:59.426Z"
   },
   {
    "duration": 1135,
    "start_time": "2022-10-01T10:51:01.413Z"
   },
   {
    "duration": 1096,
    "start_time": "2022-10-01T10:51:04.157Z"
   },
   {
    "duration": 1136,
    "start_time": "2022-10-01T10:51:06.912Z"
   },
   {
    "duration": 5,
    "start_time": "2022-10-01T10:53:34.213Z"
   },
   {
    "duration": 1278,
    "start_time": "2022-10-01T10:53:35.441Z"
   },
   {
    "duration": 8,
    "start_time": "2022-10-01T10:53:55.700Z"
   },
   {
    "duration": 1170,
    "start_time": "2022-10-01T10:53:58.926Z"
   },
   {
    "duration": 5,
    "start_time": "2022-10-01T10:55:06.186Z"
   },
   {
    "duration": 1223,
    "start_time": "2022-10-01T10:55:07.853Z"
   },
   {
    "duration": 1249,
    "start_time": "2022-10-01T10:55:11.789Z"
   },
   {
    "duration": 1187,
    "start_time": "2022-10-01T10:55:15.041Z"
   },
   {
    "duration": 6,
    "start_time": "2022-10-01T10:56:54.874Z"
   },
   {
    "duration": 3,
    "start_time": "2022-10-01T10:56:55.886Z"
   },
   {
    "duration": 7,
    "start_time": "2022-10-01T10:56:56.846Z"
   },
   {
    "duration": 1172,
    "start_time": "2022-10-01T10:56:58.646Z"
   },
   {
    "duration": 1217,
    "start_time": "2022-10-01T11:00:19.336Z"
   },
   {
    "duration": 409,
    "start_time": "2022-10-01T11:00:20.555Z"
   },
   {
    "duration": 55,
    "start_time": "2022-10-01T11:00:20.967Z"
   },
   {
    "duration": 31,
    "start_time": "2022-10-01T11:00:21.026Z"
   },
   {
    "duration": 57,
    "start_time": "2022-10-01T11:00:21.059Z"
   },
   {
    "duration": 7,
    "start_time": "2022-10-01T11:00:21.119Z"
   },
   {
    "duration": 183,
    "start_time": "2022-10-01T11:00:21.128Z"
   },
   {
    "duration": 102,
    "start_time": "2022-10-01T11:00:21.313Z"
   },
   {
    "duration": 284,
    "start_time": "2022-10-01T11:00:21.420Z"
   },
   {
    "duration": 6,
    "start_time": "2022-10-01T11:00:21.716Z"
   },
   {
    "duration": 10,
    "start_time": "2022-10-01T11:00:21.724Z"
   },
   {
    "duration": 6,
    "start_time": "2022-10-01T11:00:21.737Z"
   },
   {
    "duration": 8,
    "start_time": "2022-10-01T11:00:21.745Z"
   },
   {
    "duration": 1253,
    "start_time": "2022-10-01T11:00:21.756Z"
   },
   {
    "duration": 1184,
    "start_time": "2022-10-01T11:00:23.011Z"
   },
   {
    "duration": 1177,
    "start_time": "2022-10-01T11:00:24.204Z"
   },
   {
    "duration": 1346,
    "start_time": "2022-10-01T11:07:05.778Z"
   },
   {
    "duration": 1300,
    "start_time": "2022-10-01T11:07:32.643Z"
   },
   {
    "duration": 1219,
    "start_time": "2022-10-01T11:07:44.743Z"
   },
   {
    "duration": 1219,
    "start_time": "2022-10-01T11:08:08.331Z"
   },
   {
    "duration": 1190,
    "start_time": "2022-10-01T11:08:09.552Z"
   },
   {
    "duration": 1198,
    "start_time": "2022-10-01T13:39:58.568Z"
   },
   {
    "duration": 2018,
    "start_time": "2022-10-01T13:39:59.768Z"
   },
   {
    "duration": 25,
    "start_time": "2022-10-01T13:40:01.787Z"
   },
   {
    "duration": 47,
    "start_time": "2022-10-01T13:40:01.814Z"
   },
   {
    "duration": 32,
    "start_time": "2022-10-01T13:40:01.864Z"
   },
   {
    "duration": 5,
    "start_time": "2022-10-01T13:40:01.898Z"
   },
   {
    "duration": 218,
    "start_time": "2022-10-01T13:40:01.905Z"
   },
   {
    "duration": 109,
    "start_time": "2022-10-01T13:40:02.125Z"
   },
   {
    "duration": 103,
    "start_time": "2022-10-01T13:40:02.322Z"
   },
   {
    "duration": 97,
    "start_time": "2022-10-01T13:40:02.427Z"
   },
   {
    "duration": 17,
    "start_time": "2022-10-01T13:40:02.526Z"
   },
   {
    "duration": 24,
    "start_time": "2022-10-01T13:40:02.544Z"
   },
   {
    "duration": 11,
    "start_time": "2022-10-01T13:40:02.570Z"
   },
   {
    "duration": 1006,
    "start_time": "2022-10-01T13:40:02.584Z"
   },
   {
    "duration": 972,
    "start_time": "2022-10-01T13:40:03.592Z"
   },
   {
    "duration": 959,
    "start_time": "2022-10-01T13:40:04.565Z"
   },
   {
    "duration": 1040,
    "start_time": "2022-10-01T15:07:09.830Z"
   },
   {
    "duration": 357,
    "start_time": "2022-10-01T15:07:10.872Z"
   },
   {
    "duration": 25,
    "start_time": "2022-10-01T15:07:11.230Z"
   },
   {
    "duration": 19,
    "start_time": "2022-10-01T15:07:11.257Z"
   },
   {
    "duration": 17,
    "start_time": "2022-10-01T15:07:11.277Z"
   },
   {
    "duration": 7,
    "start_time": "2022-10-01T15:07:11.323Z"
   },
   {
    "duration": 71,
    "start_time": "2022-10-01T15:07:11.331Z"
   },
   {
    "duration": 0,
    "start_time": "2022-10-01T15:07:11.404Z"
   },
   {
    "duration": 0,
    "start_time": "2022-10-01T15:07:11.406Z"
   },
   {
    "duration": 0,
    "start_time": "2022-10-01T15:07:11.408Z"
   },
   {
    "duration": 0,
    "start_time": "2022-10-01T15:07:11.408Z"
   },
   {
    "duration": 0,
    "start_time": "2022-10-01T15:07:11.409Z"
   },
   {
    "duration": 0,
    "start_time": "2022-10-01T15:07:11.410Z"
   },
   {
    "duration": 0,
    "start_time": "2022-10-01T15:07:11.411Z"
   },
   {
    "duration": 0,
    "start_time": "2022-10-01T15:07:11.412Z"
   },
   {
    "duration": 0,
    "start_time": "2022-10-01T15:07:11.413Z"
   },
   {
    "duration": 0,
    "start_time": "2022-10-01T15:07:11.414Z"
   },
   {
    "duration": 0,
    "start_time": "2022-10-01T15:07:11.415Z"
   },
   {
    "duration": 1020,
    "start_time": "2022-10-01T15:07:29.749Z"
   },
   {
    "duration": 348,
    "start_time": "2022-10-01T15:07:30.771Z"
   },
   {
    "duration": 28,
    "start_time": "2022-10-01T15:07:31.121Z"
   },
   {
    "duration": 18,
    "start_time": "2022-10-01T15:07:31.150Z"
   },
   {
    "duration": 20,
    "start_time": "2022-10-01T15:07:31.169Z"
   },
   {
    "duration": 4,
    "start_time": "2022-10-01T15:07:31.190Z"
   },
   {
    "duration": 105,
    "start_time": "2022-10-01T15:07:31.221Z"
   },
   {
    "duration": 197,
    "start_time": "2022-10-01T15:07:31.328Z"
   },
   {
    "duration": 199,
    "start_time": "2022-10-01T15:07:31.527Z"
   },
   {
    "duration": 3,
    "start_time": "2022-10-01T15:07:31.728Z"
   },
   {
    "duration": 6,
    "start_time": "2022-10-01T15:07:31.822Z"
   },
   {
    "duration": 16,
    "start_time": "2022-10-01T15:07:31.829Z"
   },
   {
    "duration": 107,
    "start_time": "2022-10-01T15:07:31.847Z"
   },
   {
    "duration": 0,
    "start_time": "2022-10-01T15:07:31.956Z"
   },
   {
    "duration": 0,
    "start_time": "2022-10-01T15:07:31.957Z"
   },
   {
    "duration": 0,
    "start_time": "2022-10-01T15:07:31.958Z"
   },
   {
    "duration": 0,
    "start_time": "2022-10-01T15:07:31.959Z"
   },
   {
    "duration": 1048,
    "start_time": "2022-10-01T15:08:08.625Z"
   },
   {
    "duration": 326,
    "start_time": "2022-10-01T15:08:09.675Z"
   },
   {
    "duration": 27,
    "start_time": "2022-10-01T15:08:10.002Z"
   },
   {
    "duration": 18,
    "start_time": "2022-10-01T15:08:10.031Z"
   },
   {
    "duration": 18,
    "start_time": "2022-10-01T15:08:10.050Z"
   },
   {
    "duration": 4,
    "start_time": "2022-10-01T15:08:10.069Z"
   },
   {
    "duration": 147,
    "start_time": "2022-10-01T15:08:10.074Z"
   },
   {
    "duration": 202,
    "start_time": "2022-10-01T15:08:10.223Z"
   },
   {
    "duration": 195,
    "start_time": "2022-10-01T15:08:10.430Z"
   },
   {
    "duration": 94,
    "start_time": "2022-10-01T15:08:10.627Z"
   },
   {
    "duration": 12,
    "start_time": "2022-10-01T15:08:10.723Z"
   },
   {
    "duration": 6,
    "start_time": "2022-10-01T15:08:10.737Z"
   },
   {
    "duration": 10,
    "start_time": "2022-10-01T15:08:10.744Z"
   },
   {
    "duration": 1069,
    "start_time": "2022-10-01T15:08:10.755Z"
   },
   {
    "duration": 967,
    "start_time": "2022-10-01T15:08:11.826Z"
   },
   {
    "duration": 969,
    "start_time": "2022-10-01T15:08:12.794Z"
   },
   {
    "duration": 9,
    "start_time": "2022-10-01T18:39:40.169Z"
   },
   {
    "duration": 6,
    "start_time": "2022-10-01T18:39:44.423Z"
   },
   {
    "duration": 1050,
    "start_time": "2022-10-01T18:39:49.783Z"
   },
   {
    "duration": 918,
    "start_time": "2022-10-01T18:39:50.835Z"
   },
   {
    "duration": 25,
    "start_time": "2022-10-01T18:39:51.755Z"
   },
   {
    "duration": 19,
    "start_time": "2022-10-01T18:39:51.782Z"
   },
   {
    "duration": 17,
    "start_time": "2022-10-01T18:39:51.803Z"
   },
   {
    "duration": 4,
    "start_time": "2022-10-01T18:39:51.822Z"
   },
   {
    "duration": 178,
    "start_time": "2022-10-01T18:39:51.827Z"
   },
   {
    "duration": 100,
    "start_time": "2022-10-01T18:39:52.006Z"
   },
   {
    "duration": 193,
    "start_time": "2022-10-01T18:39:52.108Z"
   },
   {
    "duration": 3,
    "start_time": "2022-10-01T18:39:52.305Z"
   },
   {
    "duration": 99,
    "start_time": "2022-10-01T18:39:52.310Z"
   },
   {
    "duration": 7,
    "start_time": "2022-10-01T18:39:52.410Z"
   },
   {
    "duration": 19,
    "start_time": "2022-10-01T18:39:52.418Z"
   },
   {
    "duration": 1004,
    "start_time": "2022-10-01T18:39:52.438Z"
   },
   {
    "duration": 1026,
    "start_time": "2022-10-01T18:39:53.445Z"
   },
   {
    "duration": 1029,
    "start_time": "2022-10-01T18:39:54.475Z"
   },
   {
    "duration": 1038,
    "start_time": "2022-10-01T18:40:40.255Z"
   },
   {
    "duration": 384,
    "start_time": "2022-10-01T18:40:41.295Z"
   },
   {
    "duration": 42,
    "start_time": "2022-10-01T18:40:41.680Z"
   },
   {
    "duration": 28,
    "start_time": "2022-10-01T18:40:41.724Z"
   },
   {
    "duration": 19,
    "start_time": "2022-10-01T18:40:41.754Z"
   },
   {
    "duration": 27,
    "start_time": "2022-10-01T18:40:41.774Z"
   },
   {
    "duration": 97,
    "start_time": "2022-10-01T18:40:41.803Z"
   },
   {
    "duration": 198,
    "start_time": "2022-10-01T18:40:41.902Z"
   },
   {
    "duration": 120,
    "start_time": "2022-10-01T18:40:42.102Z"
   },
   {
    "duration": 76,
    "start_time": "2022-10-01T18:40:42.224Z"
   },
   {
    "duration": 9,
    "start_time": "2022-10-01T18:40:42.303Z"
   },
   {
    "duration": 92,
    "start_time": "2022-10-01T18:40:42.314Z"
   },
   {
    "duration": 7,
    "start_time": "2022-10-01T18:40:42.409Z"
   },
   {
    "duration": 989,
    "start_time": "2022-10-01T18:40:42.418Z"
   },
   {
    "duration": 1033,
    "start_time": "2022-10-01T18:40:43.408Z"
   },
   {
    "duration": 1010,
    "start_time": "2022-10-01T18:40:44.443Z"
   },
   {
    "duration": 1061,
    "start_time": "2022-10-01T19:02:49.488Z"
   },
   {
    "duration": 341,
    "start_time": "2022-10-01T19:02:50.551Z"
   },
   {
    "duration": 27,
    "start_time": "2022-10-01T19:02:50.893Z"
   },
   {
    "duration": 27,
    "start_time": "2022-10-01T19:02:50.923Z"
   },
   {
    "duration": 19,
    "start_time": "2022-10-01T19:02:50.952Z"
   },
   {
    "duration": 29,
    "start_time": "2022-10-01T19:02:50.973Z"
   },
   {
    "duration": 106,
    "start_time": "2022-10-01T19:02:51.003Z"
   },
   {
    "duration": 200,
    "start_time": "2022-10-01T19:02:51.110Z"
   },
   {
    "duration": 110,
    "start_time": "2022-10-01T19:02:51.400Z"
   },
   {
    "duration": 89,
    "start_time": "2022-10-01T19:02:51.512Z"
   },
   {
    "duration": 7,
    "start_time": "2022-10-01T19:02:51.603Z"
   },
   {
    "duration": 4,
    "start_time": "2022-10-01T19:02:51.612Z"
   },
   {
    "duration": 7,
    "start_time": "2022-10-01T19:02:51.617Z"
   },
   {
    "duration": 1375,
    "start_time": "2022-10-01T19:02:51.626Z"
   },
   {
    "duration": 1449,
    "start_time": "2022-10-01T19:02:53.003Z"
   },
   {
    "duration": 1457,
    "start_time": "2022-10-01T19:02:54.455Z"
   },
   {
    "duration": 1068,
    "start_time": "2022-10-01T19:03:05.377Z"
   },
   {
    "duration": 332,
    "start_time": "2022-10-01T19:03:06.447Z"
   },
   {
    "duration": 29,
    "start_time": "2022-10-01T19:03:06.781Z"
   },
   {
    "duration": 21,
    "start_time": "2022-10-01T19:03:06.812Z"
   },
   {
    "duration": 21,
    "start_time": "2022-10-01T19:03:06.835Z"
   },
   {
    "duration": 5,
    "start_time": "2022-10-01T19:03:06.857Z"
   },
   {
    "duration": 138,
    "start_time": "2022-10-01T19:03:06.864Z"
   },
   {
    "duration": 199,
    "start_time": "2022-10-01T19:03:07.003Z"
   },
   {
    "duration": 118,
    "start_time": "2022-10-01T19:03:07.203Z"
   },
   {
    "duration": 90,
    "start_time": "2022-10-01T19:03:07.324Z"
   },
   {
    "duration": 22,
    "start_time": "2022-10-01T19:03:07.501Z"
   },
   {
    "duration": 15,
    "start_time": "2022-10-01T19:03:07.525Z"
   },
   {
    "duration": 36,
    "start_time": "2022-10-01T19:03:07.542Z"
   },
   {
    "duration": 1041,
    "start_time": "2022-10-01T19:03:07.580Z"
   },
   {
    "duration": 987,
    "start_time": "2022-10-01T19:03:08.623Z"
   },
   {
    "duration": 1028,
    "start_time": "2022-10-01T19:03:09.612Z"
   },
   {
    "duration": 1071,
    "start_time": "2022-10-01T19:18:28.762Z"
   },
   {
    "duration": 340,
    "start_time": "2022-10-01T19:18:29.835Z"
   },
   {
    "duration": 30,
    "start_time": "2022-10-01T19:18:30.177Z"
   },
   {
    "duration": 20,
    "start_time": "2022-10-01T19:18:30.209Z"
   },
   {
    "duration": 20,
    "start_time": "2022-10-01T19:18:30.231Z"
   },
   {
    "duration": 4,
    "start_time": "2022-10-01T19:18:30.253Z"
   },
   {
    "duration": 145,
    "start_time": "2022-10-01T19:18:30.259Z"
   },
   {
    "duration": 198,
    "start_time": "2022-10-01T19:18:30.405Z"
   },
   {
    "duration": 195,
    "start_time": "2022-10-01T19:18:30.605Z"
   },
   {
    "duration": 6,
    "start_time": "2022-10-01T19:18:30.804Z"
   },
   {
    "duration": 24,
    "start_time": "2022-10-01T19:18:30.904Z"
   },
   {
    "duration": 49,
    "start_time": "2022-10-01T19:18:30.930Z"
   },
   {
    "duration": 68,
    "start_time": "2022-10-01T19:18:30.981Z"
   },
   {
    "duration": 1038,
    "start_time": "2022-10-01T19:18:31.052Z"
   },
   {
    "duration": 978,
    "start_time": "2022-10-01T19:18:32.091Z"
   },
   {
    "duration": 1001,
    "start_time": "2022-10-01T19:18:33.071Z"
   },
   {
    "duration": 3,
    "start_time": "2022-10-01T19:36:32.356Z"
   },
   {
    "duration": 1056,
    "start_time": "2022-10-01T19:36:38.693Z"
   },
   {
    "duration": 1020,
    "start_time": "2022-10-01T19:36:43.080Z"
   },
   {
    "duration": 995,
    "start_time": "2022-10-01T19:36:46.208Z"
   },
   {
    "duration": 1158,
    "start_time": "2022-10-01T19:36:53.574Z"
   },
   {
    "duration": 371,
    "start_time": "2022-10-01T19:36:54.734Z"
   },
   {
    "duration": 25,
    "start_time": "2022-10-01T19:36:55.107Z"
   },
   {
    "duration": 19,
    "start_time": "2022-10-01T19:36:55.133Z"
   },
   {
    "duration": 18,
    "start_time": "2022-10-01T19:36:55.154Z"
   },
   {
    "duration": 5,
    "start_time": "2022-10-01T19:36:55.199Z"
   },
   {
    "duration": 99,
    "start_time": "2022-10-01T19:36:55.206Z"
   },
   {
    "duration": 139,
    "start_time": "2022-10-01T19:36:55.306Z"
   },
   {
    "duration": 116,
    "start_time": "2022-10-01T19:36:55.501Z"
   },
   {
    "duration": 82,
    "start_time": "2022-10-01T19:36:55.619Z"
   },
   {
    "duration": 97,
    "start_time": "2022-10-01T19:36:55.703Z"
   },
   {
    "duration": 6,
    "start_time": "2022-10-01T19:36:55.802Z"
   },
   {
    "duration": 7,
    "start_time": "2022-10-01T19:36:55.810Z"
   },
   {
    "duration": 1004,
    "start_time": "2022-10-01T19:36:55.819Z"
   },
   {
    "duration": 997,
    "start_time": "2022-10-01T19:36:56.825Z"
   },
   {
    "duration": 984,
    "start_time": "2022-10-01T19:36:57.823Z"
   },
   {
    "duration": 1051,
    "start_time": "2022-10-01T19:37:11.989Z"
   },
   {
    "duration": 333,
    "start_time": "2022-10-01T19:37:13.042Z"
   },
   {
    "duration": 31,
    "start_time": "2022-10-01T19:37:13.376Z"
   },
   {
    "duration": 19,
    "start_time": "2022-10-01T19:37:13.408Z"
   },
   {
    "duration": 37,
    "start_time": "2022-10-01T19:37:13.429Z"
   },
   {
    "duration": 4,
    "start_time": "2022-10-01T19:37:13.468Z"
   },
   {
    "duration": 129,
    "start_time": "2022-10-01T19:37:13.474Z"
   },
   {
    "duration": 196,
    "start_time": "2022-10-01T19:37:13.604Z"
   },
   {
    "duration": 197,
    "start_time": "2022-10-01T19:37:13.802Z"
   },
   {
    "duration": 3,
    "start_time": "2022-10-01T19:37:14.002Z"
   },
   {
    "duration": 105,
    "start_time": "2022-10-01T19:37:14.010Z"
   },
   {
    "duration": 20,
    "start_time": "2022-10-01T19:37:14.118Z"
   },
   {
    "duration": 23,
    "start_time": "2022-10-01T19:37:14.139Z"
   },
   {
    "duration": 1109,
    "start_time": "2022-10-01T19:37:14.164Z"
   },
   {
    "duration": 1000,
    "start_time": "2022-10-01T19:37:15.275Z"
   },
   {
    "duration": 924,
    "start_time": "2022-10-01T19:37:16.277Z"
   },
   {
    "duration": 1090,
    "start_time": "2022-10-01T19:37:33.828Z"
   },
   {
    "duration": 348,
    "start_time": "2022-10-01T19:37:34.920Z"
   },
   {
    "duration": 33,
    "start_time": "2022-10-01T19:37:35.269Z"
   },
   {
    "duration": 21,
    "start_time": "2022-10-01T19:37:35.303Z"
   },
   {
    "duration": 19,
    "start_time": "2022-10-01T19:37:35.329Z"
   },
   {
    "duration": 5,
    "start_time": "2022-10-01T19:37:35.349Z"
   },
   {
    "duration": 246,
    "start_time": "2022-10-01T19:37:35.355Z"
   },
   {
    "duration": 98,
    "start_time": "2022-10-01T19:37:35.603Z"
   },
   {
    "duration": 203,
    "start_time": "2022-10-01T19:37:35.703Z"
   },
   {
    "duration": 3,
    "start_time": "2022-10-01T19:37:35.908Z"
   },
   {
    "duration": 99,
    "start_time": "2022-10-01T19:37:35.912Z"
   },
   {
    "duration": 25,
    "start_time": "2022-10-01T19:37:36.013Z"
   },
   {
    "duration": 12,
    "start_time": "2022-10-01T19:37:36.040Z"
   },
   {
    "duration": 996,
    "start_time": "2022-10-01T19:37:36.055Z"
   },
   {
    "duration": 957,
    "start_time": "2022-10-01T19:37:37.052Z"
   },
   {
    "duration": 962,
    "start_time": "2022-10-01T19:37:38.011Z"
   },
   {
    "duration": 1002,
    "start_time": "2022-10-01T19:37:50.545Z"
   },
   {
    "duration": 332,
    "start_time": "2022-10-01T19:37:51.548Z"
   },
   {
    "duration": 28,
    "start_time": "2022-10-01T19:37:51.881Z"
   },
   {
    "duration": 19,
    "start_time": "2022-10-01T19:37:51.910Z"
   },
   {
    "duration": 17,
    "start_time": "2022-10-01T19:37:51.930Z"
   },
   {
    "duration": 4,
    "start_time": "2022-10-01T19:37:51.949Z"
   },
   {
    "duration": 149,
    "start_time": "2022-10-01T19:37:51.954Z"
   },
   {
    "duration": 196,
    "start_time": "2022-10-01T19:37:52.105Z"
   },
   {
    "duration": 198,
    "start_time": "2022-10-01T19:37:52.304Z"
   },
   {
    "duration": 4,
    "start_time": "2022-10-01T19:37:52.504Z"
   },
   {
    "duration": 105,
    "start_time": "2022-10-01T19:37:52.509Z"
   },
   {
    "duration": 10,
    "start_time": "2022-10-01T19:37:52.616Z"
   },
   {
    "duration": 13,
    "start_time": "2022-10-01T19:37:52.628Z"
   },
   {
    "duration": 998,
    "start_time": "2022-10-01T19:37:52.642Z"
   },
   {
    "duration": 1117,
    "start_time": "2022-10-01T19:37:53.642Z"
   },
   {
    "duration": 991,
    "start_time": "2022-10-01T19:37:54.761Z"
   },
   {
    "duration": 995,
    "start_time": "2022-10-01T19:38:22.141Z"
   },
   {
    "duration": 382,
    "start_time": "2022-10-01T19:38:23.137Z"
   },
   {
    "duration": 26,
    "start_time": "2022-10-01T19:38:23.520Z"
   },
   {
    "duration": 20,
    "start_time": "2022-10-01T19:38:23.547Z"
   },
   {
    "duration": 58,
    "start_time": "2022-10-01T19:38:23.568Z"
   },
   {
    "duration": 5,
    "start_time": "2022-10-01T19:38:23.628Z"
   },
   {
    "duration": 169,
    "start_time": "2022-10-01T19:38:23.635Z"
   },
   {
    "duration": 100,
    "start_time": "2022-10-01T19:38:23.805Z"
   },
   {
    "duration": 121,
    "start_time": "2022-10-01T19:38:23.906Z"
   },
   {
    "duration": 3,
    "start_time": "2022-10-01T19:38:24.105Z"
   },
   {
    "duration": 122,
    "start_time": "2022-10-01T19:38:24.113Z"
   },
   {
    "duration": 15,
    "start_time": "2022-10-01T19:38:24.237Z"
   },
   {
    "duration": 9,
    "start_time": "2022-10-01T19:38:24.253Z"
   },
   {
    "duration": 1119,
    "start_time": "2022-10-01T19:38:24.265Z"
   },
   {
    "duration": 996,
    "start_time": "2022-10-01T19:38:25.385Z"
   },
   {
    "duration": 915,
    "start_time": "2022-10-01T19:38:26.383Z"
   },
   {
    "duration": 1062,
    "start_time": "2022-10-01T19:42:05.788Z"
   },
   {
    "duration": 369,
    "start_time": "2022-10-01T19:42:06.852Z"
   },
   {
    "duration": 26,
    "start_time": "2022-10-01T19:42:07.223Z"
   },
   {
    "duration": 22,
    "start_time": "2022-10-01T19:42:07.251Z"
   },
   {
    "duration": 50,
    "start_time": "2022-10-01T19:42:07.276Z"
   },
   {
    "duration": 5,
    "start_time": "2022-10-01T19:42:07.327Z"
   },
   {
    "duration": 76,
    "start_time": "2022-10-01T19:42:07.334Z"
   },
   {
    "duration": 195,
    "start_time": "2022-10-01T19:42:07.411Z"
   },
   {
    "duration": 198,
    "start_time": "2022-10-01T19:42:07.615Z"
   },
   {
    "duration": 106,
    "start_time": "2022-10-01T19:42:07.814Z"
   },
   {
    "duration": 7,
    "start_time": "2022-10-01T19:42:07.921Z"
   },
   {
    "duration": 17,
    "start_time": "2022-10-01T19:42:07.929Z"
   },
   {
    "duration": 19,
    "start_time": "2022-10-01T19:42:07.948Z"
   },
   {
    "duration": 1032,
    "start_time": "2022-10-01T19:42:07.970Z"
   },
   {
    "duration": 1068,
    "start_time": "2022-10-01T19:42:09.007Z"
   },
   {
    "duration": 1017,
    "start_time": "2022-10-01T19:42:10.076Z"
   },
   {
    "duration": 1114,
    "start_time": "2022-10-01T19:42:27.427Z"
   },
   {
    "duration": 358,
    "start_time": "2022-10-01T19:42:28.543Z"
   },
   {
    "duration": 29,
    "start_time": "2022-10-01T19:42:28.907Z"
   },
   {
    "duration": 20,
    "start_time": "2022-10-01T19:42:28.938Z"
   },
   {
    "duration": 43,
    "start_time": "2022-10-01T19:42:28.960Z"
   },
   {
    "duration": 8,
    "start_time": "2022-10-01T19:42:29.005Z"
   },
   {
    "duration": 113,
    "start_time": "2022-10-01T19:42:29.016Z"
   },
   {
    "duration": 113,
    "start_time": "2022-10-01T19:42:29.135Z"
   },
   {
    "duration": 121,
    "start_time": "2022-10-01T19:42:29.300Z"
   },
   {
    "duration": 5,
    "start_time": "2022-10-01T19:42:29.427Z"
   },
   {
    "duration": 112,
    "start_time": "2022-10-01T19:42:29.433Z"
   },
   {
    "duration": 16,
    "start_time": "2022-10-01T19:42:29.547Z"
   },
   {
    "duration": 10,
    "start_time": "2022-10-01T19:42:29.564Z"
   },
   {
    "duration": 1117,
    "start_time": "2022-10-01T19:42:29.576Z"
   },
   {
    "duration": 1005,
    "start_time": "2022-10-01T19:42:30.695Z"
   },
   {
    "duration": 1065,
    "start_time": "2022-10-01T19:42:31.703Z"
   },
   {
    "duration": 1009,
    "start_time": "2022-10-01T19:44:36.358Z"
   },
   {
    "duration": 386,
    "start_time": "2022-10-01T19:44:37.368Z"
   },
   {
    "duration": 30,
    "start_time": "2022-10-01T19:44:37.755Z"
   },
   {
    "duration": 30,
    "start_time": "2022-10-01T19:44:37.803Z"
   },
   {
    "duration": 30,
    "start_time": "2022-10-01T19:44:37.835Z"
   },
   {
    "duration": 5,
    "start_time": "2022-10-01T19:44:37.868Z"
   },
   {
    "duration": 132,
    "start_time": "2022-10-01T19:44:37.875Z"
   },
   {
    "duration": 206,
    "start_time": "2022-10-01T19:44:38.010Z"
   },
   {
    "duration": 210,
    "start_time": "2022-10-01T19:44:38.219Z"
   },
   {
    "duration": 75,
    "start_time": "2022-10-01T19:44:38.435Z"
   },
   {
    "duration": 26,
    "start_time": "2022-10-01T19:44:38.512Z"
   },
   {
    "duration": 12,
    "start_time": "2022-10-01T19:44:38.539Z"
   },
   {
    "duration": 9,
    "start_time": "2022-10-01T19:44:38.552Z"
   },
   {
    "duration": 111,
    "start_time": "2022-10-01T19:44:38.562Z"
   },
   {
    "duration": 0,
    "start_time": "2022-10-01T19:44:38.674Z"
   },
   {
    "duration": 0,
    "start_time": "2022-10-01T19:44:38.676Z"
   },
   {
    "duration": 1206,
    "start_time": "2022-10-01T19:44:47.830Z"
   },
   {
    "duration": 375,
    "start_time": "2022-10-01T19:44:49.040Z"
   },
   {
    "duration": 36,
    "start_time": "2022-10-01T19:44:49.416Z"
   },
   {
    "duration": 20,
    "start_time": "2022-10-01T19:44:49.455Z"
   },
   {
    "duration": 44,
    "start_time": "2022-10-01T19:44:49.477Z"
   },
   {
    "duration": 4,
    "start_time": "2022-10-01T19:44:49.523Z"
   },
   {
    "duration": 80,
    "start_time": "2022-10-01T19:44:49.529Z"
   },
   {
    "duration": 190,
    "start_time": "2022-10-01T19:44:49.611Z"
   },
   {
    "duration": 124,
    "start_time": "2022-10-01T19:44:49.803Z"
   },
   {
    "duration": 76,
    "start_time": "2022-10-01T19:44:49.929Z"
   },
   {
    "duration": 98,
    "start_time": "2022-10-01T19:44:50.007Z"
   },
   {
    "duration": 28,
    "start_time": "2022-10-01T19:44:50.107Z"
   },
   {
    "duration": 21,
    "start_time": "2022-10-01T19:44:50.137Z"
   },
   {
    "duration": 1718,
    "start_time": "2022-10-01T19:44:50.160Z"
   },
   {
    "duration": 1759,
    "start_time": "2022-10-01T19:44:51.879Z"
   },
   {
    "duration": 1706,
    "start_time": "2022-10-01T19:44:53.640Z"
   },
   {
    "duration": 90,
    "start_time": "2022-10-01T19:49:07.648Z"
   },
   {
    "duration": 12,
    "start_time": "2022-10-01T19:49:11.811Z"
   },
   {
    "duration": 9,
    "start_time": "2022-10-01T19:49:15.456Z"
   },
   {
    "duration": 1019,
    "start_time": "2022-10-01T19:55:48.619Z"
   },
   {
    "duration": 346,
    "start_time": "2022-10-01T19:55:49.640Z"
   },
   {
    "duration": 28,
    "start_time": "2022-10-01T19:55:49.988Z"
   },
   {
    "duration": 20,
    "start_time": "2022-10-01T19:55:50.017Z"
   },
   {
    "duration": 20,
    "start_time": "2022-10-01T19:55:50.039Z"
   },
   {
    "duration": 4,
    "start_time": "2022-10-01T19:55:50.061Z"
   },
   {
    "duration": 136,
    "start_time": "2022-10-01T19:55:50.066Z"
   },
   {
    "duration": 209,
    "start_time": "2022-10-01T19:55:50.203Z"
   },
   {
    "duration": 103,
    "start_time": "2022-10-01T19:55:50.499Z"
   },
   {
    "duration": 3,
    "start_time": "2022-10-01T19:55:50.604Z"
   },
   {
    "duration": 94,
    "start_time": "2022-10-01T19:55:50.609Z"
   },
   {
    "duration": 6,
    "start_time": "2022-10-01T19:55:50.705Z"
   },
   {
    "duration": 9,
    "start_time": "2022-10-01T19:55:50.713Z"
   },
   {
    "duration": 1039,
    "start_time": "2022-10-01T19:55:50.726Z"
   },
   {
    "duration": 1056,
    "start_time": "2022-10-01T19:55:51.767Z"
   },
   {
    "duration": 1028,
    "start_time": "2022-10-01T19:55:52.825Z"
   },
   {
    "duration": 1549,
    "start_time": "2022-10-01T19:57:23.683Z"
   },
   {
    "duration": 374,
    "start_time": "2022-10-01T19:57:25.234Z"
   },
   {
    "duration": 31,
    "start_time": "2022-10-01T19:57:25.609Z"
   },
   {
    "duration": 27,
    "start_time": "2022-10-01T19:57:25.642Z"
   },
   {
    "duration": 49,
    "start_time": "2022-10-01T19:57:25.672Z"
   },
   {
    "duration": 5,
    "start_time": "2022-10-01T19:57:25.722Z"
   },
   {
    "duration": 80,
    "start_time": "2022-10-01T19:57:25.728Z"
   },
   {
    "duration": 191,
    "start_time": "2022-10-01T19:57:25.811Z"
   },
   {
    "duration": 201,
    "start_time": "2022-10-01T19:57:26.008Z"
   },
   {
    "duration": 5,
    "start_time": "2022-10-01T19:57:26.212Z"
   },
   {
    "duration": 92,
    "start_time": "2022-10-01T19:57:26.220Z"
   },
   {
    "duration": 4,
    "start_time": "2022-10-01T19:57:26.314Z"
   },
   {
    "duration": 11,
    "start_time": "2022-10-01T19:57:26.320Z"
   },
   {
    "duration": 1054,
    "start_time": "2022-10-01T19:57:26.336Z"
   },
   {
    "duration": 997,
    "start_time": "2022-10-01T19:57:27.392Z"
   },
   {
    "duration": 1061,
    "start_time": "2022-10-01T19:57:28.390Z"
   },
   {
    "duration": 1011,
    "start_time": "2022-10-01T20:01:59.550Z"
   },
   {
    "duration": 376,
    "start_time": "2022-10-01T20:02:00.563Z"
   },
   {
    "duration": 26,
    "start_time": "2022-10-01T20:02:00.941Z"
   },
   {
    "duration": 42,
    "start_time": "2022-10-01T20:02:00.969Z"
   },
   {
    "duration": 24,
    "start_time": "2022-10-01T20:02:01.013Z"
   },
   {
    "duration": 12,
    "start_time": "2022-10-01T20:02:01.039Z"
   },
   {
    "duration": 76,
    "start_time": "2022-10-01T20:02:01.053Z"
   },
   {
    "duration": 127,
    "start_time": "2022-10-01T20:02:01.201Z"
   },
   {
    "duration": 125,
    "start_time": "2022-10-01T20:02:01.400Z"
   },
   {
    "duration": 81,
    "start_time": "2022-10-01T20:02:01.529Z"
   },
   {
    "duration": 112,
    "start_time": "2022-10-01T20:02:01.611Z"
   },
   {
    "duration": 7,
    "start_time": "2022-10-01T20:02:01.724Z"
   },
   {
    "duration": 20,
    "start_time": "2022-10-01T20:02:01.733Z"
   },
   {
    "duration": 1028,
    "start_time": "2022-10-01T20:02:01.755Z"
   },
   {
    "duration": 1032,
    "start_time": "2022-10-01T20:02:02.785Z"
   },
   {
    "duration": 1172,
    "start_time": "2022-10-01T20:02:03.822Z"
   },
   {
    "duration": 1263,
    "start_time": "2022-10-01T20:06:28.525Z"
   },
   {
    "duration": 385,
    "start_time": "2022-10-01T20:06:29.790Z"
   },
   {
    "duration": 36,
    "start_time": "2022-10-01T20:06:30.176Z"
   },
   {
    "duration": 20,
    "start_time": "2022-10-01T20:06:30.219Z"
   },
   {
    "duration": 25,
    "start_time": "2022-10-01T20:06:30.241Z"
   },
   {
    "duration": 6,
    "start_time": "2022-10-01T20:06:30.268Z"
   },
   {
    "duration": 145,
    "start_time": "2022-10-01T20:06:30.275Z"
   },
   {
    "duration": 197,
    "start_time": "2022-10-01T20:06:30.422Z"
   },
   {
    "duration": 201,
    "start_time": "2022-10-01T20:06:30.621Z"
   },
   {
    "duration": 77,
    "start_time": "2022-10-01T20:06:30.825Z"
   },
   {
    "duration": 25,
    "start_time": "2022-10-01T20:06:30.911Z"
   },
   {
    "duration": 10,
    "start_time": "2022-10-01T20:06:30.937Z"
   },
   {
    "duration": 19,
    "start_time": "2022-10-01T20:06:30.948Z"
   },
   {
    "duration": 995,
    "start_time": "2022-10-01T20:06:30.969Z"
   },
   {
    "duration": 979,
    "start_time": "2022-10-01T20:06:31.965Z"
   },
   {
    "duration": 1013,
    "start_time": "2022-10-01T20:06:32.946Z"
   },
   {
    "duration": 1124,
    "start_time": "2022-10-01T20:12:06.761Z"
   },
   {
    "duration": 384,
    "start_time": "2022-10-01T20:12:07.887Z"
   },
   {
    "duration": 45,
    "start_time": "2022-10-01T20:12:08.273Z"
   },
   {
    "duration": 19,
    "start_time": "2022-10-01T20:12:08.320Z"
   },
   {
    "duration": 21,
    "start_time": "2022-10-01T20:12:08.341Z"
   },
   {
    "duration": 5,
    "start_time": "2022-10-01T20:12:08.364Z"
   },
   {
    "duration": 132,
    "start_time": "2022-10-01T20:12:08.371Z"
   },
   {
    "duration": 111,
    "start_time": "2022-10-01T20:12:08.506Z"
   },
   {
    "duration": 284,
    "start_time": "2022-10-01T20:12:08.620Z"
   },
   {
    "duration": 2,
    "start_time": "2022-10-01T20:12:08.906Z"
   },
   {
    "duration": 112,
    "start_time": "2022-10-01T20:12:08.910Z"
   },
   {
    "duration": 16,
    "start_time": "2022-10-01T20:12:09.024Z"
   },
   {
    "duration": 16,
    "start_time": "2022-10-01T20:12:09.041Z"
   },
   {
    "duration": 1026,
    "start_time": "2022-10-01T20:12:09.059Z"
   },
   {
    "duration": 954,
    "start_time": "2022-10-01T20:12:10.087Z"
   },
   {
    "duration": 1074,
    "start_time": "2022-10-01T20:12:11.043Z"
   },
   {
    "duration": 1021,
    "start_time": "2022-10-01T20:17:52.606Z"
   },
   {
    "duration": 349,
    "start_time": "2022-10-01T20:17:53.629Z"
   },
   {
    "duration": 37,
    "start_time": "2022-10-01T20:17:53.980Z"
   },
   {
    "duration": 26,
    "start_time": "2022-10-01T20:17:54.020Z"
   },
   {
    "duration": 19,
    "start_time": "2022-10-01T20:17:54.048Z"
   },
   {
    "duration": 5,
    "start_time": "2022-10-01T20:17:54.069Z"
   },
   {
    "duration": 126,
    "start_time": "2022-10-01T20:17:54.075Z"
   },
   {
    "duration": 201,
    "start_time": "2022-10-01T20:17:54.203Z"
   },
   {
    "duration": 110,
    "start_time": "2022-10-01T20:17:54.410Z"
   },
   {
    "duration": 107,
    "start_time": "2022-10-01T20:17:54.528Z"
   },
   {
    "duration": 68,
    "start_time": "2022-10-01T20:17:54.638Z"
   },
   {
    "duration": 17,
    "start_time": "2022-10-01T20:17:54.709Z"
   },
   {
    "duration": 12,
    "start_time": "2022-10-01T20:17:54.728Z"
   },
   {
    "duration": 1062,
    "start_time": "2022-10-01T20:17:54.742Z"
   },
   {
    "duration": 1004,
    "start_time": "2022-10-01T20:17:55.806Z"
   },
   {
    "duration": 986,
    "start_time": "2022-10-01T20:17:56.813Z"
   },
   {
    "duration": 1133,
    "start_time": "2022-10-01T20:38:46.309Z"
   },
   {
    "duration": 348,
    "start_time": "2022-10-01T20:38:47.444Z"
   },
   {
    "duration": 26,
    "start_time": "2022-10-01T20:38:47.794Z"
   },
   {
    "duration": 19,
    "start_time": "2022-10-01T20:38:47.822Z"
   },
   {
    "duration": 22,
    "start_time": "2022-10-01T20:38:47.842Z"
   },
   {
    "duration": 4,
    "start_time": "2022-10-01T20:38:47.865Z"
   },
   {
    "duration": 104,
    "start_time": "2022-10-01T20:38:47.900Z"
   },
   {
    "duration": 196,
    "start_time": "2022-10-01T20:38:48.005Z"
   },
   {
    "duration": 199,
    "start_time": "2022-10-01T20:38:48.204Z"
   },
   {
    "duration": 3,
    "start_time": "2022-10-01T20:38:48.405Z"
   },
   {
    "duration": 101,
    "start_time": "2022-10-01T20:38:48.409Z"
   },
   {
    "duration": 6,
    "start_time": "2022-10-01T20:38:48.511Z"
   },
   {
    "duration": 9,
    "start_time": "2022-10-01T20:38:48.519Z"
   },
   {
    "duration": 976,
    "start_time": "2022-10-01T20:38:48.529Z"
   },
   {
    "duration": 960,
    "start_time": "2022-10-01T20:38:49.507Z"
   },
   {
    "duration": 980,
    "start_time": "2022-10-01T20:38:50.468Z"
   },
   {
    "duration": 1061,
    "start_time": "2022-10-01T20:39:45.221Z"
   },
   {
    "duration": 334,
    "start_time": "2022-10-01T20:39:46.284Z"
   },
   {
    "duration": 31,
    "start_time": "2022-10-01T20:39:46.623Z"
   },
   {
    "duration": 18,
    "start_time": "2022-10-01T20:39:46.655Z"
   },
   {
    "duration": 33,
    "start_time": "2022-10-01T20:39:46.675Z"
   },
   {
    "duration": 4,
    "start_time": "2022-10-01T20:39:46.710Z"
   },
   {
    "duration": 89,
    "start_time": "2022-10-01T20:39:46.715Z"
   },
   {
    "duration": 195,
    "start_time": "2022-10-01T20:39:46.806Z"
   },
   {
    "duration": 202,
    "start_time": "2022-10-01T20:39:47.003Z"
   },
   {
    "duration": 3,
    "start_time": "2022-10-01T20:39:47.206Z"
   },
   {
    "duration": 4,
    "start_time": "2022-10-01T20:39:47.301Z"
   },
   {
    "duration": 8,
    "start_time": "2022-10-01T20:39:47.306Z"
   },
   {
    "duration": 8,
    "start_time": "2022-10-01T20:39:47.316Z"
   },
   {
    "duration": 1039,
    "start_time": "2022-10-01T20:39:47.326Z"
   },
   {
    "duration": 1035,
    "start_time": "2022-10-01T20:39:48.366Z"
   },
   {
    "duration": 1076,
    "start_time": "2022-10-01T20:39:49.403Z"
   },
   {
    "duration": 1054,
    "start_time": "2022-10-01T20:40:25.187Z"
   },
   {
    "duration": 328,
    "start_time": "2022-10-01T20:40:26.243Z"
   },
   {
    "duration": 31,
    "start_time": "2022-10-01T20:40:26.573Z"
   },
   {
    "duration": 17,
    "start_time": "2022-10-01T20:40:26.606Z"
   },
   {
    "duration": 17,
    "start_time": "2022-10-01T20:40:26.625Z"
   },
   {
    "duration": 4,
    "start_time": "2022-10-01T20:40:26.643Z"
   },
   {
    "duration": 57,
    "start_time": "2022-10-01T20:40:26.648Z"
   },
   {
    "duration": 196,
    "start_time": "2022-10-01T20:40:26.707Z"
   },
   {
    "duration": 197,
    "start_time": "2022-10-01T20:40:26.905Z"
   },
   {
    "duration": 3,
    "start_time": "2022-10-01T20:40:27.103Z"
   },
   {
    "duration": 98,
    "start_time": "2022-10-01T20:40:27.108Z"
   },
   {
    "duration": 6,
    "start_time": "2022-10-01T20:40:27.208Z"
   },
   {
    "duration": 7,
    "start_time": "2022-10-01T20:40:27.216Z"
   },
   {
    "duration": 1029,
    "start_time": "2022-10-01T20:40:27.226Z"
   },
   {
    "duration": 973,
    "start_time": "2022-10-01T20:40:28.256Z"
   },
   {
    "duration": 1094,
    "start_time": "2022-10-01T20:40:29.231Z"
   },
   {
    "duration": 1027,
    "start_time": "2022-10-01T20:41:30.134Z"
   },
   {
    "duration": 346,
    "start_time": "2022-10-01T20:41:31.163Z"
   },
   {
    "duration": 25,
    "start_time": "2022-10-01T20:41:31.512Z"
   },
   {
    "duration": 18,
    "start_time": "2022-10-01T20:41:31.539Z"
   },
   {
    "duration": 18,
    "start_time": "2022-10-01T20:41:31.558Z"
   },
   {
    "duration": 4,
    "start_time": "2022-10-01T20:41:31.600Z"
   },
   {
    "duration": 102,
    "start_time": "2022-10-01T20:41:31.606Z"
   },
   {
    "duration": 195,
    "start_time": "2022-10-01T20:41:31.709Z"
   },
   {
    "duration": 196,
    "start_time": "2022-10-01T20:41:31.905Z"
   },
   {
    "duration": 3,
    "start_time": "2022-10-01T20:41:32.103Z"
   },
   {
    "duration": 99,
    "start_time": "2022-10-01T20:41:32.108Z"
   },
   {
    "duration": 9,
    "start_time": "2022-10-01T20:41:32.208Z"
   },
   {
    "duration": 6,
    "start_time": "2022-10-01T20:41:32.219Z"
   },
   {
    "duration": 977,
    "start_time": "2022-10-01T20:41:32.227Z"
   },
   {
    "duration": 965,
    "start_time": "2022-10-01T20:41:33.206Z"
   },
   {
    "duration": 1004,
    "start_time": "2022-10-01T20:41:34.173Z"
   },
   {
    "duration": 1178,
    "start_time": "2022-10-01T20:41:53.595Z"
   },
   {
    "duration": 337,
    "start_time": "2022-10-01T20:41:54.775Z"
   },
   {
    "duration": 25,
    "start_time": "2022-10-01T20:41:55.113Z"
   },
   {
    "duration": 18,
    "start_time": "2022-10-01T20:41:55.140Z"
   },
   {
    "duration": 19,
    "start_time": "2022-10-01T20:41:55.159Z"
   },
   {
    "duration": 4,
    "start_time": "2022-10-01T20:41:55.200Z"
   },
   {
    "duration": 102,
    "start_time": "2022-10-01T20:41:55.206Z"
   },
   {
    "duration": 192,
    "start_time": "2022-10-01T20:41:55.310Z"
   },
   {
    "duration": 119,
    "start_time": "2022-10-01T20:41:55.504Z"
   },
   {
    "duration": 3,
    "start_time": "2022-10-01T20:41:55.702Z"
   },
   {
    "duration": 100,
    "start_time": "2022-10-01T20:41:55.707Z"
   },
   {
    "duration": 4,
    "start_time": "2022-10-01T20:41:55.809Z"
   },
   {
    "duration": 7,
    "start_time": "2022-10-01T20:41:55.814Z"
   },
   {
    "duration": 1037,
    "start_time": "2022-10-01T20:41:55.823Z"
   },
   {
    "duration": 1007,
    "start_time": "2022-10-01T20:41:56.862Z"
   },
   {
    "duration": 1034,
    "start_time": "2022-10-01T20:41:57.871Z"
   },
   {
    "duration": 1044,
    "start_time": "2022-10-01T20:42:43.098Z"
   },
   {
    "duration": 389,
    "start_time": "2022-10-01T20:42:44.144Z"
   },
   {
    "duration": 35,
    "start_time": "2022-10-01T20:42:44.536Z"
   },
   {
    "duration": 40,
    "start_time": "2022-10-01T20:42:44.572Z"
   },
   {
    "duration": 27,
    "start_time": "2022-10-01T20:42:44.615Z"
   },
   {
    "duration": 5,
    "start_time": "2022-10-01T20:42:44.644Z"
   },
   {
    "duration": 60,
    "start_time": "2022-10-01T20:42:44.650Z"
   },
   {
    "duration": 201,
    "start_time": "2022-10-01T20:42:44.712Z"
   },
   {
    "duration": 106,
    "start_time": "2022-10-01T20:42:45.001Z"
   },
   {
    "duration": 93,
    "start_time": "2022-10-01T20:42:45.108Z"
   },
   {
    "duration": 7,
    "start_time": "2022-10-01T20:42:45.203Z"
   },
   {
    "duration": 4,
    "start_time": "2022-10-01T20:42:45.212Z"
   },
   {
    "duration": 7,
    "start_time": "2022-10-01T20:42:45.218Z"
   },
   {
    "duration": 1103,
    "start_time": "2022-10-01T20:42:45.227Z"
   },
   {
    "duration": 1095,
    "start_time": "2022-10-01T20:42:46.332Z"
   },
   {
    "duration": 1057,
    "start_time": "2022-10-01T20:42:47.429Z"
   },
   {
    "duration": 1066,
    "start_time": "2022-10-01T20:43:01.612Z"
   },
   {
    "duration": 362,
    "start_time": "2022-10-01T20:43:02.679Z"
   },
   {
    "duration": 28,
    "start_time": "2022-10-01T20:43:03.043Z"
   },
   {
    "duration": 38,
    "start_time": "2022-10-01T20:43:03.072Z"
   },
   {
    "duration": 23,
    "start_time": "2022-10-01T20:43:03.112Z"
   },
   {
    "duration": 4,
    "start_time": "2022-10-01T20:43:03.137Z"
   },
   {
    "duration": 69,
    "start_time": "2022-10-01T20:43:03.143Z"
   },
   {
    "duration": 192,
    "start_time": "2022-10-01T20:43:03.215Z"
   },
   {
    "duration": 199,
    "start_time": "2022-10-01T20:43:03.409Z"
   },
   {
    "duration": 91,
    "start_time": "2022-10-01T20:43:03.612Z"
   },
   {
    "duration": 16,
    "start_time": "2022-10-01T20:43:03.710Z"
   },
   {
    "duration": 7,
    "start_time": "2022-10-01T20:43:03.728Z"
   },
   {
    "duration": 10,
    "start_time": "2022-10-01T20:43:03.737Z"
   },
   {
    "duration": 1123,
    "start_time": "2022-10-01T20:43:03.750Z"
   },
   {
    "duration": 1034,
    "start_time": "2022-10-01T20:43:04.875Z"
   },
   {
    "duration": 1005,
    "start_time": "2022-10-01T20:43:05.911Z"
   },
   {
    "duration": 997,
    "start_time": "2022-10-01T20:43:43.272Z"
   },
   {
    "duration": 421,
    "start_time": "2022-10-01T20:43:44.271Z"
   },
   {
    "duration": 36,
    "start_time": "2022-10-01T20:43:44.694Z"
   },
   {
    "duration": 18,
    "start_time": "2022-10-01T20:43:44.732Z"
   },
   {
    "duration": 19,
    "start_time": "2022-10-01T20:43:44.752Z"
   },
   {
    "duration": 42,
    "start_time": "2022-10-01T20:43:44.772Z"
   },
   {
    "duration": 90,
    "start_time": "2022-10-01T20:43:44.816Z"
   },
   {
    "duration": 193,
    "start_time": "2022-10-01T20:43:44.908Z"
   },
   {
    "duration": 200,
    "start_time": "2022-10-01T20:43:45.103Z"
   },
   {
    "duration": 104,
    "start_time": "2022-10-01T20:43:45.305Z"
   },
   {
    "duration": 6,
    "start_time": "2022-10-01T20:43:45.410Z"
   },
   {
    "duration": 10,
    "start_time": "2022-10-01T20:43:45.418Z"
   },
   {
    "duration": 8,
    "start_time": "2022-10-01T20:43:45.429Z"
   },
   {
    "duration": 1121,
    "start_time": "2022-10-01T20:43:45.440Z"
   },
   {
    "duration": 1077,
    "start_time": "2022-10-01T20:43:46.562Z"
   },
   {
    "duration": 1049,
    "start_time": "2022-10-01T20:43:47.640Z"
   },
   {
    "duration": 1081,
    "start_time": "2022-10-01T20:44:35.280Z"
   },
   {
    "duration": 364,
    "start_time": "2022-10-01T20:44:36.363Z"
   },
   {
    "duration": 26,
    "start_time": "2022-10-01T20:44:36.729Z"
   },
   {
    "duration": 21,
    "start_time": "2022-10-01T20:44:36.757Z"
   },
   {
    "duration": 23,
    "start_time": "2022-10-01T20:44:36.804Z"
   },
   {
    "duration": 5,
    "start_time": "2022-10-01T20:44:36.828Z"
   },
   {
    "duration": 75,
    "start_time": "2022-10-01T20:44:36.834Z"
   },
   {
    "duration": 114,
    "start_time": "2022-10-01T20:44:36.911Z"
   },
   {
    "duration": 202,
    "start_time": "2022-10-01T20:44:37.027Z"
   },
   {
    "duration": 5,
    "start_time": "2022-10-01T20:44:37.303Z"
   },
   {
    "duration": 107,
    "start_time": "2022-10-01T20:44:37.312Z"
   },
   {
    "duration": 15,
    "start_time": "2022-10-01T20:44:37.421Z"
   },
   {
    "duration": 9,
    "start_time": "2022-10-01T20:44:37.438Z"
   },
   {
    "duration": 1091,
    "start_time": "2022-10-01T20:44:37.450Z"
   },
   {
    "duration": 1038,
    "start_time": "2022-10-01T20:44:38.542Z"
   },
   {
    "duration": 986,
    "start_time": "2022-10-01T20:44:39.581Z"
   },
   {
    "duration": 1017,
    "start_time": "2022-10-01T20:44:56.335Z"
   },
   {
    "duration": 366,
    "start_time": "2022-10-01T20:44:57.354Z"
   },
   {
    "duration": 29,
    "start_time": "2022-10-01T20:44:57.722Z"
   },
   {
    "duration": 18,
    "start_time": "2022-10-01T20:44:57.753Z"
   },
   {
    "duration": 43,
    "start_time": "2022-10-01T20:44:57.773Z"
   },
   {
    "duration": 4,
    "start_time": "2022-10-01T20:44:57.817Z"
   },
   {
    "duration": 93,
    "start_time": "2022-10-01T20:44:57.823Z"
   },
   {
    "duration": 187,
    "start_time": "2022-10-01T20:44:57.917Z"
   },
   {
    "duration": 200,
    "start_time": "2022-10-01T20:44:58.105Z"
   },
   {
    "duration": 3,
    "start_time": "2022-10-01T20:44:58.309Z"
   },
   {
    "duration": 92,
    "start_time": "2022-10-01T20:44:58.313Z"
   },
   {
    "duration": 14,
    "start_time": "2022-10-01T20:44:58.406Z"
   },
   {
    "duration": 9,
    "start_time": "2022-10-01T20:44:58.421Z"
   },
   {
    "duration": 952,
    "start_time": "2022-10-01T20:44:58.432Z"
   },
   {
    "duration": 933,
    "start_time": "2022-10-01T20:44:59.386Z"
   },
   {
    "duration": 923,
    "start_time": "2022-10-01T20:45:00.320Z"
   },
   {
    "duration": 1026,
    "start_time": "2022-10-01T20:46:55.257Z"
   },
   {
    "duration": 345,
    "start_time": "2022-10-01T20:46:56.285Z"
   },
   {
    "duration": 29,
    "start_time": "2022-10-01T20:46:56.635Z"
   },
   {
    "duration": 38,
    "start_time": "2022-10-01T20:46:56.665Z"
   },
   {
    "duration": 21,
    "start_time": "2022-10-01T20:46:56.705Z"
   },
   {
    "duration": 5,
    "start_time": "2022-10-01T20:46:56.728Z"
   },
   {
    "duration": 72,
    "start_time": "2022-10-01T20:46:56.734Z"
   },
   {
    "duration": 193,
    "start_time": "2022-10-01T20:46:56.808Z"
   },
   {
    "duration": 200,
    "start_time": "2022-10-01T20:46:57.004Z"
   },
   {
    "duration": 2,
    "start_time": "2022-10-01T20:46:57.206Z"
   },
   {
    "duration": 6,
    "start_time": "2022-10-01T20:46:57.301Z"
   },
   {
    "duration": 4,
    "start_time": "2022-10-01T20:46:57.309Z"
   },
   {
    "duration": 7,
    "start_time": "2022-10-01T20:46:57.315Z"
   },
   {
    "duration": 992,
    "start_time": "2022-10-01T20:46:57.323Z"
   },
   {
    "duration": 984,
    "start_time": "2022-10-01T20:46:58.317Z"
   },
   {
    "duration": 958,
    "start_time": "2022-10-01T20:46:59.303Z"
   },
   {
    "duration": 4,
    "start_time": "2022-10-01T20:48:15.586Z"
   },
   {
    "duration": 1081,
    "start_time": "2022-10-01T20:48:23.644Z"
   },
   {
    "duration": 327,
    "start_time": "2022-10-01T20:48:24.726Z"
   },
   {
    "duration": 32,
    "start_time": "2022-10-01T20:48:25.055Z"
   },
   {
    "duration": 30,
    "start_time": "2022-10-01T20:48:25.089Z"
   },
   {
    "duration": 20,
    "start_time": "2022-10-01T20:48:25.121Z"
   },
   {
    "duration": 5,
    "start_time": "2022-10-01T20:48:25.142Z"
   },
   {
    "duration": 152,
    "start_time": "2022-10-01T20:48:25.149Z"
   },
   {
    "duration": 201,
    "start_time": "2022-10-01T20:48:25.303Z"
   },
   {
    "duration": 193,
    "start_time": "2022-10-01T20:48:25.508Z"
   },
   {
    "duration": 3,
    "start_time": "2022-10-01T20:48:25.706Z"
   },
   {
    "duration": 5,
    "start_time": "2022-10-01T20:48:25.801Z"
   },
   {
    "duration": 9,
    "start_time": "2022-10-01T20:48:25.807Z"
   },
   {
    "duration": 14,
    "start_time": "2022-10-01T20:48:25.818Z"
   },
   {
    "duration": 996,
    "start_time": "2022-10-01T20:48:25.834Z"
   },
   {
    "duration": 959,
    "start_time": "2022-10-01T20:48:26.832Z"
   },
   {
    "duration": 1023,
    "start_time": "2022-10-01T20:48:27.792Z"
   },
   {
    "duration": 1019,
    "start_time": "2022-10-01T20:50:51.057Z"
   },
   {
    "duration": 382,
    "start_time": "2022-10-01T20:50:52.078Z"
   },
   {
    "duration": 39,
    "start_time": "2022-10-01T20:50:52.461Z"
   },
   {
    "duration": 23,
    "start_time": "2022-10-01T20:50:52.502Z"
   },
   {
    "duration": 36,
    "start_time": "2022-10-01T20:50:52.527Z"
   },
   {
    "duration": 11,
    "start_time": "2022-10-01T20:50:52.564Z"
   },
   {
    "duration": 136,
    "start_time": "2022-10-01T20:50:52.576Z"
   },
   {
    "duration": 187,
    "start_time": "2022-10-01T20:50:52.714Z"
   },
   {
    "duration": 125,
    "start_time": "2022-10-01T20:50:52.904Z"
   },
   {
    "duration": 3,
    "start_time": "2022-10-01T20:50:53.111Z"
   },
   {
    "duration": 98,
    "start_time": "2022-10-01T20:50:53.116Z"
   },
   {
    "duration": 14,
    "start_time": "2022-10-01T20:50:53.216Z"
   },
   {
    "duration": 43,
    "start_time": "2022-10-01T20:50:53.231Z"
   },
   {
    "duration": 1073,
    "start_time": "2022-10-01T20:50:53.276Z"
   },
   {
    "duration": 1040,
    "start_time": "2022-10-01T20:50:54.351Z"
   },
   {
    "duration": 968,
    "start_time": "2022-10-01T20:50:55.393Z"
   },
   {
    "duration": 1133,
    "start_time": "2022-10-02T08:05:48.743Z"
   },
   {
    "duration": 742,
    "start_time": "2022-10-02T08:05:49.878Z"
   },
   {
    "duration": 29,
    "start_time": "2022-10-02T08:05:50.624Z"
   },
   {
    "duration": 23,
    "start_time": "2022-10-02T08:05:50.656Z"
   },
   {
    "duration": 48,
    "start_time": "2022-10-02T08:05:50.681Z"
   },
   {
    "duration": 5,
    "start_time": "2022-10-02T08:05:50.730Z"
   },
   {
    "duration": 88,
    "start_time": "2022-10-02T08:05:50.737Z"
   },
   {
    "duration": 198,
    "start_time": "2022-10-02T08:05:50.826Z"
   },
   {
    "duration": 198,
    "start_time": "2022-10-02T08:05:51.026Z"
   },
   {
    "duration": 98,
    "start_time": "2022-10-02T08:05:51.229Z"
   },
   {
    "duration": 55,
    "start_time": "2022-10-02T08:05:51.329Z"
   },
   {
    "duration": 34,
    "start_time": "2022-10-02T08:05:51.385Z"
   },
   {
    "duration": 39,
    "start_time": "2022-10-02T08:05:51.422Z"
   },
   {
    "duration": 1072,
    "start_time": "2022-10-02T08:05:51.463Z"
   },
   {
    "duration": 1070,
    "start_time": "2022-10-02T08:05:52.537Z"
   },
   {
    "duration": 1068,
    "start_time": "2022-10-02T08:05:53.609Z"
   },
   {
    "duration": 1206,
    "start_time": "2022-10-02T08:39:56.189Z"
   },
   {
    "duration": 389,
    "start_time": "2022-10-02T08:39:57.397Z"
   },
   {
    "duration": 47,
    "start_time": "2022-10-02T08:39:57.788Z"
   },
   {
    "duration": 29,
    "start_time": "2022-10-02T08:39:57.838Z"
   },
   {
    "duration": 44,
    "start_time": "2022-10-02T08:39:57.870Z"
   },
   {
    "duration": 15,
    "start_time": "2022-10-02T08:39:57.916Z"
   },
   {
    "duration": 92,
    "start_time": "2022-10-02T08:39:57.933Z"
   },
   {
    "duration": 196,
    "start_time": "2022-10-02T08:39:58.027Z"
   },
   {
    "duration": 200,
    "start_time": "2022-10-02T08:39:58.226Z"
   },
   {
    "duration": 5,
    "start_time": "2022-10-02T08:39:58.431Z"
   },
   {
    "duration": 10,
    "start_time": "2022-10-02T08:39:58.523Z"
   },
   {
    "duration": 23,
    "start_time": "2022-10-02T08:39:58.536Z"
   },
   {
    "duration": 14,
    "start_time": "2022-10-02T08:39:58.562Z"
   },
   {
    "duration": 1370,
    "start_time": "2022-10-02T08:39:58.578Z"
   },
   {
    "duration": 1181,
    "start_time": "2022-10-02T08:39:59.950Z"
   },
   {
    "duration": 1201,
    "start_time": "2022-10-02T08:40:01.134Z"
   },
   {
    "duration": 1236,
    "start_time": "2022-10-02T08:41:29.639Z"
   },
   {
    "duration": 407,
    "start_time": "2022-10-02T08:41:30.877Z"
   },
   {
    "duration": 42,
    "start_time": "2022-10-02T08:41:31.286Z"
   },
   {
    "duration": 28,
    "start_time": "2022-10-02T08:41:31.330Z"
   },
   {
    "duration": 27,
    "start_time": "2022-10-02T08:41:31.360Z"
   },
   {
    "duration": 5,
    "start_time": "2022-10-02T08:41:31.389Z"
   },
   {
    "duration": 129,
    "start_time": "2022-10-02T08:41:31.395Z"
   },
   {
    "duration": 196,
    "start_time": "2022-10-02T08:41:31.526Z"
   },
   {
    "duration": 198,
    "start_time": "2022-10-02T08:41:31.725Z"
   },
   {
    "duration": 9,
    "start_time": "2022-10-02T08:41:31.925Z"
   },
   {
    "duration": 13,
    "start_time": "2022-10-02T08:41:32.021Z"
   },
   {
    "duration": 28,
    "start_time": "2022-10-02T08:41:32.036Z"
   },
   {
    "duration": 37,
    "start_time": "2022-10-02T08:41:32.067Z"
   },
   {
    "duration": 1263,
    "start_time": "2022-10-02T08:41:32.107Z"
   },
   {
    "duration": 1212,
    "start_time": "2022-10-02T08:41:33.372Z"
   },
   {
    "duration": 1163,
    "start_time": "2022-10-02T08:41:34.585Z"
   },
   {
    "duration": 1028,
    "start_time": "2022-10-02T08:46:47.379Z"
   },
   {
    "duration": 383,
    "start_time": "2022-10-02T08:46:48.409Z"
   },
   {
    "duration": 37,
    "start_time": "2022-10-02T08:46:48.794Z"
   },
   {
    "duration": 28,
    "start_time": "2022-10-02T08:46:48.833Z"
   },
   {
    "duration": 60,
    "start_time": "2022-10-02T08:46:48.864Z"
   },
   {
    "duration": 6,
    "start_time": "2022-10-02T08:46:48.926Z"
   },
   {
    "duration": 188,
    "start_time": "2022-10-02T08:46:48.934Z"
   },
   {
    "duration": 102,
    "start_time": "2022-10-02T08:46:49.124Z"
   },
   {
    "duration": 197,
    "start_time": "2022-10-02T08:46:49.228Z"
   },
   {
    "duration": 3,
    "start_time": "2022-10-02T08:46:49.426Z"
   },
   {
    "duration": 13,
    "start_time": "2022-10-02T08:46:49.521Z"
   },
   {
    "duration": 12,
    "start_time": "2022-10-02T08:46:49.536Z"
   },
   {
    "duration": 14,
    "start_time": "2022-10-02T08:46:49.550Z"
   },
   {
    "duration": 1087,
    "start_time": "2022-10-02T08:46:49.566Z"
   },
   {
    "duration": 1074,
    "start_time": "2022-10-02T08:46:50.654Z"
   },
   {
    "duration": 1113,
    "start_time": "2022-10-02T08:46:51.730Z"
   },
   {
    "duration": 1141,
    "start_time": "2022-10-02T08:49:13.882Z"
   },
   {
    "duration": 384,
    "start_time": "2022-10-02T08:49:15.025Z"
   },
   {
    "duration": 35,
    "start_time": "2022-10-02T08:49:15.411Z"
   },
   {
    "duration": 23,
    "start_time": "2022-10-02T08:49:15.448Z"
   },
   {
    "duration": 48,
    "start_time": "2022-10-02T08:49:15.473Z"
   },
   {
    "duration": 5,
    "start_time": "2022-10-02T08:49:15.523Z"
   },
   {
    "duration": 95,
    "start_time": "2022-10-02T08:49:15.530Z"
   },
   {
    "duration": 196,
    "start_time": "2022-10-02T08:49:15.627Z"
   },
   {
    "duration": 201,
    "start_time": "2022-10-02T08:49:15.825Z"
   },
   {
    "duration": 104,
    "start_time": "2022-10-02T08:49:16.028Z"
   },
   {
    "duration": 34,
    "start_time": "2022-10-02T08:49:16.134Z"
   },
   {
    "duration": 24,
    "start_time": "2022-10-02T08:49:16.170Z"
   },
   {
    "duration": 46,
    "start_time": "2022-10-02T08:49:16.196Z"
   },
   {
    "duration": 1208,
    "start_time": "2022-10-02T08:49:16.245Z"
   },
   {
    "duration": 1135,
    "start_time": "2022-10-02T08:49:17.454Z"
   },
   {
    "duration": 1174,
    "start_time": "2022-10-02T08:49:18.591Z"
   },
   {
    "duration": 1055,
    "start_time": "2022-10-02T10:33:23.392Z"
   },
   {
    "duration": 743,
    "start_time": "2022-10-02T10:33:24.449Z"
   },
   {
    "duration": 39,
    "start_time": "2022-10-02T10:33:25.194Z"
   },
   {
    "duration": 30,
    "start_time": "2022-10-02T10:33:25.236Z"
   },
   {
    "duration": 24,
    "start_time": "2022-10-02T10:33:25.276Z"
   },
   {
    "duration": 6,
    "start_time": "2022-10-02T10:33:25.302Z"
   },
   {
    "duration": 170,
    "start_time": "2022-10-02T10:33:25.310Z"
   },
   {
    "duration": 97,
    "start_time": "2022-10-02T10:33:25.482Z"
   },
   {
    "duration": 197,
    "start_time": "2022-10-02T10:33:25.581Z"
   },
   {
    "duration": 7,
    "start_time": "2022-10-02T10:33:25.780Z"
   },
   {
    "duration": 191,
    "start_time": "2022-10-02T10:33:25.789Z"
   },
   {
    "duration": 0,
    "start_time": "2022-10-02T10:33:25.982Z"
   },
   {
    "duration": 0,
    "start_time": "2022-10-02T10:33:25.983Z"
   },
   {
    "duration": 0,
    "start_time": "2022-10-02T10:33:25.984Z"
   },
   {
    "duration": 0,
    "start_time": "2022-10-02T10:33:25.985Z"
   },
   {
    "duration": 0,
    "start_time": "2022-10-02T10:33:25.987Z"
   },
   {
    "duration": 1085,
    "start_time": "2022-10-02T10:35:07.159Z"
   },
   {
    "duration": 346,
    "start_time": "2022-10-02T10:35:08.246Z"
   },
   {
    "duration": 27,
    "start_time": "2022-10-02T10:35:08.594Z"
   },
   {
    "duration": 19,
    "start_time": "2022-10-02T10:35:08.623Z"
   },
   {
    "duration": 41,
    "start_time": "2022-10-02T10:35:08.644Z"
   },
   {
    "duration": 5,
    "start_time": "2022-10-02T10:35:08.687Z"
   },
   {
    "duration": 88,
    "start_time": "2022-10-02T10:35:08.693Z"
   },
   {
    "duration": 196,
    "start_time": "2022-10-02T10:35:08.783Z"
   },
   {
    "duration": 200,
    "start_time": "2022-10-02T10:35:08.981Z"
   },
   {
    "duration": 93,
    "start_time": "2022-10-02T10:35:09.184Z"
   },
   {
    "duration": 9,
    "start_time": "2022-10-02T10:35:09.279Z"
   },
   {
    "duration": 107,
    "start_time": "2022-10-02T10:35:09.289Z"
   },
   {
    "duration": 0,
    "start_time": "2022-10-02T10:35:09.398Z"
   },
   {
    "duration": 0,
    "start_time": "2022-10-02T10:35:09.399Z"
   },
   {
    "duration": 0,
    "start_time": "2022-10-02T10:35:09.401Z"
   },
   {
    "duration": 0,
    "start_time": "2022-10-02T10:35:09.402Z"
   },
   {
    "duration": 4,
    "start_time": "2022-10-02T10:35:33.151Z"
   },
   {
    "duration": 1108,
    "start_time": "2022-10-02T10:35:38.141Z"
   },
   {
    "duration": 342,
    "start_time": "2022-10-02T10:35:39.251Z"
   },
   {
    "duration": 31,
    "start_time": "2022-10-02T10:35:39.594Z"
   },
   {
    "duration": 23,
    "start_time": "2022-10-02T10:35:39.628Z"
   },
   {
    "duration": 42,
    "start_time": "2022-10-02T10:35:39.653Z"
   },
   {
    "duration": 5,
    "start_time": "2022-10-02T10:35:39.696Z"
   },
   {
    "duration": 79,
    "start_time": "2022-10-02T10:35:39.703Z"
   },
   {
    "duration": 194,
    "start_time": "2022-10-02T10:35:39.784Z"
   },
   {
    "duration": 199,
    "start_time": "2022-10-02T10:35:39.979Z"
   },
   {
    "duration": 3,
    "start_time": "2022-10-02T10:35:40.180Z"
   },
   {
    "duration": 106,
    "start_time": "2022-10-02T10:35:40.187Z"
   },
   {
    "duration": 14,
    "start_time": "2022-10-02T10:35:40.295Z"
   },
   {
    "duration": 7,
    "start_time": "2022-10-02T10:35:40.311Z"
   },
   {
    "duration": 1080,
    "start_time": "2022-10-02T10:35:40.321Z"
   },
   {
    "duration": 1039,
    "start_time": "2022-10-02T10:35:41.402Z"
   },
   {
    "duration": 1073,
    "start_time": "2022-10-02T10:35:42.444Z"
   },
   {
    "duration": 5,
    "start_time": "2022-10-02T10:37:42.106Z"
   },
   {
    "duration": 1104,
    "start_time": "2022-10-02T10:37:45.078Z"
   },
   {
    "duration": 1020,
    "start_time": "2022-10-02T10:37:50.811Z"
   },
   {
    "duration": 1284,
    "start_time": "2022-10-02T10:43:51.257Z"
   },
   {
    "duration": 765,
    "start_time": "2022-10-02T10:43:52.544Z"
   },
   {
    "duration": 29,
    "start_time": "2022-10-02T10:43:53.311Z"
   },
   {
    "duration": 23,
    "start_time": "2022-10-02T10:43:53.342Z"
   },
   {
    "duration": 21,
    "start_time": "2022-10-02T10:43:53.367Z"
   },
   {
    "duration": 5,
    "start_time": "2022-10-02T10:43:53.389Z"
   },
   {
    "duration": 68,
    "start_time": "2022-10-02T10:43:53.395Z"
   },
   {
    "duration": 105,
    "start_time": "2022-10-02T10:43:53.555Z"
   },
   {
    "duration": 102,
    "start_time": "2022-10-02T10:43:53.754Z"
   },
   {
    "duration": 5,
    "start_time": "2022-10-02T10:43:53.857Z"
   },
   {
    "duration": 4,
    "start_time": "2022-10-02T10:43:53.955Z"
   },
   {
    "duration": 7,
    "start_time": "2022-10-02T10:43:53.961Z"
   },
   {
    "duration": 8,
    "start_time": "2022-10-02T10:43:53.970Z"
   },
   {
    "duration": 1111,
    "start_time": "2022-10-02T10:43:53.980Z"
   },
   {
    "duration": 1088,
    "start_time": "2022-10-02T10:43:55.092Z"
   },
   {
    "duration": 1047,
    "start_time": "2022-10-02T10:43:56.182Z"
   },
   {
    "duration": 1125,
    "start_time": "2022-10-02T10:44:15.043Z"
   },
   {
    "duration": 406,
    "start_time": "2022-10-02T10:44:16.170Z"
   },
   {
    "duration": 33,
    "start_time": "2022-10-02T10:44:16.578Z"
   },
   {
    "duration": 42,
    "start_time": "2022-10-02T10:44:16.613Z"
   },
   {
    "duration": 24,
    "start_time": "2022-10-02T10:44:16.658Z"
   },
   {
    "duration": 5,
    "start_time": "2022-10-02T10:44:16.684Z"
   },
   {
    "duration": 72,
    "start_time": "2022-10-02T10:44:16.690Z"
   },
   {
    "duration": 200,
    "start_time": "2022-10-02T10:44:16.763Z"
   },
   {
    "duration": 105,
    "start_time": "2022-10-02T10:44:17.055Z"
   },
   {
    "duration": 92,
    "start_time": "2022-10-02T10:44:17.162Z"
   },
   {
    "duration": 9,
    "start_time": "2022-10-02T10:44:17.256Z"
   },
   {
    "duration": 5,
    "start_time": "2022-10-02T10:44:17.267Z"
   },
   {
    "duration": 9,
    "start_time": "2022-10-02T10:44:17.273Z"
   },
   {
    "duration": 1087,
    "start_time": "2022-10-02T10:44:17.285Z"
   },
   {
    "duration": 1057,
    "start_time": "2022-10-02T10:44:18.374Z"
   },
   {
    "duration": 1047,
    "start_time": "2022-10-02T10:44:19.433Z"
   },
   {
    "duration": 1150,
    "start_time": "2022-10-02T10:44:29.126Z"
   },
   {
    "duration": 405,
    "start_time": "2022-10-02T10:44:30.278Z"
   },
   {
    "duration": 32,
    "start_time": "2022-10-02T10:44:30.686Z"
   },
   {
    "duration": 40,
    "start_time": "2022-10-02T10:44:30.719Z"
   },
   {
    "duration": 26,
    "start_time": "2022-10-02T10:44:30.761Z"
   },
   {
    "duration": 13,
    "start_time": "2022-10-02T10:44:30.788Z"
   },
   {
    "duration": 154,
    "start_time": "2022-10-02T10:44:30.803Z"
   },
   {
    "duration": 197,
    "start_time": "2022-10-02T10:44:30.959Z"
   },
   {
    "duration": 199,
    "start_time": "2022-10-02T10:44:31.157Z"
   },
   {
    "duration": 3,
    "start_time": "2022-10-02T10:44:31.358Z"
   },
   {
    "duration": 114,
    "start_time": "2022-10-02T10:44:31.363Z"
   },
   {
    "duration": 20,
    "start_time": "2022-10-02T10:44:31.479Z"
   },
   {
    "duration": 19,
    "start_time": "2022-10-02T10:44:31.501Z"
   },
   {
    "duration": 1195,
    "start_time": "2022-10-02T10:44:31.524Z"
   },
   {
    "duration": 1126,
    "start_time": "2022-10-02T10:44:32.721Z"
   },
   {
    "duration": 1071,
    "start_time": "2022-10-02T10:44:33.849Z"
   },
   {
    "duration": 112,
    "start_time": "2022-10-02T10:45:48.671Z"
   },
   {
    "duration": 1043,
    "start_time": "2022-10-02T11:14:15.688Z"
   },
   {
    "duration": 399,
    "start_time": "2022-10-02T11:14:16.733Z"
   },
   {
    "duration": 37,
    "start_time": "2022-10-02T11:14:17.133Z"
   },
   {
    "duration": 22,
    "start_time": "2022-10-02T11:14:17.171Z"
   },
   {
    "duration": 21,
    "start_time": "2022-10-02T11:14:17.195Z"
   },
   {
    "duration": 5,
    "start_time": "2022-10-02T11:14:17.217Z"
   },
   {
    "duration": 231,
    "start_time": "2022-10-02T11:14:17.224Z"
   },
   {
    "duration": 101,
    "start_time": "2022-10-02T11:14:17.457Z"
   },
   {
    "duration": 196,
    "start_time": "2022-10-02T11:14:17.559Z"
   },
   {
    "duration": 3,
    "start_time": "2022-10-02T11:14:17.757Z"
   },
   {
    "duration": 114,
    "start_time": "2022-10-02T11:14:17.762Z"
   },
   {
    "duration": 9,
    "start_time": "2022-10-02T11:14:17.878Z"
   },
   {
    "duration": 11,
    "start_time": "2022-10-02T11:14:17.889Z"
   },
   {
    "duration": 1064,
    "start_time": "2022-10-02T11:14:17.903Z"
   },
   {
    "duration": 1055,
    "start_time": "2022-10-02T11:14:18.969Z"
   },
   {
    "duration": 1057,
    "start_time": "2022-10-02T11:14:20.026Z"
   },
   {
    "duration": 1141,
    "start_time": "2022-10-02T11:14:34.533Z"
   },
   {
    "duration": 367,
    "start_time": "2022-10-02T11:14:35.677Z"
   },
   {
    "duration": 31,
    "start_time": "2022-10-02T11:14:36.045Z"
   },
   {
    "duration": 23,
    "start_time": "2022-10-02T11:14:36.078Z"
   },
   {
    "duration": 52,
    "start_time": "2022-10-02T11:14:36.104Z"
   },
   {
    "duration": 4,
    "start_time": "2022-10-02T11:14:36.158Z"
   },
   {
    "duration": 93,
    "start_time": "2022-10-02T11:14:36.164Z"
   },
   {
    "duration": 197,
    "start_time": "2022-10-02T11:14:36.258Z"
   },
   {
    "duration": 297,
    "start_time": "2022-10-02T11:14:36.457Z"
   },
   {
    "duration": 3,
    "start_time": "2022-10-02T11:14:36.756Z"
   },
   {
    "duration": 10,
    "start_time": "2022-10-02T11:14:36.760Z"
   },
   {
    "duration": 5,
    "start_time": "2022-10-02T11:14:36.771Z"
   },
   {
    "duration": 9,
    "start_time": "2022-10-02T11:14:36.777Z"
   },
   {
    "duration": 1062,
    "start_time": "2022-10-02T11:14:36.788Z"
   },
   {
    "duration": 1016,
    "start_time": "2022-10-02T11:14:37.854Z"
   },
   {
    "duration": 1037,
    "start_time": "2022-10-02T11:14:38.872Z"
   },
   {
    "duration": 1032,
    "start_time": "2022-10-02T11:20:56.091Z"
   },
   {
    "duration": 377,
    "start_time": "2022-10-02T11:20:57.125Z"
   },
   {
    "duration": 28,
    "start_time": "2022-10-02T11:20:57.504Z"
   },
   {
    "duration": 30,
    "start_time": "2022-10-02T11:20:57.533Z"
   },
   {
    "duration": 19,
    "start_time": "2022-10-02T11:20:57.565Z"
   },
   {
    "duration": 4,
    "start_time": "2022-10-02T11:20:57.586Z"
   },
   {
    "duration": 70,
    "start_time": "2022-10-02T11:20:57.592Z"
   },
   {
    "duration": 196,
    "start_time": "2022-10-02T11:20:57.663Z"
   },
   {
    "duration": 196,
    "start_time": "2022-10-02T11:20:57.860Z"
   },
   {
    "duration": 3,
    "start_time": "2022-10-02T11:20:58.058Z"
   },
   {
    "duration": 95,
    "start_time": "2022-10-02T11:20:58.062Z"
   },
   {
    "duration": 10,
    "start_time": "2022-10-02T11:20:58.158Z"
   },
   {
    "duration": 16,
    "start_time": "2022-10-02T11:20:58.169Z"
   },
   {
    "duration": 1064,
    "start_time": "2022-10-02T11:20:58.188Z"
   },
   {
    "duration": 1022,
    "start_time": "2022-10-02T11:20:59.255Z"
   },
   {
    "duration": 1030,
    "start_time": "2022-10-02T11:21:00.278Z"
   },
   {
    "duration": 1036,
    "start_time": "2022-10-02T11:21:23.113Z"
   },
   {
    "duration": 399,
    "start_time": "2022-10-02T11:21:24.152Z"
   },
   {
    "duration": 31,
    "start_time": "2022-10-02T11:21:24.553Z"
   },
   {
    "duration": 21,
    "start_time": "2022-10-02T11:21:24.585Z"
   },
   {
    "duration": 60,
    "start_time": "2022-10-02T11:21:24.609Z"
   },
   {
    "duration": 6,
    "start_time": "2022-10-02T11:21:24.672Z"
   },
   {
    "duration": 85,
    "start_time": "2022-10-02T11:21:24.680Z"
   },
   {
    "duration": 106,
    "start_time": "2022-10-02T11:21:24.855Z"
   },
   {
    "duration": 196,
    "start_time": "2022-10-02T11:21:24.963Z"
   },
   {
    "duration": 90,
    "start_time": "2022-10-02T11:21:25.164Z"
   },
   {
    "duration": 5,
    "start_time": "2022-10-02T11:21:25.256Z"
   },
   {
    "duration": 15,
    "start_time": "2022-10-02T11:21:25.263Z"
   },
   {
    "duration": 7,
    "start_time": "2022-10-02T11:21:25.280Z"
   },
   {
    "duration": 1047,
    "start_time": "2022-10-02T11:21:25.290Z"
   },
   {
    "duration": 1036,
    "start_time": "2022-10-02T11:21:26.339Z"
   },
   {
    "duration": 1118,
    "start_time": "2022-10-02T11:21:27.378Z"
   },
   {
    "duration": 1061,
    "start_time": "2022-10-02T11:21:43.109Z"
   },
   {
    "duration": 382,
    "start_time": "2022-10-02T11:21:44.172Z"
   },
   {
    "duration": 31,
    "start_time": "2022-10-02T11:21:44.556Z"
   },
   {
    "duration": 21,
    "start_time": "2022-10-02T11:21:44.589Z"
   },
   {
    "duration": 52,
    "start_time": "2022-10-02T11:21:44.611Z"
   },
   {
    "duration": 5,
    "start_time": "2022-10-02T11:21:44.664Z"
   },
   {
    "duration": 92,
    "start_time": "2022-10-02T11:21:44.670Z"
   },
   {
    "duration": 193,
    "start_time": "2022-10-02T11:21:44.763Z"
   },
   {
    "duration": 202,
    "start_time": "2022-10-02T11:21:44.958Z"
   },
   {
    "duration": 91,
    "start_time": "2022-10-02T11:21:45.164Z"
   },
   {
    "duration": 7,
    "start_time": "2022-10-02T11:21:45.257Z"
   },
   {
    "duration": 5,
    "start_time": "2022-10-02T11:21:45.266Z"
   },
   {
    "duration": 9,
    "start_time": "2022-10-02T11:21:45.273Z"
   },
   {
    "duration": 1103,
    "start_time": "2022-10-02T11:21:45.283Z"
   },
   {
    "duration": 1083,
    "start_time": "2022-10-02T11:21:46.388Z"
   },
   {
    "duration": 1088,
    "start_time": "2022-10-02T11:21:47.473Z"
   },
   {
    "duration": 6,
    "start_time": "2022-10-02T11:36:43.887Z"
   },
   {
    "duration": 1046,
    "start_time": "2022-10-02T11:36:47.907Z"
   },
   {
    "duration": 359,
    "start_time": "2022-10-02T11:36:48.956Z"
   },
   {
    "duration": 28,
    "start_time": "2022-10-02T11:36:49.317Z"
   },
   {
    "duration": 37,
    "start_time": "2022-10-02T11:36:49.347Z"
   },
   {
    "duration": 19,
    "start_time": "2022-10-02T11:36:49.386Z"
   },
   {
    "duration": 4,
    "start_time": "2022-10-02T11:36:49.407Z"
   },
   {
    "duration": 71,
    "start_time": "2022-10-02T11:36:49.412Z"
   },
   {
    "duration": 194,
    "start_time": "2022-10-02T11:36:49.484Z"
   },
   {
    "duration": 200,
    "start_time": "2022-10-02T11:36:49.680Z"
   },
   {
    "duration": 93,
    "start_time": "2022-10-02T11:36:49.883Z"
   },
   {
    "duration": 6,
    "start_time": "2022-10-02T11:36:49.978Z"
   },
   {
    "duration": 9,
    "start_time": "2022-10-02T11:36:49.986Z"
   },
   {
    "duration": 7,
    "start_time": "2022-10-02T11:36:49.997Z"
   },
   {
    "duration": 1135,
    "start_time": "2022-10-02T11:36:50.005Z"
   },
   {
    "duration": 1055,
    "start_time": "2022-10-02T11:36:51.142Z"
   },
   {
    "duration": 1091,
    "start_time": "2022-10-02T11:36:52.199Z"
   },
   {
    "duration": 42,
    "start_time": "2022-10-02T11:38:06.706Z"
   },
   {
    "duration": 1128,
    "start_time": "2022-10-02T11:55:04.827Z"
   },
   {
    "duration": 387,
    "start_time": "2022-10-02T11:55:05.957Z"
   },
   {
    "duration": 32,
    "start_time": "2022-10-02T11:55:06.346Z"
   },
   {
    "duration": 20,
    "start_time": "2022-10-02T11:55:06.379Z"
   },
   {
    "duration": 21,
    "start_time": "2022-10-02T11:55:06.401Z"
   },
   {
    "duration": 32,
    "start_time": "2022-10-02T11:55:06.423Z"
   },
   {
    "duration": 104,
    "start_time": "2022-10-02T11:55:06.457Z"
   },
   {
    "duration": 196,
    "start_time": "2022-10-02T11:55:06.563Z"
   },
   {
    "duration": 201,
    "start_time": "2022-10-02T11:55:06.760Z"
   },
   {
    "duration": 92,
    "start_time": "2022-10-02T11:55:06.963Z"
   },
   {
    "duration": 7,
    "start_time": "2022-10-02T11:55:07.057Z"
   },
   {
    "duration": 6,
    "start_time": "2022-10-02T11:55:07.066Z"
   },
   {
    "duration": 7,
    "start_time": "2022-10-02T11:55:07.074Z"
   },
   {
    "duration": 1102,
    "start_time": "2022-10-02T11:55:07.083Z"
   },
   {
    "duration": 1090,
    "start_time": "2022-10-02T11:55:08.187Z"
   },
   {
    "duration": 1049,
    "start_time": "2022-10-02T11:55:09.279Z"
   },
   {
    "duration": 1119,
    "start_time": "2022-10-02T11:56:00.444Z"
   },
   {
    "duration": 413,
    "start_time": "2022-10-02T11:56:01.566Z"
   },
   {
    "duration": 29,
    "start_time": "2022-10-02T11:56:01.980Z"
   },
   {
    "duration": 54,
    "start_time": "2022-10-02T11:56:02.011Z"
   },
   {
    "duration": 25,
    "start_time": "2022-10-02T11:56:02.067Z"
   },
   {
    "duration": 5,
    "start_time": "2022-10-02T11:56:02.093Z"
   },
   {
    "duration": 62,
    "start_time": "2022-10-02T11:56:02.100Z"
   },
   {
    "duration": 292,
    "start_time": "2022-10-02T11:56:02.164Z"
   },
   {
    "duration": 203,
    "start_time": "2022-10-02T11:56:02.458Z"
   },
   {
    "duration": 93,
    "start_time": "2022-10-02T11:56:02.663Z"
   },
   {
    "duration": 18,
    "start_time": "2022-10-02T11:56:02.757Z"
   },
   {
    "duration": 15,
    "start_time": "2022-10-02T11:56:02.777Z"
   },
   {
    "duration": 18,
    "start_time": "2022-10-02T11:56:02.794Z"
   },
   {
    "duration": 1069,
    "start_time": "2022-10-02T11:56:02.815Z"
   },
   {
    "duration": 1034,
    "start_time": "2022-10-02T11:56:03.885Z"
   },
   {
    "duration": 1044,
    "start_time": "2022-10-02T11:56:04.921Z"
   },
   {
    "duration": 57,
    "start_time": "2022-10-02T11:57:46.761Z"
   },
   {
    "duration": 1128,
    "start_time": "2022-10-02T11:57:59.643Z"
   },
   {
    "duration": 395,
    "start_time": "2022-10-02T11:58:00.773Z"
   },
   {
    "duration": 29,
    "start_time": "2022-10-02T11:58:01.170Z"
   },
   {
    "duration": 32,
    "start_time": "2022-10-02T11:58:01.201Z"
   },
   {
    "duration": 39,
    "start_time": "2022-10-02T11:58:01.235Z"
   },
   {
    "duration": 4,
    "start_time": "2022-10-02T11:58:01.276Z"
   },
   {
    "duration": 80,
    "start_time": "2022-10-02T11:58:01.282Z"
   },
   {
    "duration": 192,
    "start_time": "2022-10-02T11:58:01.364Z"
   },
   {
    "duration": 210,
    "start_time": "2022-10-02T11:58:01.557Z"
   },
   {
    "duration": 3,
    "start_time": "2022-10-02T11:58:01.855Z"
   },
   {
    "duration": 49,
    "start_time": "2022-10-02T11:58:01.860Z"
   },
   {
    "duration": 24,
    "start_time": "2022-10-02T11:58:01.911Z"
   },
   {
    "duration": 33,
    "start_time": "2022-10-02T11:58:01.936Z"
   },
   {
    "duration": 1096,
    "start_time": "2022-10-02T11:58:01.972Z"
   },
   {
    "duration": 1077,
    "start_time": "2022-10-02T11:58:03.070Z"
   },
   {
    "duration": 1036,
    "start_time": "2022-10-02T11:58:04.148Z"
   },
   {
    "duration": 1119,
    "start_time": "2022-10-02T12:24:52.051Z"
   },
   {
    "duration": 394,
    "start_time": "2022-10-02T12:24:53.172Z"
   },
   {
    "duration": 29,
    "start_time": "2022-10-02T12:24:53.568Z"
   },
   {
    "duration": 30,
    "start_time": "2022-10-02T12:24:53.599Z"
   },
   {
    "duration": 40,
    "start_time": "2022-10-02T12:24:53.632Z"
   },
   {
    "duration": 5,
    "start_time": "2022-10-02T12:24:53.674Z"
   },
   {
    "duration": 173,
    "start_time": "2022-10-02T12:24:53.681Z"
   },
   {
    "duration": 105,
    "start_time": "2022-10-02T12:24:53.856Z"
   },
   {
    "duration": 193,
    "start_time": "2022-10-02T12:24:53.963Z"
   },
   {
    "duration": 4,
    "start_time": "2022-10-02T12:24:54.157Z"
   },
   {
    "duration": 100,
    "start_time": "2022-10-02T12:24:54.162Z"
   },
   {
    "duration": 5,
    "start_time": "2022-10-02T12:24:54.264Z"
   },
   {
    "duration": 11,
    "start_time": "2022-10-02T12:24:54.270Z"
   },
   {
    "duration": 1040,
    "start_time": "2022-10-02T12:24:54.284Z"
   },
   {
    "duration": 1051,
    "start_time": "2022-10-02T12:24:55.326Z"
   },
   {
    "duration": 1052,
    "start_time": "2022-10-02T12:24:56.378Z"
   }
  ],
  "kernelspec": {
   "display_name": "Python 3 (ipykernel)",
   "language": "python",
   "name": "python3"
  },
  "language_info": {
   "codemirror_mode": {
    "name": "ipython",
    "version": 3
   },
   "file_extension": ".py",
   "mimetype": "text/x-python",
   "name": "python",
   "nbconvert_exporter": "python",
   "pygments_lexer": "ipython3",
   "version": "3.9.6"
  },
  "toc": {
   "base_numbering": 1,
   "nav_menu": {},
   "number_sections": true,
   "sideBar": true,
   "skip_h1_title": true,
   "title_cell": "Table of Contents",
   "title_sidebar": "Contents",
   "toc_cell": false,
   "toc_position": {},
   "toc_section_display": true,
   "toc_window_display": false
  }
 },
 "nbformat": 4,
 "nbformat_minor": 4
}
