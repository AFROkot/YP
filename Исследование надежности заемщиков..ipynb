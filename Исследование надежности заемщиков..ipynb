{
 "cells": [
  {
   "cell_type": "markdown",
   "id": "a04e4cc2",
   "metadata": {},
   "source": [
    "# Исследование надежности заемщиков."
   ]
  },
  {
   "cell_type": "markdown",
   "id": "d075a53b",
   "metadata": {},
   "source": [
    "### Шаг 1. Обзор данных"
   ]
  },
  {
   "cell_type": "code",
   "execution_count": 1,
   "id": "de6cee72",
   "metadata": {},
   "outputs": [
    {
     "name": "stdout",
     "output_type": "stream",
     "text": [
      "<class 'pandas.core.frame.DataFrame'>\n",
      "RangeIndex: 21525 entries, 0 to 21524\n",
      "Data columns (total 12 columns):\n",
      "children            21525 non-null int64\n",
      "days_employed       19351 non-null float64\n",
      "dob_years           21525 non-null int64\n",
      "education           21525 non-null object\n",
      "education_id        21525 non-null int64\n",
      "family_status       21525 non-null object\n",
      "family_status_id    21525 non-null int64\n",
      "gender              21525 non-null object\n",
      "income_type         21525 non-null object\n",
      "debt                21525 non-null int64\n",
      "total_income        19351 non-null float64\n",
      "purpose             21525 non-null object\n",
      "dtypes: float64(2), int64(5), object(5)\n",
      "memory usage: 2.0+ MB\n"
     ]
    },
    {
     "data": {
      "text/html": [
       "<div>\n",
       "<style scoped>\n",
       "    .dataframe tbody tr th:only-of-type {\n",
       "        vertical-align: middle;\n",
       "    }\n",
       "\n",
       "    .dataframe tbody tr th {\n",
       "        vertical-align: top;\n",
       "    }\n",
       "\n",
       "    .dataframe thead th {\n",
       "        text-align: right;\n",
       "    }\n",
       "</style>\n",
       "<table border=\"1\" class=\"dataframe\">\n",
       "  <thead>\n",
       "    <tr style=\"text-align: right;\">\n",
       "      <th></th>\n",
       "      <th>children</th>\n",
       "      <th>days_employed</th>\n",
       "      <th>dob_years</th>\n",
       "      <th>education</th>\n",
       "      <th>education_id</th>\n",
       "      <th>family_status</th>\n",
       "      <th>family_status_id</th>\n",
       "      <th>gender</th>\n",
       "      <th>income_type</th>\n",
       "      <th>debt</th>\n",
       "      <th>total_income</th>\n",
       "      <th>purpose</th>\n",
       "    </tr>\n",
       "  </thead>\n",
       "  <tbody>\n",
       "    <tr>\n",
       "      <td>0</td>\n",
       "      <td>1</td>\n",
       "      <td>-8437.673028</td>\n",
       "      <td>42</td>\n",
       "      <td>высшее</td>\n",
       "      <td>0</td>\n",
       "      <td>женат / замужем</td>\n",
       "      <td>0</td>\n",
       "      <td>F</td>\n",
       "      <td>сотрудник</td>\n",
       "      <td>0</td>\n",
       "      <td>253875.639453</td>\n",
       "      <td>покупка жилья</td>\n",
       "    </tr>\n",
       "    <tr>\n",
       "      <td>1</td>\n",
       "      <td>1</td>\n",
       "      <td>-4024.803754</td>\n",
       "      <td>36</td>\n",
       "      <td>среднее</td>\n",
       "      <td>1</td>\n",
       "      <td>женат / замужем</td>\n",
       "      <td>0</td>\n",
       "      <td>F</td>\n",
       "      <td>сотрудник</td>\n",
       "      <td>0</td>\n",
       "      <td>112080.014102</td>\n",
       "      <td>приобретение автомобиля</td>\n",
       "    </tr>\n",
       "    <tr>\n",
       "      <td>2</td>\n",
       "      <td>0</td>\n",
       "      <td>-5623.422610</td>\n",
       "      <td>33</td>\n",
       "      <td>Среднее</td>\n",
       "      <td>1</td>\n",
       "      <td>женат / замужем</td>\n",
       "      <td>0</td>\n",
       "      <td>M</td>\n",
       "      <td>сотрудник</td>\n",
       "      <td>0</td>\n",
       "      <td>145885.952297</td>\n",
       "      <td>покупка жилья</td>\n",
       "    </tr>\n",
       "    <tr>\n",
       "      <td>3</td>\n",
       "      <td>3</td>\n",
       "      <td>-4124.747207</td>\n",
       "      <td>32</td>\n",
       "      <td>среднее</td>\n",
       "      <td>1</td>\n",
       "      <td>женат / замужем</td>\n",
       "      <td>0</td>\n",
       "      <td>M</td>\n",
       "      <td>сотрудник</td>\n",
       "      <td>0</td>\n",
       "      <td>267628.550329</td>\n",
       "      <td>дополнительное образование</td>\n",
       "    </tr>\n",
       "    <tr>\n",
       "      <td>4</td>\n",
       "      <td>0</td>\n",
       "      <td>340266.072047</td>\n",
       "      <td>53</td>\n",
       "      <td>среднее</td>\n",
       "      <td>1</td>\n",
       "      <td>гражданский брак</td>\n",
       "      <td>1</td>\n",
       "      <td>F</td>\n",
       "      <td>пенсионер</td>\n",
       "      <td>0</td>\n",
       "      <td>158616.077870</td>\n",
       "      <td>сыграть свадьбу</td>\n",
       "    </tr>\n",
       "    <tr>\n",
       "      <td>5</td>\n",
       "      <td>0</td>\n",
       "      <td>-926.185831</td>\n",
       "      <td>27</td>\n",
       "      <td>высшее</td>\n",
       "      <td>0</td>\n",
       "      <td>гражданский брак</td>\n",
       "      <td>1</td>\n",
       "      <td>M</td>\n",
       "      <td>компаньон</td>\n",
       "      <td>0</td>\n",
       "      <td>255763.565419</td>\n",
       "      <td>покупка жилья</td>\n",
       "    </tr>\n",
       "    <tr>\n",
       "      <td>6</td>\n",
       "      <td>0</td>\n",
       "      <td>-2879.202052</td>\n",
       "      <td>43</td>\n",
       "      <td>высшее</td>\n",
       "      <td>0</td>\n",
       "      <td>женат / замужем</td>\n",
       "      <td>0</td>\n",
       "      <td>F</td>\n",
       "      <td>компаньон</td>\n",
       "      <td>0</td>\n",
       "      <td>240525.971920</td>\n",
       "      <td>операции с жильем</td>\n",
       "    </tr>\n",
       "    <tr>\n",
       "      <td>7</td>\n",
       "      <td>0</td>\n",
       "      <td>-152.779569</td>\n",
       "      <td>50</td>\n",
       "      <td>СРЕДНЕЕ</td>\n",
       "      <td>1</td>\n",
       "      <td>женат / замужем</td>\n",
       "      <td>0</td>\n",
       "      <td>M</td>\n",
       "      <td>сотрудник</td>\n",
       "      <td>0</td>\n",
       "      <td>135823.934197</td>\n",
       "      <td>образование</td>\n",
       "    </tr>\n",
       "    <tr>\n",
       "      <td>8</td>\n",
       "      <td>2</td>\n",
       "      <td>-6929.865299</td>\n",
       "      <td>35</td>\n",
       "      <td>ВЫСШЕЕ</td>\n",
       "      <td>0</td>\n",
       "      <td>гражданский брак</td>\n",
       "      <td>1</td>\n",
       "      <td>F</td>\n",
       "      <td>сотрудник</td>\n",
       "      <td>0</td>\n",
       "      <td>95856.832424</td>\n",
       "      <td>на проведение свадьбы</td>\n",
       "    </tr>\n",
       "    <tr>\n",
       "      <td>9</td>\n",
       "      <td>0</td>\n",
       "      <td>-2188.756445</td>\n",
       "      <td>41</td>\n",
       "      <td>среднее</td>\n",
       "      <td>1</td>\n",
       "      <td>женат / замужем</td>\n",
       "      <td>0</td>\n",
       "      <td>M</td>\n",
       "      <td>сотрудник</td>\n",
       "      <td>0</td>\n",
       "      <td>144425.938277</td>\n",
       "      <td>покупка жилья для семьи</td>\n",
       "    </tr>\n",
       "    <tr>\n",
       "      <td>10</td>\n",
       "      <td>2</td>\n",
       "      <td>-4171.483647</td>\n",
       "      <td>36</td>\n",
       "      <td>высшее</td>\n",
       "      <td>0</td>\n",
       "      <td>женат / замужем</td>\n",
       "      <td>0</td>\n",
       "      <td>M</td>\n",
       "      <td>компаньон</td>\n",
       "      <td>0</td>\n",
       "      <td>113943.491460</td>\n",
       "      <td>покупка недвижимости</td>\n",
       "    </tr>\n",
       "    <tr>\n",
       "      <td>11</td>\n",
       "      <td>0</td>\n",
       "      <td>-792.701887</td>\n",
       "      <td>40</td>\n",
       "      <td>среднее</td>\n",
       "      <td>1</td>\n",
       "      <td>женат / замужем</td>\n",
       "      <td>0</td>\n",
       "      <td>F</td>\n",
       "      <td>сотрудник</td>\n",
       "      <td>0</td>\n",
       "      <td>77069.234271</td>\n",
       "      <td>покупка коммерческой недвижимости</td>\n",
       "    </tr>\n",
       "    <tr>\n",
       "      <td>12</td>\n",
       "      <td>0</td>\n",
       "      <td>NaN</td>\n",
       "      <td>65</td>\n",
       "      <td>среднее</td>\n",
       "      <td>1</td>\n",
       "      <td>гражданский брак</td>\n",
       "      <td>1</td>\n",
       "      <td>M</td>\n",
       "      <td>пенсионер</td>\n",
       "      <td>0</td>\n",
       "      <td>NaN</td>\n",
       "      <td>сыграть свадьбу</td>\n",
       "    </tr>\n",
       "    <tr>\n",
       "      <td>13</td>\n",
       "      <td>0</td>\n",
       "      <td>-1846.641941</td>\n",
       "      <td>54</td>\n",
       "      <td>неоконченное высшее</td>\n",
       "      <td>2</td>\n",
       "      <td>женат / замужем</td>\n",
       "      <td>0</td>\n",
       "      <td>F</td>\n",
       "      <td>сотрудник</td>\n",
       "      <td>0</td>\n",
       "      <td>130458.228857</td>\n",
       "      <td>приобретение автомобиля</td>\n",
       "    </tr>\n",
       "    <tr>\n",
       "      <td>14</td>\n",
       "      <td>0</td>\n",
       "      <td>-1844.956182</td>\n",
       "      <td>56</td>\n",
       "      <td>высшее</td>\n",
       "      <td>0</td>\n",
       "      <td>гражданский брак</td>\n",
       "      <td>1</td>\n",
       "      <td>F</td>\n",
       "      <td>компаньон</td>\n",
       "      <td>1</td>\n",
       "      <td>165127.911772</td>\n",
       "      <td>покупка жилой недвижимости</td>\n",
       "    </tr>\n",
       "    <tr>\n",
       "      <td>15</td>\n",
       "      <td>1</td>\n",
       "      <td>-972.364419</td>\n",
       "      <td>26</td>\n",
       "      <td>среднее</td>\n",
       "      <td>1</td>\n",
       "      <td>женат / замужем</td>\n",
       "      <td>0</td>\n",
       "      <td>F</td>\n",
       "      <td>сотрудник</td>\n",
       "      <td>0</td>\n",
       "      <td>116820.904450</td>\n",
       "      <td>строительство собственной недвижимости</td>\n",
       "    </tr>\n",
       "    <tr>\n",
       "      <td>16</td>\n",
       "      <td>0</td>\n",
       "      <td>-1719.934226</td>\n",
       "      <td>35</td>\n",
       "      <td>среднее</td>\n",
       "      <td>1</td>\n",
       "      <td>женат / замужем</td>\n",
       "      <td>0</td>\n",
       "      <td>F</td>\n",
       "      <td>сотрудник</td>\n",
       "      <td>0</td>\n",
       "      <td>289202.704229</td>\n",
       "      <td>недвижимость</td>\n",
       "    </tr>\n",
       "    <tr>\n",
       "      <td>17</td>\n",
       "      <td>0</td>\n",
       "      <td>-2369.999720</td>\n",
       "      <td>33</td>\n",
       "      <td>высшее</td>\n",
       "      <td>0</td>\n",
       "      <td>гражданский брак</td>\n",
       "      <td>1</td>\n",
       "      <td>M</td>\n",
       "      <td>сотрудник</td>\n",
       "      <td>0</td>\n",
       "      <td>90410.586745</td>\n",
       "      <td>строительство недвижимости</td>\n",
       "    </tr>\n",
       "    <tr>\n",
       "      <td>18</td>\n",
       "      <td>0</td>\n",
       "      <td>400281.136913</td>\n",
       "      <td>53</td>\n",
       "      <td>среднее</td>\n",
       "      <td>1</td>\n",
       "      <td>вдовец / вдова</td>\n",
       "      <td>2</td>\n",
       "      <td>F</td>\n",
       "      <td>пенсионер</td>\n",
       "      <td>0</td>\n",
       "      <td>56823.777243</td>\n",
       "      <td>на покупку подержанного автомобиля</td>\n",
       "    </tr>\n",
       "    <tr>\n",
       "      <td>19</td>\n",
       "      <td>0</td>\n",
       "      <td>-10038.818549</td>\n",
       "      <td>48</td>\n",
       "      <td>СРЕДНЕЕ</td>\n",
       "      <td>1</td>\n",
       "      <td>в разводе</td>\n",
       "      <td>3</td>\n",
       "      <td>F</td>\n",
       "      <td>сотрудник</td>\n",
       "      <td>0</td>\n",
       "      <td>242831.107982</td>\n",
       "      <td>на покупку своего автомобиля</td>\n",
       "    </tr>\n",
       "  </tbody>\n",
       "</table>\n",
       "</div>"
      ],
      "text/plain": [
       "    children  days_employed  dob_years            education  education_id  \\\n",
       "0          1   -8437.673028         42               высшее             0   \n",
       "1          1   -4024.803754         36              среднее             1   \n",
       "2          0   -5623.422610         33              Среднее             1   \n",
       "3          3   -4124.747207         32              среднее             1   \n",
       "4          0  340266.072047         53              среднее             1   \n",
       "5          0    -926.185831         27               высшее             0   \n",
       "6          0   -2879.202052         43               высшее             0   \n",
       "7          0    -152.779569         50              СРЕДНЕЕ             1   \n",
       "8          2   -6929.865299         35               ВЫСШЕЕ             0   \n",
       "9          0   -2188.756445         41              среднее             1   \n",
       "10         2   -4171.483647         36               высшее             0   \n",
       "11         0    -792.701887         40              среднее             1   \n",
       "12         0            NaN         65              среднее             1   \n",
       "13         0   -1846.641941         54  неоконченное высшее             2   \n",
       "14         0   -1844.956182         56               высшее             0   \n",
       "15         1    -972.364419         26              среднее             1   \n",
       "16         0   -1719.934226         35              среднее             1   \n",
       "17         0   -2369.999720         33               высшее             0   \n",
       "18         0  400281.136913         53              среднее             1   \n",
       "19         0  -10038.818549         48              СРЕДНЕЕ             1   \n",
       "\n",
       "       family_status  family_status_id gender income_type  debt  \\\n",
       "0    женат / замужем                 0      F   сотрудник     0   \n",
       "1    женат / замужем                 0      F   сотрудник     0   \n",
       "2    женат / замужем                 0      M   сотрудник     0   \n",
       "3    женат / замужем                 0      M   сотрудник     0   \n",
       "4   гражданский брак                 1      F   пенсионер     0   \n",
       "5   гражданский брак                 1      M   компаньон     0   \n",
       "6    женат / замужем                 0      F   компаньон     0   \n",
       "7    женат / замужем                 0      M   сотрудник     0   \n",
       "8   гражданский брак                 1      F   сотрудник     0   \n",
       "9    женат / замужем                 0      M   сотрудник     0   \n",
       "10   женат / замужем                 0      M   компаньон     0   \n",
       "11   женат / замужем                 0      F   сотрудник     0   \n",
       "12  гражданский брак                 1      M   пенсионер     0   \n",
       "13   женат / замужем                 0      F   сотрудник     0   \n",
       "14  гражданский брак                 1      F   компаньон     1   \n",
       "15   женат / замужем                 0      F   сотрудник     0   \n",
       "16   женат / замужем                 0      F   сотрудник     0   \n",
       "17  гражданский брак                 1      M   сотрудник     0   \n",
       "18    вдовец / вдова                 2      F   пенсионер     0   \n",
       "19         в разводе                 3      F   сотрудник     0   \n",
       "\n",
       "     total_income                                 purpose  \n",
       "0   253875.639453                           покупка жилья  \n",
       "1   112080.014102                 приобретение автомобиля  \n",
       "2   145885.952297                           покупка жилья  \n",
       "3   267628.550329              дополнительное образование  \n",
       "4   158616.077870                         сыграть свадьбу  \n",
       "5   255763.565419                           покупка жилья  \n",
       "6   240525.971920                       операции с жильем  \n",
       "7   135823.934197                             образование  \n",
       "8    95856.832424                   на проведение свадьбы  \n",
       "9   144425.938277                 покупка жилья для семьи  \n",
       "10  113943.491460                    покупка недвижимости  \n",
       "11   77069.234271       покупка коммерческой недвижимости  \n",
       "12            NaN                         сыграть свадьбу  \n",
       "13  130458.228857                 приобретение автомобиля  \n",
       "14  165127.911772              покупка жилой недвижимости  \n",
       "15  116820.904450  строительство собственной недвижимости  \n",
       "16  289202.704229                            недвижимость  \n",
       "17   90410.586745              строительство недвижимости  \n",
       "18   56823.777243      на покупку подержанного автомобиля  \n",
       "19  242831.107982            на покупку своего автомобиля  "
      ]
     },
     "metadata": {},
     "output_type": "display_data"
    }
   ],
   "source": [
    "import pandas as pd\n",
    "\n",
    "data = pd.read_csv('/datasets/data.csv')\n",
    "data.info()\n",
    "display(data.head(20))"
   ]
  },
  {
   "cell_type": "markdown",
   "id": "9067d4d0",
   "metadata": {},
   "source": [
    "\n",
    "### Шаг 2.1 Заполнение пропусков"
   ]
  },
  {
   "cell_type": "code",
   "execution_count": 2,
   "id": "5f817bc3",
   "metadata": {},
   "outputs": [
    {
     "data": {
      "text/plain": [
       "children               0\n",
       "days_employed       2174\n",
       "dob_years              0\n",
       "education              0\n",
       "education_id           0\n",
       "family_status          0\n",
       "family_status_id       0\n",
       "gender                 0\n",
       "income_type            0\n",
       "debt                   0\n",
       "total_income        2174\n",
       "purpose                0\n",
       "dtype: int64"
      ]
     },
     "execution_count": 2,
     "metadata": {},
     "output_type": "execute_result"
    }
   ],
   "source": [
    "data.isna().sum()"
   ]
  },
  {
   "cell_type": "markdown",
   "id": "8b40139e",
   "metadata": {},
   "source": [
    "Есть пропущеные значения в столбцах 'days_employed' и 'total_income', это колличественные данные. Их значение может повлиять на результаты исследования  "
   ]
  },
  {
   "cell_type": "code",
   "execution_count": 3,
   "id": "28c03f0b",
   "metadata": {},
   "outputs": [
    {
     "name": "stdout",
     "output_type": "stream",
     "text": [
      "Доля пропущеных значений в столбце days_employed: 10%\n",
      "Доля пропущеных значений в столбце total_income: 10%\n"
     ]
    }
   ],
   "source": [
    "print('Доля пропущеных значений в столбце days_employed: {:.0%}'.format(len(data[data['days_employed'].isna() == True]) / len(data['days_employed'])))\n",
    "\n",
    "print('Доля пропущеных значений в столбце total_income: {:.0%}'.format(len(data[data['total_income'].isna() == True]) / len(data['total_income'])))"
   ]
  },
  {
   "cell_type": "code",
   "execution_count": 4,
   "id": "db04439e",
   "metadata": {},
   "outputs": [
    {
     "data": {
      "text/plain": [
       "2174"
      ]
     },
     "execution_count": 4,
     "metadata": {},
     "output_type": "execute_result"
    }
   ],
   "source": [
    " #Проверяем  совпадают ли строки с пропусками\n",
    "data[(data['days_employed'].isna() == True) &(data['total_income'].isna() == True)]['children'].count()"
   ]
  },
  {
   "cell_type": "markdown",
   "id": "11c4f42c",
   "metadata": {},
   "source": [
    "Так как пропущеные значения находтся в колонках \"Общий трудовой стаж\" и \"Ежемесячный доход\", а также их количество и строки совпадает вроятнее всего это техническая ошибка."
   ]
  },
  {
   "cell_type": "markdown",
   "id": "a025c2f4",
   "metadata": {},
   "source": [
    "Не можем заполнить пропуски так-как значения 'days_employed' не корректны. Есть теория что положительные значения стобца 'days_employed' встречаются не у всех значений столбца 'income_type'"
   ]
  },
  {
   "cell_type": "code",
   "execution_count": 5,
   "id": "7a634272",
   "metadata": {},
   "outputs": [
    {
     "name": "stdout",
     "output_type": "stream",
     "text": [
      "['пенсионер' 'безработный']\n",
      "['сотрудник' 'компаньон' 'госслужащий' 'студент' 'предприниматель'\n",
      " 'в декрете']\n"
     ]
    }
   ],
   "source": [
    "#Значения типов занятости для которых общий трудовой стаж выражен положительныс числом\n",
    "print(data[data['days_employed'] > 0]['income_type'].unique()) \n",
    "\n",
    "#Значения типов занятости для которых общий трудовой стаж выражен отрицательным числом\n",
    "print(data[data['days_employed'] < 0]['income_type'].unique()) "
   ]
  },
  {
   "cell_type": "markdown",
   "id": "0cbcd2c1",
   "metadata": {},
   "source": [
    "Видим что заничения 'days_employed' имеющие не отрицательно значение встречаются только у 'пенсионер' 'безработный'."
   ]
  },
  {
   "cell_type": "code",
   "execution_count": 6,
   "id": "adc2137d",
   "metadata": {},
   "outputs": [
    {
     "data": {
      "text/plain": [
       "328728.72060451825"
      ]
     },
     "execution_count": 6,
     "metadata": {},
     "output_type": "execute_result"
    }
   ],
   "source": [
    "#ищем минимальное положительное значение 'days_employed' \n",
    "data[data['days_employed'] > 0]['days_employed'].min()"
   ]
  },
  {
   "cell_type": "markdown",
   "id": "ca647e6a",
   "metadata": {},
   "source": [
    "Так же положительные знаечения слишком велики, возможна ошибки едениц измерения. Вероятно значение указано в часах, а не в днях."
   ]
  },
  {
   "cell_type": "code",
   "execution_count": 7,
   "id": "24af7b1a",
   "metadata": {},
   "outputs": [
    {
     "data": {
      "text/html": [
       "<div>\n",
       "<style scoped>\n",
       "    .dataframe tbody tr th:only-of-type {\n",
       "        vertical-align: middle;\n",
       "    }\n",
       "\n",
       "    .dataframe tbody tr th {\n",
       "        vertical-align: top;\n",
       "    }\n",
       "\n",
       "    .dataframe thead th {\n",
       "        text-align: right;\n",
       "    }\n",
       "</style>\n",
       "<table border=\"1\" class=\"dataframe\">\n",
       "  <thead>\n",
       "    <tr style=\"text-align: right;\">\n",
       "      <th></th>\n",
       "      <th>children</th>\n",
       "      <th>days_employed</th>\n",
       "      <th>dob_years</th>\n",
       "      <th>education</th>\n",
       "      <th>education_id</th>\n",
       "      <th>family_status</th>\n",
       "      <th>family_status_id</th>\n",
       "      <th>gender</th>\n",
       "      <th>income_type</th>\n",
       "      <th>debt</th>\n",
       "      <th>total_income</th>\n",
       "      <th>purpose</th>\n",
       "    </tr>\n",
       "  </thead>\n",
       "  <tbody>\n",
       "    <tr>\n",
       "      <td>4</td>\n",
       "      <td>0</td>\n",
       "      <td>14177.753002</td>\n",
       "      <td>53</td>\n",
       "      <td>среднее</td>\n",
       "      <td>1</td>\n",
       "      <td>гражданский брак</td>\n",
       "      <td>1</td>\n",
       "      <td>F</td>\n",
       "      <td>пенсионер</td>\n",
       "      <td>0</td>\n",
       "      <td>158616.077870</td>\n",
       "      <td>сыграть свадьбу</td>\n",
       "    </tr>\n",
       "    <tr>\n",
       "      <td>18</td>\n",
       "      <td>0</td>\n",
       "      <td>16678.380705</td>\n",
       "      <td>53</td>\n",
       "      <td>среднее</td>\n",
       "      <td>1</td>\n",
       "      <td>вдовец / вдова</td>\n",
       "      <td>2</td>\n",
       "      <td>F</td>\n",
       "      <td>пенсионер</td>\n",
       "      <td>0</td>\n",
       "      <td>56823.777243</td>\n",
       "      <td>на покупку подержанного автомобиля</td>\n",
       "    </tr>\n",
       "    <tr>\n",
       "      <td>24</td>\n",
       "      <td>1</td>\n",
       "      <td>14106.331371</td>\n",
       "      <td>57</td>\n",
       "      <td>среднее</td>\n",
       "      <td>1</td>\n",
       "      <td>Не женат / не замужем</td>\n",
       "      <td>4</td>\n",
       "      <td>F</td>\n",
       "      <td>пенсионер</td>\n",
       "      <td>0</td>\n",
       "      <td>290547.235997</td>\n",
       "      <td>операции с коммерческой недвижимостью</td>\n",
       "    </tr>\n",
       "    <tr>\n",
       "      <td>25</td>\n",
       "      <td>0</td>\n",
       "      <td>15147.853723</td>\n",
       "      <td>67</td>\n",
       "      <td>среднее</td>\n",
       "      <td>1</td>\n",
       "      <td>женат / замужем</td>\n",
       "      <td>0</td>\n",
       "      <td>M</td>\n",
       "      <td>пенсионер</td>\n",
       "      <td>0</td>\n",
       "      <td>55112.757732</td>\n",
       "      <td>покупка недвижимости</td>\n",
       "    </tr>\n",
       "    <tr>\n",
       "      <td>30</td>\n",
       "      <td>1</td>\n",
       "      <td>13982.569521</td>\n",
       "      <td>62</td>\n",
       "      <td>среднее</td>\n",
       "      <td>1</td>\n",
       "      <td>женат / замужем</td>\n",
       "      <td>0</td>\n",
       "      <td>F</td>\n",
       "      <td>пенсионер</td>\n",
       "      <td>0</td>\n",
       "      <td>171456.067993</td>\n",
       "      <td>операции с коммерческой недвижимостью</td>\n",
       "    </tr>\n",
       "    <tr>\n",
       "      <td>35</td>\n",
       "      <td>0</td>\n",
       "      <td>16417.544674</td>\n",
       "      <td>68</td>\n",
       "      <td>среднее</td>\n",
       "      <td>1</td>\n",
       "      <td>гражданский брак</td>\n",
       "      <td>1</td>\n",
       "      <td>M</td>\n",
       "      <td>пенсионер</td>\n",
       "      <td>0</td>\n",
       "      <td>77805.677436</td>\n",
       "      <td>на проведение свадьбы</td>\n",
       "    </tr>\n",
       "    <tr>\n",
       "      <td>50</td>\n",
       "      <td>0</td>\n",
       "      <td>14738.809681</td>\n",
       "      <td>63</td>\n",
       "      <td>среднее</td>\n",
       "      <td>1</td>\n",
       "      <td>женат / замужем</td>\n",
       "      <td>0</td>\n",
       "      <td>F</td>\n",
       "      <td>пенсионер</td>\n",
       "      <td>0</td>\n",
       "      <td>92342.730612</td>\n",
       "      <td>автомобили</td>\n",
       "    </tr>\n",
       "    <tr>\n",
       "      <td>56</td>\n",
       "      <td>0</td>\n",
       "      <td>15422.711968</td>\n",
       "      <td>64</td>\n",
       "      <td>среднее</td>\n",
       "      <td>1</td>\n",
       "      <td>вдовец / вдова</td>\n",
       "      <td>2</td>\n",
       "      <td>F</td>\n",
       "      <td>пенсионер</td>\n",
       "      <td>0</td>\n",
       "      <td>149141.043533</td>\n",
       "      <td>образование</td>\n",
       "    </tr>\n",
       "    <tr>\n",
       "      <td>71</td>\n",
       "      <td>0</td>\n",
       "      <td>14088.063746</td>\n",
       "      <td>62</td>\n",
       "      <td>среднее</td>\n",
       "      <td>1</td>\n",
       "      <td>женат / замужем</td>\n",
       "      <td>0</td>\n",
       "      <td>F</td>\n",
       "      <td>пенсионер</td>\n",
       "      <td>0</td>\n",
       "      <td>43929.696397</td>\n",
       "      <td>автомобили</td>\n",
       "    </tr>\n",
       "    <tr>\n",
       "      <td>78</td>\n",
       "      <td>0</td>\n",
       "      <td>14988.456045</td>\n",
       "      <td>61</td>\n",
       "      <td>высшее</td>\n",
       "      <td>0</td>\n",
       "      <td>женат / замужем</td>\n",
       "      <td>0</td>\n",
       "      <td>M</td>\n",
       "      <td>пенсионер</td>\n",
       "      <td>0</td>\n",
       "      <td>175127.646000</td>\n",
       "      <td>сделка с автомобилем</td>\n",
       "    </tr>\n",
       "  </tbody>\n",
       "</table>\n",
       "</div>"
      ],
      "text/plain": [
       "    children  days_employed  dob_years education  education_id  \\\n",
       "4          0   14177.753002         53   среднее             1   \n",
       "18         0   16678.380705         53   среднее             1   \n",
       "24         1   14106.331371         57   среднее             1   \n",
       "25         0   15147.853723         67   среднее             1   \n",
       "30         1   13982.569521         62   среднее             1   \n",
       "35         0   16417.544674         68   среднее             1   \n",
       "50         0   14738.809681         63   среднее             1   \n",
       "56         0   15422.711968         64   среднее             1   \n",
       "71         0   14088.063746         62   среднее             1   \n",
       "78         0   14988.456045         61    высшее             0   \n",
       "\n",
       "            family_status  family_status_id gender income_type  debt  \\\n",
       "4        гражданский брак                 1      F   пенсионер     0   \n",
       "18         вдовец / вдова                 2      F   пенсионер     0   \n",
       "24  Не женат / не замужем                 4      F   пенсионер     0   \n",
       "25        женат / замужем                 0      M   пенсионер     0   \n",
       "30        женат / замужем                 0      F   пенсионер     0   \n",
       "35       гражданский брак                 1      M   пенсионер     0   \n",
       "50        женат / замужем                 0      F   пенсионер     0   \n",
       "56         вдовец / вдова                 2      F   пенсионер     0   \n",
       "71        женат / замужем                 0      F   пенсионер     0   \n",
       "78        женат / замужем                 0      M   пенсионер     0   \n",
       "\n",
       "     total_income                                purpose  \n",
       "4   158616.077870                        сыграть свадьбу  \n",
       "18   56823.777243     на покупку подержанного автомобиля  \n",
       "24  290547.235997  операции с коммерческой недвижимостью  \n",
       "25   55112.757732                   покупка недвижимости  \n",
       "30  171456.067993  операции с коммерческой недвижимостью  \n",
       "35   77805.677436                  на проведение свадьбы  \n",
       "50   92342.730612                             автомобили  \n",
       "56  149141.043533                            образование  \n",
       "71   43929.696397                             автомобили  \n",
       "78  175127.646000                   сделка с автомобилем  "
      ]
     },
     "execution_count": 7,
     "metadata": {},
     "output_type": "execute_result"
    }
   ],
   "source": [
    "#конвертируем значения из часов в дни, проверим что получилось\n",
    "def convert_hours (hours):\n",
    "    if hours > 0:\n",
    "        hours = hours / 24\n",
    "    return hours\n",
    "data['days_employed'] = data['days_employed'].apply(convert_hours)\n",
    "data[data['days_employed'] > 0].head(10)"
   ]
  },
  {
   "cell_type": "markdown",
   "id": "0c4bb07d",
   "metadata": {},
   "source": [
    "Теперь значения похожи на реальные данные в днях. Также требуется заменить отрицательные значения в столбце 'days_employed' "
   ]
  },
  {
   "cell_type": "code",
   "execution_count": 8,
   "id": "14385427",
   "metadata": {},
   "outputs": [
    {
     "data": {
      "text/html": [
       "<div>\n",
       "<style scoped>\n",
       "    .dataframe tbody tr th:only-of-type {\n",
       "        vertical-align: middle;\n",
       "    }\n",
       "\n",
       "    .dataframe tbody tr th {\n",
       "        vertical-align: top;\n",
       "    }\n",
       "\n",
       "    .dataframe thead th {\n",
       "        text-align: right;\n",
       "    }\n",
       "</style>\n",
       "<table border=\"1\" class=\"dataframe\">\n",
       "  <thead>\n",
       "    <tr style=\"text-align: right;\">\n",
       "      <th></th>\n",
       "      <th>children</th>\n",
       "      <th>days_employed</th>\n",
       "      <th>dob_years</th>\n",
       "      <th>education</th>\n",
       "      <th>education_id</th>\n",
       "      <th>family_status</th>\n",
       "      <th>family_status_id</th>\n",
       "      <th>gender</th>\n",
       "      <th>income_type</th>\n",
       "      <th>debt</th>\n",
       "      <th>total_income</th>\n",
       "      <th>purpose</th>\n",
       "    </tr>\n",
       "  </thead>\n",
       "  <tbody>\n",
       "    <tr>\n",
       "      <td>0</td>\n",
       "      <td>1</td>\n",
       "      <td>8437.673028</td>\n",
       "      <td>42</td>\n",
       "      <td>высшее</td>\n",
       "      <td>0</td>\n",
       "      <td>женат / замужем</td>\n",
       "      <td>0</td>\n",
       "      <td>F</td>\n",
       "      <td>сотрудник</td>\n",
       "      <td>0</td>\n",
       "      <td>253875.639453</td>\n",
       "      <td>покупка жилья</td>\n",
       "    </tr>\n",
       "    <tr>\n",
       "      <td>1</td>\n",
       "      <td>1</td>\n",
       "      <td>4024.803754</td>\n",
       "      <td>36</td>\n",
       "      <td>среднее</td>\n",
       "      <td>1</td>\n",
       "      <td>женат / замужем</td>\n",
       "      <td>0</td>\n",
       "      <td>F</td>\n",
       "      <td>сотрудник</td>\n",
       "      <td>0</td>\n",
       "      <td>112080.014102</td>\n",
       "      <td>приобретение автомобиля</td>\n",
       "    </tr>\n",
       "    <tr>\n",
       "      <td>2</td>\n",
       "      <td>0</td>\n",
       "      <td>5623.422610</td>\n",
       "      <td>33</td>\n",
       "      <td>Среднее</td>\n",
       "      <td>1</td>\n",
       "      <td>женат / замужем</td>\n",
       "      <td>0</td>\n",
       "      <td>M</td>\n",
       "      <td>сотрудник</td>\n",
       "      <td>0</td>\n",
       "      <td>145885.952297</td>\n",
       "      <td>покупка жилья</td>\n",
       "    </tr>\n",
       "    <tr>\n",
       "      <td>3</td>\n",
       "      <td>3</td>\n",
       "      <td>4124.747207</td>\n",
       "      <td>32</td>\n",
       "      <td>среднее</td>\n",
       "      <td>1</td>\n",
       "      <td>женат / замужем</td>\n",
       "      <td>0</td>\n",
       "      <td>M</td>\n",
       "      <td>сотрудник</td>\n",
       "      <td>0</td>\n",
       "      <td>267628.550329</td>\n",
       "      <td>дополнительное образование</td>\n",
       "    </tr>\n",
       "    <tr>\n",
       "      <td>4</td>\n",
       "      <td>0</td>\n",
       "      <td>14177.753002</td>\n",
       "      <td>53</td>\n",
       "      <td>среднее</td>\n",
       "      <td>1</td>\n",
       "      <td>гражданский брак</td>\n",
       "      <td>1</td>\n",
       "      <td>F</td>\n",
       "      <td>пенсионер</td>\n",
       "      <td>0</td>\n",
       "      <td>158616.077870</td>\n",
       "      <td>сыграть свадьбу</td>\n",
       "    </tr>\n",
       "  </tbody>\n",
       "</table>\n",
       "</div>"
      ],
      "text/plain": [
       "   children  days_employed  dob_years education  education_id  \\\n",
       "0         1    8437.673028         42    высшее             0   \n",
       "1         1    4024.803754         36   среднее             1   \n",
       "2         0    5623.422610         33   Среднее             1   \n",
       "3         3    4124.747207         32   среднее             1   \n",
       "4         0   14177.753002         53   среднее             1   \n",
       "\n",
       "      family_status  family_status_id gender income_type  debt   total_income  \\\n",
       "0   женат / замужем                 0      F   сотрудник     0  253875.639453   \n",
       "1   женат / замужем                 0      F   сотрудник     0  112080.014102   \n",
       "2   женат / замужем                 0      M   сотрудник     0  145885.952297   \n",
       "3   женат / замужем                 0      M   сотрудник     0  267628.550329   \n",
       "4  гражданский брак                 1      F   пенсионер     0  158616.077870   \n",
       "\n",
       "                      purpose  \n",
       "0               покупка жилья  \n",
       "1     приобретение автомобиля  \n",
       "2               покупка жилья  \n",
       "3  дополнительное образование  \n",
       "4             сыграть свадьбу  "
      ]
     },
     "execution_count": 8,
     "metadata": {},
     "output_type": "execute_result"
    }
   ],
   "source": [
    "data['days_employed'] = data['days_employed'].apply(abs)\n",
    "data.head(5)"
   ]
  },
  {
   "cell_type": "markdown",
   "id": "407f0caa",
   "metadata": {},
   "source": [
    "Теперь заменим пропуски медианным значением по столбцу, в столбцах 'days_employed' 'total_income'. Медианное значение подходит лучше так как среднее значение является слишком чувствительным к так называемым «выбросам»"
   ]
  },
  {
   "cell_type": "code",
   "execution_count": 9,
   "id": "e19c0ffc",
   "metadata": {},
   "outputs": [
    {
     "data": {
      "text/plain": [
       "children            0\n",
       "days_employed       0\n",
       "dob_years           0\n",
       "education           0\n",
       "education_id        0\n",
       "family_status       0\n",
       "family_status_id    0\n",
       "gender              0\n",
       "income_type         0\n",
       "debt                0\n",
       "total_income        0\n",
       "purpose             0\n",
       "dtype: int64"
      ]
     },
     "execution_count": 9,
     "metadata": {},
     "output_type": "execute_result"
    }
   ],
   "source": [
    "data['days_employed'] = data['days_employed'].fillna(data['days_employed'].median())\n",
    "data['total_income'] = data['total_income'].fillna(data['total_income'].median())\n",
    "data.isna().sum()"
   ]
  },
  {
   "cell_type": "markdown",
   "id": "b8e84676",
   "metadata": {},
   "source": [
    "### Шаг 2.2 Проверка данных на аномалии и исправления."
   ]
  },
  {
   "cell_type": "code",
   "execution_count": 10,
   "id": "9c6ff290",
   "metadata": {},
   "outputs": [
    {
     "name": "stdout",
     "output_type": "stream",
     "text": [
      "-1 20\n"
     ]
    }
   ],
   "source": [
    "print(data['children'].min(), data['children'].max()) #Проверяем максимальные и минимальные значения столбца \"children\""
   ]
  },
  {
   "cell_type": "markdown",
   "id": "21a70aa9",
   "metadata": {},
   "source": [
    "В столбце 'children' есть отрицательные значения чего быть не может, скорей всего это ошибка ввода. максимальное значение 20 а это уже может быть как ошибкой так и вполне реальным значением, оставим как есть."
   ]
  },
  {
   "cell_type": "code",
   "execution_count": 11,
   "id": "c7dfe995",
   "metadata": {},
   "outputs": [],
   "source": [
    "data['children'] = data['children'].apply(abs) #Преобразуем все значения в положительные"
   ]
  },
  {
   "cell_type": "markdown",
   "id": "be9ff048",
   "metadata": {},
   "source": [
    "### Шаг 2.3. Изменение типов данных."
   ]
  },
  {
   "cell_type": "markdown",
   "id": "a8d8820e",
   "metadata": {},
   "source": [
    "Заменим вещественный тип данных в столбцах 'total_income' и 'days_employed' на целочисленный"
   ]
  },
  {
   "cell_type": "code",
   "execution_count": 12,
   "id": "ba84db60",
   "metadata": {},
   "outputs": [
    {
     "data": {
      "text/html": [
       "<div>\n",
       "<style scoped>\n",
       "    .dataframe tbody tr th:only-of-type {\n",
       "        vertical-align: middle;\n",
       "    }\n",
       "\n",
       "    .dataframe tbody tr th {\n",
       "        vertical-align: top;\n",
       "    }\n",
       "\n",
       "    .dataframe thead th {\n",
       "        text-align: right;\n",
       "    }\n",
       "</style>\n",
       "<table border=\"1\" class=\"dataframe\">\n",
       "  <thead>\n",
       "    <tr style=\"text-align: right;\">\n",
       "      <th></th>\n",
       "      <th>children</th>\n",
       "      <th>days_employed</th>\n",
       "      <th>dob_years</th>\n",
       "      <th>education</th>\n",
       "      <th>education_id</th>\n",
       "      <th>family_status</th>\n",
       "      <th>family_status_id</th>\n",
       "      <th>gender</th>\n",
       "      <th>income_type</th>\n",
       "      <th>debt</th>\n",
       "      <th>total_income</th>\n",
       "      <th>purpose</th>\n",
       "    </tr>\n",
       "  </thead>\n",
       "  <tbody>\n",
       "    <tr>\n",
       "      <td>0</td>\n",
       "      <td>1</td>\n",
       "      <td>8437</td>\n",
       "      <td>42</td>\n",
       "      <td>высшее</td>\n",
       "      <td>0</td>\n",
       "      <td>женат / замужем</td>\n",
       "      <td>0</td>\n",
       "      <td>F</td>\n",
       "      <td>сотрудник</td>\n",
       "      <td>0</td>\n",
       "      <td>253875</td>\n",
       "      <td>покупка жилья</td>\n",
       "    </tr>\n",
       "    <tr>\n",
       "      <td>1</td>\n",
       "      <td>1</td>\n",
       "      <td>4024</td>\n",
       "      <td>36</td>\n",
       "      <td>среднее</td>\n",
       "      <td>1</td>\n",
       "      <td>женат / замужем</td>\n",
       "      <td>0</td>\n",
       "      <td>F</td>\n",
       "      <td>сотрудник</td>\n",
       "      <td>0</td>\n",
       "      <td>112080</td>\n",
       "      <td>приобретение автомобиля</td>\n",
       "    </tr>\n",
       "    <tr>\n",
       "      <td>2</td>\n",
       "      <td>0</td>\n",
       "      <td>5623</td>\n",
       "      <td>33</td>\n",
       "      <td>Среднее</td>\n",
       "      <td>1</td>\n",
       "      <td>женат / замужем</td>\n",
       "      <td>0</td>\n",
       "      <td>M</td>\n",
       "      <td>сотрудник</td>\n",
       "      <td>0</td>\n",
       "      <td>145885</td>\n",
       "      <td>покупка жилья</td>\n",
       "    </tr>\n",
       "    <tr>\n",
       "      <td>3</td>\n",
       "      <td>3</td>\n",
       "      <td>4124</td>\n",
       "      <td>32</td>\n",
       "      <td>среднее</td>\n",
       "      <td>1</td>\n",
       "      <td>женат / замужем</td>\n",
       "      <td>0</td>\n",
       "      <td>M</td>\n",
       "      <td>сотрудник</td>\n",
       "      <td>0</td>\n",
       "      <td>267628</td>\n",
       "      <td>дополнительное образование</td>\n",
       "    </tr>\n",
       "    <tr>\n",
       "      <td>4</td>\n",
       "      <td>0</td>\n",
       "      <td>14177</td>\n",
       "      <td>53</td>\n",
       "      <td>среднее</td>\n",
       "      <td>1</td>\n",
       "      <td>гражданский брак</td>\n",
       "      <td>1</td>\n",
       "      <td>F</td>\n",
       "      <td>пенсионер</td>\n",
       "      <td>0</td>\n",
       "      <td>158616</td>\n",
       "      <td>сыграть свадьбу</td>\n",
       "    </tr>\n",
       "  </tbody>\n",
       "</table>\n",
       "</div>"
      ],
      "text/plain": [
       "   children  days_employed  dob_years education  education_id  \\\n",
       "0         1           8437         42    высшее             0   \n",
       "1         1           4024         36   среднее             1   \n",
       "2         0           5623         33   Среднее             1   \n",
       "3         3           4124         32   среднее             1   \n",
       "4         0          14177         53   среднее             1   \n",
       "\n",
       "      family_status  family_status_id gender income_type  debt  total_income  \\\n",
       "0   женат / замужем                 0      F   сотрудник     0        253875   \n",
       "1   женат / замужем                 0      F   сотрудник     0        112080   \n",
       "2   женат / замужем                 0      M   сотрудник     0        145885   \n",
       "3   женат / замужем                 0      M   сотрудник     0        267628   \n",
       "4  гражданский брак                 1      F   пенсионер     0        158616   \n",
       "\n",
       "                      purpose  \n",
       "0               покупка жилья  \n",
       "1     приобретение автомобиля  \n",
       "2               покупка жилья  \n",
       "3  дополнительное образование  \n",
       "4             сыграть свадьбу  "
      ]
     },
     "execution_count": 12,
     "metadata": {},
     "output_type": "execute_result"
    }
   ],
   "source": [
    "data['total_income'] = data['total_income'].astype('int')\n",
    "data['days_employed'] = data['days_employed'].astype('int')\n",
    "data.head(5)"
   ]
  },
  {
   "cell_type": "markdown",
   "id": "a673aa88",
   "metadata": {},
   "source": [
    "### Шаг 2.4. Удаление дубликатов."
   ]
  },
  {
   "cell_type": "markdown",
   "id": "a99eec64",
   "metadata": {},
   "source": [
    "Сначала проверим на неявные дубликаты и исправим их, и только затем проверим на явные так как количество явных дубликатов может увеличится. "
   ]
  },
  {
   "cell_type": "code",
   "execution_count": 13,
   "id": "57873105",
   "metadata": {},
   "outputs": [
    {
     "data": {
      "text/plain": [
       "array(['высшее', 'среднее', 'Среднее', 'СРЕДНЕЕ', 'ВЫСШЕЕ',\n",
       "       'неоконченное высшее', 'начальное', 'Высшее',\n",
       "       'НЕОКОНЧЕННОЕ ВЫСШЕЕ', 'Неоконченное высшее', 'НАЧАЛЬНОЕ',\n",
       "       'Начальное', 'Ученая степень', 'УЧЕНАЯ СТЕПЕНЬ', 'ученая степень'],\n",
       "      dtype=object)"
      ]
     },
     "execution_count": 13,
     "metadata": {},
     "output_type": "execute_result"
    }
   ],
   "source": [
    "data['education'].unique()"
   ]
  },
  {
   "cell_type": "markdown",
   "id": "cf86eb9b",
   "metadata": {},
   "source": [
    "Имеются записи с разным регистром, приведём их к единому виду."
   ]
  },
  {
   "cell_type": "code",
   "execution_count": 14,
   "id": "f69e28b4",
   "metadata": {},
   "outputs": [
    {
     "data": {
      "text/plain": [
       "array(['высшее', 'среднее', 'неоконченное высшее', 'начальное',\n",
       "       'ученая степень'], dtype=object)"
      ]
     },
     "execution_count": 14,
     "metadata": {},
     "output_type": "execute_result"
    }
   ],
   "source": [
    "data['education'] = data['education'].str.lower()\n",
    "data['education'].unique()"
   ]
  },
  {
   "cell_type": "code",
   "execution_count": 15,
   "id": "23e3f76b",
   "metadata": {},
   "outputs": [
    {
     "data": {
      "text/plain": [
       "array(['женат / замужем', 'гражданский брак', 'вдовец / вдова',\n",
       "       'в разводе', 'Не женат / не замужем'], dtype=object)"
      ]
     },
     "execution_count": 15,
     "metadata": {},
     "output_type": "execute_result"
    }
   ],
   "source": [
    "data['family_status'].unique()"
   ]
  },
  {
   "cell_type": "code",
   "execution_count": 16,
   "id": "a23ed8e9",
   "metadata": {},
   "outputs": [
    {
     "data": {
      "text/plain": [
       "array(['F', 'M', 'XNA'], dtype=object)"
      ]
     },
     "execution_count": 16,
     "metadata": {},
     "output_type": "execute_result"
    }
   ],
   "source": [
    "data['gender'].unique()"
   ]
  },
  {
   "cell_type": "code",
   "execution_count": 17,
   "id": "0c2d11ee",
   "metadata": {},
   "outputs": [
    {
     "data": {
      "text/plain": [
       "array(['сотрудник', 'пенсионер', 'компаньон', 'госслужащий',\n",
       "       'безработный', 'предприниматель', 'студент', 'в декрете'],\n",
       "      dtype=object)"
      ]
     },
     "execution_count": 17,
     "metadata": {},
     "output_type": "execute_result"
    }
   ],
   "source": [
    "data['income_type'].unique()"
   ]
  },
  {
   "cell_type": "code",
   "execution_count": 18,
   "id": "e4f9c202",
   "metadata": {},
   "outputs": [
    {
     "data": {
      "text/plain": [
       "array(['автомобили', 'автомобиль', 'высшее образование',\n",
       "       'дополнительное образование', 'жилье',\n",
       "       'заняться высшим образованием', 'заняться образованием',\n",
       "       'на покупку автомобиля', 'на покупку подержанного автомобиля',\n",
       "       'на покупку своего автомобиля', 'на проведение свадьбы',\n",
       "       'недвижимость', 'образование', 'операции с жильем',\n",
       "       'операции с коммерческой недвижимостью',\n",
       "       'операции с недвижимостью', 'операции со своей недвижимостью',\n",
       "       'покупка жилой недвижимости', 'покупка жилья',\n",
       "       'покупка жилья для сдачи', 'покупка жилья для семьи',\n",
       "       'покупка коммерческой недвижимости', 'покупка недвижимости',\n",
       "       'покупка своего жилья', 'получение высшего образования',\n",
       "       'получение дополнительного образования', 'получение образования',\n",
       "       'приобретение автомобиля', 'профильное образование',\n",
       "       'ремонт жилью', 'свадьба', 'свой автомобиль',\n",
       "       'сделка с автомобилем', 'сделка с подержанным автомобилем',\n",
       "       'строительство жилой недвижимости', 'строительство недвижимости',\n",
       "       'строительство собственной недвижимости', 'сыграть свадьбу'],\n",
       "      dtype=object)"
      ]
     },
     "execution_count": 18,
     "metadata": {},
     "output_type": "execute_result"
    }
   ],
   "source": [
    "data['purpose'].sort_values().unique()"
   ]
  },
  {
   "cell_type": "markdown",
   "id": "fa456919",
   "metadata": {},
   "source": [
    "В столбце 'purpose' есть неявные дубликаты, судя по всему данные вводились вручную. Хорошо бы сделать ввод данных из предопределённых значений. Так же в задании далее указано \"Создайте функцию, которая на основании данных из столбца purpose сформирует новый столбец purpose_category\", так что пока что оставим без изменений."
   ]
  },
  {
   "cell_type": "markdown",
   "id": "25df1b5b",
   "metadata": {},
   "source": [
    "Далее проверим данные на явные дубликаты."
   ]
  },
  {
   "cell_type": "code",
   "execution_count": 19,
   "id": "7d5958d9",
   "metadata": {},
   "outputs": [
    {
     "name": "stdout",
     "output_type": "stream",
     "text": [
      "Обнаружено 71 строчек с дублированными значениями\n"
     ]
    }
   ],
   "source": [
    "print('Обнаружено', data.duplicated().sum(), 'строчек с дублированными значениями')"
   ]
  },
  {
   "cell_type": "markdown",
   "id": "fec9d640",
   "metadata": {},
   "source": [
    " Удалим их, и проверим."
   ]
  },
  {
   "cell_type": "code",
   "execution_count": 20,
   "id": "0a478afc",
   "metadata": {},
   "outputs": [
    {
     "data": {
      "text/plain": [
       "0"
      ]
     },
     "execution_count": 20,
     "metadata": {},
     "output_type": "execute_result"
    }
   ],
   "source": [
    "data = data.drop_duplicates().reset_index(drop=True)\n",
    "data.duplicated().sum()"
   ]
  },
  {
   "cell_type": "markdown",
   "id": "f1cbe054",
   "metadata": {},
   "source": [
    "Возможными причинами дубликатов могли стать: человеческий фактор, сбои в работе программного обеспечения в котором эти данные вводились, не корректная выгрузка. "
   ]
  },
  {
   "cell_type": "markdown",
   "id": "501d7f64",
   "metadata": {},
   "source": [
    "### Шаг 2.5. Формирование дополнительных датафреймов словарей, декомпозиция исходного датафрейма."
   ]
  },
  {
   "cell_type": "markdown",
   "id": "7be292a5",
   "metadata": {},
   "source": [
    "Создадим отдельный датафрэйм с колонками 'education' 'family_statu' 'education_id' 'family_status_id', и уберём их из исодного датафрэйма и оставим только идентификаторы 'education_id' 'family_status_id'."
   ]
  },
  {
   "cell_type": "code",
   "execution_count": 21,
   "id": "6b41ec73",
   "metadata": {},
   "outputs": [
    {
     "data": {
      "text/html": [
       "<div>\n",
       "<style scoped>\n",
       "    .dataframe tbody tr th:only-of-type {\n",
       "        vertical-align: middle;\n",
       "    }\n",
       "\n",
       "    .dataframe tbody tr th {\n",
       "        vertical-align: top;\n",
       "    }\n",
       "\n",
       "    .dataframe thead th {\n",
       "        text-align: right;\n",
       "    }\n",
       "</style>\n",
       "<table border=\"1\" class=\"dataframe\">\n",
       "  <thead>\n",
       "    <tr style=\"text-align: right;\">\n",
       "      <th></th>\n",
       "      <th>education_id</th>\n",
       "      <th>education</th>\n",
       "    </tr>\n",
       "  </thead>\n",
       "  <tbody>\n",
       "    <tr>\n",
       "      <td>0</td>\n",
       "      <td>0</td>\n",
       "      <td>высшее</td>\n",
       "    </tr>\n",
       "    <tr>\n",
       "      <td>1</td>\n",
       "      <td>1</td>\n",
       "      <td>среднее</td>\n",
       "    </tr>\n",
       "    <tr>\n",
       "      <td>2</td>\n",
       "      <td>2</td>\n",
       "      <td>неоконченное высшее</td>\n",
       "    </tr>\n",
       "    <tr>\n",
       "      <td>3</td>\n",
       "      <td>3</td>\n",
       "      <td>начальное</td>\n",
       "    </tr>\n",
       "    <tr>\n",
       "      <td>4</td>\n",
       "      <td>4</td>\n",
       "      <td>ученая степень</td>\n",
       "    </tr>\n",
       "  </tbody>\n",
       "</table>\n",
       "</div>"
      ],
      "text/plain": [
       "   education_id            education\n",
       "0             0               высшее\n",
       "1             1              среднее\n",
       "2             2  неоконченное высшее\n",
       "3             3            начальное\n",
       "4             4       ученая степень"
      ]
     },
     "metadata": {},
     "output_type": "display_data"
    },
    {
     "data": {
      "text/html": [
       "<div>\n",
       "<style scoped>\n",
       "    .dataframe tbody tr th:only-of-type {\n",
       "        vertical-align: middle;\n",
       "    }\n",
       "\n",
       "    .dataframe tbody tr th {\n",
       "        vertical-align: top;\n",
       "    }\n",
       "\n",
       "    .dataframe thead th {\n",
       "        text-align: right;\n",
       "    }\n",
       "</style>\n",
       "<table border=\"1\" class=\"dataframe\">\n",
       "  <thead>\n",
       "    <tr style=\"text-align: right;\">\n",
       "      <th></th>\n",
       "      <th>family_status_id</th>\n",
       "      <th>family_status</th>\n",
       "    </tr>\n",
       "  </thead>\n",
       "  <tbody>\n",
       "    <tr>\n",
       "      <td>0</td>\n",
       "      <td>0</td>\n",
       "      <td>женат / замужем</td>\n",
       "    </tr>\n",
       "    <tr>\n",
       "      <td>1</td>\n",
       "      <td>1</td>\n",
       "      <td>гражданский брак</td>\n",
       "    </tr>\n",
       "    <tr>\n",
       "      <td>2</td>\n",
       "      <td>2</td>\n",
       "      <td>вдовец / вдова</td>\n",
       "    </tr>\n",
       "    <tr>\n",
       "      <td>3</td>\n",
       "      <td>3</td>\n",
       "      <td>в разводе</td>\n",
       "    </tr>\n",
       "    <tr>\n",
       "      <td>4</td>\n",
       "      <td>4</td>\n",
       "      <td>Не женат / не замужем</td>\n",
       "    </tr>\n",
       "  </tbody>\n",
       "</table>\n",
       "</div>"
      ],
      "text/plain": [
       "   family_status_id          family_status\n",
       "0                 0        женат / замужем\n",
       "1                 1       гражданский брак\n",
       "2                 2         вдовец / вдова\n",
       "3                 3              в разводе\n",
       "4                 4  Не женат / не замужем"
      ]
     },
     "metadata": {},
     "output_type": "display_data"
    },
    {
     "data": {
      "text/html": [
       "<div>\n",
       "<style scoped>\n",
       "    .dataframe tbody tr th:only-of-type {\n",
       "        vertical-align: middle;\n",
       "    }\n",
       "\n",
       "    .dataframe tbody tr th {\n",
       "        vertical-align: top;\n",
       "    }\n",
       "\n",
       "    .dataframe thead th {\n",
       "        text-align: right;\n",
       "    }\n",
       "</style>\n",
       "<table border=\"1\" class=\"dataframe\">\n",
       "  <thead>\n",
       "    <tr style=\"text-align: right;\">\n",
       "      <th></th>\n",
       "      <th>children</th>\n",
       "      <th>days_employed</th>\n",
       "      <th>dob_years</th>\n",
       "      <th>education_id</th>\n",
       "      <th>family_status_id</th>\n",
       "      <th>gender</th>\n",
       "      <th>income_type</th>\n",
       "      <th>debt</th>\n",
       "      <th>total_income</th>\n",
       "      <th>purpose</th>\n",
       "    </tr>\n",
       "  </thead>\n",
       "  <tbody>\n",
       "    <tr>\n",
       "      <td>0</td>\n",
       "      <td>1</td>\n",
       "      <td>8437</td>\n",
       "      <td>42</td>\n",
       "      <td>0</td>\n",
       "      <td>0</td>\n",
       "      <td>F</td>\n",
       "      <td>сотрудник</td>\n",
       "      <td>0</td>\n",
       "      <td>253875</td>\n",
       "      <td>покупка жилья</td>\n",
       "    </tr>\n",
       "    <tr>\n",
       "      <td>1</td>\n",
       "      <td>1</td>\n",
       "      <td>4024</td>\n",
       "      <td>36</td>\n",
       "      <td>1</td>\n",
       "      <td>0</td>\n",
       "      <td>F</td>\n",
       "      <td>сотрудник</td>\n",
       "      <td>0</td>\n",
       "      <td>112080</td>\n",
       "      <td>приобретение автомобиля</td>\n",
       "    </tr>\n",
       "    <tr>\n",
       "      <td>2</td>\n",
       "      <td>0</td>\n",
       "      <td>5623</td>\n",
       "      <td>33</td>\n",
       "      <td>1</td>\n",
       "      <td>0</td>\n",
       "      <td>M</td>\n",
       "      <td>сотрудник</td>\n",
       "      <td>0</td>\n",
       "      <td>145885</td>\n",
       "      <td>покупка жилья</td>\n",
       "    </tr>\n",
       "    <tr>\n",
       "      <td>3</td>\n",
       "      <td>3</td>\n",
       "      <td>4124</td>\n",
       "      <td>32</td>\n",
       "      <td>1</td>\n",
       "      <td>0</td>\n",
       "      <td>M</td>\n",
       "      <td>сотрудник</td>\n",
       "      <td>0</td>\n",
       "      <td>267628</td>\n",
       "      <td>дополнительное образование</td>\n",
       "    </tr>\n",
       "    <tr>\n",
       "      <td>4</td>\n",
       "      <td>0</td>\n",
       "      <td>14177</td>\n",
       "      <td>53</td>\n",
       "      <td>1</td>\n",
       "      <td>1</td>\n",
       "      <td>F</td>\n",
       "      <td>пенсионер</td>\n",
       "      <td>0</td>\n",
       "      <td>158616</td>\n",
       "      <td>сыграть свадьбу</td>\n",
       "    </tr>\n",
       "    <tr>\n",
       "      <td>5</td>\n",
       "      <td>0</td>\n",
       "      <td>926</td>\n",
       "      <td>27</td>\n",
       "      <td>0</td>\n",
       "      <td>1</td>\n",
       "      <td>M</td>\n",
       "      <td>компаньон</td>\n",
       "      <td>0</td>\n",
       "      <td>255763</td>\n",
       "      <td>покупка жилья</td>\n",
       "    </tr>\n",
       "    <tr>\n",
       "      <td>6</td>\n",
       "      <td>0</td>\n",
       "      <td>2879</td>\n",
       "      <td>43</td>\n",
       "      <td>0</td>\n",
       "      <td>0</td>\n",
       "      <td>F</td>\n",
       "      <td>компаньон</td>\n",
       "      <td>0</td>\n",
       "      <td>240525</td>\n",
       "      <td>операции с жильем</td>\n",
       "    </tr>\n",
       "    <tr>\n",
       "      <td>7</td>\n",
       "      <td>0</td>\n",
       "      <td>152</td>\n",
       "      <td>50</td>\n",
       "      <td>1</td>\n",
       "      <td>0</td>\n",
       "      <td>M</td>\n",
       "      <td>сотрудник</td>\n",
       "      <td>0</td>\n",
       "      <td>135823</td>\n",
       "      <td>образование</td>\n",
       "    </tr>\n",
       "    <tr>\n",
       "      <td>8</td>\n",
       "      <td>2</td>\n",
       "      <td>6929</td>\n",
       "      <td>35</td>\n",
       "      <td>0</td>\n",
       "      <td>1</td>\n",
       "      <td>F</td>\n",
       "      <td>сотрудник</td>\n",
       "      <td>0</td>\n",
       "      <td>95856</td>\n",
       "      <td>на проведение свадьбы</td>\n",
       "    </tr>\n",
       "    <tr>\n",
       "      <td>9</td>\n",
       "      <td>0</td>\n",
       "      <td>2188</td>\n",
       "      <td>41</td>\n",
       "      <td>1</td>\n",
       "      <td>0</td>\n",
       "      <td>M</td>\n",
       "      <td>сотрудник</td>\n",
       "      <td>0</td>\n",
       "      <td>144425</td>\n",
       "      <td>покупка жилья для семьи</td>\n",
       "    </tr>\n",
       "  </tbody>\n",
       "</table>\n",
       "</div>"
      ],
      "text/plain": [
       "   children  days_employed  dob_years  education_id  family_status_id gender  \\\n",
       "0         1           8437         42             0                 0      F   \n",
       "1         1           4024         36             1                 0      F   \n",
       "2         0           5623         33             1                 0      M   \n",
       "3         3           4124         32             1                 0      M   \n",
       "4         0          14177         53             1                 1      F   \n",
       "5         0            926         27             0                 1      M   \n",
       "6         0           2879         43             0                 0      F   \n",
       "7         0            152         50             1                 0      M   \n",
       "8         2           6929         35             0                 1      F   \n",
       "9         0           2188         41             1                 0      M   \n",
       "\n",
       "  income_type  debt  total_income                     purpose  \n",
       "0   сотрудник     0        253875               покупка жилья  \n",
       "1   сотрудник     0        112080     приобретение автомобиля  \n",
       "2   сотрудник     0        145885               покупка жилья  \n",
       "3   сотрудник     0        267628  дополнительное образование  \n",
       "4   пенсионер     0        158616             сыграть свадьбу  \n",
       "5   компаньон     0        255763               покупка жилья  \n",
       "6   компаньон     0        240525           операции с жильем  \n",
       "7   сотрудник     0        135823                 образование  \n",
       "8   сотрудник     0         95856       на проведение свадьбы  \n",
       "9   сотрудник     0        144425     покупка жилья для семьи  "
      ]
     },
     "execution_count": 21,
     "metadata": {},
     "output_type": "execute_result"
    }
   ],
   "source": [
    "\n",
    "# создаём словари с идентификаторами\n",
    "dict_education = data[['education_id','education']]\n",
    "dict_family_statu = data[['family_status_id','family_status']]\n",
    "# убираем дублированные значения\n",
    "dict_education = dict_education.drop_duplicates().reset_index(drop=True)\n",
    "dict_family_statu = dict_family_statu.drop_duplicates().reset_index(drop=True)\n",
    "#убираме столбцы из основного датафрэйма\n",
    "data = data.drop(columns = ['education', 'family_status'], axis = 1) \n",
    "\n",
    "display(dict_education)\n",
    "display(dict_family_statu)\n",
    "data.head(10)"
   ]
  },
  {
   "cell_type": "markdown",
   "id": "30138ca4",
   "metadata": {},
   "source": [
    "### Шаг 2.6. Категоризация дохода."
   ]
  },
  {
   "cell_type": "markdown",
   "id": "e275f1ed",
   "metadata": {},
   "source": [
    "Добавим столбец с категориями доходов для более удобной работы и наглядности."
   ]
  },
  {
   "cell_type": "code",
   "execution_count": 22,
   "id": "c61a9531",
   "metadata": {},
   "outputs": [
    {
     "data": {
      "text/html": [
       "<div>\n",
       "<style scoped>\n",
       "    .dataframe tbody tr th:only-of-type {\n",
       "        vertical-align: middle;\n",
       "    }\n",
       "\n",
       "    .dataframe tbody tr th {\n",
       "        vertical-align: top;\n",
       "    }\n",
       "\n",
       "    .dataframe thead th {\n",
       "        text-align: right;\n",
       "    }\n",
       "</style>\n",
       "<table border=\"1\" class=\"dataframe\">\n",
       "  <thead>\n",
       "    <tr style=\"text-align: right;\">\n",
       "      <th></th>\n",
       "      <th>children</th>\n",
       "      <th>days_employed</th>\n",
       "      <th>dob_years</th>\n",
       "      <th>education_id</th>\n",
       "      <th>family_status_id</th>\n",
       "      <th>gender</th>\n",
       "      <th>income_type</th>\n",
       "      <th>debt</th>\n",
       "      <th>total_income</th>\n",
       "      <th>purpose</th>\n",
       "      <th>total_income_category</th>\n",
       "    </tr>\n",
       "  </thead>\n",
       "  <tbody>\n",
       "    <tr>\n",
       "      <td>0</td>\n",
       "      <td>1</td>\n",
       "      <td>8437</td>\n",
       "      <td>42</td>\n",
       "      <td>0</td>\n",
       "      <td>0</td>\n",
       "      <td>F</td>\n",
       "      <td>сотрудник</td>\n",
       "      <td>0</td>\n",
       "      <td>253875</td>\n",
       "      <td>покупка жилья</td>\n",
       "      <td>B</td>\n",
       "    </tr>\n",
       "    <tr>\n",
       "      <td>1</td>\n",
       "      <td>1</td>\n",
       "      <td>4024</td>\n",
       "      <td>36</td>\n",
       "      <td>1</td>\n",
       "      <td>0</td>\n",
       "      <td>F</td>\n",
       "      <td>сотрудник</td>\n",
       "      <td>0</td>\n",
       "      <td>112080</td>\n",
       "      <td>приобретение автомобиля</td>\n",
       "      <td>C</td>\n",
       "    </tr>\n",
       "    <tr>\n",
       "      <td>2</td>\n",
       "      <td>0</td>\n",
       "      <td>5623</td>\n",
       "      <td>33</td>\n",
       "      <td>1</td>\n",
       "      <td>0</td>\n",
       "      <td>M</td>\n",
       "      <td>сотрудник</td>\n",
       "      <td>0</td>\n",
       "      <td>145885</td>\n",
       "      <td>покупка жилья</td>\n",
       "      <td>C</td>\n",
       "    </tr>\n",
       "    <tr>\n",
       "      <td>3</td>\n",
       "      <td>3</td>\n",
       "      <td>4124</td>\n",
       "      <td>32</td>\n",
       "      <td>1</td>\n",
       "      <td>0</td>\n",
       "      <td>M</td>\n",
       "      <td>сотрудник</td>\n",
       "      <td>0</td>\n",
       "      <td>267628</td>\n",
       "      <td>дополнительное образование</td>\n",
       "      <td>B</td>\n",
       "    </tr>\n",
       "    <tr>\n",
       "      <td>4</td>\n",
       "      <td>0</td>\n",
       "      <td>14177</td>\n",
       "      <td>53</td>\n",
       "      <td>1</td>\n",
       "      <td>1</td>\n",
       "      <td>F</td>\n",
       "      <td>пенсионер</td>\n",
       "      <td>0</td>\n",
       "      <td>158616</td>\n",
       "      <td>сыграть свадьбу</td>\n",
       "      <td>C</td>\n",
       "    </tr>\n",
       "    <tr>\n",
       "      <td>5</td>\n",
       "      <td>0</td>\n",
       "      <td>926</td>\n",
       "      <td>27</td>\n",
       "      <td>0</td>\n",
       "      <td>1</td>\n",
       "      <td>M</td>\n",
       "      <td>компаньон</td>\n",
       "      <td>0</td>\n",
       "      <td>255763</td>\n",
       "      <td>покупка жилья</td>\n",
       "      <td>B</td>\n",
       "    </tr>\n",
       "    <tr>\n",
       "      <td>6</td>\n",
       "      <td>0</td>\n",
       "      <td>2879</td>\n",
       "      <td>43</td>\n",
       "      <td>0</td>\n",
       "      <td>0</td>\n",
       "      <td>F</td>\n",
       "      <td>компаньон</td>\n",
       "      <td>0</td>\n",
       "      <td>240525</td>\n",
       "      <td>операции с жильем</td>\n",
       "      <td>B</td>\n",
       "    </tr>\n",
       "    <tr>\n",
       "      <td>7</td>\n",
       "      <td>0</td>\n",
       "      <td>152</td>\n",
       "      <td>50</td>\n",
       "      <td>1</td>\n",
       "      <td>0</td>\n",
       "      <td>M</td>\n",
       "      <td>сотрудник</td>\n",
       "      <td>0</td>\n",
       "      <td>135823</td>\n",
       "      <td>образование</td>\n",
       "      <td>C</td>\n",
       "    </tr>\n",
       "    <tr>\n",
       "      <td>8</td>\n",
       "      <td>2</td>\n",
       "      <td>6929</td>\n",
       "      <td>35</td>\n",
       "      <td>0</td>\n",
       "      <td>1</td>\n",
       "      <td>F</td>\n",
       "      <td>сотрудник</td>\n",
       "      <td>0</td>\n",
       "      <td>95856</td>\n",
       "      <td>на проведение свадьбы</td>\n",
       "      <td>C</td>\n",
       "    </tr>\n",
       "    <tr>\n",
       "      <td>9</td>\n",
       "      <td>0</td>\n",
       "      <td>2188</td>\n",
       "      <td>41</td>\n",
       "      <td>1</td>\n",
       "      <td>0</td>\n",
       "      <td>M</td>\n",
       "      <td>сотрудник</td>\n",
       "      <td>0</td>\n",
       "      <td>144425</td>\n",
       "      <td>покупка жилья для семьи</td>\n",
       "      <td>C</td>\n",
       "    </tr>\n",
       "  </tbody>\n",
       "</table>\n",
       "</div>"
      ],
      "text/plain": [
       "   children  days_employed  dob_years  education_id  family_status_id gender  \\\n",
       "0         1           8437         42             0                 0      F   \n",
       "1         1           4024         36             1                 0      F   \n",
       "2         0           5623         33             1                 0      M   \n",
       "3         3           4124         32             1                 0      M   \n",
       "4         0          14177         53             1                 1      F   \n",
       "5         0            926         27             0                 1      M   \n",
       "6         0           2879         43             0                 0      F   \n",
       "7         0            152         50             1                 0      M   \n",
       "8         2           6929         35             0                 1      F   \n",
       "9         0           2188         41             1                 0      M   \n",
       "\n",
       "  income_type  debt  total_income                     purpose  \\\n",
       "0   сотрудник     0        253875               покупка жилья   \n",
       "1   сотрудник     0        112080     приобретение автомобиля   \n",
       "2   сотрудник     0        145885               покупка жилья   \n",
       "3   сотрудник     0        267628  дополнительное образование   \n",
       "4   пенсионер     0        158616             сыграть свадьбу   \n",
       "5   компаньон     0        255763               покупка жилья   \n",
       "6   компаньон     0        240525           операции с жильем   \n",
       "7   сотрудник     0        135823                 образование   \n",
       "8   сотрудник     0         95856       на проведение свадьбы   \n",
       "9   сотрудник     0        144425     покупка жилья для семьи   \n",
       "\n",
       "  total_income_category  \n",
       "0                     B  \n",
       "1                     C  \n",
       "2                     C  \n",
       "3                     B  \n",
       "4                     C  \n",
       "5                     B  \n",
       "6                     B  \n",
       "7                     C  \n",
       "8                     C  \n",
       "9                     C  "
      ]
     },
     "execution_count": 22,
     "metadata": {},
     "output_type": "execute_result"
    }
   ],
   "source": [
    "# Функция для деления дохода по категориям в зависмости от заначения столбца 'total_income'\n",
    "def total_income_category(income):\n",
    "    if income <= 30000:\n",
    "        return 'E'\n",
    "    if income <= 50000:\n",
    "        return 'D'\n",
    "    if income <= 200000:\n",
    "        return 'C'\n",
    "    if income <= 1000000:\n",
    "        return 'B'\n",
    "    return 'A'\n",
    "\n",
    "# Применяем фунцию\n",
    "data['total_income_category'] = data['total_income'].apply(total_income_category)\n",
    "\n",
    "data.head(10)"
   ]
  },
  {
   "cell_type": "markdown",
   "id": "f7b2613c",
   "metadata": {},
   "source": [
    "### Шаг 2.7. Категоризация целей кредита."
   ]
  },
  {
   "cell_type": "markdown",
   "id": "109d1614",
   "metadata": {},
   "source": [
    "Сделаем ещё одну колонку 'purpose_category' в которую запишем в зависимости от значений столбца 'purpose' категории: \n",
    "'операции с автомобилем'\n",
    "'операции с недвижимостью'\n",
    "'проведение свадьбы'\n",
    "'получение образования'"
   ]
  },
  {
   "cell_type": "code",
   "execution_count": 23,
   "id": "179da933",
   "metadata": {},
   "outputs": [
    {
     "name": "stdout",
     "output_type": "stream",
     "text": [
      "['операции с автомобилем' 'операции с недвижимостью'\n",
      " 'получение образования' 'проведение свадьбы']\n"
     ]
    },
    {
     "data": {
      "text/html": [
       "<div>\n",
       "<style scoped>\n",
       "    .dataframe tbody tr th:only-of-type {\n",
       "        vertical-align: middle;\n",
       "    }\n",
       "\n",
       "    .dataframe tbody tr th {\n",
       "        vertical-align: top;\n",
       "    }\n",
       "\n",
       "    .dataframe thead th {\n",
       "        text-align: right;\n",
       "    }\n",
       "</style>\n",
       "<table border=\"1\" class=\"dataframe\">\n",
       "  <thead>\n",
       "    <tr style=\"text-align: right;\">\n",
       "      <th></th>\n",
       "      <th>children</th>\n",
       "      <th>days_employed</th>\n",
       "      <th>dob_years</th>\n",
       "      <th>education_id</th>\n",
       "      <th>family_status_id</th>\n",
       "      <th>gender</th>\n",
       "      <th>income_type</th>\n",
       "      <th>debt</th>\n",
       "      <th>total_income</th>\n",
       "      <th>purpose</th>\n",
       "      <th>total_income_category</th>\n",
       "      <th>purpose_category</th>\n",
       "    </tr>\n",
       "  </thead>\n",
       "  <tbody>\n",
       "    <tr>\n",
       "      <td>0</td>\n",
       "      <td>1</td>\n",
       "      <td>8437</td>\n",
       "      <td>42</td>\n",
       "      <td>0</td>\n",
       "      <td>0</td>\n",
       "      <td>F</td>\n",
       "      <td>сотрудник</td>\n",
       "      <td>0</td>\n",
       "      <td>253875</td>\n",
       "      <td>покупка жилья</td>\n",
       "      <td>B</td>\n",
       "      <td>операции с недвижимостью</td>\n",
       "    </tr>\n",
       "    <tr>\n",
       "      <td>1</td>\n",
       "      <td>1</td>\n",
       "      <td>4024</td>\n",
       "      <td>36</td>\n",
       "      <td>1</td>\n",
       "      <td>0</td>\n",
       "      <td>F</td>\n",
       "      <td>сотрудник</td>\n",
       "      <td>0</td>\n",
       "      <td>112080</td>\n",
       "      <td>приобретение автомобиля</td>\n",
       "      <td>C</td>\n",
       "      <td>операции с автомобилем</td>\n",
       "    </tr>\n",
       "    <tr>\n",
       "      <td>2</td>\n",
       "      <td>0</td>\n",
       "      <td>5623</td>\n",
       "      <td>33</td>\n",
       "      <td>1</td>\n",
       "      <td>0</td>\n",
       "      <td>M</td>\n",
       "      <td>сотрудник</td>\n",
       "      <td>0</td>\n",
       "      <td>145885</td>\n",
       "      <td>покупка жилья</td>\n",
       "      <td>C</td>\n",
       "      <td>операции с недвижимостью</td>\n",
       "    </tr>\n",
       "    <tr>\n",
       "      <td>3</td>\n",
       "      <td>3</td>\n",
       "      <td>4124</td>\n",
       "      <td>32</td>\n",
       "      <td>1</td>\n",
       "      <td>0</td>\n",
       "      <td>M</td>\n",
       "      <td>сотрудник</td>\n",
       "      <td>0</td>\n",
       "      <td>267628</td>\n",
       "      <td>дополнительное образование</td>\n",
       "      <td>B</td>\n",
       "      <td>получение образования</td>\n",
       "    </tr>\n",
       "    <tr>\n",
       "      <td>4</td>\n",
       "      <td>0</td>\n",
       "      <td>14177</td>\n",
       "      <td>53</td>\n",
       "      <td>1</td>\n",
       "      <td>1</td>\n",
       "      <td>F</td>\n",
       "      <td>пенсионер</td>\n",
       "      <td>0</td>\n",
       "      <td>158616</td>\n",
       "      <td>сыграть свадьбу</td>\n",
       "      <td>C</td>\n",
       "      <td>проведение свадьбы</td>\n",
       "    </tr>\n",
       "    <tr>\n",
       "      <td>5</td>\n",
       "      <td>0</td>\n",
       "      <td>926</td>\n",
       "      <td>27</td>\n",
       "      <td>0</td>\n",
       "      <td>1</td>\n",
       "      <td>M</td>\n",
       "      <td>компаньон</td>\n",
       "      <td>0</td>\n",
       "      <td>255763</td>\n",
       "      <td>покупка жилья</td>\n",
       "      <td>B</td>\n",
       "      <td>операции с недвижимостью</td>\n",
       "    </tr>\n",
       "    <tr>\n",
       "      <td>6</td>\n",
       "      <td>0</td>\n",
       "      <td>2879</td>\n",
       "      <td>43</td>\n",
       "      <td>0</td>\n",
       "      <td>0</td>\n",
       "      <td>F</td>\n",
       "      <td>компаньон</td>\n",
       "      <td>0</td>\n",
       "      <td>240525</td>\n",
       "      <td>операции с жильем</td>\n",
       "      <td>B</td>\n",
       "      <td>операции с недвижимостью</td>\n",
       "    </tr>\n",
       "    <tr>\n",
       "      <td>7</td>\n",
       "      <td>0</td>\n",
       "      <td>152</td>\n",
       "      <td>50</td>\n",
       "      <td>1</td>\n",
       "      <td>0</td>\n",
       "      <td>M</td>\n",
       "      <td>сотрудник</td>\n",
       "      <td>0</td>\n",
       "      <td>135823</td>\n",
       "      <td>образование</td>\n",
       "      <td>C</td>\n",
       "      <td>получение образования</td>\n",
       "    </tr>\n",
       "    <tr>\n",
       "      <td>8</td>\n",
       "      <td>2</td>\n",
       "      <td>6929</td>\n",
       "      <td>35</td>\n",
       "      <td>0</td>\n",
       "      <td>1</td>\n",
       "      <td>F</td>\n",
       "      <td>сотрудник</td>\n",
       "      <td>0</td>\n",
       "      <td>95856</td>\n",
       "      <td>на проведение свадьбы</td>\n",
       "      <td>C</td>\n",
       "      <td>проведение свадьбы</td>\n",
       "    </tr>\n",
       "    <tr>\n",
       "      <td>9</td>\n",
       "      <td>0</td>\n",
       "      <td>2188</td>\n",
       "      <td>41</td>\n",
       "      <td>1</td>\n",
       "      <td>0</td>\n",
       "      <td>M</td>\n",
       "      <td>сотрудник</td>\n",
       "      <td>0</td>\n",
       "      <td>144425</td>\n",
       "      <td>покупка жилья для семьи</td>\n",
       "      <td>C</td>\n",
       "      <td>операции с недвижимостью</td>\n",
       "    </tr>\n",
       "  </tbody>\n",
       "</table>\n",
       "</div>"
      ],
      "text/plain": [
       "   children  days_employed  dob_years  education_id  family_status_id gender  \\\n",
       "0         1           8437         42             0                 0      F   \n",
       "1         1           4024         36             1                 0      F   \n",
       "2         0           5623         33             1                 0      M   \n",
       "3         3           4124         32             1                 0      M   \n",
       "4         0          14177         53             1                 1      F   \n",
       "5         0            926         27             0                 1      M   \n",
       "6         0           2879         43             0                 0      F   \n",
       "7         0            152         50             1                 0      M   \n",
       "8         2           6929         35             0                 1      F   \n",
       "9         0           2188         41             1                 0      M   \n",
       "\n",
       "  income_type  debt  total_income                     purpose  \\\n",
       "0   сотрудник     0        253875               покупка жилья   \n",
       "1   сотрудник     0        112080     приобретение автомобиля   \n",
       "2   сотрудник     0        145885               покупка жилья   \n",
       "3   сотрудник     0        267628  дополнительное образование   \n",
       "4   пенсионер     0        158616             сыграть свадьбу   \n",
       "5   компаньон     0        255763               покупка жилья   \n",
       "6   компаньон     0        240525           операции с жильем   \n",
       "7   сотрудник     0        135823                 образование   \n",
       "8   сотрудник     0         95856       на проведение свадьбы   \n",
       "9   сотрудник     0        144425     покупка жилья для семьи   \n",
       "\n",
       "  total_income_category          purpose_category  \n",
       "0                     B  операции с недвижимостью  \n",
       "1                     C    операции с автомобилем  \n",
       "2                     C  операции с недвижимостью  \n",
       "3                     B     получение образования  \n",
       "4                     C        проведение свадьбы  \n",
       "5                     B  операции с недвижимостью  \n",
       "6                     B  операции с недвижимостью  \n",
       "7                     C     получение образования  \n",
       "8                     C        проведение свадьбы  \n",
       "9                     C  операции с недвижимостью  "
      ]
     },
     "execution_count": 23,
     "metadata": {},
     "output_type": "execute_result"
    }
   ],
   "source": [
    "# Создаём колонку 'purpose_category' идентичную колонке 'purpose', затем в не функцией replace() заменим значения на нужные\n",
    "data['purpose_category'] = data['purpose']\n",
    "data['purpose_category'] = data['purpose_category'].replace(['автомобили','на покупку автомобиля',\n",
    "                                           'на покупку подержанного автомобиля',\n",
    "                                           'на покупку своего автомобиля',\n",
    "                                           'приобретение автомобиля,',\n",
    "                                           'автомобиль',\n",
    "                                           'свой автомобиль','сделка с автомобилем',\n",
    "                                           'сделка с подержанным автомобилем',\n",
    "                                           'приобретение автомобиля'],'операции с автомобилем')\n",
    "\n",
    "data['purpose_category'] = data['purpose_category'].replace(['высшее образование',\n",
    "                                           'дополнительное образование',\n",
    "                                           'заняться высшим образованием',\n",
    "                                           'заняться образованием',\n",
    "                                           'образование',\n",
    "                                           'получение высшего образования',\n",
    "                                           'получение дополнительного образования',\n",
    "                                           'профильное образование'],'получение образования')\n",
    "\n",
    "data['purpose_category'] = data['purpose_category'].replace(['жилье',\n",
    "                                           'операции с жильем',\n",
    "                                           'операции с коммерческой недвижимостью',\n",
    "                                           'операции со своей недвижимостью',\n",
    "                                           'покупка жилой недвижимости',\n",
    "                                           'покупка жилья',\n",
    "                                           'покупка жилья для сдачи',\n",
    "                                           'ремонт жилью',\n",
    "                                           'ремонт',\n",
    "                                           'покупка недвижимости',\n",
    "                                           'покупка жилья для семьи', \n",
    "                                           'покупка коммерческой недвижимости',\n",
    "                                           'покупка своего жилья',\n",
    "                                           'недвижимость',\n",
    "                                           'строительство жилой недвижимости',\n",
    "                                           'строительство собственной недвижимости',\n",
    "                                           'строительство недвижимости'],'операции с недвижимостью')\n",
    "\n",
    "data['purpose_category'] = data['purpose_category'].replace(['на проведение свадьбы',\n",
    "                                           'сыграть свадьбу',\n",
    "                                           'свадьба'],'проведение свадьбы')\n",
    "print(data['purpose_category'].sort_values().unique())\n",
    "data.head(10)\n",
    "\n",
    "\n",
    "   "
   ]
  },
  {
   "cell_type": "markdown",
   "id": "85f001c0",
   "metadata": {},
   "source": [
    "### Ответы на вопросы."
   ]
  },
  {
   "cell_type": "markdown",
   "id": "5747aed3",
   "metadata": {},
   "source": [
    "Есть ли зависимость между количеством детей и возвратом кредита в срок?\n",
    "\n",
    "Категоризируем данные по кличеству детей\n",
    "1) без детей\n",
    "2) 1-2 ребёнка\n",
    "3) многодетные"
   ]
  },
  {
   "cell_type": "code",
   "execution_count": 24,
   "id": "ce8715a0",
   "metadata": {},
   "outputs": [
    {
     "data": {
      "text/html": [
       "<div>\n",
       "<style scoped>\n",
       "    .dataframe tbody tr th:only-of-type {\n",
       "        vertical-align: middle;\n",
       "    }\n",
       "\n",
       "    .dataframe tbody tr th {\n",
       "        vertical-align: top;\n",
       "    }\n",
       "\n",
       "    .dataframe thead th {\n",
       "        text-align: right;\n",
       "    }\n",
       "</style>\n",
       "<table border=\"1\" class=\"dataframe\">\n",
       "  <thead>\n",
       "    <tr style=\"text-align: right;\">\n",
       "      <th></th>\n",
       "      <th>children</th>\n",
       "      <th>days_employed</th>\n",
       "      <th>dob_years</th>\n",
       "      <th>education_id</th>\n",
       "      <th>family_status_id</th>\n",
       "      <th>gender</th>\n",
       "      <th>income_type</th>\n",
       "      <th>debt</th>\n",
       "      <th>total_income</th>\n",
       "      <th>purpose</th>\n",
       "      <th>total_income_category</th>\n",
       "      <th>purpose_category</th>\n",
       "      <th>children_category</th>\n",
       "    </tr>\n",
       "  </thead>\n",
       "  <tbody>\n",
       "    <tr>\n",
       "      <td>0</td>\n",
       "      <td>1</td>\n",
       "      <td>8437</td>\n",
       "      <td>42</td>\n",
       "      <td>0</td>\n",
       "      <td>0</td>\n",
       "      <td>F</td>\n",
       "      <td>сотрудник</td>\n",
       "      <td>0</td>\n",
       "      <td>253875</td>\n",
       "      <td>покупка жилья</td>\n",
       "      <td>B</td>\n",
       "      <td>операции с недвижимостью</td>\n",
       "      <td>1-2 ребёнка</td>\n",
       "    </tr>\n",
       "    <tr>\n",
       "      <td>1</td>\n",
       "      <td>1</td>\n",
       "      <td>4024</td>\n",
       "      <td>36</td>\n",
       "      <td>1</td>\n",
       "      <td>0</td>\n",
       "      <td>F</td>\n",
       "      <td>сотрудник</td>\n",
       "      <td>0</td>\n",
       "      <td>112080</td>\n",
       "      <td>приобретение автомобиля</td>\n",
       "      <td>C</td>\n",
       "      <td>операции с автомобилем</td>\n",
       "      <td>1-2 ребёнка</td>\n",
       "    </tr>\n",
       "    <tr>\n",
       "      <td>2</td>\n",
       "      <td>0</td>\n",
       "      <td>5623</td>\n",
       "      <td>33</td>\n",
       "      <td>1</td>\n",
       "      <td>0</td>\n",
       "      <td>M</td>\n",
       "      <td>сотрудник</td>\n",
       "      <td>0</td>\n",
       "      <td>145885</td>\n",
       "      <td>покупка жилья</td>\n",
       "      <td>C</td>\n",
       "      <td>операции с недвижимостью</td>\n",
       "      <td>без детей</td>\n",
       "    </tr>\n",
       "    <tr>\n",
       "      <td>3</td>\n",
       "      <td>3</td>\n",
       "      <td>4124</td>\n",
       "      <td>32</td>\n",
       "      <td>1</td>\n",
       "      <td>0</td>\n",
       "      <td>M</td>\n",
       "      <td>сотрудник</td>\n",
       "      <td>0</td>\n",
       "      <td>267628</td>\n",
       "      <td>дополнительное образование</td>\n",
       "      <td>B</td>\n",
       "      <td>получение образования</td>\n",
       "      <td>многодетные</td>\n",
       "    </tr>\n",
       "    <tr>\n",
       "      <td>4</td>\n",
       "      <td>0</td>\n",
       "      <td>14177</td>\n",
       "      <td>53</td>\n",
       "      <td>1</td>\n",
       "      <td>1</td>\n",
       "      <td>F</td>\n",
       "      <td>пенсионер</td>\n",
       "      <td>0</td>\n",
       "      <td>158616</td>\n",
       "      <td>сыграть свадьбу</td>\n",
       "      <td>C</td>\n",
       "      <td>проведение свадьбы</td>\n",
       "      <td>без детей</td>\n",
       "    </tr>\n",
       "  </tbody>\n",
       "</table>\n",
       "</div>"
      ],
      "text/plain": [
       "   children  days_employed  dob_years  education_id  family_status_id gender  \\\n",
       "0         1           8437         42             0                 0      F   \n",
       "1         1           4024         36             1                 0      F   \n",
       "2         0           5623         33             1                 0      M   \n",
       "3         3           4124         32             1                 0      M   \n",
       "4         0          14177         53             1                 1      F   \n",
       "\n",
       "  income_type  debt  total_income                     purpose  \\\n",
       "0   сотрудник     0        253875               покупка жилья   \n",
       "1   сотрудник     0        112080     приобретение автомобиля   \n",
       "2   сотрудник     0        145885               покупка жилья   \n",
       "3   сотрудник     0        267628  дополнительное образование   \n",
       "4   пенсионер     0        158616             сыграть свадьбу   \n",
       "\n",
       "  total_income_category          purpose_category children_category  \n",
       "0                     B  операции с недвижимостью       1-2 ребёнка  \n",
       "1                     C    операции с автомобилем       1-2 ребёнка  \n",
       "2                     C  операции с недвижимостью         без детей  \n",
       "3                     B     получение образования       многодетные  \n",
       "4                     C        проведение свадьбы         без детей  "
      ]
     },
     "execution_count": 24,
     "metadata": {},
     "output_type": "execute_result"
    }
   ],
   "source": [
    "# Функция для деления на котегории в зависмости от значиний столбца 'children'\n",
    "def children_category(children):\n",
    "    if children == 0:\n",
    "        return 'без детей'\n",
    "    if children <= 2:\n",
    "        return '1-2 ребёнка'\n",
    "    return 'многодетные'\n",
    "# Применяем функцию \n",
    "data['children_category'] = data['children'].apply(children_category)\n",
    "data.head(5)\n"
   ]
  },
  {
   "cell_type": "markdown",
   "id": "41f77def",
   "metadata": {},
   "source": [
    "Теперь сделаем сводную таблцу, в ней отразим процент просрочки по 'children_category'"
   ]
  },
  {
   "cell_type": "code",
   "execution_count": 25,
   "id": "71a901ad",
   "metadata": {},
   "outputs": [
    {
     "data": {
      "text/html": [
       "<div>\n",
       "<style scoped>\n",
       "    .dataframe tbody tr th:only-of-type {\n",
       "        vertical-align: middle;\n",
       "    }\n",
       "\n",
       "    .dataframe tbody tr th {\n",
       "        vertical-align: top;\n",
       "    }\n",
       "\n",
       "    .dataframe thead th {\n",
       "        text-align: right;\n",
       "    }\n",
       "</style>\n",
       "<table border=\"1\" class=\"dataframe\">\n",
       "  <thead>\n",
       "    <tr style=\"text-align: right;\">\n",
       "      <th></th>\n",
       "      <th>Общее количество</th>\n",
       "      <th>Процент должников</th>\n",
       "    </tr>\n",
       "    <tr>\n",
       "      <th>children_category</th>\n",
       "      <th></th>\n",
       "      <th></th>\n",
       "    </tr>\n",
       "  </thead>\n",
       "  <tbody>\n",
       "    <tr>\n",
       "      <td>без детей</td>\n",
       "      <td>14091.0</td>\n",
       "      <td>7.5</td>\n",
       "    </tr>\n",
       "    <tr>\n",
       "      <td>многодетные</td>\n",
       "      <td>456.0</td>\n",
       "      <td>8.6</td>\n",
       "    </tr>\n",
       "    <tr>\n",
       "      <td>1-2 ребёнка</td>\n",
       "      <td>6907.0</td>\n",
       "      <td>9.3</td>\n",
       "    </tr>\n",
       "  </tbody>\n",
       "</table>\n",
       "</div>"
      ],
      "text/plain": [
       "                   Общее количество  Процент должников\n",
       "children_category                                     \n",
       "без детей                   14091.0                7.5\n",
       "многодетные                   456.0                8.6\n",
       "1-2 ребёнка                  6907.0                9.3"
      ]
     },
     "execution_count": 25,
     "metadata": {},
     "output_type": "execute_result"
    }
   ],
   "source": [
    "# Формируем сводную таблицу\n",
    "children_category_debt = data.pivot_table(index = ['children_category'], values='debt', aggfunc = ('mean', lambda X:X.count()))\n",
    "\n",
    "# Форматируем значения, имена колонок и отсортируем  для удобства и наглядности\n",
    "children_category_debt['mean'] = round(children_category_debt['mean']*100, 1)\n",
    "children_category_debt = children_category_debt.rename(columns={'<lambda_0>':'Общее количество', 'mean':'Процент должников'})\n",
    "\n",
    "children_category_debt.sort_values('Процент должников')"
   ]
  },
  {
   "cell_type": "markdown",
   "id": "c4290fd6",
   "metadata": {},
   "source": [
    "Видим что у бездетных самый маленький процент просрочки, так же видем что у многодетных процент просрочки ниже чем у тех у кого 1 или 2 ребёнка. Нульзя утверждать что количество детей значительно влияет на погашение кредита."
   ]
  },
  {
   "cell_type": "markdown",
   "id": "b7eba2db",
   "metadata": {},
   "source": [
    "Есть ли зависимость между семейным положением и возвратом кредита в срок?"
   ]
  },
  {
   "cell_type": "code",
   "execution_count": 26,
   "id": "7e933533",
   "metadata": {},
   "outputs": [
    {
     "data": {
      "text/html": [
       "<div>\n",
       "<style scoped>\n",
       "    .dataframe tbody tr th:only-of-type {\n",
       "        vertical-align: middle;\n",
       "    }\n",
       "\n",
       "    .dataframe tbody tr th {\n",
       "        vertical-align: top;\n",
       "    }\n",
       "\n",
       "    .dataframe thead th {\n",
       "        text-align: right;\n",
       "    }\n",
       "</style>\n",
       "<table border=\"1\" class=\"dataframe\">\n",
       "  <thead>\n",
       "    <tr style=\"text-align: right;\">\n",
       "      <th></th>\n",
       "      <th>family_status_id</th>\n",
       "      <th>Общее количество</th>\n",
       "      <th>Процент должников</th>\n",
       "      <th>family_status</th>\n",
       "    </tr>\n",
       "  </thead>\n",
       "  <tbody>\n",
       "    <tr>\n",
       "      <td>2</td>\n",
       "      <td>2</td>\n",
       "      <td>959.0</td>\n",
       "      <td>6.6</td>\n",
       "      <td>вдовец / вдова</td>\n",
       "    </tr>\n",
       "    <tr>\n",
       "      <td>3</td>\n",
       "      <td>3</td>\n",
       "      <td>1195.0</td>\n",
       "      <td>7.1</td>\n",
       "      <td>в разводе</td>\n",
       "    </tr>\n",
       "    <tr>\n",
       "      <td>0</td>\n",
       "      <td>0</td>\n",
       "      <td>12339.0</td>\n",
       "      <td>7.5</td>\n",
       "      <td>женат / замужем</td>\n",
       "    </tr>\n",
       "    <tr>\n",
       "      <td>1</td>\n",
       "      <td>1</td>\n",
       "      <td>4151.0</td>\n",
       "      <td>9.3</td>\n",
       "      <td>гражданский брак</td>\n",
       "    </tr>\n",
       "    <tr>\n",
       "      <td>4</td>\n",
       "      <td>4</td>\n",
       "      <td>2810.0</td>\n",
       "      <td>9.8</td>\n",
       "      <td>Не женат / не замужем</td>\n",
       "    </tr>\n",
       "  </tbody>\n",
       "</table>\n",
       "</div>"
      ],
      "text/plain": [
       "   family_status_id  Общее количество  Процент должников  \\\n",
       "2                 2             959.0                6.6   \n",
       "3                 3            1195.0                7.1   \n",
       "0                 0           12339.0                7.5   \n",
       "1                 1            4151.0                9.3   \n",
       "4                 4            2810.0                9.8   \n",
       "\n",
       "           family_status  \n",
       "2         вдовец / вдова  \n",
       "3              в разводе  \n",
       "0        женат / замужем  \n",
       "1       гражданский брак  \n",
       "4  Не женат / не замужем  "
      ]
     },
     "execution_count": 26,
     "metadata": {},
     "output_type": "execute_result"
    }
   ],
   "source": [
    "# Формируем сводную таблицу\n",
    "family_status_debt = data.pivot_table(index = ['family_status_id'], values='debt', aggfunc = ('mean', lambda X:X.count()))\n",
    "\n",
    "# Форматируем значения и имена колонок \n",
    "family_status_debt['mean'] = round(family_status_debt['mean']*100, 1)\n",
    "family_status_debt = family_status_debt.rename(columns={'<lambda_0>':'Общее количество', 'mean':'Процент должников'})\n",
    "\n",
    "# Соеденим с словарём dict_family_statu для удобства, и отсартирум для наглядности \n",
    "family_status_debt = family_status_debt.merge(dict_family_statu, on='family_status_id', how='left')\n",
    "family_status_debt.sort_values('Процент должников')"
   ]
  },
  {
   "cell_type": "markdown",
   "id": "b7f7f583",
   "metadata": {},
   "source": [
    "Из представленной таблицы видим что процент должников больше всего у людей никогда не состоявших в официальном браке. В тоже время люди в разводе или потерявшие своих супрогов более ответсвенно отностятся у погошению кредитов."
   ]
  },
  {
   "cell_type": "markdown",
   "id": "6fc9e114",
   "metadata": {},
   "source": [
    "Есть ли зависимость между уровнем дохода и возвратом кредита в срок?"
   ]
  },
  {
   "cell_type": "code",
   "execution_count": 27,
   "id": "da8e59dc",
   "metadata": {
    "scrolled": true
   },
   "outputs": [
    {
     "data": {
      "text/html": [
       "<div>\n",
       "<style scoped>\n",
       "    .dataframe tbody tr th:only-of-type {\n",
       "        vertical-align: middle;\n",
       "    }\n",
       "\n",
       "    .dataframe tbody tr th {\n",
       "        vertical-align: top;\n",
       "    }\n",
       "\n",
       "    .dataframe thead th {\n",
       "        text-align: right;\n",
       "    }\n",
       "</style>\n",
       "<table border=\"1\" class=\"dataframe\">\n",
       "  <thead>\n",
       "    <tr style=\"text-align: right;\">\n",
       "      <th></th>\n",
       "      <th>Общее количество</th>\n",
       "      <th>Процент должников</th>\n",
       "    </tr>\n",
       "    <tr>\n",
       "      <th>total_income_category</th>\n",
       "      <th></th>\n",
       "      <th></th>\n",
       "    </tr>\n",
       "  </thead>\n",
       "  <tbody>\n",
       "    <tr>\n",
       "      <td>A</td>\n",
       "      <td>25.0</td>\n",
       "      <td>8.0</td>\n",
       "    </tr>\n",
       "    <tr>\n",
       "      <td>B</td>\n",
       "      <td>5041.0</td>\n",
       "      <td>7.1</td>\n",
       "    </tr>\n",
       "    <tr>\n",
       "      <td>C</td>\n",
       "      <td>16016.0</td>\n",
       "      <td>8.5</td>\n",
       "    </tr>\n",
       "    <tr>\n",
       "      <td>D</td>\n",
       "      <td>350.0</td>\n",
       "      <td>6.0</td>\n",
       "    </tr>\n",
       "    <tr>\n",
       "      <td>E</td>\n",
       "      <td>22.0</td>\n",
       "      <td>9.1</td>\n",
       "    </tr>\n",
       "  </tbody>\n",
       "</table>\n",
       "</div>"
      ],
      "text/plain": [
       "                       Общее количество  Процент должников\n",
       "total_income_category                                     \n",
       "A                                  25.0                8.0\n",
       "B                                5041.0                7.1\n",
       "C                               16016.0                8.5\n",
       "D                                 350.0                6.0\n",
       "E                                  22.0                9.1"
      ]
     },
     "execution_count": 27,
     "metadata": {},
     "output_type": "execute_result"
    }
   ],
   "source": [
    "# Формируем сводную таблицу\n",
    "income_category_debt = data.pivot_table(index = ['total_income_category'], values='debt', aggfunc = ('mean', lambda X:X.count()))\n",
    "# Форматируем значения, имена колонок и отсортируем  для удобства и наглядности\n",
    "income_category_debt['mean'] = round(income_category_debt['mean']*100, 1)\n",
    "income_category_debt = income_category_debt.rename(columns={'<lambda_0>':'Общее количество', 'mean':'Процент должников'})\n",
    "\n",
    "income_category_debt.sort_values('total_income_category')"
   ]
  },
  {
   "cell_type": "markdown",
   "id": "8603c95c",
   "metadata": {},
   "source": [
    "Видим что уровень дохода никак не влияет на на погошение кридита."
   ]
  },
  {
   "cell_type": "code",
   "execution_count": 28,
   "id": "b2058b1b",
   "metadata": {},
   "outputs": [
    {
     "name": "stdout",
     "output_type": "stream",
     "text": [
      "Object `срок` not found.\n"
     ]
    }
   ],
   "source": [
    "Как разные цели кредита влияют на его возврат в срок?"
   ]
  },
  {
   "cell_type": "code",
   "execution_count": null,
   "id": "a4b9e032",
   "metadata": {},
   "outputs": [],
   "source": [
    "Как разные цели кредита влияют на его возврат в срок"
   ]
  },
  {
   "cell_type": "code",
   "execution_count": 29,
   "id": "4cefdbdb",
   "metadata": {},
   "outputs": [
    {
     "data": {
      "text/html": [
       "<div>\n",
       "<style scoped>\n",
       "    .dataframe tbody tr th:only-of-type {\n",
       "        vertical-align: middle;\n",
       "    }\n",
       "\n",
       "    .dataframe tbody tr th {\n",
       "        vertical-align: top;\n",
       "    }\n",
       "\n",
       "    .dataframe thead th {\n",
       "        text-align: right;\n",
       "    }\n",
       "</style>\n",
       "<table border=\"1\" class=\"dataframe\">\n",
       "  <thead>\n",
       "    <tr style=\"text-align: right;\">\n",
       "      <th></th>\n",
       "      <th>Общее количество</th>\n",
       "      <th>Процент должников</th>\n",
       "    </tr>\n",
       "    <tr>\n",
       "      <th>purpose_category</th>\n",
       "      <th></th>\n",
       "      <th></th>\n",
       "    </tr>\n",
       "  </thead>\n",
       "  <tbody>\n",
       "    <tr>\n",
       "      <td>операции с недвижимостью</td>\n",
       "      <td>10811.0</td>\n",
       "      <td>7.2</td>\n",
       "    </tr>\n",
       "    <tr>\n",
       "      <td>проведение свадьбы</td>\n",
       "      <td>2324.0</td>\n",
       "      <td>8.0</td>\n",
       "    </tr>\n",
       "    <tr>\n",
       "      <td>получение образования</td>\n",
       "      <td>4013.0</td>\n",
       "      <td>9.2</td>\n",
       "    </tr>\n",
       "    <tr>\n",
       "      <td>операции с автомобилем</td>\n",
       "      <td>4306.0</td>\n",
       "      <td>9.4</td>\n",
       "    </tr>\n",
       "  </tbody>\n",
       "</table>\n",
       "</div>"
      ],
      "text/plain": [
       "                          Общее количество  Процент должников\n",
       "purpose_category                                             \n",
       "операции с недвижимостью           10811.0                7.2\n",
       "проведение свадьбы                  2324.0                8.0\n",
       "получение образования               4013.0                9.2\n",
       "операции с автомобилем              4306.0                9.4"
      ]
     },
     "execution_count": 29,
     "metadata": {},
     "output_type": "execute_result"
    }
   ],
   "source": [
    "# Формируем сводную таблицу. Наверное надо было написать одну функцию и пользоваться ей а не писать одно и тоже \n",
    "purpose_category_debt = data.pivot_table(index = ['purpose_category'], values='debt', aggfunc = ('mean', lambda X:X.count()))\n",
    "\n",
    "# Форматируем значения, имена колонок и отсортируем  для удобства и наглядности\n",
    "purpose_category_debt['mean'] = round(purpose_category_debt['mean']*100, 1)\n",
    "purpose_category_debt = purpose_category_debt.rename(columns={'<lambda_0>':'Общее количество', 'mean':'Процент должников'})\n",
    "\n",
    "\n",
    "purpose_category_debt.sort_values('Процент должников')"
   ]
  },
  {
   "cell_type": "markdown",
   "id": "1a691344",
   "metadata": {},
   "source": [
    "Кредты на операции с недвижимостью показывают наименьший процент должников, в то время как на получение образования и операции с автомобилем процент занчительно выше, значения отличаются на ~30%  "
   ]
  },
  {
   "cell_type": "markdown",
   "id": "f9d26883",
   "metadata": {},
   "source": [
    "## Общий вывод:"
   ]
  },
  {
   "cell_type": "markdown",
   "id": "50b7b1b7",
   "metadata": {},
   "source": [
    "Бездетные чаще платят по кредитам в срок, однако нельзя говорить о том что количество детей влияет на платежи. Так же есть зависимость между семейным положением и возвратом кредита в срок. Ответственнее всего к выплатам подходят люди бывавшие в официальном браке или же находяшееся в нём в данный момент, в отличии от никогда не бывавших в офицально браке. И стоит обратить внимание что кредиты на образование и автомобиле имеют большой процент должников."
   ]
  }
 ],
 "metadata": {
  "ExecuteTimeLog": [
   {
    "duration": 872,
    "start_time": "2022-02-12T07:52:21.628Z"
   },
   {
    "duration": 77,
    "start_time": "2022-02-12T08:05:59.932Z"
   },
   {
    "duration": 93,
    "start_time": "2022-02-12T08:06:14.594Z"
   },
   {
    "duration": 32,
    "start_time": "2022-02-12T08:10:59.491Z"
   },
   {
    "duration": 12,
    "start_time": "2022-02-12T08:11:13.154Z"
   },
   {
    "duration": 96,
    "start_time": "2022-02-12T08:13:15.368Z"
   },
   {
    "duration": 88,
    "start_time": "2022-02-12T08:13:23.808Z"
   },
   {
    "duration": 433,
    "start_time": "2022-02-12T08:14:07.133Z"
   },
   {
    "duration": 381,
    "start_time": "2022-02-12T08:14:16.635Z"
   },
   {
    "duration": 8,
    "start_time": "2022-02-12T08:14:19.812Z"
   },
   {
    "duration": 9,
    "start_time": "2022-02-12T08:15:42.737Z"
   },
   {
    "duration": 6,
    "start_time": "2022-02-12T08:16:06.130Z"
   },
   {
    "duration": 7,
    "start_time": "2022-02-12T08:16:26.760Z"
   },
   {
    "duration": 8,
    "start_time": "2022-02-12T08:18:56.417Z"
   },
   {
    "duration": 21,
    "start_time": "2022-02-12T08:19:21.952Z"
   },
   {
    "duration": 7,
    "start_time": "2022-02-12T08:19:57.243Z"
   },
   {
    "duration": 7,
    "start_time": "2022-02-12T08:20:04.190Z"
   },
   {
    "duration": 87,
    "start_time": "2022-02-12T08:21:47.923Z"
   },
   {
    "duration": 99,
    "start_time": "2022-02-12T08:22:16.110Z"
   },
   {
    "duration": 87,
    "start_time": "2022-02-12T08:22:40.092Z"
   },
   {
    "duration": 89,
    "start_time": "2022-02-12T08:22:46.532Z"
   },
   {
    "duration": 340,
    "start_time": "2022-02-12T08:22:54.816Z"
   },
   {
    "duration": 142,
    "start_time": "2022-02-12T08:27:58.563Z"
   },
   {
    "duration": 418,
    "start_time": "2022-02-12T08:28:06.571Z"
   },
   {
    "duration": 374,
    "start_time": "2022-02-12T08:28:19.556Z"
   },
   {
    "duration": 376,
    "start_time": "2022-02-12T08:28:27.826Z"
   },
   {
    "duration": 359,
    "start_time": "2022-02-12T08:29:28.815Z"
   },
   {
    "duration": 21,
    "start_time": "2022-02-12T08:29:36.042Z"
   },
   {
    "duration": 19,
    "start_time": "2022-02-12T08:29:53.944Z"
   },
   {
    "duration": 31,
    "start_time": "2022-02-12T08:30:01.571Z"
   },
   {
    "duration": 22,
    "start_time": "2022-02-12T08:31:21.037Z"
   },
   {
    "duration": 85,
    "start_time": "2022-02-12T08:35:31.960Z"
   },
   {
    "duration": 378,
    "start_time": "2022-02-12T08:38:44.922Z"
   },
   {
    "duration": 16,
    "start_time": "2022-02-12T08:38:50.889Z"
   },
   {
    "duration": -357773,
    "start_time": "2022-02-12T08:45:13.952Z"
   },
   {
    "duration": 8,
    "start_time": "2022-02-12T08:39:33.862Z"
   },
   {
    "duration": 204,
    "start_time": "2022-02-12T08:40:04.706Z"
   },
   {
    "duration": 10,
    "start_time": "2022-02-12T08:40:07.857Z"
   },
   {
    "duration": 118,
    "start_time": "2022-02-12T08:40:52.476Z"
   },
   {
    "duration": 149,
    "start_time": "2022-02-12T08:40:57.027Z"
   },
   {
    "duration": 7,
    "start_time": "2022-02-12T08:41:09.818Z"
   },
   {
    "duration": 118,
    "start_time": "2022-02-12T08:41:26.650Z"
   },
   {
    "duration": 114,
    "start_time": "2022-02-12T08:41:35.475Z"
   },
   {
    "duration": 7,
    "start_time": "2022-02-12T08:41:51.071Z"
   },
   {
    "duration": 10,
    "start_time": "2022-02-12T08:42:19.344Z"
   },
   {
    "duration": 124,
    "start_time": "2022-02-12T08:43:25.471Z"
   },
   {
    "duration": 11,
    "start_time": "2022-02-12T08:43:35.956Z"
   },
   {
    "duration": 11,
    "start_time": "2022-02-12T08:44:04.544Z"
   },
   {
    "duration": 444,
    "start_time": "2022-02-12T08:49:17.893Z"
   },
   {
    "duration": 10,
    "start_time": "2022-02-12T08:50:05.992Z"
   },
   {
    "duration": 116,
    "start_time": "2022-02-12T09:01:21.986Z"
   },
   {
    "duration": 12,
    "start_time": "2022-02-12T09:01:46.863Z"
   },
   {
    "duration": 12,
    "start_time": "2022-02-12T09:02:28.865Z"
   },
   {
    "duration": 10,
    "start_time": "2022-02-12T09:26:37.399Z"
   },
   {
    "duration": 19,
    "start_time": "2022-02-12T09:26:53.115Z"
   },
   {
    "duration": 19,
    "start_time": "2022-02-12T09:27:22.059Z"
   },
   {
    "duration": 441,
    "start_time": "2022-02-12T09:27:40.421Z"
   },
   {
    "duration": 184,
    "start_time": "2022-02-12T09:27:51.715Z"
   },
   {
    "duration": 19,
    "start_time": "2022-02-12T09:27:56.714Z"
   },
   {
    "duration": 883,
    "start_time": "2022-02-12T09:28:43.440Z"
   },
   {
    "duration": 868,
    "start_time": "2022-02-12T09:28:51.770Z"
   },
   {
    "duration": 20,
    "start_time": "2022-02-12T09:28:52.641Z"
   },
   {
    "duration": 23,
    "start_time": "2022-02-12T09:28:52.667Z"
   },
   {
    "duration": 24,
    "start_time": "2022-02-12T09:28:52.692Z"
   },
   {
    "duration": 445,
    "start_time": "2022-02-12T09:29:25.567Z"
   },
   {
    "duration": 394,
    "start_time": "2022-02-12T09:30:43.024Z"
   },
   {
    "duration": 456,
    "start_time": "2022-02-12T09:30:58.982Z"
   },
   {
    "duration": 7,
    "start_time": "2022-02-12T09:31:03.063Z"
   },
   {
    "duration": 7,
    "start_time": "2022-02-12T09:31:39.902Z"
   },
   {
    "duration": 429,
    "start_time": "2022-02-12T09:31:46.185Z"
   },
   {
    "duration": 7,
    "start_time": "2022-02-12T09:31:50.695Z"
   },
   {
    "duration": 6,
    "start_time": "2022-02-12T09:31:55.644Z"
   },
   {
    "duration": 28,
    "start_time": "2022-02-12T09:44:37.192Z"
   },
   {
    "duration": 354,
    "start_time": "2022-02-12T09:49:17.695Z"
   },
   {
    "duration": 1407,
    "start_time": "2022-02-12T09:49:26.566Z"
   },
   {
    "duration": 117,
    "start_time": "2022-02-12T09:49:39.273Z"
   },
   {
    "duration": 1944,
    "start_time": "2022-02-12T09:49:41.980Z"
   },
   {
    "duration": 1392,
    "start_time": "2022-02-12T09:51:51.356Z"
   },
   {
    "duration": 1400,
    "start_time": "2022-02-12T09:52:11.412Z"
   },
   {
    "duration": 1455,
    "start_time": "2022-02-12T09:52:16.520Z"
   },
   {
    "duration": 136,
    "start_time": "2022-02-12T09:53:22.923Z"
   },
   {
    "duration": 1777,
    "start_time": "2022-02-12T09:53:30.258Z"
   },
   {
    "duration": 82,
    "start_time": "2022-02-12T13:48:25.764Z"
   },
   {
    "duration": 295,
    "start_time": "2022-02-12T13:48:31.661Z"
   },
   {
    "duration": 267,
    "start_time": "2022-02-12T13:48:52.872Z"
   },
   {
    "duration": 701,
    "start_time": "2022-02-12T13:48:57.072Z"
   },
   {
    "duration": 10,
    "start_time": "2022-02-12T13:48:57.774Z"
   },
   {
    "duration": 20,
    "start_time": "2022-02-12T13:48:57.788Z"
   },
   {
    "duration": 6,
    "start_time": "2022-02-12T13:48:57.810Z"
   },
   {
    "duration": 6,
    "start_time": "2022-02-12T13:49:57.180Z"
   },
   {
    "duration": 8,
    "start_time": "2022-02-12T13:50:08.202Z"
   },
   {
    "duration": 29,
    "start_time": "2022-02-12T13:52:23.743Z"
   },
   {
    "duration": 10,
    "start_time": "2022-02-12T13:52:40.822Z"
   },
   {
    "duration": 10,
    "start_time": "2022-02-12T13:53:58.330Z"
   },
   {
    "duration": 19,
    "start_time": "2022-02-12T13:54:50.011Z"
   },
   {
    "duration": 18,
    "start_time": "2022-02-12T13:55:02.578Z"
   },
   {
    "duration": 72,
    "start_time": "2022-02-12T13:55:18.554Z"
   },
   {
    "duration": 13,
    "start_time": "2022-02-12T14:00:00.012Z"
   },
   {
    "duration": 8,
    "start_time": "2022-02-12T14:00:25.247Z"
   },
   {
    "duration": 8,
    "start_time": "2022-02-12T14:00:44.667Z"
   },
   {
    "duration": 7,
    "start_time": "2022-02-12T14:00:58.496Z"
   },
   {
    "duration": 10,
    "start_time": "2022-02-12T14:01:27.962Z"
   },
   {
    "duration": 14,
    "start_time": "2022-02-12T14:02:14.022Z"
   },
   {
    "duration": 15,
    "start_time": "2022-02-12T14:04:00.125Z"
   },
   {
    "duration": 15,
    "start_time": "2022-02-12T14:04:36.370Z"
   },
   {
    "duration": 11,
    "start_time": "2022-02-12T14:05:01.329Z"
   },
   {
    "duration": 351,
    "start_time": "2022-02-12T14:09:04.086Z"
   },
   {
    "duration": 13,
    "start_time": "2022-02-12T14:09:13.973Z"
   },
   {
    "duration": 24,
    "start_time": "2022-02-12T14:18:11.695Z"
   },
   {
    "duration": 14,
    "start_time": "2022-02-12T14:18:59.058Z"
   },
   {
    "duration": 11,
    "start_time": "2022-02-12T14:19:54.875Z"
   },
   {
    "duration": 10,
    "start_time": "2022-02-12T14:23:51.849Z"
   },
   {
    "duration": 7,
    "start_time": "2022-02-12T14:33:24.997Z"
   },
   {
    "duration": 9,
    "start_time": "2022-02-12T14:47:25.849Z"
   },
   {
    "duration": 8,
    "start_time": "2022-02-12T14:48:56.545Z"
   },
   {
    "duration": 123,
    "start_time": "2022-02-12T14:54:22.122Z"
   },
   {
    "duration": 71,
    "start_time": "2022-02-12T14:54:47.894Z"
   },
   {
    "duration": 74,
    "start_time": "2022-02-12T14:55:08.585Z"
   },
   {
    "duration": 270,
    "start_time": "2022-02-12T15:44:45.218Z"
   },
   {
    "duration": 83,
    "start_time": "2022-02-12T15:45:07.943Z"
   },
   {
    "duration": 258,
    "start_time": "2022-02-12T15:45:12.113Z"
   },
   {
    "duration": 5,
    "start_time": "2022-02-12T15:45:32.187Z"
   },
   {
    "duration": 266,
    "start_time": "2022-02-12T15:45:38.972Z"
   },
   {
    "duration": 24,
    "start_time": "2022-02-12T15:47:52.097Z"
   },
   {
    "duration": 8,
    "start_time": "2022-02-12T15:48:16.303Z"
   },
   {
    "duration": 7,
    "start_time": "2022-02-12T15:48:24.097Z"
   },
   {
    "duration": 9,
    "start_time": "2022-02-12T15:48:38.012Z"
   },
   {
    "duration": 8,
    "start_time": "2022-02-12T15:49:02.223Z"
   },
   {
    "duration": 6,
    "start_time": "2022-02-12T15:58:53.940Z"
   },
   {
    "duration": 92,
    "start_time": "2022-02-12T16:03:00.645Z"
   },
   {
    "duration": 310,
    "start_time": "2022-02-12T16:03:10.477Z"
   },
   {
    "duration": 268,
    "start_time": "2022-02-12T16:08:26.349Z"
   },
   {
    "duration": 275,
    "start_time": "2022-02-12T16:12:57.158Z"
   },
   {
    "duration": 272,
    "start_time": "2022-02-12T16:14:11.599Z"
   },
   {
    "duration": 40,
    "start_time": "2022-02-12T16:18:30.368Z"
   },
   {
    "duration": 19,
    "start_time": "2022-02-12T16:20:28.497Z"
   },
   {
    "duration": 670,
    "start_time": "2022-02-12T16:20:40.564Z"
   },
   {
    "duration": 10,
    "start_time": "2022-02-12T16:20:41.236Z"
   },
   {
    "duration": 8,
    "start_time": "2022-02-12T16:20:41.249Z"
   },
   {
    "duration": 9,
    "start_time": "2022-02-12T16:20:41.260Z"
   },
   {
    "duration": 36,
    "start_time": "2022-02-12T16:20:41.271Z"
   },
   {
    "duration": 8,
    "start_time": "2022-02-12T16:20:41.309Z"
   },
   {
    "duration": 19,
    "start_time": "2022-02-12T16:20:41.319Z"
   },
   {
    "duration": 19,
    "start_time": "2022-02-12T16:21:32.019Z"
   },
   {
    "duration": 14,
    "start_time": "2022-02-12T16:25:09.789Z"
   },
   {
    "duration": 720,
    "start_time": "2022-02-12T16:25:29.104Z"
   },
   {
    "duration": 11,
    "start_time": "2022-02-12T16:25:29.826Z"
   },
   {
    "duration": 8,
    "start_time": "2022-02-12T16:25:29.839Z"
   },
   {
    "duration": 11,
    "start_time": "2022-02-12T16:25:29.849Z"
   },
   {
    "duration": 37,
    "start_time": "2022-02-12T16:25:29.862Z"
   },
   {
    "duration": 7,
    "start_time": "2022-02-12T16:25:29.900Z"
   },
   {
    "duration": 19,
    "start_time": "2022-02-12T16:25:29.909Z"
   },
   {
    "duration": 19,
    "start_time": "2022-02-12T16:27:31.105Z"
   },
   {
    "duration": 18,
    "start_time": "2022-02-12T16:31:35.357Z"
   },
   {
    "duration": 649,
    "start_time": "2022-02-12T16:33:49.460Z"
   },
   {
    "duration": 11,
    "start_time": "2022-02-12T16:33:50.110Z"
   },
   {
    "duration": 7,
    "start_time": "2022-02-12T16:33:50.123Z"
   },
   {
    "duration": 6,
    "start_time": "2022-02-12T16:33:50.132Z"
   },
   {
    "duration": 11,
    "start_time": "2022-02-12T16:33:50.140Z"
   },
   {
    "duration": 6,
    "start_time": "2022-02-12T16:33:50.153Z"
   },
   {
    "duration": 14,
    "start_time": "2022-02-12T17:22:57.840Z"
   },
   {
    "duration": 525,
    "start_time": "2022-02-12T17:23:25.751Z"
   },
   {
    "duration": 81,
    "start_time": "2022-02-12T17:23:49.129Z"
   },
   {
    "duration": 469,
    "start_time": "2022-02-12T17:25:25.767Z"
   },
   {
    "duration": 9,
    "start_time": "2022-02-12T17:25:38.231Z"
   },
   {
    "duration": 726,
    "start_time": "2022-02-12T17:25:48.276Z"
   },
   {
    "duration": 10,
    "start_time": "2022-02-12T17:25:49.004Z"
   },
   {
    "duration": 8,
    "start_time": "2022-02-12T17:25:49.016Z"
   },
   {
    "duration": 9,
    "start_time": "2022-02-12T17:25:49.026Z"
   },
   {
    "duration": 9,
    "start_time": "2022-02-12T17:25:49.037Z"
   },
   {
    "duration": 6,
    "start_time": "2022-02-12T17:25:49.048Z"
   },
   {
    "duration": 47,
    "start_time": "2022-02-12T17:25:49.056Z"
   },
   {
    "duration": 18,
    "start_time": "2022-02-12T17:26:08.294Z"
   },
   {
    "duration": 340,
    "start_time": "2022-02-12T17:26:25.659Z"
   },
   {
    "duration": 800,
    "start_time": "2022-02-13T09:40:03.188Z"
   },
   {
    "duration": 1747,
    "start_time": "2022-02-13T09:40:16.428Z"
   },
   {
    "duration": 12,
    "start_time": "2022-02-13T09:40:18.178Z"
   },
   {
    "duration": 10,
    "start_time": "2022-02-13T09:40:18.193Z"
   },
   {
    "duration": 9,
    "start_time": "2022-02-13T09:40:18.206Z"
   },
   {
    "duration": 50,
    "start_time": "2022-02-13T09:40:18.218Z"
   },
   {
    "duration": 9,
    "start_time": "2022-02-13T09:40:18.270Z"
   },
   {
    "duration": 26,
    "start_time": "2022-02-13T09:40:18.281Z"
   },
   {
    "duration": 27,
    "start_time": "2022-02-13T09:40:51.249Z"
   },
   {
    "duration": 24,
    "start_time": "2022-02-13T09:41:11.152Z"
   },
   {
    "duration": -358466,
    "start_time": "2022-02-13T09:48:37.810Z"
   },
   {
    "duration": 7818,
    "start_time": "2022-02-13T09:43:06.884Z"
   },
   {
    "duration": 7838,
    "start_time": "2022-02-13T09:45:49.268Z"
   },
   {
    "duration": 10,
    "start_time": "2022-02-13T09:46:00.503Z"
   },
   {
    "duration": 15,
    "start_time": "2022-02-13T09:46:13.439Z"
   },
   {
    "duration": 9,
    "start_time": "2022-02-13T09:46:23.416Z"
   },
   {
    "duration": 26,
    "start_time": "2022-02-13T09:48:26.277Z"
   },
   {
    "duration": 32,
    "start_time": "2022-02-13T09:56:36.155Z"
   },
   {
    "duration": 121,
    "start_time": "2022-02-13T09:57:39.260Z"
   },
   {
    "duration": 25,
    "start_time": "2022-02-13T09:57:44.230Z"
   },
   {
    "duration": 33,
    "start_time": "2022-02-13T09:57:51.321Z"
   },
   {
    "duration": 825,
    "start_time": "2022-02-13T09:58:03.907Z"
   },
   {
    "duration": 12,
    "start_time": "2022-02-13T09:58:04.735Z"
   },
   {
    "duration": 11,
    "start_time": "2022-02-13T09:58:04.760Z"
   },
   {
    "duration": 10,
    "start_time": "2022-02-13T09:58:04.773Z"
   },
   {
    "duration": 12,
    "start_time": "2022-02-13T09:58:04.785Z"
   },
   {
    "duration": 9,
    "start_time": "2022-02-13T09:58:04.799Z"
   },
   {
    "duration": 79,
    "start_time": "2022-02-13T09:58:04.810Z"
   },
   {
    "duration": 46,
    "start_time": "2022-02-13T10:01:21.603Z"
   },
   {
    "duration": 440,
    "start_time": "2022-02-13T10:03:21.066Z"
   },
   {
    "duration": 6,
    "start_time": "2022-02-13T10:04:14.213Z"
   },
   {
    "duration": 8,
    "start_time": "2022-02-13T10:04:35.825Z"
   },
   {
    "duration": 362,
    "start_time": "2022-02-13T10:04:50.082Z"
   },
   {
    "duration": 24,
    "start_time": "2022-02-13T10:04:57.617Z"
   },
   {
    "duration": 903,
    "start_time": "2022-02-13T10:05:04.891Z"
   },
   {
    "duration": 12,
    "start_time": "2022-02-13T10:05:05.797Z"
   },
   {
    "duration": 10,
    "start_time": "2022-02-13T10:05:05.812Z"
   },
   {
    "duration": 35,
    "start_time": "2022-02-13T10:05:05.825Z"
   },
   {
    "duration": 13,
    "start_time": "2022-02-13T10:05:05.862Z"
   },
   {
    "duration": 8,
    "start_time": "2022-02-13T10:05:05.877Z"
   },
   {
    "duration": 82,
    "start_time": "2022-02-13T10:05:05.887Z"
   },
   {
    "duration": 23,
    "start_time": "2022-02-13T10:05:05.972Z"
   },
   {
    "duration": 7,
    "start_time": "2022-02-13T10:10:10.006Z"
   },
   {
    "duration": 14,
    "start_time": "2022-02-13T10:10:27.673Z"
   },
   {
    "duration": 884,
    "start_time": "2022-02-13T10:11:01.840Z"
   },
   {
    "duration": 14,
    "start_time": "2022-02-13T10:11:02.727Z"
   },
   {
    "duration": 24,
    "start_time": "2022-02-13T10:11:02.744Z"
   },
   {
    "duration": 10,
    "start_time": "2022-02-13T10:11:02.771Z"
   },
   {
    "duration": 13,
    "start_time": "2022-02-13T10:11:02.784Z"
   },
   {
    "duration": 9,
    "start_time": "2022-02-13T10:11:02.799Z"
   },
   {
    "duration": 91,
    "start_time": "2022-02-13T10:11:02.810Z"
   },
   {
    "duration": 24,
    "start_time": "2022-02-13T10:11:02.904Z"
   },
   {
    "duration": 17,
    "start_time": "2022-02-13T10:11:02.959Z"
   },
   {
    "duration": 22,
    "start_time": "2022-02-13T10:11:54.121Z"
   },
   {
    "duration": 1021,
    "start_time": "2022-02-13T10:35:41.982Z"
   },
   {
    "duration": 12,
    "start_time": "2022-02-13T10:35:43.006Z"
   },
   {
    "duration": 10,
    "start_time": "2022-02-13T10:35:43.021Z"
   },
   {
    "duration": 11,
    "start_time": "2022-02-13T10:35:43.068Z"
   },
   {
    "duration": 13,
    "start_time": "2022-02-13T10:35:43.081Z"
   },
   {
    "duration": 7,
    "start_time": "2022-02-13T10:35:43.097Z"
   },
   {
    "duration": 63,
    "start_time": "2022-02-13T10:35:43.107Z"
   },
   {
    "duration": 23,
    "start_time": "2022-02-13T10:35:43.174Z"
   },
   {
    "duration": 17,
    "start_time": "2022-02-13T10:35:43.200Z"
   },
   {
    "duration": 468,
    "start_time": "2022-02-13T10:53:16.585Z"
   },
   {
    "duration": 6,
    "start_time": "2022-02-13T10:53:22.036Z"
   },
   {
    "duration": 114,
    "start_time": "2022-02-13T10:53:39.636Z"
   },
   {
    "duration": 155,
    "start_time": "2022-02-13T10:53:55.448Z"
   },
   {
    "duration": 6,
    "start_time": "2022-02-13T10:54:00.589Z"
   },
   {
    "duration": 179,
    "start_time": "2022-02-13T11:08:17.938Z"
   },
   {
    "duration": 20,
    "start_time": "2022-02-13T11:08:24.064Z"
   },
   {
    "duration": 8,
    "start_time": "2022-02-13T11:33:07.735Z"
   },
   {
    "duration": 952,
    "start_time": "2022-02-13T11:35:57.920Z"
   },
   {
    "duration": 22,
    "start_time": "2022-02-13T11:36:40.675Z"
   },
   {
    "duration": 8,
    "start_time": "2022-02-13T11:37:19.699Z"
   },
   {
    "duration": 13,
    "start_time": "2022-02-13T11:39:10.309Z"
   },
   {
    "duration": 9,
    "start_time": "2022-02-13T11:41:03.971Z"
   },
   {
    "duration": 13,
    "start_time": "2022-02-13T11:44:39.986Z"
   },
   {
    "duration": 6,
    "start_time": "2022-02-13T11:45:28.287Z"
   },
   {
    "duration": 6,
    "start_time": "2022-02-13T11:45:43.048Z"
   },
   {
    "duration": 6,
    "start_time": "2022-02-13T11:45:45.871Z"
   },
   {
    "duration": 6,
    "start_time": "2022-02-13T11:45:49.921Z"
   },
   {
    "duration": 129,
    "start_time": "2022-02-13T11:51:27.893Z"
   },
   {
    "duration": 558,
    "start_time": "2022-02-13T11:51:35.251Z"
   },
   {
    "duration": 415,
    "start_time": "2022-02-13T11:51:43.400Z"
   },
   {
    "duration": 367,
    "start_time": "2022-02-13T11:52:08.284Z"
   },
   {
    "duration": 30,
    "start_time": "2022-02-13T11:55:43.964Z"
   },
   {
    "duration": 117,
    "start_time": "2022-02-13T12:43:40.621Z"
   },
   {
    "duration": 31,
    "start_time": "2022-02-13T12:46:51.978Z"
   },
   {
    "duration": 35,
    "start_time": "2022-02-13T12:54:27.571Z"
   },
   {
    "duration": 44,
    "start_time": "2022-02-13T13:00:27.956Z"
   },
   {
    "duration": 45,
    "start_time": "2022-02-13T13:00:48.658Z"
   },
   {
    "duration": 50,
    "start_time": "2022-02-13T13:02:58.690Z"
   },
   {
    "duration": 53,
    "start_time": "2022-02-13T13:09:08.330Z"
   },
   {
    "duration": 57,
    "start_time": "2022-02-13T13:10:00.935Z"
   },
   {
    "duration": 53,
    "start_time": "2022-02-13T13:10:25.737Z"
   },
   {
    "duration": 56,
    "start_time": "2022-02-13T13:10:34.329Z"
   },
   {
    "duration": 895,
    "start_time": "2022-02-13T13:12:22.830Z"
   },
   {
    "duration": 13,
    "start_time": "2022-02-13T13:12:23.729Z"
   },
   {
    "duration": 24,
    "start_time": "2022-02-13T13:12:23.746Z"
   },
   {
    "duration": 10,
    "start_time": "2022-02-13T13:12:23.774Z"
   },
   {
    "duration": 13,
    "start_time": "2022-02-13T13:12:23.786Z"
   },
   {
    "duration": 8,
    "start_time": "2022-02-13T13:12:23.801Z"
   },
   {
    "duration": 32,
    "start_time": "2022-02-13T13:12:23.859Z"
   },
   {
    "duration": 22,
    "start_time": "2022-02-13T13:12:23.895Z"
   },
   {
    "duration": 45,
    "start_time": "2022-02-13T13:12:23.920Z"
   },
   {
    "duration": 5,
    "start_time": "2022-02-13T13:12:23.968Z"
   },
   {
    "duration": 13,
    "start_time": "2022-02-13T13:12:23.975Z"
   },
   {
    "duration": 23,
    "start_time": "2022-02-13T13:12:23.990Z"
   },
   {
    "duration": 47,
    "start_time": "2022-02-13T13:12:24.015Z"
   },
   {
    "duration": 21,
    "start_time": "2022-02-13T13:12:24.064Z"
   },
   {
    "duration": 10,
    "start_time": "2022-02-13T13:12:24.087Z"
   },
   {
    "duration": 6,
    "start_time": "2022-02-13T13:12:24.100Z"
   },
   {
    "duration": 51,
    "start_time": "2022-02-13T13:12:24.108Z"
   },
   {
    "duration": 25,
    "start_time": "2022-02-13T13:12:24.162Z"
   },
   {
    "duration": 75,
    "start_time": "2022-02-13T13:12:24.189Z"
   },
   {
    "duration": 809,
    "start_time": "2022-02-15T12:34:58.560Z"
   },
   {
    "duration": 13,
    "start_time": "2022-02-15T12:34:59.371Z"
   },
   {
    "duration": 29,
    "start_time": "2022-02-15T12:34:59.387Z"
   },
   {
    "duration": 9,
    "start_time": "2022-02-15T12:34:59.419Z"
   },
   {
    "duration": 13,
    "start_time": "2022-02-15T12:34:59.430Z"
   },
   {
    "duration": 7,
    "start_time": "2022-02-15T12:34:59.445Z"
   },
   {
    "duration": 74,
    "start_time": "2022-02-15T12:34:59.454Z"
   },
   {
    "duration": 22,
    "start_time": "2022-02-15T12:34:59.531Z"
   },
   {
    "duration": 16,
    "start_time": "2022-02-15T12:34:59.556Z"
   },
   {
    "duration": 4,
    "start_time": "2022-02-15T12:34:59.574Z"
   },
   {
    "duration": 10,
    "start_time": "2022-02-15T12:34:59.612Z"
   },
   {
    "duration": 21,
    "start_time": "2022-02-15T12:34:59.625Z"
   },
   {
    "duration": 7,
    "start_time": "2022-02-15T12:34:59.648Z"
   },
   {
    "duration": 54,
    "start_time": "2022-02-15T12:34:59.658Z"
   },
   {
    "duration": 8,
    "start_time": "2022-02-15T12:34:59.716Z"
   },
   {
    "duration": 6,
    "start_time": "2022-02-15T12:34:59.727Z"
   },
   {
    "duration": 8,
    "start_time": "2022-02-15T12:34:59.735Z"
   },
   {
    "duration": 66,
    "start_time": "2022-02-15T12:34:59.746Z"
   },
   {
    "duration": 51,
    "start_time": "2022-02-15T12:34:59.814Z"
   },
   {
    "duration": 501,
    "start_time": "2022-02-15T12:34:59.867Z"
   },
   {
    "duration": 23,
    "start_time": "2022-02-15T12:35:05.782Z"
   },
   {
    "duration": 384,
    "start_time": "2022-02-15T12:38:41.446Z"
   },
   {
    "duration": 25,
    "start_time": "2022-02-15T12:38:47.815Z"
   },
   {
    "duration": 43,
    "start_time": "2022-02-15T12:39:06.949Z"
   },
   {
    "duration": 923,
    "start_time": "2022-02-15T13:32:32.308Z"
   },
   {
    "duration": 21,
    "start_time": "2022-02-15T13:32:33.234Z"
   },
   {
    "duration": 10,
    "start_time": "2022-02-15T13:32:33.262Z"
   },
   {
    "duration": 10,
    "start_time": "2022-02-15T13:32:33.275Z"
   },
   {
    "duration": 14,
    "start_time": "2022-02-15T13:32:33.287Z"
   },
   {
    "duration": 9,
    "start_time": "2022-02-15T13:32:33.349Z"
   },
   {
    "duration": 30,
    "start_time": "2022-02-15T13:32:33.362Z"
   },
   {
    "duration": 23,
    "start_time": "2022-02-15T13:32:33.395Z"
   },
   {
    "duration": 17,
    "start_time": "2022-02-15T13:32:33.449Z"
   },
   {
    "duration": 5,
    "start_time": "2022-02-15T13:32:33.468Z"
   },
   {
    "duration": 13,
    "start_time": "2022-02-15T13:32:33.476Z"
   },
   {
    "duration": 56,
    "start_time": "2022-02-15T13:32:33.492Z"
   },
   {
    "duration": 6,
    "start_time": "2022-02-15T13:32:33.551Z"
   },
   {
    "duration": 21,
    "start_time": "2022-02-15T13:32:33.559Z"
   },
   {
    "duration": 7,
    "start_time": "2022-02-15T13:32:33.583Z"
   },
   {
    "duration": 8,
    "start_time": "2022-02-15T13:32:33.593Z"
   },
   {
    "duration": 7,
    "start_time": "2022-02-15T13:32:33.648Z"
   },
   {
    "duration": 27,
    "start_time": "2022-02-15T13:32:33.659Z"
   },
   {
    "duration": 80,
    "start_time": "2022-02-15T13:32:33.689Z"
   },
   {
    "duration": 22,
    "start_time": "2022-02-15T13:32:33.771Z"
   },
   {
    "duration": 68,
    "start_time": "2022-02-15T13:32:33.796Z"
   },
   {
    "duration": 6924,
    "start_time": "2022-02-15T13:32:33.869Z"
   },
   {
    "duration": 7086,
    "start_time": "2022-02-15T13:33:31.704Z"
   },
   {
    "duration": 411,
    "start_time": "2022-02-15T13:35:10.622Z"
   },
   {
    "duration": 290,
    "start_time": "2022-02-15T13:35:39.759Z"
   },
   {
    "duration": 275,
    "start_time": "2022-02-15T13:35:58.790Z"
   },
   {
    "duration": 302,
    "start_time": "2022-02-15T13:36:05.639Z"
   },
   {
    "duration": 28,
    "start_time": "2022-02-15T13:36:19.233Z"
   },
   {
    "duration": 32,
    "start_time": "2022-02-15T13:46:46.038Z"
   },
   {
    "duration": 900,
    "start_time": "2022-02-15T13:49:59.961Z"
   },
   {
    "duration": 18,
    "start_time": "2022-02-15T13:50:00.864Z"
   },
   {
    "duration": 10,
    "start_time": "2022-02-15T13:50:00.888Z"
   },
   {
    "duration": 23,
    "start_time": "2022-02-15T13:50:00.901Z"
   },
   {
    "duration": 37,
    "start_time": "2022-02-15T13:50:00.926Z"
   },
   {
    "duration": 12,
    "start_time": "2022-02-15T13:50:00.966Z"
   },
   {
    "duration": 45,
    "start_time": "2022-02-15T13:50:00.981Z"
   },
   {
    "duration": 36,
    "start_time": "2022-02-15T13:50:01.028Z"
   },
   {
    "duration": 21,
    "start_time": "2022-02-15T13:50:01.068Z"
   },
   {
    "duration": 12,
    "start_time": "2022-02-15T13:50:01.092Z"
   },
   {
    "duration": 24,
    "start_time": "2022-02-15T13:50:01.107Z"
   },
   {
    "duration": 31,
    "start_time": "2022-02-15T13:50:01.133Z"
   },
   {
    "duration": 21,
    "start_time": "2022-02-15T13:50:01.167Z"
   },
   {
    "duration": 62,
    "start_time": "2022-02-15T13:50:01.191Z"
   },
   {
    "duration": 41,
    "start_time": "2022-02-15T13:50:01.255Z"
   },
   {
    "duration": 18,
    "start_time": "2022-02-15T13:50:01.298Z"
   },
   {
    "duration": 21,
    "start_time": "2022-02-15T13:50:01.318Z"
   },
   {
    "duration": 55,
    "start_time": "2022-02-15T13:50:01.341Z"
   },
   {
    "duration": 65,
    "start_time": "2022-02-15T13:50:01.399Z"
   },
   {
    "duration": 32,
    "start_time": "2022-02-15T13:50:01.467Z"
   },
   {
    "duration": 59,
    "start_time": "2022-02-15T13:50:01.502Z"
   },
   {
    "duration": 428,
    "start_time": "2022-02-15T13:50:01.564Z"
   },
   {
    "duration": -556,
    "start_time": "2022-02-15T13:50:02.550Z"
   },
   {
    "duration": 848,
    "start_time": "2022-02-15T13:50:12.061Z"
   },
   {
    "duration": 12,
    "start_time": "2022-02-15T13:50:12.912Z"
   },
   {
    "duration": 27,
    "start_time": "2022-02-15T13:50:12.927Z"
   },
   {
    "duration": 10,
    "start_time": "2022-02-15T13:50:12.958Z"
   },
   {
    "duration": 14,
    "start_time": "2022-02-15T13:50:12.971Z"
   },
   {
    "duration": 8,
    "start_time": "2022-02-15T13:50:12.988Z"
   },
   {
    "duration": 71,
    "start_time": "2022-02-15T13:50:12.999Z"
   },
   {
    "duration": 23,
    "start_time": "2022-02-15T13:50:13.074Z"
   },
   {
    "duration": 47,
    "start_time": "2022-02-15T13:50:13.100Z"
   },
   {
    "duration": 6,
    "start_time": "2022-02-15T13:50:13.150Z"
   },
   {
    "duration": 13,
    "start_time": "2022-02-15T13:50:13.159Z"
   },
   {
    "duration": 19,
    "start_time": "2022-02-15T13:50:13.174Z"
   },
   {
    "duration": 8,
    "start_time": "2022-02-15T13:50:13.196Z"
   },
   {
    "duration": 20,
    "start_time": "2022-02-15T13:50:13.249Z"
   },
   {
    "duration": 9,
    "start_time": "2022-02-15T13:50:13.272Z"
   },
   {
    "duration": 9,
    "start_time": "2022-02-15T13:50:13.284Z"
   },
   {
    "duration": 52,
    "start_time": "2022-02-15T13:50:13.296Z"
   },
   {
    "duration": 27,
    "start_time": "2022-02-15T13:50:13.351Z"
   },
   {
    "duration": 82,
    "start_time": "2022-02-15T13:50:13.381Z"
   },
   {
    "duration": 24,
    "start_time": "2022-02-15T13:50:13.466Z"
   },
   {
    "duration": 71,
    "start_time": "2022-02-15T13:50:13.493Z"
   },
   {
    "duration": 42,
    "start_time": "2022-02-15T13:50:13.567Z"
   },
   {
    "duration": 61,
    "start_time": "2022-02-15T13:50:13.614Z"
   },
   {
    "duration": 849,
    "start_time": "2022-02-15T13:50:41.302Z"
   },
   {
    "duration": 14,
    "start_time": "2022-02-15T13:50:42.154Z"
   },
   {
    "duration": 11,
    "start_time": "2022-02-15T13:50:42.172Z"
   },
   {
    "duration": 10,
    "start_time": "2022-02-15T13:50:42.186Z"
   },
   {
    "duration": 59,
    "start_time": "2022-02-15T13:50:42.199Z"
   },
   {
    "duration": 9,
    "start_time": "2022-02-15T13:50:42.260Z"
   },
   {
    "duration": 37,
    "start_time": "2022-02-15T13:50:42.272Z"
   },
   {
    "duration": 59,
    "start_time": "2022-02-15T13:50:42.313Z"
   },
   {
    "duration": 18,
    "start_time": "2022-02-15T13:50:42.376Z"
   },
   {
    "duration": 7,
    "start_time": "2022-02-15T13:50:42.397Z"
   },
   {
    "duration": 50,
    "start_time": "2022-02-15T13:50:42.407Z"
   },
   {
    "duration": 23,
    "start_time": "2022-02-15T13:50:42.460Z"
   },
   {
    "duration": 8,
    "start_time": "2022-02-15T13:50:42.486Z"
   },
   {
    "duration": 57,
    "start_time": "2022-02-15T13:50:42.497Z"
   },
   {
    "duration": 7,
    "start_time": "2022-02-15T13:50:42.557Z"
   },
   {
    "duration": 7,
    "start_time": "2022-02-15T13:50:42.566Z"
   },
   {
    "duration": 10,
    "start_time": "2022-02-15T13:50:42.575Z"
   },
   {
    "duration": 62,
    "start_time": "2022-02-15T13:50:42.588Z"
   },
   {
    "duration": 52,
    "start_time": "2022-02-15T13:50:42.652Z"
   },
   {
    "duration": 47,
    "start_time": "2022-02-15T13:50:42.707Z"
   },
   {
    "duration": 43,
    "start_time": "2022-02-15T13:50:42.756Z"
   },
   {
    "duration": 60,
    "start_time": "2022-02-15T13:50:42.801Z"
   },
   {
    "duration": 30,
    "start_time": "2022-02-15T13:50:42.866Z"
   },
   {
    "duration": 399,
    "start_time": "2022-02-15T13:51:09.582Z"
   },
   {
    "duration": 836,
    "start_time": "2022-02-15T13:51:20.568Z"
   },
   {
    "duration": 15,
    "start_time": "2022-02-15T13:51:21.408Z"
   },
   {
    "duration": 12,
    "start_time": "2022-02-15T13:51:21.450Z"
   },
   {
    "duration": 11,
    "start_time": "2022-02-15T13:51:21.465Z"
   },
   {
    "duration": 13,
    "start_time": "2022-02-15T13:51:21.478Z"
   },
   {
    "duration": 8,
    "start_time": "2022-02-15T13:51:21.494Z"
   },
   {
    "duration": 33,
    "start_time": "2022-02-15T13:51:21.548Z"
   },
   {
    "duration": 23,
    "start_time": "2022-02-15T13:51:21.585Z"
   },
   {
    "duration": 53,
    "start_time": "2022-02-15T13:51:21.612Z"
   },
   {
    "duration": 5,
    "start_time": "2022-02-15T13:51:21.667Z"
   },
   {
    "duration": 13,
    "start_time": "2022-02-15T13:51:21.675Z"
   },
   {
    "duration": 19,
    "start_time": "2022-02-15T13:51:21.691Z"
   },
   {
    "duration": 40,
    "start_time": "2022-02-15T13:51:21.712Z"
   },
   {
    "duration": 24,
    "start_time": "2022-02-15T13:51:21.755Z"
   },
   {
    "duration": 7,
    "start_time": "2022-02-15T13:51:21.782Z"
   },
   {
    "duration": 6,
    "start_time": "2022-02-15T13:51:21.792Z"
   },
   {
    "duration": 51,
    "start_time": "2022-02-15T13:51:21.800Z"
   },
   {
    "duration": 26,
    "start_time": "2022-02-15T13:51:21.853Z"
   },
   {
    "duration": 88,
    "start_time": "2022-02-15T13:51:21.882Z"
   },
   {
    "duration": 24,
    "start_time": "2022-02-15T13:51:21.973Z"
   },
   {
    "duration": 70,
    "start_time": "2022-02-15T13:51:22.000Z"
   },
   {
    "duration": 50,
    "start_time": "2022-02-15T13:51:22.073Z"
   },
   {
    "duration": 52,
    "start_time": "2022-02-15T13:51:22.126Z"
   },
   {
    "duration": 48,
    "start_time": "2022-02-15T15:37:55.720Z"
   },
   {
    "duration": 885,
    "start_time": "2022-02-15T15:44:48.918Z"
   },
   {
    "duration": 13,
    "start_time": "2022-02-15T15:44:49.806Z"
   },
   {
    "duration": 29,
    "start_time": "2022-02-15T15:44:49.823Z"
   },
   {
    "duration": 10,
    "start_time": "2022-02-15T15:44:49.854Z"
   },
   {
    "duration": 13,
    "start_time": "2022-02-15T15:44:49.866Z"
   },
   {
    "duration": 8,
    "start_time": "2022-02-15T15:44:49.882Z"
   },
   {
    "duration": 73,
    "start_time": "2022-02-15T15:44:49.893Z"
   },
   {
    "duration": 25,
    "start_time": "2022-02-15T15:44:49.970Z"
   },
   {
    "duration": 28,
    "start_time": "2022-02-15T15:44:49.998Z"
   },
   {
    "duration": 7,
    "start_time": "2022-02-15T15:44:50.047Z"
   },
   {
    "duration": 24,
    "start_time": "2022-02-15T15:44:50.057Z"
   },
   {
    "duration": 21,
    "start_time": "2022-02-15T15:44:50.083Z"
   },
   {
    "duration": 6,
    "start_time": "2022-02-15T15:44:50.106Z"
   },
   {
    "duration": 50,
    "start_time": "2022-02-15T15:44:50.114Z"
   },
   {
    "duration": 8,
    "start_time": "2022-02-15T15:44:50.166Z"
   },
   {
    "duration": 8,
    "start_time": "2022-02-15T15:44:50.176Z"
   },
   {
    "duration": 10,
    "start_time": "2022-02-15T15:44:50.186Z"
   },
   {
    "duration": 63,
    "start_time": "2022-02-15T15:44:50.198Z"
   },
   {
    "duration": 23,
    "start_time": "2022-02-15T15:44:50.263Z"
   },
   {
    "duration": 84,
    "start_time": "2022-02-15T15:44:50.289Z"
   },
   {
    "duration": 41,
    "start_time": "2022-02-15T15:44:50.376Z"
   },
   {
    "duration": 54,
    "start_time": "2022-02-15T15:44:50.419Z"
   },
   {
    "duration": 46,
    "start_time": "2022-02-15T15:44:50.479Z"
   },
   {
    "duration": 68,
    "start_time": "2022-02-15T15:45:28.710Z"
   },
   {
    "duration": 68,
    "start_time": "2022-02-15T15:45:35.353Z"
   },
   {
    "duration": 1139,
    "start_time": "2022-02-15T15:50:39.426Z"
   },
   {
    "duration": 14,
    "start_time": "2022-02-15T15:50:40.569Z"
   },
   {
    "duration": 11,
    "start_time": "2022-02-15T15:50:40.586Z"
   },
   {
    "duration": 51,
    "start_time": "2022-02-15T15:50:40.600Z"
   },
   {
    "duration": 14,
    "start_time": "2022-02-15T15:50:40.654Z"
   },
   {
    "duration": 9,
    "start_time": "2022-02-15T15:50:40.671Z"
   },
   {
    "duration": 72,
    "start_time": "2022-02-15T15:50:40.682Z"
   },
   {
    "duration": 24,
    "start_time": "2022-02-15T15:50:40.757Z"
   },
   {
    "duration": 26,
    "start_time": "2022-02-15T15:50:40.787Z"
   },
   {
    "duration": 36,
    "start_time": "2022-02-15T15:50:40.817Z"
   },
   {
    "duration": 19,
    "start_time": "2022-02-15T15:50:40.856Z"
   },
   {
    "duration": 28,
    "start_time": "2022-02-15T15:50:40.878Z"
   },
   {
    "duration": 42,
    "start_time": "2022-02-15T15:50:40.909Z"
   },
   {
    "duration": 22,
    "start_time": "2022-02-15T15:50:40.954Z"
   },
   {
    "duration": 7,
    "start_time": "2022-02-15T15:50:40.979Z"
   },
   {
    "duration": 10,
    "start_time": "2022-02-15T15:50:40.989Z"
   },
   {
    "duration": 49,
    "start_time": "2022-02-15T15:50:41.001Z"
   },
   {
    "duration": 28,
    "start_time": "2022-02-15T15:50:41.053Z"
   },
   {
    "duration": 24,
    "start_time": "2022-02-15T15:50:41.084Z"
   },
   {
    "duration": 77,
    "start_time": "2022-02-15T15:50:41.110Z"
   },
   {
    "duration": 69,
    "start_time": "2022-02-15T15:50:41.189Z"
   },
   {
    "duration": 30,
    "start_time": "2022-02-15T15:50:41.261Z"
   },
   {
    "duration": 107,
    "start_time": "2022-02-15T15:50:41.294Z"
   },
   {
    "duration": 865,
    "start_time": "2022-02-15T15:51:28.197Z"
   },
   {
    "duration": 12,
    "start_time": "2022-02-15T15:51:29.065Z"
   },
   {
    "duration": 11,
    "start_time": "2022-02-15T15:51:29.081Z"
   },
   {
    "duration": 13,
    "start_time": "2022-02-15T15:51:29.095Z"
   },
   {
    "duration": 15,
    "start_time": "2022-02-15T15:51:29.149Z"
   },
   {
    "duration": 12,
    "start_time": "2022-02-15T15:51:29.166Z"
   },
   {
    "duration": 72,
    "start_time": "2022-02-15T15:51:29.180Z"
   },
   {
    "duration": 32,
    "start_time": "2022-02-15T15:51:29.258Z"
   },
   {
    "duration": 24,
    "start_time": "2022-02-15T15:51:29.294Z"
   },
   {
    "duration": 47,
    "start_time": "2022-02-15T15:51:29.321Z"
   },
   {
    "duration": 17,
    "start_time": "2022-02-15T15:51:29.371Z"
   },
   {
    "duration": 28,
    "start_time": "2022-02-15T15:51:29.391Z"
   },
   {
    "duration": 9,
    "start_time": "2022-02-15T15:51:29.421Z"
   },
   {
    "duration": 32,
    "start_time": "2022-02-15T15:51:29.449Z"
   },
   {
    "duration": 13,
    "start_time": "2022-02-15T15:51:29.483Z"
   },
   {
    "duration": 7,
    "start_time": "2022-02-15T15:51:29.498Z"
   },
   {
    "duration": 42,
    "start_time": "2022-02-15T15:51:29.508Z"
   },
   {
    "duration": 25,
    "start_time": "2022-02-15T15:51:29.552Z"
   },
   {
    "duration": 23,
    "start_time": "2022-02-15T15:51:29.580Z"
   },
   {
    "duration": 79,
    "start_time": "2022-02-15T15:51:29.606Z"
   },
   {
    "duration": 63,
    "start_time": "2022-02-15T15:51:29.687Z"
   },
   {
    "duration": 29,
    "start_time": "2022-02-15T15:51:29.752Z"
   },
   {
    "duration": 99,
    "start_time": "2022-02-15T15:51:29.785Z"
   },
   {
    "duration": 111,
    "start_time": "2022-02-16T09:04:05.488Z"
   },
   {
    "duration": 372,
    "start_time": "2022-02-16T09:05:07.101Z"
   },
   {
    "duration": 875,
    "start_time": "2022-02-16T09:05:13.837Z"
   },
   {
    "duration": 13,
    "start_time": "2022-02-16T09:05:14.714Z"
   },
   {
    "duration": 11,
    "start_time": "2022-02-16T09:05:14.747Z"
   },
   {
    "duration": 10,
    "start_time": "2022-02-16T09:05:14.761Z"
   },
   {
    "duration": 20,
    "start_time": "2022-02-16T09:05:14.774Z"
   },
   {
    "duration": 53,
    "start_time": "2022-02-16T09:05:14.797Z"
   },
   {
    "duration": 32,
    "start_time": "2022-02-16T09:05:14.855Z"
   },
   {
    "duration": 24,
    "start_time": "2022-02-16T09:05:14.891Z"
   },
   {
    "duration": 45,
    "start_time": "2022-02-16T09:05:14.918Z"
   },
   {
    "duration": 5,
    "start_time": "2022-02-16T09:05:14.966Z"
   },
   {
    "duration": 14,
    "start_time": "2022-02-16T09:05:14.974Z"
   },
   {
    "duration": 67,
    "start_time": "2022-02-16T09:05:14.990Z"
   },
   {
    "duration": 8,
    "start_time": "2022-02-16T09:05:15.059Z"
   },
   {
    "duration": 32,
    "start_time": "2022-02-16T09:05:15.069Z"
   },
   {
    "duration": 6,
    "start_time": "2022-02-16T09:05:15.104Z"
   },
   {
    "duration": 37,
    "start_time": "2022-02-16T09:05:15.113Z"
   },
   {
    "duration": 14,
    "start_time": "2022-02-16T09:05:15.152Z"
   },
   {
    "duration": 25,
    "start_time": "2022-02-16T09:05:15.171Z"
   },
   {
    "duration": 55,
    "start_time": "2022-02-16T09:05:15.199Z"
   },
   {
    "duration": 59,
    "start_time": "2022-02-16T09:05:15.257Z"
   },
   {
    "duration": 77,
    "start_time": "2022-02-16T09:05:15.319Z"
   },
   {
    "duration": 62,
    "start_time": "2022-02-16T09:05:15.401Z"
   },
   {
    "duration": 121,
    "start_time": "2022-02-16T09:05:15.466Z"
   },
   {
    "duration": 40,
    "start_time": "2022-02-16T09:05:15.591Z"
   },
   {
    "duration": 27,
    "start_time": "2022-02-16T09:05:22.521Z"
   },
   {
    "duration": 13,
    "start_time": "2022-02-16T09:46:38.607Z"
   },
   {
    "duration": 6,
    "start_time": "2022-02-16T09:47:02.884Z"
   },
   {
    "duration": 8,
    "start_time": "2022-02-16T09:48:45.508Z"
   },
   {
    "duration": 8,
    "start_time": "2022-02-16T09:48:59.029Z"
   },
   {
    "duration": 7,
    "start_time": "2022-02-16T09:50:01.641Z"
   },
   {
    "duration": 29,
    "start_time": "2022-02-16T09:50:08.713Z"
   },
   {
    "duration": 6,
    "start_time": "2022-02-16T09:51:26.827Z"
   },
   {
    "duration": 4,
    "start_time": "2022-02-16T09:52:47.434Z"
   },
   {
    "duration": 11,
    "start_time": "2022-02-16T09:52:58.299Z"
   },
   {
    "duration": 43,
    "start_time": "2022-02-16T09:53:17.226Z"
   },
   {
    "duration": 28,
    "start_time": "2022-02-16T09:53:58.870Z"
   },
   {
    "duration": 25,
    "start_time": "2022-02-16T09:56:17.038Z"
   },
   {
    "duration": 817,
    "start_time": "2022-02-16T09:59:27.581Z"
   },
   {
    "duration": 13,
    "start_time": "2022-02-16T09:59:28.401Z"
   },
   {
    "duration": 35,
    "start_time": "2022-02-16T09:59:28.417Z"
   },
   {
    "duration": 10,
    "start_time": "2022-02-16T09:59:28.454Z"
   },
   {
    "duration": 22,
    "start_time": "2022-02-16T09:59:28.467Z"
   },
   {
    "duration": 39,
    "start_time": "2022-02-16T09:59:28.491Z"
   },
   {
    "duration": 50,
    "start_time": "2022-02-16T09:59:28.533Z"
   },
   {
    "duration": 23,
    "start_time": "2022-02-16T09:59:28.589Z"
   },
   {
    "duration": 35,
    "start_time": "2022-02-16T09:59:28.616Z"
   },
   {
    "duration": 11,
    "start_time": "2022-02-16T09:59:28.654Z"
   },
   {
    "duration": 15,
    "start_time": "2022-02-16T09:59:28.668Z"
   },
   {
    "duration": 26,
    "start_time": "2022-02-16T09:59:28.685Z"
   },
   {
    "duration": 36,
    "start_time": "2022-02-16T09:59:28.714Z"
   },
   {
    "duration": 21,
    "start_time": "2022-02-16T09:59:28.753Z"
   },
   {
    "duration": 10,
    "start_time": "2022-02-16T09:59:28.776Z"
   },
   {
    "duration": 15,
    "start_time": "2022-02-16T09:59:28.789Z"
   },
   {
    "duration": 44,
    "start_time": "2022-02-16T09:59:28.806Z"
   },
   {
    "duration": 23,
    "start_time": "2022-02-16T09:59:28.853Z"
   },
   {
    "duration": 36,
    "start_time": "2022-02-16T09:59:28.879Z"
   },
   {
    "duration": 70,
    "start_time": "2022-02-16T09:59:28.918Z"
   },
   {
    "duration": 62,
    "start_time": "2022-02-16T09:59:28.990Z"
   },
   {
    "duration": 30,
    "start_time": "2022-02-16T09:59:29.055Z"
   },
   {
    "duration": 98,
    "start_time": "2022-02-16T09:59:29.091Z"
   },
   {
    "duration": 26,
    "start_time": "2022-02-16T09:59:29.191Z"
   },
   {
    "duration": 52,
    "start_time": "2022-02-16T09:59:29.219Z"
   },
   {
    "duration": 11,
    "start_time": "2022-02-16T09:59:49.060Z"
   },
   {
    "duration": 11,
    "start_time": "2022-02-16T10:00:51.899Z"
   },
   {
    "duration": 15,
    "start_time": "2022-02-16T10:01:04.552Z"
   },
   {
    "duration": -360758,
    "start_time": "2022-02-16T10:08:33.154Z"
   },
   {
    "duration": 7228,
    "start_time": "2022-02-16T10:02:37.232Z"
   },
   {
    "duration": 8134,
    "start_time": "2022-02-16T10:02:55.269Z"
   },
   {
    "duration": 13,
    "start_time": "2022-02-16T10:05:43.233Z"
   },
   {
    "duration": 17,
    "start_time": "2022-02-16T10:06:39.119Z"
   },
   {
    "duration": 17,
    "start_time": "2022-02-16T10:07:12.532Z"
   },
   {
    "duration": 111,
    "start_time": "2022-02-16T10:13:28.677Z"
   },
   {
    "duration": 360,
    "start_time": "2022-02-16T10:15:28.007Z"
   },
   {
    "duration": 422,
    "start_time": "2022-02-16T10:15:43.342Z"
   },
   {
    "duration": 146,
    "start_time": "2022-02-16T10:15:49.526Z"
   },
   {
    "duration": 510,
    "start_time": "2022-02-16T10:15:56.525Z"
   },
   {
    "duration": 301,
    "start_time": "2022-02-16T10:31:24.626Z"
   },
   {
    "duration": 120,
    "start_time": "2022-02-16T10:31:34.086Z"
   },
   {
    "duration": 206,
    "start_time": "2022-02-16T10:32:19.600Z"
   },
   {
    "duration": 45,
    "start_time": "2022-02-16T10:32:32.875Z"
   },
   {
    "duration": 6,
    "start_time": "2022-02-16T10:33:54.680Z"
   },
   {
    "duration": 6,
    "start_time": "2022-02-16T10:34:03.380Z"
   },
   {
    "duration": 7,
    "start_time": "2022-02-16T10:34:17.258Z"
   },
   {
    "duration": 326,
    "start_time": "2022-02-16T10:37:12.569Z"
   },
   {
    "duration": 32,
    "start_time": "2022-02-16T10:37:24.894Z"
   },
   {
    "duration": 28,
    "start_time": "2022-02-16T10:38:46.172Z"
   },
   {
    "duration": 45,
    "start_time": "2022-02-16T10:46:15.616Z"
   },
   {
    "duration": 21,
    "start_time": "2022-02-16T10:46:39.220Z"
   },
   {
    "duration": 24,
    "start_time": "2022-02-16T10:47:31.399Z"
   },
   {
    "duration": 22,
    "start_time": "2022-02-16T10:48:29.952Z"
   },
   {
    "duration": 23,
    "start_time": "2022-02-16T10:49:35.210Z"
   },
   {
    "duration": 22,
    "start_time": "2022-02-16T10:50:57.748Z"
   },
   {
    "duration": 7951,
    "start_time": "2022-02-16T12:18:04.038Z"
   },
   {
    "duration": 851,
    "start_time": "2022-02-16T12:18:45.711Z"
   },
   {
    "duration": 15,
    "start_time": "2022-02-16T12:18:46.566Z"
   },
   {
    "duration": 11,
    "start_time": "2022-02-16T12:18:46.585Z"
   },
   {
    "duration": 52,
    "start_time": "2022-02-16T12:18:46.599Z"
   },
   {
    "duration": 15,
    "start_time": "2022-02-16T12:18:46.654Z"
   },
   {
    "duration": 10,
    "start_time": "2022-02-16T12:18:46.672Z"
   },
   {
    "duration": 69,
    "start_time": "2022-02-16T12:18:46.685Z"
   },
   {
    "duration": 24,
    "start_time": "2022-02-16T12:18:46.758Z"
   },
   {
    "duration": 19,
    "start_time": "2022-02-16T12:18:46.785Z"
   },
   {
    "duration": 6,
    "start_time": "2022-02-16T12:18:46.807Z"
   },
   {
    "duration": 13,
    "start_time": "2022-02-16T12:18:46.850Z"
   },
   {
    "duration": 25,
    "start_time": "2022-02-16T12:18:46.866Z"
   },
   {
    "duration": 8,
    "start_time": "2022-02-16T12:18:46.894Z"
   },
   {
    "duration": 60,
    "start_time": "2022-02-16T12:18:46.905Z"
   },
   {
    "duration": 8,
    "start_time": "2022-02-16T12:18:46.968Z"
   },
   {
    "duration": 17,
    "start_time": "2022-02-16T12:18:46.978Z"
   },
   {
    "duration": 9,
    "start_time": "2022-02-16T12:18:46.997Z"
   },
   {
    "duration": 63,
    "start_time": "2022-02-16T12:18:47.009Z"
   },
   {
    "duration": 25,
    "start_time": "2022-02-16T12:18:47.075Z"
   },
   {
    "duration": 81,
    "start_time": "2022-02-16T12:18:47.103Z"
   },
   {
    "duration": 62,
    "start_time": "2022-02-16T12:18:47.187Z"
   },
   {
    "duration": 31,
    "start_time": "2022-02-16T12:18:47.253Z"
   },
   {
    "duration": 102,
    "start_time": "2022-02-16T12:18:47.290Z"
   },
   {
    "duration": 26,
    "start_time": "2022-02-16T12:18:47.395Z"
   },
   {
    "duration": 432,
    "start_time": "2022-02-16T12:18:47.447Z"
   },
   {
    "duration": -360448,
    "start_time": "2022-02-16T12:24:48.330Z"
   },
   {
    "duration": 882,
    "start_time": "2022-02-16T12:19:20.736Z"
   },
   {
    "duration": 13,
    "start_time": "2022-02-16T12:19:21.620Z"
   },
   {
    "duration": 13,
    "start_time": "2022-02-16T12:19:21.649Z"
   },
   {
    "duration": 10,
    "start_time": "2022-02-16T12:19:21.665Z"
   },
   {
    "duration": 15,
    "start_time": "2022-02-16T12:19:21.678Z"
   },
   {
    "duration": 52,
    "start_time": "2022-02-16T12:19:21.696Z"
   },
   {
    "duration": 35,
    "start_time": "2022-02-16T12:19:21.750Z"
   },
   {
    "duration": 23,
    "start_time": "2022-02-16T12:19:21.789Z"
   },
   {
    "duration": 46,
    "start_time": "2022-02-16T12:19:21.816Z"
   },
   {
    "duration": 6,
    "start_time": "2022-02-16T12:19:21.865Z"
   },
   {
    "duration": 12,
    "start_time": "2022-02-16T12:19:21.874Z"
   },
   {
    "duration": 22,
    "start_time": "2022-02-16T12:19:21.888Z"
   },
   {
    "duration": 39,
    "start_time": "2022-02-16T12:19:21.912Z"
   },
   {
    "duration": 20,
    "start_time": "2022-02-16T12:19:21.954Z"
   },
   {
    "duration": 13,
    "start_time": "2022-02-16T12:19:21.976Z"
   },
   {
    "duration": 7,
    "start_time": "2022-02-16T12:19:21.992Z"
   },
   {
    "duration": 49,
    "start_time": "2022-02-16T12:19:22.002Z"
   },
   {
    "duration": 26,
    "start_time": "2022-02-16T12:19:22.053Z"
   },
   {
    "duration": 23,
    "start_time": "2022-02-16T12:19:22.082Z"
   },
   {
    "duration": 83,
    "start_time": "2022-02-16T12:19:22.107Z"
   },
   {
    "duration": 65,
    "start_time": "2022-02-16T12:19:22.192Z"
   },
   {
    "duration": 29,
    "start_time": "2022-02-16T12:19:22.260Z"
   },
   {
    "duration": 98,
    "start_time": "2022-02-16T12:19:22.294Z"
   },
   {
    "duration": 26,
    "start_time": "2022-02-16T12:19:22.395Z"
   },
   {
    "duration": 32,
    "start_time": "2022-02-16T12:19:22.449Z"
   },
   {
    "duration": 23,
    "start_time": "2022-02-16T12:19:22.484Z"
   },
   {
    "duration": 20,
    "start_time": "2022-02-16T12:21:39.208Z"
   },
   {
    "duration": 30,
    "start_time": "2022-02-16T12:21:49.633Z"
   },
   {
    "duration": 27,
    "start_time": "2022-02-16T12:22:24.043Z"
   },
   {
    "duration": 25,
    "start_time": "2022-02-16T12:22:47.743Z"
   },
   {
    "duration": 28,
    "start_time": "2022-02-16T12:23:31.109Z"
   },
   {
    "duration": 1048,
    "start_time": "2022-02-16T12:33:30.513Z"
   },
   {
    "duration": 13,
    "start_time": "2022-02-16T12:33:31.564Z"
   },
   {
    "duration": 14,
    "start_time": "2022-02-16T12:33:31.584Z"
   },
   {
    "duration": 48,
    "start_time": "2022-02-16T12:33:31.601Z"
   },
   {
    "duration": 13,
    "start_time": "2022-02-16T12:33:31.652Z"
   },
   {
    "duration": 12,
    "start_time": "2022-02-16T12:33:31.669Z"
   },
   {
    "duration": 64,
    "start_time": "2022-02-16T12:33:31.684Z"
   },
   {
    "duration": 25,
    "start_time": "2022-02-16T12:33:31.754Z"
   },
   {
    "duration": 16,
    "start_time": "2022-02-16T12:33:31.783Z"
   },
   {
    "duration": 10,
    "start_time": "2022-02-16T12:33:31.801Z"
   },
   {
    "duration": 46,
    "start_time": "2022-02-16T12:33:31.813Z"
   },
   {
    "duration": 31,
    "start_time": "2022-02-16T12:33:31.862Z"
   },
   {
    "duration": 8,
    "start_time": "2022-02-16T12:33:31.896Z"
   },
   {
    "duration": 47,
    "start_time": "2022-02-16T12:33:31.907Z"
   },
   {
    "duration": 7,
    "start_time": "2022-02-16T12:33:31.957Z"
   },
   {
    "duration": 13,
    "start_time": "2022-02-16T12:33:31.967Z"
   },
   {
    "duration": 15,
    "start_time": "2022-02-16T12:33:31.983Z"
   },
   {
    "duration": 50,
    "start_time": "2022-02-16T12:33:32.001Z"
   },
   {
    "duration": 24,
    "start_time": "2022-02-16T12:33:32.054Z"
   },
   {
    "duration": 91,
    "start_time": "2022-02-16T12:33:32.080Z"
   },
   {
    "duration": 79,
    "start_time": "2022-02-16T12:33:32.175Z"
   },
   {
    "duration": 36,
    "start_time": "2022-02-16T12:33:32.257Z"
   },
   {
    "duration": 97,
    "start_time": "2022-02-16T12:33:32.296Z"
   },
   {
    "duration": 27,
    "start_time": "2022-02-16T12:33:32.396Z"
   },
   {
    "duration": 65,
    "start_time": "2022-02-16T12:33:32.425Z"
   },
   {
    "duration": 28,
    "start_time": "2022-02-16T12:33:32.495Z"
   },
   {
    "duration": 643,
    "start_time": "2022-02-16T12:33:32.527Z"
   },
   {
    "duration": 1043,
    "start_time": "2022-02-16T12:33:56.427Z"
   },
   {
    "duration": 14,
    "start_time": "2022-02-16T12:33:57.473Z"
   },
   {
    "duration": 12,
    "start_time": "2022-02-16T12:33:57.490Z"
   },
   {
    "duration": 48,
    "start_time": "2022-02-16T12:33:57.505Z"
   },
   {
    "duration": 14,
    "start_time": "2022-02-16T12:33:57.557Z"
   },
   {
    "duration": 10,
    "start_time": "2022-02-16T12:33:57.574Z"
   },
   {
    "duration": 74,
    "start_time": "2022-02-16T12:33:57.587Z"
   },
   {
    "duration": 29,
    "start_time": "2022-02-16T12:33:57.664Z"
   },
   {
    "duration": 25,
    "start_time": "2022-02-16T12:33:57.696Z"
   },
   {
    "duration": 26,
    "start_time": "2022-02-16T12:33:57.724Z"
   },
   {
    "duration": 15,
    "start_time": "2022-02-16T12:33:57.753Z"
   },
   {
    "duration": 22,
    "start_time": "2022-02-16T12:33:57.771Z"
   },
   {
    "duration": 6,
    "start_time": "2022-02-16T12:33:57.796Z"
   },
   {
    "duration": 66,
    "start_time": "2022-02-16T12:33:57.805Z"
   },
   {
    "duration": 7,
    "start_time": "2022-02-16T12:33:57.874Z"
   },
   {
    "duration": 8,
    "start_time": "2022-02-16T12:33:57.884Z"
   },
   {
    "duration": 7,
    "start_time": "2022-02-16T12:33:57.895Z"
   },
   {
    "duration": 64,
    "start_time": "2022-02-16T12:33:57.905Z"
   },
   {
    "duration": 25,
    "start_time": "2022-02-16T12:33:57.972Z"
   },
   {
    "duration": 71,
    "start_time": "2022-02-16T12:33:58.000Z"
   },
   {
    "duration": 47,
    "start_time": "2022-02-16T12:33:58.073Z"
   },
   {
    "duration": 53,
    "start_time": "2022-02-16T12:33:58.123Z"
   },
   {
    "duration": 100,
    "start_time": "2022-02-16T12:33:58.182Z"
   },
   {
    "duration": 27,
    "start_time": "2022-02-16T12:33:58.285Z"
   },
   {
    "duration": 57,
    "start_time": "2022-02-16T12:33:58.315Z"
   },
   {
    "duration": 29,
    "start_time": "2022-02-16T12:33:58.374Z"
   },
   {
    "duration": 546,
    "start_time": "2022-02-16T12:33:58.405Z"
   },
   {
    "duration": 1337,
    "start_time": "2022-02-16T12:45:47.032Z"
   },
   {
    "duration": 16,
    "start_time": "2022-02-16T12:45:48.372Z"
   },
   {
    "duration": 16,
    "start_time": "2022-02-16T12:45:48.391Z"
   },
   {
    "duration": 48,
    "start_time": "2022-02-16T12:45:48.411Z"
   },
   {
    "duration": 27,
    "start_time": "2022-02-16T12:45:48.462Z"
   },
   {
    "duration": 16,
    "start_time": "2022-02-16T12:45:48.493Z"
   },
   {
    "duration": 82,
    "start_time": "2022-02-16T12:45:48.512Z"
   },
   {
    "duration": 51,
    "start_time": "2022-02-16T12:45:48.597Z"
   },
   {
    "duration": 23,
    "start_time": "2022-02-16T12:45:48.653Z"
   },
   {
    "duration": 34,
    "start_time": "2022-02-16T12:45:48.681Z"
   },
   {
    "duration": 32,
    "start_time": "2022-02-16T12:45:48.718Z"
   },
   {
    "duration": 36,
    "start_time": "2022-02-16T12:45:48.753Z"
   },
   {
    "duration": 14,
    "start_time": "2022-02-16T12:45:48.792Z"
   },
   {
    "duration": 71,
    "start_time": "2022-02-16T12:45:48.809Z"
   },
   {
    "duration": 14,
    "start_time": "2022-02-16T12:45:48.884Z"
   },
   {
    "duration": 18,
    "start_time": "2022-02-16T12:45:48.902Z"
   },
   {
    "duration": 33,
    "start_time": "2022-02-16T12:45:48.923Z"
   },
   {
    "duration": 51,
    "start_time": "2022-02-16T12:45:48.960Z"
   },
   {
    "duration": 54,
    "start_time": "2022-02-16T12:45:49.014Z"
   },
   {
    "duration": 57,
    "start_time": "2022-02-16T12:45:49.072Z"
   },
   {
    "duration": 87,
    "start_time": "2022-02-16T12:45:49.133Z"
   },
   {
    "duration": 61,
    "start_time": "2022-02-16T12:45:49.224Z"
   },
   {
    "duration": 110,
    "start_time": "2022-02-16T12:45:49.289Z"
   },
   {
    "duration": 50,
    "start_time": "2022-02-16T12:45:49.402Z"
   },
   {
    "duration": 68,
    "start_time": "2022-02-16T12:45:49.455Z"
   },
   {
    "duration": 48,
    "start_time": "2022-02-16T12:45:49.527Z"
   },
   {
    "duration": 696,
    "start_time": "2022-02-16T12:45:49.582Z"
   },
   {
    "duration": 31,
    "start_time": "2022-02-16T12:46:09.469Z"
   },
   {
    "duration": 26,
    "start_time": "2022-02-16T12:46:21.085Z"
   },
   {
    "duration": 37,
    "start_time": "2022-02-16T13:01:49.172Z"
   },
   {
    "duration": 321,
    "start_time": "2022-02-16T13:02:38.157Z"
   },
   {
    "duration": 316,
    "start_time": "2022-02-16T13:05:05.323Z"
   },
   {
    "duration": 38,
    "start_time": "2022-02-16T13:06:08.823Z"
   },
   {
    "duration": 334,
    "start_time": "2022-02-16T13:09:27.837Z"
   },
   {
    "duration": 325,
    "start_time": "2022-02-16T13:09:35.982Z"
   },
   {
    "duration": 50,
    "start_time": "2022-02-16T13:09:57.050Z"
   },
   {
    "duration": 7253,
    "start_time": "2022-02-16T13:14:19.094Z"
   },
   {
    "duration": 62,
    "start_time": "2022-02-16T13:15:13.705Z"
   },
   {
    "duration": 320,
    "start_time": "2022-02-16T13:17:31.633Z"
   },
   {
    "duration": 36,
    "start_time": "2022-02-16T13:17:43.629Z"
   },
   {
    "duration": 37,
    "start_time": "2022-02-16T13:22:57.848Z"
   },
   {
    "duration": -360319,
    "start_time": "2022-02-16T13:33:26.575Z"
   },
   {
    "duration": 37,
    "start_time": "2022-02-16T13:27:32.228Z"
   },
   {
    "duration": 39,
    "start_time": "2022-02-16T13:27:45.391Z"
   },
   {
    "duration": 899,
    "start_time": "2022-02-16T14:03:59.161Z"
   },
   {
    "duration": 14,
    "start_time": "2022-02-16T14:04:00.067Z"
   },
   {
    "duration": 17,
    "start_time": "2022-02-16T14:04:00.087Z"
   },
   {
    "duration": 21,
    "start_time": "2022-02-16T14:04:00.107Z"
   },
   {
    "duration": 21,
    "start_time": "2022-02-16T14:04:00.148Z"
   },
   {
    "duration": 16,
    "start_time": "2022-02-16T14:04:00.172Z"
   },
   {
    "duration": 67,
    "start_time": "2022-02-16T14:04:00.191Z"
   },
   {
    "duration": 25,
    "start_time": "2022-02-16T14:04:00.261Z"
   },
   {
    "duration": 19,
    "start_time": "2022-02-16T14:04:00.290Z"
   },
   {
    "duration": 40,
    "start_time": "2022-02-16T14:04:00.312Z"
   },
   {
    "duration": 37,
    "start_time": "2022-02-16T14:04:00.356Z"
   },
   {
    "duration": 23,
    "start_time": "2022-02-16T14:04:00.395Z"
   },
   {
    "duration": 9,
    "start_time": "2022-02-16T14:04:00.421Z"
   },
   {
    "duration": 52,
    "start_time": "2022-02-16T14:04:00.433Z"
   },
   {
    "duration": 14,
    "start_time": "2022-02-16T14:04:00.488Z"
   },
   {
    "duration": 18,
    "start_time": "2022-02-16T14:04:00.505Z"
   },
   {
    "duration": 32,
    "start_time": "2022-02-16T14:04:00.526Z"
   },
   {
    "duration": 77,
    "start_time": "2022-02-16T14:04:00.561Z"
   },
   {
    "duration": 56,
    "start_time": "2022-02-16T14:04:00.641Z"
   },
   {
    "duration": 185,
    "start_time": "2022-02-16T14:04:00.700Z"
   },
   {
    "duration": -360226,
    "start_time": "2022-02-16T14:10:01.117Z"
   },
   {
    "duration": -360226,
    "start_time": "2022-02-16T14:10:01.119Z"
   },
   {
    "duration": -360225,
    "start_time": "2022-02-16T14:10:01.120Z"
   },
   {
    "duration": -360225,
    "start_time": "2022-02-16T14:10:01.122Z"
   },
   {
    "duration": -360228,
    "start_time": "2022-02-16T14:10:01.127Z"
   },
   {
    "duration": -360231,
    "start_time": "2022-02-16T14:10:01.131Z"
   },
   {
    "duration": -360232,
    "start_time": "2022-02-16T14:10:01.133Z"
   },
   {
    "duration": -360231,
    "start_time": "2022-02-16T14:10:01.134Z"
   },
   {
    "duration": -360232,
    "start_time": "2022-02-16T14:10:01.136Z"
   },
   {
    "duration": 30,
    "start_time": "2022-02-16T14:05:07.054Z"
   },
   {
    "duration": 61,
    "start_time": "2022-02-16T14:09:58.639Z"
   },
   {
    "duration": 49,
    "start_time": "2022-02-16T14:15:16.905Z"
   },
   {
    "duration": 952,
    "start_time": "2022-02-16T14:30:22.817Z"
   },
   {
    "duration": 16,
    "start_time": "2022-02-16T14:30:23.773Z"
   },
   {
    "duration": 10,
    "start_time": "2022-02-16T14:30:23.792Z"
   },
   {
    "duration": 53,
    "start_time": "2022-02-16T14:30:23.805Z"
   },
   {
    "duration": 17,
    "start_time": "2022-02-16T14:30:23.861Z"
   },
   {
    "duration": 8,
    "start_time": "2022-02-16T14:30:23.881Z"
   },
   {
    "duration": 73,
    "start_time": "2022-02-16T14:30:23.892Z"
   },
   {
    "duration": 23,
    "start_time": "2022-02-16T14:30:23.970Z"
   },
   {
    "duration": 17,
    "start_time": "2022-02-16T14:30:23.996Z"
   },
   {
    "duration": 38,
    "start_time": "2022-02-16T14:30:24.016Z"
   },
   {
    "duration": 28,
    "start_time": "2022-02-16T14:30:24.056Z"
   },
   {
    "duration": 22,
    "start_time": "2022-02-16T14:30:24.088Z"
   },
   {
    "duration": 12,
    "start_time": "2022-02-16T14:30:24.113Z"
   },
   {
    "duration": 46,
    "start_time": "2022-02-16T14:30:24.128Z"
   },
   {
    "duration": 8,
    "start_time": "2022-02-16T14:30:24.176Z"
   },
   {
    "duration": 8,
    "start_time": "2022-02-16T14:30:24.186Z"
   },
   {
    "duration": 9,
    "start_time": "2022-02-16T14:30:24.196Z"
   },
   {
    "duration": 70,
    "start_time": "2022-02-16T14:30:24.208Z"
   },
   {
    "duration": 23,
    "start_time": "2022-02-16T14:30:24.280Z"
   },
   {
    "duration": 71,
    "start_time": "2022-02-16T14:30:24.306Z"
   },
   {
    "duration": 44,
    "start_time": "2022-02-16T14:30:24.379Z"
   },
   {
    "duration": 46,
    "start_time": "2022-02-16T14:30:24.426Z"
   },
   {
    "duration": 107,
    "start_time": "2022-02-16T14:30:24.478Z"
   },
   {
    "duration": 25,
    "start_time": "2022-02-16T14:30:24.588Z"
   },
   {
    "duration": 82,
    "start_time": "2022-02-16T14:30:24.616Z"
   },
   {
    "duration": 53,
    "start_time": "2022-02-16T14:30:24.701Z"
   },
   {
    "duration": 38,
    "start_time": "2022-02-16T14:30:24.758Z"
   },
   {
    "duration": 7,
    "start_time": "2022-02-16T14:30:24.799Z"
   },
   {
    "duration": 83,
    "start_time": "2022-02-16T14:30:24.809Z"
   },
   {
    "duration": 74,
    "start_time": "2022-02-24T12:44:34.985Z"
   }
  ],
  "kernelspec": {
   "display_name": "Python 3 (ipykernel)",
   "language": "python",
   "name": "python3"
  },
  "language_info": {
   "codemirror_mode": {
    "name": "ipython",
    "version": 3
   },
   "file_extension": ".py",
   "mimetype": "text/x-python",
   "name": "python",
   "nbconvert_exporter": "python",
   "pygments_lexer": "ipython3",
   "version": "3.9.6"
  },
  "toc": {
   "base_numbering": 1,
   "nav_menu": {},
   "number_sections": true,
   "sideBar": true,
   "skip_h1_title": true,
   "title_cell": "Table of Contents",
   "title_sidebar": "Contents",
   "toc_cell": false,
   "toc_position": {},
   "toc_section_display": true,
   "toc_window_display": false
  }
 },
 "nbformat": 4,
 "nbformat_minor": 5
}
