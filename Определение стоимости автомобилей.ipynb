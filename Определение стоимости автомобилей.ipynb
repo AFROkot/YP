{
 "cells": [
  {
   "cell_type": "markdown",
   "metadata": {},
   "source": [
    "# Определение стоимости автомобилей"
   ]
  },
  {
   "cell_type": "markdown",
   "metadata": {},
   "source": [
    "Сервис по продаже автомобилей с пробегом «Не бит, не крашен» разрабатывает приложение для привлечения новых клиентов. В нём можно быстро узнать рыночную стоимость своего автомобиля. В вашем распоряжении исторические данные: технические характеристики, комплектации и цены автомобилей. Вам нужно построить модель для определения стоимости. \n",
    "\n",
    "Заказчику важны:\n",
    "\n",
    "- качество предсказания;\n",
    "- скорость предсказания;\n",
    "- время обучения."
   ]
  },
  {
   "cell_type": "markdown",
   "metadata": {},
   "source": [
    "## Подготовка данных"
   ]
  },
  {
   "cell_type": "code",
   "execution_count": 1,
   "metadata": {},
   "outputs": [],
   "source": [
    "import pandas as pd\n",
    "import numpy as np\n",
    "import matplotlib.pyplot as plt\n",
    "from sklearn.preprocessing import OrdinalEncoder\n",
    "from sklearn.model_selection import train_test_split\n",
    "from sklearn.linear_model import LinearRegression\n",
    "from sklearn.metrics import mean_squared_error\n",
    "from sklearn.tree import DecisionTreeRegressor\n",
    "from sklearn.ensemble import RandomForestRegressor\n",
    "from sklearn.model_selection import GridSearchCV\n",
    "from sklearn.metrics import make_scorer\n",
    "from time import time\n",
    "from lightgbm import LGBMRegressor\n",
    "from catboost import CatBoostRegressor\n",
    "from xgboost import XGBRegressor\n"
   ]
  },
  {
   "cell_type": "code",
   "execution_count": 2,
   "metadata": {},
   "outputs": [
    {
     "data": {
      "text/html": [
       "<div>\n",
       "<style scoped>\n",
       "    .dataframe tbody tr th:only-of-type {\n",
       "        vertical-align: middle;\n",
       "    }\n",
       "\n",
       "    .dataframe tbody tr th {\n",
       "        vertical-align: top;\n",
       "    }\n",
       "\n",
       "    .dataframe thead th {\n",
       "        text-align: right;\n",
       "    }\n",
       "</style>\n",
       "<table border=\"1\" class=\"dataframe\">\n",
       "  <thead>\n",
       "    <tr style=\"text-align: right;\">\n",
       "      <th></th>\n",
       "      <th>DateCrawled</th>\n",
       "      <th>Price</th>\n",
       "      <th>VehicleType</th>\n",
       "      <th>RegistrationYear</th>\n",
       "      <th>Gearbox</th>\n",
       "      <th>Power</th>\n",
       "      <th>Model</th>\n",
       "      <th>Kilometer</th>\n",
       "      <th>RegistrationMonth</th>\n",
       "      <th>FuelType</th>\n",
       "      <th>Brand</th>\n",
       "      <th>Repaired</th>\n",
       "      <th>DateCreated</th>\n",
       "      <th>NumberOfPictures</th>\n",
       "      <th>PostalCode</th>\n",
       "      <th>LastSeen</th>\n",
       "    </tr>\n",
       "  </thead>\n",
       "  <tbody>\n",
       "    <tr>\n",
       "      <th>0</th>\n",
       "      <td>2016-03-24 11:52:17</td>\n",
       "      <td>480</td>\n",
       "      <td>NaN</td>\n",
       "      <td>1993</td>\n",
       "      <td>manual</td>\n",
       "      <td>0</td>\n",
       "      <td>golf</td>\n",
       "      <td>150000</td>\n",
       "      <td>0</td>\n",
       "      <td>petrol</td>\n",
       "      <td>volkswagen</td>\n",
       "      <td>NaN</td>\n",
       "      <td>2016-03-24 00:00:00</td>\n",
       "      <td>0</td>\n",
       "      <td>70435</td>\n",
       "      <td>2016-04-07 03:16:57</td>\n",
       "    </tr>\n",
       "    <tr>\n",
       "      <th>1</th>\n",
       "      <td>2016-03-24 10:58:45</td>\n",
       "      <td>18300</td>\n",
       "      <td>coupe</td>\n",
       "      <td>2011</td>\n",
       "      <td>manual</td>\n",
       "      <td>190</td>\n",
       "      <td>NaN</td>\n",
       "      <td>125000</td>\n",
       "      <td>5</td>\n",
       "      <td>gasoline</td>\n",
       "      <td>audi</td>\n",
       "      <td>yes</td>\n",
       "      <td>2016-03-24 00:00:00</td>\n",
       "      <td>0</td>\n",
       "      <td>66954</td>\n",
       "      <td>2016-04-07 01:46:50</td>\n",
       "    </tr>\n",
       "    <tr>\n",
       "      <th>2</th>\n",
       "      <td>2016-03-14 12:52:21</td>\n",
       "      <td>9800</td>\n",
       "      <td>suv</td>\n",
       "      <td>2004</td>\n",
       "      <td>auto</td>\n",
       "      <td>163</td>\n",
       "      <td>grand</td>\n",
       "      <td>125000</td>\n",
       "      <td>8</td>\n",
       "      <td>gasoline</td>\n",
       "      <td>jeep</td>\n",
       "      <td>NaN</td>\n",
       "      <td>2016-03-14 00:00:00</td>\n",
       "      <td>0</td>\n",
       "      <td>90480</td>\n",
       "      <td>2016-04-05 12:47:46</td>\n",
       "    </tr>\n",
       "    <tr>\n",
       "      <th>3</th>\n",
       "      <td>2016-03-17 16:54:04</td>\n",
       "      <td>1500</td>\n",
       "      <td>small</td>\n",
       "      <td>2001</td>\n",
       "      <td>manual</td>\n",
       "      <td>75</td>\n",
       "      <td>golf</td>\n",
       "      <td>150000</td>\n",
       "      <td>6</td>\n",
       "      <td>petrol</td>\n",
       "      <td>volkswagen</td>\n",
       "      <td>no</td>\n",
       "      <td>2016-03-17 00:00:00</td>\n",
       "      <td>0</td>\n",
       "      <td>91074</td>\n",
       "      <td>2016-03-17 17:40:17</td>\n",
       "    </tr>\n",
       "    <tr>\n",
       "      <th>4</th>\n",
       "      <td>2016-03-31 17:25:20</td>\n",
       "      <td>3600</td>\n",
       "      <td>small</td>\n",
       "      <td>2008</td>\n",
       "      <td>manual</td>\n",
       "      <td>69</td>\n",
       "      <td>fabia</td>\n",
       "      <td>90000</td>\n",
       "      <td>7</td>\n",
       "      <td>gasoline</td>\n",
       "      <td>skoda</td>\n",
       "      <td>no</td>\n",
       "      <td>2016-03-31 00:00:00</td>\n",
       "      <td>0</td>\n",
       "      <td>60437</td>\n",
       "      <td>2016-04-06 10:17:21</td>\n",
       "    </tr>\n",
       "    <tr>\n",
       "      <th>5</th>\n",
       "      <td>2016-04-04 17:36:23</td>\n",
       "      <td>650</td>\n",
       "      <td>sedan</td>\n",
       "      <td>1995</td>\n",
       "      <td>manual</td>\n",
       "      <td>102</td>\n",
       "      <td>3er</td>\n",
       "      <td>150000</td>\n",
       "      <td>10</td>\n",
       "      <td>petrol</td>\n",
       "      <td>bmw</td>\n",
       "      <td>yes</td>\n",
       "      <td>2016-04-04 00:00:00</td>\n",
       "      <td>0</td>\n",
       "      <td>33775</td>\n",
       "      <td>2016-04-06 19:17:07</td>\n",
       "    </tr>\n",
       "    <tr>\n",
       "      <th>6</th>\n",
       "      <td>2016-04-01 20:48:51</td>\n",
       "      <td>2200</td>\n",
       "      <td>convertible</td>\n",
       "      <td>2004</td>\n",
       "      <td>manual</td>\n",
       "      <td>109</td>\n",
       "      <td>2_reihe</td>\n",
       "      <td>150000</td>\n",
       "      <td>8</td>\n",
       "      <td>petrol</td>\n",
       "      <td>peugeot</td>\n",
       "      <td>no</td>\n",
       "      <td>2016-04-01 00:00:00</td>\n",
       "      <td>0</td>\n",
       "      <td>67112</td>\n",
       "      <td>2016-04-05 18:18:39</td>\n",
       "    </tr>\n",
       "    <tr>\n",
       "      <th>7</th>\n",
       "      <td>2016-03-21 18:54:38</td>\n",
       "      <td>0</td>\n",
       "      <td>sedan</td>\n",
       "      <td>1980</td>\n",
       "      <td>manual</td>\n",
       "      <td>50</td>\n",
       "      <td>other</td>\n",
       "      <td>40000</td>\n",
       "      <td>7</td>\n",
       "      <td>petrol</td>\n",
       "      <td>volkswagen</td>\n",
       "      <td>no</td>\n",
       "      <td>2016-03-21 00:00:00</td>\n",
       "      <td>0</td>\n",
       "      <td>19348</td>\n",
       "      <td>2016-03-25 16:47:58</td>\n",
       "    </tr>\n",
       "    <tr>\n",
       "      <th>8</th>\n",
       "      <td>2016-04-04 23:42:13</td>\n",
       "      <td>14500</td>\n",
       "      <td>bus</td>\n",
       "      <td>2014</td>\n",
       "      <td>manual</td>\n",
       "      <td>125</td>\n",
       "      <td>c_max</td>\n",
       "      <td>30000</td>\n",
       "      <td>8</td>\n",
       "      <td>petrol</td>\n",
       "      <td>ford</td>\n",
       "      <td>NaN</td>\n",
       "      <td>2016-04-04 00:00:00</td>\n",
       "      <td>0</td>\n",
       "      <td>94505</td>\n",
       "      <td>2016-04-04 23:42:13</td>\n",
       "    </tr>\n",
       "    <tr>\n",
       "      <th>9</th>\n",
       "      <td>2016-03-17 10:53:50</td>\n",
       "      <td>999</td>\n",
       "      <td>small</td>\n",
       "      <td>1998</td>\n",
       "      <td>manual</td>\n",
       "      <td>101</td>\n",
       "      <td>golf</td>\n",
       "      <td>150000</td>\n",
       "      <td>0</td>\n",
       "      <td>NaN</td>\n",
       "      <td>volkswagen</td>\n",
       "      <td>NaN</td>\n",
       "      <td>2016-03-17 00:00:00</td>\n",
       "      <td>0</td>\n",
       "      <td>27472</td>\n",
       "      <td>2016-03-31 17:17:06</td>\n",
       "    </tr>\n",
       "  </tbody>\n",
       "</table>\n",
       "</div>"
      ],
      "text/plain": [
       "           DateCrawled  Price  VehicleType  RegistrationYear Gearbox  Power  \\\n",
       "0  2016-03-24 11:52:17    480          NaN              1993  manual      0   \n",
       "1  2016-03-24 10:58:45  18300        coupe              2011  manual    190   \n",
       "2  2016-03-14 12:52:21   9800          suv              2004    auto    163   \n",
       "3  2016-03-17 16:54:04   1500        small              2001  manual     75   \n",
       "4  2016-03-31 17:25:20   3600        small              2008  manual     69   \n",
       "5  2016-04-04 17:36:23    650        sedan              1995  manual    102   \n",
       "6  2016-04-01 20:48:51   2200  convertible              2004  manual    109   \n",
       "7  2016-03-21 18:54:38      0        sedan              1980  manual     50   \n",
       "8  2016-04-04 23:42:13  14500          bus              2014  manual    125   \n",
       "9  2016-03-17 10:53:50    999        small              1998  manual    101   \n",
       "\n",
       "     Model  Kilometer  RegistrationMonth  FuelType       Brand Repaired  \\\n",
       "0     golf     150000                  0    petrol  volkswagen      NaN   \n",
       "1      NaN     125000                  5  gasoline        audi      yes   \n",
       "2    grand     125000                  8  gasoline        jeep      NaN   \n",
       "3     golf     150000                  6    petrol  volkswagen       no   \n",
       "4    fabia      90000                  7  gasoline       skoda       no   \n",
       "5      3er     150000                 10    petrol         bmw      yes   \n",
       "6  2_reihe     150000                  8    petrol     peugeot       no   \n",
       "7    other      40000                  7    petrol  volkswagen       no   \n",
       "8    c_max      30000                  8    petrol        ford      NaN   \n",
       "9     golf     150000                  0       NaN  volkswagen      NaN   \n",
       "\n",
       "           DateCreated  NumberOfPictures  PostalCode             LastSeen  \n",
       "0  2016-03-24 00:00:00                 0       70435  2016-04-07 03:16:57  \n",
       "1  2016-03-24 00:00:00                 0       66954  2016-04-07 01:46:50  \n",
       "2  2016-03-14 00:00:00                 0       90480  2016-04-05 12:47:46  \n",
       "3  2016-03-17 00:00:00                 0       91074  2016-03-17 17:40:17  \n",
       "4  2016-03-31 00:00:00                 0       60437  2016-04-06 10:17:21  \n",
       "5  2016-04-04 00:00:00                 0       33775  2016-04-06 19:17:07  \n",
       "6  2016-04-01 00:00:00                 0       67112  2016-04-05 18:18:39  \n",
       "7  2016-03-21 00:00:00                 0       19348  2016-03-25 16:47:58  \n",
       "8  2016-04-04 00:00:00                 0       94505  2016-04-04 23:42:13  \n",
       "9  2016-03-17 00:00:00                 0       27472  2016-03-31 17:17:06  "
      ]
     },
     "execution_count": 2,
     "metadata": {},
     "output_type": "execute_result"
    }
   ],
   "source": [
    "data = pd.read_csv('/datasets/autos.csv')\n",
    "data.head(10)"
   ]
  },
  {
   "cell_type": "code",
   "execution_count": 3,
   "metadata": {},
   "outputs": [
    {
     "name": "stdout",
     "output_type": "stream",
     "text": [
      "<class 'pandas.core.frame.DataFrame'>\n",
      "RangeIndex: 354369 entries, 0 to 354368\n",
      "Data columns (total 16 columns):\n",
      " #   Column             Non-Null Count   Dtype \n",
      "---  ------             --------------   ----- \n",
      " 0   DateCrawled        354369 non-null  object\n",
      " 1   Price              354369 non-null  int64 \n",
      " 2   VehicleType        316879 non-null  object\n",
      " 3   RegistrationYear   354369 non-null  int64 \n",
      " 4   Gearbox            334536 non-null  object\n",
      " 5   Power              354369 non-null  int64 \n",
      " 6   Model              334664 non-null  object\n",
      " 7   Kilometer          354369 non-null  int64 \n",
      " 8   RegistrationMonth  354369 non-null  int64 \n",
      " 9   FuelType           321474 non-null  object\n",
      " 10  Brand              354369 non-null  object\n",
      " 11  Repaired           283215 non-null  object\n",
      " 12  DateCreated        354369 non-null  object\n",
      " 13  NumberOfPictures   354369 non-null  int64 \n",
      " 14  PostalCode         354369 non-null  int64 \n",
      " 15  LastSeen           354369 non-null  object\n",
      "dtypes: int64(7), object(9)\n",
      "memory usage: 43.3+ MB\n"
     ]
    }
   ],
   "source": [
    "data.info()"
   ]
  },
  {
   "cell_type": "markdown",
   "metadata": {},
   "source": [
    "Найдём дубликаты"
   ]
  },
  {
   "cell_type": "code",
   "execution_count": 4,
   "metadata": {},
   "outputs": [
    {
     "name": "stdout",
     "output_type": "stream",
     "text": [
      "4\n"
     ]
    }
   ],
   "source": [
    "print(data.duplicated().sum())"
   ]
  },
  {
   "cell_type": "markdown",
   "metadata": {},
   "source": [
    "Совсем не много, можем просто удалить "
   ]
  },
  {
   "cell_type": "code",
   "execution_count": 5,
   "metadata": {},
   "outputs": [],
   "source": [
    "data = data.drop_duplicates().reset_index(drop=True)"
   ]
  },
  {
   "cell_type": "markdown",
   "metadata": {},
   "source": [
    "Избавимся от ненужных данных, данные колонки ни как не влияют на цену автомобился."
   ]
  },
  {
   "cell_type": "code",
   "execution_count": 6,
   "metadata": {},
   "outputs": [],
   "source": [
    "data_drop = data[['DateCrawled', 'DateCreated' ,'NumberOfPictures' ,'PostalCode' ,'LastSeen']]\n",
    "data = data.drop(['DateCrawled', 'DateCreated' ,'NumberOfPictures' ,'PostalCode' ,'LastSeen'], axis=1)"
   ]
  },
  {
   "cell_type": "code",
   "execution_count": 7,
   "metadata": {},
   "outputs": [
    {
     "data": {
      "text/html": [
       "<div>\n",
       "<style scoped>\n",
       "    .dataframe tbody tr th:only-of-type {\n",
       "        vertical-align: middle;\n",
       "    }\n",
       "\n",
       "    .dataframe tbody tr th {\n",
       "        vertical-align: top;\n",
       "    }\n",
       "\n",
       "    .dataframe thead th {\n",
       "        text-align: right;\n",
       "    }\n",
       "</style>\n",
       "<table border=\"1\" class=\"dataframe\">\n",
       "  <thead>\n",
       "    <tr style=\"text-align: right;\">\n",
       "      <th></th>\n",
       "      <th>Price</th>\n",
       "      <th>VehicleType</th>\n",
       "      <th>RegistrationYear</th>\n",
       "      <th>Gearbox</th>\n",
       "      <th>Power</th>\n",
       "      <th>Model</th>\n",
       "      <th>Kilometer</th>\n",
       "      <th>RegistrationMonth</th>\n",
       "      <th>FuelType</th>\n",
       "      <th>Brand</th>\n",
       "      <th>Repaired</th>\n",
       "    </tr>\n",
       "  </thead>\n",
       "  <tbody>\n",
       "    <tr>\n",
       "      <th>0</th>\n",
       "      <td>480</td>\n",
       "      <td>NaN</td>\n",
       "      <td>1993</td>\n",
       "      <td>manual</td>\n",
       "      <td>0</td>\n",
       "      <td>golf</td>\n",
       "      <td>150000</td>\n",
       "      <td>0</td>\n",
       "      <td>petrol</td>\n",
       "      <td>volkswagen</td>\n",
       "      <td>NaN</td>\n",
       "    </tr>\n",
       "    <tr>\n",
       "      <th>1</th>\n",
       "      <td>18300</td>\n",
       "      <td>coupe</td>\n",
       "      <td>2011</td>\n",
       "      <td>manual</td>\n",
       "      <td>190</td>\n",
       "      <td>NaN</td>\n",
       "      <td>125000</td>\n",
       "      <td>5</td>\n",
       "      <td>gasoline</td>\n",
       "      <td>audi</td>\n",
       "      <td>yes</td>\n",
       "    </tr>\n",
       "    <tr>\n",
       "      <th>2</th>\n",
       "      <td>9800</td>\n",
       "      <td>suv</td>\n",
       "      <td>2004</td>\n",
       "      <td>auto</td>\n",
       "      <td>163</td>\n",
       "      <td>grand</td>\n",
       "      <td>125000</td>\n",
       "      <td>8</td>\n",
       "      <td>gasoline</td>\n",
       "      <td>jeep</td>\n",
       "      <td>NaN</td>\n",
       "    </tr>\n",
       "    <tr>\n",
       "      <th>3</th>\n",
       "      <td>1500</td>\n",
       "      <td>small</td>\n",
       "      <td>2001</td>\n",
       "      <td>manual</td>\n",
       "      <td>75</td>\n",
       "      <td>golf</td>\n",
       "      <td>150000</td>\n",
       "      <td>6</td>\n",
       "      <td>petrol</td>\n",
       "      <td>volkswagen</td>\n",
       "      <td>no</td>\n",
       "    </tr>\n",
       "    <tr>\n",
       "      <th>4</th>\n",
       "      <td>3600</td>\n",
       "      <td>small</td>\n",
       "      <td>2008</td>\n",
       "      <td>manual</td>\n",
       "      <td>69</td>\n",
       "      <td>fabia</td>\n",
       "      <td>90000</td>\n",
       "      <td>7</td>\n",
       "      <td>gasoline</td>\n",
       "      <td>skoda</td>\n",
       "      <td>no</td>\n",
       "    </tr>\n",
       "  </tbody>\n",
       "</table>\n",
       "</div>"
      ],
      "text/plain": [
       "   Price VehicleType  RegistrationYear Gearbox  Power  Model  Kilometer  \\\n",
       "0    480         NaN              1993  manual      0   golf     150000   \n",
       "1  18300       coupe              2011  manual    190    NaN     125000   \n",
       "2   9800         suv              2004    auto    163  grand     125000   \n",
       "3   1500       small              2001  manual     75   golf     150000   \n",
       "4   3600       small              2008  manual     69  fabia      90000   \n",
       "\n",
       "   RegistrationMonth  FuelType       Brand Repaired  \n",
       "0                  0    petrol  volkswagen      NaN  \n",
       "1                  5  gasoline        audi      yes  \n",
       "2                  8  gasoline        jeep      NaN  \n",
       "3                  6    petrol  volkswagen       no  \n",
       "4                  7  gasoline       skoda       no  "
      ]
     },
     "execution_count": 7,
     "metadata": {},
     "output_type": "execute_result"
    }
   ],
   "source": [
    "data.head(5)"
   ]
  },
  {
   "cell_type": "markdown",
   "metadata": {},
   "source": [
    "Посмотрим кол-во пропусков."
   ]
  },
  {
   "cell_type": "code",
   "execution_count": 8,
   "metadata": {},
   "outputs": [
    {
     "data": {
      "text/plain": [
       "Price                    0\n",
       "VehicleType          37490\n",
       "RegistrationYear         0\n",
       "Gearbox              19833\n",
       "Power                    0\n",
       "Model                19705\n",
       "Kilometer                0\n",
       "RegistrationMonth        0\n",
       "FuelType             32895\n",
       "Brand                    0\n",
       "Repaired             71154\n",
       "dtype: int64"
      ]
     },
     "execution_count": 8,
     "metadata": {},
     "output_type": "execute_result"
    }
   ],
   "source": [
    "data.isna().sum()"
   ]
  },
  {
   "cell_type": "markdown",
   "metadata": {},
   "source": [
    "Заполним все пропуски в колонке Repaired на no"
   ]
  },
  {
   "cell_type": "code",
   "execution_count": 9,
   "metadata": {},
   "outputs": [],
   "source": [
    "data['Repaired'] = data['Repaired'].fillna('no')"
   ]
  },
  {
   "cell_type": "markdown",
   "metadata": {},
   "source": [
    "Заполним пропуски в колонках FuelType, VehicleType, Gearbox, Model самыми популярными занчениями относительно группировки. "
   ]
  },
  {
   "cell_type": "code",
   "execution_count": 10,
   "metadata": {},
   "outputs": [],
   "source": [
    "data['FuelType'] = data['FuelType'].fillna(data.groupby(['Model','Power'], dropna=False)['FuelType']\n",
    "                                           .transform(lambda x: x.mode().iloc[0] if x.notna().any() else np.nan))\n",
    "\n",
    "data['VehicleType'] = data['VehicleType'].fillna(data.groupby(['Model'], dropna=False)['VehicleType']\n",
    "                                           .transform(lambda x: x.mode().iloc[0] if x.notna().any() else np.nan))\n",
    "\n",
    "data['Gearbox'] = data['Gearbox'].fillna(data.groupby(['Model','RegistrationYear'], dropna=False)['Gearbox']\n",
    "                                           .transform(lambda x: x.mode().iloc[0] if x.notna().any() else np.nan))\n",
    "\n",
    "data['Model'] = data['Model'].fillna(data.groupby(['Brand','VehicleType'], dropna=False)['Model']\n",
    "                                           .transform(lambda x: x.mode().iloc[0] if x.notna().any() else np.nan))"
   ]
  },
  {
   "cell_type": "code",
   "execution_count": 11,
   "metadata": {},
   "outputs": [
    {
     "data": {
      "text/plain": [
       "Price                   0\n",
       "VehicleType             0\n",
       "RegistrationYear        0\n",
       "Gearbox               303\n",
       "Power                   0\n",
       "Model                3376\n",
       "Kilometer               0\n",
       "RegistrationMonth       0\n",
       "FuelType              448\n",
       "Brand                   0\n",
       "Repaired                0\n",
       "dtype: int64"
      ]
     },
     "execution_count": 11,
     "metadata": {},
     "output_type": "execute_result"
    }
   ],
   "source": [
    "data.isna().sum()"
   ]
  },
  {
   "cell_type": "markdown",
   "metadata": {},
   "source": [
    "Удалим строки с отавшимися пропусками так как их кол-во не значительно."
   ]
  },
  {
   "cell_type": "code",
   "execution_count": 12,
   "metadata": {},
   "outputs": [],
   "source": [
    "data = data.dropna()"
   ]
  },
  {
   "cell_type": "code",
   "execution_count": 13,
   "metadata": {},
   "outputs": [
    {
     "data": {
      "image/png": "[encoded data removed]",
      "text/plain": [
       "<Figure size 432x288 with 1 Axes>"
      ]
     },
     "metadata": {
      "needs_background": "light"
     },
     "output_type": "display_data"
    },
    {
     "data": {
      "image/png": "[encoded data removed]",
      "text/plain": [
       "<Figure size 1080x216 with 1 Axes>"
      ]
     },
     "metadata": {
      "needs_background": "light"
     },
     "output_type": "display_data"
    }
   ],
   "source": [
    "data.hist(['Price'], bins=200)\n",
    "plt.show()\n",
    "plt.figure(figsize=(15,3))\n",
    "data.boxplot(['Price'], vert=False, )\n",
    "plt.show()"
   ]
  },
  {
   "cell_type": "markdown",
   "metadata": {},
   "source": [
    "Удалим выбросы"
   ]
  },
  {
   "cell_type": "code",
   "execution_count": 14,
   "metadata": {},
   "outputs": [],
   "source": [
    "data = data.query('14450 > Price > 100')"
   ]
  },
  {
   "cell_type": "code",
   "execution_count": 15,
   "metadata": {},
   "outputs": [
    {
     "data": {
      "image/png": "[encoded data removed]",
      "text/plain": [
       "<Figure size 432x288 with 1 Axes>"
      ]
     },
     "metadata": {
      "needs_background": "light"
     },
     "output_type": "display_data"
    },
    {
     "data": {
      "image/png": "[encoded data removed]",
      "text/plain": [
       "<Figure size 1080x216 with 1 Axes>"
      ]
     },
     "metadata": {
      "needs_background": "light"
     },
     "output_type": "display_data"
    }
   ],
   "source": [
    "data.hist(['RegistrationYear'], bins=100)\n",
    "plt.show()\n",
    "plt.figure(figsize=(15,3))\n",
    "data.boxplot(['RegistrationYear'], vert=False, )\n",
    "plt.xlim(1900,2022)\n",
    "plt.show()"
   ]
  },
  {
   "cell_type": "markdown",
   "metadata": {},
   "source": [
    "Удалим строки с нереалистичными годами "
   ]
  },
  {
   "cell_type": "code",
   "execution_count": 16,
   "metadata": {},
   "outputs": [
    {
     "data": {
      "text/plain": [
       "'2016-04-07 14:36:58'"
      ]
     },
     "execution_count": 16,
     "metadata": {},
     "output_type": "execute_result"
    }
   ],
   "source": [
    "data_drop['DateCrawled'].max()"
   ]
  },
  {
   "cell_type": "code",
   "execution_count": 17,
   "metadata": {},
   "outputs": [],
   "source": [
    "data = data.query('2017 > RegistrationYear > 1900')"
   ]
  },
  {
   "cell_type": "code",
   "execution_count": 18,
   "metadata": {},
   "outputs": [
    {
     "data": {
      "image/png": "[encoded data removed]",
      "text/plain": [
       "<Figure size 432x288 with 1 Axes>"
      ]
     },
     "metadata": {
      "needs_background": "light"
     },
     "output_type": "display_data"
    },
    {
     "data": {
      "image/png": "[encoded data removed]",
      "text/plain": [
       "<Figure size 1080x216 with 1 Axes>"
      ]
     },
     "metadata": {
      "needs_background": "light"
     },
     "output_type": "display_data"
    }
   ],
   "source": [
    "data.hist(['Power'], bins=1000)\n",
    "plt.xlim(0,500)\n",
    "plt.show()\n",
    "plt.figure(figsize=(15,3))\n",
    "data.boxplot(['Power'], vert=False, )\n",
    "plt.xlim(-100,500)\n",
    "plt.show()"
   ]
  },
  {
   "cell_type": "markdown",
   "metadata": {},
   "source": [
    "Удалим строки с нереалистичными показателями мощности"
   ]
  },
  {
   "cell_type": "code",
   "execution_count": 19,
   "metadata": {},
   "outputs": [],
   "source": [
    "data = data.query('400 > Power > 0')"
   ]
  },
  {
   "cell_type": "code",
   "execution_count": 20,
   "metadata": {},
   "outputs": [
    {
     "data": {
      "image/png": "[encoded data removed]",
      "text/plain": [
       "<Figure size 432x288 with 1 Axes>"
      ]
     },
     "metadata": {
      "needs_background": "light"
     },
     "output_type": "display_data"
    }
   ],
   "source": [
    "data.hist(['Kilometer'], bins=10)\n",
    "plt.show()"
   ]
  },
  {
   "cell_type": "markdown",
   "metadata": {},
   "source": [
    "Проверим уникальные знаечения категориальных данных и преобразуем их в числовые "
   ]
  },
  {
   "cell_type": "code",
   "execution_count": 21,
   "metadata": {},
   "outputs": [],
   "source": [
    "data['Repaired'] = data['Repaired'].transform(lambda x: 1 if x=='yes' else 0)"
   ]
  },
  {
   "cell_type": "code",
   "execution_count": 22,
   "metadata": {},
   "outputs": [
    {
     "data": {
      "text/plain": [
       "array(['suv', 'small', 'sedan', 'convertible', 'wagon', 'bus', 'coupe',\n",
       "       'other'], dtype=object)"
      ]
     },
     "execution_count": 22,
     "metadata": {},
     "output_type": "execute_result"
    }
   ],
   "source": [
    "data['VehicleType'].unique()"
   ]
  },
  {
   "cell_type": "code",
   "execution_count": 23,
   "metadata": {},
   "outputs": [
    {
     "data": {
      "text/plain": [
       "array(['auto', 'manual'], dtype=object)"
      ]
     },
     "execution_count": 23,
     "metadata": {},
     "output_type": "execute_result"
    }
   ],
   "source": [
    "data['Gearbox'].unique()"
   ]
  },
  {
   "cell_type": "code",
   "execution_count": 24,
   "metadata": {},
   "outputs": [],
   "source": [
    "data['Gearbox'] = data['Gearbox'].transform(lambda x: 1 if x=='auto' else 0)"
   ]
  },
  {
   "cell_type": "code",
   "execution_count": 25,
   "metadata": {},
   "outputs": [
    {
     "data": {
      "text/plain": [
       "array(['gasoline', 'petrol', 'lpg', 'other', 'hybrid', 'cng', 'electric'],\n",
       "      dtype=object)"
      ]
     },
     "execution_count": 25,
     "metadata": {},
     "output_type": "execute_result"
    }
   ],
   "source": [
    "data['FuelType'].unique()"
   ]
  },
  {
   "cell_type": "code",
   "execution_count": 26,
   "metadata": {},
   "outputs": [
    {
     "data": {
      "text/plain": [
       "array(['jeep', 'volkswagen', 'skoda', 'bmw', 'peugeot', 'mazda',\n",
       "       'renault', 'ford', 'mercedes_benz', 'seat', 'honda', 'fiat',\n",
       "       'opel', 'mini', 'smart', 'hyundai', 'audi', 'nissan', 'alfa_romeo',\n",
       "       'subaru', 'volvo', 'mitsubishi', 'kia', 'suzuki', 'lancia',\n",
       "       'citroen', 'toyota', 'chevrolet', 'dacia', 'daihatsu', 'chrysler',\n",
       "       'jaguar', 'daewoo', 'rover', 'porsche', 'saab', 'trabant',\n",
       "       'land_rover', 'lada'], dtype=object)"
      ]
     },
     "execution_count": 26,
     "metadata": {},
     "output_type": "execute_result"
    }
   ],
   "source": [
    "data['Brand'].unique()"
   ]
  },
  {
   "cell_type": "code",
   "execution_count": 27,
   "metadata": {},
   "outputs": [],
   "source": [
    "#data = data.query('index < 1000')"
   ]
  },
  {
   "cell_type": "markdown",
   "metadata": {},
   "source": [
    "Разделим данные на признаки и цели."
   ]
  },
  {
   "cell_type": "code",
   "execution_count": 28,
   "metadata": {},
   "outputs": [],
   "source": [
    "features = data.drop(['Price'], axis=1)\n",
    "target = data['Price']"
   ]
  },
  {
   "cell_type": "markdown",
   "metadata": {},
   "source": [
    "Применим два типа преобразования категориальных данных OHE и OE, в дальнейшем будем проводить все исследования на двух выборках."
   ]
  },
  {
   "cell_type": "code",
   "execution_count": 29,
   "metadata": {},
   "outputs": [],
   "source": [
    "features_ohe = pd.get_dummies(features, drop_first=True)"
   ]
  },
  {
   "cell_type": "code",
   "execution_count": 30,
   "metadata": {},
   "outputs": [],
   "source": [
    "encoder = OrdinalEncoder()\n",
    "data_cat = features[['VehicleType','FuelType','Brand','Model']]\n",
    "data_cat_oe = pd.DataFrame(encoder.fit_transform(data_cat), columns=data_cat.columns, index=data_cat.index)\n",
    "features_oe =  pd.concat([features.drop(['VehicleType','FuelType','Brand','Model'],axis=1),\n",
    "                          data_cat_oe] , join='inner', axis=1)\n"
   ]
  },
  {
   "cell_type": "markdown",
   "metadata": {},
   "source": [
    "Разделяем выборки на тренировочную вилидационную и тестовую"
   ]
  },
  {
   "cell_type": "code",
   "execution_count": 31,
   "metadata": {},
   "outputs": [],
   "source": [
    "features_ohe_t, features_ohe_test, target_ohe_t, target_ohe_test = train_test_split(features_ohe, target,\n",
    "                                                                                    test_size=0.2, random_state=12345)\n",
    "features_oe_t, features_oe_test, target_oe_t, target_oe_test = train_test_split(features_oe, target,\n",
    "                                                                                 test_size=0.2, random_state=12345)\n",
    "\n",
    "features_ohe_train, features_ohe_valid, target_ohe_train, target_ohe_valid = train_test_split(features_ohe_t, target_ohe_t,\n",
    "                                                                                    test_size=0.25, random_state=12345)\n",
    "features_oe_train, features_oe_valid, target_oe_train, target_oe_valid = train_test_split(features_oe_t, target_oe_t,\n",
    "                                                                                    test_size=0.25, random_state=12345)"
   ]
  },
  {
   "cell_type": "markdown",
   "metadata": {},
   "source": [
    "## Обучение моделей"
   ]
  },
  {
   "cell_type": "markdown",
   "metadata": {},
   "source": [
    "Функция для подщёта RMSE"
   ]
  },
  {
   "cell_type": "code",
   "execution_count": 32,
   "metadata": {},
   "outputs": [],
   "source": [
    "def RMSE (real, pred):\n",
    "    return np.sqrt(mean_squared_error(real,pred))"
   ]
  },
  {
   "cell_type": "markdown",
   "metadata": {},
   "source": [
    "Функция для подбора параметров и замера времяни (предсказания, обучения, подбора параметров) возвращает DataFrame с данными."
   ]
  },
  {
   "cell_type": "code",
   "execution_count": 33,
   "metadata": {},
   "outputs": [],
   "source": [
    "score = make_scorer(RMSE, greater_is_better=False)\n",
    "results = pd.DataFrame(columns=['model','parametrs','encoding_type','rmse','time_fit','time_en','time_predict'])\n",
    "     \n",
    "def trainer (model_train, parameters):\n",
    "    model = GridSearchCV(model_train, parameters, cv=5, scoring=score,)\n",
    "    results = pd.DataFrame(columns=['model','parametrs','encoding_type','rmse','time_fit','time_en','time_predict'])\n",
    "    \n",
    "    start = time()\n",
    "    model.fit(features_ohe_train,target_ohe_train)\n",
    "    time_en = time() - start\n",
    "\n",
    "    \n",
    "    start = time()\n",
    "    model.predict(features_ohe_valid)\n",
    "    timepred = time() - start\n",
    "  \n",
    "    \n",
    "    results = results.append({'model': model_train,\n",
    "                              'parametrs': model.best_params_,\n",
    "                              'encoding_type': 'OHE',\n",
    "                              'rmse': -model.best_score_,\n",
    "                              'time_en': time_en,\n",
    "                              'time_fit': model.refit_time_ ,\n",
    "                              'time_predict': timepred}, ignore_index=True) \n",
    "\n",
    "    start = time()\n",
    "    model.fit(features_oe_train,target_oe_train)\n",
    "    time_en = time() - start\n",
    "   \n",
    "    start = time()\n",
    "    model.predict(features_oe_valid)\n",
    "    timepred = time() - start\n",
    "       \n",
    "    results = results.append({'model': model_train,\n",
    "                              'parametrs': model.best_params_,\n",
    "                              'encoding_type': 'OE',\n",
    "                              'rmse': -model.best_score_,\n",
    "                              'time_en': time_en,\n",
    "                              'time_fit': model.refit_time_ ,\n",
    "                              'time_predict': timepred}, ignore_index=True) \n",
    "    return results"
   ]
  },
  {
   "cell_type": "markdown",
   "metadata": {},
   "source": [
    "DecisionTreeRegressor"
   ]
  },
  {
   "cell_type": "code",
   "execution_count": 34,
   "metadata": {},
   "outputs": [],
   "source": [
    "parametrs = {'max_depth': range(2, 12, 2),'random_state': [12345]}\n",
    "model = DecisionTreeRegressor()\n",
    "results = results.append(trainer(model,parametrs),  ignore_index=True)"
   ]
  },
  {
   "cell_type": "markdown",
   "metadata": {},
   "source": [
    "RandomForestRegressor"
   ]
  },
  {
   "cell_type": "code",
   "execution_count": null,
   "metadata": {},
   "outputs": [],
   "source": [
    "parametrs = {'n_estimators':range(10, 51, 10),'max_depth': range(2, 5),'random_state': [12345]}\n",
    "model = RandomForestRegressor()\n",
    "results = results.append(trainer(model,parametrs),  ignore_index=True)"
   ]
  },
  {
   "cell_type": "markdown",
   "metadata": {},
   "source": [
    "LGBMRegressor"
   ]
  },
  {
   "cell_type": "code",
   "execution_count": null,
   "metadata": {},
   "outputs": [],
   "source": [
    "parametrs = {'n_estimators':range(10, 51, 10),'max_depth': range(2, 5),'learning_rate': [0.1, 0.2, 0.4],'random_state': [12345]}\n",
    "model = LGBMRegressor()\n",
    "results = results.append(trainer(model,parametrs),  ignore_index=True)"
   ]
  },
  {
   "cell_type": "markdown",
   "metadata": {},
   "source": [
    "CatBoostRegressor"
   ]
  },
  {
   "cell_type": "code",
   "execution_count": null,
   "metadata": {
    "scrolled": true
   },
   "outputs": [],
   "source": [
    "parametrs = {'n_estimators':range(10, 51, 10),'max_depth': range(2, 5),'learning_rate': [0.1, 0.2, 0.4],'random_state': [12345]}\n",
    "model = CatBoostRegressor(verbose=False)\n",
    "results = results.append(trainer(model,parametrs),  ignore_index=True)"
   ]
  },
  {
   "cell_type": "markdown",
   "metadata": {},
   "source": [
    "XGBRegressor"
   ]
  },
  {
   "cell_type": "code",
   "execution_count": null,
   "metadata": {},
   "outputs": [],
   "source": [
    "\"\"\"parametrs = {'n_estimators':range(10, 51, 10),'max_depth': range(2, 5),'learning_rate': [0.1, 0.2, 0.4],'random_state': [12345]}\n",
    "model = XGBRegressor()\n",
    "results = results.append(trainer(model,parametrs),  ignore_index=True)\"\"\""
   ]
  },
  {
   "cell_type": "markdown",
   "metadata": {},
   "source": [
    "## Анализ моделей"
   ]
  },
  {
   "cell_type": "markdown",
   "metadata": {},
   "source": [
    "Определим лучшую модель, параметры, метод кодирования.\n",
    "Оценкой служит некий point посчитаный от среднего отношений колонок rmse, time_predict к их минимальным значениям.\n",
    "Чем меньше значение тем лучше."
   ]
  },
  {
   "cell_type": "code",
   "execution_count": null,
   "metadata": {},
   "outputs": [],
   "source": [
    "def point (results,rmse_min,time_predict_min):\n",
    "    return (results['rmse'] / rmse_min + results['time_predict'] / time_predict_min) / 2"
   ]
  },
  {
   "cell_type": "code",
   "execution_count": null,
   "metadata": {},
   "outputs": [],
   "source": [
    "results['points'] = results.apply(point, args=(results['rmse'].min(),\n",
    "                                               results['time_predict'].min()), axis=1)\n",
    "results"
   ]
  },
  {
   "cell_type": "code",
   "execution_count": null,
   "metadata": {},
   "outputs": [],
   "source": [
    "pd.set_option('display.max_colwidth', -1)\n",
    "print('Лучшая модель и лучшеие парамерты',\n",
    "      results[results['points'] == results['points'].min()][['model','parametrs','encoding_type']])"
   ]
  },
  {
   "cell_type": "markdown",
   "metadata": {},
   "source": [
    "Проверим модель на тестовой выборке "
   ]
  },
  {
   "cell_type": "code",
   "execution_count": null,
   "metadata": {},
   "outputs": [],
   "source": [
    "\n",
    "model = CatBoostRegressor(learning_rate=0.4, max_depth= 4, n_estimators=50, random_state=12345)\n",
    "\n",
    "start = time()\n",
    "model.fit(features_oe_train,target_oe_train)\n",
    "time_fit= time() - start\n",
    "\n",
    "start = time()\n",
    "predictions = model.predict(features_oe_test)\n",
    "time_pred = time() - start\n",
    "\n",
    "print('RMSE:', RMSE(target_oe_test,predictions), 'Время обучения:', time_fit, 'Время предсказания:', time_pred)"
   ]
  },
  {
   "cell_type": "markdown",
   "metadata": {},
   "source": [
    "## Чек-лист проверки"
   ]
  },
  {
   "cell_type": "markdown",
   "metadata": {},
   "source": [
    "Поставьте 'x' в выполненных пунктах. Далее нажмите Shift+Enter."
   ]
  },
  {
   "cell_type": "markdown",
   "metadata": {},
   "source": [
    "- [x]  Jupyter Notebook открыт\n",
    "- [ ]  Весь код выполняется без ошибок\n",
    "- [ ]  Ячейки с кодом расположены в порядке исполнения\n",
    "- [ ]  Выполнена загрузка и подготовка данных\n",
    "- [ ]  Выполнено обучение моделей\n",
    "- [ ]  Есть анализ скорости работы и качества моделей"
   ]
  },
  {
   "cell_type": "code",
   "execution_count": null,
   "metadata": {},
   "outputs": [],
   "source": []
  }
 ],
 "metadata": {
  "ExecuteTimeLog": [
   {
    "duration": 470,
    "start_time": "2022-11-06T10:39:05.417Z"
   },
   {
    "duration": 3015,
    "start_time": "2022-11-06T10:39:07.133Z"
   },
   {
    "duration": 901,
    "start_time": "2022-11-06T10:39:35.070Z"
   },
   {
    "duration": 139,
    "start_time": "2022-11-06T10:39:49.200Z"
   },
   {
    "duration": 131,
    "start_time": "2022-11-06T10:41:25.544Z"
   },
   {
    "duration": 134,
    "start_time": "2022-11-06T10:41:32.604Z"
   },
   {
    "duration": 132,
    "start_time": "2022-11-06T10:41:44.935Z"
   },
   {
    "duration": 69,
    "start_time": "2022-11-06T11:13:54.781Z"
   },
   {
    "duration": 18,
    "start_time": "2022-11-06T11:13:59.894Z"
   },
   {
    "duration": 12,
    "start_time": "2022-11-06T11:16:16.083Z"
   },
   {
    "duration": 89,
    "start_time": "2022-11-06T11:17:14.687Z"
   },
   {
    "duration": 5,
    "start_time": "2022-11-06T11:29:37.810Z"
   },
   {
    "duration": 3,
    "start_time": "2022-11-06T11:30:00.206Z"
   },
   {
    "duration": 4,
    "start_time": "2022-11-06T11:30:06.482Z"
   },
   {
    "duration": 5,
    "start_time": "2022-11-06T11:32:12.064Z"
   },
   {
    "duration": 4,
    "start_time": "2022-11-06T11:32:30.660Z"
   },
   {
    "duration": 3,
    "start_time": "2022-11-06T11:32:57.622Z"
   },
   {
    "duration": 4,
    "start_time": "2022-11-06T11:33:00.767Z"
   },
   {
    "duration": 10,
    "start_time": "2022-11-06T11:33:51.865Z"
   },
   {
    "duration": 87,
    "start_time": "2022-11-06T11:37:18.641Z"
   },
   {
    "duration": 81,
    "start_time": "2022-11-06T11:41:49.410Z"
   },
   {
    "duration": 77,
    "start_time": "2022-11-06T11:42:17.058Z"
   },
   {
    "duration": 3541,
    "start_time": "2022-11-06T11:42:36.147Z"
   },
   {
    "duration": 3673,
    "start_time": "2022-11-06T11:43:45.965Z"
   },
   {
    "duration": 6,
    "start_time": "2022-11-06T11:46:39.641Z"
   },
   {
    "duration": 6,
    "start_time": "2022-11-06T11:46:59.147Z"
   },
   {
    "duration": 414,
    "start_time": "2022-11-06T11:58:22.674Z"
   },
   {
    "duration": 918,
    "start_time": "2022-11-06T11:58:23.090Z"
   },
   {
    "duration": 155,
    "start_time": "2022-11-06T11:58:24.010Z"
   },
   {
    "duration": 30,
    "start_time": "2022-11-06T11:58:24.168Z"
   },
   {
    "duration": 30,
    "start_time": "2022-11-06T11:58:24.201Z"
   },
   {
    "duration": 103,
    "start_time": "2022-11-06T11:58:24.233Z"
   },
   {
    "duration": 5,
    "start_time": "2022-11-06T11:58:24.338Z"
   },
   {
    "duration": 82,
    "start_time": "2022-11-06T12:08:40.458Z"
   },
   {
    "duration": 16,
    "start_time": "2022-11-06T12:09:14.444Z"
   },
   {
    "duration": 4,
    "start_time": "2022-11-06T12:09:21.623Z"
   },
   {
    "duration": 5,
    "start_time": "2022-11-06T12:09:26.407Z"
   },
   {
    "duration": 50,
    "start_time": "2022-11-06T12:09:39.752Z"
   },
   {
    "duration": 14,
    "start_time": "2022-11-06T12:11:06.029Z"
   },
   {
    "duration": 11,
    "start_time": "2022-11-06T12:11:17.835Z"
   },
   {
    "duration": 14,
    "start_time": "2022-11-06T12:11:51.592Z"
   },
   {
    "duration": 408,
    "start_time": "2022-11-06T12:12:00.461Z"
   },
   {
    "duration": 975,
    "start_time": "2022-11-06T12:12:00.871Z"
   },
   {
    "duration": 217,
    "start_time": "2022-11-06T12:12:01.849Z"
   },
   {
    "duration": 32,
    "start_time": "2022-11-06T12:12:02.069Z"
   },
   {
    "duration": 31,
    "start_time": "2022-11-06T12:12:02.104Z"
   },
   {
    "duration": 118,
    "start_time": "2022-11-06T12:12:02.138Z"
   },
   {
    "duration": 87,
    "start_time": "2022-11-06T12:12:02.258Z"
   },
   {
    "duration": 30,
    "start_time": "2022-11-06T12:15:24.386Z"
   },
   {
    "duration": 29,
    "start_time": "2022-11-06T12:16:40.057Z"
   },
   {
    "duration": 3918,
    "start_time": "2022-11-06T12:18:04.578Z"
   },
   {
    "duration": 9,
    "start_time": "2022-11-06T12:18:31.243Z"
   },
   {
    "duration": 71,
    "start_time": "2022-11-06T12:19:05.912Z"
   },
   {
    "duration": 623,
    "start_time": "2022-11-06T12:19:23.488Z"
   },
   {
    "duration": 579,
    "start_time": "2022-11-06T12:20:49.012Z"
   },
   {
    "duration": 211,
    "start_time": "2022-11-06T12:25:42.279Z"
   },
   {
    "duration": 52,
    "start_time": "2022-11-06T12:25:54.280Z"
   },
   {
    "duration": 26,
    "start_time": "2022-11-06T12:28:31.256Z"
   },
   {
    "duration": 9,
    "start_time": "2022-11-06T12:31:18.832Z"
   },
   {
    "duration": 591,
    "start_time": "2022-11-06T12:33:16.615Z"
   },
   {
    "duration": 1087,
    "start_time": "2022-11-06T12:55:35.150Z"
   },
   {
    "duration": 64,
    "start_time": "2022-11-06T12:55:41.575Z"
   },
   {
    "duration": 71,
    "start_time": "2022-11-06T12:58:12.114Z"
   },
   {
    "duration": 49,
    "start_time": "2022-11-06T12:58:27.876Z"
   },
   {
    "duration": 1104,
    "start_time": "2022-11-06T12:58:48.764Z"
   },
   {
    "duration": 6,
    "start_time": "2022-11-06T12:59:00.353Z"
   },
   {
    "duration": 1177,
    "start_time": "2022-11-06T12:59:59.603Z"
   },
   {
    "duration": 427,
    "start_time": "2022-11-06T13:00:07.539Z"
   },
   {
    "duration": 1003,
    "start_time": "2022-11-06T13:00:07.969Z"
   },
   {
    "duration": 163,
    "start_time": "2022-11-06T13:00:08.973Z"
   },
   {
    "duration": 29,
    "start_time": "2022-11-06T13:00:09.138Z"
   },
   {
    "duration": 30,
    "start_time": "2022-11-06T13:00:09.169Z"
   },
   {
    "duration": 121,
    "start_time": "2022-11-06T13:00:09.201Z"
   },
   {
    "duration": 63,
    "start_time": "2022-11-06T13:00:09.324Z"
   },
   {
    "duration": 98,
    "start_time": "2022-11-06T13:00:09.389Z"
   },
   {
    "duration": 39,
    "start_time": "2022-11-06T13:02:40.222Z"
   },
   {
    "duration": 395,
    "start_time": "2022-11-06T13:02:48.679Z"
   },
   {
    "duration": 952,
    "start_time": "2022-11-06T13:02:49.076Z"
   },
   {
    "duration": 157,
    "start_time": "2022-11-06T13:02:50.030Z"
   },
   {
    "duration": 38,
    "start_time": "2022-11-06T13:02:50.190Z"
   },
   {
    "duration": 17,
    "start_time": "2022-11-06T13:02:50.230Z"
   },
   {
    "duration": 125,
    "start_time": "2022-11-06T13:02:50.249Z"
   },
   {
    "duration": 75,
    "start_time": "2022-11-06T13:02:50.375Z"
   },
   {
    "duration": 120,
    "start_time": "2022-11-06T13:02:50.452Z"
   },
   {
    "duration": 69,
    "start_time": "2022-11-06T13:04:35.621Z"
   },
   {
    "duration": 59,
    "start_time": "2022-11-06T13:04:38.614Z"
   },
   {
    "duration": 85,
    "start_time": "2022-11-06T13:04:40.509Z"
   },
   {
    "duration": 32,
    "start_time": "2022-11-06T13:04:53.689Z"
   },
   {
    "duration": 8,
    "start_time": "2022-11-06T13:04:55.191Z"
   },
   {
    "duration": 7,
    "start_time": "2022-11-06T13:05:04.427Z"
   },
   {
    "duration": 27,
    "start_time": "2022-11-06T13:05:27.314Z"
   },
   {
    "duration": 8,
    "start_time": "2022-11-06T13:05:28.460Z"
   },
   {
    "duration": 35,
    "start_time": "2022-11-06T13:05:52.817Z"
   },
   {
    "duration": 460,
    "start_time": "2022-11-06T13:05:56.998Z"
   },
   {
    "duration": 959,
    "start_time": "2022-11-06T13:05:57.461Z"
   },
   {
    "duration": 146,
    "start_time": "2022-11-06T13:05:58.423Z"
   },
   {
    "duration": 25,
    "start_time": "2022-11-06T13:05:58.571Z"
   },
   {
    "duration": 27,
    "start_time": "2022-11-06T13:05:58.598Z"
   },
   {
    "duration": 100,
    "start_time": "2022-11-06T13:05:58.627Z"
   },
   {
    "duration": 53,
    "start_time": "2022-11-06T13:05:58.729Z"
   },
   {
    "duration": 27,
    "start_time": "2022-11-06T13:05:58.784Z"
   },
   {
    "duration": 8,
    "start_time": "2022-11-06T13:06:18.206Z"
   },
   {
    "duration": 66,
    "start_time": "2022-11-06T13:06:49.720Z"
   },
   {
    "duration": 76,
    "start_time": "2022-11-06T13:07:08.832Z"
   },
   {
    "duration": 87,
    "start_time": "2022-11-06T13:07:13.682Z"
   },
   {
    "duration": 73,
    "start_time": "2022-11-06T13:07:27.936Z"
   },
   {
    "duration": 97,
    "start_time": "2022-11-06T13:07:29.377Z"
   },
   {
    "duration": 61,
    "start_time": "2022-11-06T13:08:05.914Z"
   },
   {
    "duration": 79,
    "start_time": "2022-11-06T13:10:25.379Z"
   },
   {
    "duration": 12,
    "start_time": "2022-11-06T13:11:13.848Z"
   },
   {
    "duration": 11,
    "start_time": "2022-11-06T13:11:33.569Z"
   },
   {
    "duration": 13,
    "start_time": "2022-11-06T13:11:57.385Z"
   },
   {
    "duration": 14,
    "start_time": "2022-11-06T13:12:34.555Z"
   },
   {
    "duration": 616,
    "start_time": "2022-11-06T13:13:37.044Z"
   },
   {
    "duration": 94,
    "start_time": "2022-11-06T13:13:56.269Z"
   },
   {
    "duration": 178,
    "start_time": "2022-11-06T13:14:21.506Z"
   },
   {
    "duration": 13,
    "start_time": "2022-11-06T13:14:40.820Z"
   },
   {
    "duration": 461,
    "start_time": "2022-11-06T13:14:45.834Z"
   },
   {
    "duration": 974,
    "start_time": "2022-11-06T13:14:46.297Z"
   },
   {
    "duration": 154,
    "start_time": "2022-11-06T13:14:47.272Z"
   },
   {
    "duration": 27,
    "start_time": "2022-11-06T13:14:47.427Z"
   },
   {
    "duration": 12,
    "start_time": "2022-11-06T13:14:47.456Z"
   },
   {
    "duration": 111,
    "start_time": "2022-11-06T13:14:47.470Z"
   },
   {
    "duration": 73,
    "start_time": "2022-11-06T13:14:47.583Z"
   },
   {
    "duration": 84,
    "start_time": "2022-11-06T13:14:47.658Z"
   },
   {
    "duration": 401,
    "start_time": "2022-11-06T15:08:04.069Z"
   },
   {
    "duration": 977,
    "start_time": "2022-11-06T15:08:04.472Z"
   },
   {
    "duration": 162,
    "start_time": "2022-11-06T15:08:05.454Z"
   },
   {
    "duration": 30,
    "start_time": "2022-11-06T15:08:05.624Z"
   },
   {
    "duration": 18,
    "start_time": "2022-11-06T15:08:05.656Z"
   },
   {
    "duration": 111,
    "start_time": "2022-11-06T15:08:05.676Z"
   },
   {
    "duration": 68,
    "start_time": "2022-11-06T15:08:05.789Z"
   },
   {
    "duration": 84,
    "start_time": "2022-11-06T15:08:05.858Z"
   },
   {
    "duration": 456,
    "start_time": "2022-11-11T13:07:54.316Z"
   },
   {
    "duration": 2926,
    "start_time": "2022-11-11T13:07:54.775Z"
   },
   {
    "duration": 130,
    "start_time": "2022-11-11T13:07:57.703Z"
   },
   {
    "duration": 25,
    "start_time": "2022-11-11T13:07:57.834Z"
   },
   {
    "duration": 12,
    "start_time": "2022-11-11T13:07:57.861Z"
   },
   {
    "duration": 87,
    "start_time": "2022-11-11T13:07:57.875Z"
   },
   {
    "duration": 55,
    "start_time": "2022-11-11T13:07:57.964Z"
   },
   {
    "duration": 82,
    "start_time": "2022-11-11T13:07:58.021Z"
   },
   {
    "duration": 10,
    "start_time": "2022-11-11T13:13:58.393Z"
   },
   {
    "duration": 474,
    "start_time": "2022-11-11T13:44:44.071Z"
   },
   {
    "duration": 388,
    "start_time": "2022-11-11T13:49:19.467Z"
   },
   {
    "duration": 761,
    "start_time": "2022-11-11T13:49:19.857Z"
   },
   {
    "duration": 132,
    "start_time": "2022-11-11T13:49:20.619Z"
   },
   {
    "duration": 24,
    "start_time": "2022-11-11T13:49:20.752Z"
   },
   {
    "duration": 13,
    "start_time": "2022-11-11T13:49:20.778Z"
   },
   {
    "duration": 94,
    "start_time": "2022-11-11T13:49:20.793Z"
   },
   {
    "duration": 514,
    "start_time": "2022-11-11T13:49:20.889Z"
   },
   {
    "duration": 4,
    "start_time": "2022-11-11T13:50:54.502Z"
   },
   {
    "duration": 44,
    "start_time": "2022-11-11T13:52:14.647Z"
   },
   {
    "duration": 53,
    "start_time": "2022-11-11T13:52:45.132Z"
   },
   {
    "duration": 72,
    "start_time": "2022-11-11T13:52:53.814Z"
   },
   {
    "duration": 77,
    "start_time": "2022-11-11T13:53:26.053Z"
   },
   {
    "duration": 45,
    "start_time": "2022-11-11T13:53:31.669Z"
   },
   {
    "duration": 44,
    "start_time": "2022-11-11T13:53:53.445Z"
   },
   {
    "duration": 419,
    "start_time": "2022-11-11T13:56:59.232Z"
   },
   {
    "duration": 831,
    "start_time": "2022-11-11T13:56:59.653Z"
   },
   {
    "duration": 140,
    "start_time": "2022-11-11T13:57:00.485Z"
   },
   {
    "duration": 33,
    "start_time": "2022-11-11T13:57:00.627Z"
   },
   {
    "duration": 32,
    "start_time": "2022-11-11T13:57:00.662Z"
   },
   {
    "duration": 107,
    "start_time": "2022-11-11T13:57:00.695Z"
   },
   {
    "duration": 60,
    "start_time": "2022-11-11T13:57:00.803Z"
   },
   {
    "duration": 24,
    "start_time": "2022-11-11T13:57:33.879Z"
   },
   {
    "duration": 49,
    "start_time": "2022-11-11T13:57:47.337Z"
   },
   {
    "duration": 79,
    "start_time": "2022-11-11T13:58:10.710Z"
   },
   {
    "duration": 653,
    "start_time": "2022-11-11T13:58:54.474Z"
   },
   {
    "duration": 338,
    "start_time": "2022-11-11T13:59:22.315Z"
   },
   {
    "duration": 424,
    "start_time": "2022-11-11T14:00:26.130Z"
   },
   {
    "duration": 855,
    "start_time": "2022-11-11T14:00:26.556Z"
   },
   {
    "duration": 141,
    "start_time": "2022-11-11T14:00:27.412Z"
   },
   {
    "duration": 26,
    "start_time": "2022-11-11T14:00:27.555Z"
   },
   {
    "duration": 13,
    "start_time": "2022-11-11T14:00:27.582Z"
   },
   {
    "duration": 99,
    "start_time": "2022-11-11T14:00:27.597Z"
   },
   {
    "duration": 94,
    "start_time": "2022-11-11T14:00:27.698Z"
   },
   {
    "duration": 378,
    "start_time": "2022-11-11T14:00:27.794Z"
   },
   {
    "duration": 338,
    "start_time": "2022-11-11T14:01:28.384Z"
   },
   {
    "duration": 81,
    "start_time": "2022-11-11T14:01:52.504Z"
   },
   {
    "duration": 4,
    "start_time": "2022-11-11T14:19:31.399Z"
   },
   {
    "duration": 40,
    "start_time": "2022-11-11T14:19:41.493Z"
   },
   {
    "duration": 162,
    "start_time": "2022-11-11T14:35:40.976Z"
   },
   {
    "duration": 69,
    "start_time": "2022-11-11T14:35:54.258Z"
   },
   {
    "duration": 217,
    "start_time": "2022-11-11T14:36:02.877Z"
   },
   {
    "duration": 192,
    "start_time": "2022-11-11T15:30:19.838Z"
   },
   {
    "duration": 23,
    "start_time": "2022-11-11T15:32:28.504Z"
   },
   {
    "duration": 34,
    "start_time": "2022-11-11T15:32:36.561Z"
   },
   {
    "duration": 6,
    "start_time": "2022-11-11T15:32:48.011Z"
   },
   {
    "duration": 9,
    "start_time": "2022-11-11T15:41:07.560Z"
   },
   {
    "duration": 338,
    "start_time": "2022-11-11T15:41:44.485Z"
   },
   {
    "duration": 410,
    "start_time": "2022-11-11T18:19:05.640Z"
   },
   {
    "duration": 857,
    "start_time": "2022-11-11T18:19:06.052Z"
   },
   {
    "duration": 157,
    "start_time": "2022-11-11T18:19:06.911Z"
   },
   {
    "duration": 26,
    "start_time": "2022-11-11T18:19:07.070Z"
   },
   {
    "duration": 17,
    "start_time": "2022-11-11T18:19:07.099Z"
   },
   {
    "duration": 132,
    "start_time": "2022-11-11T18:19:07.118Z"
   },
   {
    "duration": 24,
    "start_time": "2022-11-11T18:19:07.251Z"
   },
   {
    "duration": 424,
    "start_time": "2022-11-11T18:19:07.278Z"
   },
   {
    "duration": 257,
    "start_time": "2022-11-11T18:21:06.040Z"
   },
   {
    "duration": 14,
    "start_time": "2022-11-11T18:26:58.516Z"
   },
   {
    "duration": 11,
    "start_time": "2022-11-11T18:27:09.209Z"
   },
   {
    "duration": 24,
    "start_time": "2022-11-11T18:27:27.240Z"
   },
   {
    "duration": 28,
    "start_time": "2022-11-11T18:27:51.391Z"
   },
   {
    "duration": 7,
    "start_time": "2022-11-11T18:27:59.586Z"
   },
   {
    "duration": 4,
    "start_time": "2022-11-11T18:28:15.262Z"
   },
   {
    "duration": 7,
    "start_time": "2022-11-11T18:29:14.887Z"
   },
   {
    "duration": 24,
    "start_time": "2022-11-11T18:29:19.498Z"
   },
   {
    "duration": 300,
    "start_time": "2022-11-11T18:31:09.867Z"
   },
   {
    "duration": 79,
    "start_time": "2022-11-11T18:31:11.739Z"
   },
   {
    "duration": 12,
    "start_time": "2022-11-11T18:31:19.404Z"
   },
   {
    "duration": 402,
    "start_time": "2022-11-11T18:31:47.713Z"
   },
   {
    "duration": 826,
    "start_time": "2022-11-11T18:31:48.117Z"
   },
   {
    "duration": 134,
    "start_time": "2022-11-11T18:31:48.945Z"
   },
   {
    "duration": 31,
    "start_time": "2022-11-11T18:31:49.081Z"
   },
   {
    "duration": 15,
    "start_time": "2022-11-11T18:31:49.115Z"
   },
   {
    "duration": 83,
    "start_time": "2022-11-11T18:31:49.146Z"
   },
   {
    "duration": 35,
    "start_time": "2022-11-11T18:31:49.232Z"
   },
   {
    "duration": 3,
    "start_time": "2022-11-11T18:31:49.269Z"
   },
   {
    "duration": 9,
    "start_time": "2022-11-11T18:31:49.274Z"
   },
   {
    "duration": 1016,
    "start_time": "2022-11-11T18:32:35.139Z"
   },
   {
    "duration": 3506,
    "start_time": "2022-11-11T18:32:46.272Z"
   },
   {
    "duration": 461,
    "start_time": "2022-11-11T18:33:31.164Z"
   },
   {
    "duration": 185,
    "start_time": "2022-11-11T18:33:47.168Z"
   },
   {
    "duration": 24,
    "start_time": "2022-11-11T18:35:11.904Z"
   },
   {
    "duration": 5,
    "start_time": "2022-11-11T18:35:19.677Z"
   },
   {
    "duration": 55,
    "start_time": "2022-11-11T18:35:29.754Z"
   },
   {
    "duration": 12,
    "start_time": "2022-11-11T18:42:24.451Z"
   },
   {
    "duration": 12,
    "start_time": "2022-11-11T18:42:31.079Z"
   },
   {
    "duration": 87,
    "start_time": "2022-11-11T18:42:52.458Z"
   },
   {
    "duration": 71,
    "start_time": "2022-11-11T18:43:47.757Z"
   },
   {
    "duration": 4760,
    "start_time": "2022-11-11T19:31:52.544Z"
   },
   {
    "duration": 366,
    "start_time": "2022-11-11T20:01:48.087Z"
   },
   {
    "duration": 838,
    "start_time": "2022-11-11T20:01:48.455Z"
   },
   {
    "duration": 127,
    "start_time": "2022-11-11T20:01:49.294Z"
   },
   {
    "duration": 36,
    "start_time": "2022-11-11T20:01:49.423Z"
   },
   {
    "duration": 15,
    "start_time": "2022-11-11T20:01:49.462Z"
   },
   {
    "duration": 84,
    "start_time": "2022-11-11T20:01:49.478Z"
   },
   {
    "duration": 24,
    "start_time": "2022-11-11T20:01:49.564Z"
   },
   {
    "duration": 4626,
    "start_time": "2022-11-11T20:01:49.590Z"
   },
   {
    "duration": 265,
    "start_time": "2022-11-11T20:01:54.217Z"
   },
   {
    "duration": 96,
    "start_time": "2022-11-11T20:01:54.484Z"
   },
   {
    "duration": 75,
    "start_time": "2022-11-11T20:01:57.693Z"
   },
   {
    "duration": 363,
    "start_time": "2022-11-11T20:03:45.483Z"
   },
   {
    "duration": 836,
    "start_time": "2022-11-11T20:03:45.847Z"
   },
   {
    "duration": 130,
    "start_time": "2022-11-11T20:03:46.684Z"
   },
   {
    "duration": 34,
    "start_time": "2022-11-11T20:03:46.816Z"
   },
   {
    "duration": 13,
    "start_time": "2022-11-11T20:03:46.853Z"
   },
   {
    "duration": 97,
    "start_time": "2022-11-11T20:03:46.868Z"
   },
   {
    "duration": 22,
    "start_time": "2022-11-11T20:03:46.966Z"
   },
   {
    "duration": 4695,
    "start_time": "2022-11-11T20:03:46.989Z"
   },
   {
    "duration": 2520,
    "start_time": "2022-11-11T20:03:51.686Z"
   },
   {
    "duration": 66,
    "start_time": "2022-11-11T20:03:54.210Z"
   },
   {
    "duration": 85,
    "start_time": "2022-11-11T20:03:54.278Z"
   },
   {
    "duration": 81,
    "start_time": "2022-11-11T20:03:57.251Z"
   },
   {
    "duration": 2568,
    "start_time": "2022-11-11T20:07:05.452Z"
   },
   {
    "duration": 80,
    "start_time": "2022-11-11T20:07:10.071Z"
   },
   {
    "duration": 2580,
    "start_time": "2022-11-11T20:18:22.621Z"
   },
   {
    "duration": 83,
    "start_time": "2022-11-11T20:18:26.473Z"
   },
   {
    "duration": 366,
    "start_time": "2022-11-11T20:32:46.186Z"
   },
   {
    "duration": 828,
    "start_time": "2022-11-11T20:32:46.553Z"
   },
   {
    "duration": 126,
    "start_time": "2022-11-11T20:32:47.383Z"
   },
   {
    "duration": 21,
    "start_time": "2022-11-11T20:32:47.511Z"
   },
   {
    "duration": 13,
    "start_time": "2022-11-11T20:32:47.546Z"
   },
   {
    "duration": 98,
    "start_time": "2022-11-11T20:32:47.561Z"
   },
   {
    "duration": 23,
    "start_time": "2022-11-11T20:32:47.660Z"
   },
   {
    "duration": 4708,
    "start_time": "2022-11-11T20:32:47.685Z"
   },
   {
    "duration": 258,
    "start_time": "2022-11-11T20:32:52.395Z"
   },
   {
    "duration": 74,
    "start_time": "2022-11-11T20:32:52.655Z"
   },
   {
    "duration": 77,
    "start_time": "2022-11-11T20:35:13.885Z"
   },
   {
    "duration": 2584,
    "start_time": "2022-11-11T20:36:11.518Z"
   },
   {
    "duration": 78,
    "start_time": "2022-11-11T20:36:16.963Z"
   },
   {
    "duration": 353,
    "start_time": "2022-11-11T20:38:10.893Z"
   },
   {
    "duration": 842,
    "start_time": "2022-11-11T20:38:11.248Z"
   },
   {
    "duration": 170,
    "start_time": "2022-11-11T20:38:12.092Z"
   },
   {
    "duration": 28,
    "start_time": "2022-11-11T20:38:12.264Z"
   },
   {
    "duration": 12,
    "start_time": "2022-11-11T20:38:12.295Z"
   },
   {
    "duration": 109,
    "start_time": "2022-11-11T20:38:12.310Z"
   },
   {
    "duration": 31,
    "start_time": "2022-11-11T20:38:12.421Z"
   },
   {
    "duration": 4940,
    "start_time": "2022-11-11T20:38:12.454Z"
   },
   {
    "duration": 267,
    "start_time": "2022-11-11T20:38:17.395Z"
   },
   {
    "duration": 2633,
    "start_time": "2022-11-11T20:38:17.664Z"
   },
   {
    "duration": 300,
    "start_time": "2022-11-11T20:38:20.299Z"
   },
   {
    "duration": 78,
    "start_time": "2022-11-11T20:38:24.255Z"
   },
   {
    "duration": 413,
    "start_time": "2022-11-15T10:10:30.992Z"
   },
   {
    "duration": 1008,
    "start_time": "2022-11-15T10:10:31.407Z"
   },
   {
    "duration": 133,
    "start_time": "2022-11-15T10:10:32.417Z"
   },
   {
    "duration": 24,
    "start_time": "2022-11-15T10:10:32.551Z"
   },
   {
    "duration": 15,
    "start_time": "2022-11-15T10:10:32.576Z"
   },
   {
    "duration": 96,
    "start_time": "2022-11-15T10:10:32.592Z"
   },
   {
    "duration": 32,
    "start_time": "2022-11-15T10:10:32.690Z"
   },
   {
    "duration": 7685,
    "start_time": "2022-11-15T10:10:32.723Z"
   },
   {
    "duration": 84,
    "start_time": "2022-11-15T10:14:59.805Z"
   },
   {
    "duration": 139,
    "start_time": "2022-11-15T10:22:48.403Z"
   },
   {
    "duration": 76,
    "start_time": "2022-11-15T10:22:51.239Z"
   },
   {
    "duration": 64,
    "start_time": "2022-11-15T10:30:58.768Z"
   },
   {
    "duration": 8,
    "start_time": "2022-11-15T10:31:03.749Z"
   },
   {
    "duration": 8,
    "start_time": "2022-11-15T10:31:14.099Z"
   },
   {
    "duration": 7,
    "start_time": "2022-11-15T10:31:46.685Z"
   },
   {
    "duration": 3,
    "start_time": "2022-11-15T10:32:33.874Z"
   },
   {
    "duration": 6,
    "start_time": "2022-11-15T10:32:57.239Z"
   },
   {
    "duration": 358,
    "start_time": "2022-11-15T10:34:03.718Z"
   },
   {
    "duration": 19,
    "start_time": "2022-11-15T10:34:09.078Z"
   },
   {
    "duration": 454,
    "start_time": "2022-11-15T10:34:13.677Z"
   },
   {
    "duration": 410,
    "start_time": "2022-11-15T10:34:35.549Z"
   },
   {
    "duration": 391,
    "start_time": "2022-11-15T10:34:45.108Z"
   },
   {
    "duration": 427,
    "start_time": "2022-11-15T10:34:53.347Z"
   },
   {
    "duration": 642,
    "start_time": "2022-11-15T10:36:16.404Z"
   },
   {
    "duration": 696,
    "start_time": "2022-11-15T10:36:25.327Z"
   },
   {
    "duration": 2009,
    "start_time": "2022-11-15T10:37:08.674Z"
   },
   {
    "duration": 1103,
    "start_time": "2022-11-15T10:37:19.938Z"
   },
   {
    "duration": 15,
    "start_time": "2022-11-15T10:40:56.466Z"
   },
   {
    "duration": 1138,
    "start_time": "2022-11-15T10:41:12.004Z"
   },
   {
    "duration": 750,
    "start_time": "2022-11-15T10:41:35.081Z"
   },
   {
    "duration": 213,
    "start_time": "2022-11-15T10:45:26.584Z"
   },
   {
    "duration": 137,
    "start_time": "2022-11-15T10:45:35.939Z"
   },
   {
    "duration": 36,
    "start_time": "2022-11-15T10:46:00.104Z"
   },
   {
    "duration": 27,
    "start_time": "2022-11-15T10:46:22.896Z"
   },
   {
    "duration": 26,
    "start_time": "2022-11-15T10:46:36.463Z"
   },
   {
    "duration": 740,
    "start_time": "2022-11-15T10:52:13.122Z"
   },
   {
    "duration": 1140,
    "start_time": "2022-11-15T10:52:24.261Z"
   },
   {
    "duration": 796,
    "start_time": "2022-11-15T10:52:43.878Z"
   },
   {
    "duration": 31,
    "start_time": "2022-11-15T10:52:57.916Z"
   },
   {
    "duration": 816,
    "start_time": "2022-11-15T10:53:01.256Z"
   },
   {
    "duration": 757,
    "start_time": "2022-11-15T10:54:21.284Z"
   },
   {
    "duration": 662,
    "start_time": "2022-11-15T10:55:02.070Z"
   },
   {
    "duration": 577,
    "start_time": "2022-11-15T10:55:51.096Z"
   },
   {
    "duration": 939,
    "start_time": "2022-11-15T10:56:49.884Z"
   },
   {
    "duration": 675,
    "start_time": "2022-11-15T11:00:07.970Z"
   },
   {
    "duration": 12,
    "start_time": "2022-11-15T11:00:48.754Z"
   },
   {
    "duration": 308,
    "start_time": "2022-11-15T11:01:29.689Z"
   },
   {
    "duration": 303,
    "start_time": "2022-11-15T11:02:07.670Z"
   },
   {
    "duration": 5,
    "start_time": "2022-11-15T11:02:30.469Z"
   },
   {
    "duration": 4,
    "start_time": "2022-11-15T11:02:40.380Z"
   },
   {
    "duration": 651,
    "start_time": "2022-11-15T11:03:18.285Z"
   },
   {
    "duration": 818,
    "start_time": "2022-11-15T11:03:18.938Z"
   },
   {
    "duration": 127,
    "start_time": "2022-11-15T11:03:19.758Z"
   },
   {
    "duration": 28,
    "start_time": "2022-11-15T11:03:19.887Z"
   },
   {
    "duration": 15,
    "start_time": "2022-11-15T11:03:19.917Z"
   },
   {
    "duration": 88,
    "start_time": "2022-11-15T11:03:19.933Z"
   },
   {
    "duration": 21,
    "start_time": "2022-11-15T11:03:20.023Z"
   },
   {
    "duration": 8107,
    "start_time": "2022-11-15T11:03:20.046Z"
   },
   {
    "duration": 98,
    "start_time": "2022-11-15T11:03:28.154Z"
   },
   {
    "duration": 122,
    "start_time": "2022-11-15T11:03:28.255Z"
   },
   {
    "duration": 838,
    "start_time": "2022-11-15T11:03:28.379Z"
   },
   {
    "duration": 33,
    "start_time": "2022-11-15T11:03:29.219Z"
   },
   {
    "duration": 580,
    "start_time": "2022-11-15T11:03:29.254Z"
   },
   {
    "duration": 31,
    "start_time": "2022-11-15T11:03:29.835Z"
   },
   {
    "duration": 5,
    "start_time": "2022-11-15T11:03:29.867Z"
   },
   {
    "duration": 568,
    "start_time": "2022-11-15T11:03:29.874Z"
   },
   {
    "duration": 1689,
    "start_time": "2022-11-15T11:04:18.473Z"
   },
   {
    "duration": 441,
    "start_time": "2022-11-15T11:04:24.643Z"
   },
   {
    "duration": 536,
    "start_time": "2022-11-15T11:04:39.816Z"
   },
   {
    "duration": 535,
    "start_time": "2022-11-15T11:05:01.273Z"
   },
   {
    "duration": 30,
    "start_time": "2022-11-15T11:05:58.519Z"
   },
   {
    "duration": 74,
    "start_time": "2022-11-15T11:06:09.988Z"
   },
   {
    "duration": 588,
    "start_time": "2022-11-15T11:06:27.070Z"
   },
   {
    "duration": 525,
    "start_time": "2022-11-15T11:08:14.531Z"
   },
   {
    "duration": 738,
    "start_time": "2022-11-15T11:08:24.987Z"
   },
   {
    "duration": 675,
    "start_time": "2022-11-15T11:08:41.683Z"
   },
   {
    "duration": 816,
    "start_time": "2022-11-15T11:08:42.360Z"
   },
   {
    "duration": 136,
    "start_time": "2022-11-15T11:08:43.177Z"
   },
   {
    "duration": 22,
    "start_time": "2022-11-15T11:08:43.315Z"
   },
   {
    "duration": 18,
    "start_time": "2022-11-15T11:08:43.339Z"
   },
   {
    "duration": 125,
    "start_time": "2022-11-15T11:08:43.359Z"
   },
   {
    "duration": 25,
    "start_time": "2022-11-15T11:08:43.486Z"
   },
   {
    "duration": 8257,
    "start_time": "2022-11-15T11:08:43.513Z"
   },
   {
    "duration": 84,
    "start_time": "2022-11-15T11:08:51.773Z"
   },
   {
    "duration": 123,
    "start_time": "2022-11-15T11:08:51.859Z"
   },
   {
    "duration": 888,
    "start_time": "2022-11-15T11:08:51.984Z"
   },
   {
    "duration": 111,
    "start_time": "2022-11-15T11:08:52.874Z"
   },
   {
    "duration": 653,
    "start_time": "2022-11-15T11:08:52.987Z"
   },
   {
    "duration": 34,
    "start_time": "2022-11-15T11:08:53.642Z"
   },
   {
    "duration": 558,
    "start_time": "2022-11-15T11:08:53.677Z"
   },
   {
    "duration": 3,
    "start_time": "2022-11-15T11:08:54.236Z"
   },
   {
    "duration": 83,
    "start_time": "2022-11-15T11:08:54.241Z"
   },
   {
    "duration": 577,
    "start_time": "2022-11-15T11:10:06.918Z"
   },
   {
    "duration": 1555,
    "start_time": "2022-11-15T11:10:12.385Z"
   },
   {
    "duration": 32,
    "start_time": "2022-11-15T11:10:42.561Z"
   },
   {
    "duration": 1651,
    "start_time": "2022-11-15T11:10:45.766Z"
   },
   {
    "duration": 476,
    "start_time": "2022-11-15T11:11:05.510Z"
   },
   {
    "duration": 661,
    "start_time": "2022-11-15T11:11:14.680Z"
   },
   {
    "duration": 852,
    "start_time": "2022-11-15T11:11:15.343Z"
   },
   {
    "duration": 132,
    "start_time": "2022-11-15T11:11:16.196Z"
   },
   {
    "duration": 23,
    "start_time": "2022-11-15T11:11:16.330Z"
   },
   {
    "duration": 23,
    "start_time": "2022-11-15T11:11:16.355Z"
   },
   {
    "duration": 99,
    "start_time": "2022-11-15T11:11:16.380Z"
   },
   {
    "duration": 29,
    "start_time": "2022-11-15T11:11:16.481Z"
   },
   {
    "duration": 8133,
    "start_time": "2022-11-15T11:11:16.511Z"
   },
   {
    "duration": 84,
    "start_time": "2022-11-15T11:11:24.645Z"
   },
   {
    "duration": 123,
    "start_time": "2022-11-15T11:11:24.732Z"
   },
   {
    "duration": 900,
    "start_time": "2022-11-15T11:11:24.857Z"
   },
   {
    "duration": 46,
    "start_time": "2022-11-15T11:11:25.759Z"
   },
   {
    "duration": 665,
    "start_time": "2022-11-15T11:11:25.806Z"
   },
   {
    "duration": 37,
    "start_time": "2022-11-15T11:11:26.472Z"
   },
   {
    "duration": 554,
    "start_time": "2022-11-15T11:11:26.510Z"
   },
   {
    "duration": 31,
    "start_time": "2022-11-15T11:11:27.066Z"
   },
   {
    "duration": 72,
    "start_time": "2022-11-15T11:11:27.105Z"
   },
   {
    "duration": 604,
    "start_time": "2022-11-15T11:11:56.441Z"
   },
   {
    "duration": 893,
    "start_time": "2022-11-15T11:11:57.047Z"
   },
   {
    "duration": 129,
    "start_time": "2022-11-15T11:11:57.941Z"
   },
   {
    "duration": 35,
    "start_time": "2022-11-15T11:11:58.072Z"
   },
   {
    "duration": 22,
    "start_time": "2022-11-15T11:11:58.110Z"
   },
   {
    "duration": 113,
    "start_time": "2022-11-15T11:11:58.133Z"
   },
   {
    "duration": 40,
    "start_time": "2022-11-15T11:11:58.248Z"
   },
   {
    "duration": 8167,
    "start_time": "2022-11-15T11:11:58.289Z"
   },
   {
    "duration": 87,
    "start_time": "2022-11-15T11:12:06.458Z"
   },
   {
    "duration": 128,
    "start_time": "2022-11-15T11:12:06.547Z"
   },
   {
    "duration": 1037,
    "start_time": "2022-11-15T11:12:06.677Z"
   },
   {
    "duration": 39,
    "start_time": "2022-11-15T11:12:07.716Z"
   },
   {
    "duration": 731,
    "start_time": "2022-11-15T11:12:07.756Z"
   },
   {
    "duration": 43,
    "start_time": "2022-11-15T11:12:08.490Z"
   },
   {
    "duration": 1625,
    "start_time": "2022-11-15T11:12:08.535Z"
   },
   {
    "duration": 3,
    "start_time": "2022-11-15T11:12:10.162Z"
   },
   {
    "duration": 122,
    "start_time": "2022-11-15T11:12:10.167Z"
   },
   {
    "duration": 30,
    "start_time": "2022-11-15T11:13:01.096Z"
   },
   {
    "duration": 75,
    "start_time": "2022-11-15T11:13:09.600Z"
   },
   {
    "duration": 1644,
    "start_time": "2022-11-15T11:14:09.567Z"
   },
   {
    "duration": 789,
    "start_time": "2022-11-15T11:15:30.102Z"
   },
   {
    "duration": 685,
    "start_time": "2022-11-15T11:16:53.674Z"
   },
   {
    "duration": 260,
    "start_time": "2022-11-15T11:17:30.884Z"
   },
   {
    "duration": 202,
    "start_time": "2022-11-15T11:17:37.382Z"
   },
   {
    "duration": 17,
    "start_time": "2022-11-15T11:19:26.135Z"
   },
   {
    "duration": 18,
    "start_time": "2022-11-15T11:19:47.877Z"
   },
   {
    "duration": 16,
    "start_time": "2022-11-15T11:20:24.413Z"
   },
   {
    "duration": 21,
    "start_time": "2022-11-15T11:20:51.442Z"
   },
   {
    "duration": 17,
    "start_time": "2022-11-15T11:22:55.782Z"
   },
   {
    "duration": 20,
    "start_time": "2022-11-15T11:23:15.205Z"
   },
   {
    "duration": 102,
    "start_time": "2022-11-15T11:23:57.423Z"
   },
   {
    "duration": 18,
    "start_time": "2022-11-15T11:24:51.133Z"
   },
   {
    "duration": 22,
    "start_time": "2022-11-15T11:25:05.432Z"
   },
   {
    "duration": 19,
    "start_time": "2022-11-15T11:27:17.575Z"
   },
   {
    "duration": 24,
    "start_time": "2022-11-15T11:27:30.558Z"
   },
   {
    "duration": 18,
    "start_time": "2022-11-15T11:27:52.753Z"
   },
   {
    "duration": 19,
    "start_time": "2022-11-15T11:27:57.696Z"
   },
   {
    "duration": 17,
    "start_time": "2022-11-15T11:28:07.937Z"
   },
   {
    "duration": 17,
    "start_time": "2022-11-15T11:28:18.983Z"
   },
   {
    "duration": 18,
    "start_time": "2022-11-15T11:28:25.410Z"
   },
   {
    "duration": 18,
    "start_time": "2022-11-15T11:28:30.212Z"
   },
   {
    "duration": 20,
    "start_time": "2022-11-15T11:28:40.014Z"
   },
   {
    "duration": 19,
    "start_time": "2022-11-15T11:28:43.576Z"
   },
   {
    "duration": 18,
    "start_time": "2022-11-15T11:29:04.557Z"
   },
   {
    "duration": 34,
    "start_time": "2022-11-15T12:20:59.898Z"
   },
   {
    "duration": 29,
    "start_time": "2022-11-15T12:21:06.516Z"
   },
   {
    "duration": 13,
    "start_time": "2022-11-15T12:21:14.516Z"
   },
   {
    "duration": 22,
    "start_time": "2022-11-15T12:21:46.186Z"
   },
   {
    "duration": 16,
    "start_time": "2022-11-15T12:21:46.478Z"
   },
   {
    "duration": 756,
    "start_time": "2022-11-17T10:54:12.739Z"
   },
   {
    "duration": 3135,
    "start_time": "2022-11-17T10:54:13.498Z"
   },
   {
    "duration": 134,
    "start_time": "2022-11-17T10:54:16.635Z"
   },
   {
    "duration": 29,
    "start_time": "2022-11-17T10:54:16.772Z"
   },
   {
    "duration": 14,
    "start_time": "2022-11-17T10:54:16.803Z"
   },
   {
    "duration": 98,
    "start_time": "2022-11-17T10:54:16.818Z"
   },
   {
    "duration": 25,
    "start_time": "2022-11-17T10:54:16.918Z"
   },
   {
    "duration": 7835,
    "start_time": "2022-11-17T10:54:16.945Z"
   },
   {
    "duration": 105,
    "start_time": "2022-11-17T10:54:24.783Z"
   },
   {
    "duration": 112,
    "start_time": "2022-11-17T10:54:24.901Z"
   },
   {
    "duration": 853,
    "start_time": "2022-11-17T10:54:25.015Z"
   },
   {
    "duration": 47,
    "start_time": "2022-11-17T10:54:25.870Z"
   },
   {
    "duration": 607,
    "start_time": "2022-11-17T10:54:25.918Z"
   },
   {
    "duration": 32,
    "start_time": "2022-11-17T10:54:26.527Z"
   },
   {
    "duration": 1532,
    "start_time": "2022-11-17T10:54:26.561Z"
   },
   {
    "duration": 28,
    "start_time": "2022-11-17T10:54:28.096Z"
   },
   {
    "duration": 166,
    "start_time": "2022-11-17T10:54:28.126Z"
   },
   {
    "duration": 17,
    "start_time": "2022-11-17T10:54:28.297Z"
   },
   {
    "duration": 16,
    "start_time": "2022-11-17T10:54:28.316Z"
   },
   {
    "duration": 18,
    "start_time": "2022-11-17T10:54:28.334Z"
   },
   {
    "duration": 48,
    "start_time": "2022-11-17T10:54:28.353Z"
   },
   {
    "duration": 14,
    "start_time": "2022-11-17T10:54:28.403Z"
   },
   {
    "duration": 578,
    "start_time": "2022-11-17T10:54:28.419Z"
   },
   {
    "duration": 8,
    "start_time": "2022-11-17T10:55:02.146Z"
   },
   {
    "duration": 6,
    "start_time": "2022-11-17T10:55:12.986Z"
   },
   {
    "duration": 550,
    "start_time": "2022-11-17T11:10:15.436Z"
   },
   {
    "duration": 16,
    "start_time": "2022-11-17T11:10:25.687Z"
   },
   {
    "duration": 2,
    "start_time": "2022-11-17T11:12:54.691Z"
   },
   {
    "duration": 2,
    "start_time": "2022-11-17T11:13:16.269Z"
   },
   {
    "duration": 883,
    "start_time": "2022-11-17T11:17:27.347Z"
   },
   {
    "duration": 12,
    "start_time": "2022-11-17T11:17:35.962Z"
   },
   {
    "duration": 381,
    "start_time": "2022-11-17T11:28:44.337Z"
   },
   {
    "duration": 10,
    "start_time": "2022-11-17T11:28:49.993Z"
   },
   {
    "duration": 15,
    "start_time": "2022-11-17T11:28:55.707Z"
   },
   {
    "duration": 346,
    "start_time": "2022-11-17T11:30:48.304Z"
   },
   {
    "duration": 373,
    "start_time": "2022-11-17T11:31:19.129Z"
   },
   {
    "duration": 13,
    "start_time": "2022-11-17T11:31:21.618Z"
   },
   {
    "duration": 80,
    "start_time": "2022-11-17T11:34:53.695Z"
   },
   {
    "duration": 57,
    "start_time": "2022-11-17T11:36:20.742Z"
   },
   {
    "duration": 51,
    "start_time": "2022-11-17T11:36:27.449Z"
   },
   {
    "duration": 48,
    "start_time": "2022-11-17T11:36:32.569Z"
   },
   {
    "duration": 38,
    "start_time": "2022-11-17T11:36:42.928Z"
   },
   {
    "duration": 57,
    "start_time": "2022-11-17T11:36:51.898Z"
   },
   {
    "duration": 55,
    "start_time": "2022-11-17T11:37:34.456Z"
   },
   {
    "duration": 74,
    "start_time": "2022-11-17T11:37:39.008Z"
   },
   {
    "duration": 55,
    "start_time": "2022-11-17T11:37:45.099Z"
   },
   {
    "duration": 76,
    "start_time": "2022-11-17T11:38:08.461Z"
   },
   {
    "duration": 86,
    "start_time": "2022-11-17T11:38:19.981Z"
   },
   {
    "duration": 88,
    "start_time": "2022-11-17T11:38:22.906Z"
   },
   {
    "duration": 91,
    "start_time": "2022-11-17T11:38:55.715Z"
   },
   {
    "duration": 74,
    "start_time": "2022-11-17T11:39:46.094Z"
   },
   {
    "duration": 1271,
    "start_time": "2022-11-17T11:39:56.895Z"
   },
   {
    "duration": 804,
    "start_time": "2022-11-17T11:39:58.168Z"
   },
   {
    "duration": 142,
    "start_time": "2022-11-17T11:39:58.974Z"
   },
   {
    "duration": 22,
    "start_time": "2022-11-17T11:39:59.118Z"
   },
   {
    "duration": 13,
    "start_time": "2022-11-17T11:39:59.142Z"
   },
   {
    "duration": 99,
    "start_time": "2022-11-17T11:39:59.157Z"
   },
   {
    "duration": 21,
    "start_time": "2022-11-17T11:39:59.257Z"
   },
   {
    "duration": 8157,
    "start_time": "2022-11-17T11:39:59.280Z"
   },
   {
    "duration": 80,
    "start_time": "2022-11-17T11:40:07.438Z"
   },
   {
    "duration": 121,
    "start_time": "2022-11-17T11:40:07.521Z"
   },
   {
    "duration": 912,
    "start_time": "2022-11-17T11:40:07.644Z"
   },
   {
    "duration": 44,
    "start_time": "2022-11-17T11:40:08.558Z"
   },
   {
    "duration": 620,
    "start_time": "2022-11-17T11:40:08.604Z"
   },
   {
    "duration": 32,
    "start_time": "2022-11-17T11:40:09.226Z"
   },
   {
    "duration": 1618,
    "start_time": "2022-11-17T11:40:09.259Z"
   },
   {
    "duration": 38,
    "start_time": "2022-11-17T11:40:10.879Z"
   },
   {
    "duration": 150,
    "start_time": "2022-11-17T11:40:10.919Z"
   },
   {
    "duration": 2,
    "start_time": "2022-11-17T11:40:11.070Z"
   },
   {
    "duration": 30,
    "start_time": "2022-11-17T11:40:11.074Z"
   },
   {
    "duration": 16,
    "start_time": "2022-11-17T11:40:11.105Z"
   },
   {
    "duration": 25,
    "start_time": "2022-11-17T11:40:11.122Z"
   },
   {
    "duration": 21,
    "start_time": "2022-11-17T11:40:11.148Z"
   },
   {
    "duration": 17,
    "start_time": "2022-11-17T11:40:11.171Z"
   },
   {
    "duration": 529,
    "start_time": "2022-11-17T11:40:11.197Z"
   },
   {
    "duration": 334,
    "start_time": "2022-11-17T11:40:11.728Z"
   },
   {
    "duration": 12,
    "start_time": "2022-11-17T11:40:12.064Z"
   },
   {
    "duration": 320,
    "start_time": "2022-11-17T11:41:03.497Z"
   },
   {
    "duration": 88,
    "start_time": "2022-11-17T11:45:38.306Z"
   },
   {
    "duration": 82,
    "start_time": "2022-11-17T11:47:50.959Z"
   },
   {
    "duration": 1234,
    "start_time": "2022-11-17T11:48:28.467Z"
   },
   {
    "duration": 795,
    "start_time": "2022-11-17T11:48:29.703Z"
   },
   {
    "duration": 130,
    "start_time": "2022-11-17T11:48:30.499Z"
   },
   {
    "duration": 30,
    "start_time": "2022-11-17T11:48:30.632Z"
   },
   {
    "duration": 26,
    "start_time": "2022-11-17T11:48:30.664Z"
   },
   {
    "duration": 83,
    "start_time": "2022-11-17T11:48:30.691Z"
   },
   {
    "duration": 23,
    "start_time": "2022-11-17T11:48:30.775Z"
   },
   {
    "duration": 7624,
    "start_time": "2022-11-17T11:48:30.800Z"
   },
   {
    "duration": 81,
    "start_time": "2022-11-17T11:48:38.426Z"
   },
   {
    "duration": 115,
    "start_time": "2022-11-17T11:48:38.510Z"
   },
   {
    "duration": 780,
    "start_time": "2022-11-17T11:48:38.627Z"
   },
   {
    "duration": 34,
    "start_time": "2022-11-17T11:48:39.408Z"
   },
   {
    "duration": 562,
    "start_time": "2022-11-17T11:48:39.444Z"
   },
   {
    "duration": 33,
    "start_time": "2022-11-17T11:48:40.008Z"
   },
   {
    "duration": 1518,
    "start_time": "2022-11-17T11:48:40.043Z"
   },
   {
    "duration": 40,
    "start_time": "2022-11-17T11:48:41.562Z"
   },
   {
    "duration": 146,
    "start_time": "2022-11-17T11:48:41.603Z"
   },
   {
    "duration": 84,
    "start_time": "2022-11-17T11:48:41.751Z"
   },
   {
    "duration": 16,
    "start_time": "2022-11-17T11:48:41.837Z"
   },
   {
    "duration": 16,
    "start_time": "2022-11-17T11:48:41.855Z"
   },
   {
    "duration": 105,
    "start_time": "2022-11-17T11:48:41.872Z"
   },
   {
    "duration": 19,
    "start_time": "2022-11-17T11:48:41.979Z"
   },
   {
    "duration": 19,
    "start_time": "2022-11-17T11:48:41.999Z"
   },
   {
    "duration": 19,
    "start_time": "2022-11-17T11:48:42.020Z"
   },
   {
    "duration": 542,
    "start_time": "2022-11-17T11:48:42.041Z"
   },
   {
    "duration": 264,
    "start_time": "2022-11-17T11:48:42.585Z"
   },
   {
    "duration": 11,
    "start_time": "2022-11-17T11:48:42.851Z"
   },
   {
    "duration": 13,
    "start_time": "2022-11-17T11:50:05.486Z"
   },
   {
    "duration": 27,
    "start_time": "2022-11-17T11:50:19.987Z"
   },
   {
    "duration": 3,
    "start_time": "2022-11-17T11:56:33.688Z"
   },
   {
    "duration": 97,
    "start_time": "2022-11-17T11:56:37.971Z"
   },
   {
    "duration": 24,
    "start_time": "2022-11-17T11:57:31.896Z"
   },
   {
    "duration": 16,
    "start_time": "2022-11-17T11:57:35.996Z"
   },
   {
    "duration": 19,
    "start_time": "2022-11-17T11:57:59.624Z"
   },
   {
    "duration": 573,
    "start_time": "2022-11-17T11:58:07.169Z"
   },
   {
    "duration": 3,
    "start_time": "2022-11-17T12:30:19.643Z"
   },
   {
    "duration": 490,
    "start_time": "2022-11-17T12:50:48.465Z"
   },
   {
    "duration": 5,
    "start_time": "2022-11-17T12:52:12.687Z"
   },
   {
    "duration": 66,
    "start_time": "2022-11-17T12:54:53.858Z"
   },
   {
    "duration": 17526,
    "start_time": "2022-11-17T12:54:56.674Z"
   },
   {
    "duration": 19492,
    "start_time": "2022-11-17T12:55:31.008Z"
   },
   {
    "duration": 43,
    "start_time": "2022-11-17T12:56:14.389Z"
   },
   {
    "duration": 178,
    "start_time": "2022-11-17T12:56:44.828Z"
   },
   {
    "duration": 46,
    "start_time": "2022-11-17T12:56:57.760Z"
   },
   {
    "duration": 240,
    "start_time": "2022-11-17T12:57:02.458Z"
   },
   {
    "duration": 17935,
    "start_time": "2022-11-17T12:57:28.262Z"
   },
   {
    "duration": 260,
    "start_time": "2022-11-17T12:58:05.838Z"
   },
   {
    "duration": 261,
    "start_time": "2022-11-17T13:06:32.036Z"
   },
   {
    "duration": 259,
    "start_time": "2022-11-17T13:06:35.438Z"
   },
   {
    "duration": 10,
    "start_time": "2022-11-17T13:10:32.119Z"
   },
   {
    "duration": 30,
    "start_time": "2022-11-17T13:11:32.218Z"
   },
   {
    "duration": 13,
    "start_time": "2022-11-17T13:11:37.730Z"
   },
   {
    "duration": 3,
    "start_time": "2022-11-17T13:11:54.554Z"
   },
   {
    "duration": 10,
    "start_time": "2022-11-17T13:12:00.207Z"
   },
   {
    "duration": 10,
    "start_time": "2022-11-17T13:14:46.334Z"
   },
   {
    "duration": 4,
    "start_time": "2022-11-17T13:15:07.205Z"
   },
   {
    "duration": 13,
    "start_time": "2022-11-17T13:15:12.674Z"
   },
   {
    "duration": 14,
    "start_time": "2022-11-17T13:16:19.618Z"
   },
   {
    "duration": 3,
    "start_time": "2022-11-17T13:18:00.155Z"
   },
   {
    "duration": 10,
    "start_time": "2022-11-17T13:18:02.307Z"
   },
   {
    "duration": 1322118,
    "start_time": "2022-11-17T13:18:07.887Z"
   },
   {
    "duration": 3,
    "start_time": "2022-11-17T13:41:04.075Z"
   },
   {
    "duration": 4,
    "start_time": "2022-11-17T13:41:53.562Z"
   },
   {
    "duration": 58,
    "start_time": "2022-11-17T13:57:23.821Z"
   },
   {
    "duration": 41155,
    "start_time": "2022-11-17T13:57:43.479Z"
   },
   {
    "duration": 261,
    "start_time": "2022-11-17T13:58:30.897Z"
   },
   {
    "duration": 205,
    "start_time": "2022-11-17T13:58:37.897Z"
   },
   {
    "duration": 1354157,
    "start_time": "2022-11-17T14:00:08.939Z"
   },
   {
    "duration": 41395,
    "start_time": "2022-11-17T14:23:15.721Z"
   },
   {
    "duration": 1398,
    "start_time": "2022-11-17T18:28:19.105Z"
   },
   {
    "duration": 2852,
    "start_time": "2022-11-17T18:28:20.505Z"
   },
   {
    "duration": 130,
    "start_time": "2022-11-17T18:28:23.358Z"
   },
   {
    "duration": 26,
    "start_time": "2022-11-17T18:28:23.490Z"
   },
   {
    "duration": 15,
    "start_time": "2022-11-17T18:28:23.518Z"
   },
   {
    "duration": 96,
    "start_time": "2022-11-17T18:28:23.534Z"
   },
   {
    "duration": 25,
    "start_time": "2022-11-17T18:28:23.632Z"
   },
   {
    "duration": 7613,
    "start_time": "2022-11-17T18:28:23.658Z"
   },
   {
    "duration": 76,
    "start_time": "2022-11-17T18:28:31.273Z"
   },
   {
    "duration": 110,
    "start_time": "2022-11-17T18:28:31.351Z"
   },
   {
    "duration": 786,
    "start_time": "2022-11-17T18:28:31.462Z"
   },
   {
    "duration": 47,
    "start_time": "2022-11-17T18:28:32.250Z"
   },
   {
    "duration": 581,
    "start_time": "2022-11-17T18:28:32.300Z"
   },
   {
    "duration": 36,
    "start_time": "2022-11-17T18:28:32.883Z"
   },
   {
    "duration": 1547,
    "start_time": "2022-11-17T18:28:32.920Z"
   },
   {
    "duration": 37,
    "start_time": "2022-11-17T18:28:34.468Z"
   },
   {
    "duration": 145,
    "start_time": "2022-11-17T18:28:34.507Z"
   },
   {
    "duration": 86,
    "start_time": "2022-11-17T18:28:34.653Z"
   },
   {
    "duration": 23,
    "start_time": "2022-11-17T18:28:34.742Z"
   },
   {
    "duration": 32,
    "start_time": "2022-11-17T18:28:34.767Z"
   },
   {
    "duration": 92,
    "start_time": "2022-11-17T18:28:34.801Z"
   },
   {
    "duration": 21,
    "start_time": "2022-11-17T18:28:34.898Z"
   },
   {
    "duration": 46,
    "start_time": "2022-11-17T18:28:34.921Z"
   },
   {
    "duration": 18,
    "start_time": "2022-11-17T18:28:34.969Z"
   },
   {
    "duration": 475,
    "start_time": "2022-11-17T18:28:34.989Z"
   },
   {
    "duration": 284,
    "start_time": "2022-11-17T18:28:35.466Z"
   },
   {
    "duration": 579,
    "start_time": "2022-11-17T18:28:35.751Z"
   },
   {
    "duration": 2,
    "start_time": "2022-11-17T18:28:36.333Z"
   },
   {
    "duration": 17567,
    "start_time": "2022-11-17T18:28:36.337Z"
   },
   {
    "duration": 7,
    "start_time": "2022-11-17T18:28:53.906Z"
   },
   {
    "duration": 0,
    "start_time": "2022-11-17T18:28:53.915Z"
   },
   {
    "duration": 0,
    "start_time": "2022-11-17T18:28:53.917Z"
   },
   {
    "duration": 1,
    "start_time": "2022-11-17T18:28:53.918Z"
   },
   {
    "duration": 0,
    "start_time": "2022-11-17T18:28:53.920Z"
   },
   {
    "duration": 0,
    "start_time": "2022-11-17T18:28:53.921Z"
   },
   {
    "duration": 0,
    "start_time": "2022-11-17T18:28:53.923Z"
   },
   {
    "duration": 0,
    "start_time": "2022-11-17T18:28:53.925Z"
   },
   {
    "duration": 0,
    "start_time": "2022-11-17T18:28:53.927Z"
   },
   {
    "duration": 322,
    "start_time": "2022-11-17T18:33:04.574Z"
   },
   {
    "duration": 1245,
    "start_time": "2022-11-17T18:33:28.325Z"
   },
   {
    "duration": 792,
    "start_time": "2022-11-17T18:33:29.572Z"
   },
   {
    "duration": 140,
    "start_time": "2022-11-17T18:33:30.366Z"
   },
   {
    "duration": 26,
    "start_time": "2022-11-17T18:33:30.508Z"
   },
   {
    "duration": 21,
    "start_time": "2022-11-17T18:33:30.535Z"
   },
   {
    "duration": 87,
    "start_time": "2022-11-17T18:33:30.558Z"
   },
   {
    "duration": 22,
    "start_time": "2022-11-17T18:33:30.647Z"
   },
   {
    "duration": 7550,
    "start_time": "2022-11-17T18:33:30.671Z"
   },
   {
    "duration": 87,
    "start_time": "2022-11-17T18:33:38.223Z"
   },
   {
    "duration": 110,
    "start_time": "2022-11-17T18:33:38.312Z"
   },
   {
    "duration": 821,
    "start_time": "2022-11-17T18:33:38.424Z"
   },
   {
    "duration": 33,
    "start_time": "2022-11-17T18:33:39.247Z"
   },
   {
    "duration": 571,
    "start_time": "2022-11-17T18:33:39.281Z"
   },
   {
    "duration": 30,
    "start_time": "2022-11-17T18:33:39.854Z"
   },
   {
    "duration": 1575,
    "start_time": "2022-11-17T18:33:39.885Z"
   },
   {
    "duration": 36,
    "start_time": "2022-11-17T18:33:41.461Z"
   },
   {
    "duration": 159,
    "start_time": "2022-11-17T18:33:41.499Z"
   },
   {
    "duration": 86,
    "start_time": "2022-11-17T18:33:41.659Z"
   },
   {
    "duration": 15,
    "start_time": "2022-11-17T18:33:41.746Z"
   },
   {
    "duration": 18,
    "start_time": "2022-11-17T18:33:41.763Z"
   },
   {
    "duration": 86,
    "start_time": "2022-11-17T18:33:41.783Z"
   },
   {
    "duration": 17,
    "start_time": "2022-11-17T18:33:41.870Z"
   },
   {
    "duration": 17,
    "start_time": "2022-11-17T18:33:41.897Z"
   },
   {
    "duration": 21,
    "start_time": "2022-11-17T18:33:41.916Z"
   },
   {
    "duration": 498,
    "start_time": "2022-11-17T18:33:41.938Z"
   },
   {
    "duration": 281,
    "start_time": "2022-11-17T18:33:42.437Z"
   },
   {
    "duration": 586,
    "start_time": "2022-11-17T18:33:42.719Z"
   },
   {
    "duration": 2,
    "start_time": "2022-11-17T18:33:43.309Z"
   },
   {
    "duration": 17386,
    "start_time": "2022-11-17T18:33:43.313Z"
   },
   {
    "duration": 298,
    "start_time": "2022-11-17T18:34:00.701Z"
   },
   {
    "duration": 17296,
    "start_time": "2022-11-17T18:34:01.001Z"
   },
   {
    "duration": 219,
    "start_time": "2022-11-17T18:34:18.299Z"
   },
   {
    "duration": 1337765,
    "start_time": "2022-11-17T18:34:18.599Z"
   },
   {
    "duration": 40815,
    "start_time": "2022-11-17T18:56:36.366Z"
   },
   {
    "duration": 227,
    "start_time": "2022-11-17T18:57:17.183Z"
   },
   {
    "duration": 1335787,
    "start_time": "2022-11-17T18:57:17.411Z"
   },
   {
    "duration": 39945,
    "start_time": "2022-11-17T19:19:33.200Z"
   },
   {
    "duration": 207,
    "start_time": "2022-11-17T19:20:13.146Z"
   },
   {
    "duration": 1626,
    "start_time": "2022-11-18T00:23:29.684Z"
   },
   {
    "duration": 1215,
    "start_time": "2022-11-18T00:23:31.313Z"
   },
   {
    "duration": 136,
    "start_time": "2022-11-18T00:23:32.530Z"
   },
   {
    "duration": 25,
    "start_time": "2022-11-18T00:23:32.668Z"
   },
   {
    "duration": 13,
    "start_time": "2022-11-18T00:23:32.695Z"
   },
   {
    "duration": 127,
    "start_time": "2022-11-18T00:23:32.710Z"
   },
   {
    "duration": 41,
    "start_time": "2022-11-18T00:23:32.840Z"
   },
   {
    "duration": 8525,
    "start_time": "2022-11-18T00:23:32.883Z"
   },
   {
    "duration": 90,
    "start_time": "2022-11-18T00:23:41.410Z"
   },
   {
    "duration": 132,
    "start_time": "2022-11-18T00:23:41.502Z"
   },
   {
    "duration": 979,
    "start_time": "2022-11-18T00:23:41.636Z"
   },
   {
    "duration": 46,
    "start_time": "2022-11-18T00:23:42.617Z"
   },
   {
    "duration": 686,
    "start_time": "2022-11-18T00:23:42.665Z"
   },
   {
    "duration": 35,
    "start_time": "2022-11-18T00:23:43.354Z"
   },
   {
    "duration": 1856,
    "start_time": "2022-11-18T00:23:43.391Z"
   },
   {
    "duration": 41,
    "start_time": "2022-11-18T00:23:45.250Z"
   },
   {
    "duration": 183,
    "start_time": "2022-11-18T00:23:45.293Z"
   },
   {
    "duration": 91,
    "start_time": "2022-11-18T00:23:45.478Z"
   },
   {
    "duration": 19,
    "start_time": "2022-11-18T00:23:45.570Z"
   },
   {
    "duration": 25,
    "start_time": "2022-11-18T00:23:45.590Z"
   },
   {
    "duration": 108,
    "start_time": "2022-11-18T00:23:45.617Z"
   },
   {
    "duration": 26,
    "start_time": "2022-11-18T00:23:45.727Z"
   },
   {
    "duration": 32,
    "start_time": "2022-11-18T00:23:45.755Z"
   },
   {
    "duration": 26,
    "start_time": "2022-11-18T00:23:45.789Z"
   },
   {
    "duration": 681,
    "start_time": "2022-11-18T00:23:45.817Z"
   },
   {
    "duration": 321,
    "start_time": "2022-11-18T00:23:46.500Z"
   },
   {
    "duration": 621,
    "start_time": "2022-11-18T00:23:46.823Z"
   },
   {
    "duration": 4,
    "start_time": "2022-11-18T00:23:47.446Z"
   },
   {
    "duration": 22308,
    "start_time": "2022-11-18T00:23:47.453Z"
   },
   {
    "duration": 395,
    "start_time": "2022-11-18T00:24:09.763Z"
   },
   {
    "duration": 21399,
    "start_time": "2022-11-18T00:24:10.160Z"
   },
   {
    "duration": 493,
    "start_time": "2022-11-18T00:24:31.561Z"
   },
   {
    "duration": 79,
    "start_time": "2022-11-18T00:24:32.058Z"
   },
   {
    "duration": 0,
    "start_time": "2022-11-18T00:24:32.139Z"
   },
   {
    "duration": 5,
    "start_time": "2022-11-18T00:24:54.700Z"
   },
   {
    "duration": 121,
    "start_time": "2022-11-18T00:25:02.999Z"
   },
   {
    "duration": 17,
    "start_time": "2022-11-18T00:26:47.115Z"
   },
   {
    "duration": 21,
    "start_time": "2022-11-18T00:27:09.708Z"
   },
   {
    "duration": 16,
    "start_time": "2022-11-18T00:29:51.079Z"
   },
   {
    "duration": 29,
    "start_time": "2022-11-18T00:36:28.531Z"
   },
   {
    "duration": 7,
    "start_time": "2022-11-18T00:36:42.860Z"
   },
   {
    "duration": 28,
    "start_time": "2022-11-18T00:36:46.738Z"
   },
   {
    "duration": 5,
    "start_time": "2022-11-18T00:37:08.330Z"
   },
   {
    "duration": 20,
    "start_time": "2022-11-18T00:37:10.642Z"
   },
   {
    "duration": 22,
    "start_time": "2022-11-18T00:37:34.388Z"
   },
   {
    "duration": 14,
    "start_time": "2022-11-18T00:38:52.229Z"
   },
   {
    "duration": 3,
    "start_time": "2022-11-18T00:39:20.858Z"
   },
   {
    "duration": 5,
    "start_time": "2022-11-18T00:39:28.552Z"
   },
   {
    "duration": 2883334,
    "start_time": "2022-11-18T00:39:30.608Z"
   },
   {
    "duration": 1410,
    "start_time": "2022-11-18T13:50:30.743Z"
   },
   {
    "duration": 1054,
    "start_time": "2022-11-18T13:50:32.156Z"
   },
   {
    "duration": 124,
    "start_time": "2022-11-18T13:50:33.212Z"
   },
   {
    "duration": 19,
    "start_time": "2022-11-18T13:50:33.338Z"
   },
   {
    "duration": 12,
    "start_time": "2022-11-18T13:50:33.359Z"
   },
   {
    "duration": 91,
    "start_time": "2022-11-18T13:50:33.373Z"
   },
   {
    "duration": 19,
    "start_time": "2022-11-18T13:50:33.466Z"
   },
   {
    "duration": 7326,
    "start_time": "2022-11-18T13:50:33.487Z"
   },
   {
    "duration": 77,
    "start_time": "2022-11-18T13:50:40.814Z"
   },
   {
    "duration": 114,
    "start_time": "2022-11-18T13:50:40.893Z"
   },
   {
    "duration": 798,
    "start_time": "2022-11-18T13:50:41.009Z"
   },
   {
    "duration": 42,
    "start_time": "2022-11-18T13:50:41.809Z"
   },
   {
    "duration": 587,
    "start_time": "2022-11-18T13:50:41.853Z"
   },
   {
    "duration": 33,
    "start_time": "2022-11-18T13:50:42.443Z"
   },
   {
    "duration": 1561,
    "start_time": "2022-11-18T13:50:42.479Z"
   },
   {
    "duration": 30,
    "start_time": "2022-11-18T13:50:44.042Z"
   },
   {
    "duration": 163,
    "start_time": "2022-11-18T13:50:44.074Z"
   },
   {
    "duration": 88,
    "start_time": "2022-11-18T13:50:44.239Z"
   },
   {
    "duration": 18,
    "start_time": "2022-11-18T13:50:44.329Z"
   },
   {
    "duration": 16,
    "start_time": "2022-11-18T13:50:44.348Z"
   },
   {
    "duration": 100,
    "start_time": "2022-11-18T13:50:44.366Z"
   },
   {
    "duration": 16,
    "start_time": "2022-11-18T13:50:44.468Z"
   },
   {
    "duration": 18,
    "start_time": "2022-11-18T13:50:44.485Z"
   },
   {
    "duration": 35,
    "start_time": "2022-11-18T13:50:44.504Z"
   },
   {
    "duration": 490,
    "start_time": "2022-11-18T13:50:44.541Z"
   },
   {
    "duration": 299,
    "start_time": "2022-11-18T13:50:45.033Z"
   },
   {
    "duration": 577,
    "start_time": "2022-11-18T13:50:45.334Z"
   },
   {
    "duration": 2,
    "start_time": "2022-11-18T13:50:45.913Z"
   },
   {
    "duration": 25007,
    "start_time": "2022-11-18T13:50:45.916Z"
   },
   {
    "duration": 297,
    "start_time": "2022-11-18T13:51:10.925Z"
   },
   {
    "duration": 23011,
    "start_time": "2022-11-18T13:51:11.224Z"
   },
   {
    "duration": 305,
    "start_time": "2022-11-18T13:51:34.322Z"
   },
   {
    "duration": 93,
    "start_time": "2022-11-18T13:51:34.629Z"
   },
   {
    "duration": 2703999,
    "start_time": "2022-11-18T13:51:34.723Z"
   },
   {
    "duration": 31,
    "start_time": "2022-11-18T14:57:23.423Z"
   },
   {
    "duration": 57,
    "start_time": "2022-11-18T15:22:55.952Z"
   },
   {
    "duration": 1309,
    "start_time": "2022-11-18T15:25:09.145Z"
   },
   {
    "duration": 809,
    "start_time": "2022-11-18T15:25:10.456Z"
   },
   {
    "duration": 131,
    "start_time": "2022-11-18T15:25:11.267Z"
   },
   {
    "duration": 29,
    "start_time": "2022-11-18T15:25:11.400Z"
   },
   {
    "duration": 12,
    "start_time": "2022-11-18T15:25:11.432Z"
   },
   {
    "duration": 98,
    "start_time": "2022-11-18T15:25:11.445Z"
   },
   {
    "duration": 29,
    "start_time": "2022-11-18T15:25:11.545Z"
   },
   {
    "duration": 7583,
    "start_time": "2022-11-18T15:25:11.576Z"
   },
   {
    "duration": 81,
    "start_time": "2022-11-18T15:25:19.161Z"
   },
   {
    "duration": 115,
    "start_time": "2022-11-18T15:25:19.243Z"
   },
   {
    "duration": 762,
    "start_time": "2022-11-18T15:25:19.359Z"
   },
   {
    "duration": 36,
    "start_time": "2022-11-18T15:25:20.122Z"
   },
   {
    "duration": 603,
    "start_time": "2022-11-18T15:25:20.159Z"
   },
   {
    "duration": 33,
    "start_time": "2022-11-18T15:25:20.766Z"
   },
   {
    "duration": 1655,
    "start_time": "2022-11-18T15:25:20.801Z"
   },
   {
    "duration": 33,
    "start_time": "2022-11-18T15:25:22.458Z"
   },
   {
    "duration": 180,
    "start_time": "2022-11-18T15:25:22.493Z"
   },
   {
    "duration": 103,
    "start_time": "2022-11-18T15:25:22.675Z"
   },
   {
    "duration": 18,
    "start_time": "2022-11-18T15:25:22.780Z"
   },
   {
    "duration": 36,
    "start_time": "2022-11-18T15:25:22.799Z"
   },
   {
    "duration": 90,
    "start_time": "2022-11-18T15:25:22.838Z"
   },
   {
    "duration": 17,
    "start_time": "2022-11-18T15:25:22.930Z"
   },
   {
    "duration": 18,
    "start_time": "2022-11-18T15:25:22.949Z"
   },
   {
    "duration": 19,
    "start_time": "2022-11-18T15:25:22.969Z"
   },
   {
    "duration": 498,
    "start_time": "2022-11-18T15:25:22.990Z"
   },
   {
    "duration": 284,
    "start_time": "2022-11-18T15:25:23.489Z"
   },
   {
    "duration": 582,
    "start_time": "2022-11-18T15:25:23.775Z"
   },
   {
    "duration": 2,
    "start_time": "2022-11-18T15:25:24.359Z"
   },
   {
    "duration": 21363,
    "start_time": "2022-11-18T15:25:24.363Z"
   },
   {
    "duration": 297,
    "start_time": "2022-11-18T15:25:45.728Z"
   },
   {
    "duration": 24100,
    "start_time": "2022-11-18T15:25:46.027Z"
   },
   {
    "duration": 297,
    "start_time": "2022-11-18T15:26:10.129Z"
   },
   {
    "duration": 6,
    "start_time": "2022-11-18T15:26:10.429Z"
   },
   {
    "duration": 2724035,
    "start_time": "2022-11-18T15:26:10.522Z"
   },
   {
    "duration": 5917462,
    "start_time": "2022-11-18T16:11:34.560Z"
   },
   {
    "duration": 905190,
    "start_time": "2022-11-18T17:50:12.024Z"
   },
   {
    "duration": 106,
    "start_time": "2022-11-18T22:31:45.577Z"
   },
   {
    "duration": 8,
    "start_time": "2022-11-18T22:32:03.045Z"
   },
   {
    "duration": 1827,
    "start_time": "2022-11-19T13:07:37.542Z"
   },
   {
    "duration": 91,
    "start_time": "2022-11-19T13:28:08.753Z"
   },
   {
    "duration": 6,
    "start_time": "2022-11-19T13:28:27.866Z"
   },
   {
    "duration": 12,
    "start_time": "2022-11-19T13:28:36.847Z"
   },
   {
    "duration": 115,
    "start_time": "2022-11-19T13:41:48.456Z"
   },
   {
    "duration": 79,
    "start_time": "2022-11-19T13:55:08.310Z"
   },
   {
    "duration": 13,
    "start_time": "2022-11-19T13:55:40.356Z"
   },
   {
    "duration": 2,
    "start_time": "2022-11-19T13:56:02.503Z"
   },
   {
    "duration": 11,
    "start_time": "2022-11-19T13:56:05.034Z"
   },
   {
    "duration": 1550,
    "start_time": "2022-11-19T13:56:11.752Z"
   },
   {
    "duration": 3107,
    "start_time": "2022-11-19T13:56:13.304Z"
   },
   {
    "duration": 139,
    "start_time": "2022-11-19T13:56:16.413Z"
   },
   {
    "duration": 28,
    "start_time": "2022-11-19T13:56:16.554Z"
   },
   {
    "duration": 11,
    "start_time": "2022-11-19T13:56:16.584Z"
   },
   {
    "duration": 103,
    "start_time": "2022-11-19T13:56:16.596Z"
   },
   {
    "duration": 26,
    "start_time": "2022-11-19T13:56:16.700Z"
   },
   {
    "duration": 8364,
    "start_time": "2022-11-19T13:56:16.728Z"
   },
   {
    "duration": 92,
    "start_time": "2022-11-19T13:56:25.094Z"
   },
   {
    "duration": 121,
    "start_time": "2022-11-19T13:56:25.188Z"
   },
   {
    "duration": 829,
    "start_time": "2022-11-19T13:56:25.310Z"
   },
   {
    "duration": 40,
    "start_time": "2022-11-19T13:56:26.140Z"
   },
   {
    "duration": 643,
    "start_time": "2022-11-19T13:56:26.182Z"
   },
   {
    "duration": 33,
    "start_time": "2022-11-19T13:56:26.828Z"
   },
   {
    "duration": 1664,
    "start_time": "2022-11-19T13:56:26.863Z"
   },
   {
    "duration": 32,
    "start_time": "2022-11-19T13:56:28.529Z"
   },
   {
    "duration": 175,
    "start_time": "2022-11-19T13:56:28.562Z"
   },
   {
    "duration": 86,
    "start_time": "2022-11-19T13:56:28.738Z"
   },
   {
    "duration": 17,
    "start_time": "2022-11-19T13:56:28.826Z"
   },
   {
    "duration": 20,
    "start_time": "2022-11-19T13:56:28.845Z"
   },
   {
    "duration": 80,
    "start_time": "2022-11-19T13:56:28.879Z"
   },
   {
    "duration": 29,
    "start_time": "2022-11-19T13:56:28.961Z"
   },
   {
    "duration": 20,
    "start_time": "2022-11-19T13:56:28.992Z"
   },
   {
    "duration": 22,
    "start_time": "2022-11-19T13:56:29.014Z"
   },
   {
    "duration": 596,
    "start_time": "2022-11-19T13:56:29.038Z"
   },
   {
    "duration": 301,
    "start_time": "2022-11-19T13:56:29.636Z"
   },
   {
    "duration": 600,
    "start_time": "2022-11-19T13:56:29.939Z"
   },
   {
    "duration": 2,
    "start_time": "2022-11-19T13:56:30.541Z"
   },
   {
    "duration": 22749,
    "start_time": "2022-11-19T13:56:30.545Z"
   },
   {
    "duration": 293,
    "start_time": "2022-11-19T13:56:53.296Z"
   },
   {
    "duration": 19886,
    "start_time": "2022-11-19T13:56:53.592Z"
   },
   {
    "duration": 302,
    "start_time": "2022-11-19T13:57:13.480Z"
   },
   {
    "duration": 95,
    "start_time": "2022-11-19T13:57:13.787Z"
   },
   {
    "duration": 1248953,
    "start_time": "2022-11-19T13:57:13.884Z"
   },
   {
    "duration": 0,
    "start_time": "2022-11-19T14:18:02.839Z"
   },
   {
    "duration": 0,
    "start_time": "2022-11-19T14:18:02.841Z"
   },
   {
    "duration": 536282,
    "start_time": "2022-11-19T14:18:11.989Z"
   },
   {
    "duration": 10,
    "start_time": "2022-11-19T14:35:20.059Z"
   },
   {
    "duration": 536122,
    "start_time": "2022-11-19T14:35:29.920Z"
   },
   {
    "duration": 8,
    "start_time": "2022-11-19T14:55:29.429Z"
   },
   {
    "duration": 535032,
    "start_time": "2022-11-19T14:55:48.654Z"
   },
   {
    "duration": 10,
    "start_time": "2022-11-19T15:18:16.434Z"
   },
   {
    "duration": 9,
    "start_time": "2022-11-19T15:19:32.353Z"
   },
   {
    "duration": 1057085,
    "start_time": "2022-11-19T15:19:41.660Z"
   },
   {
    "duration": 8,
    "start_time": "2022-11-19T15:37:18.748Z"
   },
   {
    "duration": 7,
    "start_time": "2022-11-19T15:37:36.683Z"
   },
   {
    "duration": 11,
    "start_time": "2022-11-19T15:39:35.125Z"
   },
   {
    "duration": 10,
    "start_time": "2022-11-19T15:48:59.137Z"
   },
   {
    "duration": 6432,
    "start_time": "2022-11-19T16:02:55.168Z"
   },
   {
    "duration": 10,
    "start_time": "2022-11-19T16:03:20.841Z"
   },
   {
    "duration": 1050859,
    "start_time": "2022-11-19T16:03:24.753Z"
   },
   {
    "duration": 13,
    "start_time": "2022-11-19T16:29:56.904Z"
   },
   {
    "duration": 13,
    "start_time": "2022-11-19T16:30:00.672Z"
   },
   {
    "duration": 13,
    "start_time": "2022-11-19T16:30:09.205Z"
   },
   {
    "duration": 14,
    "start_time": "2022-11-19T16:30:17.899Z"
   },
   {
    "duration": 11,
    "start_time": "2022-11-19T16:30:43.829Z"
   },
   {
    "duration": 14,
    "start_time": "2022-11-19T16:30:48.497Z"
   },
   {
    "duration": 7,
    "start_time": "2022-11-19T16:34:08.910Z"
   },
   {
    "duration": 14,
    "start_time": "2022-11-19T16:34:12.674Z"
   },
   {
    "duration": 8,
    "start_time": "2022-11-19T16:34:16.235Z"
   },
   {
    "duration": 7,
    "start_time": "2022-11-19T16:34:16.795Z"
   },
   {
    "duration": 12,
    "start_time": "2022-11-19T16:34:18.712Z"
   },
   {
    "duration": 7,
    "start_time": "2022-11-19T16:34:24.610Z"
   },
   {
    "duration": 7,
    "start_time": "2022-11-19T16:34:26.805Z"
   },
   {
    "duration": 7,
    "start_time": "2022-11-19T16:34:27.204Z"
   },
   {
    "duration": 7,
    "start_time": "2022-11-19T16:34:29.122Z"
   },
   {
    "duration": 7,
    "start_time": "2022-11-19T16:34:29.739Z"
   },
   {
    "duration": 7,
    "start_time": "2022-11-19T16:34:42.303Z"
   },
   {
    "duration": 8,
    "start_time": "2022-11-19T16:34:44.645Z"
   },
   {
    "duration": 7,
    "start_time": "2022-11-19T16:34:44.860Z"
   },
   {
    "duration": 7,
    "start_time": "2022-11-19T16:34:45.045Z"
   },
   {
    "duration": 7,
    "start_time": "2022-11-19T16:34:45.225Z"
   },
   {
    "duration": 9,
    "start_time": "2022-11-19T16:34:46.656Z"
   },
   {
    "duration": 10,
    "start_time": "2022-11-19T16:37:26.567Z"
   },
   {
    "duration": 1048153,
    "start_time": "2022-11-19T16:37:50.455Z"
   },
   {
    "duration": 12,
    "start_time": "2022-11-19T16:55:24.923Z"
   },
   {
    "duration": 5,
    "start_time": "2022-11-19T16:55:51.177Z"
   },
   {
    "duration": 4,
    "start_time": "2022-11-19T16:58:39.033Z"
   },
   {
    "duration": 10,
    "start_time": "2022-11-19T16:58:51.555Z"
   },
   {
    "duration": 5,
    "start_time": "2022-11-19T16:58:58.453Z"
   },
   {
    "duration": 3,
    "start_time": "2022-11-19T16:59:06.630Z"
   },
   {
    "duration": 1513,
    "start_time": "2022-11-19T16:59:59.111Z"
   },
   {
    "duration": 926,
    "start_time": "2022-11-19T17:00:00.626Z"
   },
   {
    "duration": 142,
    "start_time": "2022-11-19T17:00:01.554Z"
   },
   {
    "duration": 28,
    "start_time": "2022-11-19T17:00:01.698Z"
   },
   {
    "duration": 15,
    "start_time": "2022-11-19T17:00:01.728Z"
   },
   {
    "duration": 105,
    "start_time": "2022-11-19T17:00:01.744Z"
   },
   {
    "duration": 32,
    "start_time": "2022-11-19T17:00:01.851Z"
   },
   {
    "duration": 8793,
    "start_time": "2022-11-19T17:00:01.885Z"
   },
   {
    "duration": 84,
    "start_time": "2022-11-19T17:00:10.679Z"
   },
   {
    "duration": 129,
    "start_time": "2022-11-19T17:00:10.777Z"
   },
   {
    "duration": 871,
    "start_time": "2022-11-19T17:00:10.908Z"
   },
   {
    "duration": 36,
    "start_time": "2022-11-19T17:00:11.781Z"
   },
   {
    "duration": 669,
    "start_time": "2022-11-19T17:00:11.819Z"
   },
   {
    "duration": 35,
    "start_time": "2022-11-19T17:00:12.489Z"
   },
   {
    "duration": 1828,
    "start_time": "2022-11-19T17:00:12.525Z"
   },
   {
    "duration": 40,
    "start_time": "2022-11-19T17:00:14.355Z"
   },
   {
    "duration": 181,
    "start_time": "2022-11-19T17:00:14.397Z"
   },
   {
    "duration": 84,
    "start_time": "2022-11-19T17:00:14.580Z"
   },
   {
    "duration": 28,
    "start_time": "2022-11-19T17:00:14.666Z"
   },
   {
    "duration": 18,
    "start_time": "2022-11-19T17:00:14.695Z"
   },
   {
    "duration": 98,
    "start_time": "2022-11-19T17:00:14.715Z"
   },
   {
    "duration": 19,
    "start_time": "2022-11-19T17:00:14.815Z"
   },
   {
    "duration": 20,
    "start_time": "2022-11-19T17:00:14.835Z"
   },
   {
    "duration": 40,
    "start_time": "2022-11-19T17:00:14.857Z"
   },
   {
    "duration": 663,
    "start_time": "2022-11-19T17:00:14.898Z"
   },
   {
    "duration": 292,
    "start_time": "2022-11-19T17:00:15.563Z"
   },
   {
    "duration": 616,
    "start_time": "2022-11-19T17:00:15.857Z"
   },
   {
    "duration": 3,
    "start_time": "2022-11-19T17:00:16.476Z"
   },
   {
    "duration": 19403,
    "start_time": "2022-11-19T17:00:16.480Z"
   },
   {
    "duration": 392,
    "start_time": "2022-11-19T17:00:35.886Z"
   },
   {
    "duration": 18198,
    "start_time": "2022-11-19T17:00:36.280Z"
   },
   {
    "duration": 301,
    "start_time": "2022-11-19T17:00:54.480Z"
   },
   {
    "duration": 98,
    "start_time": "2022-11-19T17:00:54.783Z"
   },
   {
    "duration": 2909167,
    "start_time": "2022-11-19T17:00:54.883Z"
   },
   {
    "duration": 1475543,
    "start_time": "2022-11-19T17:49:24.052Z"
   },
   {
    "duration": 1047048,
    "start_time": "2022-11-19T18:13:59.677Z"
   },
   {
    "duration": 19,
    "start_time": "2022-11-19T19:31:22.668Z"
   },
   {
    "duration": 4,
    "start_time": "2022-11-19T20:13:20.002Z"
   },
   {
    "duration": 1584,
    "start_time": "2022-11-19T20:16:15.414Z"
   },
   {
    "duration": 1048,
    "start_time": "2022-11-19T20:16:17.000Z"
   },
   {
    "duration": 201,
    "start_time": "2022-11-19T20:16:18.050Z"
   },
   {
    "duration": 46,
    "start_time": "2022-11-19T20:16:18.254Z"
   },
   {
    "duration": 31,
    "start_time": "2022-11-19T20:16:18.304Z"
   },
   {
    "duration": 179,
    "start_time": "2022-11-19T20:16:18.337Z"
   },
   {
    "duration": 42,
    "start_time": "2022-11-19T20:16:18.518Z"
   },
   {
    "duration": 10264,
    "start_time": "2022-11-19T20:16:18.562Z"
   },
   {
    "duration": 92,
    "start_time": "2022-11-19T20:16:28.828Z"
   },
   {
    "duration": 129,
    "start_time": "2022-11-19T20:16:28.922Z"
   },
   {
    "duration": 919,
    "start_time": "2022-11-19T20:16:29.053Z"
   },
   {
    "duration": 38,
    "start_time": "2022-11-19T20:16:29.973Z"
   },
   {
    "duration": 853,
    "start_time": "2022-11-19T20:16:30.014Z"
   },
   {
    "duration": 52,
    "start_time": "2022-11-19T20:16:30.872Z"
   },
   {
    "duration": 2444,
    "start_time": "2022-11-19T20:16:30.926Z"
   },
   {
    "duration": 39,
    "start_time": "2022-11-19T20:16:33.372Z"
   },
   {
    "duration": 195,
    "start_time": "2022-11-19T20:16:33.413Z"
   },
   {
    "duration": 110,
    "start_time": "2022-11-19T20:16:33.610Z"
   },
   {
    "duration": 28,
    "start_time": "2022-11-19T20:16:33.722Z"
   },
   {
    "duration": 39,
    "start_time": "2022-11-19T20:16:33.752Z"
   },
   {
    "duration": 167,
    "start_time": "2022-11-19T20:16:33.793Z"
   },
   {
    "duration": 37,
    "start_time": "2022-11-19T20:16:33.962Z"
   },
   {
    "duration": 46,
    "start_time": "2022-11-19T20:16:34.001Z"
   },
   {
    "duration": 33,
    "start_time": "2022-11-19T20:16:34.049Z"
   },
   {
    "duration": 717,
    "start_time": "2022-11-19T20:16:34.085Z"
   },
   {
    "duration": 336,
    "start_time": "2022-11-19T20:16:34.807Z"
   },
   {
    "duration": 836,
    "start_time": "2022-11-19T20:16:35.144Z"
   },
   {
    "duration": 3,
    "start_time": "2022-11-19T20:16:35.983Z"
   },
   {
    "duration": 18,
    "start_time": "2022-11-19T20:16:35.988Z"
   },
   {
    "duration": 161,
    "start_time": "2022-11-19T20:16:36.008Z"
   },
   {
    "duration": 0,
    "start_time": "2022-11-19T20:16:36.178Z"
   },
   {
    "duration": 0,
    "start_time": "2022-11-19T20:16:36.181Z"
   },
   {
    "duration": 0,
    "start_time": "2022-11-19T20:16:36.182Z"
   },
   {
    "duration": 0,
    "start_time": "2022-11-19T20:16:36.184Z"
   },
   {
    "duration": 13,
    "start_time": "2022-11-19T21:14:38.100Z"
   },
   {
    "duration": 38704,
    "start_time": "2022-11-19T21:15:04.478Z"
   },
   {
    "duration": 11,
    "start_time": "2022-11-19T21:16:44.026Z"
   },
   {
    "duration": 1498,
    "start_time": "2022-11-19T21:20:25.779Z"
   },
   {
    "duration": 894,
    "start_time": "2022-11-19T21:20:27.279Z"
   },
   {
    "duration": 146,
    "start_time": "2022-11-19T21:20:28.177Z"
   },
   {
    "duration": 27,
    "start_time": "2022-11-19T21:20:28.325Z"
   },
   {
    "duration": 27,
    "start_time": "2022-11-19T21:20:28.354Z"
   },
   {
    "duration": 95,
    "start_time": "2022-11-19T21:20:28.383Z"
   },
   {
    "duration": 26,
    "start_time": "2022-11-19T21:20:28.480Z"
   },
   {
    "duration": 8561,
    "start_time": "2022-11-19T21:20:28.508Z"
   },
   {
    "duration": 90,
    "start_time": "2022-11-19T21:20:37.071Z"
   },
   {
    "duration": 132,
    "start_time": "2022-11-19T21:20:37.163Z"
   },
   {
    "duration": 863,
    "start_time": "2022-11-19T21:20:37.297Z"
   },
   {
    "duration": 43,
    "start_time": "2022-11-19T21:20:38.161Z"
   },
   {
    "duration": 652,
    "start_time": "2022-11-19T21:20:38.205Z"
   },
   {
    "duration": 43,
    "start_time": "2022-11-19T21:20:38.860Z"
   },
   {
    "duration": 1662,
    "start_time": "2022-11-19T21:20:38.905Z"
   },
   {
    "duration": 39,
    "start_time": "2022-11-19T21:20:40.569Z"
   },
   {
    "duration": 180,
    "start_time": "2022-11-19T21:20:40.610Z"
   },
   {
    "duration": 91,
    "start_time": "2022-11-19T21:20:40.792Z"
   },
   {
    "duration": 19,
    "start_time": "2022-11-19T21:20:40.884Z"
   },
   {
    "duration": 18,
    "start_time": "2022-11-19T21:20:40.904Z"
   },
   {
    "duration": 108,
    "start_time": "2022-11-19T21:20:40.923Z"
   },
   {
    "duration": 20,
    "start_time": "2022-11-19T21:20:41.033Z"
   },
   {
    "duration": 33,
    "start_time": "2022-11-19T21:20:41.061Z"
   },
   {
    "duration": 25,
    "start_time": "2022-11-19T21:20:41.096Z"
   },
   {
    "duration": 651,
    "start_time": "2022-11-19T21:20:41.123Z"
   },
   {
    "duration": 302,
    "start_time": "2022-11-19T21:20:41.776Z"
   },
   {
    "duration": 611,
    "start_time": "2022-11-19T21:20:42.080Z"
   },
   {
    "duration": 3,
    "start_time": "2022-11-19T21:20:42.693Z"
   },
   {
    "duration": 9,
    "start_time": "2022-11-19T21:20:42.697Z"
   },
   {
    "duration": 36576,
    "start_time": "2022-11-19T21:20:42.707Z"
   },
   {
    "duration": 2887007,
    "start_time": "2022-11-19T21:21:19.286Z"
   },
   {
    "duration": 2063492,
    "start_time": "2022-11-19T22:09:26.295Z"
   },
   {
    "duration": 1036665,
    "start_time": "2022-11-19T22:43:49.789Z"
   },
   {
    "duration": 16,
    "start_time": "2022-11-19T23:07:02.013Z"
   },
   {
    "duration": 31912,
    "start_time": "2022-11-19T23:38:02.596Z"
   },
   {
    "duration": 23,
    "start_time": "2022-11-19T23:38:43.934Z"
   },
   {
    "duration": 10,
    "start_time": "2022-11-19T23:54:12.093Z"
   },
   {
    "duration": 1390,
    "start_time": "2022-11-19T23:56:54.834Z"
   },
   {
    "duration": 869,
    "start_time": "2022-11-19T23:56:56.226Z"
   },
   {
    "duration": 143,
    "start_time": "2022-11-19T23:56:57.097Z"
   },
   {
    "duration": 36,
    "start_time": "2022-11-19T23:56:57.242Z"
   },
   {
    "duration": 11,
    "start_time": "2022-11-19T23:56:57.280Z"
   },
   {
    "duration": 103,
    "start_time": "2022-11-19T23:56:57.293Z"
   },
   {
    "duration": 27,
    "start_time": "2022-11-19T23:56:57.397Z"
   },
   {
    "duration": 8340,
    "start_time": "2022-11-19T23:56:57.425Z"
   },
   {
    "duration": 89,
    "start_time": "2022-11-19T23:57:05.766Z"
   },
   {
    "duration": 128,
    "start_time": "2022-11-19T23:57:05.856Z"
   },
   {
    "duration": 833,
    "start_time": "2022-11-19T23:57:05.986Z"
   },
   {
    "duration": 38,
    "start_time": "2022-11-19T23:57:06.820Z"
   },
   {
    "duration": 650,
    "start_time": "2022-11-19T23:57:06.859Z"
   },
   {
    "duration": 35,
    "start_time": "2022-11-19T23:57:07.512Z"
   },
   {
    "duration": 1652,
    "start_time": "2022-11-19T23:57:07.549Z"
   },
   {
    "duration": 31,
    "start_time": "2022-11-19T23:57:09.202Z"
   },
   {
    "duration": 177,
    "start_time": "2022-11-19T23:57:09.235Z"
   },
   {
    "duration": 86,
    "start_time": "2022-11-19T23:57:09.413Z"
   },
   {
    "duration": 18,
    "start_time": "2022-11-19T23:57:09.500Z"
   },
   {
    "duration": 17,
    "start_time": "2022-11-19T23:57:09.520Z"
   },
   {
    "duration": 102,
    "start_time": "2022-11-19T23:57:09.538Z"
   },
   {
    "duration": 17,
    "start_time": "2022-11-19T23:57:09.642Z"
   },
   {
    "duration": 29,
    "start_time": "2022-11-19T23:57:09.661Z"
   },
   {
    "duration": 24,
    "start_time": "2022-11-19T23:57:09.691Z"
   },
   {
    "duration": 557,
    "start_time": "2022-11-19T23:57:09.716Z"
   },
   {
    "duration": 291,
    "start_time": "2022-11-19T23:57:10.275Z"
   },
   {
    "duration": 600,
    "start_time": "2022-11-19T23:57:10.568Z"
   },
   {
    "duration": 3,
    "start_time": "2022-11-19T23:57:11.170Z"
   },
   {
    "duration": 11,
    "start_time": "2022-11-19T23:57:11.175Z"
   },
   {
    "duration": 35491,
    "start_time": "2022-11-19T23:57:11.188Z"
   },
   {
    "duration": 1462317,
    "start_time": "2022-11-19T23:57:46.681Z"
   },
   {
    "duration": 0,
    "start_time": "2022-11-20T00:22:08.999Z"
   },
   {
    "duration": 0,
    "start_time": "2022-11-20T00:22:09.000Z"
   },
   {
    "duration": 1539,
    "start_time": "2022-11-20T00:28:38.677Z"
   },
   {
    "duration": 972,
    "start_time": "2022-11-20T00:28:40.218Z"
   },
   {
    "duration": 146,
    "start_time": "2022-11-20T00:28:41.191Z"
   },
   {
    "duration": 28,
    "start_time": "2022-11-20T00:28:41.339Z"
   },
   {
    "duration": 12,
    "start_time": "2022-11-20T00:28:41.379Z"
   },
   {
    "duration": 102,
    "start_time": "2022-11-20T00:28:41.392Z"
   },
   {
    "duration": 28,
    "start_time": "2022-11-20T00:28:41.496Z"
   },
   {
    "duration": 8366,
    "start_time": "2022-11-20T00:28:41.526Z"
   },
   {
    "duration": 87,
    "start_time": "2022-11-20T00:28:49.894Z"
   },
   {
    "duration": 126,
    "start_time": "2022-11-20T00:28:49.983Z"
   },
   {
    "duration": 868,
    "start_time": "2022-11-20T00:28:50.111Z"
   },
   {
    "duration": 41,
    "start_time": "2022-11-20T00:28:50.981Z"
   },
   {
    "duration": 712,
    "start_time": "2022-11-20T00:28:51.024Z"
   },
   {
    "duration": 47,
    "start_time": "2022-11-20T00:28:51.739Z"
   },
   {
    "duration": 1746,
    "start_time": "2022-11-20T00:28:51.787Z"
   },
   {
    "duration": 35,
    "start_time": "2022-11-20T00:28:53.534Z"
   },
   {
    "duration": 179,
    "start_time": "2022-11-20T00:28:53.578Z"
   },
   {
    "duration": 91,
    "start_time": "2022-11-20T00:28:53.758Z"
   },
   {
    "duration": 28,
    "start_time": "2022-11-20T00:28:53.851Z"
   },
   {
    "duration": 18,
    "start_time": "2022-11-20T00:28:53.881Z"
   },
   {
    "duration": 133,
    "start_time": "2022-11-20T00:28:53.901Z"
   },
   {
    "duration": 23,
    "start_time": "2022-11-20T00:28:54.036Z"
   },
   {
    "duration": 35,
    "start_time": "2022-11-20T00:28:54.061Z"
   },
   {
    "duration": 25,
    "start_time": "2022-11-20T00:28:54.098Z"
   },
   {
    "duration": 876,
    "start_time": "2022-11-20T00:28:54.125Z"
   },
   {
    "duration": 310,
    "start_time": "2022-11-20T00:28:55.003Z"
   },
   {
    "duration": 1034,
    "start_time": "2022-11-20T00:28:55.315Z"
   },
   {
    "duration": 3,
    "start_time": "2022-11-20T00:28:56.351Z"
   },
   {
    "duration": 22,
    "start_time": "2022-11-20T00:28:56.356Z"
   },
   {
    "duration": 30401,
    "start_time": "2022-11-20T00:28:56.380Z"
   },
   {
    "duration": 42028,
    "start_time": "2022-11-20T00:29:26.784Z"
   },
   {
    "duration": 0,
    "start_time": "2022-11-20T00:30:08.814Z"
   },
   {
    "duration": 0,
    "start_time": "2022-11-20T00:30:08.815Z"
   },
   {
    "duration": 247893,
    "start_time": "2022-11-20T00:30:16.971Z"
   },
   {
    "duration": 7,
    "start_time": "2022-11-20T00:41:20.846Z"
   },
   {
    "duration": 77,
    "start_time": "2022-11-20T00:42:31.706Z"
   },
   {
    "duration": 1461,
    "start_time": "2022-11-20T00:48:13.836Z"
   },
   {
    "duration": 891,
    "start_time": "2022-11-20T00:48:15.299Z"
   },
   {
    "duration": 147,
    "start_time": "2022-11-20T00:48:16.192Z"
   },
   {
    "duration": 37,
    "start_time": "2022-11-20T00:48:16.341Z"
   },
   {
    "duration": 11,
    "start_time": "2022-11-20T00:48:16.380Z"
   },
   {
    "duration": 102,
    "start_time": "2022-11-20T00:48:16.392Z"
   },
   {
    "duration": 27,
    "start_time": "2022-11-20T00:48:16.496Z"
   },
   {
    "duration": 8381,
    "start_time": "2022-11-20T00:48:16.525Z"
   },
   {
    "duration": 86,
    "start_time": "2022-11-20T00:48:24.908Z"
   },
   {
    "duration": 133,
    "start_time": "2022-11-20T00:48:24.997Z"
   },
   {
    "duration": 862,
    "start_time": "2022-11-20T00:48:25.133Z"
   },
   {
    "duration": 38,
    "start_time": "2022-11-20T00:48:25.997Z"
   },
   {
    "duration": 683,
    "start_time": "2022-11-20T00:48:26.037Z"
   },
   {
    "duration": 38,
    "start_time": "2022-11-20T00:48:26.722Z"
   },
   {
    "duration": 1694,
    "start_time": "2022-11-20T00:48:26.762Z"
   },
   {
    "duration": 40,
    "start_time": "2022-11-20T00:48:28.458Z"
   },
   {
    "duration": 173,
    "start_time": "2022-11-20T00:48:28.500Z"
   },
   {
    "duration": 82,
    "start_time": "2022-11-20T00:48:28.678Z"
   },
   {
    "duration": 33,
    "start_time": "2022-11-20T00:48:28.762Z"
   },
   {
    "duration": 19,
    "start_time": "2022-11-20T00:48:28.797Z"
   },
   {
    "duration": 108,
    "start_time": "2022-11-20T00:48:28.818Z"
   },
   {
    "duration": 19,
    "start_time": "2022-11-20T00:48:28.928Z"
   },
   {
    "duration": 40,
    "start_time": "2022-11-20T00:48:28.950Z"
   },
   {
    "duration": 30,
    "start_time": "2022-11-20T00:48:28.992Z"
   },
   {
    "duration": 4,
    "start_time": "2022-11-20T00:48:29.024Z"
   },
   {
    "duration": 17,
    "start_time": "2022-11-20T00:48:29.030Z"
   },
   {
    "duration": 17,
    "start_time": "2022-11-20T00:48:29.050Z"
   },
   {
    "duration": 13,
    "start_time": "2022-11-20T00:48:29.082Z"
   },
   {
    "duration": 8,
    "start_time": "2022-11-20T00:48:29.097Z"
   },
   {
    "duration": 12,
    "start_time": "2022-11-20T00:48:29.107Z"
   },
   {
    "duration": 558,
    "start_time": "2022-11-20T00:48:29.121Z"
   },
   {
    "duration": 4289,
    "start_time": "2022-11-20T00:48:29.682Z"
   },
   {
    "duration": 0,
    "start_time": "2022-11-20T00:48:33.973Z"
   },
   {
    "duration": 1,
    "start_time": "2022-11-20T00:48:33.977Z"
   },
   {
    "duration": 1473,
    "start_time": "2022-11-20T00:56:42.441Z"
   },
   {
    "duration": 911,
    "start_time": "2022-11-20T00:56:43.916Z"
   },
   {
    "duration": 137,
    "start_time": "2022-11-20T00:56:44.828Z"
   },
   {
    "duration": 34,
    "start_time": "2022-11-20T00:56:44.966Z"
   },
   {
    "duration": 12,
    "start_time": "2022-11-20T00:56:45.002Z"
   },
   {
    "duration": 108,
    "start_time": "2022-11-20T00:56:45.017Z"
   },
   {
    "duration": 23,
    "start_time": "2022-11-20T00:56:45.127Z"
   },
   {
    "duration": 8358,
    "start_time": "2022-11-20T00:56:45.152Z"
   },
   {
    "duration": 83,
    "start_time": "2022-11-20T00:56:53.512Z"
   },
   {
    "duration": 122,
    "start_time": "2022-11-20T00:56:53.597Z"
   },
   {
    "duration": 912,
    "start_time": "2022-11-20T00:56:53.720Z"
   },
   {
    "duration": 47,
    "start_time": "2022-11-20T00:56:54.634Z"
   },
   {
    "duration": 678,
    "start_time": "2022-11-20T00:56:54.683Z"
   },
   {
    "duration": 41,
    "start_time": "2022-11-20T00:56:55.364Z"
   },
   {
    "duration": 1699,
    "start_time": "2022-11-20T00:56:55.407Z"
   },
   {
    "duration": 32,
    "start_time": "2022-11-20T00:56:57.108Z"
   },
   {
    "duration": 185,
    "start_time": "2022-11-20T00:56:57.142Z"
   },
   {
    "duration": 90,
    "start_time": "2022-11-20T00:56:57.328Z"
   },
   {
    "duration": 19,
    "start_time": "2022-11-20T00:56:57.420Z"
   },
   {
    "duration": 18,
    "start_time": "2022-11-20T00:56:57.441Z"
   },
   {
    "duration": 80,
    "start_time": "2022-11-20T00:56:57.479Z"
   },
   {
    "duration": 27,
    "start_time": "2022-11-20T00:56:57.561Z"
   },
   {
    "duration": 21,
    "start_time": "2022-11-20T00:56:57.590Z"
   },
   {
    "duration": 25,
    "start_time": "2022-11-20T00:56:57.613Z"
   },
   {
    "duration": 4,
    "start_time": "2022-11-20T00:56:57.640Z"
   },
   {
    "duration": 36,
    "start_time": "2022-11-20T00:56:57.646Z"
   },
   {
    "duration": 9,
    "start_time": "2022-11-20T00:56:57.684Z"
   },
   {
    "duration": 13,
    "start_time": "2022-11-20T00:56:57.695Z"
   },
   {
    "duration": 6,
    "start_time": "2022-11-20T00:56:57.710Z"
   },
   {
    "duration": 11,
    "start_time": "2022-11-20T00:56:57.718Z"
   },
   {
    "duration": 556,
    "start_time": "2022-11-20T00:56:57.731Z"
   },
   {
    "duration": 4521,
    "start_time": "2022-11-20T00:56:58.380Z"
   },
   {
    "duration": 0,
    "start_time": "2022-11-20T00:57:02.903Z"
   },
   {
    "duration": 0,
    "start_time": "2022-11-20T00:57:02.905Z"
   },
   {
    "duration": 10,
    "start_time": "2022-11-20T00:57:39.866Z"
   },
   {
    "duration": 7985,
    "start_time": "2022-11-20T00:57:42.427Z"
   },
   {
    "duration": 51280,
    "start_time": "2022-11-20T00:57:52.498Z"
   },
   {
    "duration": 249780,
    "start_time": "2022-11-20T00:59:02.685Z"
   },
   {
    "duration": 17,
    "start_time": "2022-11-20T01:04:43.436Z"
   },
   {
    "duration": 593,
    "start_time": "2022-11-20T01:09:54.693Z"
   },
   {
    "duration": 14,
    "start_time": "2022-11-20T01:09:57.871Z"
   },
   {
    "duration": 74,
    "start_time": "2022-11-20T01:14:23.318Z"
   },
   {
    "duration": 72,
    "start_time": "2022-11-20T01:14:33.465Z"
   },
   {
    "duration": 10,
    "start_time": "2022-11-20T01:25:57.789Z"
   },
   {
    "duration": 3,
    "start_time": "2022-11-20T01:26:05.581Z"
   },
   {
    "duration": 16,
    "start_time": "2022-11-20T01:26:07.710Z"
   },
   {
    "duration": 76,
    "start_time": "2022-11-20T01:28:33.341Z"
   },
   {
    "duration": 12,
    "start_time": "2022-11-20T01:28:45.974Z"
   },
   {
    "duration": 12,
    "start_time": "2022-11-20T01:29:35.709Z"
   },
   {
    "duration": 18,
    "start_time": "2022-11-20T01:30:11.435Z"
   },
   {
    "duration": 80,
    "start_time": "2022-11-20T01:34:16.867Z"
   },
   {
    "duration": 6,
    "start_time": "2022-11-20T01:35:04.510Z"
   },
   {
    "duration": 10,
    "start_time": "2022-11-20T01:35:16.743Z"
   },
   {
    "duration": 15,
    "start_time": "2022-11-20T01:35:21.864Z"
   },
   {
    "duration": 1116,
    "start_time": "2022-11-20T01:37:35.309Z"
   },
   {
    "duration": 7,
    "start_time": "2022-11-20T01:38:32.890Z"
   },
   {
    "duration": 6,
    "start_time": "2022-11-20T01:39:01.552Z"
   },
   {
    "duration": 6,
    "start_time": "2022-11-20T01:39:09.088Z"
   },
   {
    "duration": 6,
    "start_time": "2022-11-20T01:39:39.061Z"
   },
   {
    "duration": 16,
    "start_time": "2022-11-20T01:41:38.198Z"
   },
   {
    "duration": 13,
    "start_time": "2022-11-20T01:44:26.476Z"
   },
   {
    "duration": 8,
    "start_time": "2022-11-20T01:44:32.226Z"
   },
   {
    "duration": 20593,
    "start_time": "2022-11-20T01:52:16.888Z"
   },
   {
    "duration": 17,
    "start_time": "2022-11-20T01:53:16.941Z"
   },
   {
    "duration": 1124,
    "start_time": "2022-11-20T01:53:22.401Z"
   },
   {
    "duration": 1095,
    "start_time": "2022-11-20T01:53:31.104Z"
   },
   {
    "duration": 55,
    "start_time": "2022-11-20T01:53:38.430Z"
   },
   {
    "duration": 83,
    "start_time": "2022-11-20T01:54:21.643Z"
   },
   {
    "duration": 24,
    "start_time": "2022-11-20T01:54:27.287Z"
   },
   {
    "duration": 1438,
    "start_time": "2022-11-20T01:58:07.542Z"
   },
   {
    "duration": 860,
    "start_time": "2022-11-20T01:58:08.982Z"
   },
   {
    "duration": 143,
    "start_time": "2022-11-20T01:58:09.846Z"
   },
   {
    "duration": 29,
    "start_time": "2022-11-20T01:58:09.991Z"
   },
   {
    "duration": 15,
    "start_time": "2022-11-20T01:58:10.021Z"
   },
   {
    "duration": 99,
    "start_time": "2022-11-20T01:58:10.037Z"
   },
   {
    "duration": 25,
    "start_time": "2022-11-20T01:58:10.137Z"
   },
   {
    "duration": 8337,
    "start_time": "2022-11-20T01:58:10.177Z"
   },
   {
    "duration": 87,
    "start_time": "2022-11-20T01:58:18.517Z"
   },
   {
    "duration": 124,
    "start_time": "2022-11-20T01:58:18.606Z"
   },
   {
    "duration": 876,
    "start_time": "2022-11-20T01:58:18.732Z"
   },
   {
    "duration": 39,
    "start_time": "2022-11-20T01:58:19.609Z"
   },
   {
    "duration": 683,
    "start_time": "2022-11-20T01:58:19.649Z"
   },
   {
    "duration": 35,
    "start_time": "2022-11-20T01:58:20.333Z"
   },
   {
    "duration": 1660,
    "start_time": "2022-11-20T01:58:20.377Z"
   },
   {
    "duration": 42,
    "start_time": "2022-11-20T01:58:22.038Z"
   },
   {
    "duration": 174,
    "start_time": "2022-11-20T01:58:22.082Z"
   },
   {
    "duration": 93,
    "start_time": "2022-11-20T01:58:22.258Z"
   },
   {
    "duration": 27,
    "start_time": "2022-11-20T01:58:22.352Z"
   },
   {
    "duration": 17,
    "start_time": "2022-11-20T01:58:22.381Z"
   },
   {
    "duration": 93,
    "start_time": "2022-11-20T01:58:22.400Z"
   },
   {
    "duration": 19,
    "start_time": "2022-11-20T01:58:22.495Z"
   },
   {
    "duration": 20,
    "start_time": "2022-11-20T01:58:22.516Z"
   },
   {
    "duration": 2,
    "start_time": "2022-11-20T01:58:22.538Z"
   },
   {
    "duration": 52,
    "start_time": "2022-11-20T01:58:22.542Z"
   },
   {
    "duration": 656,
    "start_time": "2022-11-20T01:58:22.596Z"
   },
   {
    "duration": 303,
    "start_time": "2022-11-20T01:58:23.255Z"
   },
   {
    "duration": 642,
    "start_time": "2022-11-20T01:58:23.560Z"
   },
   {
    "duration": 2,
    "start_time": "2022-11-20T01:58:24.204Z"
   },
   {
    "duration": 8,
    "start_time": "2022-11-20T01:58:24.208Z"
   },
   {
    "duration": 14562,
    "start_time": "2022-11-20T01:58:24.218Z"
   },
   {
    "duration": 1320176,
    "start_time": "2022-11-20T01:58:38.782Z"
   },
   {
    "duration": 800528,
    "start_time": "2022-11-20T02:20:38.960Z"
   },
   {
    "duration": 692439,
    "start_time": "2022-11-20T02:33:59.490Z"
   },
   {
    "duration": 3,
    "start_time": "2022-11-20T02:45:31.931Z"
   },
   {
    "duration": 13,
    "start_time": "2022-11-20T02:45:31.935Z"
   },
   {
    "duration": 1339,
    "start_time": "2022-11-20T02:45:31.950Z"
   },
   {
    "duration": 16,
    "start_time": "2022-11-20T02:48:42.309Z"
   },
   {
    "duration": 115,
    "start_time": "2022-11-20T02:51:23.385Z"
   },
   {
    "duration": 4,
    "start_time": "2022-11-20T02:51:34.655Z"
   },
   {
    "duration": 4,
    "start_time": "2022-11-20T02:51:47.642Z"
   },
   {
    "duration": 5,
    "start_time": "2022-11-20T02:52:20.938Z"
   },
   {
    "duration": 1476,
    "start_time": "2022-11-20T02:58:25.910Z"
   },
   {
    "duration": 904,
    "start_time": "2022-11-20T02:58:27.388Z"
   },
   {
    "duration": 136,
    "start_time": "2022-11-20T02:58:28.294Z"
   },
   {
    "duration": 23,
    "start_time": "2022-11-20T02:58:28.433Z"
   },
   {
    "duration": 33,
    "start_time": "2022-11-20T02:58:28.458Z"
   },
   {
    "duration": 92,
    "start_time": "2022-11-20T02:58:28.493Z"
   },
   {
    "duration": 23,
    "start_time": "2022-11-20T02:58:28.586Z"
   },
   {
    "duration": 8320,
    "start_time": "2022-11-20T02:58:28.610Z"
   },
   {
    "duration": 96,
    "start_time": "2022-11-20T02:58:36.931Z"
   },
   {
    "duration": 134,
    "start_time": "2022-11-20T02:58:37.031Z"
   },
   {
    "duration": 854,
    "start_time": "2022-11-20T02:58:37.167Z"
   },
   {
    "duration": 38,
    "start_time": "2022-11-20T02:58:38.023Z"
   },
   {
    "duration": 687,
    "start_time": "2022-11-20T02:58:38.063Z"
   },
   {
    "duration": 45,
    "start_time": "2022-11-20T02:58:38.752Z"
   },
   {
    "duration": 1708,
    "start_time": "2022-11-20T02:58:38.799Z"
   },
   {
    "duration": 77,
    "start_time": "2022-11-20T02:58:40.509Z"
   },
   {
    "duration": 1,
    "start_time": "2022-11-20T02:58:40.588Z"
   },
   {
    "duration": 0,
    "start_time": "2022-11-20T02:58:40.590Z"
   },
   {
    "duration": 0,
    "start_time": "2022-11-20T02:58:40.591Z"
   },
   {
    "duration": 0,
    "start_time": "2022-11-20T02:58:40.592Z"
   },
   {
    "duration": 0,
    "start_time": "2022-11-20T02:58:40.593Z"
   },
   {
    "duration": 0,
    "start_time": "2022-11-20T02:58:40.594Z"
   },
   {
    "duration": 0,
    "start_time": "2022-11-20T02:58:40.595Z"
   },
   {
    "duration": 0,
    "start_time": "2022-11-20T02:58:40.596Z"
   },
   {
    "duration": 0,
    "start_time": "2022-11-20T02:58:40.597Z"
   },
   {
    "duration": 0,
    "start_time": "2022-11-20T02:58:40.598Z"
   },
   {
    "duration": 0,
    "start_time": "2022-11-20T02:58:40.599Z"
   },
   {
    "duration": 0,
    "start_time": "2022-11-20T02:58:40.600Z"
   },
   {
    "duration": 0,
    "start_time": "2022-11-20T02:58:40.601Z"
   },
   {
    "duration": 0,
    "start_time": "2022-11-20T02:58:40.602Z"
   },
   {
    "duration": 0,
    "start_time": "2022-11-20T02:58:40.603Z"
   },
   {
    "duration": 0,
    "start_time": "2022-11-20T02:58:40.605Z"
   },
   {
    "duration": 0,
    "start_time": "2022-11-20T02:58:40.606Z"
   },
   {
    "duration": 0,
    "start_time": "2022-11-20T02:58:40.607Z"
   },
   {
    "duration": 0,
    "start_time": "2022-11-20T02:58:40.608Z"
   },
   {
    "duration": 0,
    "start_time": "2022-11-20T02:58:40.609Z"
   },
   {
    "duration": 0,
    "start_time": "2022-11-20T02:58:40.610Z"
   },
   {
    "duration": 0,
    "start_time": "2022-11-20T02:58:40.611Z"
   },
   {
    "duration": 0,
    "start_time": "2022-11-20T02:58:40.612Z"
   },
   {
    "duration": 0,
    "start_time": "2022-11-20T02:58:40.614Z"
   },
   {
    "duration": 0,
    "start_time": "2022-11-20T02:58:40.615Z"
   },
   {
    "duration": 1505,
    "start_time": "2022-11-20T02:59:21.615Z"
   },
   {
    "duration": 921,
    "start_time": "2022-11-20T02:59:23.122Z"
   },
   {
    "duration": 147,
    "start_time": "2022-11-20T02:59:24.044Z"
   },
   {
    "duration": 28,
    "start_time": "2022-11-20T02:59:24.192Z"
   },
   {
    "duration": 16,
    "start_time": "2022-11-20T02:59:24.222Z"
   },
   {
    "duration": 102,
    "start_time": "2022-11-20T02:59:24.240Z"
   },
   {
    "duration": 36,
    "start_time": "2022-11-20T02:59:24.343Z"
   },
   {
    "duration": 8197,
    "start_time": "2022-11-20T02:59:24.381Z"
   },
   {
    "duration": 82,
    "start_time": "2022-11-20T02:59:32.580Z"
   },
   {
    "duration": 136,
    "start_time": "2022-11-20T02:59:32.663Z"
   },
   {
    "duration": 886,
    "start_time": "2022-11-20T02:59:32.801Z"
   },
   {
    "duration": 40,
    "start_time": "2022-11-20T02:59:33.688Z"
   },
   {
    "duration": 706,
    "start_time": "2022-11-20T02:59:33.729Z"
   },
   {
    "duration": 46,
    "start_time": "2022-11-20T02:59:34.438Z"
   },
   {
    "duration": 1693,
    "start_time": "2022-11-20T02:59:34.486Z"
   },
   {
    "duration": 31,
    "start_time": "2022-11-20T02:59:36.181Z"
   },
   {
    "duration": 176,
    "start_time": "2022-11-20T02:59:36.213Z"
   },
   {
    "duration": 93,
    "start_time": "2022-11-20T02:59:36.390Z"
   },
   {
    "duration": 20,
    "start_time": "2022-11-20T02:59:36.484Z"
   },
   {
    "duration": 17,
    "start_time": "2022-11-20T02:59:36.506Z"
   },
   {
    "duration": 103,
    "start_time": "2022-11-20T02:59:36.525Z"
   },
   {
    "duration": 19,
    "start_time": "2022-11-20T02:59:36.630Z"
   },
   {
    "duration": 30,
    "start_time": "2022-11-20T02:59:36.650Z"
   },
   {
    "duration": 19,
    "start_time": "2022-11-20T02:59:36.682Z"
   },
   {
    "duration": 5,
    "start_time": "2022-11-20T02:59:36.703Z"
   },
   {
    "duration": 12,
    "start_time": "2022-11-20T02:59:36.710Z"
   },
   {
    "duration": 9,
    "start_time": "2022-11-20T02:59:36.724Z"
   },
   {
    "duration": 11,
    "start_time": "2022-11-20T02:59:36.734Z"
   },
   {
    "duration": 4,
    "start_time": "2022-11-20T02:59:36.778Z"
   },
   {
    "duration": 7,
    "start_time": "2022-11-20T02:59:36.784Z"
   },
   {
    "duration": 10,
    "start_time": "2022-11-20T02:59:36.793Z"
   },
   {
    "duration": 288,
    "start_time": "2022-11-20T02:59:36.804Z"
   },
   {
    "duration": 7545,
    "start_time": "2022-11-20T02:59:37.094Z"
   },
   {
    "duration": 50041,
    "start_time": "2022-11-20T02:59:44.641Z"
   },
   {
    "duration": 245753,
    "start_time": "2022-11-20T03:00:34.684Z"
   },
   {
    "duration": 3,
    "start_time": "2022-11-20T03:04:40.439Z"
   },
   {
    "duration": 23,
    "start_time": "2022-11-20T03:04:40.444Z"
   },
   {
    "duration": 24,
    "start_time": "2022-11-20T03:04:40.469Z"
   },
   {
    "duration": 29,
    "start_time": "2022-11-20T03:04:40.495Z"
   },
   {
    "duration": 58,
    "start_time": "2022-11-20T03:04:40.526Z"
   },
   {
    "duration": 13,
    "start_time": "2022-11-20T03:11:29.720Z"
   },
   {
    "duration": 5,
    "start_time": "2022-11-20T03:12:12.564Z"
   },
   {
    "duration": 114,
    "start_time": "2022-11-20T03:12:31.184Z"
   },
   {
    "duration": 13,
    "start_time": "2022-11-20T03:12:39.664Z"
   },
   {
    "duration": 14,
    "start_time": "2022-11-20T03:12:56.212Z"
   },
   {
    "duration": 13,
    "start_time": "2022-11-20T03:13:27.342Z"
   },
   {
    "duration": 15,
    "start_time": "2022-11-20T03:14:38.662Z"
   },
   {
    "duration": 13,
    "start_time": "2022-11-20T03:14:48.527Z"
   },
   {
    "duration": 9,
    "start_time": "2022-11-20T03:19:44.546Z"
   },
   {
    "duration": 1564,
    "start_time": "2022-11-20T03:20:04.287Z"
   },
   {
    "duration": 922,
    "start_time": "2022-11-20T03:20:05.854Z"
   },
   {
    "duration": 147,
    "start_time": "2022-11-20T03:20:06.779Z"
   },
   {
    "duration": 28,
    "start_time": "2022-11-20T03:20:06.927Z"
   },
   {
    "duration": 24,
    "start_time": "2022-11-20T03:20:06.957Z"
   },
   {
    "duration": 101,
    "start_time": "2022-11-20T03:20:06.983Z"
   },
   {
    "duration": 28,
    "start_time": "2022-11-20T03:20:07.085Z"
   },
   {
    "duration": 8210,
    "start_time": "2022-11-20T03:20:07.115Z"
   },
   {
    "duration": 83,
    "start_time": "2022-11-20T03:20:15.327Z"
   },
   {
    "duration": 123,
    "start_time": "2022-11-20T03:20:15.411Z"
   },
   {
    "duration": 845,
    "start_time": "2022-11-20T03:20:15.535Z"
   },
   {
    "duration": 40,
    "start_time": "2022-11-20T03:20:16.382Z"
   },
   {
    "duration": 688,
    "start_time": "2022-11-20T03:20:16.423Z"
   },
   {
    "duration": 37,
    "start_time": "2022-11-20T03:20:17.114Z"
   },
   {
    "duration": 1682,
    "start_time": "2022-11-20T03:20:17.153Z"
   },
   {
    "duration": 30,
    "start_time": "2022-11-20T03:20:18.837Z"
   },
   {
    "duration": 191,
    "start_time": "2022-11-20T03:20:18.869Z"
   },
   {
    "duration": 90,
    "start_time": "2022-11-20T03:20:19.062Z"
   },
   {
    "duration": 28,
    "start_time": "2022-11-20T03:20:19.154Z"
   },
   {
    "duration": 18,
    "start_time": "2022-11-20T03:20:19.183Z"
   },
   {
    "duration": 93,
    "start_time": "2022-11-20T03:20:19.202Z"
   },
   {
    "duration": 18,
    "start_time": "2022-11-20T03:20:19.296Z"
   },
   {
    "duration": 20,
    "start_time": "2022-11-20T03:20:19.316Z"
   },
   {
    "duration": 21,
    "start_time": "2022-11-20T03:20:19.338Z"
   },
   {
    "duration": 5,
    "start_time": "2022-11-20T03:20:19.377Z"
   },
   {
    "duration": 14,
    "start_time": "2022-11-20T03:20:19.384Z"
   },
   {
    "duration": 9,
    "start_time": "2022-11-20T03:20:19.400Z"
   },
   {
    "duration": 14,
    "start_time": "2022-11-20T03:20:19.410Z"
   },
   {
    "duration": 14,
    "start_time": "2022-11-20T03:20:19.426Z"
   },
   {
    "duration": 7,
    "start_time": "2022-11-20T03:20:19.441Z"
   },
   {
    "duration": 34,
    "start_time": "2022-11-20T03:20:19.450Z"
   },
   {
    "duration": 296,
    "start_time": "2022-11-20T03:20:19.486Z"
   },
   {
    "duration": 7369,
    "start_time": "2022-11-20T03:20:19.784Z"
   },
   {
    "duration": 47836,
    "start_time": "2022-11-20T03:20:27.154Z"
   },
   {
    "duration": 4,
    "start_time": "2022-11-20T03:21:14.992Z"
   },
   {
    "duration": 3,
    "start_time": "2022-11-20T03:21:15.078Z"
   },
   {
    "duration": 12,
    "start_time": "2022-11-20T03:21:15.083Z"
   },
   {
    "duration": 8,
    "start_time": "2022-11-20T03:21:15.097Z"
   },
   {
    "duration": 17,
    "start_time": "2022-11-20T03:21:15.106Z"
   },
   {
    "duration": 63,
    "start_time": "2022-11-20T03:21:15.125Z"
   },
   {
    "duration": 112,
    "start_time": "2022-11-20T03:26:33.640Z"
   },
   {
    "duration": 4,
    "start_time": "2022-11-20T03:27:30.735Z"
   },
   {
    "duration": 529,
    "start_time": "2022-11-20T03:27:37.817Z"
   },
   {
    "duration": 18,
    "start_time": "2022-11-20T03:27:44.115Z"
   },
   {
    "duration": 18,
    "start_time": "2022-11-20T03:28:03.905Z"
   },
   {
    "duration": 4,
    "start_time": "2022-11-20T03:31:56.705Z"
   },
   {
    "duration": 4,
    "start_time": "2022-11-20T03:33:09.178Z"
   },
   {
    "duration": 325380,
    "start_time": "2022-11-20T03:33:18.219Z"
   },
   {
    "duration": 24,
    "start_time": "2022-11-20T03:39:50.042Z"
   },
   {
    "duration": 21,
    "start_time": "2022-11-20T03:41:32.986Z"
   },
   {
    "duration": 20,
    "start_time": "2022-11-20T03:42:43.679Z"
   },
   {
    "duration": 3,
    "start_time": "2022-11-20T03:43:01.433Z"
   },
   {
    "duration": 24,
    "start_time": "2022-11-20T03:43:02.759Z"
   },
   {
    "duration": 1585,
    "start_time": "2022-11-20T03:48:35.200Z"
   },
   {
    "duration": 943,
    "start_time": "2022-11-20T03:48:36.786Z"
   },
   {
    "duration": 150,
    "start_time": "2022-11-20T03:48:37.730Z"
   },
   {
    "duration": 28,
    "start_time": "2022-11-20T03:48:37.883Z"
   },
   {
    "duration": 15,
    "start_time": "2022-11-20T03:48:37.913Z"
   },
   {
    "duration": 105,
    "start_time": "2022-11-20T03:48:37.930Z"
   },
   {
    "duration": 41,
    "start_time": "2022-11-20T03:48:38.037Z"
   },
   {
    "duration": 8346,
    "start_time": "2022-11-20T03:48:38.080Z"
   },
   {
    "duration": 89,
    "start_time": "2022-11-20T03:48:46.427Z"
   },
   {
    "duration": 125,
    "start_time": "2022-11-20T03:48:46.519Z"
   },
   {
    "duration": 875,
    "start_time": "2022-11-20T03:48:46.646Z"
   },
   {
    "duration": 40,
    "start_time": "2022-11-20T03:48:47.523Z"
   },
   {
    "duration": 703,
    "start_time": "2022-11-20T03:48:47.565Z"
   },
   {
    "duration": 43,
    "start_time": "2022-11-20T03:48:48.270Z"
   },
   {
    "duration": 1722,
    "start_time": "2022-11-20T03:48:48.314Z"
   },
   {
    "duration": 40,
    "start_time": "2022-11-20T03:48:50.038Z"
   },
   {
    "duration": 174,
    "start_time": "2022-11-20T03:48:50.080Z"
   },
   {
    "duration": 88,
    "start_time": "2022-11-20T03:48:50.256Z"
   },
   {
    "duration": 19,
    "start_time": "2022-11-20T03:48:50.346Z"
   },
   {
    "duration": 18,
    "start_time": "2022-11-20T03:48:50.378Z"
   },
   {
    "duration": 101,
    "start_time": "2022-11-20T03:48:50.398Z"
   },
   {
    "duration": 19,
    "start_time": "2022-11-20T03:48:50.501Z"
   },
   {
    "duration": 21,
    "start_time": "2022-11-20T03:48:50.521Z"
   },
   {
    "duration": 3,
    "start_time": "2022-11-20T03:48:50.543Z"
   },
   {
    "duration": 51,
    "start_time": "2022-11-20T03:48:50.548Z"
   },
   {
    "duration": 861,
    "start_time": "2022-11-20T03:48:50.601Z"
   },
   {
    "duration": 304,
    "start_time": "2022-11-20T03:48:51.464Z"
   },
   {
    "duration": 642,
    "start_time": "2022-11-20T03:48:51.772Z"
   },
   {
    "duration": 3,
    "start_time": "2022-11-20T03:48:52.416Z"
   },
   {
    "duration": 9,
    "start_time": "2022-11-20T03:48:52.421Z"
   },
   {
    "duration": 14946,
    "start_time": "2022-11-20T03:48:52.433Z"
   },
   {
    "duration": 1281463,
    "start_time": "2022-11-20T03:49:07.381Z"
   },
   {
    "duration": 753943,
    "start_time": "2022-11-20T04:10:28.845Z"
   },
   {
    "duration": 669711,
    "start_time": "2022-11-20T04:23:02.790Z"
   },
   {
    "duration": 11488184,
    "start_time": "2022-11-20T04:34:12.503Z"
   },
   {
    "duration": 4,
    "start_time": "2022-11-20T07:45:40.688Z"
   },
   {
    "duration": 28,
    "start_time": "2022-11-20T07:45:40.693Z"
   },
   {
    "duration": 8,
    "start_time": "2022-11-20T07:45:40.722Z"
   },
   {
    "duration": 135,
    "start_time": "2022-11-20T07:45:40.779Z"
   },
   {
    "duration": 1204,
    "start_time": "2022-11-20T10:41:58.835Z"
   },
   {
    "duration": 1598,
    "start_time": "2022-11-20T10:42:33.492Z"
   },
   {
    "duration": 890,
    "start_time": "2022-11-20T10:42:35.092Z"
   },
   {
    "duration": 150,
    "start_time": "2022-11-20T10:42:35.983Z"
   },
   {
    "duration": 42,
    "start_time": "2022-11-20T10:42:36.136Z"
   },
   {
    "duration": 15,
    "start_time": "2022-11-20T10:42:36.180Z"
   },
   {
    "duration": 106,
    "start_time": "2022-11-20T10:42:36.197Z"
   },
   {
    "duration": 29,
    "start_time": "2022-11-20T10:42:36.305Z"
   },
   {
    "duration": 8706,
    "start_time": "2022-11-20T10:42:36.335Z"
   },
   {
    "duration": 92,
    "start_time": "2022-11-20T10:42:45.043Z"
   },
   {
    "duration": 123,
    "start_time": "2022-11-20T10:42:45.140Z"
   },
   {
    "duration": 858,
    "start_time": "2022-11-20T10:42:45.265Z"
   },
   {
    "duration": 53,
    "start_time": "2022-11-20T10:42:46.125Z"
   },
   {
    "duration": 665,
    "start_time": "2022-11-20T10:42:46.180Z"
   },
   {
    "duration": 42,
    "start_time": "2022-11-20T10:42:46.846Z"
   },
   {
    "duration": 1681,
    "start_time": "2022-11-20T10:42:46.890Z"
   },
   {
    "duration": 33,
    "start_time": "2022-11-20T10:42:48.573Z"
   },
   {
    "duration": 180,
    "start_time": "2022-11-20T10:42:48.607Z"
   },
   {
    "duration": 92,
    "start_time": "2022-11-20T10:42:48.789Z"
   },
   {
    "duration": 18,
    "start_time": "2022-11-20T10:42:48.883Z"
   },
   {
    "duration": 19,
    "start_time": "2022-11-20T10:42:48.903Z"
   },
   {
    "duration": 113,
    "start_time": "2022-11-20T10:42:48.924Z"
   },
   {
    "duration": 22,
    "start_time": "2022-11-20T10:42:49.040Z"
   },
   {
    "duration": 24,
    "start_time": "2022-11-20T10:42:49.077Z"
   },
   {
    "duration": 2,
    "start_time": "2022-11-20T10:42:49.103Z"
   },
   {
    "duration": 28,
    "start_time": "2022-11-20T10:42:49.107Z"
   },
   {
    "duration": 819,
    "start_time": "2022-11-20T10:42:49.136Z"
   },
   {
    "duration": 292,
    "start_time": "2022-11-20T10:42:49.957Z"
   },
   {
    "duration": 627,
    "start_time": "2022-11-20T10:42:50.253Z"
   },
   {
    "duration": 3,
    "start_time": "2022-11-20T10:42:50.882Z"
   },
   {
    "duration": 11,
    "start_time": "2022-11-20T10:42:50.887Z"
   },
   {
    "duration": 14779,
    "start_time": "2022-11-20T10:42:50.899Z"
   },
   {
    "duration": 1129927,
    "start_time": "2022-11-20T10:43:05.681Z"
   },
   {
    "duration": 0,
    "start_time": "2022-11-20T11:01:55.610Z"
   },
   {
    "duration": 0,
    "start_time": "2022-11-20T11:01:55.611Z"
   },
   {
    "duration": 0,
    "start_time": "2022-11-20T11:01:55.613Z"
   },
   {
    "duration": 0,
    "start_time": "2022-11-20T11:01:55.614Z"
   },
   {
    "duration": 0,
    "start_time": "2022-11-20T11:01:55.615Z"
   },
   {
    "duration": 0,
    "start_time": "2022-11-20T11:01:55.616Z"
   },
   {
    "duration": 0,
    "start_time": "2022-11-20T11:01:55.617Z"
   },
   {
    "duration": 0,
    "start_time": "2022-11-20T11:01:55.618Z"
   },
   {
    "duration": 4,
    "start_time": "2022-11-20T11:02:00.932Z"
   },
   {
    "duration": 1538,
    "start_time": "2022-11-20T11:04:16.543Z"
   },
   {
    "duration": 947,
    "start_time": "2022-11-20T11:04:18.083Z"
   },
   {
    "duration": 165,
    "start_time": "2022-11-20T11:04:19.032Z"
   },
   {
    "duration": 29,
    "start_time": "2022-11-20T11:04:19.199Z"
   },
   {
    "duration": 16,
    "start_time": "2022-11-20T11:04:19.231Z"
   },
   {
    "duration": 107,
    "start_time": "2022-11-20T11:04:19.249Z"
   },
   {
    "duration": 33,
    "start_time": "2022-11-20T11:04:19.358Z"
   },
   {
    "duration": 8446,
    "start_time": "2022-11-20T11:04:19.392Z"
   },
   {
    "duration": 85,
    "start_time": "2022-11-20T11:04:27.840Z"
   },
   {
    "duration": 121,
    "start_time": "2022-11-20T11:04:27.927Z"
   },
   {
    "duration": 884,
    "start_time": "2022-11-20T11:04:28.050Z"
   },
   {
    "duration": 43,
    "start_time": "2022-11-20T11:04:28.935Z"
   },
   {
    "duration": 675,
    "start_time": "2022-11-20T11:04:28.980Z"
   },
   {
    "duration": 41,
    "start_time": "2022-11-20T11:04:29.658Z"
   },
   {
    "duration": 1730,
    "start_time": "2022-11-20T11:04:29.701Z"
   },
   {
    "duration": 29,
    "start_time": "2022-11-20T11:04:31.433Z"
   },
   {
    "duration": 183,
    "start_time": "2022-11-20T11:04:31.464Z"
   },
   {
    "duration": 93,
    "start_time": "2022-11-20T11:04:31.648Z"
   },
   {
    "duration": 18,
    "start_time": "2022-11-20T11:04:31.743Z"
   },
   {
    "duration": 31,
    "start_time": "2022-11-20T11:04:31.763Z"
   },
   {
    "duration": 90,
    "start_time": "2022-11-20T11:04:31.796Z"
   },
   {
    "duration": 18,
    "start_time": "2022-11-20T11:04:31.887Z"
   },
   {
    "duration": 20,
    "start_time": "2022-11-20T11:04:31.906Z"
   },
   {
    "duration": 3,
    "start_time": "2022-11-20T11:04:31.927Z"
   },
   {
    "duration": 47,
    "start_time": "2022-11-20T11:04:31.931Z"
   },
   {
    "duration": 750,
    "start_time": "2022-11-20T11:04:31.980Z"
   },
   {
    "duration": 341,
    "start_time": "2022-11-20T11:04:32.732Z"
   },
   {
    "duration": 632,
    "start_time": "2022-11-20T11:04:33.075Z"
   },
   {
    "duration": 2,
    "start_time": "2022-11-20T11:04:33.710Z"
   },
   {
    "duration": 10,
    "start_time": "2022-11-20T11:04:33.714Z"
   },
   {
    "duration": 14653,
    "start_time": "2022-11-20T11:04:33.726Z"
   },
   {
    "duration": 52332,
    "start_time": "2022-11-20T11:04:48.381Z"
   },
   {
    "duration": 1312704,
    "start_time": "2022-11-20T11:05:40.715Z"
   },
   {
    "duration": 833457,
    "start_time": "2022-11-20T11:27:33.421Z"
   },
   {
    "duration": 683064,
    "start_time": "2022-11-20T11:41:26.881Z"
   },
   {
    "duration": 9402369,
    "start_time": "2022-11-20T11:52:49.947Z"
   },
   {
    "duration": 0,
    "start_time": "2022-11-20T14:29:32.318Z"
   },
   {
    "duration": 0,
    "start_time": "2022-11-20T14:29:32.319Z"
   },
   {
    "duration": 0,
    "start_time": "2022-11-20T14:29:32.320Z"
   },
   {
    "duration": 0,
    "start_time": "2022-11-20T14:29:32.321Z"
   },
   {
    "duration": 3,
    "start_time": "2022-11-20T14:30:05.476Z"
   },
   {
    "duration": 21,
    "start_time": "2022-11-20T14:30:06.694Z"
   },
   {
    "duration": 8,
    "start_time": "2022-11-20T14:31:43.146Z"
   },
   {
    "duration": 8,
    "start_time": "2022-11-20T14:32:20.973Z"
   },
   {
    "duration": 215,
    "start_time": "2022-11-20T14:32:29.371Z"
   },
   {
    "duration": 1608,
    "start_time": "2022-11-20T14:32:58.964Z"
   },
   {
    "duration": 941,
    "start_time": "2022-11-20T14:33:00.574Z"
   },
   {
    "duration": 138,
    "start_time": "2022-11-20T14:33:01.517Z"
   },
   {
    "duration": 29,
    "start_time": "2022-11-20T14:33:01.657Z"
   },
   {
    "duration": 18,
    "start_time": "2022-11-20T14:33:01.689Z"
   },
   {
    "duration": 95,
    "start_time": "2022-11-20T14:33:01.709Z"
   },
   {
    "duration": 27,
    "start_time": "2022-11-20T14:33:01.806Z"
   },
   {
    "duration": 8534,
    "start_time": "2022-11-20T14:33:01.835Z"
   },
   {
    "duration": 82,
    "start_time": "2022-11-20T14:33:10.371Z"
   },
   {
    "duration": 133,
    "start_time": "2022-11-20T14:33:10.454Z"
   },
   {
    "duration": 861,
    "start_time": "2022-11-20T14:33:10.589Z"
   },
   {
    "duration": 43,
    "start_time": "2022-11-20T14:33:11.451Z"
   },
   {
    "duration": 689,
    "start_time": "2022-11-20T14:33:11.496Z"
   },
   {
    "duration": 34,
    "start_time": "2022-11-20T14:33:12.188Z"
   },
   {
    "duration": 1759,
    "start_time": "2022-11-20T14:33:12.224Z"
   },
   {
    "duration": 41,
    "start_time": "2022-11-20T14:33:13.985Z"
   },
   {
    "duration": 225,
    "start_time": "2022-11-20T14:33:14.028Z"
   },
   {
    "duration": 91,
    "start_time": "2022-11-20T14:33:14.254Z"
   },
   {
    "duration": 19,
    "start_time": "2022-11-20T14:33:14.346Z"
   },
   {
    "duration": 19,
    "start_time": "2022-11-20T14:33:14.377Z"
   },
   {
    "duration": 97,
    "start_time": "2022-11-20T14:33:14.398Z"
   },
   {
    "duration": 21,
    "start_time": "2022-11-20T14:33:14.497Z"
   },
   {
    "duration": 21,
    "start_time": "2022-11-20T14:33:14.520Z"
   },
   {
    "duration": 3,
    "start_time": "2022-11-20T14:33:14.543Z"
   },
   {
    "duration": 47,
    "start_time": "2022-11-20T14:33:14.548Z"
   },
   {
    "duration": 898,
    "start_time": "2022-11-20T14:33:14.597Z"
   },
   {
    "duration": 307,
    "start_time": "2022-11-20T14:33:15.496Z"
   },
   {
    "duration": 631,
    "start_time": "2022-11-20T14:33:15.805Z"
   },
   {
    "duration": 3,
    "start_time": "2022-11-20T14:33:16.438Z"
   },
   {
    "duration": 10,
    "start_time": "2022-11-20T14:33:16.442Z"
   },
   {
    "duration": 52948,
    "start_time": "2022-11-20T14:33:16.453Z"
   },
   {
    "duration": 1314257,
    "start_time": "2022-11-20T14:34:09.403Z"
   },
   {
    "duration": 847628,
    "start_time": "2022-11-20T14:56:03.662Z"
   },
   {
    "duration": 687323,
    "start_time": "2022-11-20T15:10:11.292Z"
   },
   {
    "duration": 5,
    "start_time": "2022-11-20T15:21:38.617Z"
   },
   {
    "duration": 7,
    "start_time": "2022-11-20T15:21:38.624Z"
   },
   {
    "duration": 21,
    "start_time": "2022-11-20T15:21:38.632Z"
   },
   {
    "duration": 8,
    "start_time": "2022-11-20T15:21:38.654Z"
   },
   {
    "duration": 201,
    "start_time": "2022-11-20T15:21:38.663Z"
   },
   {
    "duration": 1640,
    "start_time": "2022-11-20T22:29:43.159Z"
   },
   {
    "duration": 913,
    "start_time": "2022-11-20T22:29:44.801Z"
   },
   {
    "duration": 132,
    "start_time": "2022-11-20T22:29:45.716Z"
   },
   {
    "duration": 36,
    "start_time": "2022-11-20T22:29:45.850Z"
   },
   {
    "duration": 12,
    "start_time": "2022-11-20T22:29:45.889Z"
   },
   {
    "duration": 103,
    "start_time": "2022-11-20T22:29:45.903Z"
   },
   {
    "duration": 31,
    "start_time": "2022-11-20T22:29:46.008Z"
   },
   {
    "duration": 8496,
    "start_time": "2022-11-20T22:29:46.041Z"
   },
   {
    "duration": 85,
    "start_time": "2022-11-20T22:29:54.538Z"
   },
   {
    "duration": 124,
    "start_time": "2022-11-20T22:29:54.625Z"
   },
   {
    "duration": 867,
    "start_time": "2022-11-20T22:29:54.751Z"
   },
   {
    "duration": 39,
    "start_time": "2022-11-20T22:29:55.620Z"
   },
   {
    "duration": 692,
    "start_time": "2022-11-20T22:29:55.661Z"
   },
   {
    "duration": 42,
    "start_time": "2022-11-20T22:29:56.357Z"
   },
   {
    "duration": 1688,
    "start_time": "2022-11-20T22:29:56.401Z"
   },
   {
    "duration": 33,
    "start_time": "2022-11-20T22:29:58.091Z"
   },
   {
    "duration": 182,
    "start_time": "2022-11-20T22:29:58.126Z"
   },
   {
    "duration": 101,
    "start_time": "2022-11-20T22:29:58.310Z"
   },
   {
    "duration": 20,
    "start_time": "2022-11-20T22:29:58.412Z"
   },
   {
    "duration": 23,
    "start_time": "2022-11-20T22:29:58.435Z"
   },
   {
    "duration": 99,
    "start_time": "2022-11-20T22:29:58.460Z"
   },
   {
    "duration": 23,
    "start_time": "2022-11-20T22:29:58.561Z"
   },
   {
    "duration": 20,
    "start_time": "2022-11-20T22:29:58.586Z"
   },
   {
    "duration": 3,
    "start_time": "2022-11-20T22:29:58.608Z"
   },
   {
    "duration": 24,
    "start_time": "2022-11-20T22:29:58.612Z"
   },
   {
    "duration": 886,
    "start_time": "2022-11-20T22:29:58.637Z"
   },
   {
    "duration": 305,
    "start_time": "2022-11-20T22:29:59.525Z"
   },
   {
    "duration": 648,
    "start_time": "2022-11-20T22:29:59.832Z"
   },
   {
    "duration": 3,
    "start_time": "2022-11-20T22:30:00.481Z"
   },
   {
    "duration": 19,
    "start_time": "2022-11-20T22:30:00.486Z"
   },
   {
    "duration": 53696,
    "start_time": "2022-11-20T22:30:00.506Z"
   },
   {
    "duration": 1332560,
    "start_time": "2022-11-20T22:30:54.203Z"
   },
   {
    "duration": 1509213,
    "start_time": "2022-11-20T22:53:06.765Z"
   },
   {
    "duration": 672961,
    "start_time": "2022-11-20T23:18:15.980Z"
   },
   {
    "duration": 4,
    "start_time": "2022-11-20T23:29:28.943Z"
   },
   {
    "duration": 5,
    "start_time": "2022-11-20T23:29:28.949Z"
   },
   {
    "duration": 22,
    "start_time": "2022-11-20T23:29:28.956Z"
   },
   {
    "duration": 8,
    "start_time": "2022-11-20T23:29:28.980Z"
   },
   {
    "duration": 232,
    "start_time": "2022-11-20T23:29:28.990Z"
   },
   {
    "duration": 1831,
    "start_time": "2022-11-22T02:27:16.987Z"
   },
   {
    "duration": 762,
    "start_time": "2022-11-22T02:27:18.820Z"
   },
   {
    "duration": 130,
    "start_time": "2022-11-22T02:27:20.644Z"
   },
   {
    "duration": 25,
    "start_time": "2022-11-22T02:27:35.533Z"
   },
   {
    "duration": 10,
    "start_time": "2022-11-22T02:27:36.258Z"
   },
   {
    "duration": 10,
    "start_time": "2022-11-22T02:28:22.902Z"
   },
   {
    "duration": 82,
    "start_time": "2022-11-22T02:28:23.983Z"
   },
   {
    "duration": 23,
    "start_time": "2022-11-22T02:28:31.389Z"
   },
   {
    "duration": 7423,
    "start_time": "2022-11-22T02:29:53.176Z"
   },
   {
    "duration": 774,
    "start_time": "2022-11-22T02:30:47.321Z"
   },
   {
    "duration": 21,
    "start_time": "2022-11-22T02:30:53.144Z"
   },
   {
    "duration": 174,
    "start_time": "2022-11-22T02:31:05.372Z"
   },
   {
    "duration": 11,
    "start_time": "2022-11-22T02:31:43.619Z"
   },
   {
    "duration": 78,
    "start_time": "2022-11-22T02:31:44.466Z"
   },
   {
    "duration": 21,
    "start_time": "2022-11-22T02:31:46.218Z"
   },
   {
    "duration": 7446,
    "start_time": "2022-11-22T02:31:46.942Z"
   },
   {
    "duration": 76,
    "start_time": "2022-11-22T02:31:54.390Z"
   },
   {
    "duration": 107,
    "start_time": "2022-11-22T02:31:56.347Z"
   },
   {
    "duration": 743,
    "start_time": "2022-11-22T02:32:26.494Z"
   },
   {
    "duration": 35,
    "start_time": "2022-11-22T02:32:34.649Z"
   },
   {
    "duration": 576,
    "start_time": "2022-11-22T02:33:58.621Z"
   },
   {
    "duration": 653,
    "start_time": "2022-11-22T02:34:29.893Z"
   },
   {
    "duration": 37,
    "start_time": "2022-11-22T02:34:35.294Z"
   },
   {
    "duration": 1511,
    "start_time": "2022-11-22T02:34:57.534Z"
   },
   {
    "duration": 32,
    "start_time": "2022-11-22T02:35:05.111Z"
   },
   {
    "duration": 142,
    "start_time": "2022-11-22T02:35:26.284Z"
   },
   {
    "duration": 75,
    "start_time": "2022-11-22T02:35:31.164Z"
   },
   {
    "duration": 16,
    "start_time": "2022-11-22T02:35:33.918Z"
   },
   {
    "duration": 27,
    "start_time": "2022-11-22T02:35:34.331Z"
   },
   {
    "duration": 74,
    "start_time": "2022-11-22T02:35:57.904Z"
   },
   {
    "duration": 17,
    "start_time": "2022-11-22T02:36:07.311Z"
   },
   {
    "duration": 18,
    "start_time": "2022-11-22T02:36:07.847Z"
   },
   {
    "duration": 2,
    "start_time": "2022-11-22T02:36:11.356Z"
   },
   {
    "duration": 22,
    "start_time": "2022-11-22T02:36:14.420Z"
   },
   {
    "duration": 503,
    "start_time": "2022-11-22T02:36:21.429Z"
   },
   {
    "duration": 33,
    "start_time": "2022-11-22T02:38:23.519Z"
   },
   {
    "duration": 287,
    "start_time": "2022-11-22T02:44:55.566Z"
   },
   {
    "duration": 340,
    "start_time": "2022-11-22T02:46:15.068Z"
   },
   {
    "duration": 600,
    "start_time": "2022-11-22T02:48:05.034Z"
   },
   {
    "duration": 2,
    "start_time": "2022-11-22T02:48:46.964Z"
   },
   {
    "duration": 8,
    "start_time": "2022-11-22T02:51:00.608Z"
   },
   {
    "duration": 48,
    "start_time": "2022-11-22T12:42:11.202Z"
   },
   {
    "duration": 1747,
    "start_time": "2022-11-22T12:42:15.235Z"
   },
   {
    "duration": 1025,
    "start_time": "2022-11-22T12:42:16.984Z"
   },
   {
    "duration": 424,
    "start_time": "2022-11-22T12:42:20.464Z"
   },
   {
    "duration": 110,
    "start_time": "2022-11-22T12:59:37.258Z"
   },
   {
    "duration": 108,
    "start_time": "2022-11-22T13:02:43.137Z"
   },
   {
    "duration": 23,
    "start_time": "2022-11-22T13:06:42.247Z"
   },
   {
    "duration": 1091,
    "start_time": "2022-11-22T13:07:34.754Z"
   },
   {
    "duration": 41,
    "start_time": "2022-11-22T13:07:42.519Z"
   },
   {
    "duration": 23,
    "start_time": "2022-11-22T13:08:01.490Z"
   },
   {
    "duration": 23,
    "start_time": "2022-11-22T13:08:24.818Z"
   },
   {
    "duration": 24,
    "start_time": "2022-11-22T13:08:32.071Z"
   },
   {
    "duration": 22,
    "start_time": "2022-11-22T13:08:39.397Z"
   },
   {
    "duration": 1480,
    "start_time": "2022-11-22T13:10:16.753Z"
   },
   {
    "duration": 798,
    "start_time": "2022-11-22T13:10:18.235Z"
   },
   {
    "duration": 136,
    "start_time": "2022-11-22T13:10:19.035Z"
   },
   {
    "duration": 452,
    "start_time": "2022-11-22T13:10:19.173Z"
   },
   {
    "duration": 121,
    "start_time": "2022-11-22T13:10:19.627Z"
   },
   {
    "duration": 0,
    "start_time": "2022-11-22T13:10:19.750Z"
   },
   {
    "duration": 0,
    "start_time": "2022-11-22T13:10:19.752Z"
   },
   {
    "duration": 0,
    "start_time": "2022-11-22T13:10:19.753Z"
   },
   {
    "duration": 0,
    "start_time": "2022-11-22T13:10:19.754Z"
   },
   {
    "duration": 0,
    "start_time": "2022-11-22T13:10:19.755Z"
   },
   {
    "duration": 0,
    "start_time": "2022-11-22T13:10:19.756Z"
   },
   {
    "duration": 0,
    "start_time": "2022-11-22T13:10:19.757Z"
   },
   {
    "duration": 0,
    "start_time": "2022-11-22T13:10:19.758Z"
   },
   {
    "duration": 0,
    "start_time": "2022-11-22T13:10:19.759Z"
   },
   {
    "duration": 0,
    "start_time": "2022-11-22T13:10:19.760Z"
   },
   {
    "duration": 0,
    "start_time": "2022-11-22T13:10:19.761Z"
   },
   {
    "duration": 0,
    "start_time": "2022-11-22T13:10:19.763Z"
   },
   {
    "duration": 0,
    "start_time": "2022-11-22T13:10:19.764Z"
   },
   {
    "duration": 0,
    "start_time": "2022-11-22T13:10:19.765Z"
   },
   {
    "duration": 0,
    "start_time": "2022-11-22T13:10:19.766Z"
   },
   {
    "duration": 0,
    "start_time": "2022-11-22T13:10:19.796Z"
   },
   {
    "duration": 0,
    "start_time": "2022-11-22T13:10:19.797Z"
   },
   {
    "duration": 0,
    "start_time": "2022-11-22T13:10:19.798Z"
   },
   {
    "duration": 0,
    "start_time": "2022-11-22T13:10:19.799Z"
   },
   {
    "duration": 0,
    "start_time": "2022-11-22T13:10:19.800Z"
   },
   {
    "duration": 0,
    "start_time": "2022-11-22T13:10:19.801Z"
   },
   {
    "duration": 0,
    "start_time": "2022-11-22T13:10:19.802Z"
   },
   {
    "duration": 0,
    "start_time": "2022-11-22T13:10:19.803Z"
   },
   {
    "duration": 0,
    "start_time": "2022-11-22T13:10:19.804Z"
   },
   {
    "duration": 0,
    "start_time": "2022-11-22T13:10:19.805Z"
   },
   {
    "duration": 0,
    "start_time": "2022-11-22T13:10:19.806Z"
   },
   {
    "duration": 0,
    "start_time": "2022-11-22T13:10:19.808Z"
   },
   {
    "duration": 0,
    "start_time": "2022-11-22T13:10:19.809Z"
   },
   {
    "duration": 0,
    "start_time": "2022-11-22T13:10:19.810Z"
   },
   {
    "duration": 0,
    "start_time": "2022-11-22T13:10:19.811Z"
   },
   {
    "duration": 0,
    "start_time": "2022-11-22T13:10:19.812Z"
   },
   {
    "duration": 0,
    "start_time": "2022-11-22T13:10:19.814Z"
   },
   {
    "duration": 0,
    "start_time": "2022-11-22T13:10:19.815Z"
   },
   {
    "duration": 0,
    "start_time": "2022-11-22T13:10:19.816Z"
   },
   {
    "duration": 0,
    "start_time": "2022-11-22T13:10:19.817Z"
   },
   {
    "duration": 0,
    "start_time": "2022-11-22T13:10:19.818Z"
   },
   {
    "duration": 0,
    "start_time": "2022-11-22T13:10:19.819Z"
   },
   {
    "duration": 1568,
    "start_time": "2022-11-22T13:10:45.203Z"
   },
   {
    "duration": 782,
    "start_time": "2022-11-22T13:10:46.773Z"
   },
   {
    "duration": 113,
    "start_time": "2022-11-22T13:10:47.556Z"
   },
   {
    "duration": 450,
    "start_time": "2022-11-22T13:10:47.671Z"
   },
   {
    "duration": 530,
    "start_time": "2022-11-22T13:10:48.123Z"
   },
   {
    "duration": 53,
    "start_time": "2022-11-22T13:10:48.655Z"
   },
   {
    "duration": 11,
    "start_time": "2022-11-22T13:10:48.710Z"
   },
   {
    "duration": 79,
    "start_time": "2022-11-22T13:10:48.723Z"
   },
   {
    "duration": 24,
    "start_time": "2022-11-22T13:10:48.803Z"
   },
   {
    "duration": 8251,
    "start_time": "2022-11-22T13:10:48.830Z"
   },
   {
    "duration": 79,
    "start_time": "2022-11-22T13:10:57.082Z"
   },
   {
    "duration": 109,
    "start_time": "2022-11-22T13:10:57.162Z"
   },
   {
    "duration": 773,
    "start_time": "2022-11-22T13:10:57.273Z"
   },
   {
    "duration": 32,
    "start_time": "2022-11-22T13:10:58.047Z"
   },
   {
    "duration": 600,
    "start_time": "2022-11-22T13:10:58.081Z"
   },
   {
    "duration": 31,
    "start_time": "2022-11-22T13:10:58.682Z"
   },
   {
    "duration": 32,
    "start_time": "2022-11-22T13:10:58.715Z"
   },
   {
    "duration": 1645,
    "start_time": "2022-11-22T13:10:58.748Z"
   },
   {
    "duration": 23,
    "start_time": "2022-11-22T13:11:00.396Z"
   },
   {
    "duration": 177,
    "start_time": "2022-11-22T13:11:00.421Z"
   },
   {
    "duration": 76,
    "start_time": "2022-11-22T13:11:00.600Z"
   },
   {
    "duration": 25,
    "start_time": "2022-11-22T13:11:00.678Z"
   },
   {
    "duration": 45,
    "start_time": "2022-11-22T13:11:00.705Z"
   },
   {
    "duration": 137,
    "start_time": "2022-11-22T13:11:00.752Z"
   },
   {
    "duration": 82,
    "start_time": "2022-11-22T13:11:00.891Z"
   },
   {
    "duration": 60,
    "start_time": "2022-11-22T13:11:00.975Z"
   },
   {
    "duration": 15,
    "start_time": "2022-11-22T13:11:01.037Z"
   },
   {
    "duration": 37,
    "start_time": "2022-11-22T13:11:01.055Z"
   },
   {
    "duration": 602,
    "start_time": "2022-11-22T13:11:01.094Z"
   },
   {
    "duration": 272,
    "start_time": "2022-11-22T13:11:01.698Z"
   },
   {
    "duration": 710,
    "start_time": "2022-11-22T13:11:01.972Z"
   },
   {
    "duration": 3,
    "start_time": "2022-11-22T13:11:02.684Z"
   },
   {
    "duration": 9,
    "start_time": "2022-11-22T13:11:02.696Z"
   },
   {
    "duration": 48113,
    "start_time": "2022-11-22T13:11:02.706Z"
   }
  ],
  "kernelspec": {
   "display_name": "Python 3 (ipykernel)",
   "language": "python",
   "name": "python3"
  },
  "language_info": {
   "codemirror_mode": {
    "name": "ipython",
    "version": 3
   },
   "file_extension": ".py",
   "mimetype": "text/x-python",
   "name": "python",
   "nbconvert_exporter": "python",
   "pygments_lexer": "ipython3",
   "version": "3.9.6"
  },
  "toc": {
   "base_numbering": 1,
   "nav_menu": {},
   "number_sections": true,
   "sideBar": true,
   "skip_h1_title": true,
   "title_cell": "Table of Contents",
   "title_sidebar": "Contents",
   "toc_cell": false,
   "toc_position": {},
   "toc_section_display": true,
   "toc_window_display": true
  }
 },
 "nbformat": 4,
 "nbformat_minor": 4
}
