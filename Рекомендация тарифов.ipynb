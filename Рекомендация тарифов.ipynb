{
 "cells": [
  {
   "cell_type": "markdown",
   "metadata": {},
   "source": [
    "# Рекомендация тарифов"
   ]
  },
  {
   "cell_type": "markdown",
   "metadata": {},
   "source": [
    "В вашем распоряжении данные о поведении клиентов, которые уже перешли на эти тарифы (из проекта курса «Статистический анализ данных»). Нужно построить модель для задачи классификации, которая выберет подходящий тариф. Предобработка данных не понадобится — вы её уже сделали.\n",
    "\n",
    "Постройте модель с максимально большим значением *accuracy*. Чтобы сдать проект успешно, нужно довести долю правильных ответов по крайней мере до 0.75. Проверьте *accuracy* на тестовой выборке самостоятельно."
   ]
  },
  {
   "cell_type": "markdown",
   "metadata": {},
   "source": [
    "## Откройте и изучите файл"
   ]
  },
  {
   "cell_type": "code",
   "execution_count": 1,
   "metadata": {},
   "outputs": [],
   "source": [
    "import pandas as pd\n",
    "from sklearn.model_selection import train_test_split\n",
    "from sklearn.tree import DecisionTreeClassifier\n",
    "from sklearn.ensemble import RandomForestClassifier\n",
    "from sklearn.linear_model import LogisticRegression\n",
    "from sklearn.metrics import accuracy_score"
   ]
  },
  {
   "cell_type": "code",
   "execution_count": 2,
   "metadata": {},
   "outputs": [
    {
     "data": {
      "text/html": [
       "<div>\n",
       "<style scoped>\n",
       "    .dataframe tbody tr th:only-of-type {\n",
       "        vertical-align: middle;\n",
       "    }\n",
       "\n",
       "    .dataframe tbody tr th {\n",
       "        vertical-align: top;\n",
       "    }\n",
       "\n",
       "    .dataframe thead th {\n",
       "        text-align: right;\n",
       "    }\n",
       "</style>\n",
       "<table border=\"1\" class=\"dataframe\">\n",
       "  <thead>\n",
       "    <tr style=\"text-align: right;\">\n",
       "      <th></th>\n",
       "      <th>calls</th>\n",
       "      <th>minutes</th>\n",
       "      <th>messages</th>\n",
       "      <th>mb_used</th>\n",
       "      <th>is_ultra</th>\n",
       "    </tr>\n",
       "  </thead>\n",
       "  <tbody>\n",
       "    <tr>\n",
       "      <th>0</th>\n",
       "      <td>40.0</td>\n",
       "      <td>311.90</td>\n",
       "      <td>83.0</td>\n",
       "      <td>19915.42</td>\n",
       "      <td>0</td>\n",
       "    </tr>\n",
       "    <tr>\n",
       "      <th>1</th>\n",
       "      <td>85.0</td>\n",
       "      <td>516.75</td>\n",
       "      <td>56.0</td>\n",
       "      <td>22696.96</td>\n",
       "      <td>0</td>\n",
       "    </tr>\n",
       "    <tr>\n",
       "      <th>2</th>\n",
       "      <td>77.0</td>\n",
       "      <td>467.66</td>\n",
       "      <td>86.0</td>\n",
       "      <td>21060.45</td>\n",
       "      <td>0</td>\n",
       "    </tr>\n",
       "    <tr>\n",
       "      <th>3</th>\n",
       "      <td>106.0</td>\n",
       "      <td>745.53</td>\n",
       "      <td>81.0</td>\n",
       "      <td>8437.39</td>\n",
       "      <td>1</td>\n",
       "    </tr>\n",
       "    <tr>\n",
       "      <th>4</th>\n",
       "      <td>66.0</td>\n",
       "      <td>418.74</td>\n",
       "      <td>1.0</td>\n",
       "      <td>14502.75</td>\n",
       "      <td>0</td>\n",
       "    </tr>\n",
       "  </tbody>\n",
       "</table>\n",
       "</div>"
      ],
      "text/plain": [
       "   calls  minutes  messages   mb_used  is_ultra\n",
       "0   40.0   311.90      83.0  19915.42         0\n",
       "1   85.0   516.75      56.0  22696.96         0\n",
       "2   77.0   467.66      86.0  21060.45         0\n",
       "3  106.0   745.53      81.0   8437.39         1\n",
       "4   66.0   418.74       1.0  14502.75         0"
      ]
     },
     "execution_count": 2,
     "metadata": {},
     "output_type": "execute_result"
    }
   ],
   "source": [
    "df = pd.read_csv('/datasets/users_behavior.csv')\n",
    "\n",
    "df.head(5)"
   ]
  },
  {
   "cell_type": "markdown",
   "metadata": {},
   "source": [
    "## Разбейте данные на выборки"
   ]
  },
  {
   "cell_type": "code",
   "execution_count": 3,
   "metadata": {},
   "outputs": [],
   "source": [
    "#разделим данные на признаки и цели \n",
    "features = df.drop(columns='is_ultra', axis=1)\n",
    "target = df['is_ultra']"
   ]
  },
  {
   "cell_type": "code",
   "execution_count": 4,
   "metadata": {},
   "outputs": [],
   "source": [
    "#Разделим признаки и цели на: основные 60% (f_train,t_tain), вилидационные 20% (f_valid,t_valid), тестовые 20% (f_test,t_test)\n",
    "\n",
    "f, features_valid, t, target_valid = train_test_split(features, target, test_size=0.20, random_state=12345)\n",
    "\n",
    "features_train, features_test, target_train, target_test = train_test_split(f,t, test_size=0.25, random_state=12345)"
   ]
  },
  {
   "cell_type": "markdown",
   "metadata": {},
   "source": [
    "## Исследуйте модели"
   ]
  },
  {
   "cell_type": "code",
   "execution_count": 5,
   "metadata": {},
   "outputs": [],
   "source": [
    "# Создадим функцию для проверки сразу всех моделей с разными гиперпараметрами которая вернёт нам датафрэйм с колонками 'models'\n",
    "# и'results' в которых будут лучшие модели и их результаты.\n",
    "def test_models(f_train, t_train, f_valid, t_valid):\n",
    "    depth = 1\n",
    "    estimators = 1\n",
    "    \n",
    "    def metod_list_form(depth, estimators):\n",
    "        metod_list = [[DecisionTreeClassifier(random_state=12345, max_depth=depth),11,2],\n",
    "                      [RandomForestClassifier(random_state=12345, max_depth=depth, n_estimators=estimators),11,51],\n",
    "                      [LogisticRegression(random_state=12345),2,2]]\n",
    "        return metod_list\n",
    "    \n",
    "    result_df = pd.DataFrame(columns=['models','results'])\n",
    "    metod_list = metod_list_form(depth, estimators)\n",
    "    \n",
    "    for i in range(len(metod_list)):\n",
    "        best_model = None\n",
    "        best_result = 0\n",
    "        \n",
    "        for depth in range(1, metod_list[i][1]):\n",
    "            \n",
    "            for estimators in range(1, metod_list[i][2]):\n",
    "                model = metod_list[i][0]\n",
    "                model.fit(f_train,t_train) \n",
    "                predictions = model.predict(f_valid) \n",
    "                result = accuracy_score(t_valid, predictions) \n",
    "                metod_list = metod_list_form(depth, estimators)\n",
    "                \n",
    "                if result > best_result:\n",
    "                    best_model = model\n",
    "                    best_result = result\n",
    "                    \n",
    "        result_df.loc[len(result_df.index)] = [best_model,best_result] \n",
    "    return result_df\n",
    "                       "
   ]
  },
  {
   "cell_type": "code",
   "execution_count": 6,
   "metadata": {},
   "outputs": [
    {
     "name": "stdout",
     "output_type": "stream",
     "text": [
      "DecisionTreeClassifier(max_depth=5, random_state=12345) :  0.7884914463452566\n",
      "RandomForestClassifier(max_depth=7, n_estimators=3, random_state=12345) :  0.80248833592535\n",
      "LogisticRegression(random_state=12345) :  0.7589424572317263\n"
     ]
    }
   ],
   "source": [
    "best_top_models = test_models(features_train, target_train, features_valid, target_valid) #вызываем функию для проверки\n",
    "\n",
    "# выводим получившиеся результаты\n",
    "print(best_top_models['models'][0],': ',best_top_models['results'][0])\n",
    "print(best_top_models['models'][1],': ',best_top_models['results'][1])\n",
    "print(best_top_models['models'][2],': ',best_top_models['results'][2])"
   ]
  },
  {
   "cell_type": "markdown",
   "metadata": {},
   "source": [
    "По результатам  исследования лучше всего себя показала модель рандомного леса с гиперпараметрами max_depth=7 и n_estimators=3,\n",
    "на втором месте дерево решений, и на третьем месте модель логической регрессии. "
   ]
  },
  {
   "cell_type": "code",
   "execution_count": 7,
   "metadata": {},
   "outputs": [],
   "source": [
    "# Выделяем лучшую модель \n",
    "best_top_models = best_top_models.sort_values('results', ascending=False ).head(1).reset_index(drop=True)['models'][0]"
   ]
  },
  {
   "cell_type": "markdown",
   "metadata": {},
   "source": [
    "## Проверьте модель на тестовой выборке"
   ]
  },
  {
   "cell_type": "code",
   "execution_count": 8,
   "metadata": {},
   "outputs": [
    {
     "name": "stdout",
     "output_type": "stream",
     "text": [
      "Точнось предсказания для тестовой выборки: 0.776049766718507\n"
     ]
    }
   ],
   "source": [
    "# Проверяем лучшую модель на тестовой выборке\n",
    "model = best_top_models\n",
    "predictions = model.predict(features_test)\n",
    "accuracy = accuracy_score(target_test, predictions)\n",
    "\n",
    "print('Точнось предсказания для тестовой выборки:',accuracy)\n"
   ]
  },
  {
   "cell_type": "markdown",
   "metadata": {},
   "source": [
    "Точно предсказания составила более 0.77 при необходимых 0.75 это нас устраивает."
   ]
  },
  {
   "cell_type": "markdown",
   "metadata": {},
   "source": [
    "## (бонус) Проверьте модели на адекватность"
   ]
  },
  {
   "cell_type": "markdown",
   "metadata": {},
   "source": [
    "Проверим как покажет себя константная модель."
   ]
  },
  {
   "cell_type": "code",
   "execution_count": 9,
   "metadata": {},
   "outputs": [
    {
     "data": {
      "text/plain": [
       "<AxesSubplot:ylabel='is_ultra'>"
      ]
     },
     "execution_count": 9,
     "metadata": {},
     "output_type": "execute_result"
    },
    {
     "data": {
      "image/png": "[encoded data removed]",
      "text/plain": [
       "<Figure size 360x360 with 1 Axes>"
      ]
     },
     "metadata": {},
     "output_type": "display_data"
    }
   ],
   "source": [
    "#выясняем какие ответы встречаются чаще \n",
    "target_train.groupby(target_train > 0).count().plot(kind='pie', autopct=\"%.2f\", figsize=(5,5)) "
   ]
  },
  {
   "cell_type": "code",
   "execution_count": 10,
   "metadata": {},
   "outputs": [
    {
     "name": "stdout",
     "output_type": "stream",
     "text": [
      "Точность константной модели: 0.6951788491446346\n"
     ]
    }
   ],
   "source": [
    "# Создадим константную выборку с значением 0 \n",
    "target_const = pd.Series([0]*len(target_valid)) \n",
    "\n",
    "# Проверяем точно константной выборки\n",
    "accuracy = accuracy_score(target_valid, target_const)\n",
    "\n",
    "print('Точность константной модели:',accuracy)"
   ]
  },
  {
   "cell_type": "markdown",
   "metadata": {},
   "source": [
    "Все модели оказались точнее константной модели. "
   ]
  }
 ],
 "metadata": {
  "ExecuteTimeLog": [
   {
    "duration": 354,
    "start_time": "2022-08-12T16:56:13.331Z"
   },
   {
    "duration": 46,
    "start_time": "2022-08-12T16:56:21.738Z"
   },
   {
    "duration": 132,
    "start_time": "2022-08-12T16:56:33.104Z"
   },
   {
    "duration": 651,
    "start_time": "2022-08-12T17:26:00.856Z"
   },
   {
    "duration": 2,
    "start_time": "2022-08-12T17:26:02.185Z"
   },
   {
    "duration": 38,
    "start_time": "2022-08-12T17:30:20.171Z"
   },
   {
    "duration": 1000,
    "start_time": "2022-08-12T17:36:07.375Z"
   },
   {
    "duration": 108,
    "start_time": "2022-08-12T17:36:08.377Z"
   },
   {
    "duration": 0,
    "start_time": "2022-08-12T17:36:08.487Z"
   },
   {
    "duration": 42,
    "start_time": "2022-08-12T17:36:15.590Z"
   },
   {
    "duration": 4,
    "start_time": "2022-08-12T17:36:17.336Z"
   },
   {
    "duration": 7,
    "start_time": "2022-08-12T17:43:21.475Z"
   },
   {
    "duration": 7,
    "start_time": "2022-08-12T17:46:42.783Z"
   },
   {
    "duration": 7,
    "start_time": "2022-08-12T17:52:53.466Z"
   },
   {
    "duration": 48,
    "start_time": "2022-08-12T18:23:44.025Z"
   },
   {
    "duration": 11,
    "start_time": "2022-08-12T18:23:53.211Z"
   },
   {
    "duration": 13,
    "start_time": "2022-08-12T18:41:49.125Z"
   },
   {
    "duration": 45,
    "start_time": "2022-08-12T18:42:42.583Z"
   },
   {
    "duration": 15,
    "start_time": "2022-08-12T18:42:53.036Z"
   },
   {
    "duration": 953,
    "start_time": "2022-08-12T18:43:16.837Z"
   },
   {
    "duration": 45,
    "start_time": "2022-08-12T18:43:17.792Z"
   },
   {
    "duration": 4,
    "start_time": "2022-08-12T18:43:17.839Z"
   },
   {
    "duration": 19,
    "start_time": "2022-08-12T18:43:17.844Z"
   },
   {
    "duration": 102,
    "start_time": "2022-08-12T18:43:17.865Z"
   },
   {
    "duration": 9,
    "start_time": "2022-08-12T18:43:34.132Z"
   },
   {
    "duration": 7,
    "start_time": "2022-08-12T18:43:40.033Z"
   },
   {
    "duration": 20,
    "start_time": "2022-08-12T18:43:41.577Z"
   },
   {
    "duration": 3,
    "start_time": "2022-08-12T18:44:41.986Z"
   },
   {
    "duration": 17,
    "start_time": "2022-08-12T18:44:45.260Z"
   },
   {
    "duration": 53,
    "start_time": "2022-08-12T18:45:11.702Z"
   },
   {
    "duration": 48,
    "start_time": "2022-08-12T18:45:52.524Z"
   },
   {
    "duration": 3,
    "start_time": "2022-08-12T18:53:24.120Z"
   },
   {
    "duration": 119,
    "start_time": "2022-08-12T20:26:43.835Z"
   },
   {
    "duration": 57,
    "start_time": "2022-08-12T20:26:51.484Z"
   },
   {
    "duration": 78,
    "start_time": "2022-08-12T20:27:00.675Z"
   },
   {
    "duration": 57,
    "start_time": "2022-08-12T20:27:09.498Z"
   },
   {
    "duration": 13,
    "start_time": "2022-08-12T20:27:19.303Z"
   },
   {
    "duration": 14,
    "start_time": "2022-08-12T20:27:41.458Z"
   },
   {
    "duration": 1099,
    "start_time": "2022-08-12T20:27:51.394Z"
   },
   {
    "duration": 45,
    "start_time": "2022-08-12T20:27:52.495Z"
   },
   {
    "duration": 4,
    "start_time": "2022-08-12T20:27:52.542Z"
   },
   {
    "duration": 9,
    "start_time": "2022-08-12T20:27:52.547Z"
   },
   {
    "duration": 98,
    "start_time": "2022-08-12T20:27:52.558Z"
   },
   {
    "duration": 14,
    "start_time": "2022-08-12T20:28:45.487Z"
   },
   {
    "duration": 14,
    "start_time": "2022-08-12T20:48:23.370Z"
   },
   {
    "duration": 17,
    "start_time": "2022-08-12T20:52:05.423Z"
   },
   {
    "duration": 16,
    "start_time": "2022-08-12T20:52:19.831Z"
   },
   {
    "duration": 16,
    "start_time": "2022-08-12T20:54:01.207Z"
   },
   {
    "duration": 18,
    "start_time": "2022-08-12T21:01:01.498Z"
   },
   {
    "duration": 2286,
    "start_time": "2022-08-12T21:01:38.426Z"
   },
   {
    "duration": 1990,
    "start_time": "2022-08-12T21:02:47.422Z"
   },
   {
    "duration": 2039,
    "start_time": "2022-08-12T21:03:32.913Z"
   },
   {
    "duration": 2012,
    "start_time": "2022-08-12T21:03:46.998Z"
   },
   {
    "duration": 2466,
    "start_time": "2022-08-12T21:05:25.388Z"
   },
   {
    "duration": 108,
    "start_time": "2022-08-12T21:11:42.428Z"
   },
   {
    "duration": 2463,
    "start_time": "2022-08-12T21:12:44.341Z"
   },
   {
    "duration": 15,
    "start_time": "2022-08-12T21:18:21.372Z"
   },
   {
    "duration": 14,
    "start_time": "2022-08-12T21:18:33.468Z"
   },
   {
    "duration": 14,
    "start_time": "2022-08-12T21:23:42.321Z"
   },
   {
    "duration": 68,
    "start_time": "2022-08-12T21:25:04.069Z"
   },
   {
    "duration": 90,
    "start_time": "2022-08-12T21:25:59.277Z"
   },
   {
    "duration": 15,
    "start_time": "2022-08-12T21:29:08.151Z"
   },
   {
    "duration": 14,
    "start_time": "2022-08-12T21:29:41.163Z"
   },
   {
    "duration": 2479,
    "start_time": "2022-08-12T21:31:37.851Z"
   },
   {
    "duration": 14,
    "start_time": "2022-08-12T21:33:49.611Z"
   },
   {
    "duration": 24689,
    "start_time": "2022-08-12T21:34:29.511Z"
   },
   {
    "duration": 6,
    "start_time": "2022-08-12T21:46:31.994Z"
   },
   {
    "duration": 24524,
    "start_time": "2022-08-12T21:46:41.389Z"
   },
   {
    "duration": 24694,
    "start_time": "2022-08-12T21:47:32.561Z"
   },
   {
    "duration": 5,
    "start_time": "2022-08-12T21:48:08.021Z"
   },
   {
    "duration": 25570,
    "start_time": "2022-08-12T21:56:44.171Z"
   },
   {
    "duration": 25083,
    "start_time": "2022-08-12T21:57:12.703Z"
   },
   {
    "duration": 9,
    "start_time": "2022-08-12T21:58:20.916Z"
   },
   {
    "duration": 71,
    "start_time": "2022-08-12T22:04:51.697Z"
   },
   {
    "duration": 72,
    "start_time": "2022-08-12T22:06:34.624Z"
   },
   {
    "duration": 22954,
    "start_time": "2022-08-12T22:07:21.929Z"
   },
   {
    "duration": 89,
    "start_time": "2022-08-12T22:08:53.995Z"
   },
   {
    "duration": 23,
    "start_time": "2022-08-12T22:09:09.699Z"
   },
   {
    "duration": 78,
    "start_time": "2022-08-12T22:09:45.256Z"
   },
   {
    "duration": 1743,
    "start_time": "2022-08-12T22:10:03.620Z"
   },
   {
    "duration": 26481,
    "start_time": "2022-08-12T22:10:39.442Z"
   },
   {
    "duration": 11,
    "start_time": "2022-08-12T22:11:34.152Z"
   },
   {
    "duration": 9,
    "start_time": "2022-08-12T22:12:36.939Z"
   },
   {
    "duration": 9,
    "start_time": "2022-08-12T22:12:46.103Z"
   },
   {
    "duration": 11,
    "start_time": "2022-08-12T22:12:59.305Z"
   },
   {
    "duration": 10,
    "start_time": "2022-08-12T22:15:25.303Z"
   },
   {
    "duration": 5,
    "start_time": "2022-08-12T22:16:01.691Z"
   },
   {
    "duration": 7,
    "start_time": "2022-08-12T22:16:50.602Z"
   },
   {
    "duration": 6,
    "start_time": "2022-08-12T22:17:00.849Z"
   },
   {
    "duration": 6,
    "start_time": "2022-08-12T22:17:05.301Z"
   },
   {
    "duration": 5,
    "start_time": "2022-08-12T22:17:09.259Z"
   },
   {
    "duration": 7,
    "start_time": "2022-08-12T22:17:16.729Z"
   },
   {
    "duration": 9,
    "start_time": "2022-08-12T22:17:39.394Z"
   },
   {
    "duration": 10,
    "start_time": "2022-08-12T22:17:45.463Z"
   },
   {
    "duration": 9,
    "start_time": "2022-08-12T22:17:51.393Z"
   },
   {
    "duration": 9,
    "start_time": "2022-08-12T22:18:04.584Z"
   },
   {
    "duration": 6,
    "start_time": "2022-08-12T22:19:15.247Z"
   },
   {
    "duration": 6,
    "start_time": "2022-08-12T22:19:22.321Z"
   },
   {
    "duration": 5,
    "start_time": "2022-08-12T22:19:26.333Z"
   },
   {
    "duration": 5,
    "start_time": "2022-08-12T22:19:29.924Z"
   },
   {
    "duration": 8,
    "start_time": "2022-08-12T22:19:34.944Z"
   },
   {
    "duration": 10,
    "start_time": "2022-08-12T22:19:56.387Z"
   },
   {
    "duration": 814,
    "start_time": "2022-08-12T22:23:11.603Z"
   },
   {
    "duration": 5,
    "start_time": "2022-08-12T22:23:25.100Z"
   },
   {
    "duration": 747,
    "start_time": "2022-08-12T22:23:49.045Z"
   },
   {
    "duration": 13,
    "start_time": "2022-08-12T22:24:22.524Z"
   },
   {
    "duration": 5,
    "start_time": "2022-08-12T22:24:52.264Z"
   },
   {
    "duration": 13,
    "start_time": "2022-08-12T22:24:59.025Z"
   },
   {
    "duration": 768,
    "start_time": "2022-08-12T22:27:28.870Z"
   },
   {
    "duration": 3,
    "start_time": "2022-08-12T22:27:35.921Z"
   },
   {
    "duration": 8,
    "start_time": "2022-08-12T22:27:44.161Z"
   },
   {
    "duration": 11,
    "start_time": "2022-08-12T22:31:07.725Z"
   },
   {
    "duration": 4,
    "start_time": "2022-08-12T22:31:41.186Z"
   },
   {
    "duration": 9,
    "start_time": "2022-08-12T22:33:04.334Z"
   },
   {
    "duration": 10,
    "start_time": "2022-08-12T22:34:12.734Z"
   },
   {
    "duration": 5,
    "start_time": "2022-08-12T22:34:19.255Z"
   },
   {
    "duration": 18,
    "start_time": "2022-08-12T22:35:35.498Z"
   },
   {
    "duration": 8,
    "start_time": "2022-08-12T22:36:38.156Z"
   },
   {
    "duration": 1010,
    "start_time": "2022-08-12T22:36:46.194Z"
   },
   {
    "duration": 44,
    "start_time": "2022-08-12T22:36:47.206Z"
   },
   {
    "duration": 3,
    "start_time": "2022-08-12T22:36:47.252Z"
   },
   {
    "duration": 8,
    "start_time": "2022-08-12T22:36:47.257Z"
   },
   {
    "duration": 24580,
    "start_time": "2022-08-12T22:36:47.266Z"
   },
   {
    "duration": 10,
    "start_time": "2022-08-12T22:37:11.847Z"
   },
   {
    "duration": 18,
    "start_time": "2022-08-12T22:37:11.859Z"
   },
   {
    "duration": 24642,
    "start_time": "2022-08-12T22:40:32.322Z"
   },
   {
    "duration": 10,
    "start_time": "2022-08-12T22:41:02.665Z"
   },
   {
    "duration": 5,
    "start_time": "2022-08-12T22:41:32.022Z"
   },
   {
    "duration": 1026,
    "start_time": "2022-08-12T22:41:54.868Z"
   },
   {
    "duration": 43,
    "start_time": "2022-08-12T22:41:55.896Z"
   },
   {
    "duration": 3,
    "start_time": "2022-08-12T22:41:55.941Z"
   },
   {
    "duration": 10,
    "start_time": "2022-08-12T22:41:55.945Z"
   },
   {
    "duration": 24431,
    "start_time": "2022-08-12T22:41:55.957Z"
   },
   {
    "duration": 10,
    "start_time": "2022-08-12T22:42:20.390Z"
   },
   {
    "duration": 39,
    "start_time": "2022-08-12T22:42:20.402Z"
   },
   {
    "duration": 9,
    "start_time": "2022-08-12T22:43:19.630Z"
   },
   {
    "duration": 23871,
    "start_time": "2022-08-12T22:44:03.613Z"
   },
   {
    "duration": 8,
    "start_time": "2022-08-12T22:44:31.922Z"
   },
   {
    "duration": 1076,
    "start_time": "2022-08-13T12:10:45.084Z"
   },
   {
    "duration": 85,
    "start_time": "2022-08-13T12:10:46.162Z"
   },
   {
    "duration": 4,
    "start_time": "2022-08-13T12:10:46.249Z"
   },
   {
    "duration": 13,
    "start_time": "2022-08-13T12:10:46.255Z"
   },
   {
    "duration": 30598,
    "start_time": "2022-08-13T12:10:46.271Z"
   },
   {
    "duration": 7,
    "start_time": "2022-08-13T12:11:16.871Z"
   },
   {
    "duration": 7,
    "start_time": "2022-08-13T12:11:16.880Z"
   },
   {
    "duration": 6,
    "start_time": "2022-08-13T12:15:06.825Z"
   },
   {
    "duration": 8,
    "start_time": "2022-08-13T12:15:14.482Z"
   },
   {
    "duration": 1022,
    "start_time": "2022-08-13T15:15:27.802Z"
   },
   {
    "duration": 46,
    "start_time": "2022-08-13T15:15:28.825Z"
   },
   {
    "duration": 3,
    "start_time": "2022-08-13T15:15:28.872Z"
   },
   {
    "duration": 8,
    "start_time": "2022-08-13T15:15:28.877Z"
   },
   {
    "duration": 29430,
    "start_time": "2022-08-13T15:15:28.886Z"
   },
   {
    "duration": 1296,
    "start_time": "2022-08-13T15:15:58.317Z"
   },
   {
    "duration": 0,
    "start_time": "2022-08-13T15:15:59.614Z"
   },
   {
    "duration": 12,
    "start_time": "2022-08-13T15:17:15.826Z"
   },
   {
    "duration": 12,
    "start_time": "2022-08-13T15:17:36.540Z"
   },
   {
    "duration": 5,
    "start_time": "2022-08-13T15:17:46.630Z"
   },
   {
    "duration": 9,
    "start_time": "2022-08-13T15:18:10.871Z"
   },
   {
    "duration": 3,
    "start_time": "2022-08-13T15:19:31.789Z"
   },
   {
    "duration": 10,
    "start_time": "2022-08-13T15:19:36.297Z"
   },
   {
    "duration": 13,
    "start_time": "2022-08-13T15:20:49.660Z"
   },
   {
    "duration": 4,
    "start_time": "2022-08-13T15:20:55.568Z"
   },
   {
    "duration": 10,
    "start_time": "2022-08-13T15:21:05.455Z"
   },
   {
    "duration": 4,
    "start_time": "2022-08-13T15:21:12.640Z"
   },
   {
    "duration": 7,
    "start_time": "2022-08-13T15:21:54.393Z"
   },
   {
    "duration": 450,
    "start_time": "2022-08-13T15:22:55.286Z"
   },
   {
    "duration": 326,
    "start_time": "2022-08-13T15:29:40.318Z"
   },
   {
    "duration": 9,
    "start_time": "2022-08-13T15:29:49.126Z"
   },
   {
    "duration": 123,
    "start_time": "2022-08-13T15:30:12.807Z"
   },
   {
    "duration": 12980,
    "start_time": "2022-08-13T15:31:43.640Z"
   },
   {
    "duration": 6,
    "start_time": "2022-08-13T15:32:16.481Z"
   },
   {
    "duration": 6,
    "start_time": "2022-08-13T15:33:18.207Z"
   },
   {
    "duration": 1089,
    "start_time": "2022-08-13T15:34:43.717Z"
   },
   {
    "duration": 11,
    "start_time": "2022-08-13T15:35:16.511Z"
   },
   {
    "duration": 9,
    "start_time": "2022-08-13T15:35:20.263Z"
   },
   {
    "duration": 13,
    "start_time": "2022-08-13T15:35:24.755Z"
   },
   {
    "duration": 12,
    "start_time": "2022-08-13T15:35:41.040Z"
   },
   {
    "duration": 5,
    "start_time": "2022-08-13T15:35:49.768Z"
   },
   {
    "duration": 13,
    "start_time": "2022-08-13T15:36:00.730Z"
   },
   {
    "duration": 5,
    "start_time": "2022-08-13T15:36:09.519Z"
   },
   {
    "duration": 14,
    "start_time": "2022-08-13T15:36:32.481Z"
   },
   {
    "duration": 6,
    "start_time": "2022-08-13T15:37:31.891Z"
   },
   {
    "duration": 4,
    "start_time": "2022-08-13T15:39:09.015Z"
   },
   {
    "duration": 159,
    "start_time": "2022-08-13T15:40:06.416Z"
   },
   {
    "duration": 161,
    "start_time": "2022-08-13T15:40:16.011Z"
   },
   {
    "duration": 10,
    "start_time": "2022-08-13T15:42:22.236Z"
   },
   {
    "duration": 12,
    "start_time": "2022-08-13T15:42:58.182Z"
   },
   {
    "duration": 13,
    "start_time": "2022-08-13T15:43:11.975Z"
   },
   {
    "duration": 11,
    "start_time": "2022-08-13T15:43:15.857Z"
   },
   {
    "duration": 12,
    "start_time": "2022-08-13T15:44:23.961Z"
   },
   {
    "duration": 6,
    "start_time": "2022-08-13T15:44:35.216Z"
   },
   {
    "duration": 16,
    "start_time": "2022-08-13T15:44:46.130Z"
   },
   {
    "duration": 6,
    "start_time": "2022-08-13T15:44:48.855Z"
   },
   {
    "duration": 8,
    "start_time": "2022-08-13T15:45:26.297Z"
   },
   {
    "duration": 11,
    "start_time": "2022-08-13T15:45:36.139Z"
   },
   {
    "duration": 6,
    "start_time": "2022-08-13T15:45:50.807Z"
   },
   {
    "duration": 88,
    "start_time": "2022-08-13T15:46:06.383Z"
   },
   {
    "duration": 78,
    "start_time": "2022-08-13T15:46:33.492Z"
   },
   {
    "duration": 5,
    "start_time": "2022-08-13T15:49:30.742Z"
   },
   {
    "duration": 13,
    "start_time": "2022-08-13T15:50:17.971Z"
   },
   {
    "duration": 5,
    "start_time": "2022-08-13T15:50:30.480Z"
   },
   {
    "duration": 5,
    "start_time": "2022-08-13T15:52:09.555Z"
   },
   {
    "duration": 5,
    "start_time": "2022-08-13T15:52:16.794Z"
   },
   {
    "duration": 69,
    "start_time": "2022-08-13T15:52:27.683Z"
   },
   {
    "duration": 5,
    "start_time": "2022-08-13T15:54:12.310Z"
   },
   {
    "duration": 17,
    "start_time": "2022-08-13T16:07:17.533Z"
   },
   {
    "duration": 28559,
    "start_time": "2022-08-13T16:09:59.920Z"
   },
   {
    "duration": 11,
    "start_time": "2022-08-13T16:13:10.252Z"
   },
   {
    "duration": 10,
    "start_time": "2022-08-13T16:13:15.237Z"
   },
   {
    "duration": 995,
    "start_time": "2022-08-13T16:13:38.918Z"
   },
   {
    "duration": 43,
    "start_time": "2022-08-13T16:13:39.915Z"
   },
   {
    "duration": 3,
    "start_time": "2022-08-13T16:13:39.960Z"
   },
   {
    "duration": 7,
    "start_time": "2022-08-13T16:13:39.965Z"
   },
   {
    "duration": 6,
    "start_time": "2022-08-13T16:13:39.973Z"
   },
   {
    "duration": 29097,
    "start_time": "2022-08-13T16:13:39.980Z"
   },
   {
    "duration": 4,
    "start_time": "2022-08-13T16:14:09.078Z"
   },
   {
    "duration": 10,
    "start_time": "2022-08-13T16:14:09.083Z"
   },
   {
    "duration": 71,
    "start_time": "2022-08-13T16:14:09.094Z"
   },
   {
    "duration": 0,
    "start_time": "2022-08-13T16:14:09.167Z"
   },
   {
    "duration": 0,
    "start_time": "2022-08-13T16:14:09.168Z"
   },
   {
    "duration": 323,
    "start_time": "2022-08-13T16:15:01.922Z"
   },
   {
    "duration": 5,
    "start_time": "2022-08-13T16:15:04.581Z"
   },
   {
    "duration": 5,
    "start_time": "2022-08-13T16:38:00.955Z"
   },
   {
    "duration": 1070,
    "start_time": "2022-08-13T16:39:32.957Z"
   },
   {
    "duration": 44,
    "start_time": "2022-08-13T16:39:34.029Z"
   },
   {
    "duration": 3,
    "start_time": "2022-08-13T16:39:34.075Z"
   },
   {
    "duration": 9,
    "start_time": "2022-08-13T16:39:34.081Z"
   },
   {
    "duration": 6,
    "start_time": "2022-08-13T16:39:34.091Z"
   },
   {
    "duration": 29974,
    "start_time": "2022-08-13T16:39:34.099Z"
   },
   {
    "duration": 4,
    "start_time": "2022-08-13T16:40:04.074Z"
   },
   {
    "duration": 10,
    "start_time": "2022-08-13T16:40:04.080Z"
   },
   {
    "duration": 295,
    "start_time": "2022-08-13T16:40:04.091Z"
   },
   {
    "duration": 5,
    "start_time": "2022-08-13T16:40:04.388Z"
   }
  ],
  "kernelspec": {
   "display_name": "Python 3 (ipykernel)",
   "language": "python",
   "name": "python3"
  },
  "language_info": {
   "codemirror_mode": {
    "name": "ipython",
    "version": 3
   },
   "file_extension": ".py",
   "mimetype": "text/x-python",
   "name": "python",
   "nbconvert_exporter": "python",
   "pygments_lexer": "ipython3",
   "version": "3.9.6"
  },
  "toc": {
   "base_numbering": 1,
   "nav_menu": {},
   "number_sections": true,
   "sideBar": true,
   "skip_h1_title": true,
   "title_cell": "Table of Contents",
   "title_sidebar": "Contents",
   "toc_cell": false,
   "toc_position": {},
   "toc_section_display": true,
   "toc_window_display": false
  }
 },
 "nbformat": 4,
 "nbformat_minor": 4
}
